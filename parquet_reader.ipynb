{
 "cells": [
  {
   "cell_type": "code",
   "execution_count": 1,
   "id": "ac7dcc28-b7e0-4d76-b407-1836514ebe5e",
   "metadata": {},
   "outputs": [],
   "source": [
    "import torch\n",
    "import math"
   ]
  },
  {
   "cell_type": "code",
   "execution_count": 17,
   "id": "814aafea-6e4f-4d6c-a33c-72811b0c44ae",
   "metadata": {},
   "outputs": [
    {
     "name": "stdout",
     "output_type": "stream",
     "text": [
      "Found existing installation: pyarrow 6.0.1\n",
      "Uninstalling pyarrow-6.0.1:\n",
      "  Successfully uninstalled pyarrow-6.0.1\n",
      "Collecting pyarrow\n",
      "  Using cached pyarrow-11.0.0-cp37-cp37m-manylinux_2_17_x86_64.manylinux2014_x86_64.whl (35.1 MB)\n",
      "Requirement already satisfied: numpy>=1.16.6 in /home/jovyan/.imgenv-jupyter-server-dfcbc5cc9913-0/lib/python3.7/site-packages (from pyarrow) (1.21.5)\n",
      "Installing collected packages: pyarrow\n",
      "Successfully installed pyarrow-11.0.0\n"
     ]
    }
   ],
   "source": [
    "!pip uninstall pyarrow -y\n",
    "!pip install pyarrow"
   ]
  },
  {
   "cell_type": "code",
   "execution_count": 1,
   "id": "7e7b617a-4811-443c-9127-3ce8fbd4436f",
   "metadata": {},
   "outputs": [],
   "source": [
    "import pyarrow as pa\n",
    "import pyarrow.parquet as pq"
   ]
  },
  {
   "cell_type": "code",
   "execution_count": 2,
   "id": "7d4e9855-e6ac-421a-b613-d7ea03498631",
   "metadata": {},
   "outputs": [
    {
     "data": {
      "text/plain": [
       "'11.0.0'"
      ]
     },
     "execution_count": 2,
     "metadata": {},
     "output_type": "execute_result"
    }
   ],
   "source": [
    "pa.__version__"
   ]
  },
  {
   "cell_type": "code",
   "execution_count": 3,
   "id": "cc4a84f2-4b93-4667-b851-48fb70aa74de",
   "metadata": {},
   "outputs": [
    {
     "name": "stdout",
     "output_type": "stream",
     "text": [
      "../../mts/data/competition_data_final_pqt/part-00000-aba60f69-2b63-4cc1-95ca-542598094698-c000.snappy.parquet\n",
      "../../mts/data/competition_data_final_pqt/part-00001-aba60f69-2b63-4cc1-95ca-542598094698-c000.snappy.parquet\n",
      "../../mts/data/competition_data_final_pqt/part-00002-aba60f69-2b63-4cc1-95ca-542598094698-c000.snappy.parquet\n",
      "../../mts/data/competition_data_final_pqt/part-00003-aba60f69-2b63-4cc1-95ca-542598094698-c000.snappy.parquet\n",
      "../../mts/data/competition_data_final_pqt/part-00004-aba60f69-2b63-4cc1-95ca-542598094698-c000.snappy.parquet\n",
      "../../mts/data/competition_data_final_pqt/part-00005-aba60f69-2b63-4cc1-95ca-542598094698-c000.snappy.parquet\n",
      "../../mts/data/competition_data_final_pqt/part-00006-aba60f69-2b63-4cc1-95ca-542598094698-c000.snappy.parquet\n",
      "../../mts/data/competition_data_final_pqt/part-00007-aba60f69-2b63-4cc1-95ca-542598094698-c000.snappy.parquet\n",
      "../../mts/data/competition_data_final_pqt/part-00008-aba60f69-2b63-4cc1-95ca-542598094698-c000.snappy.parquet\n",
      "../../mts/data/competition_data_final_pqt/part-00009-aba60f69-2b63-4cc1-95ca-542598094698-c000.snappy.parquet\n"
     ]
    }
   ],
   "source": [
    "# читаем все файлы из папки\n",
    "import glob\n",
    "parquet_files = glob.glob(\"../../mts/data/competition_data_final_pqt/*.parquet\")\n",
    "par = None\n",
    "for file in parquet_files:\n",
    "    print(file)\n",
    "    par1 = pq.read_table(file)\n",
    "    if par is None:\n",
    "        par = par1\n",
    "    else:\n",
    "        par = pa.concat_tables([par, par1])"
   ]
  },
  {
   "cell_type": "code",
   "execution_count": 4,
   "id": "c8d0c085-1885-4b58-8818-2ed82b1c8ff2",
   "metadata": {},
   "outputs": [
    {
     "data": {
      "text/plain": [
       "322899435"
      ]
     },
     "execution_count": 4,
     "metadata": {},
     "output_type": "execute_result"
    }
   ],
   "source": [
    "par.shape[0]"
   ]
  },
  {
   "cell_type": "code",
   "execution_count": 5,
   "id": "c8279c1b-ec95-41bf-b2ee-384e43c74bdb",
   "metadata": {
    "scrolled": true,
    "tags": []
   },
   "outputs": [
    {
     "data": {
      "text/plain": [
       "['region_name',\n",
       " 'city_name',\n",
       " 'cpe_manufacturer_name',\n",
       " 'cpe_model_name',\n",
       " 'url_host',\n",
       " 'cpe_type_cd',\n",
       " 'cpe_model_os_type',\n",
       " 'price',\n",
       " 'date',\n",
       " 'part_of_day',\n",
       " 'request_cnt',\n",
       " 'user_id']"
      ]
     },
     "execution_count": 5,
     "metadata": {},
     "output_type": "execute_result"
    }
   ],
   "source": [
    "par.column_names"
   ]
  },
  {
   "cell_type": "code",
   "execution_count": null,
   "id": "8ce96379-e3d5-47a5-ab6d-92ce21a26dcf",
   "metadata": {},
   "outputs": [],
   "source": [
    "# делаем энкодинг, если надо\n",
    "from sklearn.preprocessing import LabelEncoder\n",
    "cnl = LabelEncoder()\n",
    "cnl.fit(par['city_name'])\n",
    "\n",
    "url = LabelEncoder()\n",
    "url_enc = url.fit_transform(par['url_host'])"
   ]
  },
  {
   "cell_type": "code",
   "execution_count": null,
   "id": "d5afea45-86f8-42a7-83d8-07d41da30693",
   "metadata": {
    "scrolled": true,
    "tags": []
   },
   "outputs": [],
   "source": [
    "# добавим столбец, это оказывается просто\n",
    "par = par.append_column('url_enc', pa.array(url_enc))"
   ]
  },
  {
   "cell_type": "code",
   "execution_count": null,
   "id": "de5cd330-ceda-44c2-ad81-d6e9d7b0234d",
   "metadata": {},
   "outputs": [],
   "source": [
    "par.column_names"
   ]
  },
  {
   "cell_type": "code",
   "execution_count": 11,
   "id": "2a59d474-11f6-4bd3-8504-b413aedec240",
   "metadata": {
    "scrolled": true,
    "tags": []
   },
   "outputs": [
    {
     "name": "stdout",
     "output_type": "stream",
     "text": [
      "batch = 000, size = 1024\n",
      "{'city_name': tensor([409, 409, 409,  ..., 409, 409, 409], dtype=torch.int16), 'url_host': tensor([ 5788, 12900, 17626,  ..., 66084, 66084, 89341], dtype=torch.int32)}\n",
      "batch = 001, size = 1024\n",
      "{'city_name': tensor([409, 409, 409,  ..., 732, 732, 732], dtype=torch.int16), 'url_host': tensor([ 91266,   8960,  12900,  ...,  44040, 160875, 160876],\n",
      "       dtype=torch.int32)}\n",
      "batch = 002, size = 1024\n",
      "{'city_name': tensor([732, 732, 732,  ..., 732, 732, 732], dtype=torch.int16), 'url_host': tensor([160876, 174759, 180836,  ...,   5790,  49054, 111474],\n",
      "       dtype=torch.int32)}\n",
      "batch = 003, size = 1024\n",
      "{'city_name': tensor([732, 732, 311,  ..., 592, 592, 592], dtype=torch.int16), 'url_host': tensor([180836, 194523, 194523,  ..., 111473, 157450, 171045],\n",
      "       dtype=torch.int32)}\n",
      "batch = 004, size = 1024\n",
      "{'city_name': tensor([592, 592, 592,  ..., 592, 592, 592], dtype=torch.int16), 'url_host': tensor([  6318,  17626,  59366,  ..., 140099, 197762,  17626],\n",
      "       dtype=torch.int32)}\n",
      "batch = 005, size = 1024\n",
      "{'city_name': tensor([592, 592, 592,  ..., 319, 319, 240], dtype=torch.int16), 'url_host': tensor([ 59366,  59366,  65865,  ...,  59366, 138128, 153257],\n",
      "       dtype=torch.int32)}\n",
      "batch = 006, size = 1024\n",
      "{'city_name': tensor([319, 240, 240,  ..., 849, 849, 849], dtype=torch.int16), 'url_host': tensor([160868,  17626,  59366,  ..., 164712, 171045, 194523],\n",
      "       dtype=torch.int32)}\n",
      "batch = 007, size = 1024\n",
      "{'city_name': tensor([849, 849, 849,  ..., 849, 849, 849], dtype=torch.int16), 'url_host': tensor([195022, 195022, 195022,  ...,  59366,  65865,  65865],\n",
      "       dtype=torch.int32)}\n",
      "batch = 008, size = 1024\n",
      "{'city_name': tensor([849, 849, 849,  ..., 655, 655, 655], dtype=torch.int16), 'url_host': tensor([117489, 160868, 194523,  ..., 125409, 195022, 195022],\n",
      "       dtype=torch.int32)}\n",
      "batch = 009, size = 1024\n",
      "{'city_name': tensor([655, 655, 655,  ..., 655, 655, 655], dtype=torch.int16), 'url_host': tensor([197762,   5684,   5684,  ...,  67987,  98370, 156907],\n",
      "       dtype=torch.int32)}\n",
      "batch = 010, size = 1024\n",
      "{'city_name': tensor([655, 655, 655,  ..., 923, 923, 923], dtype=torch.int16), 'url_host': tensor([195022,   6317,  29613,  ...,  59366,  59366,  65865],\n",
      "       dtype=torch.int32)}\n",
      "batch = 011, size = 1024\n",
      "{'city_name': tensor([923, 923, 923,  ..., 923, 923, 923], dtype=torch.int16), 'url_host': tensor([ 65865, 162846, 194523,  ..., 114154, 142390, 194523],\n",
      "       dtype=torch.int32)}\n",
      "6.239289299119264 sec\n"
     ]
    }
   ],
   "source": [
    "import torch\n",
    "import time\n",
    "\n",
    "BATCH_SIZE = 1024\n",
    "\n",
    "#собираем батчи для обучения, с векторами чуть посложнее, но все в рамках простого\n",
    "st = time.perf_counter()\n",
    "\n",
    "for i, batch in enumerate(par.to_batches(max_chunksize = BATCH_SIZE)):\n",
    "    city_name = cnl.transform(batch['city_name'])\n",
    "    url_host  = url.transform(batch['url_host'])\n",
    "    city_name = torch.tensor(city_name, dtype=torch.int16)\n",
    "    url_host  = torch.tensor(url_host , dtype=torch.int32)\n",
    "    ret_batch = {\n",
    "            'city_name' : city_name, \n",
    "            'url_host'  : url_host,\n",
    "            }\n",
    "    print(f\"batch = {i:03}, size = {len(city_name)}\")\n",
    "    print(ret_batch)\n",
    "    if len(city_name) < BATCH_SIZE:\n",
    "        pass\n",
    "    if i > 10:\n",
    "        break\n",
    "    # print(ret_batch)\n",
    "et = time.perf_counter()\n",
    "\n",
    "print(f\"{et-st} sec\")"
   ]
  },
  {
   "cell_type": "code",
   "execution_count": null,
   "id": "edc50af8-d572-4139-b546-17a1b6e42ff7",
   "metadata": {},
   "outputs": [],
   "source": []
  },
  {
   "cell_type": "code",
   "execution_count": null,
   "id": "3270fadc-b624-40e5-96a8-385811bf99e0",
   "metadata": {},
   "outputs": [],
   "source": []
  }
 ],
 "metadata": {
  "kernelspec": {
   "display_name": "Python 3 (ipykernel)",
   "language": "python",
   "name": "python3"
  },
  "language_info": {
   "codemirror_mode": {
    "name": "ipython",
    "version": 3
   },
   "file_extension": ".py",
   "mimetype": "text/x-python",
   "name": "python",
   "nbconvert_exporter": "python",
   "pygments_lexer": "ipython3",
   "version": "3.7.12"
  }
 },
 "nbformat": 4,
 "nbformat_minor": 5
}
