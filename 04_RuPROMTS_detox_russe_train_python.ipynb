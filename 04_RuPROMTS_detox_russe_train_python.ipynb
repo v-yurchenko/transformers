{
 "cells": [
  {
   "cell_type": "code",
   "execution_count": 1,
   "metadata": {
    "colab": {
     "base_uri": "https://localhost:8080/"
    },
    "id": "ChUxW4QPp5u9",
    "outputId": "ea9dc539-61e1-4627-bc4c-b5b25cfef257"
   },
   "outputs": [
    {
     "name": "stdout",
     "output_type": "stream",
     "text": [
      "Requirement already satisfied: ruprompts in /home/user/conda/lib/python3.7/site-packages (0.1.4)\n",
      "Requirement already satisfied: transformers<5.0.0,>=4.6.0 in /home/jovyan/.imgenv-jupyter-server-dfcbc5cc9913-0/lib/python3.7/site-packages (from ruprompts) (4.26.1)\n",
      "Requirement already satisfied: typeguard<3.0.0,>=2.13.3 in /home/user/conda/lib/python3.7/site-packages (from ruprompts) (2.13.3)\n",
      "Requirement already satisfied: typing-extensions<5.0.0,>=4.0.1 in /home/user/conda/lib/python3.7/site-packages (from ruprompts) (4.0.1)\n",
      "Requirement already satisfied: torchtyping<0.2.0,>=0.1.4 in /home/user/conda/lib/python3.7/site-packages (from ruprompts) (0.1.4)\n",
      "Requirement already satisfied: torch<2.0.0,>=1.10.0 in /home/jovyan/.imgenv-jupyter-server-dfcbc5cc9913-0/lib/python3.7/site-packages (from ruprompts) (1.13.1)\n",
      "Requirement already satisfied: nvidia-cuda-nvrtc-cu11==11.7.99 in /home/jovyan/.imgenv-jupyter-server-dfcbc5cc9913-0/lib/python3.7/site-packages (from torch<2.0.0,>=1.10.0->ruprompts) (11.7.99)\n",
      "Requirement already satisfied: nvidia-cuda-runtime-cu11==11.7.99 in /home/jovyan/.imgenv-jupyter-server-dfcbc5cc9913-0/lib/python3.7/site-packages (from torch<2.0.0,>=1.10.0->ruprompts) (11.7.99)\n",
      "Requirement already satisfied: nvidia-cublas-cu11==11.10.3.66 in /home/jovyan/.imgenv-jupyter-server-dfcbc5cc9913-0/lib/python3.7/site-packages (from torch<2.0.0,>=1.10.0->ruprompts) (11.10.3.66)\n",
      "Requirement already satisfied: nvidia-cudnn-cu11==8.5.0.96 in /home/jovyan/.imgenv-jupyter-server-dfcbc5cc9913-0/lib/python3.7/site-packages (from torch<2.0.0,>=1.10.0->ruprompts) (8.5.0.96)\n",
      "Requirement already satisfied: setuptools in /home/jovyan/.imgenv-jupyter-server-dfcbc5cc9913-0/lib/python3.7/site-packages (from nvidia-cublas-cu11==11.10.3.66->torch<2.0.0,>=1.10.0->ruprompts) (60.5.0)\n",
      "Requirement already satisfied: wheel in /home/jovyan/.imgenv-jupyter-server-dfcbc5cc9913-0/lib/python3.7/site-packages (from nvidia-cublas-cu11==11.10.3.66->torch<2.0.0,>=1.10.0->ruprompts) (0.37.1)\n",
      "Requirement already satisfied: filelock in /home/user/conda/lib/python3.7/site-packages (from transformers<5.0.0,>=4.6.0->ruprompts) (3.4.2)\n",
      "Requirement already satisfied: importlib-metadata in /home/jovyan/.imgenv-jupyter-server-dfcbc5cc9913-0/lib/python3.7/site-packages (from transformers<5.0.0,>=4.6.0->ruprompts) (1.7.0)\n",
      "Requirement already satisfied: numpy>=1.17 in /home/jovyan/.imgenv-jupyter-server-dfcbc5cc9913-0/lib/python3.7/site-packages (from transformers<5.0.0,>=4.6.0->ruprompts) (1.21.5)\n",
      "Requirement already satisfied: tokenizers!=0.11.3,<0.14,>=0.11.1 in /home/jovyan/.imgenv-jupyter-server-dfcbc5cc9913-0/lib/python3.7/site-packages (from transformers<5.0.0,>=4.6.0->ruprompts) (0.13.2)\n",
      "Requirement already satisfied: huggingface-hub<1.0,>=0.11.0 in /home/jovyan/.imgenv-jupyter-server-dfcbc5cc9913-0/lib/python3.7/site-packages (from transformers<5.0.0,>=4.6.0->ruprompts) (0.13.1)\n",
      "Requirement already satisfied: regex!=2019.12.17 in /home/user/conda/lib/python3.7/site-packages (from transformers<5.0.0,>=4.6.0->ruprompts) (2022.1.18)\n",
      "Requirement already satisfied: tqdm>=4.27 in /home/jovyan/.imgenv-jupyter-server-dfcbc5cc9913-0/lib/python3.7/site-packages (from transformers<5.0.0,>=4.6.0->ruprompts) (4.65.0)\n",
      "Requirement already satisfied: pyyaml>=5.1 in /home/user/conda/lib/python3.7/site-packages (from transformers<5.0.0,>=4.6.0->ruprompts) (6.0)\n",
      "Requirement already satisfied: requests in /home/user/conda/lib/python3.7/site-packages (from transformers<5.0.0,>=4.6.0->ruprompts) (2.27.1)\n",
      "Requirement already satisfied: packaging>=20.0 in /home/user/conda/lib/python3.7/site-packages (from transformers<5.0.0,>=4.6.0->ruprompts) (21.3)\n",
      "Requirement already satisfied: pyparsing!=3.0.5,>=2.0.2 in /home/user/conda/lib/python3.7/site-packages (from packaging>=20.0->transformers<5.0.0,>=4.6.0->ruprompts) (3.0.7)\n",
      "Requirement already satisfied: zipp>=0.5 in /home/user/conda/lib/python3.7/site-packages (from importlib-metadata->transformers<5.0.0,>=4.6.0->ruprompts) (3.7.0)\n",
      "Requirement already satisfied: certifi>=2017.4.17 in /home/user/conda/lib/python3.7/site-packages (from requests->transformers<5.0.0,>=4.6.0->ruprompts) (2021.10.8)\n",
      "Requirement already satisfied: urllib3<1.27,>=1.21.1 in /home/user/conda/lib/python3.7/site-packages (from requests->transformers<5.0.0,>=4.6.0->ruprompts) (1.26.8)\n",
      "Requirement already satisfied: charset-normalizer~=2.0.0 in /home/user/conda/lib/python3.7/site-packages (from requests->transformers<5.0.0,>=4.6.0->ruprompts) (2.0.11)\n",
      "Requirement already satisfied: idna<4,>=2.5 in /home/user/conda/lib/python3.7/site-packages (from requests->transformers<5.0.0,>=4.6.0->ruprompts) (3.3)\n",
      "Note: you may need to restart the kernel to use updated packages.\n"
     ]
    }
   ],
   "source": [
    "%pip install ruprompts "
   ]
  },
  {
   "cell_type": "markdown",
   "metadata": {
    "id": "OYIa7xVW7YZ8"
   },
   "source": [
    "# ruPROMPTs tutorial\n",
    "\n",
    "This [tutorial](https://github.com/ai-forever/ru-prompts/blob/main/notebooks/detox-russe-train-python.ipynb) presents an exaple of prompt-tuning with ruPROMTS framework for the detoxification task."
   ]
  },
  {
   "cell_type": "code",
   "execution_count": 2,
   "metadata": {
    "colab": {
     "base_uri": "https://localhost:8080/"
    },
    "id": "BGiGZrZFp5u_",
    "outputId": "63d2ed9e-5999-4f8a-85b8-ce8c2bca0f8b"
   },
   "outputs": [
    {
     "name": "stdout",
     "output_type": "stream",
     "text": [
      "--2023-04-09 11:18:16--  https://raw.githubusercontent.com/skoltech-nlp/russe_detox_2022/main/data/input/train.tsv\n",
      "Resolving raw.githubusercontent.com (raw.githubusercontent.com)... 185.199.108.133, 185.199.111.133, 185.199.110.133, ...\n",
      "Connecting to raw.githubusercontent.com (raw.githubusercontent.com)|185.199.108.133|:443... connected.\n",
      "HTTP request sent, awaiting response... 200 OK\n",
      "Length: 1902888 (1.8M) [text/plain]\n",
      "Saving to: ‘task2/train.csv’\n",
      "\n",
      "task2/train.csv     100%[===================>]   1.81M  8.50MB/s    in 0.2s    \n",
      "\n",
      "2023-04-09 11:18:17 (8.50 MB/s) - ‘task2/train.csv’ saved [1902888/1902888]\n",
      "\n",
      "--2023-04-09 11:18:17--  https://raw.githubusercontent.com/skoltech-nlp/russe_detox_2022/main/data/input/dev.tsv\n",
      "Resolving raw.githubusercontent.com (raw.githubusercontent.com)... 185.199.108.133, 185.199.111.133, 185.199.110.133, ...\n",
      "Connecting to raw.githubusercontent.com (raw.githubusercontent.com)|185.199.108.133|:443... connected.\n",
      "HTTP request sent, awaiting response... 200 OK\n",
      "Length: 200691 (196K) [text/plain]\n",
      "Saving to: ‘task2/dev.csv’\n",
      "\n",
      "task2/dev.csv       100%[===================>] 195.99K  --.-KB/s    in 0.1s    \n",
      "\n",
      "2023-04-09 11:18:17 (1.90 MB/s) - ‘task2/dev.csv’ saved [200691/200691]\n",
      "\n"
     ]
    }
   ],
   "source": [
    "!wget -O task2/train.csv https://raw.githubusercontent.com/skoltech-nlp/russe_detox_2022/main/data/input/train.tsv\n",
    "!wget -O task2/dev.csv https://raw.githubusercontent.com/skoltech-nlp/russe_detox_2022/main/data/input/dev.tsv"
   ]
  },
  {
   "cell_type": "code",
   "execution_count": 2,
   "metadata": {
    "id": "fimx3ArRp5u_"
   },
   "outputs": [
    {
     "ename": "KeyError",
     "evalue": "\"['index'] not found in axis\"",
     "output_type": "error",
     "traceback": [
      "\u001b[0;31m---------------------------------------------------------------------------\u001b[0m",
      "\u001b[0;31mKeyError\u001b[0m                                  Traceback (most recent call last)",
      "\u001b[0;32m/tmp/ipykernel_203/3592969103.py\u001b[0m in \u001b[0;36m<module>\u001b[0;34m\u001b[0m\n\u001b[1;32m      2\u001b[0m \u001b[0;34m\u001b[0m\u001b[0m\n\u001b[1;32m      3\u001b[0m \u001b[0mdf\u001b[0m \u001b[0;34m=\u001b[0m \u001b[0mpd\u001b[0m\u001b[0;34m.\u001b[0m\u001b[0mread_csv\u001b[0m\u001b[0;34m(\u001b[0m\u001b[0;34m\"task2/train.tsv\"\u001b[0m\u001b[0;34m,\u001b[0m \u001b[0msep\u001b[0m\u001b[0;34m=\u001b[0m\u001b[0;34m\"\\t\"\u001b[0m\u001b[0;34m)\u001b[0m\u001b[0;34m\u001b[0m\u001b[0;34m\u001b[0m\u001b[0m\n\u001b[0;32m----> 4\u001b[0;31m \u001b[0mdf\u001b[0m\u001b[0;34m.\u001b[0m\u001b[0mdrop\u001b[0m\u001b[0;34m(\u001b[0m\u001b[0;34m[\u001b[0m\u001b[0;34m\"index\"\u001b[0m\u001b[0;34m]\u001b[0m\u001b[0;34m,\u001b[0m \u001b[0maxis\u001b[0m\u001b[0;34m=\u001b[0m\u001b[0;36m1\u001b[0m\u001b[0;34m,\u001b[0m \u001b[0minplace\u001b[0m\u001b[0;34m=\u001b[0m\u001b[0;32mTrue\u001b[0m\u001b[0;34m)\u001b[0m\u001b[0;34m\u001b[0m\u001b[0;34m\u001b[0m\u001b[0m\n\u001b[0m\u001b[1;32m      5\u001b[0m \u001b[0mdf\u001b[0m\u001b[0;34m.\u001b[0m\u001b[0mto_csv\u001b[0m\u001b[0;34m(\u001b[0m\u001b[0;34m\"task2/train.tsv\"\u001b[0m\u001b[0;34m,\u001b[0m \u001b[0mindex\u001b[0m\u001b[0;34m=\u001b[0m\u001b[0;32mFalse\u001b[0m\u001b[0;34m,\u001b[0m \u001b[0msep\u001b[0m\u001b[0;34m=\u001b[0m\u001b[0;34m\"\\t\"\u001b[0m\u001b[0;34m)\u001b[0m\u001b[0;34m\u001b[0m\u001b[0;34m\u001b[0m\u001b[0m\n",
      "\u001b[0;32m/home/user/conda/lib/python3.7/site-packages/pandas/util/_decorators.py\u001b[0m in \u001b[0;36mwrapper\u001b[0;34m(*args, **kwargs)\u001b[0m\n\u001b[1;32m    309\u001b[0m                     \u001b[0mstacklevel\u001b[0m\u001b[0;34m=\u001b[0m\u001b[0mstacklevel\u001b[0m\u001b[0;34m,\u001b[0m\u001b[0;34m\u001b[0m\u001b[0;34m\u001b[0m\u001b[0m\n\u001b[1;32m    310\u001b[0m                 )\n\u001b[0;32m--> 311\u001b[0;31m             \u001b[0;32mreturn\u001b[0m \u001b[0mfunc\u001b[0m\u001b[0;34m(\u001b[0m\u001b[0;34m*\u001b[0m\u001b[0margs\u001b[0m\u001b[0;34m,\u001b[0m \u001b[0;34m**\u001b[0m\u001b[0mkwargs\u001b[0m\u001b[0;34m)\u001b[0m\u001b[0;34m\u001b[0m\u001b[0;34m\u001b[0m\u001b[0m\n\u001b[0m\u001b[1;32m    312\u001b[0m \u001b[0;34m\u001b[0m\u001b[0m\n\u001b[1;32m    313\u001b[0m         \u001b[0;32mreturn\u001b[0m \u001b[0mwrapper\u001b[0m\u001b[0;34m\u001b[0m\u001b[0;34m\u001b[0m\u001b[0m\n",
      "\u001b[0;32m/home/user/conda/lib/python3.7/site-packages/pandas/core/frame.py\u001b[0m in \u001b[0;36mdrop\u001b[0;34m(self, labels, axis, index, columns, level, inplace, errors)\u001b[0m\n\u001b[1;32m   4911\u001b[0m             \u001b[0mlevel\u001b[0m\u001b[0;34m=\u001b[0m\u001b[0mlevel\u001b[0m\u001b[0;34m,\u001b[0m\u001b[0;34m\u001b[0m\u001b[0;34m\u001b[0m\u001b[0m\n\u001b[1;32m   4912\u001b[0m             \u001b[0minplace\u001b[0m\u001b[0;34m=\u001b[0m\u001b[0minplace\u001b[0m\u001b[0;34m,\u001b[0m\u001b[0;34m\u001b[0m\u001b[0;34m\u001b[0m\u001b[0m\n\u001b[0;32m-> 4913\u001b[0;31m             \u001b[0merrors\u001b[0m\u001b[0;34m=\u001b[0m\u001b[0merrors\u001b[0m\u001b[0;34m,\u001b[0m\u001b[0;34m\u001b[0m\u001b[0;34m\u001b[0m\u001b[0m\n\u001b[0m\u001b[1;32m   4914\u001b[0m         )\n\u001b[1;32m   4915\u001b[0m \u001b[0;34m\u001b[0m\u001b[0m\n",
      "\u001b[0;32m/home/user/conda/lib/python3.7/site-packages/pandas/core/generic.py\u001b[0m in \u001b[0;36mdrop\u001b[0;34m(self, labels, axis, index, columns, level, inplace, errors)\u001b[0m\n\u001b[1;32m   4148\u001b[0m         \u001b[0;32mfor\u001b[0m \u001b[0maxis\u001b[0m\u001b[0;34m,\u001b[0m \u001b[0mlabels\u001b[0m \u001b[0;32min\u001b[0m \u001b[0maxes\u001b[0m\u001b[0;34m.\u001b[0m\u001b[0mitems\u001b[0m\u001b[0;34m(\u001b[0m\u001b[0;34m)\u001b[0m\u001b[0;34m:\u001b[0m\u001b[0;34m\u001b[0m\u001b[0;34m\u001b[0m\u001b[0m\n\u001b[1;32m   4149\u001b[0m             \u001b[0;32mif\u001b[0m \u001b[0mlabels\u001b[0m \u001b[0;32mis\u001b[0m \u001b[0;32mnot\u001b[0m \u001b[0;32mNone\u001b[0m\u001b[0;34m:\u001b[0m\u001b[0;34m\u001b[0m\u001b[0;34m\u001b[0m\u001b[0m\n\u001b[0;32m-> 4150\u001b[0;31m                 \u001b[0mobj\u001b[0m \u001b[0;34m=\u001b[0m \u001b[0mobj\u001b[0m\u001b[0;34m.\u001b[0m\u001b[0m_drop_axis\u001b[0m\u001b[0;34m(\u001b[0m\u001b[0mlabels\u001b[0m\u001b[0;34m,\u001b[0m \u001b[0maxis\u001b[0m\u001b[0;34m,\u001b[0m \u001b[0mlevel\u001b[0m\u001b[0;34m=\u001b[0m\u001b[0mlevel\u001b[0m\u001b[0;34m,\u001b[0m \u001b[0merrors\u001b[0m\u001b[0;34m=\u001b[0m\u001b[0merrors\u001b[0m\u001b[0;34m)\u001b[0m\u001b[0;34m\u001b[0m\u001b[0;34m\u001b[0m\u001b[0m\n\u001b[0m\u001b[1;32m   4151\u001b[0m \u001b[0;34m\u001b[0m\u001b[0m\n\u001b[1;32m   4152\u001b[0m         \u001b[0;32mif\u001b[0m \u001b[0minplace\u001b[0m\u001b[0;34m:\u001b[0m\u001b[0;34m\u001b[0m\u001b[0;34m\u001b[0m\u001b[0m\n",
      "\u001b[0;32m/home/user/conda/lib/python3.7/site-packages/pandas/core/generic.py\u001b[0m in \u001b[0;36m_drop_axis\u001b[0;34m(self, labels, axis, level, errors)\u001b[0m\n\u001b[1;32m   4183\u001b[0m                 \u001b[0mnew_axis\u001b[0m \u001b[0;34m=\u001b[0m \u001b[0maxis\u001b[0m\u001b[0;34m.\u001b[0m\u001b[0mdrop\u001b[0m\u001b[0;34m(\u001b[0m\u001b[0mlabels\u001b[0m\u001b[0;34m,\u001b[0m \u001b[0mlevel\u001b[0m\u001b[0;34m=\u001b[0m\u001b[0mlevel\u001b[0m\u001b[0;34m,\u001b[0m \u001b[0merrors\u001b[0m\u001b[0;34m=\u001b[0m\u001b[0merrors\u001b[0m\u001b[0;34m)\u001b[0m\u001b[0;34m\u001b[0m\u001b[0;34m\u001b[0m\u001b[0m\n\u001b[1;32m   4184\u001b[0m             \u001b[0;32melse\u001b[0m\u001b[0;34m:\u001b[0m\u001b[0;34m\u001b[0m\u001b[0;34m\u001b[0m\u001b[0m\n\u001b[0;32m-> 4185\u001b[0;31m                 \u001b[0mnew_axis\u001b[0m \u001b[0;34m=\u001b[0m \u001b[0maxis\u001b[0m\u001b[0;34m.\u001b[0m\u001b[0mdrop\u001b[0m\u001b[0;34m(\u001b[0m\u001b[0mlabels\u001b[0m\u001b[0;34m,\u001b[0m \u001b[0merrors\u001b[0m\u001b[0;34m=\u001b[0m\u001b[0merrors\u001b[0m\u001b[0;34m)\u001b[0m\u001b[0;34m\u001b[0m\u001b[0;34m\u001b[0m\u001b[0m\n\u001b[0m\u001b[1;32m   4186\u001b[0m             \u001b[0mresult\u001b[0m \u001b[0;34m=\u001b[0m \u001b[0mself\u001b[0m\u001b[0;34m.\u001b[0m\u001b[0mreindex\u001b[0m\u001b[0;34m(\u001b[0m\u001b[0;34m**\u001b[0m\u001b[0;34m{\u001b[0m\u001b[0maxis_name\u001b[0m\u001b[0;34m:\u001b[0m \u001b[0mnew_axis\u001b[0m\u001b[0;34m}\u001b[0m\u001b[0;34m)\u001b[0m\u001b[0;34m\u001b[0m\u001b[0;34m\u001b[0m\u001b[0m\n\u001b[1;32m   4187\u001b[0m \u001b[0;34m\u001b[0m\u001b[0m\n",
      "\u001b[0;32m/home/user/conda/lib/python3.7/site-packages/pandas/core/indexes/base.py\u001b[0m in \u001b[0;36mdrop\u001b[0;34m(self, labels, errors)\u001b[0m\n\u001b[1;32m   6015\u001b[0m         \u001b[0;32mif\u001b[0m \u001b[0mmask\u001b[0m\u001b[0;34m.\u001b[0m\u001b[0many\u001b[0m\u001b[0;34m(\u001b[0m\u001b[0;34m)\u001b[0m\u001b[0;34m:\u001b[0m\u001b[0;34m\u001b[0m\u001b[0;34m\u001b[0m\u001b[0m\n\u001b[1;32m   6016\u001b[0m             \u001b[0;32mif\u001b[0m \u001b[0merrors\u001b[0m \u001b[0;34m!=\u001b[0m \u001b[0;34m\"ignore\"\u001b[0m\u001b[0;34m:\u001b[0m\u001b[0;34m\u001b[0m\u001b[0;34m\u001b[0m\u001b[0m\n\u001b[0;32m-> 6017\u001b[0;31m                 \u001b[0;32mraise\u001b[0m \u001b[0mKeyError\u001b[0m\u001b[0;34m(\u001b[0m\u001b[0;34mf\"{labels[mask]} not found in axis\"\u001b[0m\u001b[0;34m)\u001b[0m\u001b[0;34m\u001b[0m\u001b[0;34m\u001b[0m\u001b[0m\n\u001b[0m\u001b[1;32m   6018\u001b[0m             \u001b[0mindexer\u001b[0m \u001b[0;34m=\u001b[0m \u001b[0mindexer\u001b[0m\u001b[0;34m[\u001b[0m\u001b[0;34m~\u001b[0m\u001b[0mmask\u001b[0m\u001b[0;34m]\u001b[0m\u001b[0;34m\u001b[0m\u001b[0;34m\u001b[0m\u001b[0m\n\u001b[1;32m   6019\u001b[0m         \u001b[0;32mreturn\u001b[0m \u001b[0mself\u001b[0m\u001b[0;34m.\u001b[0m\u001b[0mdelete\u001b[0m\u001b[0;34m(\u001b[0m\u001b[0mindexer\u001b[0m\u001b[0;34m)\u001b[0m\u001b[0;34m\u001b[0m\u001b[0;34m\u001b[0m\u001b[0m\n",
      "\u001b[0;31mKeyError\u001b[0m: \"['index'] not found in axis\""
     ]
    }
   ],
   "source": [
    "import pandas as pd\n",
    "\n",
    "df = pd.read_csv(\"task2/train.tsv\", sep=\"\\t\")\n",
    "df.drop([\"index\"], axis=1, inplace=True)\n",
    "df.to_csv(\"task2/train.tsv\", index=False, sep=\"\\t\")"
   ]
  },
  {
   "cell_type": "markdown",
   "metadata": {
    "id": "wyfoDtM8p5vA"
   },
   "source": [
    "## Training"
   ]
  },
  {
   "cell_type": "code",
   "execution_count": 3,
   "metadata": {
    "id": "sFO5Xg3Xp5vA"
   },
   "outputs": [],
   "source": [
    "import os\n",
    "os.environ[\"CUDA_VISIBLE_DEVICES\"] = \"0\""
   ]
  },
  {
   "cell_type": "markdown",
   "metadata": {
    "id": "JbOCM3iUp5vA"
   },
   "source": [
    "Load the dataset:"
   ]
  },
  {
   "cell_type": "code",
   "execution_count": 5,
   "metadata": {
    "colab": {
     "base_uri": "https://localhost:8080/"
    },
    "id": "9j7mFdtpqd2U",
    "outputId": "7e67d6d8-88dd-424b-c55c-c21c769fbb44"
   },
   "outputs": [
    {
     "name": "stdout",
     "output_type": "stream",
     "text": [
      "Requirement already satisfied: datasets in /home/jovyan/.imgenv-jupyter-server-dfcbc5cc9913-0/lib/python3.7/site-packages (2.10.1)\n",
      "Requirement already satisfied: tqdm>=4.62.1 in /home/jovyan/.imgenv-jupyter-server-dfcbc5cc9913-0/lib/python3.7/site-packages (from datasets) (4.65.0)\n",
      "Requirement already satisfied: importlib-metadata in /home/jovyan/.imgenv-jupyter-server-dfcbc5cc9913-0/lib/python3.7/site-packages (from datasets) (1.7.0)\n",
      "Requirement already satisfied: pyyaml>=5.1 in /home/user/conda/lib/python3.7/site-packages (from datasets) (6.0)\n",
      "Requirement already satisfied: pyarrow>=6.0.0 in /home/jovyan/.imgenv-jupyter-server-dfcbc5cc9913-0/lib/python3.7/site-packages (from datasets) (11.0.0)\n",
      "Requirement already satisfied: xxhash in /home/jovyan/.imgenv-jupyter-server-dfcbc5cc9913-0/lib/python3.7/site-packages (from datasets) (3.2.0)\n",
      "Requirement already satisfied: aiohttp in /home/user/conda/lib/python3.7/site-packages (from datasets) (3.8.1)\n",
      "Requirement already satisfied: huggingface-hub<1.0.0,>=0.2.0 in /home/jovyan/.imgenv-jupyter-server-dfcbc5cc9913-0/lib/python3.7/site-packages (from datasets) (0.13.1)\n",
      "Requirement already satisfied: dill<0.3.7,>=0.3.0 in /home/jovyan/.imgenv-jupyter-server-dfcbc5cc9913-0/lib/python3.7/site-packages (from datasets) (0.3.6)\n",
      "Requirement already satisfied: pandas in /home/user/conda/lib/python3.7/site-packages (from datasets) (1.3.5)\n",
      "Requirement already satisfied: multiprocess in /home/jovyan/.imgenv-jupyter-server-dfcbc5cc9913-0/lib/python3.7/site-packages (from datasets) (0.70.14)\n",
      "Requirement already satisfied: responses<0.19 in /home/jovyan/.imgenv-jupyter-server-dfcbc5cc9913-0/lib/python3.7/site-packages (from datasets) (0.18.0)\n",
      "Requirement already satisfied: packaging in /home/user/conda/lib/python3.7/site-packages (from datasets) (21.3)\n",
      "Requirement already satisfied: requests>=2.19.0 in /home/user/conda/lib/python3.7/site-packages (from datasets) (2.27.1)\n",
      "Requirement already satisfied: numpy>=1.17 in /home/jovyan/.imgenv-jupyter-server-dfcbc5cc9913-0/lib/python3.7/site-packages (from datasets) (1.21.5)\n",
      "Requirement already satisfied: fsspec[http]>=2021.11.1 in /home/user/conda/lib/python3.7/site-packages (from datasets) (2022.1.0)\n",
      "Requirement already satisfied: typing-extensions>=3.7.4.3 in /home/user/conda/lib/python3.7/site-packages (from huggingface-hub<1.0.0,>=0.2.0->datasets) (4.0.1)\n",
      "Requirement already satisfied: filelock in /home/user/conda/lib/python3.7/site-packages (from huggingface-hub<1.0.0,>=0.2.0->datasets) (3.4.2)\n",
      "Requirement already satisfied: pyparsing!=3.0.5,>=2.0.2 in /home/user/conda/lib/python3.7/site-packages (from packaging->datasets) (3.0.7)\n",
      "Requirement already satisfied: charset-normalizer~=2.0.0 in /home/user/conda/lib/python3.7/site-packages (from requests>=2.19.0->datasets) (2.0.11)\n",
      "Requirement already satisfied: urllib3<1.27,>=1.21.1 in /home/user/conda/lib/python3.7/site-packages (from requests>=2.19.0->datasets) (1.26.8)\n",
      "Requirement already satisfied: idna<4,>=2.5 in /home/user/conda/lib/python3.7/site-packages (from requests>=2.19.0->datasets) (3.3)\n",
      "Requirement already satisfied: certifi>=2017.4.17 in /home/user/conda/lib/python3.7/site-packages (from requests>=2.19.0->datasets) (2021.10.8)\n",
      "Requirement already satisfied: asynctest==0.13.0 in /home/user/conda/lib/python3.7/site-packages (from aiohttp->datasets) (0.13.0)\n",
      "Requirement already satisfied: aiosignal>=1.1.2 in /home/user/conda/lib/python3.7/site-packages (from aiohttp->datasets) (1.2.0)\n",
      "Requirement already satisfied: frozenlist>=1.1.1 in /home/user/conda/lib/python3.7/site-packages (from aiohttp->datasets) (1.3.0)\n",
      "Requirement already satisfied: yarl<2.0,>=1.0 in /home/user/conda/lib/python3.7/site-packages (from aiohttp->datasets) (1.7.2)\n",
      "Requirement already satisfied: async-timeout<5.0,>=4.0.0a3 in /home/user/conda/lib/python3.7/site-packages (from aiohttp->datasets) (4.0.2)\n",
      "Requirement already satisfied: multidict<7.0,>=4.5 in /home/user/conda/lib/python3.7/site-packages (from aiohttp->datasets) (5.2.0)\n",
      "Requirement already satisfied: attrs>=17.3.0 in /home/user/conda/lib/python3.7/site-packages (from aiohttp->datasets) (21.4.0)\n",
      "Requirement already satisfied: zipp>=0.5 in /home/user/conda/lib/python3.7/site-packages (from importlib-metadata->datasets) (3.7.0)\n",
      "Requirement already satisfied: python-dateutil>=2.7.3 in /home/user/conda/lib/python3.7/site-packages (from pandas->datasets) (2.8.2)\n",
      "Requirement already satisfied: pytz>=2017.3 in /home/user/conda/lib/python3.7/site-packages (from pandas->datasets) (2021.3)\n",
      "Requirement already satisfied: six>=1.5 in /home/jovyan/.imgenv-jupyter-server-dfcbc5cc9913-0/lib/python3.7/site-packages (from python-dateutil>=2.7.3->pandas->datasets) (1.16.0)\n"
     ]
    }
   ],
   "source": [
    "!pip install datasets"
   ]
  },
  {
   "cell_type": "code",
   "execution_count": 4,
   "metadata": {
    "colab": {
     "base_uri": "https://localhost:8080/",
     "height": 169,
     "referenced_widgets": [
      "107cdad4b73c41d8ae0735e666cd28e6",
      "61859580ae25478f8e57a2d1e86a59c3",
      "6e9ab35effb94a5c9dbd745d487355ce",
      "bca6e6d51aad4c8d957e887422f731ca",
      "3ac88cb1a17f4589a90dcbec291c2fdb",
      "a6a0fc89672d43718d8e1d3ca879da8a",
      "3753daf5ce714bddacd19e61d50166d6",
      "8ca72d862a9e4d4da91df3bddc0c75e7",
      "cb99de53f41541e78c393017a099a922",
      "f740051dc1274d90b8fe7e7d84eaebd5",
      "c681cecd580146ed81bf20ea10776d0b",
      "2d6d1a5bb27b41b5bfb85d504b446647",
      "4e0e393049ee4b8aa1f9bb50ee60ff06",
      "8e50ffe2b8074afe9959b4fbca0fdd34",
      "1afaeaf9a9dd4454b1052f8a08b7ce7e",
      "4ca3c4b3b8734a7dba3da1808afe1436",
      "f57ef26b14534e55984ba16b570c640d",
      "54b0251877fa4abcba1efbe6a1a689a7",
      "00c4545ab1fc41d0b65ae64398e54b89",
      "67090f631a554a69a80b6f285d69b1f4",
      "40549a8d3a254579b3eedb37f5305f5c",
      "14e333cbb7034c96a5bb9908479baeb5",
      "658e3afdfd944d8b81154e5fb7a184d9",
      "07ac42fe2b3e45a2b9a6fe979e5c0c19",
      "4f5bad54f12742e681c123c78e1e6424",
      "872921808fb449dfb20348b5374c61b8",
      "d4fc94970cab4fc3b2ec21bd56b5cf33",
      "ef66cbc6d72145a2ba5477ea79b1a79c",
      "65113c5f64e54e8cb09f898ddc6de229",
      "b88480632f5f4ceea2eb8c88561fb197",
      "f2f2ada5fde54a7ea93eaf0ab98772f6",
      "70fceb0607e44c9187b3b2120e30ba32",
      "3f1d44bb00504472abd689f5a66f4344",
      "eaf170a8c8414d96b10fe7361ceece24",
      "15c025acda8949c0a1efd4b4f608187d",
      "046f527a014a4ce88aa64935d6ff2e49",
      "911abb62b8224202a68b5c9bff9ed2b7",
      "52955a36aaf54cd09c7a0d46638c376a",
      "ad006078ce5f495fadd4f6fa9304b46a",
      "002c0cfa7b244deeaeb7b90690c21ba7",
      "2631ff89fa694906aa87d4f3160579fd",
      "65f5776bbcd24305911634557f441cfe",
      "4f387b18a69f4e20b5240ce257ff8302",
      "4ba105d467444e08b8b1bc494f10da1b",
      "831f6aa866e648ee9219013c12067ed2",
      "201a42183dcf44929dcaa3a8c47f6259",
      "7d06df9a6a0e4b618be244414af3375f",
      "d182b59243d449f3b26693257136dba6",
      "98acceeee2d64858acfc59a0b136d45b",
      "792b9f86282d47b3b1dd2cc5c93bc251",
      "2fdbdec1c17d4276b1c4ee329c3d7a33",
      "397ded3e3c8349b0bae1b3edc09c98fb",
      "00d84f30d26c40a5b5cf6dbad116c6b7",
      "a6479234793240b293e6562205a7f874",
      "b9b67cc280e144cc98f5724f6aa970e4"
     ]
    },
    "id": "gb79Psbqp5vB",
    "outputId": "edeb2760-b57c-4e54-b726-15aec412ee62"
   },
   "outputs": [
    {
     "name": "stderr",
     "output_type": "stream",
     "text": [
      "Found cached dataset csv (/home/jovyan/.cache/huggingface/datasets/csv/default-6f14a3b9c6758b34/0.0.0/6b34fb8fcf56f7c8ba51dc895bfa2bfbe43546f190a60fcf74bb5e8afdcc2317)\n"
     ]
    },
    {
     "data": {
      "application/vnd.jupyter.widget-view+json": {
       "model_id": "38addb2da72e44c589b5e5c9438665e0",
       "version_major": 2,
       "version_minor": 0
      },
      "text/plain": [
       "  0%|          | 0/2 [00:00<?, ?it/s]"
      ]
     },
     "metadata": {},
     "output_type": "display_data"
    }
   ],
   "source": [
    "from datasets import load_dataset\n",
    "\n",
    "datasets = load_dataset(\"csv\", data_files={\"train\": \"task2/train.tsv\", \"validation\": \"task2/dev.tsv\"}, sep=\"\\t\")\n",
    "train_dataset = datasets[\"train\"]\n",
    "valid_dataset = datasets[\"validation\"]"
   ]
  },
  {
   "cell_type": "markdown",
   "metadata": {
    "id": "NRJlgLQnp5vB"
   },
   "source": [
    "Load the backbone:"
   ]
  },
  {
   "cell_type": "code",
   "execution_count": 5,
   "metadata": {
    "colab": {
     "base_uri": "https://localhost:8080/",
     "height": 163,
     "referenced_widgets": [
      "9bce8353fb2d4c2e8739cb76b05a16bc",
      "d90d9336433948388f0b9d41dd624e01",
      "3846c373743c4d228cede3625f34405f",
      "2a2ffeeb85804d36a0bff09415f3be54",
      "1424164675d24836946a6dd790f3395a",
      "e9ba1c95ad6948459cef3e68d1a38c6c",
      "2ed10b6c10db408fb8013bbc4af9f30d",
      "cb4731f886a3431381752fd2873a7040",
      "5a8850f966724ce59524896d0a9c3bf9",
      "a8b51a3e967749149073f1dc6c9892aa",
      "8acbb570192f4f09a66c2ec71e716559",
      "5f7d2ffe84834aa08f73427f898f53de",
      "1a19ae52ded948839280bdb97888f01d",
      "d7f3853d707549ac84bb50cc41f043a5",
      "78bfa58b59c04ceeabf2163606c1a2a8",
      "486c403c927e43ab87a4e6cbf55f2969",
      "ce7e6d44b8324436958b8f5dd466db1c",
      "676284d1fa1b4669904ccd7a347223d3",
      "f8b0e6b98a704dd8b9cf9f773ec8b563",
      "2e81234369b547128e1b1522d87e3212",
      "f49e007438d24858a0c3df80a4263e32",
      "be80c7894bda4e59bebd50ecd4a16aa4",
      "6728a4c6dea0450aa970cc09b893798a",
      "fe57afd5a0a241609837580db7e6dc8e",
      "b09d09cb02ea44e3892073bf29af4f5b",
      "52102e7be708453fa324233a3d61dcbe",
      "97d0610a07204ef296947eedfaa1160b",
      "833febd9093a4be5882fb3011962ba0b",
      "d0162dc8da5b4d259080d1f3f6511a78",
      "e9a6b86b208d4462aa9f6800cdd9c812",
      "da3a6c71e21143f49e7ee364ccfffa2b",
      "bb4fcc44917a4625bc62aa3d79c04384",
      "6e65b3a140ee4777b0e3882ab7607247",
      "8ec905b895494f399fc94b1021e65733",
      "b1ba4f78d9474c8b918786858d82c74b",
      "b2fa09e9e7c84fdb8df2cd83f156a0b7",
      "1fdff570fb42461e80163bfc7fc3f5e4",
      "48f0c74afde94cf3b7746a3cc494dffe",
      "8cb39f3ae1fe42e0977ad9e9a0ffb069",
      "57daf03c1c314419983f3799be1ff4fe",
      "78af97e498134cac981982bced6dcd62",
      "c3d3358d9797462d9e39f219ab799dac",
      "9e148188007544aea528ea704561686d",
      "03f04287a39d4de7967687eb177c01f8"
     ]
    },
    "id": "OpSMX8U7p5vB",
    "outputId": "408252b7-b837-4b8e-8598-9ac1c4976635"
   },
   "outputs": [
    {
     "name": "stderr",
     "output_type": "stream",
     "text": [
      "Special tokens have been added in the vocabulary, make sure the associated word embeddings are fine-tuned or trained.\n"
     ]
    }
   ],
   "source": [
    "from transformers import GPT2LMHeadModel, AutoTokenizer\n",
    "\n",
    "backbone_id = \"sberbank-ai/rugpt3large_based_on_gpt2\"\n",
    "\n",
    "model = GPT2LMHeadModel.from_pretrained(backbone_id)\n",
    "tokenizer = AutoTokenizer.from_pretrained(backbone_id, pad_token=\"<pad>\", eos_token=\"<pad>\")"
   ]
  },
  {
   "cell_type": "markdown",
   "metadata": {
    "id": "WZbgxhqlp5vB"
   },
   "source": [
    "Define the prompt format:"
   ]
  },
  {
   "cell_type": "code",
   "execution_count": 6,
   "metadata": {
    "id": "KImPOksGp5vB"
   },
   "outputs": [],
   "source": [
    "from ruprompts import PromptFormat\n",
    "\n",
    "prompt_format = PromptFormat(\"<P*100>{toxic_comment}<P*20>\")"
   ]
  },
  {
   "cell_type": "markdown",
   "metadata": {
    "id": "5GSjRFRwp5vC"
   },
   "source": [
    "Define the parametrization of trainable embeddings:"
   ]
  },
  {
   "cell_type": "code",
   "execution_count": 7,
   "metadata": {
    "id": "GB7zKxhEp5vC"
   },
   "outputs": [],
   "source": [
    "from ruprompts import TensorPromptProvider\n",
    "from transformers import set_seed\n",
    "\n",
    "set_seed(1)\n",
    "\n",
    "prompt_provider = TensorPromptProvider()"
   ]
  },
  {
   "cell_type": "markdown",
   "metadata": {
    "id": "Kkale1uFp5vC"
   },
   "source": [
    "Compose prompt format and prompt provider into prompt object and apply it to the model and tokenizer, i.e. add special tokens to the tokenizer and modify the layer of input embeddings of the model:"
   ]
  },
  {
   "cell_type": "code",
   "execution_count": 8,
   "metadata": {
    "id": "hidfTKn5p5vD"
   },
   "outputs": [],
   "source": [
    "from ruprompts import Prompt\n",
    "\n",
    "prompt = Prompt(prompt_format, prompt_provider)\n",
    "prompt.patch(model, tokenizer)"
   ]
  },
  {
   "cell_type": "markdown",
   "metadata": {
    "id": "r3B6rqXRp5vD"
   },
   "source": [
    "Preprocess the data:\n",
    "1. format the data entries with the specified prompt format\n",
    "2. tokenize the resulting sequences\n",
    "3. truncate the `truncation_field` if sequence length exceeds `max_tokens`"
   ]
  },
  {
   "cell_type": "code",
   "execution_count": 9,
   "metadata": {
    "colab": {
     "base_uri": "https://localhost:8080/",
     "height": 17,
     "referenced_widgets": [
      "346c975dca5545fcb9cc2ec04d7e646e",
      "029f7d05137444f899c5c9f8ed6b61d2",
      "7b772c2d413d4dffb666b23dbc332fe4",
      "2790ff47134c442cbf6f42cee666e8ce",
      "f29b51f47eda4f0aac84de67d2958751",
      "86d5b38483ec407ea91620464d0e07c8",
      "081410e68b5f4ecabb18bdc804fbd50d",
      "1dccf02b0ed44a3abc7c800a099f4e39",
      "20538263c3f34949b039b5a6b6146849",
      "708dce97b3834f4eb29017ca267face5",
      "c2bdea6167e84b2fb46b99fdf4a88202",
      "2ba399042ba24b1ea2d91b28511cfe75",
      "acb7a456e21c474d9065fb3690b83ae7",
      "ab2aa636cf484283b201c73dbe86eb97",
      "b33470410f3543b68dc662149191ed22",
      "981d12ee994243e498e6966812e1d61d",
      "35dcf54ed74c4a6095de8662129efb09",
      "f3866ead31b3489b9ee72b602e7d9879",
      "02c3a1b661094873b9ae51cde04a39d8",
      "ce7ca7ec7ff541a59f439211aa612896",
      "20a943bf892a457eb0bff06e6c28d149",
      "2b9babfb775c489ebe4a2d15020186f2"
     ]
    },
    "id": "HWdOVjKrp5vD",
    "outputId": "4651bbd5-9c18-413a-dcf5-6d89f8ed00ca"
   },
   "outputs": [
    {
     "name": "stderr",
     "output_type": "stream",
     "text": [
      "Loading cached processed dataset at /home/jovyan/.cache/huggingface/datasets/csv/default-6f14a3b9c6758b34/0.0.0/6b34fb8fcf56f7c8ba51dc895bfa2bfbe43546f190a60fcf74bb5e8afdcc2317/cache-2f6b0322d76cd568.arrow\n",
      "Loading cached processed dataset at /home/jovyan/.cache/huggingface/datasets/csv/default-6f14a3b9c6758b34/0.0.0/6b34fb8fcf56f7c8ba51dc895bfa2bfbe43546f190a60fcf74bb5e8afdcc2317/cache-0b69788a14bad05d.arrow\n"
     ]
    }
   ],
   "source": [
    "from ruprompts import Text2TextPreprocessor\n",
    "\n",
    "preprocessor = Text2TextPreprocessor(\n",
    "    prompt_format=prompt_format,\n",
    "    tokenizer=tokenizer,\n",
    "    target_field=\"neutral_comment1\",\n",
    "    max_tokens=1792,\n",
    "    truncation_field=\"toxic_comment\",\n",
    ")\n",
    "\n",
    "train_dataset = train_dataset.map(preprocessor)\n",
    "valid_dataset = valid_dataset.map(preprocessor)"
   ]
  },
  {
   "cell_type": "markdown",
   "metadata": {
    "id": "VlAuINVtp5vD"
   },
   "source": [
    "Define training arguments:"
   ]
  },
  {
   "cell_type": "code",
   "execution_count": 10,
   "metadata": {
    "colab": {
     "base_uri": "https://localhost:8080/"
    },
    "id": "ZPV2-6nVp5vD",
    "outputId": "9c55372c-ce69-43cb-f071-ad55099d31e7"
   },
   "outputs": [],
   "source": [
    "from transformers import TrainingArguments\n",
    "\n",
    "training_args = TrainingArguments(\n",
    "    output_dir=\".\",\n",
    "    per_device_train_batch_size=2,\n",
    "    per_device_eval_batch_size=2,\n",
    "    gradient_accumulation_steps=1,\n",
    "    eval_steps=1000,\n",
    "    save_steps=1000,\n",
    "    logging_steps=100,\n",
    "    evaluation_strategy=\"steps\",\n",
    "    save_strategy=\"steps\",\n",
    "    logging_strategy=\"steps\",\n",
    "    save_total_limit=2,\n",
    "    metric_for_best_model=\"eval_loss\",\n",
    "    learning_rate=0.1,\n",
    "    max_steps=100000,\n",
    "    report_to=\"tensorboard\",\n",
    "    # report_to=[\"tensorboard\", \"wandb\"],  # uncomment to log to WandB\n",
    "    logging_dir=\"logs\",\n",
    "    seed=1,\n",
    ")"
   ]
  },
  {
   "cell_type": "markdown",
   "metadata": {
    "id": "DVeAE5INp5vD"
   },
   "source": [
    "Choose optimization options:"
   ]
  },
  {
   "cell_type": "code",
   "execution_count": 11,
   "metadata": {
    "colab": {
     "base_uri": "https://localhost:8080/"
    },
    "id": "_Gy12KU2p5vD",
    "outputId": "82505fcd-2130-423c-fabc-cf8907c972ab"
   },
   "outputs": [
    {
     "name": "stderr",
     "output_type": "stream",
     "text": [
      "/home/jovyan/.imgenv-jupyter-server-dfcbc5cc9913-0/lib/python3.7/site-packages/transformers/optimization.py:310: FutureWarning: This implementation of AdamW is deprecated and will be removed in a future version. Use the PyTorch implementation torch.optim.AdamW instead, or set `no_deprecation_warning=True` to disable this warning\n",
      "  FutureWarning,\n"
     ]
    }
   ],
   "source": [
    "from transformers.optimization import AdamW, get_linear_schedule_with_warmup\n",
    "\n",
    "optimizer = AdamW(prompt_provider.parameters(), lr=training_args.learning_rate)\n",
    "scheduler = get_linear_schedule_with_warmup(\n",
    "    optimizer,\n",
    "    num_warmup_steps=2000,\n",
    "    num_training_steps=training_args.max_steps,\n",
    ")"
   ]
  },
  {
   "cell_type": "markdown",
   "metadata": {
    "id": "l9Lu4Tskp5vD"
   },
   "source": [
    "Define the callbacks and start training:"
   ]
  },
  {
   "cell_type": "code",
   "execution_count": null,
   "metadata": {
    "colab": {
     "base_uri": "https://localhost:8080/",
     "height": 113
    },
    "id": "VZ4Xd-oxp5vD",
    "outputId": "e67eab39-d096-45b8-9fd9-ce5cdf930286"
   },
   "outputs": [
    {
     "name": "stderr",
     "output_type": "stream",
     "text": [
      "max_steps is given, it will override any value given in num_train_epochs\n",
      "The following columns in the training set don't have a corresponding argument in `GPT2LMHeadModel.forward` and have been ignored: neutral_comment1, toxic_comment, neutral_comment2, neutral_comment3. If neutral_comment1, toxic_comment, neutral_comment2, neutral_comment3 are not expected by `GPT2LMHeadModel.forward`,  you can safely ignore this message.\n",
      "***** Running training *****\n",
      "  Num examples = 6948\n",
      "  Num Epochs = 29\n",
      "  Instantaneous batch size per device = 2\n",
      "  Total train batch size (w. parallel, distributed & accumulation) = 2\n",
      "  Gradient Accumulation steps = 1\n",
      "  Total optimization steps = 100000\n",
      "  Number of trainable parameters = 760484352\n",
      "You're using a GPT2TokenizerFast tokenizer. Please note that with a fast tokenizer, using the `__call__` method is faster than using a method to encode the text followed by a call to the `pad` method to get a padded encoding.\n"
     ]
    },
    {
     "data": {
      "text/html": [
       "\n",
       "    <div>\n",
       "      \n",
       "      <progress value='9001' max='100000' style='width:300px; height:20px; vertical-align: middle;'></progress>\n",
       "      [  9001/100000 18:03 < 3:02:34, 8.31 it/s, Epoch 2.59/29]\n",
       "    </div>\n",
       "    <table border=\"1\" class=\"dataframe\">\n",
       "  <thead>\n",
       " <tr style=\"text-align: left;\">\n",
       "      <th>Step</th>\n",
       "      <th>Training Loss</th>\n",
       "      <th>Validation Loss</th>\n",
       "    </tr>\n",
       "  </thead>\n",
       "  <tbody>\n",
       "    <tr>\n",
       "      <td>1000</td>\n",
       "      <td>2.201700</td>\n",
       "      <td>1.911890</td>\n",
       "    </tr>\n",
       "    <tr>\n",
       "      <td>2000</td>\n",
       "      <td>1.692000</td>\n",
       "      <td>1.783948</td>\n",
       "    </tr>\n",
       "    <tr>\n",
       "      <td>3000</td>\n",
       "      <td>1.598500</td>\n",
       "      <td>1.709484</td>\n",
       "    </tr>\n",
       "    <tr>\n",
       "      <td>4000</td>\n",
       "      <td>1.633900</td>\n",
       "      <td>1.644775</td>\n",
       "    </tr>\n",
       "    <tr>\n",
       "      <td>5000</td>\n",
       "      <td>1.541400</td>\n",
       "      <td>1.598003</td>\n",
       "    </tr>\n",
       "    <tr>\n",
       "      <td>6000</td>\n",
       "      <td>1.516300</td>\n",
       "      <td>1.548342</td>\n",
       "    </tr>\n",
       "    <tr>\n",
       "      <td>7000</td>\n",
       "      <td>1.483300</td>\n",
       "      <td>1.600356</td>\n",
       "    </tr>\n",
       "    <tr>\n",
       "      <td>8000</td>\n",
       "      <td>1.574000</td>\n",
       "      <td>1.540647</td>\n",
       "    </tr>\n",
       "  </tbody>\n",
       "</table><p>\n",
       "    <div>\n",
       "      \n",
       "      <progress value='170' max='400' style='width:300px; height:20px; vertical-align: middle;'></progress>\n",
       "      [170/400 00:07 < 00:09, 23.46 it/s]\n",
       "    </div>\n",
       "    "
      ],
      "text/plain": [
       "<IPython.core.display.HTML object>"
      ]
     },
     "metadata": {},
     "output_type": "display_data"
    },
    {
     "name": "stderr",
     "output_type": "stream",
     "text": [
      "The following columns in the evaluation set don't have a corresponding argument in `GPT2LMHeadModel.forward` and have been ignored: neutral_comment1, toxic_comment, neutral_comment2, neutral_comment3. If neutral_comment1, toxic_comment, neutral_comment2, neutral_comment3 are not expected by `GPT2LMHeadModel.forward`,  you can safely ignore this message.\n",
      "***** Running Evaluation *****\n",
      "  Num examples = 800\n",
      "  Batch size = 2\n",
      "Saving model checkpoint to ./checkpoint-1000\n",
      "Configuration saved in ./checkpoint-1000/config.json\n",
      "Configuration saved in ./checkpoint-1000/generation_config.json\n",
      "Model weights saved in ./checkpoint-1000/pytorch_model.bin\n",
      "Deleting older checkpoint [checkpoint-3000] due to args.save_total_limit\n",
      "The following columns in the evaluation set don't have a corresponding argument in `GPT2LMHeadModel.forward` and have been ignored: neutral_comment1, toxic_comment, neutral_comment2, neutral_comment3. If neutral_comment1, toxic_comment, neutral_comment2, neutral_comment3 are not expected by `GPT2LMHeadModel.forward`,  you can safely ignore this message.\n",
      "***** Running Evaluation *****\n",
      "  Num examples = 800\n",
      "  Batch size = 2\n",
      "Saving model checkpoint to ./checkpoint-2000\n",
      "Configuration saved in ./checkpoint-2000/config.json\n",
      "Configuration saved in ./checkpoint-2000/generation_config.json\n",
      "Model weights saved in ./checkpoint-2000/pytorch_model.bin\n",
      "Deleting older checkpoint [checkpoint-4000] due to args.save_total_limit\n",
      "The following columns in the evaluation set don't have a corresponding argument in `GPT2LMHeadModel.forward` and have been ignored: neutral_comment1, toxic_comment, neutral_comment2, neutral_comment3. If neutral_comment1, toxic_comment, neutral_comment2, neutral_comment3 are not expected by `GPT2LMHeadModel.forward`,  you can safely ignore this message.\n",
      "***** Running Evaluation *****\n",
      "  Num examples = 800\n",
      "  Batch size = 2\n",
      "Saving model checkpoint to ./checkpoint-3000\n",
      "Configuration saved in ./checkpoint-3000/config.json\n",
      "Configuration saved in ./checkpoint-3000/generation_config.json\n",
      "Model weights saved in ./checkpoint-3000/pytorch_model.bin\n",
      "Deleting older checkpoint [checkpoint-1000] due to args.save_total_limit\n",
      "The following columns in the evaluation set don't have a corresponding argument in `GPT2LMHeadModel.forward` and have been ignored: neutral_comment1, toxic_comment, neutral_comment2, neutral_comment3. If neutral_comment1, toxic_comment, neutral_comment2, neutral_comment3 are not expected by `GPT2LMHeadModel.forward`,  you can safely ignore this message.\n",
      "***** Running Evaluation *****\n",
      "  Num examples = 800\n",
      "  Batch size = 2\n",
      "Saving model checkpoint to ./checkpoint-4000\n",
      "Configuration saved in ./checkpoint-4000/config.json\n",
      "Configuration saved in ./checkpoint-4000/generation_config.json\n",
      "Model weights saved in ./checkpoint-4000/pytorch_model.bin\n",
      "Deleting older checkpoint [checkpoint-2000] due to args.save_total_limit\n",
      "The following columns in the evaluation set don't have a corresponding argument in `GPT2LMHeadModel.forward` and have been ignored: neutral_comment1, toxic_comment, neutral_comment2, neutral_comment3. If neutral_comment1, toxic_comment, neutral_comment2, neutral_comment3 are not expected by `GPT2LMHeadModel.forward`,  you can safely ignore this message.\n",
      "***** Running Evaluation *****\n",
      "  Num examples = 800\n",
      "  Batch size = 2\n",
      "Saving model checkpoint to ./checkpoint-5000\n",
      "Configuration saved in ./checkpoint-5000/config.json\n",
      "Configuration saved in ./checkpoint-5000/generation_config.json\n",
      "Model weights saved in ./checkpoint-5000/pytorch_model.bin\n",
      "Deleting older checkpoint [checkpoint-3000] due to args.save_total_limit\n",
      "The following columns in the evaluation set don't have a corresponding argument in `GPT2LMHeadModel.forward` and have been ignored: neutral_comment1, toxic_comment, neutral_comment2, neutral_comment3. If neutral_comment1, toxic_comment, neutral_comment2, neutral_comment3 are not expected by `GPT2LMHeadModel.forward`,  you can safely ignore this message.\n",
      "***** Running Evaluation *****\n",
      "  Num examples = 800\n",
      "  Batch size = 2\n",
      "Saving model checkpoint to ./checkpoint-6000\n",
      "Configuration saved in ./checkpoint-6000/config.json\n",
      "Configuration saved in ./checkpoint-6000/generation_config.json\n",
      "Model weights saved in ./checkpoint-6000/pytorch_model.bin\n",
      "Deleting older checkpoint [checkpoint-4000] due to args.save_total_limit\n",
      "The following columns in the evaluation set don't have a corresponding argument in `GPT2LMHeadModel.forward` and have been ignored: neutral_comment1, toxic_comment, neutral_comment2, neutral_comment3. If neutral_comment1, toxic_comment, neutral_comment2, neutral_comment3 are not expected by `GPT2LMHeadModel.forward`,  you can safely ignore this message.\n",
      "***** Running Evaluation *****\n",
      "  Num examples = 800\n",
      "  Batch size = 2\n",
      "Saving model checkpoint to ./checkpoint-7000\n",
      "Configuration saved in ./checkpoint-7000/config.json\n",
      "Configuration saved in ./checkpoint-7000/generation_config.json\n",
      "Model weights saved in ./checkpoint-7000/pytorch_model.bin\n",
      "Deleting older checkpoint [checkpoint-5000] due to args.save_total_limit\n",
      "The following columns in the evaluation set don't have a corresponding argument in `GPT2LMHeadModel.forward` and have been ignored: neutral_comment1, toxic_comment, neutral_comment2, neutral_comment3. If neutral_comment1, toxic_comment, neutral_comment2, neutral_comment3 are not expected by `GPT2LMHeadModel.forward`,  you can safely ignore this message.\n",
      "***** Running Evaluation *****\n",
      "  Num examples = 800\n",
      "  Batch size = 2\n",
      "Saving model checkpoint to ./checkpoint-8000\n",
      "Configuration saved in ./checkpoint-8000/config.json\n",
      "Configuration saved in ./checkpoint-8000/generation_config.json\n",
      "Model weights saved in ./checkpoint-8000/pytorch_model.bin\n",
      "Deleting older checkpoint [checkpoint-6000] due to args.save_total_limit\n",
      "The following columns in the evaluation set don't have a corresponding argument in `GPT2LMHeadModel.forward` and have been ignored: neutral_comment1, toxic_comment, neutral_comment2, neutral_comment3. If neutral_comment1, toxic_comment, neutral_comment2, neutral_comment3 are not expected by `GPT2LMHeadModel.forward`,  you can safely ignore this message.\n",
      "***** Running Evaluation *****\n",
      "  Num examples = 800\n",
      "  Batch size = 2\n"
     ]
    }
   ],
   "source": [
    "from transformers import Trainer\n",
    "from ruprompts.callbacks import (\n",
    "    FreezeTransformerUnfreezePrompt,\n",
    "    ReduceCheckpoint,\n",
    "    SavePretrainedPrompt,\n",
    ")\n",
    "\n",
    "trainer = Trainer(\n",
    "    model=model,\n",
    "    args=training_args,\n",
    "    train_dataset=train_dataset,\n",
    "    eval_dataset=valid_dataset,\n",
    "    data_collator=preprocessor.collate_fn(),\n",
    "    optimizers=(optimizer, scheduler),\n",
    "    callbacks=[FreezeTransformerUnfreezePrompt(), ReduceCheckpoint(), SavePretrainedPrompt(prompt)],\n",
    ")\n",
    "\n",
    "trainer.train()"
   ]
  },
  {
   "cell_type": "code",
   "execution_count": null,
   "metadata": {},
   "outputs": [],
   "source": [
    "!nvidia-smi"
   ]
  },
  {
   "cell_type": "markdown",
   "metadata": {
    "id": "fOqOhhypp5vD"
   },
   "source": [
    "## Inference"
   ]
  },
  {
   "cell_type": "markdown",
   "metadata": {
    "id": "HvYINemRp5vD"
   },
   "source": [
    "Load prompt from the last checkpoint:"
   ]
  },
  {
   "cell_type": "code",
   "execution_count": 19,
   "metadata": {
    "id": "fzOXTfjTp5vE"
   },
   "outputs": [],
   "source": [
    "from transformers import pipeline\n",
    "\n",
    "prompt = Prompt.from_pretrained(f\"./checkpoint-{training_args.max_steps}\")\n",
    "\n",
    "ppln = pipeline(\"text2text-generation-with-prompt\", prompt=prompt, model=model, tokenizer=tokenizer, device=0)"
   ]
  },
  {
   "cell_type": "code",
   "execution_count": 20,
   "metadata": {
    "id": "iaZPxuKLp5vE"
   },
   "outputs": [
    {
     "data": {
      "text/plain": [
       "[{'generated_text': 'А ну иди сюда'}]"
      ]
     },
     "execution_count": 20,
     "metadata": {},
     "output_type": "execute_result"
    }
   ],
   "source": [
    "ppln({\"toxic_comment\": \"Ублюдок, мать твою, а ну иди сюда\"}, do_sample=False)"
   ]
  },
  {
   "cell_type": "markdown",
   "metadata": {
    "id": "FUdNgICrp5vE"
   },
   "source": [
    "Run inference:"
   ]
  },
  {
   "cell_type": "code",
   "execution_count": 25,
   "metadata": {
    "id": "44SjpjExp5vE"
   },
   "outputs": [
    {
     "name": "stderr",
     "output_type": "stream",
     "text": [
      "  0%|          | 1/800 [00:00<04:23,  3.03it/s]"
     ]
    },
    {
     "name": "stdout",
     "output_type": "stream",
     "text": [
      "пиздеж! температуры горения хватит чтобы её расплавить к херам..\n",
      "- Температуры горения хватит, чтобы её расплавить\n",
      "- Температуры горения хватит чтобы её расплавить\n",
      "- Температуры горения хватит, чтобы расплавить\n",
      "- Температуры горения хватит, чтобы ее расплавить\n",
      "- температуры горения хватит чтобы её расплавить\n",
      "- Температура горения хватит, чтобы её расплавить\n",
      "- Температура горения хватит чтобы её расплавить\n",
      "- Температуры горения хватит чтобы ее расплавить\n",
      "- Температуры горения хватит чтоб её расплавить\n",
      "- Температуры горения хватит чтобы расплавить\n",
      "---> Температура горения хватит, чтобы её расплавить\n"
     ]
    },
    {
     "name": "stderr",
     "output_type": "stream",
     "text": [
      "  0%|          | 2/800 [00:00<04:00,  3.32it/s]"
     ]
    },
    {
     "name": "stdout",
     "output_type": "stream",
     "text": [
      "а ты чмо там был.ты вообще служил.гандон\n",
      "- ты вообще служил\n",
      "- А ты там был\n",
      "- а ты там был.ты вообще служил\n",
      "- Ты вообще служил\n",
      "- Ты там был\n",
      "- а ты там был\n",
      "- А ты там был. Ты вообще служил\n",
      "- Там ты был\n",
      "- а ты там был. ты вообще служил\n",
      "- А ты там был.\n",
      "---> а ты там был. ты вообще служил\n"
     ]
    },
    {
     "name": "stderr",
     "output_type": "stream",
     "text": [
      "  0%|          | 3/800 [00:00<03:42,  3.59it/s]"
     ]
    },
    {
     "name": "stdout",
     "output_type": "stream",
     "text": [
      "пиздабол ---- а сам где кормишься ?\n",
      "- а сам где кормишься\n",
      "- А сам где живешь\n",
      "- а сам где кормишься?\n",
      "- А сам где питаешься\n",
      "- А сам где кормишься\n",
      "- а сам где живешь\n",
      "- а сам где питаешься\n",
      "- А сам где живешь?\n",
      "- а сам где кормишься?\n",
      "- А сам где живёшь\n",
      "---> а сам где кормишься?\n"
     ]
    },
    {
     "name": "stderr",
     "output_type": "stream",
     "text": [
      "  0%|          | 4/800 [00:01<04:01,  3.30it/s]"
     ]
    },
    {
     "name": "stdout",
     "output_type": "stream",
     "text": [
      "этому сайту я давно не доверяю, пишут разную х...\n",
      "- этому сайту я давно не доверяю\n",
      "- этому сайту я давно не доверяю\n",
      "- этому сайту я давно не доверяю, пишут разную\n",
      "- Ему я не доверяю\n",
      "- Этому сайту я давно не доверяю\n",
      "- этому сайту я давно не доверяю, пишут разную\n",
      "- Этому сайту я не доверяю\n",
      "- тому сайту я давно не доверяю\n",
      "- ему я давно не доверяю\n",
      "- этому сайту я давно не доверяю, пишут разную ерунду\n",
      "---> этому сайту я давно не доверяю, пишут разную ерунду\n"
     ]
    },
    {
     "name": "stderr",
     "output_type": "stream",
     "text": [
      "  1%|          | 5/800 [00:01<03:59,  3.32it/s]"
     ]
    },
    {
     "name": "stdout",
     "output_type": "stream",
     "text": [
      "у меня сегодня подобный звонок был. достали говнюки.\n",
      "- у меня сегодня подобный звонок был\n",
      "- У меня сегодня подобный звонок был\n",
      "- у меня сегодня подобный звонок был.\n",
      "- У меня сегодня такой звонок был\n",
      "- У меня сегодня подобный звонок был.\n",
      "- У меня сегодня такой же звонок был\n",
      "- у меня сегодня такой звонок был\n",
      "- У меня сегодня такой звонок был.\n",
      "- У меня сегодня подобный звонок был. Достали\n",
      "- у меня сегодня такой звонок был.\n",
      "---> У меня сегодня подобный звонок был. Достали\n"
     ]
    },
    {
     "name": "stderr",
     "output_type": "stream",
     "text": [
      "  1%|          | 6/800 [00:01<04:14,  3.12it/s]"
     ]
    },
    {
     "name": "stdout",
     "output_type": "stream",
     "text": [
      "это где у неё в россии,пушкинская область?долбоебка\n",
      "- это где у неё в россии,пушкинская область?\n",
      "- это где у нее в россии,пушкинская область?\n",
      "- Это где у неё в России, Пушкинская область?\n",
      "- Это где у нее в России, Пушкинская область?\n",
      "- Это где у нее в России?\n",
      "- Это где у неё в России?\n",
      "- Это где у неё в России, Пушкинская область\n",
      "- Это где у нее в России, Пушкинская область\n",
      "- Это где в России Пушкинская область\n",
      "- Это где в России Пушкинская область?\n",
      "---> Это где у нее в России, Пушкинская область?\n"
     ]
    },
    {
     "name": "stderr",
     "output_type": "stream",
     "text": [
      "  1%|          | 7/800 [00:02<03:51,  3.43it/s]"
     ]
    },
    {
     "name": "stdout",
     "output_type": "stream",
     "text": [
      "вы чо курите блять ?\n",
      "- Вы что курите\n",
      "- вы что курите\n",
      "- Что вы курите\n",
      "- Вы курите\n",
      "- вы чего курите\n",
      "- Вы что курите?\n",
      "- что вы курите\n",
      "- вы курите\n",
      "- Вы чего курите\n",
      "- Зачем вы курите\n",
      "---> Зачем вы курите\n"
     ]
    },
    {
     "name": "stderr",
     "output_type": "stream",
     "text": [
      "  1%|          | 8/800 [00:02<03:37,  3.64it/s]"
     ]
    },
    {
     "name": "stdout",
     "output_type": "stream",
     "text": [
      "разыскать и расстрелять к едрене фене\n",
      "- Найти и наказать\n",
      "- Разыскать и наказать\n",
      "- разыскать и наказать\n",
      "- Наказать\n",
      "- Уничтожить\n",
      "- Расстрелять\n",
      "- расстрелять\n",
      "- расследовать и наказать\n",
      "- Расследовать и наказать\n",
      "- Разыскать и наказать.\n",
      "---> Расследовать и наказать\n"
     ]
    },
    {
     "name": "stderr",
     "output_type": "stream",
     "text": [
      "  1%|          | 9/800 [00:02<03:35,  3.68it/s]"
     ]
    },
    {
     "name": "stdout",
     "output_type": "stream",
     "text": [
      "да к стенке надо ставить таких врачей извергов\n",
      "- Надо наказывать таких врачей\n",
      "- да к стенке надо ставить таких врачей\n",
      "- Надо их наказывать\n",
      "- Надо наказать таких врачей\n",
      "- надо наказывать таких врачей\n",
      "- Да к стенке надо ставить таких врачей\n",
      "- Надо их наказать\n",
      "- Да надо их наказывать\n",
      "- да надо их наказать\n",
      "- Да надо их наказать\n",
      "---> Да к стенке надо ставить таких врачей\n"
     ]
    },
    {
     "name": "stderr",
     "output_type": "stream",
     "text": [
      "  1%|▏         | 10/800 [00:02<03:55,  3.35it/s]"
     ]
    },
    {
     "name": "stdout",
     "output_type": "stream",
     "text": [
      "куда смотрят модераторы фотографий? как можно было пропустить эту фотографию? а этого урода убила бы\n",
      "- Куда смотрят модераторы фотографий? Как можно было пропустить эту фотографию?\n",
      "- куда смотрят модераторы фотографий? как можно было пропустить эту фотографию?\n",
      "- Куда смотрят модераторы фотографий?\n",
      "- Куда смотрят модераторы фотографий\n",
      "- Куда смотрят модераторы фотографий? Как можно было пропустить эту фотографию\n",
      "- Куда смотрят модераторы фотографий? как можно было пропустить эту фотографию?\n",
      "- куда смотрят модераторы фотографий? как можно было пропустить эту фотографию\n",
      "- Куда смотрит модераторы фотографий? Как можно было пропустить эту фотографию?\n",
      "- Куда смотрят модераторы фото? Как можно было пропустить эту фотографию?\n",
      "- Куда смотрят модераторы фотографий? как можно было пропустить эту фотографию\n",
      "---> Куда смотрит модераторы фотографий? Как можно было пропустить эту фотографию?\n"
     ]
    },
    {
     "name": "stderr",
     "output_type": "stream",
     "text": [
      "  1%|▏         | 11/800 [00:03<03:58,  3.31it/s]"
     ]
    },
    {
     "name": "stdout",
     "output_type": "stream",
     "text": [
      "воо дура!!!а просто в полицию не могла позвонить?\n",
      "- А просто в полицию не могла позвонить\n",
      "- а просто в полицию не могла позвонить?\n",
      "- а просто в полицию не могла позвонить\n",
      "- А просто в полицию не могла позвонить?\n",
      "- В полицию не могла позвонить\n",
      "- А просто в полицию позвонить не могла\n",
      "- Просто в полицию не могла позвонить\n",
      "- А просто не могла позвонить в полицию\n",
      "- дура!а просто в полицию не могла позвонить?\n",
      "- дура!!!а просто в полицию не могла позвонить?\n",
      "---> дура!!!а просто в полицию не могла позвонить?\n"
     ]
    },
    {
     "name": "stderr",
     "output_type": "stream",
     "text": [
      "  2%|▏         | 12/800 [00:03<04:03,  3.23it/s]"
     ]
    },
    {
     "name": "stdout",
     "output_type": "stream",
     "text": [
      "украина в канаде, крым в россии, карабас в жопе.\n",
      "- Украина в Канаде, Крым в России\n",
      "- Украина в Канаде, Крым в России\n",
      "- Украина в Канаде, Крым в России.\n",
      "- украина в канаде, крым в россии\n",
      "- Украина в Канаде, Крым в России\n",
      "- Украина в Канаде, крым в России\n",
      "- Украина в Канаде, Крым в России, американец в России\n",
      "- Украина в Канаде, Крым в России.\n",
      "- Украина в канаде, Крым в России\n",
      "- Украина в Канаде,Крым в России\n",
      "---> Украина в Канаде, Крым в России, американец в России\n"
     ]
    },
    {
     "name": "stderr",
     "output_type": "stream",
     "text": [
      "  2%|▏         | 13/800 [00:03<04:06,  3.19it/s]"
     ]
    },
    {
     "name": "stdout",
     "output_type": "stream",
     "text": [
      "суки пиздят за неделю всё разволилось\n",
      "- Они врут за неделю\n",
      "- бьют за неделю всё разволилось\n",
      "- Люди врут за неделю\n",
      "- Плохие люди врут за неделю\n",
      "- Плохие люди говорят за неделю всё расстроилось\n",
      "- Говорят за неделю всё расстроилось\n",
      "- Плохие люди говорят за неделю всё разволилось\n",
      "- Лгут за неделю всё расстроилось\n",
      "- Лгут за неделю всё разволилось\n",
      "- Они говорят за неделю всё расстроилось\n",
      "---> Плохие люди говорят за неделю всё расстроилось\n"
     ]
    },
    {
     "name": "stderr",
     "output_type": "stream",
     "text": [
      "  2%|▏         | 14/800 [00:04<04:01,  3.25it/s]"
     ]
    },
    {
     "name": "stdout",
     "output_type": "stream",
     "text": [
      "ну да, вы только обоссатся можете\n",
      "- Ну да, вы только глупости говорить можете\n",
      "- Ну да, вы только говорить можете\n",
      "- ну да, вы только говорить можете\n",
      "- ну да, вы только глупости говорить можете\n",
      "- Ну да, вы только насмехаться можете\n",
      "- Ну да, вы только болтать можете\n",
      "- ну да\n",
      "- Ну да, вы только глупости говорите\n",
      "- Ну да, вы только говорить умеете\n",
      "- Ну да, вы только глупости можете говорить\n",
      "---> Ну да, вы только глупости можете говорить\n"
     ]
    },
    {
     "name": "stderr",
     "output_type": "stream",
     "text": [
      "  2%|▏         | 15/800 [00:04<04:07,  3.17it/s]"
     ]
    },
    {
     "name": "stdout",
     "output_type": "stream",
     "text": [
      "посмотреть бы на нее когда будет пенсионеркой идиотка\n",
      "- Посмотреть бы на нее когда будет пенсионеркой\n",
      "- посмотреть бы на нее когда будет пенсионеркой\n",
      "- Посмотреть бы на неё когда будет пенсионеркой\n",
      "- Посмотреть бы на нее когда будет пенсионером\n",
      "- Посмотреть бы на нее когда станет пенсионеркой\n",
      "- Посмотреть бы на неё когда будет пенсионером\n",
      "- Посмотреть бы на неё когда станет пенсионеркой\n",
      "- Посмотреть бы на нее когда она будет пенсионеркой\n",
      "- Посмотреть бы на нее когда будет пенсионерка\n",
      "- Посмотреть бы на нее, когда будет пенсионеркой\n",
      "---> Посмотреть бы на нее когда она будет пенсионеркой\n"
     ]
    },
    {
     "name": "stderr",
     "output_type": "stream",
     "text": [
      "  2%|▏         | 16/800 [00:04<03:56,  3.32it/s]"
     ]
    },
    {
     "name": "stdout",
     "output_type": "stream",
     "text": [
      "дебили пару головастиков и обосрались.\n",
      "- Пара головастиков и испортили\n",
      "- пара головастиков и испортили\n",
      "- Пара головастиков и испортились\n",
      "- пара пара пара\n",
      "- пара головастиков и испугались\n",
      "- Пара пара пара пара\n",
      "- Пара головастиков и испугались\n",
      "- пара головастиков и испортились\n",
      "- Плохие люди.\n",
      "- Пара головастиков и обманули\n",
      "---> пара головастиков и испортились\n"
     ]
    },
    {
     "name": "stderr",
     "output_type": "stream",
     "text": [
      "  2%|▏         | 17/800 [00:05<03:45,  3.48it/s]"
     ]
    },
    {
     "name": "stdout",
     "output_type": "stream",
     "text": [
      "а тем более с долбоебами\n",
      "- А тем более с ними\n",
      "- А тем более с плохими людьми\n",
      "- а тем более с плохими людьми\n",
      "- А тем более с глупцами\n",
      "- а тем более с ними\n",
      "- А тем более с такими людьми\n",
      "- А тем более с нехорошими людьми\n",
      "- А тем более с людьми ограниченными\n",
      "- А тем более с не хорошими людьми\n",
      "- А тем более с людьми не правильными\n",
      "---> А тем более с людьми не правильными\n"
     ]
    },
    {
     "name": "stderr",
     "output_type": "stream",
     "text": [
      "  2%|▏         | 18/800 [00:05<04:37,  2.82it/s]"
     ]
    },
    {
     "name": "stdout",
     "output_type": "stream",
     "text": [
      "ой блять не сиди и там пизди на случай если кто то сидит и тvаги ро раге там пиздит\n",
      "- Ой не сиди и там говори\n",
      "- Не сиди и там говори\n",
      "- Ой не сиди и там говори на случай если кто то сидит\n",
      "- Ой не сиди и там говори на случай если кто-то сидит\n",
      "- Ой не сиди и там говори на случай если кто то сидит и тvаги ро раге там говорит\n",
      "- ой не сиди и там говори на случай если кто то сидит и тvаги ро раге там говорит\n",
      "- Ой, не сиди и там говори\n",
      "- Ой не сиди и там говори на случай если кто-то сидит и тvаги ро раге там говорит\n",
      "- Ой, не сиди и там говори на случай если кто-то сидит\n",
      "- Сиди и там говори\n",
      "---> Ой не сиди и там говори на случай если кто-то сидит и тvаги ро раге там говорит\n"
     ]
    },
    {
     "name": "stderr",
     "output_type": "stream",
     "text": [
      "  2%|▏         | 19/800 [00:05<04:50,  2.69it/s]"
     ]
    },
    {
     "name": "stdout",
     "output_type": "stream",
     "text": [
      "Жооора, мусик твой! Эй, уйди, Я с вами вижу раааай.\n",
      "- Эй, уйди, Я с вами вижу рай\n",
      "- Мусик твой! Эй, уйди, Я с вами вижу рай\n",
      "- Мусик мой! Эй, уйди, Я с вами вижу рай\n",
      "- Мусик твой! Эй, уходи, Я с вами вижу рай\n",
      "- мусик твой! Эй, уйди, Я с вами вижу рай\n",
      "- Мусик, уйди, Я с вами вижу рай\n",
      "- Мусик мой! Эй, уходи, Я с вами вижу рай\n",
      "- Мусик твой! Эй, уйди, Я с вами вижу раааай\n",
      "- мусик твой! Эй, уйди, Я с вами вижу раааай\n",
      "- Эй, уйди, Я с вами вижу раай\n",
      "---> мусик твой! Эй, уйди, Я с вами вижу раааай\n"
     ]
    },
    {
     "name": "stderr",
     "output_type": "stream",
     "text": [
      "  2%|▎         | 20/800 [00:06<05:03,  2.57it/s]"
     ]
    },
    {
     "name": "stdout",
     "output_type": "stream",
     "text": [
      "свнорылая не пизди мразь хохлятская никто в днр и не собирается в вашу гнидную вонючую усраину не бреши\n",
      "- Никто в Днр и не собирается в вашу Украину\n",
      "- никто в днр и не собирается в вашу украину\n",
      "- Никто в днр и не собирается в вашу Украину\n",
      "- никто в днр и не собирается в вашу украину не бреши\n",
      "- Никто в ДНР и не собирается в вашу Украину\n",
      "- Никто в Донецк и не собирается в вашу Украину\n",
      "- Никто в Донецке и не собирается в вашу Украину\n",
      "- Никто в днр и не собирается в вашу украину\n",
      "- Никто в Днр и не собирается в вашу украину\n",
      "- Никто в Донбасс и не собирается в вашу Украину\n",
      "---> никто в днр и не собирается в вашу украину не бреши\n"
     ]
    },
    {
     "name": "stderr",
     "output_type": "stream",
     "text": [
      "  3%|▎         | 21/800 [00:06<04:31,  2.87it/s]"
     ]
    },
    {
     "name": "stdout",
     "output_type": "stream",
     "text": [
      "А вот и совок обосраный.\n",
      "- А вот и СССР\n",
      "- А вот и Советский Союз\n",
      "- А вот и совок\n",
      "- А вот и советский человек\n",
      "- А вот и СССР.\n",
      "- Советский человек\n",
      "- А вот и советский строй\n",
      "- А вот и Советский союз\n",
      "- А вот и Советский Союз.\n",
      "- А вот и советское время\n",
      "---> А вот и советский человек\n"
     ]
    },
    {
     "name": "stderr",
     "output_type": "stream",
     "text": [
      "  3%|▎         | 22/800 [00:06<04:22,  2.97it/s]"
     ]
    },
    {
     "name": "stdout",
     "output_type": "stream",
     "text": [
      "Ты, бля, не мороси, служил, али как?\n",
      "- Ты служил?\n",
      "- Ты не мороси, служил, али как?\n",
      "- Ты не мороси, служил\n",
      "- Ты служил\n",
      "- Ты служил, али как?\n",
      "- Ты не морочь, служил, али как?\n",
      "- Ты не морочь, служил\n",
      "- ты не мороси, служил, али как?\n",
      "- Не морочь, служил\n",
      "- Не мороси, служил\n",
      "---> ты не мороси, служил, али как?\n"
     ]
    },
    {
     "name": "stderr",
     "output_type": "stream",
     "text": [
      "  3%|▎         | 23/800 [00:07<03:59,  3.24it/s]"
     ]
    },
    {
     "name": "stdout",
     "output_type": "stream",
     "text": [
      "а мы просим тебя иди нахуй\n",
      "- А мы просим тебя уйти\n",
      "- а мы просим тебя уйти\n",
      "- а мы просим тебя уходи\n",
      "- Мы просим тебя уйти\n",
      "- А мы просим тебя уходи\n",
      "- а мы просим тебя не разговаривать\n",
      "- А мы просим уйти\n",
      "- А мы просим тебя не разговаривать\n",
      "- а мы просим тебя не говорить\n",
      "- А мы просим тебя уйди\n",
      "---> А мы просим тебя не разговаривать\n"
     ]
    },
    {
     "name": "stderr",
     "output_type": "stream",
     "text": [
      "  3%|▎         | 24/800 [00:08<09:03,  1.43it/s]"
     ]
    },
    {
     "name": "stdout",
     "output_type": "stream",
     "text": [
      "ИИИИИииииииииииииииииииииииииииии, сцуко вроде когда то страх нагоняло)\n",
      "- аааааааааааааааааааааааааааааааааааааааааааааааааааааааааааааааааааааааааааааааааааааааааааааааааааааааааааааааааааааааааааааааааааааааааааааааааааааааааааааааааааааааааааааааааааааааааааааааааааааааа\n",
      "- Иииииииииииииииииииииииииии, сцуко вроде когда то страх нагоняло)\n",
      "- Иииииииииииииииииииииииии, сцуко вроде когда то страх нагоняло)\n",
      "- Иииииииииииииииииииииииииииии, сцуко вроде когда то страх нагоняло)\n",
      "- Иииииииииииииииииииииииииии, сцуко вроде когда то страх нагонял)\n",
      "- Иииииииииииииииииииииииииииииии, сцуко вроде когда то страх нагоняло)\n",
      "- Иииииииииииииииииииииииииии, сцуко вроде когда то страх нагонял\n",
      "- Иииииииииииииииииииииииии, сцуко вроде когда то страх нагонял)\n",
      "- Иииииииииииииииииииииииии, сцуко вроде когда то страх нагонял\n",
      "- Иииииииииииииииииииииииииииии, сцуко вроде когда то страх нагонял\n",
      "---> аааааааааааааааааааааааааааааааааааааааааааааааааааааааааааааааааааааааааааааааааааааааааааааааааааааааааааааааааааааааааааааааааааааааааааааааааааааааааааааааааааааааааааааааааааааааааааааааааааааааа\n"
     ]
    },
    {
     "name": "stderr",
     "output_type": "stream",
     "text": [
      "  3%|▎         | 25/800 [00:09<08:36,  1.50it/s]"
     ]
    },
    {
     "name": "stdout",
     "output_type": "stream",
     "text": [
      "отобрать эту дубинку да ему по башке,как же,вы сволочи полицаи,будете жить среди этих избитых!\n",
      "- Наказать их\n",
      "- отобрать эту дубинку да ему по башке\n",
      "- Наказать этих полицейских\n",
      "- Наказать этих людей\n",
      "- Отобрать эту дубинку и наказать\n",
      "- Отобрать эту дубинку, как же, будете жить среди этих избитых\n",
      "- Отобрать эту дубинку, как же, будете жить среди этих избитых!\n",
      "- Отобрать эту дубинку, как же, будете жить среди этих людей\n",
      "- отобрать эту дубинку да ему по башке,как же,полицаи,будете жить среди этих избитых!\n",
      "- отобрать эту дубинку да ему по башке, как же, будете жить среди этих избитых!\n",
      "---> отобрать эту дубинку да ему по башке,как же,полицаи,будете жить среди этих избитых!\n"
     ]
    },
    {
     "name": "stderr",
     "output_type": "stream",
     "text": [
      "  3%|▎         | 26/800 [00:09<07:18,  1.76it/s]"
     ]
    },
    {
     "name": "stdout",
     "output_type": "stream",
     "text": [
      "нос человека ,хуй пойму как и что за фото шоп\n",
      "- Нос человека пойму как и что за фото\n",
      "- Нос человека не пойму как и что за фото\n",
      "- Нос человека  пойму как и что за фотошоп\n",
      "- Нос человека, не пойму как и что за фото\n",
      "- Нос человека  пойму как и что за фото\n",
      "- Нос человека понимаю как и что за фото\n",
      "- Нос человека, не пойму как и что за фотошоп\n",
      "- Нос человека пойму, как и что за фото\n",
      "- Нос человека, пойму как и что за фото\n",
      "- Нос человека, пойму как и что за фотошоп\n",
      "---> Нос человека, не пойму как и что за фотошоп\n"
     ]
    },
    {
     "name": "stderr",
     "output_type": "stream",
     "text": [
      "  3%|▎         | 27/800 [00:10<06:12,  2.07it/s]"
     ]
    },
    {
     "name": "stdout",
     "output_type": "stream",
     "text": [
      "это не наглость. это подлость! мерзавец папаколи.\n",
      "- Это не наглость\n",
      "- это не наглость.\n",
      "- Это не наглость.\n",
      "- это не наглость\n",
      "- Это не наглость, это подлость\n",
      "- Это не наглость. Это подлость\n",
      "- Это не наглость. Это обман\n",
      "- Это не наглость, это обман\n",
      "- Это не наглость. Это плохо\n",
      "- Это не наглость, это плохо\n",
      "---> Это не наглость. Это подлость\n"
     ]
    },
    {
     "name": "stderr",
     "output_type": "stream",
     "text": [
      "  4%|▎         | 28/800 [00:10<06:10,  2.08it/s]"
     ]
    },
    {
     "name": "stdout",
     "output_type": "stream",
     "text": [
      "какая то выкинула .. руки бы оторвать....стерилизуйте своих питомцев,люди!!!!\n",
      "- какая то выкинула.. руки бы оторвать....стерилизуйте своих питомцев\n",
      "- Какая то выкинула.. руки бы оторвать....стерилизуйте своих питомцев\n",
      "- какая-то выкинула.. руки бы оторвать....стерилизуйте своих питомцев\n",
      "- какая то выкинула.. руки бы оторвать....стерилизуйте своих питомцев,люди!!!!\n",
      "- какая то выкинула.. руки бы оторвать....стерилизуйте своих питомцев\n",
      "- Какая то выкинула, руки бы оторвать\n",
      "- Какая то выкинула.. руки бы оторвать....стерилизуйте своих питомцев\n",
      "- какая то выкинула.. руки бы оторвать....стерилизуйте своих питомцев!!!!\n",
      "- какая то выкинула.. руки бы оторвать.....стерилизуйте своих питомцев\n",
      "- какая то выкинула.. руки бы оторвать...стерилизуйте своих питомцев\n",
      "---> какая то выкинула.. руки бы оторвать....стерилизуйте своих питомцев,люди!!!!\n"
     ]
    },
    {
     "name": "stderr",
     "output_type": "stream",
     "text": [
      "  4%|▎         | 29/800 [00:10<05:21,  2.40it/s]"
     ]
    },
    {
     "name": "stdout",
     "output_type": "stream",
     "text": [
      "долбоеб , чей ты предок , тебя спрашиваю ?\n",
      "- Кто твой предок\n",
      "- Кто твой предок?\n",
      "- Кто ты?\n",
      "- Кто ты предок?\n",
      "- кто ты предок, тебя спрашиваю\n",
      "- кого ты предок, тебя спрашиваю\n",
      "- Кто твой предок?\n",
      "- кто ты предок, меня спрашиваю\n",
      "- Кто ты предок, меня спрашиваю\n",
      "- Какой ты предок, меня спрашиваю\n",
      "---> Какой ты предок, меня спрашиваю\n"
     ]
    },
    {
     "name": "stderr",
     "output_type": "stream",
     "text": [
      "  4%|▍         | 30/800 [00:11<05:00,  2.57it/s]"
     ]
    },
    {
     "name": "stdout",
     "output_type": "stream",
     "text": [
      "сашок пзьдец, позорище проебал последний бой!!! (((((\n",
      "- Позорище, потерял последний бой\n",
      "- Позорище, проиграл последний бой\n",
      "- Сашок, позор, потерял последний бой\n",
      "- Сашок, позор, проиграл последний бой\n",
      "- Позорище, последний бой\n",
      "- позорище проебал последний бой\n",
      "- позорище проёбал последний бой\n",
      "- позорище проебал последний бой!!!\n",
      "- позорище проёбал последний бой!!!\n",
      "- позорище проебал последний бой!!! (((((\n",
      "---> позорище проебал последний бой!!! (((((\n"
     ]
    },
    {
     "name": "stderr",
     "output_type": "stream",
     "text": [
      "  4%|▍         | 31/800 [00:11<04:31,  2.84it/s]"
     ]
    },
    {
     "name": "stdout",
     "output_type": "stream",
     "text": [
      "кто снимал и выложил, урод моральный!\n",
      "- Кто снимал и выложил\n",
      "- кто снимал и выложил\n",
      "- кто снимал и выложил!\n",
      "- Кто снял и выложил\n",
      "- Кто снимал и выложил?\n",
      "- Кто снимал и выложил!\n",
      "- Кто снимал и выложил.\n",
      "- Кто снимал, плохой человек\n",
      "- Тот кто снимал и выложил\n",
      "- кто снимал и выложил.\n",
      "---> Кто снимал, плохой человек\n"
     ]
    },
    {
     "name": "stderr",
     "output_type": "stream",
     "text": [
      "  4%|▍         | 32/800 [00:11<04:01,  3.18it/s]"
     ]
    },
    {
     "name": "stdout",
     "output_type": "stream",
     "text": [
      "это твари а не люди\n",
      "- Это не люди\n",
      "- Это плохие люди\n",
      "- Люди а не люди\n",
      "- это не люди\n",
      "- Это люди а не люди\n",
      "- Это люди\n",
      "- это люди а не люди\n",
      "- это плохие люди\n",
      "- это люди\n",
      "- Это нехорошие люди\n",
      "---> Это нехорошие люди\n"
     ]
    },
    {
     "name": "stderr",
     "output_type": "stream",
     "text": [
      "  4%|▍         | 33/800 [00:12<04:59,  2.56it/s]"
     ]
    },
    {
     "name": "stdout",
     "output_type": "stream",
     "text": [
      "нас ебать на4али с 56 года,когда либералы внедрились путём наглого обмана и провокаций в коммунисти4ескуюю партию вкп(б)\n",
      "- Нас обманули с 56 года\n",
      "- Нас обманули с 56 года, когда либералы внедрились путём обмана и провокаций в коммунистическую партию\n",
      "- на4али с 56 года,когда либералы внедрились путём наглого обмана и провокаций\n",
      "- Нас обманули с 56 года, когда либералы внедрились путём обмана и провокаций\n",
      "- Нас обманули с 56 года, когда либералы внедрились путём наглого обмана и провокаций\n",
      "- на4али с 56 года,когда либералы внедрились путём наглого обмана и провокаций в коммунисти4ескуюю партию\n",
      "- на4али с 56 года,когда либералы внедрились путём обмана и провокаций\n",
      "- на4али с 56 года,когда либералы внедрились путём обмана и провокаций в коммунисти4ескуюю партию\n",
      "- нас обманули с 56 года,когда либералы внедрились путём наглого обмана и провокаций\n",
      "- Нас обманули с 1956 года, когда либералы внедрились путём обмана и провокаций в коммунистическую партию\n",
      "---> Нас обманули с 1956 года, когда либералы внедрились путём обмана и провокаций в коммунистическую партию\n"
     ]
    },
    {
     "name": "stderr",
     "output_type": "stream",
     "text": [
      "  4%|▍         | 34/800 [00:12<04:30,  2.83it/s]"
     ]
    },
    {
     "name": "stdout",
     "output_type": "stream",
     "text": [
      "это не цирк это уже блядь шоу.\n",
      "- Это не цирк это уже шоу\n",
      "- это не цирк это уже шоу\n",
      "- это не цирк это уже цирк\n",
      "- Это не цирк это уже цирк\n",
      "- Это не цирк, это уже шоу\n",
      "- Это не цирк, это уже цирк\n",
      "- это не цирк это уже шоу.\n",
      "- Это уже цирк\n",
      "- Это не цирк это уже представление\n",
      "- это не цирк, это уже шоу\n",
      "---> Это не цирк это уже представление\n"
     ]
    },
    {
     "name": "stderr",
     "output_type": "stream",
     "text": [
      "  4%|▍         | 35/800 [00:12<04:27,  2.86it/s]"
     ]
    },
    {
     "name": "stdout",
     "output_type": "stream",
     "text": [
      "ты юрист? или так просто вышла язык об кучку говна почесать ??\n",
      "- Ты юрист? Или так просто вышла язык почесать\n",
      "- ты юрист? или так просто вышла язык почесать\n",
      "- ты юрист? или так просто вышла язык почесать??\n",
      "- Ты юрист или так просто вышла язык почесать\n",
      "- Ты юрист? или так просто вышла язык почесать\n",
      "- Ты юрист? Или так просто вышла язык почесать??\n",
      "- Ты юрист? Или просто вышла язык почесать\n",
      "- Ты юрист? Или так просто вышла язык почесать?\n",
      "- ты юрист? Или так просто вышла язык почесать\n",
      "- Ты юрист? Или так просто вышел язык почесать\n",
      "---> Ты юрист? Или так просто вышла язык почесать??\n"
     ]
    },
    {
     "name": "stderr",
     "output_type": "stream",
     "text": [
      "  4%|▍         | 36/800 [00:13<04:32,  2.80it/s]"
     ]
    },
    {
     "name": "stdout",
     "output_type": "stream",
     "text": [
      "бля! я всётаки охуеваю,с чего народ ржёт. быдломасса...\n",
      "- я всё таки удивляюсь,с чего народ ржёт\n",
      "- я всё таки охуеваю,с чего народ ржёт\n",
      "- я всё таки удивляюсь, с чего народ ржёт\n",
      "- я всё таки удивляюсь,с чего народ смеется\n",
      "- я всё таки охуеваю\n",
      "- я все таки удивляюсь,с чего народ ржёт\n",
      "- я всё таки удивляюсь.\n",
      "- я всё таки удивляюсь, с чего народ смеется\n",
      "- я все таки удивляюсь,с чего народ смеется\n",
      "- я всё таки удивляюсь,с чего народ смеётся\n",
      "---> я всё таки удивляюсь, с чего народ смеется\n"
     ]
    },
    {
     "name": "stderr",
     "output_type": "stream",
     "text": [
      "  5%|▍         | 37/800 [00:13<05:24,  2.35it/s]"
     ]
    },
    {
     "name": "stdout",
     "output_type": "stream",
     "text": [
      "Навязывание любой религии дно, но есть. Православие для русских не является чужой враждебно-настроеной религией.\n",
      "- Навязывание любой религии дно, но есть. Православие для русских не является чужой враждебно-настроенной религией.\n",
      "- Навязывание любой религии дно, но есть. Православие для русских не является чужой враждебно-настроенной религией\n",
      "- Навязывание любой религии дно, но есть. Православие для русских не является чужой враждебно настроенной религией.\n",
      "- Навязывание любой религии дно, но есть. Православие для русских не является чужой враждебно-настроеной религией.\n",
      "- Навязывание любой религии дно, но есть. Православие для русских не является чужой враждебно настроенной религией\n",
      "- Навязывание любой религии дно, но есть. Православие для русских не является чужой враждебно-настроеной религией\n",
      "- Навязывание любой религии дно, но есть. Православие для русских не является чужой враждебно-настроенной религией.\n",
      "- Навязывание любой религии дно, но есть. Православие для русских не является чужой враждебно-настроенной религией\n",
      "- Навязывание любой религии дно, но есть. Православие для русских не является чужой враждебно настроенной религией.\n",
      "- Навязывание любой религии дно, но есть. Православие для русских не является чужой враждебно настроенной религией\n",
      "---> Навязывание любой религии дно, но есть. Православие для русских не является чужой враждебно настроенной религией.\n"
     ]
    },
    {
     "name": "stderr",
     "output_type": "stream",
     "text": [
      "  5%|▍         | 38/800 [00:14<05:34,  2.28it/s]"
     ]
    },
    {
     "name": "stdout",
     "output_type": "stream",
     "text": [
      "скажите мне митрополит кирилл шизофреник не сергий романов схимонах ставит диагнозы ахилла\n",
      "- скажите мне митрополит Кирилл шизофреник не сергий романов схимонах ставит диагнозы\n",
      "- скажите мне митрополит кирилл шизофреник не сергий романов схимонах ставит диагнозы\n",
      "- скажите мне митрополит Кирилл не сергий романов схимонах ставит диагнозы\n",
      "- скажите мне митрополит кирилл не сергий романов схимонах ставит диагнозы\n",
      "- скажите мне митрополит Кирилл шизофреник не сергий романов схимонах ставит диагнозы ахилла\n",
      "- Скажите мне митрополит Кирилл шизофреник не сергий романов схимонах ставит диагнозы\n",
      "- скажите митрополит Кирилл шизофреник не сергий романов схимонах ставит диагнозы\n",
      "- скажите мне митрополит кирилл шизофреник не сергий романов схимонах ставит диагнозы ахилла\n",
      "- скажите мне митрополит Кирилл шизофреник не Сергий романов схимонах ставит диагнозы\n",
      "- скажите мне митрополит Кирилл не святой схимонах ставит диагнозы\n",
      "---> скажите мне митрополит кирилл шизофреник не сергий романов схимонах ставит диагнозы ахилла\n"
     ]
    },
    {
     "name": "stderr",
     "output_type": "stream",
     "text": [
      "  5%|▍         | 39/800 [00:14<04:58,  2.55it/s]"
     ]
    },
    {
     "name": "stdout",
     "output_type": "stream",
     "text": [
      "далбоебы путиных в запасе лет на 200\n",
      "- Путины в запасе лет на 200\n",
      "- путины в запасе лет на 200\n",
      "- путиных в запасе лет на 200\n",
      "- Путина в запасе лет на 200\n",
      "- Путины в запасе лет 200\n",
      "- Путиных в запасе лет на 200\n",
      "- Путин в запасе лет на 200\n",
      "- путин в запасе лет на 200\n",
      "- путины в запасе лет на 200\n",
      "- Путины в запасе лет 100\n",
      "---> Путиных в запасе лет на 200\n"
     ]
    },
    {
     "name": "stderr",
     "output_type": "stream",
     "text": [
      "  5%|▌         | 40/800 [00:14<04:56,  2.57it/s]"
     ]
    },
    {
     "name": "stdout",
     "output_type": "stream",
     "text": [
      "она с этими скринами ей адресованными годами носиться будет. пиздец ебанутая жаба😂😂😂😂😂😂😂\n",
      "- она с этими скринами ей адресованными годами носиться будет\n",
      "- Она с этими скринами ей адресованными годами носиться будет\n",
      "- она с этими скринами ей адресованными годами носиться будет.\n",
      "- она с этими скринами ей адресованными годами носится будет\n",
      "- Она с этими скринами ей адресованными годами носиться будет.\n",
      "- она с этим скринами ей адресованными годами носиться будет\n",
      "- Она с этими скринами ей адресованными годами носится будет\n",
      "- она с этими скринами им адресованными годами носиться будет\n",
      "- она с этими сканами ей адресованными годами носиться будет\n",
      "- она со скринами ей адресованными годами носиться будет\n",
      "---> Она с этими скринами ей адресованными годами носиться будет.\n"
     ]
    },
    {
     "name": "stderr",
     "output_type": "stream",
     "text": [
      "  5%|▌         | 41/800 [00:15<04:45,  2.65it/s]"
     ]
    },
    {
     "name": "stdout",
     "output_type": "stream",
     "text": [
      "возле какого там 10 августа так что х**** несёшь ты где блять это прочитала дура е*****\n",
      "- возле какого там 10 августа так что несёшь ты где\n",
      "- возле какого там 10 августа так что ты несёшь\n",
      "- возле какого там 10 августа так что ты несешь\n",
      "- возле какого там 10 августа так что молчи\n",
      "- возле какого там 10 августа так что несешь ты где\n",
      "- возле какого там 10 августа так что не говори\n",
      "- Где это 10 августа?\n",
      "- возле какого там 10 августа так что ты говоришь\n",
      "- Возле какого там 10 августа?\n",
      "- возле какого там 10 августа так что говоришь ты где\n",
      "---> возле какого там 10 августа так что говоришь ты где\n"
     ]
    },
    {
     "name": "stderr",
     "output_type": "stream",
     "text": [
      "  5%|▌         | 42/800 [00:15<04:33,  2.78it/s]"
     ]
    },
    {
     "name": "stdout",
     "output_type": "stream",
     "text": [
      "сосед который всю жизнь но затих сверлил сука начал кашлять\n",
      "- сосед который всю жизнь но затих сверлил\n",
      "- сосед который всю жизнь но затих начал кашлять\n",
      "- сосед который всю жизнь сверлил начал кашлять\n",
      "- сосед который всю жизнь но утих сверлил\n",
      "- Сосед который всю жизнь но затих сверлил\n",
      "- Сосед который всю жизнь но затих начал кашлять\n",
      "- сосед который всю жизнь но замолчал начал кашлять\n",
      "- сосед который всю жизнь начал кашлять\n",
      "- сосед который всю жизнь кашлял начал кашлять\n",
      "- Сосед который всю жизнь сверлил начал кашлять\n",
      "---> сосед который всю жизнь но замолчал начал кашлять\n"
     ]
    },
    {
     "name": "stderr",
     "output_type": "stream",
     "text": [
      "  5%|▌         | 43/800 [00:15<04:14,  2.98it/s]"
     ]
    },
    {
     "name": "stdout",
     "output_type": "stream",
     "text": [
      "подстрекатель родину гад не любиш .....\n",
      "- Родину не любишь\n",
      "- Подстрекатель родину не любишь\n",
      "- подстрекатель родину не любишь\n",
      "- Подстрекатель Родину не любишь\n",
      "- Не любишь родину\n",
      "- Любишь родину\n",
      "- Подстрекатель родину не любиш\n",
      "- Родина не любишь\n",
      "- Не любишь Родину\n",
      "- Родину не любиш\n",
      "---> Подстрекатель Родину не любишь\n"
     ]
    },
    {
     "name": "stderr",
     "output_type": "stream",
     "text": [
      "  6%|▌         | 44/800 [00:16<04:45,  2.65it/s]"
     ]
    },
    {
     "name": "stdout",
     "output_type": "stream",
     "text": [
      "чё за хуйню выставляют! чё суки творите, общаться надо, а не хуйпы творить,\n",
      "- чё за ерунду выставляют! чё творите\n",
      "- Что за ерунду выставляют, общаться надо\n",
      "- Что за ерунду выставляют, общаться надо, а не ерунду творить\n",
      "- чё за ерунду выставляют! чё творите, общаться надо, а не ерунду творить\n",
      "- чё за ерунду выставляют! чё суки творите\n",
      "- чё за ерунду выставляют! чё суки творите, общаться надо, а не ерунду творить\n",
      "- Чего выставляют, общаться надо, а не ерундой заниматься\n",
      "- что за ерунду выставляют! чё творите, общаться надо, а не ерунду творить\n",
      "- Что за ерунду выставляют! Что творите, общаться надо, а не ерунду творить\n",
      "- чё за ерунду выставляют! чё вы творите, общаться надо, а не ерунду творить\n",
      "---> чё за ерунду выставляют! чё суки творите, общаться надо, а не ерунду творить\n"
     ]
    },
    {
     "name": "stderr",
     "output_type": "stream",
     "text": [
      "  6%|▌         | 45/800 [00:16<04:47,  2.63it/s]"
     ]
    },
    {
     "name": "stdout",
     "output_type": "stream",
     "text": [
      "нет ещё, этот, блядь, фёдоров умный, а остальные дебилы и дураки?!\n",
      "- нет ещё, этот, фёдоров умный\n",
      "- нет ещё, этот, фёдоров умный, а остальные глупые\n",
      "- нет ещё, этот, фёдоров умный, а остальные не умные\n",
      "- нет ещё, этот, фёдоров умный, а остальные плохие\n",
      "- Нет ещё, Фёдоров умный, а остальные глупые\n",
      "- Нет ещё, этот, Фёдоров умный, а остальные глупые\n",
      "- нет ещё, этот, фёдоров умный, а остальные глупцы\n",
      "- нет ещё, этот, фёдоров умный, а остальные глупцы?!\n",
      "- Нет ещё, Фёдоров умный, а остальные глупцы\n",
      "- Нет ещё, этот, Фёдоров умный, а остальные глупцы\n",
      "---> нет ещё, этот, фёдоров умный, а остальные глупцы?!\n"
     ]
    },
    {
     "name": "stderr",
     "output_type": "stream",
     "text": [
      "  6%|▌         | 46/800 [00:16<04:27,  2.82it/s]"
     ]
    },
    {
     "name": "stdout",
     "output_type": "stream",
     "text": [
      "значит ты такой же засранец ка штукатур твой\n",
      "- значит ты такой же плохой человек\n",
      "- Значит ты такой же плохой человек\n",
      "- значит ты такой же человек\n",
      "- Значит ты такой же нехороший человек\n",
      "- Значит ты такой же человек\n",
      "- значит ты такой же нехороший человек\n",
      "- значит, ты такой же плохой человек\n",
      "- значит ты такой же не хороший человек\n",
      "- значит ты такой же как и твой отец\n",
      "- Значит ты такой же как и твой отец\n",
      "---> значит ты такой же не хороший человек\n"
     ]
    },
    {
     "name": "stderr",
     "output_type": "stream",
     "text": [
      "  6%|▌         | 47/800 [00:17<04:43,  2.66it/s]"
     ]
    },
    {
     "name": "stdout",
     "output_type": "stream",
     "text": [
      "Девятый тоже зашёл. Почитаю хроники дибила. Автора не подскажете?\n",
      "- Девятый тоже зашел. Почитаю хроники. Автора не подскажете?\n",
      "- Девятый тоже зашел. Почитаю хроники автора\n",
      "- Девятый тоже зашел. Почитаю хроники. Автора не подскажете\n",
      "- Девятый тоже зашёл. Почитаю хроники. Автора не подскажете?\n",
      "- Девятый тоже зашел. Почитаю хроники, автора не подскажете\n",
      "- Девятый тоже зашел. Почитаю хроники автора.\n",
      "- Девятый тоже зашёл. Почитаю хроники. Автора не подскажете\n",
      "- Девятый тоже зашел. Почитаю хроники.Автора не подскажете?\n",
      "- Девятый тоже зашел. Почитаю хроники писателя\n",
      "- Девятый тоже зашёл. Почитаю хроники автора\n",
      "---> Девятый тоже зашёл. Почитаю хроники. Автора не подскажете?\n"
     ]
    },
    {
     "name": "stderr",
     "output_type": "stream",
     "text": [
      "  6%|▌         | 48/800 [00:17<04:21,  2.88it/s]"
     ]
    },
    {
     "name": "stdout",
     "output_type": "stream",
     "text": [
      "Что за лошак? Его мнение важно?\n",
      "- Его мнение важно\n",
      "- Его мнение важно?\n",
      "- Что за человек? Его мнение важно?\n",
      "- его мнение важно\n",
      "- его мнение важно?\n",
      "- Его мнение очень важно\n",
      "- Что за человек? Его мнение важно\n",
      "- Кто это? Его мнение важно?\n",
      "- Кто он? Его мнение важно?\n",
      "- Кто он? Его мнение важно\n",
      "---> Что за человек? Его мнение важно?\n"
     ]
    },
    {
     "name": "stderr",
     "output_type": "stream",
     "text": [
      "  6%|▌         | 49/800 [00:17<04:12,  2.97it/s]"
     ]
    },
    {
     "name": "stdout",
     "output_type": "stream",
     "text": [
      "если ты пидарас неровняй по себе чмо пиздоголовое\n",
      "- Если ты некрасивый\n",
      "- Если ты не хороший человек\n",
      "- Если ты не ровняй по себе\n",
      "- Если ты плохой человек\n",
      "- Если ты нехороший человек\n",
      "- Если ты человек не ровняй по себе\n",
      "- Если ты не ровняй\n",
      "- Если ты человек не ровняй\n",
      "- Если ты не человек, то не ровняй\n",
      "- Если ты плохой человек, то не ровняй\n",
      "---> Если ты плохой человек, то не ровняй\n"
     ]
    },
    {
     "name": "stderr",
     "output_type": "stream",
     "text": [
      "  6%|▋         | 50/800 [00:18<03:53,  3.22it/s]"
     ]
    },
    {
     "name": "stdout",
     "output_type": "stream",
     "text": [
      "какую песню испоганили бендерлоги ...\n",
      "- какую песню испортили\n",
      "- Какую песню испортили\n",
      "- Какую песню испортили люди\n",
      "- Какую песню испортили?\n",
      "- Какая песня испортили\n",
      "- какую песню испортили люди\n",
      "- Какие песни испортили\n",
      "- какую песню испоганили\n",
      "- Какая песня испортила людей\n",
      "- какие песни испортили\n",
      "---> Какая песня испортила людей\n"
     ]
    },
    {
     "name": "stderr",
     "output_type": "stream",
     "text": [
      "  6%|▋         | 51/800 [00:18<03:49,  3.27it/s]"
     ]
    },
    {
     "name": "stdout",
     "output_type": "stream",
     "text": [
      "вот к чему мы этих тварей приучили.\n",
      "- Вот к чему мы их приучили\n",
      "- вот к чему мы их приучили\n",
      "- вот к чему мы их приучили.\n",
      "- вот к чему мы этих людей приучили\n",
      "- Вот к чему мы этих людей приучили\n",
      "- Вот к чему мы их приучили.\n",
      "- вот к чему мы этих людей приучили.\n",
      "- Вот к чему мы этих людей приучили.\n",
      "- Вот к чему мы их научили\n",
      "- К чему мы их приучили\n",
      "---> Вот к чему мы этих людей приучили.\n"
     ]
    },
    {
     "name": "stderr",
     "output_type": "stream",
     "text": [
      "  6%|▋         | 52/800 [00:18<03:37,  3.44it/s]"
     ]
    },
    {
     "name": "stdout",
     "output_type": "stream",
     "text": [
      "это что за высер придурка обиженного🤪\n",
      "- Это что за человек обиженный\n",
      "- это что за человек обиженный\n",
      "- Это кто обидел\n",
      "- Это что такое\n",
      "- Это человек обиженный\n",
      "- Это что за обида\n",
      "- Это кто обиженный\n",
      "- Это что за оскорбление\n",
      "- Это что за человек обиделся\n",
      "- Это что за человек обидчивый\n",
      "---> Это что за человек обидчивый\n"
     ]
    },
    {
     "name": "stderr",
     "output_type": "stream",
     "text": [
      "  7%|▋         | 53/800 [00:19<04:34,  2.72it/s]"
     ]
    },
    {
     "name": "stdout",
     "output_type": "stream",
     "text": [
      "ясен хуй!!!с какого он должен снижаться то...куда нахуй маски со своего заводика продавать будет!!!мрази!!!ни дна вам ни покрышки!!!ублюдки!!!\n",
      "- ясен фиг!!!с какого он должен снижаться то...куда нахуй маски со своего заводика продавать будет!!!\n",
      "- с какого он должен снижаться то...куда нахуй маски со своего заводика продавать будет!!!\n",
      "- ясен хрен!!!с какого он должен снижаться то...куда нахуй маски со своего заводика продавать будет!!!\n",
      "- ясен фиг!!!с какого он должен снижаться то...куда нахуй маски со своего заводика продавать будет\n",
      "- с какого он должен снижаться то...куда нахуй маски со своего заводика продавать будет\n",
      "- ясен фиг!с какого он должен снижаться то...куда нахуй маски со своего заводика продавать будет!!!\n",
      "- с какого он должен снижаться то...куда нафиг маски со своего заводика продавать будет!!!\n",
      "- ясен фиг!!!с какого он должен снижаться то...куда нафиг маски со своего заводика продавать будет!!!\n",
      "- ясен хрен!!!с какого он должен снижаться то...куда нахуй маски со своего заводика продавать будет\n",
      "- ясен фиг!!!с какого он должен снижаться то куда нахуй маски со своего заводика продавать будет!!!\n",
      "---> ясен хрен!!!с какого он должен снижаться то...куда нахуй маски со своего заводика продавать будет!!!\n"
     ]
    },
    {
     "name": "stderr",
     "output_type": "stream",
     "text": [
      "  7%|▋         | 54/800 [00:19<04:30,  2.76it/s]"
     ]
    },
    {
     "name": "stdout",
     "output_type": "stream",
     "text": [
      "если по сегодняшнему дню была тупорылым то можно поменять\n",
      "- Если по сегодняшнему дню была плохой, то можно поменять\n",
      "- Если по сегодняшнему дню была глупой, то можно поменять\n",
      "- Если по сегодняшнему дню была невнимательной, то можно поменять\n",
      "- Если по сегодняшнему дню была плохой то можно поменять\n",
      "- Если по сегодняшнему дню была не внимательной, то можно поменять\n",
      "- Если по сегодняшнему дню была глупым, то можно поменять\n",
      "- Если по сегодняшнему дню была тупым, то можно поменять\n",
      "- если по сегодняшнему дню была глупым то можно поменять\n",
      "- Если по сегодняшнему дню была не умной, то можно поменять\n",
      "- Если по сегодняшнему дню была невнимательная, то можно поменять\n",
      "---> Если по сегодняшнему дню была не внимательной, то можно поменять\n"
     ]
    },
    {
     "name": "stderr",
     "output_type": "stream",
     "text": [
      "  7%|▋         | 55/800 [00:20<04:41,  2.65it/s]"
     ]
    },
    {
     "name": "stdout",
     "output_type": "stream",
     "text": [
      "чтобы у этих уродов которые обидели кота- ноги отсохли и руки тоже ....\n",
      "- чтобы у них которые обидели кота- ноги отсохли и руки тоже\n",
      "- Чтобы у них ноги отсохли и руки тоже\n",
      "- чтобы у этих людей которые обидели кота- ноги отсохли и руки тоже\n",
      "- чтобы у них которые обидели кота- ноги отсохли и руки тоже....\n",
      "- чтобы они обидели кота- ноги отсохли и руки тоже\n",
      "- чтобы у этих людей которые обидели кота- ноги отсохли и руки тоже....\n",
      "- Чтобы у них ноги отнялись и руки тоже\n",
      "- Чтобы у этих людей которые обидели кота- ноги отсохли и руки тоже\n",
      "- чтобы у них которые обидели кота- ноги отсохли и руки тоже....\n",
      "- чтобы у них которые обидели кота ноги отсохли и руки тоже\n",
      "---> чтобы у этих людей которые обидели кота- ноги отсохли и руки тоже....\n"
     ]
    },
    {
     "name": "stderr",
     "output_type": "stream",
     "text": [
      "  7%|▋         | 56/800 [00:20<04:22,  2.83it/s]"
     ]
    },
    {
     "name": "stdout",
     "output_type": "stream",
     "text": [
      "алкашня, не дураки, знают, что делают!!!\n",
      "- Знают, что делают\n",
      "- Не дураки, знают, что делают\n",
      "- знают, что делают\n",
      "- знают, что делают!!!\n",
      "- не дураки, знают, что делают!!!\n",
      "- Знают что делают\n",
      "- не дураки, знают, что делают\n",
      "- Не глупцы, знают, что делают\n",
      "- Не глупые, знают, что делают\n",
      "- Знали, что делают\n",
      "---> не дураки, знают, что делают!!!\n"
     ]
    },
    {
     "name": "stderr",
     "output_type": "stream",
     "text": [
      "  7%|▋         | 57/800 [00:20<04:26,  2.79it/s]"
     ]
    },
    {
     "name": "stdout",
     "output_type": "stream",
     "text": [
      "как вы суки хочете чтоб россия напала и завоевала, чтоб вас тварей потом кормить.\n",
      "- как вы хотите чтоб россия напала и завоевала, чтоб вас кормить\n",
      "- как вы хотите чтоб Россия напала и завоевала, чтоб вас кормить\n",
      "- как вы хотите чтобы россия напала и завоевала, чтоб вас кормить\n",
      "- Как вы хотите чтобы Россия напала и завоевала, чтобы вас кормить\n",
      "- Как вы хотите чтобы Россия напала и завоевала\n",
      "- хотите чтобы Россия напала и завоевала, чтоб вас кормить\n",
      "- Вы хотите чтобы Россия напала и завоевала, чтобы вас кормить\n",
      "- Как вы хотите, чтобы Россия напала и завоевала, чтобы вас кормить\n",
      "- Как вы хотите чтобы Россия напала и завоевала, чтоб вас кормить\n",
      "- как вы хотите чтоб россия напала и завоевала, чтоб вас кормить.\n",
      "---> Как вы хотите, чтобы Россия напала и завоевала, чтобы вас кормить\n"
     ]
    },
    {
     "name": "stderr",
     "output_type": "stream",
     "text": [
      "  7%|▋         | 58/800 [00:21<03:59,  3.10it/s]"
     ]
    },
    {
     "name": "stdout",
     "output_type": "stream",
     "text": [
      "нет никого вирусов пиздеж путина\n",
      "- нет никого вирусов\n",
      "- Нет вирусов\n",
      "- Нет никого вирусов\n",
      "- Нет никаких вирусов\n",
      "- Нет никакого вируса\n",
      "- Нет вируса\n",
      "- нет ни кого вирусов\n",
      "- Нет ни кого вирусов\n",
      "- Нет ни каких вирусов\n",
      "- Нет ни одного вируса\n",
      "---> Нет ни одного вируса\n"
     ]
    },
    {
     "name": "stderr",
     "output_type": "stream",
     "text": [
      "  7%|▋         | 59/800 [00:21<04:24,  2.81it/s]"
     ]
    },
    {
     "name": "stdout",
     "output_type": "stream",
     "text": [
      "долбаёбы.... может они там в высшем обществе предполагают что курочки у родственников несут яйца фаберже....\n",
      "- Может они там в высшем обществе предполагают что курочки у родственников несут яйца Фаберже\n",
      "- Может они там в высшем обществе предполагают, что курочки несут яйца Фаберже\n",
      "- Может они там в высшем обществе предполагают что курочки несут яйца Фаберже\n",
      "- может они там в высшем обществе предполагают что курочки у родственников несут яйца фаберже....\n",
      "- Может они там в высшем обществе предполагают что курочки у родственников несут яйца Фаберже....\n",
      "- Может они там в высшем обществе предполагают что курочки несут яйца Фаберже....\n",
      "- Может они там в высшем обществе предполагают, что курочки у родственников несут яйца Фаберже\n",
      "- может они там в высшем обществе предполагают что курочки у родственников несут яйца фаберже\n",
      "- Может они там в высшем обществе предполагают что курочки у родственников несут яйца фаберже\n",
      "- может они там в высшем обществе предполагают что курочки у родственников несут яйца Фаберже....\n",
      "---> может они там в высшем обществе предполагают что курочки у родственников несут яйца Фаберже....\n"
     ]
    },
    {
     "name": "stderr",
     "output_type": "stream",
     "text": [
      "  8%|▊         | 60/800 [00:21<04:04,  3.03it/s]"
     ]
    },
    {
     "name": "stdout",
     "output_type": "stream",
     "text": [
      "на каких далбаебов это расчитано?!\n",
      "- На кого это рассчитано\n",
      "- на кого это рассчитано\n",
      "- На кого это расчитано\n",
      "- На кого это рассчитано?\n",
      "- На кого рассчитано?\n",
      "- на кого это расчитано\n",
      "- На кого это расчитано?\n",
      "- на кого это рассчитано?!\n",
      "- На каких людей это рассчитано\n",
      "- на кого это расчитано?!\n",
      "---> На каких людей это рассчитано\n"
     ]
    },
    {
     "name": "stderr",
     "output_type": "stream",
     "text": [
      "  8%|▊         | 61/800 [00:22<04:42,  2.61it/s]"
     ]
    },
    {
     "name": "stdout",
     "output_type": "stream",
     "text": [
      "Нужно быть дебилом, чтобы надеяться выиграть в казино, не будучи его владельцем. Однако кое-кто выигрывает.\n",
      "- Нужно быть глупым, чтобы надеяться выиграть в казино, не будучи его владельцем\n",
      "- Нужно быть глупым, чтобы надеяться выиграть в казино, не будучи его владельцем. Однако кое-кто выигрывает\n",
      "- Нужно быть наивным, чтобы надеяться выиграть в казино, не будучи его владельцем\n",
      "- Нужно быть наивным, чтобы надеяться выиграть в казино, не будучи его владельцем. Однако кое-кто выигрывает\n",
      "- Нужно быть глупым, чтобы надеяться выиграть в казино, не будучи его владельцем. Однако кое-кто выигрывает.\n",
      "- Нужно быть глупым, чтобы надеяться выиграть в казино, не будучи его владельцем.\n",
      "- Нужно быть глупым, чтобы надеяться выиграть в казино, не являясь его владельцем\n",
      "- Нужно быть глупым, чтобы надеяться выиграть в казино, не являясь его владельцем. Однако кое-кто выигрывает\n",
      "- Нужно быть наивным, чтобы надеяться выиграть в казино, не будучи его владельцем.\n",
      "- Нужно быть глупцом, чтобы надеяться выиграть в казино, не будучи его владельцем. Однако кое-кто выигрывает\n",
      "---> Нужно быть глупцом, чтобы надеяться выиграть в казино, не будучи его владельцем. Однако кое-кто выигрывает\n"
     ]
    },
    {
     "name": "stderr",
     "output_type": "stream",
     "text": [
      "  8%|▊         | 62/800 [00:22<04:58,  2.47it/s]"
     ]
    },
    {
     "name": "stdout",
     "output_type": "stream",
     "text": [
      "расстрелять пьяных водителей. только не сразу что бы сдох. а что бы помучился😡😡😡\n",
      "- Наказать пьяных водителей\n",
      "- Убрать пьяных водителей\n",
      "- Расстрелять пьяных водителей\n",
      "- расстрелять пьяных водителей\n",
      "- расстрелять пьяных водителей. только не сразу что бы умер. а что бы помучился\n",
      "- наказать пьяных водителей\n",
      "- Убить пьяных водителей\n",
      "- Наказать всех пьяных водителей\n",
      "- Наказать пьяных водителей. Только не сразу, а что бы помучился\n",
      "- расстрелять пьяных водителей. только не сразу что бы наказали\n",
      "---> расстрелять пьяных водителей. только не сразу что бы умер. а что бы помучился\n"
     ]
    },
    {
     "name": "stderr",
     "output_type": "stream",
     "text": [
      "  8%|▊         | 63/800 [00:23<05:10,  2.37it/s]"
     ]
    },
    {
     "name": "stdout",
     "output_type": "stream",
     "text": [
      "а у мну вот чё есть 🙈девочки на днюху подарили мне сучки 🙈(fr)\n",
      "- а у меня вот чё есть 🙈девочки на днюху подарили мне\n",
      "- а у мну вот чё есть 🙈девочки на днюху подарили мне\n",
      "- А у меня вот что есть девочки на днюху подарили\n",
      "- а у меня вот что есть 🙈девочки на днюху подарили мне\n",
      "- а у меня вот чё есть 🙈девочки на днюху подарили\n",
      "- А у меня вот что есть девочки на днюху подарили мне\n",
      "- а у мну вот чё есть 🙈девочки на днюху подарили\n",
      "- А у меня есть девочки на днюху подарили\n",
      "- А у меня вот что есть 🙈девочки на днюху подарили мне\n",
      "- а у меня вот чё есть 🙈девушки на днюху подарили мне\n",
      "---> А у меня вот что есть 🙈девочки на днюху подарили мне\n"
     ]
    },
    {
     "name": "stderr",
     "output_type": "stream",
     "text": [
      "  8%|▊         | 64/800 [00:23<05:05,  2.41it/s]"
     ]
    },
    {
     "name": "stdout",
     "output_type": "stream",
     "text": [
      "в троём выехать и не разобрать ис -4 это пипец надо дятлами быть\n",
      "- Втроём выехать и не разобрать ис -4 это катастрофа\n",
      "- втроём выехать и не разобрать ис -4 это пипец надо быть\n",
      "- втроём выехать и не разобрать ис -4 это плохо надо быть хорошими\n",
      "- втроём выехать и не разобрать ис -4 это очень плохо\n",
      "- втроём выехать и не разобрать ис -4 это надо быть глупцами\n",
      "- втроём выехать и не разобрать ис -4 надо быть очень осторожными\n",
      "- втроём выехать и не разобрать ис -4 надо быть очень внимательными\n",
      "- втроём выехать и не разобрать ис -4 это надо быть очень осторожными\n",
      "- втроём выехать и не разобрать ис -4 это плохо надо быть такими\n",
      "- втроём выехать и не разобрать ис -4 это надо быть очень внимательными\n",
      "---> втроём выехать и не разобрать ис -4 это надо быть очень внимательными\n"
     ]
    },
    {
     "name": "stderr",
     "output_type": "stream",
     "text": [
      "  8%|▊         | 65/800 [00:23<04:26,  2.76it/s]"
     ]
    },
    {
     "name": "stdout",
     "output_type": "stream",
     "text": [
      "дебиленыш. видимо херовенько его учили.\n",
      "- Наверное плохо его учили\n",
      "- видно плохо его учили\n",
      "- Похоже плохо его учили\n",
      "- Видимо плохо его учили\n",
      "- Похоже что плохо его учили\n",
      "- Возможно плохо его учили\n",
      "- Может плохо его учили\n",
      "- Похоже, плохо его учили\n",
      "- Наверное плохо его учили.\n",
      "- Похоже, что плохо его учили\n",
      "---> Похоже, что плохо его учили\n"
     ]
    },
    {
     "name": "stderr",
     "output_type": "stream",
     "text": [
      "  8%|▊         | 66/800 [00:24<04:53,  2.50it/s]"
     ]
    },
    {
     "name": "stdout",
     "output_type": "stream",
     "text": [
      "козлы ебаные 👎 👎 👎 👎 👎 👎 👎\n",
      "- Плохие люди\n",
      "- Не хорошие люди\n",
      "- Люди плохие\n",
      "- Они плохие\n",
      "- Люди 👎 👎 👎 👎 👎\n",
      "- 👎 👎 👎 👎 👎\n",
      "- Нехорошие люди\n",
      "- 👎 👎 👎 👎 👎 \n",
      "- Эти люди плохие\n",
      "- Люди 👎 👎 👎 👎 👎 \n",
      "---> Люди 👎 👎 👎 👎 👎 \n"
     ]
    },
    {
     "name": "stderr",
     "output_type": "stream",
     "text": [
      "  8%|▊         | 67/800 [00:24<04:41,  2.60it/s]"
     ]
    },
    {
     "name": "stdout",
     "output_type": "stream",
     "text": [
      "вой подсоса гомофорсера Что, говно, неприятно читать? А это мы каждый день видим.\n",
      "- Что неприятно читать? А это мы каждый день видим\n",
      "- Что, неприятно читать? А это мы каждый день видим\n",
      "- что неприятно читать? А это мы каждый день видим\n",
      "- Что, неприятно читать? А это мы каждый день видим.\n",
      "- Что неприятно читать? А это мы каждый день видим.\n",
      "- Что неприятно читать, а это мы каждый день видим\n",
      "- что, неприятно читать? А это мы каждый день видим\n",
      "- что неприятно читать? а это мы каждый день видим\n",
      "- Что, неприятно читать, а это мы каждый день видим\n",
      "- что неприятно читать, а это мы каждый день видим\n",
      "---> Что, неприятно читать? А это мы каждый день видим.\n"
     ]
    },
    {
     "name": "stderr",
     "output_type": "stream",
     "text": [
      "  8%|▊         | 68/800 [00:25<04:52,  2.50it/s]"
     ]
    },
    {
     "name": "stdout",
     "output_type": "stream",
     "text": [
      "а почему лопатку для жопы не продемонстрировать!?вы когда группу перестанете засорять?олигофрены.\n",
      "- а почему лопатку для лица не продемонстрировать!?\n",
      "- А почему лопатку не показать!? Вы когда группу перестанете засорять?\n",
      "- а почему лопатку для головы не продемонстрировать!?\n",
      "- А почему лопатку для лица не продемонстрировать!? Вы когда группу перестанете засорять?\n",
      "- А почему лопатку для лица не продемонстрировать!? Вы когда группу перестанете засорять\n",
      "- А почему лопатку не показать!? Вы когда группу перестанете засорять\n",
      "- а почему лопатку для себя не продемонстрировать!?\n",
      "- а почему лопатку для лица не продемонстрировать!? вы когда группу перестанете засорять?\n",
      "- А почему лопатку не продемонстрировать!? Вы когда группу перестанете засорять?\n",
      "- А почему лопатку не продемонстрировать!? Вы когда группу перестанете засорять\n",
      "---> а почему лопатку для лица не продемонстрировать!? вы когда группу перестанете засорять?\n"
     ]
    },
    {
     "name": "stderr",
     "output_type": "stream",
     "text": [
      "  9%|▊         | 69/800 [00:25<04:14,  2.87it/s]"
     ]
    },
    {
     "name": "stdout",
     "output_type": "stream",
     "text": [
      "и вот таких уродов дахуя\n",
      "- И таких много\n",
      "- И таких людей много\n",
      "- И вот таких людей много\n",
      "- И вот таких много\n",
      "- и таких много\n",
      "- И таких людей очень много\n",
      "- И таких очень много\n",
      "- и вот таких людей много\n",
      "- их много\n",
      "- и вот таких много\n",
      "---> И таких людей очень много\n"
     ]
    },
    {
     "name": "stderr",
     "output_type": "stream",
     "text": [
      "  9%|▉         | 70/800 [00:25<03:51,  3.15it/s]"
     ]
    },
    {
     "name": "stdout",
     "output_type": "stream",
     "text": [
      "Что блять за конференция мамашек?\n",
      "- Что за конференция матерей\n",
      "- Что за конференция?\n",
      "- Что за конференция матерей?\n",
      "- Что за конференция мамашек\n",
      "- Что за конференция мамашек?\n",
      "- Что за конференция\n",
      "- что за конференция матерей?\n",
      "- За конференция мамашек\n",
      "- Что за конференция матери?\n",
      "- за конференция мамашек\n",
      "---> что за конференция матерей?\n"
     ]
    },
    {
     "name": "stderr",
     "output_type": "stream",
     "text": [
      "  9%|▉         | 71/800 [00:25<04:09,  2.92it/s]"
     ]
    },
    {
     "name": "stdout",
     "output_type": "stream",
     "text": [
      "я тебя за 10 рублей в сраку трахал и ты у меня хуй сосала.\n",
      "- я тебя за 10 рублей в попку трахал\n",
      "- я тебя за 10 рублей в попку трахал и ты мне не давала\n",
      "- я тебя за 10 рублей в рот брал и ты мне не давала\n",
      "- я тебя за 10 рублей в рот трахал и ты мне не давала\n",
      "- Я тебя за 10 рублей трахал и ты мне не давала\n",
      "- я тебя за 10 рублей в попу целовал и ты мне не давала\n",
      "- я тебя за 10 рублей в рот целовал и ты мне не давала\n",
      "- я тебя за 10 рублей в рот трахал и ты у меня не брала\n",
      "- я тебя за 10 рублей в попку трахал и ты у меня не брала\n",
      "- я тебя за 10 рублей в рот брал и ты у меня не брала\n",
      "---> я тебя за 10 рублей в попку трахал и ты у меня не брала\n"
     ]
    },
    {
     "name": "stderr",
     "output_type": "stream",
     "text": [
      "  9%|▉         | 72/800 [00:26<03:55,  3.08it/s]"
     ]
    },
    {
     "name": "stdout",
     "output_type": "stream",
     "text": [
      "пиздец.и этих уродов пускают в турцию\n",
      "- И этих людей пускают в турцию\n",
      "- и этих людей пускают в турцию\n",
      "- И их пускают в турцию\n",
      "- И этих людей пускают в Турцию\n",
      "- и их пускают в турцию\n",
      "- их пускают в турцию\n",
      "- Их пускают в турцию\n",
      "- И этих пускают в турцию\n",
      "- И этих людей пускают в турцию.\n",
      "- И этих людей допускают в турцию\n",
      "---> И этих людей допускают в турцию\n"
     ]
    },
    {
     "name": "stderr",
     "output_type": "stream",
     "text": [
      "  9%|▉         | 73/800 [00:26<04:27,  2.72it/s]"
     ]
    },
    {
     "name": "stdout",
     "output_type": "stream",
     "text": [
      "Пфф, в 90е в чечне это было обычное дело, как в 2014 в украшке среди хохлятских генералов.\n",
      "- В 90е в чечне это было обычное дело, как в 2014 в украшке\n",
      "- В 90е в чечне это было обычное дело\n",
      "- в 90е в чечне это было обычное дело, как в 2014 в украшке\n",
      "- в 90е в чечне это было обычное дело\n",
      "- В 90е в чечне это было обычное дело, как в 2014 в украшке среди украинцев\n",
      "- В 90е в Чечне это было обычное дело\n",
      "- В 90-е в чечне это было обычное дело\n",
      "- в 90е в чечне это было обычное дело, как в 2014 в украшке среди украинцев\n",
      "- Пфф, в 90е в чечне это было обычное дело, как в 2014 в украшке\n",
      "- В 90-е в чечне это было обычное дело, как в 2014 в украшке\n",
      "---> в 90е в чечне это было обычное дело, как в 2014 в украшке среди украинцев\n"
     ]
    },
    {
     "name": "stderr",
     "output_type": "stream",
     "text": [
      "  9%|▉         | 74/800 [00:26<04:01,  3.00it/s]"
     ]
    },
    {
     "name": "stdout",
     "output_type": "stream",
     "text": [
      "троица уёбков и тварей !\n",
      "- троица\n",
      "- Троица\n",
      "- троица плохих людей\n",
      "- Три человека\n",
      "- Тройка\n",
      "- троица!\n",
      "- троица уёбков\n",
      "- троица!\n",
      "- троица людей\n",
      "- Троица!\n",
      "---> троица плохих людей\n"
     ]
    },
    {
     "name": "stderr",
     "output_type": "stream",
     "text": [
      "  9%|▉         | 75/800 [00:27<04:16,  2.83it/s]"
     ]
    },
    {
     "name": "stdout",
     "output_type": "stream",
     "text": [
      "Не будьте чмом, а то Лев даст вам пизды. Как дал мне.\n",
      "- Не будьте таким, а то Лев даст вам. Как дал мне\n",
      "- Не будьте плохими, а то Лев накажет вас\n",
      "- Не будьте глупым, а то Лев даст вам. Как дал мне\n",
      "- Не будьте глупцом, а то Лев даст вам. Как дал мне\n",
      "- Не будьте глупцом, а то Лев даст вам по лицу\n",
      "- Не будьте глупым, а то Лев даст вам по лицу\n",
      "- Не будьте плохими, а то Лев даст вам по лицу\n",
      "- Не будьте глупцами, а то Лев даст вам по лицу\n",
      "- Не будьте глупцом, а то Лев даст вам по лицу. Как дал мне\n",
      "- Не будьте глупым, а то Лев даст вам по лицу. Как дал мне\n",
      "---> Не будьте глупцом, а то Лев даст вам по лицу. Как дал мне\n"
     ]
    },
    {
     "name": "stderr",
     "output_type": "stream",
     "text": [
      " 10%|▉         | 76/800 [00:27<04:10,  2.89it/s]"
     ]
    },
    {
     "name": "stdout",
     "output_type": "stream",
     "text": [
      "грабитель ебаный ты в чечне сука с пацанов крестики снимал.....мудило\n",
      "- ты в чечне с пацанов крестики снимал\n",
      "- Ты в Чечне с пацанов крестики снимал\n",
      "- ты в чечне с пацанов крестики снимал.....\n",
      "- ты в чечне с пацанов крестики снимал...\n",
      "- Ты в Чечне с пацанов крестики снимал\n",
      "- ты в чечне с пацанов крестики снимал....\n",
      "- Ты в чечне с пацанов крестики снимал\n",
      "- В Чечню с пацанов крестики снимал\n",
      "- Ты в Чечне снимал крестики с пацанов\n",
      "- Плохой ты в Чечне с пацанов крестики снимал\n",
      "---> Плохой ты в Чечне с пацанов крестики снимал\n"
     ]
    },
    {
     "name": "stderr",
     "output_type": "stream",
     "text": [
      " 10%|▉         | 77/800 [00:27<04:04,  2.95it/s]"
     ]
    },
    {
     "name": "stdout",
     "output_type": "stream",
     "text": [
      "все уёбки и пробляди покедова вам\n",
      "- Пока вам\n",
      "- пока вам\n",
      "- все плохие и плохие люди покедова вам\n",
      "- Все плохие люди, пока вам\n",
      "- Все плохие люди, пока\n",
      "- все плохие люди и пробляди покедова вам\n",
      "- Все плохие и плохие люди покедова\n",
      "- Плохие люди покедова\n",
      "- Все плохие и плохие люди, пока\n",
      "- все плохие люди и пробляди покедова\n",
      "---> все плохие люди и пробляди покедова вам\n"
     ]
    },
    {
     "name": "stderr",
     "output_type": "stream",
     "text": [
      " 10%|▉         | 78/800 [00:28<03:51,  3.12it/s]"
     ]
    },
    {
     "name": "stdout",
     "output_type": "stream",
     "text": [
      "что, нужно жить еще хуже? пиздуй сама, куда пизда вынесет, убожество((\n",
      "- что, нужно жить еще хуже?\n",
      "- Нужно жить ещё хуже\n",
      "- Что, нужно жить ещё хуже\n",
      "- Что, нужно жить ещё хуже?\n",
      "- Что, нужно жить еще хуже\n",
      "- Нужно жить еще хуже\n",
      "- Что нужно жить ещё хуже\n",
      "- Что, нужно жить еще хуже?\n",
      "- что, нужно жить еще хуже\n",
      "- Что нужно жить еще хуже\n",
      "---> Что, нужно жить еще хуже?\n"
     ]
    },
    {
     "name": "stderr",
     "output_type": "stream",
     "text": [
      " 10%|▉         | 79/800 [00:28<04:02,  2.98it/s]"
     ]
    },
    {
     "name": "stdout",
     "output_type": "stream",
     "text": [
      "я бы в морду им дала без сожеления, а рука у меня тяжелая.\n",
      "- Я бы их наказала, а рука у меня тяжелая\n",
      "- я бы им надавала без сожеления, а рука у меня тяжелая\n",
      "- Я бы им дала без сожаления, а рука у меня тяжелая\n",
      "- Я бы наказала их без сожаления\n",
      "- Я бы им надавала без сожаления, а рука у меня тяжелая\n",
      "- Я бы их наказала без сожаления\n",
      "- я бы им надавала без сожеления\n",
      "- Я бы их наказала без сожаления, а рука у меня тяжелая\n",
      "- я бы их наказала без сожаления, а рука у меня тяжелая\n",
      "- Я бы наказала их, а рука у меня тяжелая\n",
      "---> я бы их наказала без сожаления, а рука у меня тяжелая\n"
     ]
    },
    {
     "name": "stderr",
     "output_type": "stream",
     "text": [
      " 10%|█         | 80/800 [00:28<03:52,  3.09it/s]"
     ]
    },
    {
     "name": "stdout",
     "output_type": "stream",
     "text": [
      "не поверишь, сколько ебанутых на планете\n",
      "- Не поверишь, сколько их на планете\n",
      "- не поверишь, сколько их на планете\n",
      "- Не поверишь, сколько людей на планете\n",
      "- не поверишь, сколько на планете\n",
      "- Не поверишь, сколько на планете людей\n",
      "- не поверишь, сколько людей на планете\n",
      "- Не поверишь, сколько на планете таких\n",
      "- Не поверишь, сколько их\n",
      "- Не поверишь, столько людей на планете\n",
      "- Не поверишь, сколько на планете неадекватных людей\n",
      "---> Не поверишь, сколько на планете неадекватных людей\n"
     ]
    },
    {
     "name": "stderr",
     "output_type": "stream",
     "text": [
      " 10%|█         | 81/800 [00:29<03:31,  3.39it/s]"
     ]
    },
    {
     "name": "stdout",
     "output_type": "stream",
     "text": [
      "вали на хуй ты уебок\n",
      "- Уходи\n",
      "- Отстань\n",
      "- Уйди\n",
      "- Ты плохой человек\n",
      "- Отстань от меня\n",
      "- Отстань ты от меня\n",
      "- Ты не хороший человек\n",
      "- Оставь меня в покое\n",
      "- Уходи от сюда\n",
      "- Уйди пожалуйста\n",
      "---> Ты не хороший человек\n"
     ]
    },
    {
     "name": "stderr",
     "output_type": "stream",
     "text": [
      " 10%|█         | 82/800 [00:29<03:48,  3.14it/s]"
     ]
    },
    {
     "name": "stdout",
     "output_type": "stream",
     "text": [
      "пиздёжжжжжжжжжжжжжжж - нас большинство и мы за поправки и путина а ты пидорас\n",
      "- Нас большинство и мы за поправки и путина\n",
      "- нас большинство и мы за поправки и путина\n",
      "- Нас большинство и мы за поправки и Путина\n",
      "- Нас большинство и мы за поправки и путина а ты плохой\n",
      "- Нас большинство и мы против поправок и путина\n",
      "- Нас большинство, и мы за поправки и путина\n",
      "- нас большинство и мы за поправки и путина а ты плохой\n",
      "- Нас большинство, и мы за поправки и Путина\n",
      "- Нас много и мы за поправки и путина\n",
      "- Нас большинство и мы за поправки Путина\n",
      "---> нас большинство и мы за поправки и путина а ты плохой\n"
     ]
    },
    {
     "name": "stderr",
     "output_type": "stream",
     "text": [
      " 10%|█         | 83/800 [00:29<04:09,  2.88it/s]"
     ]
    },
    {
     "name": "stdout",
     "output_type": "stream",
     "text": [
      "Хохлы слишком измучены войной и тарифами, даже скакать не будут.\n",
      "- Украинцы слишком измучены войной и тарифами\n",
      "- Украинцы слишком измучены войной и тарифами, даже скакать не будут\n",
      "- Украинцы слишком измучены войной и тарифами, даже скакать не будут.\n",
      "- Они слишком измучены войной и тарифами\n",
      "- Украины слишком измучены войной и тарифами\n",
      "- Украинцы слишком измучены войной и тарифами, даже прыгать не будут\n",
      "- Украинцы слишком утомлены войной и тарифами\n",
      "- Украины слишком измучены войной и тарифами, даже скакать не будут\n",
      "- Украинцы слишком измучены войной, даже скакать не будут\n",
      "- Хохлы слишком измучены войной и тарифами\n",
      "---> Украинцы слишком измучены войной и тарифами, даже скакать не будут.\n"
     ]
    },
    {
     "name": "stderr",
     "output_type": "stream",
     "text": [
      " 10%|█         | 84/800 [00:30<04:16,  2.79it/s]"
     ]
    },
    {
     "name": "stdout",
     "output_type": "stream",
     "text": [
      "А что за страшная женщина, в черном платье, на последнем фото?\n",
      "- А что за страшная женщина, в черном платье, на последнем фото?\n",
      "- А что за страшная женщина, в черном платье, на последнем фото\n",
      "- А что за страшная женщина в черном платье, на последнем фото\n",
      "- А что за страшная женщина, в чёрном платье, на последнем фото?\n",
      "- А что за страшная женщина в черном платье, на последнем фото?\n",
      "- А что за страшная женщина в черном платье на последнем фото?\n",
      "- А что за страшная женщина в черном платье?\n",
      "- А что за страшная женщина, на последнем фото\n",
      "- А что за страшная женщина в черном платье на последнем фото\n",
      "- А что за женщина в черном платье, на последнем фото\n",
      "---> А что за страшная женщина, в чёрном платье, на последнем фото?\n"
     ]
    },
    {
     "name": "stderr",
     "output_type": "stream",
     "text": [
      " 11%|█         | 85/800 [00:30<04:31,  2.63it/s]"
     ]
    },
    {
     "name": "stdout",
     "output_type": "stream",
     "text": [
      "наши боятся с такими связываться, а командировочные менты такие же, как и этот урод.\n",
      "- наши боятся с такими связываться\n",
      "- Наши боятся с такими связываться, а командировочные менты такие же\n",
      "- Наши боятся с такими связываться\n",
      "- Наши боятся с такими связываться, а командировочные менты такие же, как и этот\n",
      "- наши боятся с такими связываться, а командировочные менты такие же, как и этот\n",
      "- наши боятся с такими связываться, а командировочные менты такие же\n",
      "- Наши боятся с такими связываться, а командировочные менты такие же, как и этот.\n",
      "- Наши боятся с такими связываться, а командировочные менты такие же, как и он\n",
      "- наши боятся с такими связываться, а командировочные менты такие же, как и этот.\n",
      "- Наши боятся с такими связываться, а командировочные менты такие же, как и этот человек\n",
      "---> Наши боятся с такими связываться, а командировочные менты такие же, как и этот человек\n"
     ]
    },
    {
     "name": "stderr",
     "output_type": "stream",
     "text": [
      " 11%|█         | 86/800 [00:31<04:32,  2.62it/s]"
     ]
    },
    {
     "name": "stdout",
     "output_type": "stream",
     "text": [
      "А где сейчас живет гомикадзе? Почему конкретно он свинтил с рашки?\n",
      "- А где сейчас живет этот человек\n",
      "- А где сейчас живет этот человек? Почему конкретно он уехал с России\n",
      "- А где сейчас живет гомикадзе? Почему конкретно он уехал с России\n",
      "- А где сейчас живет этот человек? Почему конкретно он уехал из России\n",
      "- А где сейчас живет гомикадзе? Почему конкретно он уехал из России\n",
      "- А где сейчас живет этот человек? Почему конкретно он уехал из России?\n",
      "- А где сейчас живет этот человек? Почему конкретно он уехал с России?\n",
      "- А где сейчас живет этот человек?\n",
      "- А где сейчас живет гомикадзе? Почему конкретно он уехал с России?\n",
      "- А где сейчас живет гомикадзе? Почему конкретно он уехал из России?\n",
      "---> А где сейчас живет этот человек? Почему конкретно он уехал из России?\n"
     ]
    },
    {
     "name": "stderr",
     "output_type": "stream",
     "text": [
      " 11%|█         | 87/800 [00:31<04:03,  2.92it/s]"
     ]
    },
    {
     "name": "stdout",
     "output_type": "stream",
     "text": [
      "отправь бы этому придурку яйца.\n",
      "- Накажи его\n",
      "- Отправь ему наказание\n",
      "- Отправь его в тюрьму\n",
      "- Отправь бы ему наказание\n",
      "- отправь бы ему яйца\n",
      "- Отправь его в полицию\n",
      "- отправь ему яйца\n",
      "- Отправь ему яйца\n",
      "- Отпусти его\n",
      "- Убей его\n",
      "---> Отправь бы ему наказание\n"
     ]
    },
    {
     "name": "stderr",
     "output_type": "stream",
     "text": [
      " 11%|█         | 88/800 [00:31<03:56,  3.01it/s]"
     ]
    },
    {
     "name": "stdout",
     "output_type": "stream",
     "text": [
      "та-же хуйня. появится двойник 😂\n",
      "- та-же ерунда. появится двойник\n",
      "- Будет двойник\n",
      "- тоже самое. появится двойник\n",
      "- Тоже самое. Появится двойник\n",
      "- та-же фигня. появится двойник\n",
      "- То же самое. Появится двойник\n",
      "- Та же ерунда. Появится двойник\n",
      "- та же ерунда. появится двойник\n",
      "- Та-же ерунда. Появится двойник\n",
      "- та-же ерунда. появится двойник 😂\n",
      "---> та-же ерунда. появится двойник 😂\n"
     ]
    },
    {
     "name": "stderr",
     "output_type": "stream",
     "text": [
      " 11%|█         | 89/800 [00:31<03:42,  3.19it/s]"
     ]
    },
    {
     "name": "stdout",
     "output_type": "stream",
     "text": [
      "не пиздите . казлы . уже у многих . увы.\n",
      "- Уже у многих\n",
      "- уже у многих\n",
      "- уже у многих. увы.\n",
      "- уже у многих. увы.\n",
      "- уже у многих. увы\n",
      "- Не обманывайте\n",
      "- Не надо врать\n",
      "- Не обманывайте. Уже у многих\n",
      "- Уже у многих.\n",
      "- Уже у многих. Увы\n",
      "---> Не обманывайте. Уже у многих\n"
     ]
    },
    {
     "name": "stderr",
     "output_type": "stream",
     "text": [
      " 11%|█▏        | 90/800 [00:32<03:39,  3.24it/s]"
     ]
    },
    {
     "name": "stdout",
     "output_type": "stream",
     "text": [
      "с ы почему не в палате уебище лупогв в\n",
      "- Почему не в палате\n",
      "- С ы почему не в палате\n",
      "- с ы почему не в палате\n",
      "- почему не в палате\n",
      "- Почему ты не в палате\n",
      "- С ы почему не в палате у него\n",
      "- с ы почему не в палате у него\n",
      "- почему ты не в палате\n",
      "- почему не в палате у него\n",
      "- Почему вы не в палате\n",
      "---> с ы почему не в палате у него\n"
     ]
    },
    {
     "name": "stderr",
     "output_type": "stream",
     "text": [
      " 11%|█▏        | 91/800 [00:32<03:52,  3.05it/s]"
     ]
    },
    {
     "name": "stdout",
     "output_type": "stream",
     "text": [
      "Охуел? Я сюда треды пришел скрывать. Вернул кнопку.\n",
      "- Я сюда треды пришел скрывать. Вернул кнопку\n",
      "- Я сюда треды пришёл скрывать. Вернул кнопку\n",
      "- Я сюда треды пришел скрывать. Вернул кнопку.\n",
      "- Я сюда треды пришёл скрывать. Вернул кнопку.\n",
      "- Я сюда треды пришел скрывать.Вернул кнопку\n",
      "- Я сюда треды пришёл скрывать.Вернул кнопку\n",
      "- Я сюда Треды пришёл скрывать. Вернул кнопку\n",
      "- В шоке? Я сюда треды пришёл скрывать. Вернул кнопку\n",
      "- Я сюда Треды пришел скрывать. Вернул кнопку\n",
      "- В шоке? Я сюда треды пришел скрывать. Вернул кнопку\n",
      "---> В шоке? Я сюда треды пришел скрывать. Вернул кнопку\n"
     ]
    },
    {
     "name": "stderr",
     "output_type": "stream",
     "text": [
      " 12%|█▏        | 92/800 [00:33<04:29,  2.63it/s]"
     ]
    },
    {
     "name": "stdout",
     "output_type": "stream",
     "text": [
      "в идеале, их бы просто пристрелить! но об этом (как у жванецкого!) остаётся только мечтать!\n",
      "- в идеале, их бы просто наказать! но об этом (как у Жванецкого!) остаётся только мечтать!\n",
      "- в идеале их бы просто наказать! но об этом (как у Жванецкого!) остаётся только мечтать!\n",
      "- в идеале, их бы просто наказать! но об этом (как у жванецкого!) остаётся только мечтать!\n",
      "- в идеале их бы просто наказать! но об этом (как у жванецкого!) остаётся только мечтать!\n",
      "- в идеале, их бы наказать! но об этом (как у Жванецкого!) остаётся только мечтать!\n",
      "- В идеале их бы просто наказать\n",
      "- В идеале их бы просто наказать! Но об этом (как у Жванецкого!) остаётся только мечтать!\n",
      "- В идеале, их бы просто наказать! Но об этом (как у Жванецкого!) остаётся только мечтать!\n",
      "- в идеале их бы наказать! но об этом (как у Жванецкого!) остаётся только мечтать!\n",
      "- в идеале, их бы просто наказать! но об этом (как у Жванецкого!) остаётся только мечтать\n",
      "---> В идеале, их бы просто наказать! Но об этом (как у Жванецкого!) остаётся только мечтать!\n"
     ]
    },
    {
     "name": "stderr",
     "output_type": "stream",
     "text": [
      " 12%|█▏        | 93/800 [00:33<04:36,  2.56it/s]"
     ]
    },
    {
     "name": "stdout",
     "output_type": "stream",
     "text": [
      "Что-то ты чутка зажралась, нет? Или это ты шутишь так?\n",
      "- Что-то ты много ешь\n",
      "- Что-то ты слишком много ешь\n",
      "- Что-то ты очень много ешь\n",
      "- Что-то ты много ешь, нет? Или это ты шутишь так?\n",
      "- Что-то ты немного поправилась, нет? Или это ты шутишь так?\n",
      "- Что-то ты немного зажралась, нет? Или это ты шутишь так?\n",
      "- Что-то ты сильно поправилась, нет? Или это ты шутишь так?\n",
      "- Что-то ты сильно похудела, нет? Или это ты шутишь так?\n",
      "- Что то ты много ешь, нет? Или это ты шутишь так?\n",
      "- Что-то ты много ешь, нет? Или это ты шутишь так\n",
      "---> Что-то ты немного поправилась, нет? Или это ты шутишь так?\n"
     ]
    },
    {
     "name": "stderr",
     "output_type": "stream",
     "text": [
      " 12%|█▏        | 94/800 [00:33<04:27,  2.64it/s]"
     ]
    },
    {
     "name": "stdout",
     "output_type": "stream",
     "text": [
      "такой пизды ни одна басня ещё не удостоилась.\n",
      "- Ни одна басня ещё не удостоилась\n",
      "- ни одна басня ещё не удостоилась\n",
      "- Такой басни ни одна басня ещё не удостоилась\n",
      "- Никакая басня ещё не удостоилась\n",
      "- Такая басня ещё не удостоилась\n",
      "- Такого рассказа ни одна басня ещё не удостоилась\n",
      "- Ни одна басня еще не удостоилась\n",
      "- такой плохой басни ни одна басня ещё не удостоилась\n",
      "- Таких басен ни одна басня ещё не удостоилась\n",
      "- ни одна басня ещё не удостоилась.\n",
      "---> такой плохой басни ни одна басня ещё не удостоилась\n"
     ]
    },
    {
     "name": "stderr",
     "output_type": "stream",
     "text": [
      " 12%|█▏        | 95/800 [00:34<04:02,  2.90it/s]"
     ]
    },
    {
     "name": "stdout",
     "output_type": "stream",
     "text": [
      "одно слово мрази продажные свое получат придет время\n",
      "- одно слово получат свое получат придет время\n",
      "- одно слово получат наказание придет время\n",
      "- одно слово получит время\n",
      "- одно слово получат свое получит придет время\n",
      "- одно слово они свое получат придет время\n",
      "- Один человек получит по заслугам\n",
      "- одно слово получат придет время\n",
      "- Один человек получит наказание\n",
      "- одно слово получат свое получит время\n",
      "- одно слово получат получит время\n",
      "---> одно слово получат свое получит придет время\n"
     ]
    },
    {
     "name": "stderr",
     "output_type": "stream",
     "text": [
      " 12%|█▏        | 96/800 [00:34<03:54,  3.00it/s]"
     ]
    },
    {
     "name": "stdout",
     "output_type": "stream",
     "text": [
      "интересно,что он курит? отдай мой лям ублюдок👎👎👎\n",
      "- Интересно, что он курит\n",
      "- Интересно, что он курит?\n",
      "- интересно,что он курит?\n",
      "- интересно, что он курит?\n",
      "- интересно,что он курит\n",
      "- Интересно что он курит\n",
      "- Интересно,что он курит\n",
      "- Интересно, что он курит? Отдай\n",
      "- интересно, что он курит\n",
      "- Интересно,что он курит?\n",
      "---> Интересно, что он курит? Отдай\n"
     ]
    },
    {
     "name": "stderr",
     "output_type": "stream",
     "text": [
      " 12%|█▏        | 97/800 [00:34<03:49,  3.07it/s]"
     ]
    },
    {
     "name": "stdout",
     "output_type": "stream",
     "text": [
      "как кто хуй в пальто. а сколько ты думаешь\n",
      "- как кто в пальто. а сколько ты думаешь\n",
      "- Как кто в пальто. А сколько ты думаешь\n",
      "- Как кто в пальто, а сколько ты думаешь\n",
      "- как кто в пальто, а сколько ты думаешь\n",
      "- как кто в пальто а сколько ты думаешь\n",
      "- Как кто в пальто а сколько ты думаешь\n",
      "- Как кто одет, а сколько ты думаешь\n",
      "- Как кто, а сколько ты думаешь\n",
      "- как кто не в пальто. а сколько ты думаешь\n",
      "- Как кто-то в пальто, а сколько ты думаешь\n",
      "---> Как кто-то в пальто, а сколько ты думаешь\n"
     ]
    },
    {
     "name": "stderr",
     "output_type": "stream",
     "text": [
      " 12%|█▏        | 98/800 [00:35<03:55,  2.99it/s]"
     ]
    },
    {
     "name": "stdout",
     "output_type": "stream",
     "text": [
      "вот поэтому я и слушаю рок что там меньше таких как ты уебанов !!!\n",
      "- Вот поэтому я и слушаю рок что там меньше таких как ты\n",
      "- вот поэтому я и слушаю рок что там меньше таких как ты\n",
      "- Вот поэтому я и слушаю рок, что там меньше таких как ты\n",
      "- Вот поэтому я и слушаю рок что там меньше таких как я\n",
      "- Вот поэтому я и слушаю рок\n",
      "- Вот поэтому я и слушаю рок, что там меньше таких как я\n",
      "- вот поэтому я и слушаю рок что там меньше таких как ты!!!\n",
      "- Вот поэтому я и слушаю рок что там меньше таких как вы\n",
      "- Вот поэтому я и слушаю рок,что там меньше таких как ты\n",
      "- вот поэтому я и слушаю рок что там меньше таких как я\n",
      "---> вот поэтому я и слушаю рок что там меньше таких как ты!!!\n"
     ]
    },
    {
     "name": "stderr",
     "output_type": "stream",
     "text": [
      " 12%|█▏        | 99/800 [00:35<04:38,  2.52it/s]"
     ]
    },
    {
     "name": "stdout",
     "output_type": "stream",
     "text": [
      "уроды самим не стыдно, не смейте марать память о великом артисте, вы ему в подметки не годитесь!!!\n",
      "- самым не стыдно, не смейте марать память о великом артисте, вы ему в подметки не годитесь!!!\n",
      "- самым не стыдно, не смейте марать память о великом артисте\n",
      "- самим не стыдно, не смейте марать память о великом артисте, вы ему в подметки не годитесь!!!\n",
      "- самим не стыдно, не смейте марать память о великом артисте\n",
      "- самым не стыдно, не смейте марать память о великом артисте, вы ему не годитесь!!!\n",
      "- сами не стыдно, не смейте марать память о великом артисте, вы ему в подметки не годитесь!!!\n",
      "- Не смейте марать память о великом артисте\n",
      "- сами не стыдно, не смейте марать память о великом артисте\n",
      "- самым не стыдно, не смейте марать память о великом артисте, вы ему в подметки не годитесь\n",
      "- им самим не стыдно, не смейте марать память о великом артисте, вы ему в подметки не годитесь!!!\n",
      "---> им самим не стыдно, не смейте марать память о великом артисте, вы ему в подметки не годитесь!!!\n"
     ]
    },
    {
     "name": "stderr",
     "output_type": "stream",
     "text": [
      " 12%|█▎        | 100/800 [00:36<04:22,  2.67it/s]"
     ]
    },
    {
     "name": "stdout",
     "output_type": "stream",
     "text": [
      "вёл себя как говно и стал в итоге свиньёй!\n",
      "- Вел себя как плохой человек и стал в итоге плохим\n",
      "- Вел себя как плохой и стал в итоге плохим\n",
      "- Вёл себя как плохой и стал в итоге плохим\n",
      "- Вёл себя как плохой человек и стал в итоге плохим\n",
      "- вел себя как плохой и стал в итоге плохим\n",
      "- Вел себя плохо и стал в итоге плохим\n",
      "- Вёл себя плохо и стал в итоге плохим\n",
      "- Ввел себя как плохой человек и стал в итоге плохим\n",
      "- Вел себя плохо и стал в итоге плохим человеком\n",
      "- вел себя как плохой человек и стал в итоге плохим\n",
      "---> Ввел себя как плохой человек и стал в итоге плохим\n"
     ]
    },
    {
     "name": "stderr",
     "output_type": "stream",
     "text": [
      " 13%|█▎        | 101/800 [00:36<04:11,  2.78it/s]"
     ]
    },
    {
     "name": "stdout",
     "output_type": "stream",
     "text": [
      "Вижу рожу киселя,сразу ставлю минус!\n",
      "- Вижу кисель, сразу ставлю минус\n",
      "- Вижу кисель, сразу ставлю минус!\n",
      "- Вижу киселя, сразу ставлю минус\n",
      "- Вижу лицо киселя, сразу ставлю минус\n",
      "- Вижу киселя, сразу ставлю минус!\n",
      "- Вижу лицо киселя, сразу ставлю минус!\n",
      "- Вижу его лицо, сразу ставлю минус\n",
      "- Вижу кислую физиономию, сразу ставлю минус\n",
      "- Вижу кислый вид, сразу ставлю минус\n",
      "- вижу лицо киселя, сразу ставлю минус!\n",
      "---> Вижу кислую физиономию, сразу ставлю минус\n"
     ]
    },
    {
     "name": "stderr",
     "output_type": "stream",
     "text": [
      " 13%|█▎        | 102/800 [00:36<03:57,  2.93it/s]"
     ]
    },
    {
     "name": "stdout",
     "output_type": "stream",
     "text": [
      "что можно на это сказать козлина как таких выродков земля носит.\n",
      "- Что можно на это сказать\n",
      "- что можно на это сказать\n",
      "- Что можно сказать на это\n",
      "- Что можно на это сказать?\n",
      "- Что можно на это сказать.\n",
      "- Что можно сказать на это?\n",
      "- Что можно сказать как таких людей земля носит\n",
      "- Что можно сказать?\n",
      "- Что можно сказать, как таких людей земля носит\n",
      "- Что можно сказать на это.\n",
      "---> Что можно сказать, как таких людей земля носит\n"
     ]
    },
    {
     "name": "stderr",
     "output_type": "stream",
     "text": [
      " 13%|█▎        | 103/800 [00:36<03:42,  3.14it/s]"
     ]
    },
    {
     "name": "stdout",
     "output_type": "stream",
     "text": [
      "долбаёб себе запрети покупать жрать!!!\n",
      "- Не покупай\n",
      "- Не разрешай себе покупать\n",
      "- себе запрети покупать!!!\n",
      "- себе запрети покупать!\n",
      "- себе запрети покупать кушать\n",
      "- Зачем тебе запрещать покупать?\n",
      "- Не разрешай покупать\n",
      "- себе запрети покупать питаться\n",
      "- Ты себе запрети покупать\n",
      "- себе запрети покупать кушать!!!\n",
      "---> себе запрети покупать кушать!!!\n"
     ]
    },
    {
     "name": "stderr",
     "output_type": "stream",
     "text": [
      " 13%|█▎        | 104/800 [00:37<04:12,  2.76it/s]"
     ]
    },
    {
     "name": "stdout",
     "output_type": "stream",
     "text": [
      "ублюдки!! родителей-к ответу,родили-воспитывайте,следите за своими чадами\n",
      "- родителей-к ответу,родили-воспитывайте,следите за своими чадами\n",
      "- Родителей надо наказать\n",
      "- Родителей нужно наказать\n",
      "- родили-воспитывайте,следите за своими чадами\n",
      "- Родителей надо наказывать\n",
      "- Родителей- к ответу,родили-воспитывайте,следите за своими чадами\n",
      "- Родителей наказывайте\n",
      "- Родителей нужно наказывать\n",
      "- Родителей-к ответу,родили-воспитывайте,следите за своими чадами\n",
      "- Родителей к ответу,родили-воспитывайте,следите за своими чадами\n",
      "---> Родителей- к ответу,родили-воспитывайте,следите за своими чадами\n"
     ]
    },
    {
     "name": "stderr",
     "output_type": "stream",
     "text": [
      " 13%|█▎        | 105/800 [00:37<04:08,  2.79it/s]"
     ]
    },
    {
     "name": "stdout",
     "output_type": "stream",
     "text": [
      "Где такие, как хотя бы пан Марцинкевич? Блядь, эта строка перчеркнула всё выше написанное.\n",
      "- Где такие, как хотя бы пан Марцинкевич?\n",
      "- Где такие как хотя бы пан Марцинкевич?\n",
      "- Где такие, как хотя бы пан Марцинкевич\n",
      "- Где такие как хотя бы пан Марцинкевич\n",
      "- где такие, как хотя бы пан Марцинкевич?\n",
      "- Где такие как хотя бы Марцинкевич?\n",
      "- Где такие, как хотя бы Марцинкевич?\n",
      "- Где такие, как хотя бы пан Марцинкевич?\n",
      "- Где такие люди, как хотя бы пан Марцинкевич?\n",
      "- где такие, как хотя бы пан Марцинкевич\n",
      "---> Где такие люди, как хотя бы пан Марцинкевич?\n"
     ]
    },
    {
     "name": "stderr",
     "output_type": "stream",
     "text": [
      " 13%|█▎        | 106/800 [00:37<03:52,  2.99it/s]"
     ]
    },
    {
     "name": "stdout",
     "output_type": "stream",
     "text": [
      "блдь ... слов не хватает. вы о чём?\n",
      "- Слов не хватает. Вы о чём?\n",
      "- Слов не хватает\n",
      "- Слов не хватает. Вы о чем?\n",
      "- слов не хватает. вы о чём?\n",
      "- Слов не хватает, вы о чём?\n",
      "- Слов не хватает. Вы о чём\n",
      "- Слов нет\n",
      "- Слова не хватает\n",
      "- Слов не хватает, вы о чём\n",
      "- Слова не хватает. Вы о чём?\n",
      "---> Слова не хватает. Вы о чём?\n"
     ]
    },
    {
     "name": "stderr",
     "output_type": "stream",
     "text": [
      " 13%|█▎        | 107/800 [00:38<03:38,  3.18it/s]"
     ]
    },
    {
     "name": "stdout",
     "output_type": "stream",
     "text": [
      "кто сочиняет этот бред?!!! дибилы!!!!!\n",
      "- Кто сочиняет этот бред?\n",
      "- Кто сочиняет этот бред\n",
      "- кто сочиняет этот бред?\n",
      "- кто сочиняет этот бред\n",
      "- Кто пишет этот бред\n",
      "- Кто пишет этот бред?\n",
      "- кто сочиняет этот бред?!!!\n",
      "- Кто сочиняет это?\n",
      "- Кто сочиняет это бред?\n",
      "- Кто сочиняет это бред\n",
      "---> кто сочиняет этот бред?!!!\n"
     ]
    },
    {
     "name": "stderr",
     "output_type": "stream",
     "text": [
      " 14%|█▎        | 108/800 [00:38<03:30,  3.29it/s]"
     ]
    },
    {
     "name": "stdout",
     "output_type": "stream",
     "text": [
      "ещё я б добавил еськов пидарас\n",
      "- Еськов\n",
      "- ещё я б добавил\n",
      "- ещё я бы добавил\n",
      "- Ещё я бы добавил Еськов\n",
      "- ещё я б добавил еськов\n",
      "- Ещё я бы добавил Еськова\n",
      "- ещё я б добавил его\n",
      "- Ещё я бы добавил Евгения\n",
      "- ещё я бы добавил еськов\n",
      "- ещё я б добавил таких\n",
      "---> Ещё я бы добавил Евгения\n"
     ]
    },
    {
     "name": "stderr",
     "output_type": "stream",
     "text": [
      " 14%|█▎        | 109/800 [00:39<04:09,  2.76it/s]"
     ]
    },
    {
     "name": "stdout",
     "output_type": "stream",
     "text": [
      "уместный вопрос,как эта мразь попала в думу?кто-то же проголосовал за него и подобных уебков\n",
      "- уместный вопрос,как эта женщина попала в думу?кто-то же проголосовал за него\n",
      "- уместный вопрос,как эта женщина попала в думу?кто-то же проголосовал за него и подобных\n",
      "- уместный вопрос,как он попал в думу?кто-то же проголосовал за него\n",
      "- уместный вопрос,как он попал в думу?кто-то же проголосовал за него и подобных\n",
      "- уместный вопрос,как эта девушка попала в думу?кто-то же проголосовал за него\n",
      "- уместный вопрос,как эта девушка попала в думу?кто-то же проголосовал за него и подобных\n",
      "- уместный вопрос,как эта женщина попала в думу? кто-то же проголосовал за него\n",
      "- уместный вопрос,как эта женщина попала в думу? кто-то же проголосовал за него и подобных\n",
      "- уместный вопрос,как она попала в думу?кто-то же проголосовал за него\n",
      "- уместный вопрос,как она попала в думу?кто-то же проголосовал за него и подобных\n",
      "---> уместный вопрос,как эта женщина попала в думу? кто-то же проголосовал за него и подобных\n"
     ]
    },
    {
     "name": "stderr",
     "output_type": "stream",
     "text": [
      " 14%|█▍        | 110/800 [00:39<03:55,  2.93it/s]"
     ]
    },
    {
     "name": "stdout",
     "output_type": "stream",
     "text": [
      "сама ты дебилка это лучший министр в мире\n",
      "- Это лучший министр в мире\n",
      "- это лучший министр в мире\n",
      "- Это лучший министр\n",
      "- Лучший министр в мире\n",
      "- Сама ты глупая это лучший министр в мире\n",
      "- Сама ты дура это лучший министр в мире\n",
      "- Сама ты плохой министр\n",
      "- Сам ты плохой министр\n",
      "- сам ты плохой министр\n",
      "- Это самый лучший министр в мире\n",
      "---> Сама ты глупая это лучший министр в мире\n"
     ]
    },
    {
     "name": "stderr",
     "output_type": "stream",
     "text": [
      " 14%|█▍        | 111/800 [00:39<03:45,  3.06it/s]"
     ]
    },
    {
     "name": "stdout",
     "output_type": "stream",
     "text": [
      "твари конченые а если по пакету машина проехала\n",
      "- А если по пакету машина проехала\n",
      "- а если по пакету машина проехала\n",
      "- А если по пакету машина прошла\n",
      "- Если по пакету машина проехала\n",
      "- если по пакету машина проехала\n",
      "- А если по пакету машина проездила\n",
      "- А если по пакетам машина проехала\n",
      "- Люди а если по пакету машина проехала\n",
      "- Если по пакету машина прошла\n",
      "- а если по пакету машина прошла\n",
      "---> Люди а если по пакету машина проехала\n"
     ]
    },
    {
     "name": "stderr",
     "output_type": "stream",
     "text": [
      " 14%|█▍        | 112/800 [00:39<03:50,  2.99it/s]"
     ]
    },
    {
     "name": "stdout",
     "output_type": "stream",
     "text": [
      "что у этих людей в башке!?походу насрато!\n",
      "- Что у них в голове?\n",
      "- Что у этих людей в голове?\n",
      "- Что у них в голове!?\n",
      "- что у них в голове?\n",
      "- что у них в голове!?походу насрано!\n",
      "- Что у них в голове!\n",
      "- Что у этих людей в голове!?\n",
      "- что у этих людей в голове?\n",
      "- что у них в голове!?походу насрато!\n",
      "- что у этих людей в голове!?походу насрано!\n",
      "---> что у этих людей в голове!?походу насрано!\n"
     ]
    },
    {
     "name": "stderr",
     "output_type": "stream",
     "text": [
      " 14%|█▍        | 113/800 [00:40<03:59,  2.86it/s]"
     ]
    },
    {
     "name": "stdout",
     "output_type": "stream",
     "text": [
      "сука не я на его месте. она охуела бы вместе с сабакой.\n",
      "- не я на его месте. она испугалась бы вместе с сабакой\n",
      "- не я на его месте. она испугалась бы вместе с сабакой.\n",
      "- не я на его месте.она испугалась бы вместе с сабакой\n",
      "- Не я на его месте. Она испугалась бы вместе с собакой\n",
      "- Не я на его месте. Она испугалась бы вместе с сабакой\n",
      "- не я на его месте.она испугалась бы вместе с сабакой.\n",
      "- не я на его месте. она удивилась бы вместе с сабакой\n",
      "- не я на его месте. она удивилась бы вместе с сабакой.\n",
      "- не я на его месте.она бы удивилась вместе с сабакой\n",
      "- не я на его месте. она испугалась бы вместе с собакой\n",
      "---> не я на его месте. она испугалась бы вместе с сабакой.\n"
     ]
    },
    {
     "name": "stderr",
     "output_type": "stream",
     "text": [
      " 14%|█▍        | 114/800 [00:40<03:41,  3.09it/s]"
     ]
    },
    {
     "name": "stdout",
     "output_type": "stream",
     "text": [
      "я бы тебя хотел трахнуть\n",
      "- Я бы тебя хотел\n",
      "- Я бы хотел с тобой познакомиться\n",
      "- Я бы хотел с тобой переспать\n",
      "- я бы тебя хотел\n",
      "- Я бы тебя хотел.\n",
      "- Я бы хотел с тобой встретиться\n",
      "- Я бы тебя хотел поцеловать\n",
      "- Я бы хотел тебя поцеловать\n",
      "- Я бы хотел тебя трахнуть\n",
      "- я бы хотел с тобой переспать\n",
      "---> Я бы хотел с тобой познакомиться\n"
     ]
    },
    {
     "name": "stderr",
     "output_type": "stream",
     "text": [
      " 14%|█▍        | 115/800 [00:41<04:26,  2.57it/s]"
     ]
    },
    {
     "name": "stdout",
     "output_type": "stream",
     "text": [
      "да ты бабуля уже всем нахамила, кому только было возможно. это твой образ жизни, быдлячий. искренне сочувствую домашним.\n",
      "- да ты бабуля уже всем нахамила, кому только было возможно. это твой образ жизни\n",
      "- Да ты бабуля уже всем надоела, кому только было возможно. Это твой образ жизни\n",
      "- да ты бабуля уже всем надоела, кому только было возможно. это твой образ жизни\n",
      "- да ты бабуля уже всем нахамила, кому только было возможно. это твой образ жизни. искренне сочувствую домашним\n",
      "- Да ты бабуля уже всем надоела, кому только было возможно\n",
      "- Да ты бабуля уже всем нахамила, кому только было возможно. Это твой образ жизни\n",
      "- да ты бабуля уже всем надоела, кому только было возможно. это твой образ жизни. искренне сочувствую домашним\n",
      "- да ты бабуля уже всем нахамила, кому только было возможно. это твой образ жизни. искренне сочувствую домашним.\n",
      "- Да ты бабушка уже всем надоела, кому только было возможно. Это твой образ жизни\n",
      "- Да ты бабуля уже всем надоела, кому только было возможно. Это твой образ жизни. искренне сочувствую домашним\n",
      "---> да ты бабуля уже всем нахамила, кому только было возможно. это твой образ жизни. искренне сочувствую домашним.\n"
     ]
    },
    {
     "name": "stderr",
     "output_type": "stream",
     "text": [
      " 14%|█▍        | 116/800 [00:41<04:22,  2.60it/s]"
     ]
    },
    {
     "name": "stdout",
     "output_type": "stream",
     "text": [
      "да не уберут ее никуда,пока мы дураки на эту шалаву реагируем им денюжка течет.\n",
      "- да не уберут ее никуда,пока мы на нее реагируем\n",
      "- да не уберут ее никуда,пока мы на нее не реагируем\n",
      "- да не уберут ее никуда,пока мы люди на нее реагируем\n",
      "- да не уберут ее никуда,пока мы глупые на нее реагируем\n",
      "- Да не уберут её никуда, пока мы на неё реагируем\n",
      "- да не уберут ее никуда,пока мы на эту женщину реагируем\n",
      "- Да не уберут её никуда,пока мы на неё реагируем\n",
      "- да не уберут ее никуда\n",
      "- да не уберут ее никуда,пока мы на неё реагируем\n",
      "- Да не уберут ее никуда, пока мы на нее реагируем\n",
      "---> да не уберут ее никуда,пока мы на эту женщину реагируем\n"
     ]
    },
    {
     "name": "stderr",
     "output_type": "stream",
     "text": [
      " 15%|█▍        | 117/800 [00:42<05:14,  2.17it/s]"
     ]
    },
    {
     "name": "stdout",
     "output_type": "stream",
     "text": [
      "а где папаша????? и зачем от таких уродов рожать детей? сначала сами бегают за идиотами, а потом тянут лямку одни...\n",
      "- а где папаша????? и зачем от таких людей рожать детей? сначала сами бегают за глупцами, а потом тянут лямку одни...\n",
      "- а где папаша????? и зачем от таких детей рожать детей? сначала сами бегают за глупцами, а потом тянут лямку одни...\n",
      "- а где папаша????? и зачем от таких людей рожать детей? сначала сами бегают за глупыми, а потом тянут лямку одни...\n",
      "- а где папаша????? и зачем от таких детей рожать детей? сначала сами бегают за глупыми, а потом тянут лямку одни...\n",
      "- а где папаша????? и зачем от таких людей рожать детей? сначала сами бегают за идиотами, а потом тянут лямку одни...\n",
      "- а где папаша????? и зачем от таких людей рожать детей? сначала сами бегают за глупцами, а потом тянут лямку одни\n",
      "- а где папаша????? и зачем от таких детей рожать детей? сначала сами бегают за идиотами, а потом тянут лямку одни...\n",
      "- а где папаша????? и зачем от таких детей рожать детей? сначала сами бегают за глупцами, а потом тянут лямку одни\n",
      "- а где папаша????? и зачем от таких рожать детей? сначала сами бегают за глупцами, а потом тянут лямку одни...\n",
      "- а где папаша????? и зачем от таких детей рожать детей? сначала сами бегают за неудачниками, а потом тянут лямку одни...\n",
      "---> а где папаша????? и зачем от таких детей рожать детей? сначала сами бегают за неудачниками, а потом тянут лямку одни...\n"
     ]
    },
    {
     "name": "stderr",
     "output_type": "stream",
     "text": [
      " 15%|█▍        | 118/800 [00:42<04:36,  2.46it/s]"
     ]
    },
    {
     "name": "stdout",
     "output_type": "stream",
     "text": [
      "Кто за рулем то, че съябывал?\n",
      "- Кто за рулем то?\n",
      "- Кто за рулем то, что делал?\n",
      "- Кто за рулем то, что делал\n",
      "- Кто за рулем то, что случилось?\n",
      "- Кто за рулем то, что случилось\n",
      "- Кто за рулём то?\n",
      "- Кто за рулем то, куда ездил\n",
      "- Кто за рулем?\n",
      "- Кто за рулем то, что нарушил?\n",
      "- Кто ехал?\n",
      "---> Кто за рулем то, что случилось?\n"
     ]
    },
    {
     "name": "stderr",
     "output_type": "stream",
     "text": [
      " 15%|█▍        | 119/800 [00:42<04:16,  2.66it/s]"
     ]
    },
    {
     "name": "stdout",
     "output_type": "stream",
     "text": [
      "много ли дураков отвечающих на этот ебанутый вопрос?\n",
      "- Много ли людей отвечающих на этот вопрос\n",
      "- Много ли людей отвечающих на этот вопрос?\n",
      "- много ли людей отвечающих на этот вопрос?\n",
      "- Много ли умных людей отвечающих на этот вопрос?\n",
      "- Много ли таких людей отвечающих на этот вопрос?\n",
      "- Много ли таких людей отвечающих на этот вопрос\n",
      "- Много ли умных людей отвечающих на этот вопрос\n",
      "- много ли людей отвечающих на этот вопрос\n",
      "- Много ли отвечающих на этот вопрос\n",
      "- Много ли таких отвечающих на этот вопрос\n",
      "---> Много ли таких людей отвечающих на этот вопрос?\n"
     ]
    },
    {
     "name": "stderr",
     "output_type": "stream",
     "text": [
      " 15%|█▌        | 120/800 [00:43<04:08,  2.74it/s]"
     ]
    },
    {
     "name": "stdout",
     "output_type": "stream",
     "text": [
      "ребята ,что все вымерли,что я один долбоеб остался.\n",
      "- Ребята, что все умерли, что я один остался\n",
      "- Ребята, что все вымерли, что я один остался\n",
      "- Ребята что все умерли, что я один остался\n",
      "- Ребята, что все исчезли, что я один остался\n",
      "- Ребята, что я один остался\n",
      "- Ребята что все вымерли, что я один остался\n",
      "- Что все умерли, что я один остался\n",
      "- Ребята что все умерли что я один остался\n",
      "- Ребята что все исчезли, что я один остался\n",
      "- Ребята, что все умерли, что я один остался\n",
      "---> Ребята, что все исчезли, что я один остался\n"
     ]
    },
    {
     "name": "stderr",
     "output_type": "stream",
     "text": [
      " 15%|█▌        | 121/800 [00:43<04:09,  2.73it/s]"
     ]
    },
    {
     "name": "stdout",
     "output_type": "stream",
     "text": [
      "Прекрасно. Только кроме этих 2 долбоклюев пострадают и нормальные люди.\n",
      "- Прекрасно. Только кроме этих 2 людей пострадают и нормальные люди\n",
      "- Прекрасно. Только кроме них пострадают и нормальные люди\n",
      "- Прекрасно. Только кроме этих 2 человек пострадают и нормальные люди\n",
      "- Прекрасно. Только кроме этих 2 людей пострадают и нормальные люди.\n",
      "- Прекрасно. Только кроме этих двух пострадают и нормальные люди\n",
      "- Прекрасно. Только кроме них пострадают и нормальные люди.\n",
      "- Прекрасно. Только кроме этих 2 человек пострадают и нормальные люди.\n",
      "- Прекрасно, только кроме них пострадают и нормальные люди\n",
      "- Прекрасно, только кроме этих 2 людей пострадают и нормальные люди\n",
      "- Прекрасно. Только кроме этих 2 плохих людей пострадают и нормальные люди\n",
      "---> Прекрасно. Только кроме этих 2 плохих людей пострадают и нормальные люди\n"
     ]
    },
    {
     "name": "stderr",
     "output_type": "stream",
     "text": [
      " 15%|█▌        | 122/800 [00:43<04:15,  2.65it/s]"
     ]
    },
    {
     "name": "stdout",
     "output_type": "stream",
     "text": [
      "что ты пиздиш лена молодёш получали квартиры никаких 3 е детей никакой к старосте пиздаболка\n",
      "- Что ты говоришь Лена молодёш получали квартиры никаких 3 детей никакой староста\n",
      "- Что ты говоришь Лена молодёжь получали квартиры никаких 3 детей никакой староста\n",
      "- что ты говоришь лена молодёш получали квартиры никаких 3 детей никакой староста\n",
      "- что ты говоришь лена молодёш получали квартиры никаких 3 е детей никакой староста\n",
      "- что ты говоришь Лена молодёш получали квартиры никаких 3 детей никакой староста\n",
      "- Что ты говоришь Лена молодёж получали квартиры никаких 3 детей никакой староста\n",
      "- Что ты говоришь лена молодёш получали квартиры никаких 3 детей никакой староста\n",
      "- что ты лена молодёш получали квартиры никаких 3 е детей никакой староста\n",
      "- что ты говоришь Лена молодёш получали квартиры никаких 3 е детей никакой староста\n",
      "- что ты говоришь лена молодёш получали квартиры никаких 3 е детей никаких к старосте\n",
      "---> что ты говоришь лена молодёш получали квартиры никаких 3 е детей никаких к старосте\n"
     ]
    },
    {
     "name": "stderr",
     "output_type": "stream",
     "text": [
      " 15%|█▌        | 123/800 [00:44<04:42,  2.40it/s]"
     ]
    },
    {
     "name": "stdout",
     "output_type": "stream",
     "text": [
      "Хохлы, плез! Один только пикрил - 8 393 005 просмотров на одном только ютубе, не считая ящика.\n",
      "- Один только пикрил - 8 393 005 просмотров на одном только ютубе, не считая ящика\n",
      "- Один только пикрил - 8 393 005 просмотров на одном только ютубе, не считая ящика.\n",
      "- Один только Пикрил - 8 393 005 просмотров на одном только ютубе, не считая ящика\n",
      "- Один только Пикрил - 8 393 005 просмотров на одном только ютубе, не считая ящика.\n",
      "- Один только пикрил - 8393 005 просмотров на одном только ютубе, не считая ящика\n",
      "- Один только пикрил - 8393 005 просмотров на одном только ютубе, не считая ящика.\n",
      "- Один только пикрил - 8 393 005 просмотров на одном только ютубе\n",
      "- Один только Пикрил - 8393 005 просмотров на одном только ютубе, не считая ящика\n",
      "- Один только Пикрил - 8393 005 просмотров на одном только ютубе, не считая ящика.\n",
      "- Один только Пикрил - 8 393 005 просмотров на одном только ютубе\n",
      "---> Один только Пикрил - 8 393 005 просмотров на одном только ютубе, не считая ящика.\n"
     ]
    },
    {
     "name": "stderr",
     "output_type": "stream",
     "text": [
      " 16%|█▌        | 124/800 [00:44<04:43,  2.39it/s]"
     ]
    },
    {
     "name": "stdout",
     "output_type": "stream",
     "text": [
      "https://ok.ru/profile/579040782312 этот гнойный пидар провокатор!!!!!\n",
      "- Этот человек провокатор\n",
      "- Этот провокатор\n",
      "- https://ok.ru/profile/579040782312\n",
      "- Он провокатор\n",
      "- Этот человек провокатор!\n",
      "- Это провокатор\n",
      "- он провокатор\n",
      "- Плохой человек\n",
      "- Этот человек провокатор.\n",
      "- Этот человек провокатор!!\n",
      "---> https://ok.ru/profile/579040782312\n"
     ]
    },
    {
     "name": "stderr",
     "output_type": "stream",
     "text": [
      " 16%|█▌        | 125/800 [00:45<04:12,  2.67it/s]"
     ]
    },
    {
     "name": "stdout",
     "output_type": "stream",
     "text": [
      "сука ты всех задрлбала тварь уйди уже куда нибудь\n",
      "- Ты всех достала\n",
      "- Ты всех достал\n",
      "- Уйди уже куда нибудь\n",
      "- ты всех достал\n",
      "- ты всех достала\n",
      "- Ты всех надоел\n",
      "- Уйди уже куда-нибудь\n",
      "- я всех достала\n",
      "- Уходи уже куда нибудь\n",
      "- Уходи уже куда-нибудь\n",
      "---> Уходи уже куда-нибудь\n"
     ]
    },
    {
     "name": "stderr",
     "output_type": "stream",
     "text": [
      " 16%|█▌        | 126/800 [00:45<04:04,  2.75it/s]"
     ]
    },
    {
     "name": "stdout",
     "output_type": "stream",
     "text": [
      "бедный малыш ! обоих посадить , а лучше забить!\n",
      "- бедный малыш! обоих наказать\n",
      "- бедный малыш! обоих посадить\n",
      "- бедный малыш! обоих посадить, а лучше забить!\n",
      "- бедный малыш! обоих посадить, а лучше забить!\n",
      "- бедный малыш\n",
      "- бедный ребёнок! обоих наказать\n",
      "- бедный малыш! обоих посадить, а лучше забить\n",
      "- бедный малыш! всех наказать\n",
      "- бедный ребёнок! обоих посадить\n",
      "- бедный ребенок! обоих наказать\n",
      "---> бедный малыш! обоих посадить, а лучше забить!\n"
     ]
    },
    {
     "name": "stderr",
     "output_type": "stream",
     "text": [
      " 16%|█▌        | 127/800 [00:45<04:23,  2.55it/s]"
     ]
    },
    {
     "name": "stdout",
     "output_type": "stream",
     "text": [
      "зачем из детей делать выблядков? учил бы уроки, и мечтал быть полезным для страны!\n",
      "- зачем из детей делать плохих людей? учил бы уроки, и мечтал быть полезным для страны!\n",
      "- зачем из детей делать людей? учил бы уроки, и мечтал быть полезным для страны!\n",
      "- зачем из детей делать плохих людей? учил бы уроки, и мечтал быть полезным для страны\n",
      "- зачем из детей делать плохих людей? учил бы уроки и мечтал быть полезным для страны!\n",
      "- зачем из детей делать неудачников? учил бы уроки, и мечтал быть полезным для страны!\n",
      "- Зачем из детей делать плохих людей? Учил бы уроки, и мечтал быть полезным для страны!\n",
      "- зачем из детей делать плохих людей?учил бы уроки, и мечтал быть полезным для страны!\n",
      "- Зачем из детей делать плохих людей? Учил бы уроки, и мечтал быть полезным для страны\n",
      "- зачем из детей делать ненужных людей? учил бы уроки, и мечтал быть полезным для страны!\n",
      "- зачем из детей делать людей? учил бы уроки, и мечтал быть полезным для страны\n",
      "---> зачем из детей делать ненужных людей? учил бы уроки, и мечтал быть полезным для страны!\n"
     ]
    },
    {
     "name": "stderr",
     "output_type": "stream",
     "text": [
      " 16%|█▌        | 128/800 [00:46<04:42,  2.38it/s]"
     ]
    },
    {
     "name": "stdout",
     "output_type": "stream",
     "text": [
      "Посмотрим, как начнешь визжать, когда начнут безосновательно тереть твои треды.\n",
      "- Посмотрим, как начнешь возмущаться\n",
      "- Посмотрим, как начнешь визжать, когда начнут безосновательно тереть твои треды\n",
      "- Посмотрим, как начнешь кричать\n",
      "- Посмотрим, как начнешь кричать, когда начнут безосновательно тереть твои треды\n",
      "- Посмотрим, как начнешь визжать, когда начнут безосновательно тереть твои треды.\n",
      "- Посмотрим, когда начнут безосновательно тереть твои треды\n",
      "- Посмотрим, как начнешь кричать, когда начнут безосновательно тереть твои треды.\n",
      "- Посмотрим, как начнешь возмущаться, когда начнут безосновательно тереть твои треды\n",
      "- Посмотрим, как начнешь истерить, когда начнут безосновательно тереть твои треды\n",
      "- Посмотрим, как начнешь визжать, когда начнут безосновательно удалять твои треды\n",
      "---> Посмотрим, как начнешь возмущаться, когда начнут безосновательно тереть твои треды\n"
     ]
    },
    {
     "name": "stderr",
     "output_type": "stream",
     "text": [
      " 16%|█▌        | 129/800 [00:46<04:31,  2.47it/s]"
     ]
    },
    {
     "name": "stdout",
     "output_type": "stream",
     "text": [
      "какая сволочь пишет такую херню? пора прекратить это безобразие.\n",
      "- какая сволочь пишет такую ерунду? пора прекратить это безобразие.\n",
      "- какая сволочь пишет такую ерунду? пора прекратить это безобразие\n",
      "- Кто пишет такую ерунду? Пора прекратить это безобразие\n",
      "- какая сволочь пишет такую ерунду? Пора прекратить это безобразие\n",
      "- какая сволочь пишет такую ерунду? Пора прекратить это безобразие.\n",
      "- какая сволочь пишет такую чушь? пора прекратить это безобразие.\n",
      "- какая сволочь пишет такую чушь? пора прекратить это безобразие\n",
      "- Кто пишет такую чушь? Пора прекратить это безобразие\n",
      "- какая сволочь пишет такую чушь? Пора прекратить это безобразие\n",
      "- какая сволочь пишет такую чушь? Пора прекратить это безобразие.\n",
      "---> какая сволочь пишет такую ерунду? Пора прекратить это безобразие.\n"
     ]
    },
    {
     "name": "stderr",
     "output_type": "stream",
     "text": [
      " 16%|█▋        | 130/800 [00:47<05:25,  2.06it/s]"
     ]
    },
    {
     "name": "stdout",
     "output_type": "stream",
     "text": [
      "бу-га-га-га-га, куда он отделится еблан? там уже вся мразота разъехались. укропидарасов лишили лицензий на работу, попиздовали домой по норам.\n",
      "- Куда он отделится\n",
      "- куда он отделится? там уже вся мразота разъехались\n",
      "- куда он отделится? там уже вся мразота разъехались.\n",
      "- куда он отделится? там уже вся мразота разъехались. укропидарасов лишили лицензий на работу\n",
      "- Куда он отделится? Там уже вся нечисть разъехались.\n",
      "- куда он отделится? там уже вся мразота разъехались. укропидарасов лишили лицензий на работу, попиздовали домой по норам\n",
      "- Куда он отделится? Там уже вся мразота разъехались.\n",
      "- куда он отделится? там уже вся мразота разъехались. укропидарасов лишили лицензий на работу, попиздовали домой по норам.\n",
      "- куда он отделится? там уже вся нечисть разъехались.\n",
      "- куда он отделится? там уже вся мразота разъехались. укропидов лишили лицензий на работу\n",
      "---> куда он отделится? там уже вся мразота разъехались. укропидарасов лишили лицензий на работу, попиздовали домой по норам.\n"
     ]
    },
    {
     "name": "stderr",
     "output_type": "stream",
     "text": [
      " 16%|█▋        | 131/800 [00:47<04:44,  2.35it/s]"
     ]
    },
    {
     "name": "stdout",
     "output_type": "stream",
     "text": [
      "А давайте бросать вместе. Как раз понедельник\n",
      "- А давайте бросать вместе. Как раз понедельник\n",
      "- А давайте бросать вместе, как раз понедельник\n",
      "- А давайте бросаем вместе. Как раз понедельник\n",
      "- А давайте бросать вместе как раз понедельник\n",
      "- А давайте бросать вместе. как раз понедельник\n",
      "- А давайте бросать вместе.как раз понедельник\n",
      "- А давайте бросаем вместе, как раз понедельник\n",
      "- А давайте бросать вместе.Как раз понедельник\n",
      "- А давайте бросать вместе,как раз понедельник\n",
      "- А давайте бросать вместе\n",
      "---> А давайте бросаем вместе, как раз понедельник\n"
     ]
    },
    {
     "name": "stderr",
     "output_type": "stream",
     "text": [
      " 16%|█▋        | 132/800 [00:47<04:12,  2.64it/s]"
     ]
    },
    {
     "name": "stdout",
     "output_type": "stream",
     "text": [
      "пукнул и сьебался.трус и быдло.\n",
      "- Потерпел поражение\n",
      "- Потерпел неудачу\n",
      "- Потерпел фиаско\n",
      "- прыгнул и убежал\n",
      "- Пукнул и убежал\n",
      "- Пукнул и убежал\n",
      "- Пугнул и убежал\n",
      "- поехал и обиделся\n",
      "- Потупил и убежал\n",
      "- Потупил и сбежал\n",
      "---> Потерпел поражение\n"
     ]
    },
    {
     "name": "stderr",
     "output_type": "stream",
     "text": [
      " 17%|█▋        | 133/800 [00:48<04:01,  2.77it/s]"
     ]
    },
    {
     "name": "stdout",
     "output_type": "stream",
     "text": [
      "стрелять их надо,бог есть и получат свое\n",
      "- Наказать их надо\n",
      "- Наказать их нужно\n",
      "- Наказать их надо, бог есть и получат свое\n",
      "- Надо их наказать\n",
      "- Наказать их надо, бог есть и получат своё\n",
      "- Наказать надо\n",
      "- Их надо наказать\n",
      "- Наказать их надо, Бог есть и получат своё\n",
      "- Наказать их надо, Бог есть и получат свое\n",
      "- Наказать надо их\n",
      "---> Наказать их надо, Бог есть и получат свое\n"
     ]
    },
    {
     "name": "stderr",
     "output_type": "stream",
     "text": [
      " 17%|█▋        | 134/800 [00:48<04:05,  2.71it/s]"
     ]
    },
    {
     "name": "stdout",
     "output_type": "stream",
     "text": [
      "кто ему там по бошке камнем уебал, и в воду выкенул.\n",
      "- кто ему там по голове камнем ударил\n",
      "- кто ему там по голове камнем ударил, и в воду выкенул\n",
      "- Кто ему там по голове камнем ударил\n",
      "- кто ему там по голове камнем ударил, и в воду выкенул.\n",
      "- кто ему там по голове камнем ударил и в воду выкенул\n",
      "- Кто ему там по голове камнем ударил и в воду выкинул\n",
      "- Кто ему там по голове камнем ударил, и в воду выкинул\n",
      "- Кто ему там по голове камнем кинул\n",
      "- Кто ему по голове камнем ударил\n",
      "- кто ему там по голове камнем кинул\n",
      "---> кто ему там по голове камнем ударил, и в воду выкенул.\n"
     ]
    },
    {
     "name": "stderr",
     "output_type": "stream",
     "text": [
      " 17%|█▋        | 135/800 [00:49<04:14,  2.61it/s]"
     ]
    },
    {
     "name": "stdout",
     "output_type": "stream",
     "text": [
      "Ларин клоун, тату на ебле сделал, не шарит в науке и прочем\n",
      "- Ларин, тату сделал, не шарит в науке и прочем\n",
      "- Тату сделал, не шарит в науке и прочем\n",
      "- Тату сделал, не шарит в науке\n",
      "- Ларин клоун, тату сделал, не шарит в науке и прочем\n",
      "- Тату на лице сделал, не шарит в науке и прочем\n",
      "- Ларин, тату сделал, не шарит в науке\n",
      "- Тату на теле сделал, не шарит в науке и прочем\n",
      "- Ларин татуировку сделал, не шарит в науке и прочем\n",
      "- Тату на лице сделал, не шарит в науке\n",
      "- Тату на теле сделал, не шарит в науке\n",
      "---> Ларин клоун, тату сделал, не шарит в науке и прочем\n"
     ]
    },
    {
     "name": "stderr",
     "output_type": "stream",
     "text": [
      " 17%|█▋        | 136/800 [00:49<04:04,  2.71it/s]"
     ]
    },
    {
     "name": "stdout",
     "output_type": "stream",
     "text": [
      "какой дурак пойдет на твой чудо концерт надо быть полным дебилом\n",
      "- какой дурак пойдет на твой чудо концерт надо быть полным\n",
      "- Какой дурак пойдёт на твой чудо концерт\n",
      "- Какой глупый человек пойдёт на твой чудо концерт\n",
      "- какой дурак пойдет на твой чудо концерт надо быть очень умным\n",
      "- какой дурак пойдет на твой чудо концерт надо быть глупым\n",
      "- Какой глупый человек пойдет на твой чудо концерт\n",
      "- Какой дурак пойдёт на твой чудо концерт надо быть очень умным\n",
      "- Какой дурак пойдёт на твой чудо концерт надо быть глупым\n",
      "- какой дурак пойдёт на твой чудо концерт надо быть полным\n",
      "- какой дурак пойдёт на твой чудо концерт надо быть очень умным\n",
      "---> какой дурак пойдёт на твой чудо концерт надо быть очень умным\n"
     ]
    },
    {
     "name": "stderr",
     "output_type": "stream",
     "text": [
      " 17%|█▋        | 137/800 [00:49<03:38,  3.04it/s]"
     ]
    },
    {
     "name": "stdout",
     "output_type": "stream",
     "text": [
      "вот ублюдки чё творят пидоры\n",
      "- Что они творят\n",
      "- Что они делают\n",
      "- Что творят\n",
      "- что они творят\n",
      "- Они что творят\n",
      "- что творят\n",
      "- что они делают\n",
      "- они что творят\n",
      "- Вот что они творят\n",
      "- Чего они творят\n",
      "---> Вот что они творят\n"
     ]
    },
    {
     "name": "stderr",
     "output_type": "stream",
     "text": [
      " 17%|█▋        | 138/800 [00:50<03:59,  2.76it/s]"
     ]
    },
    {
     "name": "stdout",
     "output_type": "stream",
     "text": [
      "вата как всегда врет все, суки! мне 55 лет?!!! я в Европпе живу а вы в мордаре!\n",
      "- Я в Европе живу а вы в России\n",
      "- мне 55 лет?!!! я в Европпе живу\n",
      "- мне 55 лет?!!! я в Европпе живу а вы в России\n",
      "- мне 55 лет?!!! я в Европпе живу?\n",
      "- мне 55 лет?!!! я в Европпе живу а вы в интернете\n",
      "- Мне 55 лет, я в Европпе живу\n",
      "- Мне 55 лет, я в Европе живу\n",
      "- я в европпе живу а вы в России\n",
      "- мне 55 лет?!!! я в Европпе живу а вы во лжи\n",
      "- мне 55 лет?!!! я в Европпе живу а вы в вранье\n",
      "---> мне 55 лет?!!! я в Европпе живу а вы в интернете\n"
     ]
    },
    {
     "name": "stderr",
     "output_type": "stream",
     "text": [
      " 17%|█▋        | 139/800 [00:50<04:12,  2.62it/s]"
     ]
    },
    {
     "name": "stdout",
     "output_type": "stream",
     "text": [
      "и че, от ваших классов газ или электричество подешевеют? вы как стадо баранов\n",
      "- И че, от ваших классов газ или электричество подешевеют?\n",
      "- и че, от ваших классов газ или электричество подешевеют?\n",
      "- И что, от ваших классов газ или электричество подешевеют?\n",
      "- И че от ваших классов газ или электричество подешевеют?\n",
      "- И чё, от ваших классов газ или электричество подешевеют?\n",
      "- И че, от ваших классов газ или электричество подешевеют? Вы как глупые люди\n",
      "- И че, от ваших классов газ или электричество подешевеют? Вы как стадо людей\n",
      "- И что от ваших классов газ или электричество подешевеют?\n",
      "- и что, от ваших классов газ или электричество подешевеют?\n",
      "- и че, от ваших классов газ или электричество подешевеют? вы как глупые люди\n",
      "---> и че, от ваших классов газ или электричество подешевеют? вы как глупые люди\n"
     ]
    },
    {
     "name": "stderr",
     "output_type": "stream",
     "text": [
      " 18%|█▊        | 140/800 [00:50<04:12,  2.61it/s]"
     ]
    },
    {
     "name": "stdout",
     "output_type": "stream",
     "text": [
      "это же пидора баскова тесть.ну и семейка.обалдеть.\n",
      "- это же баскова тесть.ну и семейка\n",
      "- это же баскова тесть. ну и семейка\n",
      "- это же баскова тесть.ну и семейка.\n",
      "- это же баскова тесть.ну и семейка.обалдеть\n",
      "- это же баскова тесть. ну и семейка.\n",
      "- Это же баскова тесть. Ну и семейка\n",
      "- ну и семейка\n",
      "- Это же баскова тесть. Ну и семейка.\n",
      "- это же баскова тесть.ну и семейка.удивительные\n",
      "- это же баскова тесть.ну и семейка.обалдеть.\n",
      "---> это же баскова тесть.ну и семейка.удивительные\n"
     ]
    },
    {
     "name": "stderr",
     "output_type": "stream",
     "text": [
      " 18%|█▊        | 141/800 [00:51<03:49,  2.88it/s]"
     ]
    },
    {
     "name": "stdout",
     "output_type": "stream",
     "text": [
      "дураков нет, этож чистая наебаловка\n",
      "- Это обман\n",
      "- Нет умных людей\n",
      "- Это не обман\n",
      "- Нет глупых людей\n",
      "- людей нет, это же обман\n",
      "- Нет людей, это обман\n",
      "- Нет, это обман\n",
      "- Люди не умные\n",
      "- Нет, это не обман\n",
      "- людей нет, это обман\n",
      "---> людей нет, это же обман\n"
     ]
    },
    {
     "name": "stderr",
     "output_type": "stream",
     "text": [
      " 18%|█▊        | 142/800 [00:51<04:35,  2.39it/s]"
     ]
    },
    {
     "name": "stdout",
     "output_type": "stream",
     "text": [
      "нагуляется, припрется, вспомнит что есть муж и дети .таким извените шалавам хватает совести на все. дураком будешь если примешь обратно,\n",
      "- нагуляется, припрется, вспомнит что есть муж и дети.таким извените хватит совести на все\n",
      "- нагуляется, припрется, вспомнит что есть муж и дети.таким извените хватит совести на все.\n",
      "- нагуляется, припрется, вспомнит что есть муж и дети.таким извените не хватает совести на все\n",
      "- нагуляется, припрется, вспомнит что есть муж и дети.таким извените надоели\n",
      "- нагуляется, припрется, вспомнит что есть муж и дети.таким извените не хватает совести на все.\n",
      "- нагуляется, припрется, вспомнит что есть муж и дети.таким извените не хватит совести на все\n",
      "- нагуляется, припрется, вспомнит что есть муж и дети.таким извените, не хватает совести на все\n",
      "- нагуляется, припрется, вспомнит что есть муж и дети.таким извените не хватит совести на все.\n",
      "- нагуляется, припрется, вспомнит что есть муж и дети.таким извените, хватит совести на все\n",
      "- нагуляется, припрется, вспомнит что есть муж и дети.таким извените, не хватает совести на все.\n",
      "---> нагуляется, припрется, вспомнит что есть муж и дети.таким извените, не хватает совести на все.\n"
     ]
    },
    {
     "name": "stderr",
     "output_type": "stream",
     "text": [
      " 18%|█▊        | 143/800 [00:52<04:07,  2.65it/s]"
     ]
    },
    {
     "name": "stdout",
     "output_type": "stream",
     "text": [
      "пидр он плешивый обещал к скоро закончится дай бог\n",
      "- он обещал к скоро закончится дай бог\n",
      "- Он обещал к скоро закончится дай бог\n",
      "- Он обещал к скоро закончится, дай бог\n",
      "- Он обещал к скоро закончится\n",
      "- Он плохой обещал к скоро закончится дай бог\n",
      "- Он обещал к скоро закончится дайте бог\n",
      "- Он обещал, к скоро закончится\n",
      "- он обещал к скоро кончится дай бог\n",
      "- он плохой обещал к скоро закончится дай бог\n",
      "- Он обещал скоро закончится\n",
      "---> он плохой обещал к скоро закончится дай бог\n"
     ]
    },
    {
     "name": "stderr",
     "output_type": "stream",
     "text": [
      " 18%|█▊        | 144/800 [00:52<04:03,  2.70it/s]"
     ]
    },
    {
     "name": "stdout",
     "output_type": "stream",
     "text": [
      "вот дебилы, не воссоздай себе кумира, тем более чинушу.\n",
      "- Не воссоздай себе кумира\n",
      "- не воссоздай себе кумира, тем более чинушу\n",
      "- не воссоздай себе кумира\n",
      "- Не воссоздай себе кумира, тем более чиновника\n",
      "- Не воссоздай себе кумира.\n",
      "- не воссоздай себе кумира, тем более чиновника\n",
      "- Не воссоздай себе кумира, тем более чинушу\n",
      "- Не создавай себе кумира\n",
      "- не воссоздай себе кумира, тем более чинушу.\n",
      "- Не создай себе кумира\n",
      "---> не воссоздай себе кумира, тем более чиновника\n"
     ]
    },
    {
     "name": "stderr",
     "output_type": "stream",
     "text": [
      " 18%|█▊        | 145/800 [00:53<04:51,  2.25it/s]"
     ]
    },
    {
     "name": "stdout",
     "output_type": "stream",
     "text": [
      "осторожно мошенники,эта тварь гуляет по интернету и обманывает людей,этот товар белорусской фабрики и стоит он от 4000 руб.\n",
      "- осторожно мошенники,эта женщина гуляет по интернету и обманывает людей,этот товар белорусской фабрики и стоит он от 4000 руб\n",
      "- осторожно мошенники,этот товар гуляет по интернету и обманывает людей,этот товар белорусской фабрики и стоит он от 4000 руб\n",
      "- осторожно мошенники,эта тварь гуляет по интернету и обманывает людей,этот товар белорусской фабрики и стоит он от 4000 руб\n",
      "- осторожно мошенники,эта девушка гуляет по интернету и обманывает людей,этот товар белорусской фабрики и стоит он от 4000 руб\n",
      "- осторожно мошенники,эта личность гуляет по интернету и обманывает людей,этот товар белорусской фабрики и стоит он от 4000 руб\n",
      "- Осторожно мошенники, эта девушка гуляет по интернету и обманывает людей,этот товар белорусской фабрики и стоит он от 4000 руб\n",
      "- осторожно мошенники,эта дама гуляет по интернету и обманывает людей,этот товар белорусской фабрики и стоит он от 4000 руб\n",
      "- Осторожно мошенники, эта женщина гуляет по интернету и обманывает людей,этот товар белорусской фабрики и стоит он от 4000 руб\n",
      "- Осторожно мошенники, эта личность гуляет по интернету и обманывает людей,этот товар белорусской фабрики и стоит он от 4000 руб\n",
      "- Осторожно мошенники, эта девушка гуляет по интернету и обманывает людей,этот товар белорусской фабрики и стоит он от 4000 рублей\n",
      "---> Осторожно мошенники, эта девушка гуляет по интернету и обманывает людей,этот товар белорусской фабрики и стоит он от 4000 рублей\n"
     ]
    },
    {
     "name": "stderr",
     "output_type": "stream",
     "text": [
      " 18%|█▊        | 146/800 [00:53<04:27,  2.44it/s]"
     ]
    },
    {
     "name": "stdout",
     "output_type": "stream",
     "text": [
      "а нахуи одних шахтёров показали все ебашат как кони\n",
      "- а зачем одних шахтёров показали\n",
      "- А зачем одних шахтёров показали\n",
      "- а нахуи одних шахтёров показали\n",
      "- а зачем одних шахтёров показали все как кони\n",
      "- а зачем одних шахтёров показали все работают как лошади\n",
      "- а зачем одних шахтёров показали все едут как кони\n",
      "- Зачем одних шахтёров показали\n",
      "- А зачем одних шахтёров показали все работают как лошади\n",
      "- А зачем одних шахтёров показали все как кони\n",
      "- а нахуи одних шахтёров показали все\n",
      "---> А зачем одних шахтёров показали все работают как лошади\n"
     ]
    },
    {
     "name": "stderr",
     "output_type": "stream",
     "text": [
      " 18%|█▊        | 147/800 [00:53<04:15,  2.56it/s]"
     ]
    },
    {
     "name": "stdout",
     "output_type": "stream",
     "text": [
      "а все девушки драчут как и твоя 😂😂\n",
      "- А все девушки дерутся как и твоя\n",
      "- а все девушки дерутся как и твоя\n",
      "- а все девушки драчат как и твоя\n",
      "- А все девушки дерутся\n",
      "- а все девушки драчут как и твоя\n",
      "- А все девушки драчат как и твоя\n",
      "- А все девушки дерутся как и ты\n",
      "- а все девушки дерутся как и твоя 😂😂\n",
      "- а все девушки драчат как и твоя 😂😂\n",
      "- Все девушки дерутся\n",
      "---> а все девушки дерутся как и твоя 😂😂\n"
     ]
    },
    {
     "name": "stderr",
     "output_type": "stream",
     "text": [
      " 18%|█▊        | 148/800 [00:54<04:02,  2.69it/s]"
     ]
    },
    {
     "name": "stdout",
     "output_type": "stream",
     "text": [
      "после интервью дудя, противно смотреть на рожу этого содомита\n",
      "- После интервью Дудя противно смотреть\n",
      "- После интервью Дудя противно смотреть на его лицо\n",
      "- после интервью дудя противно смотреть\n",
      "- После интервью дудя противно смотреть\n",
      "- После интервью дудя противно смотреть на его лицо\n",
      "- после интервью дудя противно смотреть на его лицо\n",
      "- После интервью Дудя противно смотреть на лицо\n",
      "- после интервью дудя противно смотреть на лицо\n",
      "- После интервью Дудя, противно смотреть на его лицо\n",
      "- После интервью этого человека противно смотреть\n",
      "---> После интервью Дудя, противно смотреть на его лицо\n"
     ]
    },
    {
     "name": "stderr",
     "output_type": "stream",
     "text": [
      " 19%|█▊        | 149/800 [00:54<03:43,  2.91it/s]"
     ]
    },
    {
     "name": "stdout",
     "output_type": "stream",
     "text": [
      "ну и рожа хер троем обсеришь))\n",
      "- Ну и рожа троем обсеришь\n",
      "- Ну и лицо тройкой обсеришь\n",
      "- ну и рожа троем обсеришь\n",
      "- Не хороший человек\n",
      "- Ну и рожа тройкой обсеришь\n",
      "- С лица воду не пить\n",
      "- ну и рожа тройкой обсеришь\n",
      "- Ну и лицо троем обсеришь\n",
      "- Ну и рожа тройка\n",
      "- ну и лицо троем обсеришь\n",
      "---> ну и рожа тройкой обсеришь\n"
     ]
    },
    {
     "name": "stderr",
     "output_type": "stream",
     "text": [
      " 19%|█▉        | 150/800 [00:54<04:09,  2.60it/s]"
     ]
    },
    {
     "name": "stdout",
     "output_type": "stream",
     "text": [
      "надо гнать и уничтожать ублюдочный российский капитализм!!!только социализм спасёт родину и весь мир от катастрофы!!!\n",
      "- Надо гнать и уничтожать российский капитализм\n",
      "- надо гнать и уничтожать российский капитализм!!!только социализм спасёт родину и весь мир от катастрофы!!!\n",
      "- надо гнать и уничтожать российский капитализм\n",
      "- Надо уничтожить российский капитализм\n",
      "- Надо бороться с российским капитализмом\n",
      "- Надо бороться с капитализмом\n",
      "- надо гнать и уничтожать российский капитализм!!!только социализм спасет родину и весь мир от катастрофы!!!\n",
      "- надо гнать и уничтожать российский капитализм!только социализм спасёт родину и весь мир от катастрофы!!!\n",
      "- надо гнать и уничтожать российский капитализм!!!только социализм спасёт родину и весь мир от катастрофы\n",
      "- Надо уничтожать российский капитализм\n",
      "---> надо гнать и уничтожать российский капитализм!!!только социализм спасет родину и весь мир от катастрофы!!!\n"
     ]
    },
    {
     "name": "stderr",
     "output_type": "stream",
     "text": [
      " 19%|█▉        | 151/800 [00:55<04:07,  2.62it/s]"
     ]
    },
    {
     "name": "stdout",
     "output_type": "stream",
     "text": [
      "кто он такой,вор трепло кишка тонка до путина\n",
      "- кто он такой\n",
      "- Кто он такой\n",
      "- Кто он такой?\n",
      "- кто он такой?\n",
      "- кто он такой, вор трепло кишка тонка до путина\n",
      "- Кто он такой?\n",
      "- Кто такой Путин\n",
      "- кто он такой,вор трепло кишка тонка до путина\n",
      "- кто он такой, вор трепло, кишка тонка до путина\n",
      "- Кто он такой, до Путина далеко\n",
      "---> кто он такой, вор трепло, кишка тонка до путина\n"
     ]
    },
    {
     "name": "stderr",
     "output_type": "stream",
     "text": [
      " 19%|█▉        | 152/800 [00:55<03:55,  2.75it/s]"
     ]
    },
    {
     "name": "stdout",
     "output_type": "stream",
     "text": [
      "не фильм а хуйня какойта хуже мультика\n",
      "- Не фильм, а ерунда\n",
      "- Какой-то фильм плохой\n",
      "- Какой то фильм плохой\n",
      "- Какой-то плохой фильм\n",
      "- не фильм, а ерунда какой то хуже мультика\n",
      "- не фильм а ерунда какой то хуже мультика\n",
      "- не фильм а ерунда какойто хуже мультика\n",
      "- не фильм, а ерунда какой-то хуже мультика\n",
      "- Не фильм, а ерунда какая-то лучше мультика\n",
      "- не фильм а ерунда какойта хуже мультика\n",
      "---> Не фильм, а ерунда какая-то лучше мультика\n"
     ]
    },
    {
     "name": "stderr",
     "output_type": "stream",
     "text": [
      " 19%|█▉        | 153/800 [00:55<04:19,  2.50it/s]"
     ]
    },
    {
     "name": "stdout",
     "output_type": "stream",
     "text": [
      "тебе похуй на жителей донбасса А тебе нет? Ты чувствуешь к ним эмпатию?\n",
      "- тебе все равно на жителей донбасса А тебе нет? Ты чувствуешь к ним эмпатию?\n",
      "- Тебе все равно на жителей донбасса А тебе нет? Ты чувствуешь к ним эмпатию?\n",
      "- Тебе всё равно на жителей донбасса А тебе нет? Ты чувствуешь к ним эмпатию?\n",
      "- тебе всё равно на жителей донбасса А тебе нет? Ты чувствуешь к ним эмпатию?\n",
      "- тебе все равно на жителей донбасса А тебе нет? ты чувствуешь к ним эмпатию?\n",
      "- тебе не все равно на жителей донбасса А тебе нет? Ты чувствуешь к ним эмпатию?\n",
      "- тебе все равно на жителей донбасса А тебе нет? Ты чувствуешь к ним эмпатию\n",
      "- Тебе все равно на жителей донбасса, а тебе нет? Ты чувствуешь к ним эмпатию?\n",
      "- тебе все равно на жителей донбасса А тебе нет?\n",
      "- Тебе все равно на жителей донбасса А тебе нет? Ты чувствуешь к ним эмпатию\n",
      "---> тебе не все равно на жителей донбасса А тебе нет? Ты чувствуешь к ним эмпатию?\n"
     ]
    },
    {
     "name": "stderr",
     "output_type": "stream",
     "text": [
      " 19%|█▉        | 154/800 [00:56<04:27,  2.42it/s]"
     ]
    },
    {
     "name": "stdout",
     "output_type": "stream",
     "text": [
      "вот был талант неспорю! а сейчас понобрали хуеплетов деньги платят а хули толку!\n",
      "- вот был талант не спорю! а сейчас понобрали людей деньги платят а толку!\n",
      "- вот был талант не спорю! а сейчас понобрали бездельников деньги платят а толку!\n",
      "- вот был талант не спорю! а сейчас понобрали деньги платят а толку!\n",
      "- вот был талант не спорю! а сейчас понобрали неудачников деньги платят а толку!\n",
      "- был талант не спорю! а сейчас понобрали деньги платят а толку!\n",
      "- был талант не спорю! а сейчас понобрали людей деньги платят а толку!\n",
      "- вот был талант не спорю! а сейчас понобрали плохих людей деньги платят а толку!\n",
      "- был талант не спорю! а сейчас понобрали бездельников деньги платят а толку!\n",
      "- вот был талант не спорю! а сейчас понобрали люди деньги платят а толку!\n",
      "- вот был талант не спорю! а сейчас понобрали бездельников деньги платят а толку\n",
      "---> вот был талант не спорю! а сейчас понобрали плохих людей деньги платят а толку!\n"
     ]
    },
    {
     "name": "stderr",
     "output_type": "stream",
     "text": [
      " 19%|█▉        | 155/800 [00:56<04:09,  2.59it/s]"
     ]
    },
    {
     "name": "stdout",
     "output_type": "stream",
     "text": [
      "я блин кашлянуть уже боюсь,камнями закидают ебанутые.\n",
      "- Я боюсь кашлянуть\n",
      "- я блин кашлянуть уже боюсь\n",
      "- я боюсь кашлянуть\n",
      "- Я кашлять уже боюсь\n",
      "- Я боюсь кашлять\n",
      "- я блин кашлянуть уже боюсь, камнями закидают\n",
      "- Я уже кашлять боюсь\n",
      "- Я уже кашляю\n",
      "- я боюсь кашлять\n",
      "- кашлять уже боюсь\n",
      "---> я блин кашлянуть уже боюсь, камнями закидают\n"
     ]
    },
    {
     "name": "stderr",
     "output_type": "stream",
     "text": [
      " 20%|█▉        | 156/800 [00:57<03:50,  2.79it/s]"
     ]
    },
    {
     "name": "stdout",
     "output_type": "stream",
     "text": [
      "смотришь на это говно и блевать охота\n",
      "- Смотришь на это и противно\n",
      "- смотришь на это и противно\n",
      "- Смотришь на это и хочется ударить\n",
      "- смотришь на это и хочется ударить\n",
      "- Смотришь на это и хочется ругаться\n",
      "- Смотришь на него и противно\n",
      "- Смотришь на это и хочется выгнать\n",
      "- Смотришь на это и хочется плакать\n",
      "- Смотришь на это и хочется его наказать\n",
      "- Смотришь на него и хочется его наказать\n",
      "---> Смотришь на него и хочется его наказать\n"
     ]
    },
    {
     "name": "stderr",
     "output_type": "stream",
     "text": [
      " 20%|█▉        | 157/800 [00:57<03:43,  2.88it/s]"
     ]
    },
    {
     "name": "stdout",
     "output_type": "stream",
     "text": [
      "фу блять, аж косоебит от этой фотки.\n",
      "- фу, аж косоебит от этой фотки\n",
      "- фу, аж косоебит от этой фотки.\n",
      "- фу\n",
      "- Фу, аж косоебит от этой фотки\n",
      "- Ужас, аж косоебит от этой фотки\n",
      "- фу, прям косоебит от этой фотки\n",
      "- фу, аж косоебит от этой фотки\n",
      "- фу, прям косоебит от этой фотки.\n",
      "- Блин, аж косоебит от этой фотки\n",
      "- ужас, аж косоебит от этой фотки\n",
      "---> фу, прям косоебит от этой фотки.\n"
     ]
    },
    {
     "name": "stderr",
     "output_type": "stream",
     "text": [
      " 20%|█▉        | 158/800 [00:57<03:58,  2.69it/s]"
     ]
    },
    {
     "name": "stdout",
     "output_type": "stream",
     "text": [
      "да я этих пидорасов уже изучил,мне на их мнение насрать,это быдлятино.\n",
      "- да я этих людей уже изучил,мне на их мнение насрать\n",
      "- да я их уже изучил,мне на их мнение насрать\n",
      "- Да я их уже изучил, мне на их мнение наплевать\n",
      "- Да я этих людей уже изучил, мне на их мнение наплевать\n",
      "- Да я их уже изучил, мне на их мнение насрать\n",
      "- Да я этих людей уже изучил, мне на их мнение насрать\n",
      "- да я этих людей уже изучил,мне на их мнение насрать,это быдлятино\n",
      "- да я этих людей уже изучил,мне на их мнение наплевать\n",
      "- да я этих людей уже изучил, мне на их мнение насрать\n",
      "- да я этих людей уже изучил,мне на их мнение насрать,это быдлятино.\n",
      "---> да я этих людей уже изучил,мне на их мнение насрать,это быдлятино.\n"
     ]
    },
    {
     "name": "stderr",
     "output_type": "stream",
     "text": [
      " 20%|█▉        | 159/800 [00:58<03:38,  2.93it/s]"
     ]
    },
    {
     "name": "stdout",
     "output_type": "stream",
     "text": [
      "в жопу такую жену и тещу\n",
      "- такую жену и тещу\n",
      "- Такую жену и тещу\n",
      "- в такую жену и тещу\n",
      "- В такую жену и тещу\n",
      "- Не надо такую жену и тещу\n",
      "- Зачем такую жену и тещу\n",
      "- Такую жену и тёщу\n",
      "- В жёны такую жену и тещу\n",
      "- Жену и тещу\n",
      "- В жёну такую жену и тещу\n",
      "---> Не надо такую жену и тещу\n"
     ]
    },
    {
     "name": "stderr",
     "output_type": "stream",
     "text": [
      " 20%|██        | 160/800 [00:58<04:25,  2.41it/s]"
     ]
    },
    {
     "name": "stdout",
     "output_type": "stream",
     "text": [
      "нихуя у вас детство было! я класу к седьмому еле велик нажил, а они уже на явах россекали... буржуи!\n",
      "- у вас детство было! я класу к седьмому еле велик нажил, а они уже на явах россекали\n",
      "- у вас детство было! я класу к седьмому еле велик нажил, а они уже на явах россекали...\n",
      "- ничего у вас детство было! я класу к седьмому еле велик нажил, а они уже на явах россекали\n",
      "- ничего у вас детство было! я класу к седьмому еле велик нажил, а они уже на явах россекали...\n",
      "- у вас детство было! я класу к седьмому еле велик нажил\n",
      "- У вас детство было\n",
      "- Ничего у вас детство было\n",
      "- У вас детство было! Я класу к седьмому еле велик нажил, а они уже на явах россекали\n",
      "- у вас детство было! я к седьмому еле велик нажил, а они уже на явах россекали\n",
      "- ничего у вас детство было! я класу к седьмому еле велик нажил\n",
      "---> ничего у вас детство было! я класу к седьмому еле велик нажил, а они уже на явах россекали...\n"
     ]
    },
    {
     "name": "stderr",
     "output_type": "stream",
     "text": [
      " 20%|██        | 161/800 [00:58<04:06,  2.59it/s]"
     ]
    },
    {
     "name": "stdout",
     "output_type": "stream",
     "text": [
      "такого долбоебизма как в киеве не будет\n",
      "- Такого не будет\n",
      "- такого поведения как в киеве не будет\n",
      "- такого не будет\n",
      "- Такого поведения как в Киеве не будет\n",
      "- Такого поведения как в киеве не будет\n",
      "- такого неуважения как в киеве не будет\n",
      "- такого плохого поведения как в киеве не будет\n",
      "- Такого поведения в Киеве не будет\n",
      "- Такого неуважения как в Киеве не будет\n",
      "- Такого плохого поведения как в киеве не будет\n",
      "---> Такого плохого поведения как в киеве не будет\n"
     ]
    },
    {
     "name": "stderr",
     "output_type": "stream",
     "text": [
      " 20%|██        | 162/800 [00:59<03:46,  2.82it/s]"
     ]
    },
    {
     "name": "stdout",
     "output_type": "stream",
     "text": [
      "хуйло бородатое, прозрел что ли!!!\n",
      "- Прозрел что ли\n",
      "- Он прозрел\n",
      "- Бородатый, прозрел\n",
      "- прозрел что ли!!!\n",
      "- человек прозрел\n",
      "- Бородатый, прозрел что ли\n",
      "- проснулся что ли\n",
      "- Прозрел что ли!!!\n",
      "- Призрел что ли\n",
      "- Проснулся что ли\n",
      "---> Бородатый, прозрел что ли\n"
     ]
    },
    {
     "name": "stderr",
     "output_type": "stream",
     "text": [
      " 20%|██        | 163/800 [00:59<03:26,  3.08it/s]"
     ]
    },
    {
     "name": "stdout",
     "output_type": "stream",
     "text": [
      "поджигателей к стенке тварей !\n",
      "- Поджигателей к стенке\n",
      "- поджигателей к стенке\n",
      "- Плохих людей надо наказывать\n",
      "- поджигателей!\n",
      "- поджигателей накажу\n",
      "- Поджигателей!\n",
      "- поджигателей накажем\n",
      "- Поджигателей\n",
      "- Поджигателей накажу\n",
      "- Плохих людей накажем\n",
      "---> Плохих людей надо наказывать\n"
     ]
    },
    {
     "name": "stderr",
     "output_type": "stream",
     "text": [
      " 20%|██        | 164/800 [00:59<03:17,  3.22it/s]"
     ]
    },
    {
     "name": "stdout",
     "output_type": "stream",
     "text": [
      "опять какой то мудозвон появился...провокатор.\n",
      "- Опять какой-то человек появился\n",
      "- Опять какой то человек появился\n",
      "- Опять этот человек появился\n",
      "- Опять кто-то появился\n",
      "- Опять кто то появился\n",
      "- Опять он появился\n",
      "- Опять какой-то человек появился.\n",
      "- Опять какой-то нехороший человек появился\n",
      "- опять какой то человек появился\n",
      "- Опять какой-то человек появился...\n",
      "---> Опять какой-то нехороший человек появился\n"
     ]
    },
    {
     "name": "stderr",
     "output_type": "stream",
     "text": [
      " 21%|██        | 165/800 [01:00<03:09,  3.35it/s]"
     ]
    },
    {
     "name": "stdout",
     "output_type": "stream",
     "text": [
      "ХОХЛЫ!! КРУГОМ ХОХЛЫ !! Gifx\n",
      "- Хохлы\n",
      "- Кругом украинцы\n",
      "- Кругом хохлы\n",
      "- хохлы\n",
      "- Кругом немцы\n",
      "- Кругом Хохлы\n",
      "- Русские\n",
      "- КРУГОМ ХОХЛЫ\n",
      "- Гитлерцы\n",
      "- Кругом славяне\n",
      "---> Кругом украинцы\n"
     ]
    },
    {
     "name": "stderr",
     "output_type": "stream",
     "text": [
      " 21%|██        | 166/800 [01:00<03:17,  3.21it/s]"
     ]
    },
    {
     "name": "stdout",
     "output_type": "stream",
     "text": [
      "тебе старая блядюга слово не давали,твоё дело хуй сосать и не вякать\n",
      "- тебе старая женщина слово не давали,твоё дело молчать\n",
      "- тебе старая женщина слово не давали\n",
      "- тебе слово не давали,твоё дело молчать\n",
      "- тебе слово не давали\n",
      "- Тебе слово не давали, твоё дело молчать\n",
      "- Тебе старая женщина слово не давали, твоё дело молчать\n",
      "- тебе старая девушка слово не давали,твоё дело молчать\n",
      "- Тебе слово не давали, твое дело молчать\n",
      "- Тебе старая женщина слово не давали, твое дело молчать\n",
      "- тебе слова не давали,твоё дело молчать\n",
      "---> Тебе старая женщина слово не давали, твое дело молчать\n"
     ]
    },
    {
     "name": "stderr",
     "output_type": "stream",
     "text": [
      " 21%|██        | 167/800 [01:00<03:22,  3.12it/s]"
     ]
    },
    {
     "name": "stdout",
     "output_type": "stream",
     "text": [
      "фу какой мерзкий позор гнида точно кто то дал ему призвание.\n",
      "- Какой позор, точно кто-то дал ему призвание\n",
      "- Какой позор, точно кто то дал ему призвание\n",
      "- фу какой позор точно кто то дал ему призвание\n",
      "- фу какой позор он точно кто то дал ему призвание\n",
      "- фу какой позор точно кто то дал ему призвание.\n",
      "- фу какой позор он точно кто то дал ему призвание.\n",
      "- Какой позор, точно кто-то его наградил\n",
      "- Какой позор, точно кто-то получил призвание\n",
      "- фу какой позор точно кто-то дал ему призвание\n",
      "- Какой позор, точно кто-то дал ему призвание.\n",
      "---> фу какой позор он точно кто то дал ему призвание.\n"
     ]
    },
    {
     "name": "stderr",
     "output_type": "stream",
     "text": [
      " 21%|██        | 168/800 [01:01<03:50,  2.75it/s]"
     ]
    },
    {
     "name": "stdout",
     "output_type": "stream",
     "text": [
      "Говно ваш гипноз,и наркологи те еще шарлатаны.. лишь бы деньги с больного высосать..\n",
      "- ваш гипноз,и наркологи те ещё шарлатаны.. лишь бы деньги с больного получить\n",
      "- ваш гипноз,и наркологи те еще шарлатаны.. лишь бы деньги с больного получить\n",
      "- ваш гипноз, и наркологи те ещё шарлатаны.. лишь бы деньги с больного получить\n",
      "- Ваш гипноз, и наркологи те ещё шарлатаны.. Лишь бы деньги с больного получить\n",
      "- ваш гипноз,и наркологи те ещё шарлатаны.. лишь бы деньги с больного получить..\n",
      "- ваш гипноз,и наркологи те ещё шарлатаны.. лишь бы деньги с больного снять\n",
      "- ваш гипноз,и наркологи те еще шарлатаны.. лишь бы деньги с больного получить..\n",
      "- ваш гипноз,и наркологи те ещё шарлатаны.. лишь бы деньги с больного выжать\n",
      "- ваш гипноз,и наркологи те еще шарлатаны.. лишь бы деньги с больного снять\n",
      "- ваш гипноз,и наркологи те еще шарлатаны.. лишь бы деньги с больного выжать\n",
      "---> ваш гипноз,и наркологи те еще шарлатаны.. лишь бы деньги с больного получить..\n"
     ]
    },
    {
     "name": "stderr",
     "output_type": "stream",
     "text": [
      " 21%|██        | 169/800 [01:01<04:09,  2.52it/s]"
     ]
    },
    {
     "name": "stdout",
     "output_type": "stream",
     "text": [
      "О какой эффективности вы говорите? Неужели нельзя поныть даже в интернете? Зачем он тогда нужон?\n",
      "- О какой эффективности вы говорите? Неужели нельзя пожаловаться даже в интернете?\n",
      "- О какой эффективности вы говорите? Неужели нельзя поныть даже в интернете? Зачем он тогда нужен\n",
      "- О какой эффективности вы говорите? Неужели нельзя пожаловаться даже в интернете? Зачем он тогда нужен\n",
      "- О какой эффективности вы говорите? Неужели нельзя поговорить даже в интернете? Зачем он тогда нужен\n",
      "- О какой эффективности вы говорите? Неужели нельзя пожаловаться даже в интернете\n",
      "- О какой эффективности вы говорите? Неужели нельзя поныть даже в интернете? Зачем он тогда нужен?\n",
      "- О какой эффективности вы говорите? Неужели нельзя поговорить даже в интернете\n",
      "- О какой эффективности вы говорите? Неужели нельзя пожаловаться даже в интернете? Зачем он тогда нужен?\n",
      "- О какой эффективности вы говорите? Неужели нельзя поговорить даже в интернете? Зачем он тогда нужен?\n",
      "- О какой эффективности вы говорите? Неужели нельзя поныть даже в интернете?\n",
      "---> О какой эффективности вы говорите? Неужели нельзя пожаловаться даже в интернете? Зачем он тогда нужен?\n"
     ]
    },
    {
     "name": "stderr",
     "output_type": "stream",
     "text": [
      " 21%|██▏       | 170/800 [01:01<03:56,  2.66it/s]"
     ]
    },
    {
     "name": "stdout",
     "output_type": "stream",
     "text": [
      "кто к нам с мечом придёт,тот долбаёб честное слово😂\n",
      "- кто к нам с мечом придёт,тот обманщик\n",
      "- Кто к нам с мечом придёт, тот обманщик\n",
      "- кто к нам с мечом придёт, тот обманщик\n",
      "- кто к нам с мечом придёт\n",
      "- кто к нам с мечом придёт,тот обманет\n",
      "- кто к нам с мечом придёт,тот нехороший человек\n",
      "- кто к нам с мечом придёт,тот лжец\n",
      "- Кто к нам с мечом придёт, тот нехороший человек\n",
      "- Кто к нам с мечом придёт, тот плохой\n",
      "- кто к нам с мечом придёт,тот нечестное слово\n",
      "---> Кто к нам с мечом придёт, тот нехороший человек\n"
     ]
    },
    {
     "name": "stderr",
     "output_type": "stream",
     "text": [
      " 21%|██▏       | 171/800 [01:02<03:59,  2.63it/s]"
     ]
    },
    {
     "name": "stdout",
     "output_type": "stream",
     "text": [
      "зомбики питер хватит нам здесь писать комментарии . слышите звон не знаете где он . кучка долбоебов\n",
      "- Питер хватит нам здесь писать комментарии\n",
      "- Питер хватит нам здесь писать комментарии. Слышите звон не знаете где он\n",
      "- Питер, хватит нам здесь писать комментарии\n",
      "- Плохие люди питер хватит нам здесь писать комментарии\n",
      "- Люди питер хватит нам здесь писать комментарии\n",
      "- Слышите звон не знаете где он\n",
      "- Люди Питер хватит нам здесь писать комментарии\n",
      "- Петербург хватит нам здесь писать комментарии\n",
      "- Плохие люди Питер хватит нам здесь писать комментарии\n",
      "- Питер хватит нам здесь писать комментарии, слышите звон не знаете где он\n",
      "---> Питер хватит нам здесь писать комментарии, слышите звон не знаете где он\n"
     ]
    },
    {
     "name": "stderr",
     "output_type": "stream",
     "text": [
      " 22%|██▏       | 172/800 [01:02<04:19,  2.42it/s]"
     ]
    },
    {
     "name": "stdout",
     "output_type": "stream",
     "text": [
      "а сам предал,честные выборы, с питухом ельциным ручкался за пост.\n",
      "- а сам предал,честные выборы\n",
      "- а сам предал,честные выборы, с питухом ельциным ручкался за пост\n",
      "- а сам предал,честные выборы, с питухом ельциным ручкался за пост.\n",
      "- а сам предал,честные выборы, с питухом ельциным ручкался\n",
      "- а сам предал,честные выборы,с питухом ельциным ручкался за пост\n",
      "- А сам предал честные выборы\n",
      "- а сам предал честные выборы\n",
      "- а сам предал,честные выборы,с питухом ельциным ручкался за пост.\n",
      "- а сам предал,честные выборы,с питухом ельциным ручкался\n",
      "- А сам предал честных выборов\n",
      "---> а сам предал,честные выборы, с питухом ельциным ручкался за пост.\n"
     ]
    },
    {
     "name": "stderr",
     "output_type": "stream",
     "text": [
      " 22%|██▏       | 173/800 [01:03<03:51,  2.70it/s]"
     ]
    },
    {
     "name": "stdout",
     "output_type": "stream",
     "text": [
      "Мало ли, ЧТО он курит\n",
      "- Мало ли, ЧТО он курит\n",
      "- Мало ли что он курит\n",
      "- Мало ли, что он курит\n",
      "- Мало ли, Что он курит\n",
      "- мало ли, ЧТО он курит\n",
      "- Много ли, ЧТО он курит\n",
      "- Мало ли чего он курит\n",
      "- Мало ли, что он курит\n",
      "- Много ли, что он курит\n",
      "- Мало ли, ЧТО он курит\n",
      "---> Много ли, что он курит\n"
     ]
    },
    {
     "name": "stderr",
     "output_type": "stream",
     "text": [
      " 22%|██▏       | 174/800 [01:03<03:37,  2.88it/s]"
     ]
    },
    {
     "name": "stdout",
     "output_type": "stream",
     "text": [
      "нет хуже твари на земле, чем человек!\n",
      "- Нет хуже человека, чем человек\n",
      "- Нет хуже человека на земле\n",
      "- Нет хуже человека\n",
      "- нет хуже человека, чем человек!\n",
      "- Нет хуже человека, чем человек!\n",
      "- Нет хуже человека на земле, чем человек\n",
      "- нет хуже человека на земле, чем человек!\n",
      "- Нет страшнее человека\n",
      "- Нет хуже человека чем человек\n",
      "- Нет хуже человека на земле, чем человек!\n",
      "---> Нет хуже человека на земле, чем человек!\n"
     ]
    },
    {
     "name": "stderr",
     "output_type": "stream",
     "text": [
      " 22%|██▏       | 175/800 [01:03<03:26,  3.02it/s]"
     ]
    },
    {
     "name": "stdout",
     "output_type": "stream",
     "text": [
      "Куда ты там скрины кидаешь шизик?\n",
      "- Куда ты там скрины кидаешь\n",
      "- Куда ты скрины кидаешь\n",
      "- Куда ты кидаешь скрины\n",
      "- Куда ты туда скрины кидаешь\n",
      "- Куда ты там скрины кидаешь?\n",
      "- куда ты там скрины кидаешь\n",
      "- Куда ты скрин кидаешь\n",
      "- Куда ты их кидаешь\n",
      "- Куда ты там скрины кидаешь\n",
      "- Куда ты туда кидаешь\n",
      "---> Куда ты там скрины кидаешь?\n"
     ]
    },
    {
     "name": "stderr",
     "output_type": "stream",
     "text": [
      " 22%|██▏       | 176/800 [01:04<03:39,  2.85it/s]"
     ]
    },
    {
     "name": "stdout",
     "output_type": "stream",
     "text": [
      "просто долбоёбы за рулём в обеих машинах и таких всё больше и больше !!!!\n",
      "- Просто люди за рулём в обеих машинах и таких всё больше и больше\n",
      "- Просто водители за рулём в обеих машинах и таких всё больше и больше\n",
      "- За рулём в обеих машинах и таких всё больше и больше\n",
      "- за рулём в обеих машинах и таких всё больше и больше\n",
      "- Просто плохие водители за рулём в обеих машинах и таких всё больше и больше\n",
      "- просто люди за рулём в обеих машинах и таких всё больше и больше\n",
      "- просто люди за рулём в обеих машинах и таких всё больше и больше!!!!\n",
      "- за рулём в обеих машинах и таких всё больше и больше!!!!\n",
      "- Просто за рулём в обеих машинах и таких всё больше и больше\n",
      "- Просто люди за рулем в обеих машинах и таких всё больше и больше\n",
      "---> Просто плохие водители за рулём в обеих машинах и таких всё больше и больше\n"
     ]
    },
    {
     "name": "stderr",
     "output_type": "stream",
     "text": [
      " 22%|██▏       | 177/800 [01:04<03:22,  3.07it/s]"
     ]
    },
    {
     "name": "stdout",
     "output_type": "stream",
     "text": [
      "короче блядь вместе с подругом\n",
      "- короче вместе с подругой\n",
      "- короче вместе с другом\n",
      "- короче вместе с подругами\n",
      "- короче вместе с подружкой\n",
      "- короче вместе с подругом\n",
      "- Короче вместе с подругой\n",
      "- Короче вместе с подругой\n",
      "- Короче вместе с другом\n",
      "- С другом вместе\n",
      "- Короче вместе с другом\n",
      "---> короче вместе с подружкой\n"
     ]
    },
    {
     "name": "stderr",
     "output_type": "stream",
     "text": [
      " 22%|██▏       | 178/800 [01:04<03:21,  3.09it/s]"
     ]
    },
    {
     "name": "stdout",
     "output_type": "stream",
     "text": [
      "нашим дизайнерам с ирбита руки оторвать.\n",
      "- нашим дизайнерам с ирбита руки оторвать\n",
      "- Нашим дизайнерам с ирбита руки оторвать\n",
      "- нашим дизайнерам с ирбита руки оторвать.\n",
      "- нашим дизайнерам.\n",
      "- нашим дизайнерам с ирбита головы оторвать\n",
      "- нашим дизайнерам с ирбита руки отрубить\n",
      "- нашим дизайнерам с ирбита руки наказать\n",
      "- нашим дизайнерам с ирбита руки оторвать\n",
      "- Нашим дизайнерам с Иркутска руки оторвать\n",
      "- нашим дизайнерам с ирбита голову оторвать\n",
      "---> нашим дизайнерам с ирбита голову оторвать\n"
     ]
    },
    {
     "name": "stderr",
     "output_type": "stream",
     "text": [
      " 22%|██▏       | 179/800 [01:05<03:37,  2.85it/s]"
     ]
    },
    {
     "name": "stdout",
     "output_type": "stream",
     "text": [
      "поди целый год!!!! ! терь судья. а я думаю, что пидор вы!\n",
      "- Поди целый год!!!!! терь судья\n",
      "- Поди целый год!!!!! терь судья. а я думаю, что вы\n",
      "- Поди целый год!!!!! терь судья. а я думаю\n",
      "- поди целый год!!!!! терь судья\n",
      "- поди целый год!!!!! терь судья. а я думаю, что вы\n",
      "- поди целый год!!!!! терь судья. а я думаю\n",
      "- Поди целый год!!!!! терь судья\n",
      "- Поди целый год!!!!! терь судья. а я думаю, что плохой вы\n",
      "- Поди целый год!!!!! терь судья. а я думаю, что вы\n",
      "- Поди целый год!!!!! терь судья. а я думаю, что плохой вы!\n",
      "---> Поди целый год!!!!! терь судья. а я думаю, что плохой вы!\n"
     ]
    },
    {
     "name": "stderr",
     "output_type": "stream",
     "text": [
      " 22%|██▎       | 180/800 [01:05<03:48,  2.71it/s]"
     ]
    },
    {
     "name": "stdout",
     "output_type": "stream",
     "text": [
      "Ну а ты для себя точку поставила или тоже некая выжидательная позиция?\n",
      "- Ну а ты для себя точку поставила или тоже некая выжидательная позиция?\n",
      "- Ну а ты для себя точку поставила или тоже какая-то выжидательная позиция?\n",
      "- Ну а ты для себя точку поставила или тоже некоторая выжидательная позиция?\n",
      "- Ну а ты для себя точку поставила или тоже некая выжидательная позиция\n",
      "- Ну а ты для себя точку поставила или тоже какая выжидательная позиция?\n",
      "- Ну а ты для себя точку поставила\n",
      "- Ну а ты для себя точку поставила или тоже выжидательная позиция?\n",
      "- Ну а ты для себя точку поставила или тоже какая-то выжидательная позиция\n",
      "- Ну а ты для себя точку поставила?\n",
      "- Ну а ты для себя точку поставила или тоже какая то выжидательная позиция?\n",
      "---> Ну а ты для себя точку поставила или тоже некоторая выжидательная позиция?\n"
     ]
    },
    {
     "name": "stderr",
     "output_type": "stream",
     "text": [
      " 23%|██▎       | 181/800 [01:05<03:35,  2.87it/s]"
     ]
    },
    {
     "name": "stdout",
     "output_type": "stream",
     "text": [
      "шла бы ты нахуй со своей страховкой..аферюга ибаная\n",
      "- Уходи со своей страховкой\n",
      "- Отстань со своей страховкой\n",
      "- Уходите со своей страховкой\n",
      "- Уйди со своей страховкой\n",
      "- шла бы ты со своей страховкой\n",
      "- шла бы ты нафиг со своей страховкой\n",
      "- Отстань от своей страховкой\n",
      "- Уходи со своей страховкой.\n",
      "- шла бы ты с своей страховкой\n",
      "- шла бы ты со своей страховкой..\n",
      "---> шла бы ты нафиг со своей страховкой\n"
     ]
    },
    {
     "name": "stderr",
     "output_type": "stream",
     "text": [
      " 23%|██▎       | 182/800 [01:06<03:50,  2.68it/s]"
     ]
    },
    {
     "name": "stdout",
     "output_type": "stream",
     "text": [
      "надобы и у нас в иваново также сделать, а то эти свиньи заебали.\n",
      "- надо и у нас в иваново также сделать\n",
      "- Надобы и у нас в иваново также сделать\n",
      "- надобы и у нас в иваново также сделать\n",
      "- Надо и у нас в иваново тоже сделать\n",
      "- нужно и у нас в иваново также сделать\n",
      "- Надо и у нас в иваново также сделать\n",
      "- Надобы и у нас в иваново тоже сделать\n",
      "- надо и у нас в иваново также сделать, а то эти нехорошие люди\n",
      "- надобы и у нас в иваново также сделать, а то эти нехорошие люди\n",
      "- надо и у нас в иваново также сделать, а то эти люди надоели\n",
      "---> надобы и у нас в иваново также сделать, а то эти нехорошие люди\n"
     ]
    },
    {
     "name": "stderr",
     "output_type": "stream",
     "text": [
      " 23%|██▎       | 183/800 [01:06<04:38,  2.22it/s]"
     ]
    },
    {
     "name": "stdout",
     "output_type": "stream",
     "text": [
      "На жида Агутина он похож, ну или на кого-то подобного. Шлеперский нос не скрыть от глаз прозорливых двачеров!\n",
      "- На Агутина он похож, ну или на кого-то подобного\n",
      "- На Агутина он похож, ну или на кого-то подобного. Шлеперский нос не скрыть от глаз прозорливых двачеров!\n",
      "- на Агутина он похож, ну или на кого-то подобного.\n",
      "- на Агутина он похож, ну или на кого-то подобного\n",
      "- На Агутина он похож, ну или на кого-то подобного.\n",
      "- На Агутина он похож, ну или на кого-то подобного. Шлеперский нос не спрятать от глаз прозорливых двачеров!\n",
      "- На Агутина он похож, ну или на кого-то подобного. Шлеперский нос не скрыть от глаз прозорливых\n",
      "- На Агутина он похож, ну или на кого-то похожего\n",
      "- На Агутина он похож, ну или кого-то подобного. Шлеперский нос не скрыть от глаз прозорливых двачеров!\n",
      "- На Агутина он похож, ну или на кого-то подобного. Шлеперский нос не скрыть от глаз прозорливых двачеров\n",
      "---> На Агутина он похож, ну или на кого-то подобного. Шлеперский нос не спрятать от глаз прозорливых двачеров!\n"
     ]
    },
    {
     "name": "stderr",
     "output_type": "stream",
     "text": [
      " 23%|██▎       | 184/800 [01:07<04:15,  2.42it/s]"
     ]
    },
    {
     "name": "stdout",
     "output_type": "stream",
     "text": [
      "осторожно друг в высказываниях... но ебланы, это точно..\n",
      "- осторожно друг в высказываниях... но это точно\n",
      "- осторожно друг в высказываниях... но это точно..\n",
      "- Осторожно друг в высказываниях\n",
      "- осторожно друг в высказываниях... но это точно...\n",
      "- осторожно друг в высказываниях\n",
      "- Осторожно друг в высказываниях, но это точно\n",
      "- Осторожно друг в высказываниях... но это точно\n",
      "- Осторожно друг в высказываниях.\n",
      "- Опасно друг в высказываниях\n",
      "- Осторожно друг в высказываниях...\n",
      "---> осторожно друг в высказываниях... но это точно...\n"
     ]
    },
    {
     "name": "stderr",
     "output_type": "stream",
     "text": [
      " 23%|██▎       | 185/800 [01:07<04:41,  2.19it/s]"
     ]
    },
    {
     "name": "stdout",
     "output_type": "stream",
     "text": [
      "путину надо учится у лукашенко многому!!! но он трус! в хабаровске идут протесты а он сидит и дрожжит сука трусливая\n",
      "- Путину надо учится у лукашенко многому!!! Но он трус\n",
      "- Путину надо учится у Лукашенко многому!!! Но он трус\n",
      "- Путину надо учится у лукашенко многому!!! но он трус\n",
      "- путину надо учится у лукашенко многому!!! но он трус\n",
      "- путину надо учится у лукашенко многому!!! но он трус!\n",
      "- Путину надо учится у лукашенко многому!!! но он трус!\n",
      "- Путину надо учится у Лукашенко многому, но он трус\n",
      "- Путину надо учится у лукашенко многому!!! Но он боится\n",
      "- Путину надо учится у лукашенко многому!!! Но он трус! в хабаровске идут протесты а он сидит и дрожит\n",
      "- Путину надо учится у Лукашенко многому!!! но он трус\n",
      "---> Путину надо учится у лукашенко многому!!! Но он трус! в хабаровске идут протесты а он сидит и дрожит\n"
     ]
    },
    {
     "name": "stderr",
     "output_type": "stream",
     "text": [
      " 23%|██▎       | 186/800 [01:07<04:00,  2.55it/s]"
     ]
    },
    {
     "name": "stdout",
     "output_type": "stream",
     "text": [
      "в окоп бы его пидора,чмо\n",
      "- В окоп его\n",
      "- В окоп бы его\n",
      "- в окоп бы его\n",
      "- в окоп его\n",
      "- В окопы\n",
      "- В окоп ему\n",
      "- В окопы его\n",
      "- В окопе бы его\n",
      "- В окопы бы его\n",
      "- В разведку его\n",
      "---> В разведку его\n"
     ]
    },
    {
     "name": "stderr",
     "output_type": "stream",
     "text": [
      " 23%|██▎       | 187/800 [01:08<04:11,  2.44it/s]"
     ]
    },
    {
     "name": "stdout",
     "output_type": "stream",
     "text": [
      "сука скрипка пидор дай денег сука миллионы заработал на россии поделись с россией дайденег на удобрения\n",
      "- дай денег на удобрения\n",
      "- скрипка дай денег миллионы заработал на россии поделись с россией дайденег на удобрения\n",
      "- дай денег, миллионы заработал на россии поделись с россией дайденег на удобрения\n",
      "- дай денег\n",
      "- дай денег, миллионы заработал на россии поделись с россией дай денег\n",
      "- скрипка дай деньги миллионы заработал на россии поделись с россией дайденег на удобрения\n",
      "- скрипка дай денег миллионы заработал на россии поделись с россией дай денег\n",
      "- скрипка дай денег миллионы заработал на россии поделись с россией дай денег на удобрения\n",
      "- дай денег,миллионы заработал на россии поделись с россией дайденег на удобрения\n",
      "- дай денег, миллионы заработал на России поделись с Россией дай денег\n",
      "---> скрипка дай денег миллионы заработал на россии поделись с россией дай денег на удобрения\n"
     ]
    },
    {
     "name": "stderr",
     "output_type": "stream",
     "text": [
      " 24%|██▎       | 188/800 [01:08<03:58,  2.57it/s]"
     ]
    },
    {
     "name": "stdout",
     "output_type": "stream",
     "text": [
      "вот дебилка это по твой части завидуй молча😛😛😛\n",
      "- это по твой части завидуй молча\n",
      "- Это по твой части завидуй молча\n",
      "- Это по твоей части завидуй молча\n",
      "- вот это по твой части завидуй молча\n",
      "- вот она это по твой части завидуй молча\n",
      "- Это по твоей части завидуй\n",
      "- вот глупая это по твой части завидуй молча\n",
      "- это по твой части завидуй молча😛😛\n",
      "- Это по твоей части завидовать\n",
      "- Это по твой части завидуй\n",
      "---> вот глупая это по твой части завидуй молча\n"
     ]
    },
    {
     "name": "stderr",
     "output_type": "stream",
     "text": [
      " 24%|██▎       | 189/800 [01:09<04:02,  2.52it/s]"
     ]
    },
    {
     "name": "stdout",
     "output_type": "stream",
     "text": [
      "уже не знают мудаки как лайки заработать 👎👎👎\n",
      "- Уже не знают как лайки заработать\n",
      "- уже не знают как лайки заработать\n",
      "- Уже не знают, как лайки заработать\n",
      "- уже не знают как лайки заработать 👎👎👎\n",
      "- уже не знают, как лайки заработать\n",
      "- уже не знают как лайки заработать 👎👎\n",
      "- Уже не знают как лайки зарабатывать\n",
      "- Уже не знают как заработать лайки\n",
      "- Уже не знают, как заработать лайки\n",
      "- уже не знают  как лайки заработать\n",
      "---> уже не знают как лайки заработать 👎👎👎\n"
     ]
    },
    {
     "name": "stderr",
     "output_type": "stream",
     "text": [
      " 24%|██▍       | 190/800 [01:09<04:17,  2.37it/s]"
     ]
    },
    {
     "name": "stdout",
     "output_type": "stream",
     "text": [
      "ага! именно твак вы, мрази бандеровские, на нас все стрелки переводите!! а вы прямо ангелочки майданные, белые и пушистые!\n",
      "- Ага! именно так вы на нас все стрелки переводите!\n",
      "- Ага! именно так вы на нас все стрелки переводите\n",
      "- Ага! именно так вы, на нас все стрелки переводите!\n",
      "- Ага! именно так вы, на нас все стрелки переводите\n",
      "- Ага! именно так вы на нас все стрелки переводите!!\n",
      "- ага! именно так вы на нас все стрелки переводите!!\n",
      "- ага! именно так вы, на нас все стрелки переводите!!\n",
      "- Ага! именно так вы, на нас все стрелки переводите!!\n",
      "- Ага! именно вы на нас все стрелки переводите!\n",
      "- ага! именно твак вы, на нас все стрелки переводите!!\n",
      "---> ага! именно твак вы, на нас все стрелки переводите!!\n"
     ]
    },
    {
     "name": "stderr",
     "output_type": "stream",
     "text": [
      " 24%|██▍       | 191/800 [01:09<03:53,  2.61it/s]"
     ]
    },
    {
     "name": "stdout",
     "output_type": "stream",
     "text": [
      "Больше смахивает на тот ауешный бред..\n",
      "- Больше похоже на бред\n",
      "- Больше похоже на тот бред\n",
      "- Больше напоминает бред\n",
      "- Больше смахивает на бред\n",
      "- Больше смахивает на тот бред\n",
      "- больше похоже на тот бред\n",
      "- больше похоже на бред\n",
      "- больше смахивает на тот бред\n",
      "- Больше похоже на то, что это бред\n",
      "- Больше похоже на то, что человек не в себе\n",
      "---> Больше похоже на то, что человек не в себе\n"
     ]
    },
    {
     "name": "stderr",
     "output_type": "stream",
     "text": [
      " 24%|██▍       | 192/800 [01:10<03:37,  2.79it/s]"
     ]
    },
    {
     "name": "stdout",
     "output_type": "stream",
     "text": [
      "иди охраняй его возле бункера.твари тупорылые.\n",
      "- Иди охраняй его возле бункера\n",
      "- охраняй его возле бункера\n",
      "- иди охраняй его возле бункера\n",
      "- Иди охраняй его возле бункера.\n",
      "- Охраняй его возле бункера\n",
      "- охраняй его возле бункера.\n",
      "- иди охраняй его возле бункера.\n",
      "- Уходи охраняй его возле бункера\n",
      "- Иди охраняй его возле бункера\n",
      "- Защищай его возле бункера\n",
      "---> Уходи охраняй его возле бункера\n"
     ]
    },
    {
     "name": "stderr",
     "output_type": "stream",
     "text": [
      " 24%|██▍       | 193/800 [01:10<03:21,  3.01it/s]"
     ]
    },
    {
     "name": "stdout",
     "output_type": "stream",
     "text": [
      "жыды Жидошизик, ты опять выходишь на связь, мудило?\n",
      "- Ты опять выходишь на связь\n",
      "- ты опять выходишь на связь\n",
      "- Опять ты выходишь на связь\n",
      "- ты опять выходишь на связь?\n",
      "- Ты опять выходишь на связь?\n",
      "- Ты снова выходишь на связь\n",
      "- Опять выходишь на связь\n",
      "- ты снова выходишь на связь\n",
      "- вы опять выходите на связь\n",
      "- Вы опять выходите на связь\n",
      "---> Ты опять выходишь на связь?\n"
     ]
    },
    {
     "name": "stderr",
     "output_type": "stream",
     "text": [
      " 24%|██▍       | 194/800 [01:10<03:00,  3.36it/s]"
     ]
    },
    {
     "name": "stdout",
     "output_type": "stream",
     "text": [
      "на хуй он нужен дровалет\n",
      "- Зачем он нужен\n",
      "- Он не нужен\n",
      "- Не нужен он\n",
      "- он не нужен\n",
      "- Он мне не нужен\n",
      "- На кой он нужен\n",
      "- Зачем он нужен?\n",
      "- Нужен он\n",
      "- не нужен он\n",
      "- не нужен\n",
      "---> Зачем он нужен?\n"
     ]
    },
    {
     "name": "stderr",
     "output_type": "stream",
     "text": [
      " 24%|██▍       | 195/800 [01:11<03:43,  2.71it/s]"
     ]
    },
    {
     "name": "stdout",
     "output_type": "stream",
     "text": [
      "вот как поставят чипс так и снимут маски туда клонят эти идиоты! они своё добиваются так или иначе\n",
      "- вот как поставят чипс так и снимут маски туда клонят\n",
      "- вот как поставят чипс так и снимут маски туда клонят эти люди! они своё добиваются так или иначе\n",
      "- Вот как поставят чипс так и снимут маски туда клонят\n",
      "- Вот как поставят чипс так и снимут маски сюда клонят\n",
      "- вот как поставят чипс так и снимут маски туда клонят эти люди! они свое добиваются так или иначе\n",
      "- Вот как поставят чипсы так и снимут маски сюда клонят\n",
      "- вот как поставят чипс так и снимут маски туда клонят эти люди\n",
      "- Вот как поставят чипс так и снимут маски сюда клонят эти люди! Они своё добиваются так или иначе\n",
      "- вот как поставят чипс так и снимут маски сюда клонят эти люди! они своё добиваются так или иначе\n",
      "- Вот как поставят чипс так и снимут маски туда клонят эти люди! Они своё добиваются так или иначе\n",
      "---> Вот как поставят чипс так и снимут маски туда клонят эти люди! Они своё добиваются так или иначе\n"
     ]
    },
    {
     "name": "stderr",
     "output_type": "stream",
     "text": [
      " 24%|██▍       | 196/800 [01:11<03:51,  2.61it/s]"
     ]
    },
    {
     "name": "stdout",
     "output_type": "stream",
     "text": [
      "пиздец тебе санек........ в сочи на свою дачу тебе дорога заказана, а ростов уже занят....\n",
      "- Санек, в Сочи на свою дачу тебе дорога заказана, а Ростов уже занят\n",
      "- В Сочи на свою дачу тебе дорога заказана, а Ростов уже занят\n",
      "- в сочи на свою дачу тебе дорога заказана, а ростов уже занят....\n",
      "- Санек в Сочи на свою дачу тебе дорога заказана, а Ростов уже занят\n",
      "- в сочи на свою дачу тебе дорога заказана, а ростов уже занят\n",
      "- Санёк, в Сочи на свою дачу тебе дорога заказана, а Ростов уже занят\n",
      "- Санек в Сочи на свою дачу тебе дорога заказана, а ростов уже занят\n",
      "- Санек, в сочи на свою дачу тебе дорога заказана, а ростов уже занят\n",
      "- Санек, в Сочи на свою дачу тебе дорога заказана, а ростов уже занят\n",
      "- Санёк в Сочи на свою дачу тебе дорога заказана, а Ростов уже занят\n",
      "---> Санек, в Сочи на свою дачу тебе дорога заказана, а ростов уже занят\n"
     ]
    },
    {
     "name": "stderr",
     "output_type": "stream",
     "text": [
      " 25%|██▍       | 197/800 [01:12<03:58,  2.53it/s]"
     ]
    },
    {
     "name": "stdout",
     "output_type": "stream",
     "text": [
      "У нас тоже толпы чернильниц по улицам ходят с обезьянами, но всем насрать\n",
      "- У нас тоже толпы чернильниц по улицам ходят с обезьянами, но всем насрать\n",
      "- У нас тоже толпы чернильниц по улицам ходят с обезьянами\n",
      "- У нас тоже толпы чернильниц по улицам ходят с людьми, но всем насрать\n",
      "- У нас тоже толпы чернильниц по улицам ходят, но всем насрать\n",
      "- у нас тоже толпы чернильниц по улицам ходят с обезьянами, но всем насрать\n",
      "- У нас тоже толпы чернильниц по улицам ходят с обезьянами,но всем насрать\n",
      "- У нас тоже толпы чернильниц по улицам ходят с обезьянами, но всем все равно\n",
      "- у нас тоже толпы чернильниц по улицам ходят с обезьянами\n",
      "- У нас тоже толпы чернильниц по улицам ходят с обезьянами, но всем всё равно\n",
      "- У нас тоже толпы чернильниц по улицам ходят с обезьянами но всем насрать\n",
      "---> У нас тоже толпы чернильниц по улицам ходят с обезьянами, но всем всё равно\n"
     ]
    },
    {
     "name": "stderr",
     "output_type": "stream",
     "text": [
      " 25%|██▍       | 198/800 [01:12<04:21,  2.30it/s]"
     ]
    },
    {
     "name": "stdout",
     "output_type": "stream",
     "text": [
      "Разрyшение кyльтyры. Хотя для местнх либерашек yничтожение народа не является проблемой.\n",
      "- Разрyшение кyльтyры. Хотя для местнх либерашек уничтожение народа не является проблемой.\n",
      "- Разрyшение кyльтyры. Хотя для местнх либерашек уничтожение народа не является проблемой\n",
      "- Разрешение кyльтyры. Хотя для местнх либерашек уничтожение народа не является проблемой.\n",
      "- Разрешение кyльтyры. Хотя для местнх либерашек уничтожение народа не является проблемой\n",
      "- разрyшение кyльтyры. Хотя для местнх либерашек уничтожение народа не является проблемой.\n",
      "- Разрешение кyльтyры.Хотя для местнх либерашек уничтожение народа не является проблемой.\n",
      "- Разрyшение кyльтyры.Хотя для местнх либерашек уничтожение народа не является проблемой.\n",
      "- Разрешение кyльтyры.Хотя для местнх либерашек уничтожение народа не является проблемой\n",
      "- разрyшение кyльтyры. Хотя для местнх либерашек уничтожение народа не является проблемой\n",
      "- Разрyшение кyльтyры.Хотя для местнх либерашек уничтожение народа не является проблемой\n",
      "---> разрyшение кyльтyры. Хотя для местнх либерашек уничтожение народа не является проблемой.\n"
     ]
    },
    {
     "name": "stderr",
     "output_type": "stream",
     "text": [
      " 25%|██▍       | 199/800 [01:13<04:22,  2.29it/s]"
     ]
    },
    {
     "name": "stdout",
     "output_type": "stream",
     "text": [
      "Клопы между страниц что ли прячутся? Нафиг книги-то выкидывать?\n",
      "- Между страниц что ли прячутся? Нафиг книги-то выкидывать\n",
      "- Между страниц что ли прячутся? Нафиг книги-то выкидывать?\n",
      "- Между страниц книги прячутся?\n",
      "- Книги между страниц прячутся?\n",
      "- Между страниц что ли прячутся? Нафиг книги-то выбрасывать\n",
      "- между страниц что ли прячутся?\n",
      "- Клопы между страниц что ли прячутся? Нафиг книги-то выкидывать\n",
      "- Между страниц что ли прячутся? Нафиг книги-то выбрасывать?\n",
      "- Клопы между страниц что ли прячутся? Нафиг книги-то выкидывать?\n",
      "- Между страниц что ли прячутся? Книги-то выкидывать\n",
      "---> Клопы между страниц что ли прячутся? Нафиг книги-то выкидывать?\n"
     ]
    },
    {
     "name": "stderr",
     "output_type": "stream",
     "text": [
      " 25%|██▌       | 200/800 [01:13<04:18,  2.32it/s]"
     ]
    },
    {
     "name": "stdout",
     "output_type": "stream",
     "text": [
      "все они там толстосумов и похер даже пид....са снимать будут и хвалить\n",
      "- все они там толстосумов и наплевать даже снимать будут и хвалить\n",
      "- все они там толстосумов и не важно даже снимать будут и хвалить\n",
      "- все они там толстосумов и наплевать даже п...са снимать будут и хвалить\n",
      "- все они там толстосумов и похер даже снимать будут и хвалить\n",
      "- все они там толстосумов и не надо даже снимать будут и хвалить\n",
      "- все они там толстосумов и все равно даже снимать будут и хвалить\n",
      "- все они там толстосумов и неважно даже снимать будут и хвалить\n",
      "- все они там толстосумов и наплевать даже снимать будут\n",
      "- все они там толстосумов и плевать даже снимать будут и хвалить\n",
      "- все они там толстосумов и не интересно даже снимать будут и хвалить\n",
      "---> все они там толстосумов и наплевать даже п...са снимать будут и хвалить\n"
     ]
    },
    {
     "name": "stderr",
     "output_type": "stream",
     "text": [
      " 25%|██▌       | 201/800 [01:14<04:32,  2.20it/s]"
     ]
    },
    {
     "name": "stdout",
     "output_type": "stream",
     "text": [
      "да суки авган забыли сколько пацанов положили и где правда присяга пацаны исполнили а россия плюнула им в глаза\n",
      "- да забыли сколько пацанов положили и где правда присяга ребята исполнили а россия плюнула им в глаза\n",
      "- да авган забыли сколько пацанов положили и где правда присяга ребята исполнили а россия плюнула им в глаза\n",
      "- Авган забыли сколько пацанов положили и где правда присяга ребята исполнили а россия плюнула им в глаза\n",
      "- да забыли сколько пацанов положили и где правда присяга ребята исполнили а россия плюнула им\n",
      "- да забыли сколько пацанов положили и где правда присяга пацаны исполнили а россия плюнула им в глаза\n",
      "- да забыли сколько пацанов положили и где правда присяга мальчишки исполнили а россия плюнула им в глаза\n",
      "- Авган забыли сколько пацанов положили и где правда присяга ребята исполнили а россия плюнула им\n",
      "- да забыли авган забыли сколько пацанов положили и где правда присяга\n",
      "- авган забыли сколько пацанов положили и где правда присяга ребята исполнили а россия плюнула им в глаза\n",
      "- да авган забыли сколько пацанов положили и где правда присяга ребята исполнили а россия плюнула им\n",
      "---> да авган забыли сколько пацанов положили и где правда присяга ребята исполнили а россия плюнула им в глаза\n"
     ]
    },
    {
     "name": "stderr",
     "output_type": "stream",
     "text": [
      " 25%|██▌       | 202/800 [01:14<04:06,  2.42it/s]"
     ]
    },
    {
     "name": "stdout",
     "output_type": "stream",
     "text": [
      "хуйню гонит, люди совсем бараны что-ли, не понимают\n",
      "- Люди совсем не понимают\n",
      "- Люди не понимают\n",
      "- Не понимают\n",
      "- Люди совсем ничего не понимают\n",
      "- не понимают\n",
      "- Люди ничего не понимают\n",
      "- люди совсем не понимают\n",
      "- Люди совсем глупые, что-ли, не понимают\n",
      "- Ничего не понимают\n",
      "- Люди совсем глупы\n",
      "---> Люди совсем глупые, что-ли, не понимают\n"
     ]
    },
    {
     "name": "stderr",
     "output_type": "stream",
     "text": [
      " 25%|██▌       | 203/800 [01:14<04:25,  2.25it/s]"
     ]
    },
    {
     "name": "stdout",
     "output_type": "stream",
     "text": [
      "я смотрю такой учёный, начитанный😆👎только и сидишь пиздишь, лучше лопату возьми и поработай, пиздабол👎👎👎🤣\n",
      "- я смотрю такой учёный, начитанный😆👎👎👎🤣\n",
      "- Я смотрю такой учёный, начитанный, только и сидишь, лучше лопату возьми и поработай\n",
      "- я смотрю такой учёный,начитанный😆👎👎👎🤣\n",
      "- Я смотрю такой учёный, начитанный😆👎👎👎🤣\n",
      "- Я смотрю такой учёный,начитанный😆👎👎👎🤣\n",
      "- я смотрю такой учёный, начитанный😆👎👎🤣\n",
      "- Я смотрю такой учёный, начитанный. Только и сидишь, лучше лопату возьми и поработай\n",
      "- Я смотрю такой ученый, начитанный, только и сидишь, лучше лопату возьми и поработай\n",
      "- Я смотрю такой учёный, начитанный😆👎👎🤣\n",
      "- я смотрю такой учёный, начитанный😆👎👎👎\n",
      "---> Я смотрю такой ученый, начитанный, только и сидишь, лучше лопату возьми и поработай\n"
     ]
    },
    {
     "name": "stderr",
     "output_type": "stream",
     "text": [
      " 26%|██▌       | 204/800 [01:15<04:11,  2.37it/s]"
     ]
    },
    {
     "name": "stdout",
     "output_type": "stream",
     "text": [
      "А вы не переиначивайте мою мысль. Либерда вонючая, БОТ.\n",
      "- А вы не переиначивайте мою мысль\n",
      "- А вы не переиначивайте мою мысль. Либерда\n",
      "- Вы не переиначивайте мою мысль\n",
      "- А вы не переиначивайте мою мысль, Либерда\n",
      "- А вы не переиначите мою мысль\n",
      "- а вы не переиначивайте мою мысль\n",
      "- Не переиначивайте мою мысль\n",
      "- А вы переиначивайте мою мысль\n",
      "- А вы не переиначивайте мою мысль. Либерда.\n",
      "- А вы не переиначивайте мою мысль. Либералы\n",
      "---> А вы не переиначивайте мою мысль. Либералы\n"
     ]
    },
    {
     "name": "stderr",
     "output_type": "stream",
     "text": [
      " 26%|██▌       | 205/800 [01:15<04:07,  2.40it/s]"
     ]
    },
    {
     "name": "stdout",
     "output_type": "stream",
     "text": [
      "дебилы не доделанные, в такую херню вам даже сша не поверит.\n",
      "- не доделанные, в такую ерунду вам даже сша не поверит\n",
      "- Не доделанные, в такую ерунду вам даже сша не поверит\n",
      "- В такую ерунду вам даже сша не поверит\n",
      "- в такую ерунду вам даже сша не поверит\n",
      "- не доделанные, в такую ерунду вам даже сша не поверит.\n",
      "- не доделанные, в такую чепуху вам даже сша не поверит\n",
      "- не доделанные, в такую чушь вам даже сша не поверит\n",
      "- Не доделанные, вам даже сша не поверит\n",
      "- не доделанные, в такую глупость вам даже сша не поверит\n",
      "- Не доделанные, в такую чушь вам даже сша не поверит\n",
      "---> не доделанные, в такую глупость вам даже сша не поверит\n"
     ]
    },
    {
     "name": "stderr",
     "output_type": "stream",
     "text": [
      " 26%|██▌       | 206/800 [01:16<04:03,  2.44it/s]"
     ]
    },
    {
     "name": "stdout",
     "output_type": "stream",
     "text": [
      "я попала тоже отослала деньги за платье и все , заблокировала меня тварь .\n",
      "- я попала тоже отослала деньги за платье и все, заблокировала меня\n",
      "- Я попала тоже отослала деньги за платье и все, заблокировала меня\n",
      "- я попала тоже отослала деньги за платье и все, заблокировала меня\n",
      "- Я попала тоже отослала деньги за платье и заблокировала меня\n",
      "- Я попала тоже отослала деньги за платье и все, заблокировала меня\n",
      "- я попала тоже отослала деньги за платье и все. заблокировала меня\n",
      "- я попала тоже отослала деньги за платье и заблокировала меня\n",
      "- Я попала тоже отослала деньги за платье и всё, заблокировала меня\n",
      "- я попала тоже отослала деньги за платье и все, заблокировала меня.\n",
      "- Я попала тоже отослала деньги за платье и все. заблокировала меня\n",
      "---> я попала тоже отослала деньги за платье и все, заблокировала меня.\n"
     ]
    },
    {
     "name": "stderr",
     "output_type": "stream",
     "text": [
      " 26%|██▌       | 207/800 [01:16<03:33,  2.78it/s]"
     ]
    },
    {
     "name": "stdout",
     "output_type": "stream",
     "text": [
      "да такой же урод и выдал.\n",
      "- Да такой же человек и выдал\n",
      "- Да такой же человек выдал\n",
      "- да такой же человек и выдал\n",
      "- да такой же человек выдал\n",
      "- Да такой же и выдал\n",
      "- Он выдал\n",
      "- Да такой же плохой человек выдал\n",
      "- да такой же и выдал\n",
      "- да такой же плохой человек выдал\n",
      "- Да такой же плохой человек и выдал\n",
      "---> Да такой же плохой человек и выдал\n"
     ]
    },
    {
     "name": "stderr",
     "output_type": "stream",
     "text": [
      " 26%|██▌       | 208/800 [01:16<03:19,  2.97it/s]"
     ]
    },
    {
     "name": "stdout",
     "output_type": "stream",
     "text": [
      "везде найдётся долбаёб без мозгов\n",
      "- Везде найдутся люди без мозгов\n",
      "- Везде найдётся человек без мозгов\n",
      "- везде найдётся человек без мозгов\n",
      "- Везде найдется человек без мозгов\n",
      "- Везде есть люди без мозгов\n",
      "- Везде найдутся умные люди\n",
      "- Везде найдутся люди без ума\n",
      "- Везде найдётся не умный человек\n",
      "- везде найдётся безмозглый человек\n",
      "- Везде найдётся безмозглый человек\n",
      "---> Везде найдётся безмозглый человек\n"
     ]
    },
    {
     "name": "stderr",
     "output_type": "stream",
     "text": [
      " 26%|██▌       | 209/800 [01:16<03:09,  3.12it/s]"
     ]
    },
    {
     "name": "stdout",
     "output_type": "stream",
     "text": [
      "здесь похоже одни жополизы пукинские собрались....\n",
      "- Здесь похоже Путин собрался\n",
      "- Здесь Путин собрался\n",
      "- Здесь похоже одни политики собрались\n",
      "- Здесь похоже одни люди собрались\n",
      "- Здесь похоже путинские собрались\n",
      "- Здесь похоже собрались политики\n",
      "- Здесь похоже пукинские собрались\n",
      "- здесь похоже одни люди пукинские собрались\n",
      "- Здесь похоже одни люди пукинские собрались\n",
      "- Здесь похоже собрались люди Путина\n",
      "---> Здесь похоже одни люди пукинские собрались\n"
     ]
    },
    {
     "name": "stderr",
     "output_type": "stream",
     "text": [
      " 26%|██▋       | 210/800 [01:17<03:30,  2.81it/s]"
     ]
    },
    {
     "name": "stdout",
     "output_type": "stream",
     "text": [
      "если это видео, то я папа римский! какой долбоёб сделал такую заставку! изображение платошкина н.н\n",
      "- Если это видео, то я папа римский\n",
      "- если это видео, то я папа римский! какой нехороший человек сделал такую заставку!\n",
      "- Если это видео, то я папа римский! Какой нехороший человек сделал такую заставку!\n",
      "- если это видео, то я папа римский! какой плохой человек сделал такую заставку!\n",
      "- Если это видео, то я папа римский! Какой плохой человек сделал такую заставку!\n",
      "- если это видео, то я папа римский\n",
      "- если это видео, то я папа римский! плохой человек сделал такую заставку!\n",
      "- Если это видео, то я папа римский! Какой нехороший человек сделал такую заставку\n",
      "- Если это видео, то я папа римский! какой нехороший человек сделал такую заставку!\n",
      "- если это видео, то я папа римский! какой нехороший человек сделал такую заставку\n",
      "---> Если это видео, то я папа римский! какой нехороший человек сделал такую заставку!\n"
     ]
    },
    {
     "name": "stderr",
     "output_type": "stream",
     "text": [
      " 26%|██▋       | 211/800 [01:17<03:29,  2.81it/s]"
     ]
    },
    {
     "name": "stdout",
     "output_type": "stream",
     "text": [
      "ну и второе и самое важное для европы и пендосов\n",
      "- ну и второе и самое важное для европы\n",
      "- ну и второе и самое важное для европы и пендосов\n",
      "- Ну и второе и самое важное для европы\n",
      "- Ну и второе и самое важное для Европы\n",
      "- ну и второе и самое главное для европы\n",
      "- Ну и второе и самое главное для европы\n",
      "- ну и второе и самое важное\n",
      "- Ну и второе и самое важное для европейцев\n",
      "- Ну и второе и самое важное для европы и американцев\n",
      "- Ну и второе и самое важное для европы и пендосов\n",
      "---> Ну и второе и самое важное для европы и американцев\n"
     ]
    },
    {
     "name": "stderr",
     "output_type": "stream",
     "text": [
      " 26%|██▋       | 212/800 [01:18<03:41,  2.65it/s]"
     ]
    },
    {
     "name": "stdout",
     "output_type": "stream",
     "text": [
      "Тебя ебет? Она тебя вроде не трогает, зачем лезть в её пространство личное\n",
      "- Она тебя вроде не трогает, зачем лезть в её пространство\n",
      "- Тебя это волнует? Она тебя вроде не трогает\n",
      "- Тебя это волнует? Она тебя вроде не трогает, зачем лезть в её пространство\n",
      "- Она тебя вроде не трогает, зачем лезть в её пространство личное\n",
      "- Тебя это волнует? Она тебя вроде не трогает, зачем лезть в её пространство личное\n",
      "- Она тебя вроде не трогает, зачем лезть в её пространство?\n",
      "- Она тебя вроде не трогает, зачем лезть в ее пространство\n",
      "- Тебя это волнует? Она тебя вроде не трогает, зачем лезть в её пространство?\n",
      "- Она тебя вроде не трогает\n",
      "- Тебя это волнует? Она тебя вроде не трогает, зачем лезть в ее пространство\n",
      "---> Тебя это волнует? Она тебя вроде не трогает, зачем лезть в её пространство личное\n"
     ]
    },
    {
     "name": "stderr",
     "output_type": "stream",
     "text": [
      " 27%|██▋       | 213/800 [01:18<03:19,  2.94it/s]"
     ]
    },
    {
     "name": "stdout",
     "output_type": "stream",
     "text": [
      "ваууу какая сексуальная сука просто бомба\n",
      "- Какая сексуальная, просто бомба\n",
      "- Какая красивая\n",
      "- Какая сексуальная штучка\n",
      "- Какая сексуальная просто бомба\n",
      "- Какая сексуальная бомба\n",
      "- Какая сексуальная женщина просто бомба\n",
      "- ваууу какая сексуальная\n",
      "- Какая сексуальная женщина\n",
      "- Какая сексуальная. Просто бомба\n",
      "- Вау какая сексуальная\n",
      "---> Какая сексуальная женщина просто бомба\n"
     ]
    },
    {
     "name": "stderr",
     "output_type": "stream",
     "text": [
      " 27%|██▋       | 214/800 [01:18<03:09,  3.10it/s]"
     ]
    },
    {
     "name": "stdout",
     "output_type": "stream",
     "text": [
      "...или пиздабольши , скорее всего !\n",
      "- скорее всего\n",
      "- Скорее всего\n",
      "- ...или ерунда, скорее всего!\n",
      "- ...или нет, скорее всего!\n",
      "- ...или плохо, скорее всего!\n",
      "- ...или враньё, скорее всего!\n",
      "- ...или очень много\n",
      "- скорее всего!\n",
      "- ...или враньё\n",
      "- скорее всего!\n",
      "---> ...или враньё, скорее всего!\n"
     ]
    },
    {
     "name": "stderr",
     "output_type": "stream",
     "text": [
      " 27%|██▋       | 215/800 [01:19<03:36,  2.70it/s]"
     ]
    },
    {
     "name": "stdout",
     "output_type": "stream",
     "text": [
      "кто выбирает этих долбаёбов??? мы идём на участки и голосуем молча ,думая о светлом будущем\n",
      "- кто выбирает этих людей??? мы идём на участки и голосуем молча,думая о светлом будущем\n",
      "- кто выбирает этих людей??? мы идём на участки и голосуем молча,думая о светлом будущем\n",
      "- Кто выбирает этих людей? Мы идём на участки и голосуем молча, думая о светлом будущем\n",
      "- Кто выбирает этих людей? Мы идём на участки и голосуем молча думая о светлом будущем\n",
      "- Кто выбирает этих людей? Мы идём на участки и голосуем молча,думая о светлом будущем\n",
      "- Кто выбирает этих людей\n",
      "- кто выбирает этих людей? мы идём на участки и голосуем молча,думая о светлом будущем\n",
      "- кто выбирает этих людей??? мы идём на участки и голосуем молча думая о светлом будущем\n",
      "- кто выбирает этих людей? мы идём на участки и голосуем молча,думая о светлом будущем\n",
      "- кто выбирает этих людей? мы идём на участки и голосуем молча думая о светлом будущем\n",
      "---> кто выбирает этих людей??? мы идём на участки и голосуем молча думая о светлом будущем\n"
     ]
    },
    {
     "name": "stderr",
     "output_type": "stream",
     "text": [
      " 27%|██▋       | 216/800 [01:19<03:43,  2.61it/s]"
     ]
    },
    {
     "name": "stdout",
     "output_type": "stream",
     "text": [
      "такие придурки в своё время и ельцина поддержали и своей поддержкой союз развалили\n",
      "- такие люди в своё время и ельцина поддержали и своей поддержкой союз развалили\n",
      "- Такие люди в своё время и Ельцина поддержали и своей поддержкой союз развалили\n",
      "- такие в своё время и ельцина поддержали и своей поддержкой союз развалили\n",
      "- такие люди в свое время и ельцина поддержали и своей поддержкой союз развалили\n",
      "- такие люди в своё время и Ельцина поддержали и своей поддержкой союз развалили\n",
      "- такие люди в своё время и ельцина поддержали и своей поддержкой союз развалил\n",
      "- Такие люди в своё время и Ельцина поддержали и своей поддержкой союз развалил\n",
      "- Такие люди в свое время и Ельцина поддержали и своей поддержкой союз развалили\n",
      "- Такие люди в своё время и ельцина поддержали и своей поддержкой союз развалили\n",
      "- такие в свое время и ельцина поддержали и своей поддержкой союз развалили\n",
      "---> Такие люди в своё время и ельцина поддержали и своей поддержкой союз развалили\n"
     ]
    },
    {
     "name": "stderr",
     "output_type": "stream",
     "text": [
      " 27%|██▋       | 217/800 [01:20<04:08,  2.35it/s]"
     ]
    },
    {
     "name": "stdout",
     "output_type": "stream",
     "text": [
      "я думаю что почивший иваньков был намного честнее и порядочнее патриарха гундяева путлировского жопализа !\n",
      "- я думаю что почивший иваньков был намного честнее и порядочнее патриарха путлировского\n",
      "- Я думаю что почивший иваньков был намного честнее и порядочнее патриарха Гундяева\n",
      "- я думаю что почивший иваньков был намного честнее и порядочнее патриарха гундяева путлировского\n",
      "- я думаю что почивший иваньков был намного честнее и порядочнее патриарха гундяева!\n",
      "- Я думаю что почивший иваньков был намного честнее и порядочнее патриарха Гундяева!\n",
      "- Я думаю что почивший иваньков был намного честнее и порядочнее патриарха гундяева путлировского\n",
      "- Я думаю, что почивший иваньков был намного честнее и порядочнее патриарха Гундяева\n",
      "- я думаю, что почивший иваньков был намного честнее и порядочнее патриарха путлировского\n",
      "- я думаю, что почивший иваньков был намного честнее и порядочнее патриарха гундяева путлировского\n",
      "- Я думаю что почивший иваньков был намного честнее и порядочнее патриарха Путина\n",
      "---> я думаю, что почивший иваньков был намного честнее и порядочнее патриарха гундяева путлировского\n"
     ]
    },
    {
     "name": "stderr",
     "output_type": "stream",
     "text": [
      " 27%|██▋       | 218/800 [01:20<03:56,  2.47it/s]"
     ]
    },
    {
     "name": "stdout",
     "output_type": "stream",
     "text": [
      "полная чушь,купи гуся и еби ему мозги,идиот...\n",
      "- полная чушь\n",
      "- Купи гуся\n",
      "- Полная чушь, купи гуся\n",
      "- полная чушь,купи гуся\n",
      "- Купите гуся\n",
      "- Полная ерунда, купи гуся\n",
      "- полная ерунда,купи гуся\n",
      "- полная чушь,купи гуся и разговаривай с ним\n",
      "- Полная чушь, купи гуся и поговори с ним\n",
      "- полная чушь,купи гуся и наказывай\n",
      "---> полная чушь,купи гуся и разговаривай с ним\n"
     ]
    },
    {
     "name": "stderr",
     "output_type": "stream",
     "text": [
      " 27%|██▋       | 219/800 [01:20<03:44,  2.58it/s]"
     ]
    },
    {
     "name": "stdout",
     "output_type": "stream",
     "text": [
      "Так это не фантазии, дебил, это вывод с ваших же постов.\n",
      "- Так это не фантазии, это вывод с ваших же постов\n",
      "- Так это не фантазии, это вывод с ваших постов\n",
      "- Так это не фантазии, это вывод ваших постов\n",
      "- Это вывод с ваших постов\n",
      "- Так это не фантазии, это вывод с ваших же постов.\n",
      "- Так это не фантазии, это вывод ваших же постов\n",
      "- так это не фантазии, это вывод с ваших же постов\n",
      "- Так это не фантазии,это вывод с ваших же постов\n",
      "- Так это не фантазии, это вывод из ваших постов\n",
      "- Так это не фантазии, это вывод из ваших же постов\n",
      "---> Так это не фантазии, это вывод из ваших же постов\n"
     ]
    },
    {
     "name": "stderr",
     "output_type": "stream",
     "text": [
      " 28%|██▊       | 220/800 [01:21<04:03,  2.38it/s]"
     ]
    },
    {
     "name": "stdout",
     "output_type": "stream",
     "text": [
      "один вопрос.а на хуя? а потом армия спасателей дибилу, а в это время нужна помощь нормальному человеку.\n",
      "- Один вопрос. А зачем? А потом армия спасателей, а в это время нужна помощь нормальному человеку\n",
      "- один вопрос.а зачем? а потом армия спасателей, а в это время нужна помощь нормальному человеку\n",
      "- один вопрос.а зачем? а потом армия спасателей, а в это время нужна помощь нормальному человеку.\n",
      "- Один вопрос.а зачем? а потом армия спасателей, а в это время нужна помощь нормальному человеку\n",
      "- Один вопрос. А зачем? А потом армия спасателей, а в это время нужна помощь нормальному человеку.\n",
      "- Один вопрос, а зачем? А потом армия спасателей, а в это время нужна помощь нормальному человеку\n",
      "- Один вопрос. а зачем? а потом армия спасателей, а в это время нужна помощь нормальному человеку\n",
      "- Один вопрос. А зачем? а потом армия спасателей, а в это время нужна помощь нормальному человеку\n",
      "- Один вопрос а зачем? а потом армия спасателей, а в это время нужна помощь нормальному человеку\n",
      "- Один вопрос.а зачем? а потом армия спасателей, а в это время нужна помощь нормальному человеку.\n",
      "---> Один вопрос. А зачем? А потом армия спасателей, а в это время нужна помощь нормальному человеку.\n"
     ]
    },
    {
     "name": "stderr",
     "output_type": "stream",
     "text": [
      " 28%|██▊       | 221/800 [01:21<03:39,  2.64it/s]"
     ]
    },
    {
     "name": "stdout",
     "output_type": "stream",
     "text": [
      "да а я сегодня познакомилась нехотя с блядью мужа\n",
      "- да а я сегодня познакомилась нехотя с мужем\n",
      "- Да а я сегодня познакомилась нехотя с мужем\n",
      "- Да а я сегодня познакомилась неохотно с мужем\n",
      "- да а я сегодня познакомилась неохотно с мужем\n",
      "- Да а я сегодня познакомилась с мужем\n",
      "- Да я сегодня познакомилась нехотя с мужем\n",
      "- Да я сегодня познакомилась с мужем\n",
      "- Да а я сегодня познакомилась с мужчиной\n",
      "- да я сегодня познакомилась нехотя с мужем\n",
      "- да а я сегодня познакомилась нехотя с мужчиной\n",
      "---> да а я сегодня познакомилась нехотя с мужчиной\n"
     ]
    },
    {
     "name": "stderr",
     "output_type": "stream",
     "text": [
      " 28%|██▊       | 222/800 [01:21<03:48,  2.53it/s]"
     ]
    },
    {
     "name": "stdout",
     "output_type": "stream",
     "text": [
      "До сих пор шрам на лбу от столба, понаставят на тратуарах, сволочи!\n",
      "- До сих пор шрам на лбу от столба, понаставят на тратуарах\n",
      "- До сих пор шрам на лбу от столба, понаставят\n",
      "- До сих пор шрам на лбу от столба, понаставят на тратуарах!\n",
      "- До сих пор шрам от столба, понаставят на тратуарах\n",
      "- До сих пор шрам на лбу от столба, понаставят на тратуарах.\n",
      "- До сих пор шрам на лбу, понаставят на тратуарах\n",
      "- До сих пор шрам на лбу от столба, понаставят на тратуарах\n",
      "- До сих пор шрам на лбу от столба, понаставят на дорогах\n",
      "- До сих пор шрам на лбу от столба, понаставят на тротуарах\n",
      "- До сих пор шрам от столба, понаставят на тратуарах!\n",
      "---> До сих пор шрам на лбу от столба, понаставят на тратуарах.\n"
     ]
    },
    {
     "name": "stderr",
     "output_type": "stream",
     "text": [
      " 28%|██▊       | 223/800 [01:22<03:46,  2.55it/s]"
     ]
    },
    {
     "name": "stdout",
     "output_type": "stream",
     "text": [
      "Чмо три часа соглашается со Швятым Либертарианцем.\n",
      "- Три часа соглашается со Швятым Либертарианцем\n",
      "- Три часа соглашается со Швятым Либертарианцем.\n",
      "- три часа соглашается со Швятым Либертарианцем\n",
      "- Три часа соглашается со Швятым Либератарианцем\n",
      "- Чмо три часа соглашается со Швятым Либертарианцем\n",
      "- три часа соглашается со Швятым Либертарианцем.\n",
      "- Три часа соглашается со Швитым Либертарианцем\n",
      "- Чмо три часа соглашается со Швятым Либертарианцем.\n",
      "- Три часа соглашается со Швятым Либертарианцем\n",
      "- Он три часа соглашается со Швятым Либертарианцем\n",
      "---> Чмо три часа соглашается со Швятым Либертарианцем.\n"
     ]
    },
    {
     "name": "stderr",
     "output_type": "stream",
     "text": [
      " 28%|██▊       | 224/800 [01:22<03:39,  2.62it/s]"
     ]
    },
    {
     "name": "stdout",
     "output_type": "stream",
     "text": [
      "урод ты думаешь один спешишь а пистолет в задницу себе запехни\n",
      "- думаешь один спешишь а пистолет себе запехни\n",
      "- Ты думаешь один торопишься\n",
      "- ты думаешь один спешишь а пистолет себе запехни\n",
      "- думаешь один спешишь а пистолет себе запихни\n",
      "- думаешь один спешишь а пистолет в карман себе запехни\n",
      "- думаешь один спешишь а пистолет в карман себе засунь\n",
      "- думаешь один спешишь а пистолет в другую сторону засунь\n",
      "- думаешь один спешишь а пистолет в рот себе засунь\n",
      "- думаешь один спешишь а пистолет в рот себе запехни\n",
      "- думаешь один спешишь а пистолет в задний карман засунь\n",
      "---> думаешь один спешишь а пистолет в другую сторону засунь\n"
     ]
    },
    {
     "name": "stderr",
     "output_type": "stream",
     "text": [
      " 28%|██▊       | 225/800 [01:22<03:23,  2.83it/s]"
     ]
    },
    {
     "name": "stdout",
     "output_type": "stream",
     "text": [
      "пидорасня конченая , и не как иначе , факт ...\n",
      "- И не как иначе, факт\n",
      "- И не как иначе\n",
      "- и не как иначе, факт\n",
      "- и не как иначе, факт\n",
      "- И не как иначе, факт\n",
      "- и не как иначе\n",
      "- Не как иначе, факт\n",
      "- Плохой человек, и никак иначе\n",
      "- И не как иначе, факт...\n",
      "- и не как иначе, факт...\n",
      "---> Плохой человек, и никак иначе\n"
     ]
    },
    {
     "name": "stderr",
     "output_type": "stream",
     "text": [
      " 28%|██▊       | 226/800 [01:23<03:23,  2.82it/s]"
     ]
    },
    {
     "name": "stdout",
     "output_type": "stream",
     "text": [
      "такие вые*ки как этот смирнов, лучшая реклама атеизма)\n",
      "- Такие люди как Смирнов, лучшая реклама атеизма\n",
      "- Такие люди как Смирнов лучшая реклама атеизма\n",
      "- Смирнов лучшая реклама атеизма\n",
      "- Такие как Смирнов лучшая реклама атеизма\n",
      "- Такие как Смирнов, лучшая реклама атеизма\n",
      "- такие люди как этот смирнов, лучшая реклама атеизма)\n",
      "- такие как этот смирнов, лучшая реклама атеизма)\n",
      "- Такие люди, как Смирнов, лучшая реклама атеизма\n",
      "- такие люди как Смирнов, лучшая реклама атеизма)\n",
      "- такие люди как Смирнов, лучшая реклама атеизма\n",
      "---> такие люди как этот смирнов, лучшая реклама атеизма)\n"
     ]
    },
    {
     "name": "stderr",
     "output_type": "stream",
     "text": [
      " 28%|██▊       | 227/800 [01:23<03:03,  3.13it/s]"
     ]
    },
    {
     "name": "stdout",
     "output_type": "stream",
     "text": [
      "а ты чушка хохложопая зачем здесь?\n",
      "- Зачем здесь?\n",
      "- Зачем здесь\n",
      "- Зачем ты здесь\n",
      "- Зачем ты здесь?\n",
      "- зачем здесь\n",
      "- Зачем тут?\n",
      "- А ты зачем здесь\n",
      "- Зачем тут\n",
      "- А ты зачем здесь?\n",
      "- а ты зачем здесь\n",
      "---> А ты зачем здесь?\n"
     ]
    },
    {
     "name": "stderr",
     "output_type": "stream",
     "text": [
      " 28%|██▊       | 228/800 [01:23<02:54,  3.27it/s]"
     ]
    },
    {
     "name": "stdout",
     "output_type": "stream",
     "text": [
      "а ты бы не пиздел впустую\n",
      "- А ты бы не говорил впустую\n",
      "- а ты бы не говорил впустую\n",
      "- а ты бы не болтал впустую\n",
      "- А ты бы не болтал впустую\n",
      "- А ты бы не обманывал\n",
      "- а ты бы не врал впустую\n",
      "- А ты бы не врал\n",
      "- а ты бы не обманывал\n",
      "- А ты бы не врал впустую\n",
      "- А ты не говорил впустую\n",
      "---> а ты бы не говорил впустую\n"
     ]
    },
    {
     "name": "stderr",
     "output_type": "stream",
     "text": [
      " 29%|██▊       | 229/800 [01:24<02:57,  3.21it/s]"
     ]
    },
    {
     "name": "stdout",
     "output_type": "stream",
     "text": [
      "слышь пидрила ты на расстоянии такой смелый? ...\n",
      "- слышь ты на расстоянии такой смелый?\n",
      "- Слышь ты на расстоянии такой смелый?\n",
      "- Слышь ты на расстоянии такой смелый\n",
      "- слышь ты на расстоянии такой смелый\n",
      "- слышь, ты на расстоянии такой смелый?\n",
      "- Слышишь ты на расстоянии такой смелый\n",
      "- Слышь, ты на расстоянии такой смелый?\n",
      "- слышь, ты на расстоянии такой смелый\n",
      "- Ты на расстоянии такой смелый\n",
      "- Слышь, ты на расстоянии такой смелый\n",
      "---> Слышь, ты на расстоянии такой смелый?\n"
     ]
    },
    {
     "name": "stderr",
     "output_type": "stream",
     "text": [
      " 29%|██▉       | 230/800 [01:24<03:12,  2.96it/s]"
     ]
    },
    {
     "name": "stdout",
     "output_type": "stream",
     "text": [
      "как заебали, то проход в ноги и то валяние на полу..\n",
      "- Как надоели, то проход в ноги и то валяние на полу\n",
      "- Как надоело, то проход в ноги и то валяние на полу\n",
      "- как надоели, то проход в ноги и то валяние на полу..\n",
      "- как надоели, то проход в ноги и то валяние на полу\n",
      "- как надоело, то проход в ноги и то валяние на полу..\n",
      "- Как надоели\n",
      "- надоели, то проход в ноги и то валяние на полу..\n",
      "- Как надоедают, то проход в ноги и то валяние на полу\n",
      "- как надоело, то проход в ноги и то валяние на полу\n",
      "- надоели, то проход в ноги и то валяние на полу\n",
      "---> Как надоедают, то проход в ноги и то валяние на полу\n"
     ]
    },
    {
     "name": "stderr",
     "output_type": "stream",
     "text": [
      " 29%|██▉       | 231/800 [01:25<03:54,  2.42it/s]"
     ]
    },
    {
     "name": "stdout",
     "output_type": "stream",
     "text": [
      "Хотел занять? Тогда да,проще позвонить , чем у кого то занимать..шорт побьяри! Откеля у меня в башке это??\n",
      "- Хотел занять? Тогда да, проще позвонить, чем у кого то занимать\n",
      "- Хотел занять? Тогда да, проще позвонить, чем у кого-то занимать\n",
      "- Хотел занять? Тогда да,проще позвонить, чем у кого то занимать\n",
      "- Хотел занять? Тогда да,проще позвонить,чем у кого то занимать\n",
      "- Хотел занять? Тогда да,проще позвонить,чем у кого то занимать\n",
      "- Хотел занять? Тогда да,проще позвонить, чем у кого то занимать\n",
      "- Хотел занять? Тогда да, проще позвонить, чем у кого то занимать\n",
      "- Хотел занять? Тогда да,проще позвонить,чем у кого то занимать..шорт побьяри!\n",
      "- Хотел занять? Тогда да,проще позвонить,чем у кого то занимать..шорт побьяри!\n",
      "- Хотел занять? Тогда да,проще позвонить, чем у кого то занимать..шорт побьяри!\n",
      "---> Хотел занять? Тогда да,проще позвонить, чем у кого то занимать..шорт побьяри!\n"
     ]
    },
    {
     "name": "stderr",
     "output_type": "stream",
     "text": [
      " 29%|██▉       | 232/800 [01:25<03:50,  2.47it/s]"
     ]
    },
    {
     "name": "stdout",
     "output_type": "stream",
     "text": [
      "автор такую хуйню пишет!какой пример показываешь молодежи?!дебил!это дерьмовая система! ауе)))моральные уроды!\n",
      "- автор такую ерунду пишет!какой пример показываешь молодежи?!\n",
      "- автор такую чушь пишет!какой пример показываешь молодежи?!\n",
      "- Автор такую ерунду пишет!какой пример показываешь молодежи?!\n",
      "- Автор такую чушь пишет\n",
      "- Автор такую чушь пишет!какой пример показываешь молодежи?!\n",
      "- Автор такую ерунду пишет\n",
      "- автор такую ерунду пишет!какой пример показываешь молодежи?\n",
      "- Автор такую ерунду пишет!какой пример показываешь молодежи?\n",
      "- автор такую ерунду пишет!какой пример показываешь молодежи\n",
      "- Автор такую чушь пишет!какой пример показываешь молодежи?\n",
      "---> Автор такую ерунду пишет!какой пример показываешь молодежи?!\n"
     ]
    },
    {
     "name": "stderr",
     "output_type": "stream",
     "text": [
      " 29%|██▉       | 233/800 [01:25<03:41,  2.56it/s]"
     ]
    },
    {
     "name": "stdout",
     "output_type": "stream",
     "text": [
      "так им по жизни сука на их морде скотч намотан будет\n",
      "- так им по жизни на их лице скотч намотан будет\n",
      "- Так им по жизни на их лице скотч намотан будет\n",
      "- так им по жизни на их лицах скотч намотан будет\n",
      "- так им по жизни на их лице намотан будет\n",
      "- Так им по жизни на их лице наклейка будет\n",
      "- Так им по жизни на их лицах скотч намотан будет\n",
      "- так им по жизни на их лице наклейка будет\n",
      "- так им по жизни на их лице будет скотч\n",
      "- так им по жизни на их лице будет скотч намотан\n",
      "- так им по жизни на их лице наклейка намотана будет\n",
      "---> так им по жизни на их лице наклейка намотана будет\n"
     ]
    },
    {
     "name": "stderr",
     "output_type": "stream",
     "text": [
      " 29%|██▉       | 234/800 [01:26<03:34,  2.64it/s]"
     ]
    },
    {
     "name": "stdout",
     "output_type": "stream",
     "text": [
      "Ты настолько туп что не понимаешь даже что время- это иллюзия.\n",
      "- Ты настолько глуп, что не понимаешь даже что время- это иллюзия\n",
      "- Ты настолько глуп, что не понимаешь даже что время- иллюзия\n",
      "- Ты настолько туп что не понимаешь даже что время- это иллюзия\n",
      "- Ты настолько глуп что не понимаешь даже что время- это иллюзия\n",
      "- Ты настолько туп, что не понимаешь даже что время- это иллюзия\n",
      "- Ты настолько глуп что не понимаешь даже что время- иллюзия\n",
      "- Ты настолько туп, что не понимаешь даже что время- иллюзия\n",
      "- Ты настолько глуп, что не понимаешь даже что время иллюзия\n",
      "- Ты настолько туп что не понимаешь даже что время- иллюзия\n",
      "- Ты настолько глуп, что не понимаешь даже что время-это иллюзия\n",
      "---> Ты настолько глуп, что не понимаешь даже что время- это иллюзия\n"
     ]
    },
    {
     "name": "stderr",
     "output_type": "stream",
     "text": [
      " 29%|██▉       | 235/800 [01:26<03:20,  2.82it/s]"
     ]
    },
    {
     "name": "stdout",
     "output_type": "stream",
     "text": [
      "лишать родительских прав нужно таких уебков...\n",
      "- Лишать родительских прав нужно таких людей\n",
      "- лишать родительских прав нужно таких людей...\n",
      "- лишать родительских прав нужно таких людей\n",
      "- Лишать родительских прав нужно таких людей...\n",
      "- Наказать нужно таких людей\n",
      "- Наказать таких людей\n",
      "- Наказать таких родителей\n",
      "- Наказать надо таких людей\n",
      "- Лишать родительских прав надо таких людей\n",
      "- Лишать родительских прав надо таких людей...\n",
      "---> Лишать родительских прав нужно таких людей...\n"
     ]
    },
    {
     "name": "stderr",
     "output_type": "stream",
     "text": [
      " 30%|██▉       | 236/800 [01:26<03:32,  2.65it/s]"
     ]
    },
    {
     "name": "stdout",
     "output_type": "stream",
     "text": [
      "Сука мои глаза кровоточат, про какой там нахуй тубик тебе посты делать, пяздуй за букварем срочно!!!!\n",
      "- Мои глаза кровоточат, про какой там тубик тебе посты делать\n",
      "- Мои глаза кровоточат, иди за букварем\n",
      "- Мои глаза кровоточат, какой там тубик тебе посты делать\n",
      "- Мои глаза кровоточат, про какой там тубик тебе посты писать\n",
      "- Мои глаза кровоточат, про какой там нафиг тубик тебе посты делать\n",
      "- Мои глаза кровоточат, какой там тубик?\n",
      "- Мои глаза кровоточат, какой там тубик тебе посты делать?\n",
      "- Мои глаза кровоточат, зачем тебе тубик?\n",
      "- Мои глаза кровоточат, какой там тубик тебе посты писать\n",
      "- Мои глаза кровоточат, про какой там тубик тебе посты делать?\n",
      "---> Мои глаза кровоточат, про какой там нафиг тубик тебе посты делать\n"
     ]
    },
    {
     "name": "stderr",
     "output_type": "stream",
     "text": [
      " 30%|██▉       | 237/800 [01:27<03:54,  2.40it/s]"
     ]
    },
    {
     "name": "stdout",
     "output_type": "stream",
     "text": [
      "парни вдв, а слабо полицаям путинским ебало на чистить!? вся страна этого ждёт!\n",
      "- парни вдв, а слабо полицаям путинским на чистить!? вся страна этого ждёт!\n",
      "- Парни вдв, а слабо полицаям путинским на чистить!? вся страна этого ждёт!\n",
      "- парни вдв, а слабо полицаям путинским лицо на чистить!? вся страна этого ждёт!\n",
      "- Парни вдв, а слабо полицаям путинским лицо на чистить!? вся страна этого ждёт!\n",
      "- парни вдв, а слабо полицаям путинским на чистить!? вся страна этого ждёт\n",
      "- Парни вдв, а слабо полицаям путинским на чистить!? Вся страна этого ждёт!\n",
      "- Парни вдв, а слабо полицаям путинским на чистить!? вся страна этого ждёт\n",
      "- Парни вдв,а слабо полицаям путинским на чистить!? вся страна этого ждёт!\n",
      "- парни вдв, а слабо полицаям путинским лицо на чистить!? вся страна этого ждёт\n",
      "- Парни вдв, а слабо полицаям на чистить!? вся страна этого ждёт!\n",
      "---> Парни вдв, а слабо полицаям путинским лицо на чистить!? вся страна этого ждёт!\n"
     ]
    },
    {
     "name": "stderr",
     "output_type": "stream",
     "text": [
      " 30%|██▉       | 238/800 [01:27<03:53,  2.40it/s]"
     ]
    },
    {
     "name": "stdout",
     "output_type": "stream",
     "text": [
      "лишь бы машинам их ним и им уродам было хорошо, а там трава не рости\n",
      "- лишь бы машинам их ним и им было хорошо, а там трава не расти\n",
      "- лишь бы машинам их им и им было хорошо, а там трава не расти\n",
      "- лишь бы машинам им и им было хорошо, а там трава не расти\n",
      "- лишь бы машинам их ним и им было хорошо\n",
      "- лишь бы машинам их им и им было хорошо\n",
      "- лишь бы машинам их было хорошо, а там трава не расти\n",
      "- лишь бы машинам их им было хорошо, а там трава не расти\n",
      "- лишь бы машинам им было хорошо, а там трава не расти\n",
      "- лишь бы машинам их и им было хорошо, а там трава не расти\n",
      "- лишь бы машинам им и им было хорошо\n",
      "---> лишь бы машинам их ним и им было хорошо, а там трава не расти\n"
     ]
    },
    {
     "name": "stderr",
     "output_type": "stream",
     "text": [
      " 30%|██▉       | 239/800 [01:28<03:35,  2.60it/s]"
     ]
    },
    {
     "name": "stdout",
     "output_type": "stream",
     "text": [
      "пидорасы наше правительство издеваються над пенсионерами\n",
      "- Плохое правительство издевается над пенсионерами\n",
      "- Российское правительство издевается над пенсионерами\n",
      "- Они издеваются над пенсионерами\n",
      "- Наши чиновники издеваются над пенсионерами\n",
      "- Правительство издевается над пенсионерами\n",
      "- Наше правительство издевается над пенсионерами\n",
      "- У нас правительство издевается над пенсионерами\n",
      "- Российское правительство издеваются над пенсионерами\n",
      "- наш правительство издеваються над пенсионерами\n",
      "- Плохие люди наше правительство издевается над пенсионерами\n",
      "---> Плохие люди наше правительство издевается над пенсионерами\n"
     ]
    },
    {
     "name": "stderr",
     "output_type": "stream",
     "text": [
      " 30%|███       | 240/800 [01:28<04:19,  2.16it/s]"
     ]
    },
    {
     "name": "stdout",
     "output_type": "stream",
     "text": [
      "руся, перестань, природа одарила тебя большой жопой, а ты тварь неблагодарная, не можешь вилять попой.:-d﻿\n",
      "- руся, перестань, природа одарила тебя большой жопой, а ты неблагодарная, не можешь вилять попой.:-d﻿\n",
      "- руся, перестань, природа одарила тебя большой жопой\n",
      "- руся, перестань, природа одарила тебя большой жопой, а ты неблагодарная, не можешь вилять попой\n",
      "- руся, перестань, природа одарила тебя большой жопой, а ты неблагодарная\n",
      "- руся, перестань, природа одарила тебя большой задницей, а ты неблагодарная, не можешь вилять попой.:-d﻿\n",
      "- руся, перестань, природа одарила тебя большой жопой, а ты не можешь вилять попой.:-d﻿\n",
      "- перестань, природа одарила тебя большой жопой, а ты неблагодарная, не можешь вилять попой.:-d﻿\n",
      "- руся, перестань, природа одарила тебя большой головой, а ты неблагодарная, не можешь вилять попой.:-d﻿\n",
      "- руся, прекрати, природа одарила тебя большой жопой, а ты неблагодарная, не можешь вилять попой.:-d﻿\n",
      "- руся, перестань, природа одарила тебя большой жопой, а ты не можешь вилять попой\n",
      "---> руся, перестань, природа одарила тебя большой задницей, а ты неблагодарная, не можешь вилять попой.:-d﻿\n"
     ]
    },
    {
     "name": "stderr",
     "output_type": "stream",
     "text": [
      " 30%|███       | 241/800 [01:29<03:56,  2.36it/s]"
     ]
    },
    {
     "name": "stdout",
     "output_type": "stream",
     "text": [
      "господи! зачем таким уродам бог даёт детей, его бы самого за яйца подвесить\n",
      "- Зачем таким людям бог даёт детей\n",
      "- Зачем таким людям бог даёт детей?\n",
      "- Зачем таким людям бог дает детей\n",
      "- зачем таким людям бог даёт детей\n",
      "- Зачем таким людям Бог даёт детей\n",
      "- Зачем таким людям бог дает детей?\n",
      "- Господи! Зачем таким людям бог даёт детей\n",
      "- Зачем таким людям бог даёт детей, его бы самого наказать\n",
      "- зачем таким людям бог дает детей\n",
      "- Зачем им бог даёт детей\n",
      "---> Зачем таким людям бог даёт детей, его бы самого наказать\n"
     ]
    },
    {
     "name": "stderr",
     "output_type": "stream",
     "text": [
      " 30%|███       | 242/800 [01:29<03:44,  2.48it/s]"
     ]
    },
    {
     "name": "stdout",
     "output_type": "stream",
     "text": [
      "ТС, сволоч! 5 раз пересмотрел, думал какая хуйня случится.\n",
      "- ТС, плохой! 5 раз пересмотрел, думал ерунда случится\n",
      "- ТС! 5 раз пересмотрел, думал ерунда случится\n",
      "- ТС, плохой человек! 5 раз пересмотрел, думал ерунда случится\n",
      "- ТС, плохой! 5 раз пересмотрел, думал ерунда случится.\n",
      "- ТС, плохой! 5 раз пересмотрел, думал какая ерунда случится\n",
      "- ТС! 5 раз пересмотрел, думал какая ерунда случится\n",
      "- ТС, плохой! 5 раз пересмотрел, думал что ерунда случится\n",
      "- ТС, 5 раз пересмотрел, думал ерунда случится\n",
      "- ТС, глупый! 5 раз пересмотрел, думал ерунда случится\n",
      "- ТС, плохой человек! 5 раз пересмотрел, думал какая ерунда случится\n",
      "---> ТС, плохой человек! 5 раз пересмотрел, думал какая ерунда случится\n"
     ]
    },
    {
     "name": "stderr",
     "output_type": "stream",
     "text": [
      " 30%|███       | 243/800 [01:29<03:34,  2.60it/s]"
     ]
    },
    {
     "name": "stdout",
     "output_type": "stream",
     "text": [
      "отпиздить так что бы шкура по лопалась 😤\n",
      "- Наказать\n",
      "- Наказать так\n",
      "- Так наказать\n",
      "- Наказать так что бы было больно\n",
      "- Наказать так, чтобы было больно\n",
      "- Наказать так, что бы было больно\n",
      "- Наказать так, что бы стыдно было\n",
      "- Наказать так что бы лицо побагровело\n",
      "- Наказать так, что бы лицо побагровело\n",
      "- Наказать так, что бы лицо порвалось\n",
      "---> Наказать так, что бы лицо побагровело\n"
     ]
    },
    {
     "name": "stderr",
     "output_type": "stream",
     "text": [
      " 30%|███       | 244/800 [01:30<03:58,  2.33it/s]"
     ]
    },
    {
     "name": "stdout",
     "output_type": "stream",
     "text": [
      "все еблище расписать, иди гондон на завод или стройку или ещё куда, там тебе миллиарды будут платить причём а долларах\n",
      "- все расписать, иди на завод или стройку или ещё куда, там тебе миллиарды будут платить причём а долларах\n",
      "- все описать, иди на завод или стройку или ещё куда, там тебе миллиарды будут платить причём а долларах\n",
      "- все рассказать, иди на завод или стройку или ещё куда, там тебе миллиарды будут платить причём а долларах\n",
      "- Все расписать, иди на завод или стройку или ещё куда, там тебе миллиарды будут платить причём а долларах\n",
      "- все расписать, иди на завод или стройку или ещё куда, там тебе миллионы будут платить причём а долларах\n",
      "- Все расписать, иди на завод или стройку или ещё куда, там тебе миллиарды будут платить, причём а долларах\n",
      "- Все расписать, иди на завод или стройку или ещё куда, там тебе миллиарды будут платить\n",
      "- Все расписать, иди на завод или стройку или ещё куда, там тебе миллиарды будут платить.\n",
      "- все расписать, иди на завод или стройку или ещё куда, там тебе миллиарды будут платить Причём а долларах\n",
      "- все рассказать, иди на завод или стройку или ещё куда, там тебе миллиарды будут платить\n",
      "---> Все расписать, иди на завод или стройку или ещё куда, там тебе миллиарды будут платить, причём а долларах\n"
     ]
    },
    {
     "name": "stderr",
     "output_type": "stream",
     "text": [
      " 31%|███       | 245/800 [01:30<04:17,  2.16it/s]"
     ]
    },
    {
     "name": "stdout",
     "output_type": "stream",
     "text": [
      "это не дети, а какой-то пиздец! ещё родитрли фотают своё же распиздяйское воспитание и умиляются..\n",
      "- это не дети, а какой-то кошмар! ещё родитрли фотают своё же воспитание и умиляются..\n",
      "- это не дети, а какой-то ужас! ещё родитрли фотают своё же воспитание и умиляются..\n",
      "- это не дети, а какой-то кошмар! ещё родитрли фотают своё же воспитание и умиляются\n",
      "- это не дети, а какой-то ужас! ещё родитрли фотают своё же воспитание и умиляются\n",
      "- это не дети, а какой то кошмар! ещё родитрли фотают своё же воспитание и умиляются..\n",
      "- это не дети, а какой то ужас! ещё родитрли фотают своё же воспитание и умиляются..\n",
      "- Это не дети, а какой-то кошмар\n",
      "- Это не дети, а какой-то ужас\n",
      "- это не дети, а какой то кошмар! ещё родитрли фотают своё же воспитание и умиляются\n",
      "- Это не дети, а какой-то кошмар! Ещё родитрли фотают своё же воспитание и умиляются\n",
      "---> это не дети, а какой то кошмар! ещё родитрли фотают своё же воспитание и умиляются..\n"
     ]
    },
    {
     "name": "stderr",
     "output_type": "stream",
     "text": [
      " 31%|███       | 246/800 [01:31<04:18,  2.14it/s]"
     ]
    },
    {
     "name": "stdout",
     "output_type": "stream",
     "text": [
      "все вы твари учились и росли в россии, получали образование, а теперь подонки хвалитесь своими пенсиями\n",
      "- все вы учились и росли в россии, получали образование, а теперь хвастаетесь своими пенсиями\n",
      "- Все вы учились и росли в России, получали образование, а теперь хвастаетесь своими пенсиями\n",
      "- все вы учились и росли в россии, получали образование, а теперь хвалитесь своими пенсиями\n",
      "- Все вы учились и росли в России, получали образование, а теперь хвалитесь своими пенсиями\n",
      "- все вы учились и росли в россии, получали образование, а теперь хвастайтесь своими пенсиями\n",
      "- все вы учились и росли в России, получали образование, а теперь хвастаетесь своими пенсиями\n",
      "- Все вы учились в России, получали образование, а теперь хвастаетесь своими пенсиями\n",
      "- Все вы учились и росли в России, получали образование, а теперь хвастаетесь своей пенсией\n",
      "- Все вы учились и росли в России, получали образование, а теперь жалуетесь своими пенсиями\n",
      "- Все вы учились и росли в России, получали образование, а теперь хвастаетесь своими пенсиями.\n",
      "---> Все вы учились и росли в России, получали образование, а теперь хвастаетесь своими пенсиями.\n"
     ]
    },
    {
     "name": "stderr",
     "output_type": "stream",
     "text": [
      " 31%|███       | 247/800 [01:31<03:50,  2.40it/s]"
     ]
    },
    {
     "name": "stdout",
     "output_type": "stream",
     "text": [
      "на лбу вырос, скоты хоть бы призновали свои ошибки бляди...\n",
      "- на лбу вырос, хоть бы признались\n",
      "- На лбу вырос, хоть бы признались\n",
      "- На лбу вырос, хоть бы признали свои ошибки\n",
      "- на лбу вырос\n",
      "- на лбу вырос, хоть бы признали свои ошибки\n",
      "- На лбу вырос, люди хоть бы признались\n",
      "- на лбу вырос, хотя бы признались\n",
      "- На лбу вырос, хотя бы признались\n",
      "- на лбу вырос,  хоть бы признались\n",
      "- На лбу вырос,  хоть бы признались\n",
      "---> на лбу вырос, хоть бы признали свои ошибки\n"
     ]
    },
    {
     "name": "stderr",
     "output_type": "stream",
     "text": [
      " 31%|███       | 248/800 [01:32<04:27,  2.06it/s]"
     ]
    },
    {
     "name": "stdout",
     "output_type": "stream",
     "text": [
      "автор этого ролика провокатор и лжец!!!!!! это не воины-славяне, ходорковско-навальновская мразь!!!!\n",
      "- Автор этого ролика провокатор и лжец\n",
      "- Автор этого ролика провокатор и лжец!!!!!!\n",
      "- автор этого ролика провокатор и лжец!!!!!! это не воины-славяне, ходорковско-навальновская мразь!!!!\n",
      "- Автор этого ролика провокатор и лжец!!!!!! это не воины-славяне, ходорковско-навальновская мразь!!!!\n",
      "- Автор этого ролика провокатор и лжец!\n",
      "- Автор этого ролика провокатор\n",
      "- Автор этого ролика провокатор и лжец!!!!\n",
      "- автор этого ролика провокатор и лжец!!!!!! это не воины-славяне, ходорковско-навальновская мразь\n",
      "- Автор этого ролика лжец\n",
      "- Автор этого ролика провокатор и лжец.\n",
      "---> Автор этого ролика провокатор и лжец!!!!!! это не воины-славяне, ходорковско-навальновская мразь!!!!\n"
     ]
    },
    {
     "name": "stderr",
     "output_type": "stream",
     "text": [
      " 31%|███       | 249/800 [01:32<04:17,  2.14it/s]"
     ]
    },
    {
     "name": "stdout",
     "output_type": "stream",
     "text": [
      "ну разве можно быть спокойным за россию? когда такие дебилы заполонили все пространство\n",
      "- ну разве можно быть спокойным за россию?\n",
      "- ну разве можно быть спокойным за россию? когда такие люди заполонили все пространство\n",
      "- Ну разве можно быть спокойным за Россию? Когда такие люди заполонили все пространство\n",
      "- ну разве можно быть спокойным за Россию?\n",
      "- Ну разве можно быть спокойным за Россию? Когда такие люди заполонили пространство\n",
      "- Ну разве можно быть спокойным за Россию?\n",
      "- ну разве можно быть спокойным за россию? когда такие люди заполонили пространство\n",
      "- ну разве можно быть спокойным за россию? когда такие люди заполонили всё пространство\n",
      "- ну разве можно быть спокойным за россию? когда такие плохие люди заполонили все пространство\n",
      "- ну разве можно быть спокойным за Россию? когда такие люди заполонили все пространство\n",
      "---> ну разве можно быть спокойным за россию? когда такие плохие люди заполонили все пространство\n"
     ]
    },
    {
     "name": "stderr",
     "output_type": "stream",
     "text": [
      " 31%|███▏      | 250/800 [01:33<04:11,  2.18it/s]"
     ]
    },
    {
     "name": "stdout",
     "output_type": "stream",
     "text": [
      "ну и зачем вы сейчас выкинули это видео 2015 года? этот хохлоперевёртыш ещё во власти?\n",
      "- ну и зачем вы сейчас выкинули это видео 2015 года?\n",
      "- Ну и зачем вы сейчас выкинули это видео 2015 года?\n",
      "- ну и зачем вы сейчас выкинули это видео 2015 года? этот человек ещё во власти?\n",
      "- ну и зачем вы сейчас выкинули это видео 2015 года\n",
      "- Ну и зачем вы сейчас выкинули это видео 2015 года\n",
      "- Ну и зачем вы сейчас выбросили это видео 2015 года?\n",
      "- Зачем вы сейчас выкинули это видео 2015 года?\n",
      "- ну и зачем вы сейчас выкинули это видео 2015 года? этот человек ещё во власти\n",
      "- ну и зачем вы сейчас выбросили это видео 2015 года?\n",
      "- Ну и зачем вы сейчас выставили это видео 2015 года?\n",
      "---> ну и зачем вы сейчас выкинули это видео 2015 года? этот человек ещё во власти?\n"
     ]
    },
    {
     "name": "stderr",
     "output_type": "stream",
     "text": [
      " 31%|███▏      | 251/800 [01:33<04:02,  2.27it/s]"
     ]
    },
    {
     "name": "stdout",
     "output_type": "stream",
     "text": [
      "24 часа в сутки трахаться?ну-ну ))утешай себя дальше этой чушью\n",
      "- 24 часа в сутки заниматься любовью? ну-ну ))утешай себя дальше\n",
      "- 24 часа в сутки заниматься любовью?ну-ну ))утешай себя дальше\n",
      "- 24 часа в сутки?ну-ну ))утешай себя дальше\n",
      "- 24 часа в сутки заниматься сексом? ну-ну ))утешай себя дальше\n",
      "- 24 часа в сутки спать? ну-ну ))утешай себя дальше\n",
      "- 24 часа в сутки заниматься сексом?ну-ну ))утешай себя дальше\n",
      "- 24 часа в сутки? ну-ну ))утешай себя дальше\n",
      "- 24часа в сутки заниматься любовью? ну-ну ))утешай себя дальше\n",
      "- 24 часа в сутки не спать? ну-ну ))утешай себя дальше\n",
      "- 24 часа в сутки заниматься любовью? Ну-ну ))утешай себя дальше\n",
      "---> 24 часа в сутки заниматься любовью? Ну-ну ))утешай себя дальше\n"
     ]
    },
    {
     "name": "stderr",
     "output_type": "stream",
     "text": [
      " 32%|███▏      | 252/800 [01:34<04:15,  2.15it/s]"
     ]
    },
    {
     "name": "stdout",
     "output_type": "stream",
     "text": [
      "проёбаное поколение 90-х мы то как раз выживем а вот вы заморыши просто отребье\n",
      "- прошлое поколение 90-х мы то как раз выживем а вот вы просто неудачники\n",
      "- прошлое поколение 90-х мы то как раз выживем а вот вы отребье\n",
      "- прошлое поколение 90-х мы то как раз выживем а вот вы просто отребье\n",
      "- плохое поколение 90-х мы то как раз выживем а вот вы просто отребье\n",
      "- плохое поколение 90-х мы то как раз выживем а вот вы просто неудачники\n",
      "- прошлое поколение 90-х мы то как раз выживем а вот вы отребье просто\n",
      "- прошлое поколение 90-х мы то как раз выживем а вот вы не выживете\n",
      "- прошлое поколение 90-х мы то как раз выживем а вот вы не выживите\n",
      "- прошлое поколение 90-х мы то как раз выживем а вот вы отребье просто отребье\n",
      "- прошлое поколение 90-х мы то как раз выживем а вот вы останетесь без работы\n",
      "---> прошлое поколение 90-х мы то как раз выживем а вот вы отребье просто отребье\n"
     ]
    },
    {
     "name": "stderr",
     "output_type": "stream",
     "text": [
      " 32%|███▏      | 253/800 [01:34<04:02,  2.26it/s]"
     ]
    },
    {
     "name": "stdout",
     "output_type": "stream",
     "text": [
      "заткнул я тебя, подонка, и то дело доброе для россии сделал.\n",
      "- заткнул я тебя, и то дело доброе для россии сделал\n",
      "- заткнул я тебя, и то дело доброе для россии сделал.\n",
      "- заткнул я тебя\n",
      "- Замолчи\n",
      "- Замолчал я тебя\n",
      "- замолчал я тебя, и то дело доброе для россии сделал\n",
      "- замолчал я тебя\n",
      "- замолчи\n",
      "- заткнул я тебя и то дело доброе для россии сделал\n",
      "- замолчал я тебя, и то дело доброе для россии сделал.\n",
      "---> замолчал я тебя, и то дело доброе для россии сделал.\n"
     ]
    },
    {
     "name": "stderr",
     "output_type": "stream",
     "text": [
      " 32%|███▏      | 254/800 [01:34<03:30,  2.59it/s]"
     ]
    },
    {
     "name": "stdout",
     "output_type": "stream",
     "text": [
      "какого такого хуя он на свободе! уроды .\n",
      "- Почему он на свободе\n",
      "- Он на свободе\n",
      "- Зачем он на свободе\n",
      "- почему он на свободе\n",
      "- Почему он на свободе?\n",
      "- Какого такого он на свободе\n",
      "- какого такого он на свободе\n",
      "- Что он на свободе\n",
      "- Кто он на свободе\n",
      "- Чего он на свободе\n",
      "---> какого такого он на свободе\n"
     ]
    },
    {
     "name": "stderr",
     "output_type": "stream",
     "text": [
      " 32%|███▏      | 255/800 [01:35<03:20,  2.72it/s]"
     ]
    },
    {
     "name": "stdout",
     "output_type": "stream",
     "text": [
      "если бы не мараторий, то стрелять таких уродов..\n",
      "- Если бы не мараторий, то наказывать\n",
      "- если бы не мараторий, то наказывать\n",
      "- Если бы не мараторий, то наказывать таких людей\n",
      "- Если бы не мараторий, то наказать\n",
      "- Если бы не мараторий, то наказывать таких\n",
      "- Если бы не мараторий, то их наказывать\n",
      "- Если бы не карантин, то наказывать\n",
      "- если бы не мараторий, то наказать\n",
      "- если бы не мараторий, то их наказывать\n",
      "- если бы не мараторий, то наказывать таких\n",
      "---> Если бы не мараторий, то наказывать таких людей\n"
     ]
    },
    {
     "name": "stderr",
     "output_type": "stream",
     "text": [
      " 32%|███▏      | 256/800 [01:35<03:19,  2.72it/s]"
     ]
    },
    {
     "name": "stdout",
     "output_type": "stream",
     "text": [
      "скорее вас муж чмокнутой женщины найдет быстрее чем ваша жена.\n",
      "- Скорее вас муж найдёт быстрее чем ваша жена\n",
      "- скорее вас муж найдет быстрее чем ваша жена\n",
      "- скорее вас муж чмокнутой женщины найдет быстрее чем ваша жена.\n",
      "- скорее вас муж чмокнутой женщины найдет быстрее чем ваша жена\n",
      "- скорее вас муж поцелует быстрее чем ваша жена\n",
      "- скорее вас муж найдёт быстрее чем ваша жена\n",
      "- Скорее вас муж поцелует, быстрее\n",
      "- скорее вас муж найдет быстрее чем ваша жена.\n",
      "- Скорее вас муж найдёт быстрее чем жена\n",
      "- скорее вас муж поцелнутой женщины найдет быстрее чем ваша жена\n",
      "---> скорее вас муж поцелнутой женщины найдет быстрее чем ваша жена\n"
     ]
    },
    {
     "name": "stderr",
     "output_type": "stream",
     "text": [
      " 32%|███▏      | 257/800 [01:35<03:28,  2.61it/s]"
     ]
    },
    {
     "name": "stdout",
     "output_type": "stream",
     "text": [
      "вы заебали фейками, блять уебки даже разобраться не можете,кто в россии министр труда\n",
      "- Даже разобраться не можете, кто в России министр труда\n",
      "- вы надоели фейками, даже разобраться не можете,кто в россии министр труда\n",
      "- Устали фейками, даже разобраться не можете, кто в России министр труда\n",
      "- вы надоели фейками, даже разобраться не можете, кто в россии министр труда\n",
      "- вы надоели фейками даже разобраться не можете,кто в россии министр труда\n",
      "- Вы даже разобраться не можете, кто в России министр труда\n",
      "- Устали от фейками\n",
      "- Вы надоели фейками, даже разобраться не можете, кто в России министр труда\n",
      "- вы замучили фейками, даже разобраться не можете, кто в россии министр труда\n",
      "- У вас даже разобраться не можете, кто в России министр труда\n",
      "---> вы замучили фейками, даже разобраться не можете, кто в россии министр труда\n"
     ]
    },
    {
     "name": "stderr",
     "output_type": "stream",
     "text": [
      " 32%|███▏      | 258/800 [01:36<03:02,  2.97it/s]"
     ]
    },
    {
     "name": "stdout",
     "output_type": "stream",
     "text": [
      "я ещё раз говорю тебе идиот\n",
      "- Я ещё раз говорю\n",
      "- я ещё раз говорю\n",
      "- Я еще раз говорю\n",
      "- я ещё раз говорю тебе\n",
      "- я еще раз говорю\n",
      "- я еще раз говорю тебе\n",
      "- Я ещё раз повторяю\n",
      "- Я ещё раз говорю тебе\n",
      "- Я еще раз повторяю\n",
      "- Я снова говорю\n",
      "---> Я ещё раз говорю тебе\n"
     ]
    },
    {
     "name": "stderr",
     "output_type": "stream",
     "text": [
      " 32%|███▏      | 259/800 [01:36<03:18,  2.72it/s]"
     ]
    },
    {
     "name": "stdout",
     "output_type": "stream",
     "text": [
      "какого хуя вы фашисты бандеровцы приперлись на донбасс и стали бомбить малят?????\n",
      "- Почему вы приперлись на Донбасс и стали бомбить малят\n",
      "- Почему вы пришли на Донбасс и стали бомбить малят\n",
      "- Почему вы приперлись на донбасс и стали бомбить малят\n",
      "- Почему вы фашисты приперлись на донбасс и стали бомбить малят\n",
      "- Почему вы фашисты приперлись на Донбасс и стали бомбить малят\n",
      "- почему вы фашисты приперлись на донбасс и стали бомбить малят????\n",
      "- Почему вы пришли на донбасс и стали бомбить малят\n",
      "- почему вы фашисты приперлись на донбасс и стали бомбить малят?????\n",
      "- Почему вы фашисты пришли на Донбасс и стали бомбить малят\n",
      "- почему вы фашисты приперлись на донбасс и стали бомбить малят\n",
      "---> почему вы фашисты приперлись на донбасс и стали бомбить малят?????\n"
     ]
    },
    {
     "name": "stderr",
     "output_type": "stream",
     "text": [
      " 32%|███▎      | 260/800 [01:36<03:11,  2.82it/s]"
     ]
    },
    {
     "name": "stdout",
     "output_type": "stream",
     "text": [
      "точно!они или читать не умеют или моральные уроды\n",
      "- точно!они или читать не умеют\n",
      "- точно!они или читать не умеют или моральные люди\n",
      "- Они или читать не умеют или моральные люди\n",
      "- точно! они или читать не умеют или моральные люди\n",
      "- точно!они или читать не умеют или плохие люди\n",
      "- точно! они или читать не умеют\n",
      "- точно!или читать не умеют\n",
      "- Они или читать не умеют\n",
      "- точно!они или не читать не умеют\n",
      "- они или читать не умеют\n",
      "---> точно! они или читать не умеют или моральные люди\n"
     ]
    },
    {
     "name": "stderr",
     "output_type": "stream",
     "text": [
      " 33%|███▎      | 261/800 [01:37<03:23,  2.65it/s]"
     ]
    },
    {
     "name": "stdout",
     "output_type": "stream",
     "text": [
      "Он теперь постоянно ко всем лезет и пока по ебальнику не выхватит, не успокоится.\n",
      "- Он теперь постоянно ко всем лезет и пока по лицу не выхватит, не успокоится\n",
      "- Он теперь постоянно ко всем лезет и пока по лицу не выхватит, не успокоится.\n",
      "- Он теперь постоянно ко всем лезет и пока не выхватит, не успокоится\n",
      "- Он теперь постоянно ко всем лезет и пока не поймает, не успокоится\n",
      "- он теперь постоянно ко всем лезет и пока по лицу не выхватит, не успокоится.\n",
      "- Он теперь постоянно ко всем лезет и пока не схватит, не успокоится\n",
      "- он теперь постоянно ко всем лезет и пока по лицу не выхватит, не успокоится\n",
      "- Он теперь постоянно ко всем лезет и пока по лицу не ухватит, не успокоится\n",
      "- Он теперь постоянно ко всем лезет и пока не выхватит, не успокоится.\n",
      "- Он теперь постоянно ко всем лезет и пока по лицу не схватит, не успокоится\n",
      "---> он теперь постоянно ко всем лезет и пока по лицу не выхватит, не успокоится.\n"
     ]
    },
    {
     "name": "stderr",
     "output_type": "stream",
     "text": [
      " 33%|███▎      | 262/800 [01:37<03:06,  2.89it/s]"
     ]
    },
    {
     "name": "stdout",
     "output_type": "stream",
     "text": [
      "тупой молодняк и кучька американских пидоров везде нос суют\n",
      "- Молодняк везде лезет\n",
      "- Американцы везде лезут\n",
      "- молодняк везде лезет\n",
      "- молодняк везде нос суют\n",
      "- молодняк везде сует свой нос\n",
      "- Молодняк везде сует свой нос\n",
      "- молодняк везде нос сует\n",
      "- Молодые люди везде лезут\n",
      "- Молодняк везде сует нос\n",
      "- Молодежь везде лезет\n",
      "---> Молодняк везде сует свой нос\n"
     ]
    },
    {
     "name": "stderr",
     "output_type": "stream",
     "text": [
      " 33%|███▎      | 263/800 [01:38<03:13,  2.78it/s]"
     ]
    },
    {
     "name": "stdout",
     "output_type": "stream",
     "text": [
      "путин вв ты для народа ни кто , ты сука я фирсов сн ты для меня ни кто\n",
      "- Путин ты для народа никто\n",
      "- Путин вв ты для народа никто\n",
      "- Путин ты для народа никто\n",
      "- Ты для народа никто\n",
      "- Путин, ты для народа никто\n",
      "- Путин вв ты для народа никто\n",
      "- Путин В ты для народа никто\n",
      "- Путин ты для народа ни кто\n",
      "- Путин ты для народа не кто\n",
      "- путин вв ты для народа никто\n",
      "---> путин вв ты для народа никто\n"
     ]
    },
    {
     "name": "stderr",
     "output_type": "stream",
     "text": [
      " 33%|███▎      | 264/800 [01:38<03:40,  2.43it/s]"
     ]
    },
    {
     "name": "stdout",
     "output_type": "stream",
     "text": [
      "вот ввп не чего делать , как бегать и уродов травить,, задолбали своими уродами, давно пора...кто то умный нашелся.\n",
      "- вот ввп не чего делать, как бегать и плохих людей травить,, давно пора...кто то умный нашелся.\n",
      "- вот ввп не чего делать, как бегать и плохих людей травить,, давно пора...кто то умный нашелся\n",
      "- вот ввп не чего делать, как бегать и уродов травить,, давно пора...кто то умный нашелся.\n",
      "- вот ввп не чего делать, как бегать и людей травить,, давно пора...кто то умный нашелся.\n",
      "- вот ввп не чего делать, как бегать и уродов травить,, давно пора...кто то умный нашелся\n",
      "- вот ввп не чего делать, как бегать и плохих людей травить,, давно пора...кто то умный нашелся.\n",
      "- вот ввп не чего делать, как бегать и людей травить,, давно пора...кто то умный нашелся\n",
      "- вот ввп не чего делать, как бегать и плохих людей травить,, давно пора...кто то умный нашелся\n",
      "- вот ввп не чего делать, как бегать и нехороших людей травить,, давно пора...кто то умный нашелся.\n",
      "- вот ввп не чего делать, как бегать и нехороших людей травить,, давно пора...кто то умный нашелся\n",
      "---> вот ввп не чего делать, как бегать и нехороших людей травить,, давно пора...кто то умный нашелся.\n"
     ]
    },
    {
     "name": "stderr",
     "output_type": "stream",
     "text": [
      " 33%|███▎      | 265/800 [01:39<04:14,  2.11it/s]"
     ]
    },
    {
     "name": "stdout",
     "output_type": "stream",
     "text": [
      "тебя не убедил 6-страничный пдф в том, что Скрипалей отравила Россия? Анализировать и думать пытаешься? Ватник что ли?)\n",
      "- Тебя не убедил 6-страничный пдф в том, что Скрипалей отравила Россия? Анализировать и думать пытаешься?\n",
      "- тебя не убедил 6-страничный пдф в том, что Скрипалей отравила Россия? Анализировать и думать пытаешься?\n",
      "- Тебя не убедил 6 страничный пдф в том, что Скрипалей отравила Россия? Анализировать и думать пытаешься?\n",
      "- Тебя не убедил 6-страничный пдф в том, что Скрипалей отравила Россия? Анализировать и думать пытаешься\n",
      "- Тебя не убедил 6-страничный пдф в том, что Скрипалей отравила Россия? Анализировать и думать стараешься?\n",
      "- Тебя не убедили 6-страничный пдф в том, что Скрипалей отравила Россия? Анализировать и думать пытаешься?\n",
      "- тебя не убедил 6-страничный пдф в том, что Скрипалей отравила Россия? Анализировать и думать пытаешься\n",
      "- тебя не убедил 6-страничный пдф в том, что Скрипалей отравила Россия? Анализировать и думать стараешься?\n",
      "- Тебе не убедил 6-страничный пдф в том, что Скрипалей отравила Россия? Анализировать и думать пытаешься?\n",
      "- Ты не убедил 6-страничный пдф в том, что Скрипалей отравила Россия? Анализировать и думать пытаешься?\n",
      "---> тебя не убедил 6-страничный пдф в том, что Скрипалей отравила Россия? Анализировать и думать стараешься?\n"
     ]
    },
    {
     "name": "stderr",
     "output_type": "stream",
     "text": [
      " 33%|███▎      | 266/800 [01:39<03:53,  2.29it/s]"
     ]
    },
    {
     "name": "stdout",
     "output_type": "stream",
     "text": [
      "ебать копать!!насмешила сука!!!пока мы живем,,ты,тварь,живешь лучше нас!!!\n",
      "- пока мы живем,,ты,живешь лучше нас!!!\n",
      "- Пока мы живем, ты живешь лучше нас\n",
      "- пока мы живем,ты,живешь лучше нас!!!\n",
      "- пока мы живем,,ты,живешь лучше нас\n",
      "- пока мы живем,ты,живешь лучше нас\n",
      "- Пока мы живем, ты лучше нас\n",
      "- пока мы живем,ты,лучше нас\n",
      "- пока мы живем,,ты, живешь лучше нас!!!\n",
      "- Насмешила, пока мы живем, ты лучше нас\n",
      "- Насмешила, пока мы живем, ты живешь лучше нас\n",
      "---> Насмешила, пока мы живем, ты живешь лучше нас\n"
     ]
    },
    {
     "name": "stderr",
     "output_type": "stream",
     "text": [
      " 33%|███▎      | 267/800 [01:39<03:25,  2.59it/s]"
     ]
    },
    {
     "name": "stdout",
     "output_type": "stream",
     "text": [
      "В мясе нет крови, тупая пидораха\n",
      "- В мясе нет крови\n",
      "- в мясе нет крови\n",
      "- В мясе нет крови.\n",
      "- В мясе нет крови,\n",
      "- В мясе не хватает крови\n",
      "- В мясе не крови\n",
      "- Нет крови\n",
      "- Мясо в мясе нет\n",
      "- В мясе нет крови!\n",
      "- В мясе не кровь\n",
      "---> В мясе не хватает крови\n"
     ]
    },
    {
     "name": "stderr",
     "output_type": "stream",
     "text": [
      " 34%|███▎      | 268/800 [01:40<03:49,  2.32it/s]"
     ]
    },
    {
     "name": "stdout",
     "output_type": "stream",
     "text": [
      "Если баба перестаёт мыть посуду, то мужик перестаёт забивать гвозди, вкручивать лампочки и проявлять эрекцию.\n",
      "- Если женщина перестаёт мыть посуду, то мужчина перестаёт забивать гвозди, вкручивать лампочки и проявлять эрекцию\n",
      "- Если женщина перестает мыть посуду, то мужчина перестаёт забивать гвозди, вкручивать лампочки и проявлять эрекцию\n",
      "- Если женщина перестаёт мыть посуду, то мужчина перестаёт забивать гвозди, вкручивать лампочки и проявлять эрекцию.\n",
      "- Если женщина перестает мыть посуду, то мужчина перестает забивать гвозди, вкручивать лампочки и проявлять эрекцию\n",
      "- Если женщина перестаёт мыть посуду, то мужик перестаёт забивать гвозди, вкручивать лампочки и проявлять эрекцию\n",
      "- Если женщина перестаёт мыть посуду, то мужчина перестает забивать гвозди, вкручивать лампочки и проявлять эрекцию\n",
      "- Если женщина перестает мыть посуду, то мужчина перестаёт забивать гвозди, вкручивать лампочки и проявлять эрекцию.\n",
      "- Если женщина перестает мыть посуду, то мужик перестаёт забивать гвозди, вкручивать лампочки и проявлять эрекцию\n",
      "- Если женщина перестаёт мыть посуду, то мужчина перестаёт забивать гвозди и вкручивать лампочки\n",
      "- Если баба перестаёт мыть посуду, то мужик перестаёт забивать гвозди, вкручивать лампочки и проявлять эрекцию\n",
      "---> Если женщина перестает мыть посуду, то мужчина перестаёт забивать гвозди, вкручивать лампочки и проявлять эрекцию.\n"
     ]
    },
    {
     "name": "stderr",
     "output_type": "stream",
     "text": [
      " 34%|███▎      | 269/800 [01:40<03:27,  2.55it/s]"
     ]
    },
    {
     "name": "stdout",
     "output_type": "stream",
     "text": [
      "сдурели? путин вас в жопу выебет\n",
      "- Путин вас накажет\n",
      "- Плохие вы люди\n",
      "- Вы сошли с ума\n",
      "- С ума сошли? Путин вас накажет\n",
      "- Плохой вы человек\n",
      "- С ума сошли\n",
      "- Что вы натворили\n",
      "- Вы сошли с ума?\n",
      "- С ума сошли? путин вас накажет\n",
      "- Что вы натворили?\n",
      "---> С ума сошли? путин вас накажет\n"
     ]
    },
    {
     "name": "stderr",
     "output_type": "stream",
     "text": [
      " 34%|███▍      | 270/800 [01:40<03:21,  2.63it/s]"
     ]
    },
    {
     "name": "stdout",
     "output_type": "stream",
     "text": [
      "надо расстреливать тех, кто говорит про пандемию.\n",
      "- Надо наказывать тех кто говорит про пандемию\n",
      "- Надо наказывать тех, кто говорит про пандемию\n",
      "- надо наказывать тех, кто говорит про пандемию\n",
      "- надо наказывать тех, кто говорит про пандемию.\n",
      "- надо наказывать тех кто говорит про пандемию\n",
      "- Надо наказать тех кто говорит про пандемию\n",
      "- Надо наказывать тех кто говорит про пандемию.\n",
      "- Надо наказывать тех, кто говорит про пандемию.\n",
      "- Надо наказать тех, кто говорит про пандемию\n",
      "- надо наказывать тех кто говорит про пандемию.\n",
      "---> Надо наказывать тех, кто говорит про пандемию.\n"
     ]
    },
    {
     "name": "stderr",
     "output_type": "stream",
     "text": [
      " 34%|███▍      | 271/800 [01:41<03:05,  2.85it/s]"
     ]
    },
    {
     "name": "stdout",
     "output_type": "stream",
     "text": [
      "иди соси , а сюда не лезь...\n",
      "- Не лезь сюда\n",
      "- Иди отсюда\n",
      "- иди отсюда\n",
      "- Иди сюда\n",
      "- не лезь сюда\n",
      "- Уходи\n",
      "- иди сюда\n",
      "- А сюда не лезь\n",
      "- Иди, а сюда не лезь\n",
      "- Иди сюда не лезь\n",
      "---> Иди, а сюда не лезь\n"
     ]
    },
    {
     "name": "stderr",
     "output_type": "stream",
     "text": [
      " 34%|███▍      | 272/800 [01:41<03:00,  2.92it/s]"
     ]
    },
    {
     "name": "stdout",
     "output_type": "stream",
     "text": [
      "и к чему это? админ ты ебучий провокатор\n",
      "- и к чему это?\n",
      "- И к чему это? Админ ты провокатор\n",
      "- и к чему это? ты провокатор\n",
      "- И к чему это?админ ты провокатор\n",
      "- И к чему это? Админ ты плохой человек\n",
      "- И к чему это? Админ ты нехороший человек\n",
      "- И к чему это? Ты провокатор\n",
      "- И к чему это?админ ты нехороший человек\n",
      "- К чему это? Админ ты провокатор\n",
      "- И к чему это?админ ты плохой провокатор\n",
      "---> И к чему это? Админ ты нехороший человек\n"
     ]
    },
    {
     "name": "stderr",
     "output_type": "stream",
     "text": [
      " 34%|███▍      | 273/800 [01:41<02:55,  3.00it/s]"
     ]
    },
    {
     "name": "stdout",
     "output_type": "stream",
     "text": [
      "мы любим белорусов и вместе будем уничтожать мразей как ты, вражина\n",
      "- мы любим белорусов и вместе будем уничтожать\n",
      "- мы любим белорусов и вместе будем их уничтожать\n",
      "- Мы любим белорусов и вместе будем уничтожать\n",
      "- Мы любим белорусов и вместе будем их уничтожать\n",
      "- Мы любим белорусов и вместе будем уничтожать врагов\n",
      "- Мы любим белорусов и вместе будем уничтожать людей\n",
      "- Мы любим белорусов и вместе будем уничтожать плохих людей\n",
      "- Мы любим белорусов и вместе будем уничтожать их\n",
      "- мы любим белорусов и вместе будем наказывать\n",
      "- мы любим белорусов и вместе будем уничтожать как ты\n",
      "---> Мы любим белорусов и вместе будем уничтожать плохих людей\n"
     ]
    },
    {
     "name": "stderr",
     "output_type": "stream",
     "text": [
      " 34%|███▍      | 274/800 [01:42<03:01,  2.90it/s]"
     ]
    },
    {
     "name": "stdout",
     "output_type": "stream",
     "text": [
      "на хуй мне брать говно протухшее ещё и за деньги? ты падаль и подбираешь падаль хуесос\n",
      "- Зачем мне брать протухшее ещё и за деньги?\n",
      "- Зачем мне брать плохое протухшее ещё и за деньги?\n",
      "- Мне не нужен этот мусор\n",
      "- зачем мне брать протухшее ещё и за деньги?\n",
      "- Зачем мне брать протухшее ещё и за деньги\n",
      "- Мне не нужно брать протухшее ещё и за деньги?\n",
      "- Нафиг мне брать протухшее ещё и за деньги?\n",
      "- Мне не надо брать протухшее ещё и за деньги?\n",
      "- Мне не нужно брать протухшее ещё и за деньги\n",
      "- Зачем мне брать протухшее еще и за деньги?\n",
      "---> Зачем мне брать плохое протухшее ещё и за деньги?\n"
     ]
    },
    {
     "name": "stderr",
     "output_type": "stream",
     "text": [
      " 34%|███▍      | 275/800 [01:42<02:56,  2.97it/s]"
     ]
    },
    {
     "name": "stdout",
     "output_type": "stream",
     "text": [
      "вам пидорам инет все простит.глумись дальше тварь\n",
      "- вам интернет все простит\n",
      "- вам инет все простит\n",
      "- Вам интернет все простит\n",
      "- Интернет все простит\n",
      "- Вам интернет всё простит\n",
      "- вам инет все простит.\n",
      "- Вам интернет простит\n",
      "- вам интернет все простит.глумись дальше\n",
      "- вам интернет все простит.глумись\n",
      "- вам инет все простит.глумись\n",
      "---> вам интернет все простит.глумись дальше\n"
     ]
    },
    {
     "name": "stderr",
     "output_type": "stream",
     "text": [
      " 34%|███▍      | 276/800 [01:42<02:49,  3.08it/s]"
     ]
    },
    {
     "name": "stdout",
     "output_type": "stream",
     "text": [
      "тварь жаль закон слишком мягок к таким.\n",
      "- Жаль закон слишком мягок к таким\n",
      "- Жаль закон слишком мягок\n",
      "- жаль закон слишком мягок к таким\n",
      "- Плохо закон слишком мягок к таким\n",
      "- Жаль закон слишком мягок к таким.\n",
      "- Жалко закон слишком мягок к таким\n",
      "- Жаль закон слишком мягкий к таким\n",
      "- жалко закон слишком мягок к таким\n",
      "- жаль закон слишком мягок\n",
      "- жаль закон слишком мягок к таким.\n",
      "---> жаль закон слишком мягок к таким.\n"
     ]
    },
    {
     "name": "stderr",
     "output_type": "stream",
     "text": [
      " 35%|███▍      | 277/800 [01:43<02:54,  2.99it/s]"
     ]
    },
    {
     "name": "stdout",
     "output_type": "stream",
     "text": [
      "народ это просто пиздец какой то,суворов нервно курит.\n",
      "- народ это просто ужас какой то,суворов нервно курит\n",
      "- народ это просто ужас какой то, Суворов нервно курит\n",
      "- Народ это просто ужас какой то, Суворов нервно курит\n",
      "- Народ это просто ужас какой-то, Суворов нервно курит\n",
      "- народ это просто кошмар какой то,суворов нервно курит\n",
      "- Народ это просто кошмар какой-то, Суворов нервно курит\n",
      "- Народ это просто кошмар какой то, Суворов нервно курит\n",
      "- народ это просто кошмар какой то, Суворов нервно курит\n",
      "- народ это просто кошмар какой-то, Суворов нервно курит\n",
      "- народ это просто ужас какой-то, Суворов нервно курит\n",
      "---> народ это просто кошмар какой-то, Суворов нервно курит\n"
     ]
    },
    {
     "name": "stderr",
     "output_type": "stream",
     "text": [
      " 35%|███▍      | 278/800 [01:43<02:52,  3.03it/s]"
     ]
    },
    {
     "name": "stdout",
     "output_type": "stream",
     "text": [
      "рвать флаг которому ты присягал это предательство урод он и чмо!!! 8oi 👎\n",
      "- Рвать флаг которому ты присягал это предательство\n",
      "- Наказать его\n",
      "- Наказать предателя\n",
      "- Предатель он и плохой человек\n",
      "- Наказать этого человека\n",
      "- Рвать флаг, которому ты присягал это предательство\n",
      "- Рвать флаг этому человеку\n",
      "- Рвать флаг которому ты присягнул это предательство\n",
      "- Предатель он и нехороший человек\n",
      "- Предатель он и плохой\n",
      "---> Рвать флаг которому ты присягнул это предательство\n"
     ]
    },
    {
     "name": "stderr",
     "output_type": "stream",
     "text": [
      " 35%|███▍      | 279/800 [01:43<02:48,  3.09it/s]"
     ]
    },
    {
     "name": "stdout",
     "output_type": "stream",
     "text": [
      "ну держись гоожопые а я побежал\n",
      "- Ну держись, а я побежал\n",
      "- Ну держись а я побежал\n",
      "- ну держись а я побежал\n",
      "- ну держись гоожопые а я побежал\n",
      "- ну держись, а я побежал\n",
      "- Ну держись гоожопые а я побежал\n",
      "- Ну держись, я побежал\n",
      "- Ну держись, а я убежал\n",
      "- Ну держись а я убежал\n",
      "- Ну держись,а я побежал\n",
      "---> Ну держись гоожопые а я побежал\n"
     ]
    },
    {
     "name": "stderr",
     "output_type": "stream",
     "text": [
      " 35%|███▌      | 280/800 [01:44<02:39,  3.27it/s]"
     ]
    },
    {
     "name": "stdout",
     "output_type": "stream",
     "text": [
      "о чем можно с пидарасней говорит\n",
      "- о чем можно с ними говорить\n",
      "- О чем можно с ними говорить\n",
      "- О чем можно с ним говорить\n",
      "- о чем можно с ним говорить\n",
      "- о чем можно с ними говорит\n",
      "- О чем можно говорить с ними\n",
      "- о чем можно с ним говорит\n",
      "- О чем можно с ними говорит\n",
      "- О чем можно говорить с таким человеком\n",
      "- О чем можно говорить с таким человеком?\n",
      "---> О чем можно говорить с таким человеком?\n"
     ]
    },
    {
     "name": "stderr",
     "output_type": "stream",
     "text": [
      " 35%|███▌      | 281/800 [01:44<03:00,  2.87it/s]"
     ]
    },
    {
     "name": "stdout",
     "output_type": "stream",
     "text": [
      "И ему даже дали по ебалу и чё? Он с красным лицом пошел дальше пранковать.\n",
      "- И ему даже дали по лицу и что? Он с красным лицом пошёл дальше пранковать\n",
      "- И ему даже дали по лицу\n",
      "- И ему даже дали по лицу и что? Он с красным лицом пошел дальше пранковать\n",
      "- И ему даже дали по лицу и чё? Он с красным лицом пошёл дальше пранковать\n",
      "- И ему даже дали по лицу и чего? Он с красным лицом пошёл дальше пранковать\n",
      "- И ему даже дали по лицу и чё? Он с красным лицом пошел дальше пранковать\n",
      "- И ему даже дали по лицу и что? Он с красным лицом пошёл дальше пранковать.\n",
      "- И ему даже дали по лицу и чего? Он с красным лицом пошел дальше пранковать\n",
      "- И ему даже дали по лицу и что? Он с красным лицом пошёл дальше портить\n",
      "- И ему даже дали по лицу и че? Он с красным лицом пошёл дальше пранковать\n",
      "---> И ему даже дали по лицу и чего? Он с красным лицом пошел дальше пранковать\n"
     ]
    },
    {
     "name": "stderr",
     "output_type": "stream",
     "text": [
      " 35%|███▌      | 282/800 [01:44<03:13,  2.67it/s]"
     ]
    },
    {
     "name": "stdout",
     "output_type": "stream",
     "text": [
      ":-d﻿:-d﻿:-d﻿ ой бляя во дает блоханосец\n",
      "- :-d﻿:-d﻿:-d﻿\n",
      "- Ой во дает\n",
      "- :d﻿:-d﻿:-d﻿\n",
      "- Ой, во дает\n",
      "- Ой во даёт\n",
      "- Ой плохой человек\n",
      "- Ой, во даёт\n",
      "- Ай да человек\n",
      "- -d﻿:-d﻿:-d﻿\n",
      "- :-d﻿:-d﻿:-d﻿ ой нехороший человек\n",
      "---> :-d﻿:-d﻿:-d﻿ ой нехороший человек\n"
     ]
    },
    {
     "name": "stderr",
     "output_type": "stream",
     "text": [
      " 35%|███▌      | 283/800 [01:45<03:17,  2.61it/s]"
     ]
    },
    {
     "name": "stdout",
     "output_type": "stream",
     "text": [
      "пидор, еслиб ты жил в германии то не прятался под непонятно чем\n",
      "- если бы ты жил в германии то не прятался под непонятно чем\n",
      "- Если бы ты жил в германии, то не прятался под непонятно чем\n",
      "- Если бы ты жил в Германии, то не прятался под непонятно чем\n",
      "- еслиб ты жил в германии то не прятался под непонятно чем\n",
      "- Если бы ты жил в германии то не прятался под непонятно чем\n",
      "- Если бы ты жил в Германии то не прятался под непонятно чем\n",
      "- Если бы ты жил в германии,то не прятался под непонятно чем\n",
      "- Если бы ты жил в германии, то не прятался под непонятным чем\n",
      "- Если бы ты жил в Германии, то не прятался под непонятным чем\n",
      "- Если бы ты жил в германии, то не прятался под непонятными вещами\n",
      "---> Если бы ты жил в германии, то не прятался под непонятными вещами\n"
     ]
    },
    {
     "name": "stderr",
     "output_type": "stream",
     "text": [
      " 36%|███▌      | 284/800 [01:45<02:57,  2.91it/s]"
     ]
    },
    {
     "name": "stdout",
     "output_type": "stream",
     "text": [
      "он пиздабол! гнать его в шею.\n",
      "- Он плохой человек\n",
      "- Он обманщик\n",
      "- он плохой человек\n",
      "- Он не хороший человек\n",
      "- он обманщик\n",
      "- Он болтун\n",
      "- он не хороший человек\n",
      "- Он лгун\n",
      "- он обманщик!\n",
      "- Он плохой человек.\n",
      "---> он не хороший человек\n"
     ]
    },
    {
     "name": "stderr",
     "output_type": "stream",
     "text": [
      " 36%|███▌      | 285/800 [01:46<03:21,  2.55it/s]"
     ]
    },
    {
     "name": "stdout",
     "output_type": "stream",
     "text": [
      "Ты послушай его речуги, когда он пытается выдавить от себя что-то а не заученные шутейки\n",
      "- Ты послушай его речуги, когда он пытается выдавить из себя что-то\n",
      "- Ты послушай его речи, когда он пытается выдавить из себя что-то\n",
      "- Ты послушай его речуги\n",
      "- Ты послушай его речуги, когда он пытается выдавить от себя что-то\n",
      "- Ты послушай его речуги, когда он пытается выдавить из себя что-то а не заученные шутки\n",
      "- Ты послушай его речи, когда он пытается выдавить от себя что-то\n",
      "- Ты послушай его речи, когда он пытается выдавить что-то\n",
      "- Ты послушай его речуги, когда он пытается выдавить что-то\n",
      "- Ты послушай его речуги, когда он пытается выдавить от себя что-то а не заученные шутки\n",
      "- Ты послушай его речь, когда он пытается выдавить из себя что-то\n",
      "---> Ты послушай его речуги, когда он пытается выдавить от себя что-то а не заученные шутки\n"
     ]
    },
    {
     "name": "stderr",
     "output_type": "stream",
     "text": [
      " 36%|███▌      | 286/800 [01:46<03:27,  2.48it/s]"
     ]
    },
    {
     "name": "stdout",
     "output_type": "stream",
     "text": [
      "мозги и не выкладывайте таких дебилов в ютюб и т.д\n",
      "- мозги и не выкладывайте таких людей в ютюб и т.д\n",
      "- мозги и не выкладывайте их в ютюб и т.д\n",
      "- мозги и не выкладывайте таких людей в ютюб\n",
      "- мозги и не выкладывайте таких в ютюб и т.д\n",
      "- мозги и не выкладывайте их в ютюб\n",
      "- мозги и не выкладывайте таких в ютюб\n",
      "- Не выкладывайте их в ютюб\n",
      "- мозги и не выкладывайте в ютюб и т.д\n",
      "- Мозги и не выкладывайте таких людей в ютюб и т.д\n",
      "- не выкладывайте таких людей в ютюб и т.д\n",
      "---> Мозги и не выкладывайте таких людей в ютюб и т.д\n"
     ]
    },
    {
     "name": "stderr",
     "output_type": "stream",
     "text": [
      " 36%|███▌      | 287/800 [01:46<03:28,  2.46it/s]"
     ]
    },
    {
     "name": "stdout",
     "output_type": "stream",
     "text": [
      "Да и факты ебанутые (типа первый факт: Железный человек - Тони Старк\n",
      "- Да и факты странные\n",
      "- Да и факты странные (типа первый факт: Железный человек - Тони Старк\n",
      "- Да и факты странные (типа первый факт Железный человек - Тони Старк\n",
      "- Да и факты странные, типа первый факт Железный человек - Тони Старк\n",
      "- Да и факты непонятные\n",
      "- Да и факты странные, типа первый факт: Железный человек - Тони Старк\n",
      "- Да и факты необычные\n",
      "- да и факты странные (типа первый факт: Железный человек - Тони Старк\n",
      "- Да и факты непонятные (типа первый факт: Железный человек - Тони Старк\n",
      "- Да и факты странные (типа первый факт - Железный человек - Тони Старк\n",
      "---> Да и факты непонятные (типа первый факт: Железный человек - Тони Старк\n"
     ]
    },
    {
     "name": "stderr",
     "output_type": "stream",
     "text": [
      " 36%|███▌      | 288/800 [01:47<03:20,  2.56it/s]"
     ]
    },
    {
     "name": "stdout",
     "output_type": "stream",
     "text": [
      "во тунеядцам делать не хуй....по (понятиям) живут фраера....\n",
      "- по понятиям живут\n",
      "- По понятиям живут люди\n",
      "- По понятиям живут\n",
      "- по понятиям живут люди\n",
      "- Им делать нечего\n",
      "- Они бездельники\n",
      "- Им делать нечего, по понятиям живут\n",
      "- По понятиям живут.\n",
      "- Им делать нечего. По понятиям живут\n",
      "- Им делать нечего,по понятиям живут\n",
      "---> Им делать нечего. По понятиям живут\n"
     ]
    },
    {
     "name": "stderr",
     "output_type": "stream",
     "text": [
      " 36%|███▌      | 289/800 [01:47<03:34,  2.39it/s]"
     ]
    },
    {
     "name": "stdout",
     "output_type": "stream",
     "text": [
      "ты ,уёбок путинский, какой ты десантник? куда ты лезешь? в своей стране что творится, по сути россию уничтожили\n",
      "- Какой ты десантник? Куда ты лезешь? в своей стране что творится\n",
      "- Какой ты десантник? Куда лезешь? В своей стране что творится\n",
      "- Какой ты десантник? Куда ты лезешь? В своей стране что творится\n",
      "- Какой ты десантник? Куда лезешь? в своей стране что творится\n",
      "- Какой ты десантник? Куда ты лезешь? в своей стране что творится, по сути россию уничтожили\n",
      "- Какой ты десантник? Куда лезешь? в своей стране что творится, по сути россию уничтожили\n",
      "- Какой ты десантник? Куда лезешь? В своей стране что творится?\n",
      "- Какой ты десантник? Куда лезешь? В своей стране что творится, по сути Россию уничтожили\n",
      "- Какой ты десантник? Куда ты лезешь? В своей стране что творится, по сути Россию уничтожили\n",
      "- Какой ты десантник? Куда ты лезешь? В своей стране что творится?\n",
      "---> Какой ты десантник? Куда ты лезешь? В своей стране что творится, по сути Россию уничтожили\n"
     ]
    },
    {
     "name": "stderr",
     "output_type": "stream",
     "text": [
      " 36%|███▋      | 290/800 [01:48<03:26,  2.47it/s]"
     ]
    },
    {
     "name": "stdout",
     "output_type": "stream",
     "text": [
      "автор ебанько не как не может на хволится этой фотографией.\n",
      "- автор не как не может на хволится этой фотографией\n",
      "- Автор не может успокоиться этой фотографией\n",
      "- автор не как не может на хволится этой фотографией.\n",
      "- Автор не как не может на это решиться\n",
      "- Автор не как не может на это реагировать\n",
      "- Автор не как не может на это смотреть\n",
      "- Автор не как не может на это отреагировать\n",
      "- автор не как не может на это решиться\n",
      "- автор не как не может на  неволится этой фотографией\n",
      "- автор не как не может на хволится этим фотографией\n",
      "---> автор не как не может на  неволится этой фотографией\n"
     ]
    },
    {
     "name": "stderr",
     "output_type": "stream",
     "text": [
      " 36%|███▋      | 291/800 [01:48<03:40,  2.31it/s]"
     ]
    },
    {
     "name": "stdout",
     "output_type": "stream",
     "text": [
      "Сами же вчера еще проигрывали с ватных ВР ТИ, а сегодня сами той же хуйней занялись\n",
      "- сами же вчера еще проигрывали с ватных ВР ТИ\n",
      "- сами же вчера еще проигрывали с ватных ВР ТИ, а сегодня сами той же ерундой занялись\n",
      "- сами же вчера ещё проигрывали с ватных ВР ТИ\n",
      "- сами же вчера ещё проигрывали с ватных ВР ТИ, а сегодня сами той же ерундой занялись\n",
      "- Сами же вчера ещё проигрывали с ватных ВР ТИ, а сегодня сами той же ерундой занялись\n",
      "- сами же вчера еще проигрывали с ватных ВР ТИ, а сегодня сами той же фигней занялись\n",
      "- Сами же вчера еще проигрывали с ватных ВР ТИ, а сегодня сами той же ерундой занялись\n",
      "- сами же вчера еще проигрывали с ватных ВР ТИ, а сегодня сами той же ошибкой занялись\n",
      "- сами же вчера еще проигрывали с ВР ТИ, а сегодня сами той же ерундой занялись\n",
      "- сами же вчера ещё проигрывали с ватных ВР ТИ, а сегодня сами той же фигней занялись\n",
      "---> сами же вчера еще проигрывали с ватных ВР ТИ, а сегодня сами той же ошибкой занялись\n"
     ]
    },
    {
     "name": "stderr",
     "output_type": "stream",
     "text": [
      " 36%|███▋      | 292/800 [01:49<03:20,  2.53it/s]"
     ]
    },
    {
     "name": "stdout",
     "output_type": "stream",
     "text": [
      "кто заслужил отношение как к блядям , те поймут\n",
      "- Кто заслужил отношение как к людям, те поймут\n",
      "- кто заслужил отношение как к людям, те поймут\n",
      "- Кто заслужил отношение, те поймут\n",
      "- кто заслужил отношение как к людям, те поймут\n",
      "- кто заслужил отношение как к плохим людям, те поймут\n",
      "- Кто заслужил отношение как к людям, те поймут\n",
      "- Кто заслужил отношение как к плохим людям, те поймут\n",
      "- кто заслужил отношение как к плохим людям, те поймут\n",
      "- кто заслужил отношение, те поймут\n",
      "- кто заслужил отношение как к плохим, те поймут\n",
      "---> кто заслужил отношение как к плохим людям, те поймут\n"
     ]
    },
    {
     "name": "stderr",
     "output_type": "stream",
     "text": [
      " 37%|███▋      | 293/800 [01:49<03:11,  2.65it/s]"
     ]
    },
    {
     "name": "stdout",
     "output_type": "stream",
     "text": [
      "ворюги получили дохуя!! а народ ни хуя\n",
      "- Воры получили много, а народ ничего\n",
      "- а народ ничего\n",
      "- ворюги получили много!! а народ ничего\n",
      "- ворюги получили много!! а народ ни чего\n",
      "- ворюги получили очень много!! а народ ничего\n",
      "- Воры получили очень много, а народ ничего\n",
      "- ворюги получили дохуя!! а народ ни чего\n",
      "- а народ ни чего\n",
      "- ворюги получили дохуя!! а народ ничего\n",
      "- Получили много, а народ ничего\n",
      "---> ворюги получили очень много!! а народ ничего\n"
     ]
    },
    {
     "name": "stderr",
     "output_type": "stream",
     "text": [
      " 37%|███▋      | 294/800 [01:49<02:58,  2.84it/s]"
     ]
    },
    {
     "name": "stdout",
     "output_type": "stream",
     "text": [
      "Как будто хохлики что-то там решают.\n",
      "- Как будто украинцы что-то там решают\n",
      "- как будто украинцы что-то там решают\n",
      "- Как будто украинцы что то там решают\n",
      "- как будто украинцы что то там решают\n",
      "- Как будто украинцы что-то там решают.\n",
      "- как будто украинцы что-то там решают.\n",
      "- Как будто украинцы что то там решают.\n",
      "- как будто украинцы что то там решают.\n",
      "- Как будто украинцы что-то решают\n",
      "- Они что-то там решают\n",
      "---> как будто украинцы что то там решают.\n"
     ]
    },
    {
     "name": "stderr",
     "output_type": "stream",
     "text": [
      " 37%|███▋      | 295/800 [01:50<03:19,  2.53it/s]"
     ]
    },
    {
     "name": "stdout",
     "output_type": "stream",
     "text": [
      "сам ты пидор гнойный, научись с людьми разговаривать, ты на сайте не выеживайся, не зная человека\n",
      "- Научись с людьми разговаривать\n",
      "- сам ты плохой, научись с людьми разговаривать, ты на сайте не выеживайся, не зная человека\n",
      "- Ты плохой человек, научись с людьми разговаривать\n",
      "- сам ты плохой человек, научись с людьми разговаривать, ты на сайте не выеживайся, не зная человека\n",
      "- учись с людьми разговаривать\n",
      "- Сам ты плохой человек, научись с людьми разговаривать\n",
      "- учись с людьми разговаривать, ты на сайте не выеживайся, не зная человека\n",
      "- ты плохой человек, научись с людьми разговаривать, ты на сайте не выеживайся, не зная человека\n",
      "- сам ты плохой человек, научись с людьми разговаривать\n",
      "- Сам ты плохой человек, научись с людьми разговаривать, ты на сайте не выеживайся, не зная человека\n",
      "---> Сам ты плохой человек, научись с людьми разговаривать, ты на сайте не выеживайся, не зная человека\n"
     ]
    },
    {
     "name": "stderr",
     "output_type": "stream",
     "text": [
      " 37%|███▋      | 296/800 [01:50<03:10,  2.65it/s]"
     ]
    },
    {
     "name": "stdout",
     "output_type": "stream",
     "text": [
      "а когда своим нужна помощь пускай хер сосут , молодец вова.\n",
      "- а когда своим нужна помощь пусть не лезут\n",
      "- а когда своим нужна помощь пусть молчат\n",
      "- а когда своим нужна помощь пускай молчат\n",
      "- а когда своим нужна помощь пускай не лезут\n",
      "- А когда своим нужна помощь пусть не лезут\n",
      "- а когда своим нужна помощь пусть ждут\n",
      "- а когда своим нужна помощь пусть не надеются\n",
      "- а когда своим нужна помощь пусть не беспокоятся\n",
      "- а когда своим нужна помощь пусть молчат, молодец вова\n",
      "- а когда своим нужна помощь пускай молчат, молодец вова\n",
      "---> а когда своим нужна помощь пускай молчат, молодец вова\n"
     ]
    },
    {
     "name": "stderr",
     "output_type": "stream",
     "text": [
      " 37%|███▋      | 297/800 [01:50<02:56,  2.86it/s]"
     ]
    },
    {
     "name": "stdout",
     "output_type": "stream",
     "text": [
      "пошла на хер со своим гарантом дура👎👎👎\n",
      "- Уйди со своим гарантом\n",
      "- Отстань со своим гарантом\n",
      "- Уходи со своим гарантом\n",
      "- Надоела со своим гарантом\n",
      "- Пошла со своим гарантом\n",
      "- Уйди с моим гарантом\n",
      "- Отстань от своего гаранта\n",
      "- Не нужен мне ваш гарант\n",
      "- Со своим гарантом не связывайся\n",
      "- Со своим гарантом лучше не связываться\n",
      "---> Со своим гарантом лучше не связываться\n"
     ]
    },
    {
     "name": "stderr",
     "output_type": "stream",
     "text": [
      " 37%|███▋      | 298/800 [01:51<03:01,  2.77it/s]"
     ]
    },
    {
     "name": "stdout",
     "output_type": "stream",
     "text": [
      "ебанутая на голову,99% в россии рожают и так себя не видут.\n",
      "- 99% в россии рожают и так себя не видут\n",
      "- в России рожают и так себя не видут\n",
      "- В России рожают и так себя не видут\n",
      "- В России рожают и так себя не видят\n",
      "- 99% в россии рожают и так себя не видут.\n",
      "- 99% в России рожают и так себя не видут\n",
      "- в россии рожают и так себя не видут\n",
      "- в России рожают и так себя не видут.\n",
      "- На голову 99% в России рожают и так себя не видут\n",
      "- в россии рожают и так себя не видут.\n",
      "---> На голову 99% в России рожают и так себя не видут\n"
     ]
    },
    {
     "name": "stderr",
     "output_type": "stream",
     "text": [
      " 37%|███▋      | 299/800 [01:51<03:07,  2.68it/s]"
     ]
    },
    {
     "name": "stdout",
     "output_type": "stream",
     "text": [
      "какой идиот это составил? а я еще больший идиот, поскольку отвлекаюсь на эту ху..ю!\n",
      "- какой идиот это составил? а я еще больший идиот, поскольку отвлекаюсь\n",
      "- кто это составил? а я еще больший идиот, поскольку отвлекаюсь\n",
      "- какой идиот это составил? а я еще больший, поскольку отвлекаюсь\n",
      "- какой идиот это составил? а я еще больший дурак, поскольку отвлекаюсь\n",
      "- какой идиот это составил? а я еще больший глупец, поскольку отвлекаюсь\n",
      "- Кто это составил? А я ещё больший идиот, поскольку отвлекаюсь\n",
      "- Кто это составил? А я еще больший идиот, поскольку отвлекаюсь\n",
      "- какой глупый это составил? а я еще больший идиот, поскольку отвлекаюсь\n",
      "- какой человек это составил? а я еще больший идиот, поскольку отвлекаюсь\n",
      "- какой глупый это составил? а я еще больший глупец, поскольку отвлекаюсь\n",
      "---> какой глупый это составил? а я еще больший глупец, поскольку отвлекаюсь\n"
     ]
    },
    {
     "name": "stderr",
     "output_type": "stream",
     "text": [
      " 38%|███▊      | 300/800 [01:51<03:10,  2.63it/s]"
     ]
    },
    {
     "name": "stdout",
     "output_type": "stream",
     "text": [
      "зато про ефремова алкаша все каналы заебали хвалить\n",
      "- зато про него все каналы заебали хвалить\n",
      "- зато про него все каналы забыли хвалить\n",
      "- зато про ефремова все каналы заебали хвалить\n",
      "- Зато про него все каналы надоели хвалить\n",
      "- зато про него все каналы испортили хвалить\n",
      "- зато про ефремова все каналы надоели хвалить\n",
      "- зато про ефремова все каналы забыли хвалить\n",
      "- зато про ефремова все каналы замучили хвалить\n",
      "- зато про ефремова все каналы замучали хвалить\n",
      "- зато про ефремова алкаша все каналы заебали хвалить\n",
      "---> зато про ефремова алкаша все каналы заебали хвалить\n"
     ]
    },
    {
     "name": "stderr",
     "output_type": "stream",
     "text": [
      " 38%|███▊      | 301/800 [01:52<02:52,  2.89it/s]"
     ]
    },
    {
     "name": "stdout",
     "output_type": "stream",
     "text": [
      "нахуй тогда пишет колхоз или нет долбоёбы\n",
      "- Зачем тогда пишет колхоз или нет\n",
      "- Зачем тогда пишет колхоз\n",
      "- Зачем тогда пишет колхоз?\n",
      "- Зачем тогда пишет колхоз или нет?\n",
      "- зачем тогда пишет колхоз или нет\n",
      "- Зачем тогда пишет этот человек\n",
      "- Зачем тогда пишет колхоз?\n",
      "- нафиг тогда пишет колхоз или нет\n",
      "- Зачем тогда пишет  колхоз или нет\n",
      "- Зачем тогда пишет колхоз,\n",
      "---> Зачем тогда пишет  колхоз или нет\n"
     ]
    },
    {
     "name": "stderr",
     "output_type": "stream",
     "text": [
      " 38%|███▊      | 302/800 [01:52<02:57,  2.80it/s]"
     ]
    },
    {
     "name": "stdout",
     "output_type": "stream",
     "text": [
      "Левада еще может адекватно такой объем анализировать, подзалупным оркам такие технологии недоступны\n",
      "- Левада еще может адекватно такой объем анализировать\n",
      "- Левада ещё может адекватно такой объем анализировать\n",
      "- Левада может адекватно такой объем анализировать\n",
      "- Левада еще может адекватно такой объём анализировать\n",
      "- Левада ещё может адекватно такой объём анализировать\n",
      "- Левада может адекватно такой объём анализировать\n",
      "- Левада еще может адекватно такой объем анализировать\n",
      "- Левада ещё может адекватно такой объем анализировать\n",
      "- Левада еще может адекватно такой объем анализировать, им такие технологии недоступны\n",
      "- Левада еще может адекватно такой объем анализировать.\n",
      "---> Левада еще может адекватно такой объем анализировать, им такие технологии недоступны\n"
     ]
    },
    {
     "name": "stderr",
     "output_type": "stream",
     "text": [
      " 38%|███▊      | 303/800 [01:53<04:01,  2.06it/s]"
     ]
    },
    {
     "name": "stdout",
     "output_type": "stream",
     "text": [
      "вспоминается на ум одна фраза(сказочный долбоёб,зачем его только из больницы выписали)так и здесь,очевидное невероятное🤷‍♂️\n",
      "- Вспоминается на ум одна фраза, зачем его только из больницы выписали\n",
      "- вспоминается на ум одна фраза(сказочный человек,зачем его только из больницы выписали)так и здесь,очевидное невероятное\n",
      "- вспоминается на ум одна фраза(сказочный человек,зачем его только из больницы выписали)так и здесь,очевидное невероятное🤷‍♂️\n",
      "- Вспоминается на ум одна фраза\n",
      "- Вспоминается на ум одна фраза. Зачем его только из больницы выписали\n",
      "- вспоминается на ум одна фраза\n",
      "- вспоминается на ум одна фраза(сказочный человек,зачем его только из больницы выписали\n",
      "- вспоминается на ум одна фраза, зачем его только из больницы выписали\n",
      "- вспоминается на ум одна фраза(сказочный человек,зачем его только из больницы выписали)так и здесь\n",
      "- Вспоминается на ум одна фраза(сказочный человек,зачем его только из больницы выписали)так и здесь,очевидное невероятное🤷‍♂️\n",
      "---> Вспоминается на ум одна фраза(сказочный человек,зачем его только из больницы выписали)так и здесь,очевидное невероятное🤷‍♂️\n"
     ]
    },
    {
     "name": "stderr",
     "output_type": "stream",
     "text": [
      " 38%|███▊      | 304/800 [01:53<03:43,  2.22it/s]"
     ]
    },
    {
     "name": "stdout",
     "output_type": "stream",
     "text": [
      "етттааа пздц, рухнула россия, а они ебаквакнулись\n",
      "- Это конец России\n",
      "- етттааа, рухнула россия, а они испугались\n",
      "- Ужас, рухнула Россия, а они испугались\n",
      "- Упала Россия, а они испугались\n",
      "- Ужас, рухнула Россия\n",
      "- етттааа пздц, рухнула россия, а они испугались\n",
      "- етттааа, рухнула Россия, а они испугались\n",
      "- Ужас, упала Россия, а они испугались\n",
      "- Ужас, рухнула Россия, а они ничего не сделали\n",
      "- етттааа, рухнула россия, а они ничего не сделали\n",
      "---> етттааа, рухнула россия, а они ничего не сделали\n"
     ]
    },
    {
     "name": "stderr",
     "output_type": "stream",
     "text": [
      " 38%|███▊      | 305/800 [01:54<03:30,  2.35it/s]"
     ]
    },
    {
     "name": "stdout",
     "output_type": "stream",
     "text": [
      "пока хуйло питерское в кремле сидит, нам ничего не светит!\n",
      "- пока питерское в кремле сидит, нам ничего не светит!\n",
      "- пока питерское в кремле сидит, нам ничего не светит\n",
      "- Пока Питерское правительство в кремле сидит, нам ничего не светит\n",
      "- пока Путин питерское в кремле сидит, нам ничего не светит!\n",
      "- пока Питерское правительство в кремле сидит, нам ничего не светит\n",
      "- Пока питерское в кремле сидит, нам ничего не светит\n",
      "- пока Питерское правительство в кремле сидит, нам ничего не светит!\n",
      "- пока Путин питерское в кремле сидит, нам ничего не светит\n",
      "- Пока Питерское правительство в Кремле сидит, нам ничего не светит\n",
      "- Пока Питерское правительство в кремле сидит нам ничего не светит\n",
      "---> пока Питерское правительство в кремле сидит, нам ничего не светит!\n"
     ]
    },
    {
     "name": "stderr",
     "output_type": "stream",
     "text": [
      " 38%|███▊      | 306/800 [01:54<03:26,  2.40it/s]"
     ]
    },
    {
     "name": "stdout",
     "output_type": "stream",
     "text": [
      "да нахрена их сажать? что б потом кормить с наших налогов? только растрел!!!\n",
      "- Зачем их сажать? Что б потом кормить с наших налогов\n",
      "- Зачем их сажать? Что бы потом кормить с наших налогов\n",
      "- Зачем их сажать? Что б потом кормить с наших налогов? Только наказание\n",
      "- да зачем их сажать? что б потом кормить с наших налогов\n",
      "- Да зачем их сажать? Что б потом кормить с наших налогов\n",
      "- Зачем их сажать? что б потом кормить с наших налогов\n",
      "- Зачем их сажать? Что бы потом кормить с наших налогов? Только наказание\n",
      "- Зачем их сажать? Что б потом кормить с наших налогов? Только расстрел\n",
      "- Да зачем их сажать? Что бы потом кормить с наших налогов\n",
      "- Зачем их сажать? Что б потом кормить с наших налогов?\n",
      "---> Зачем их сажать? Что бы потом кормить с наших налогов? Только наказание\n"
     ]
    },
    {
     "name": "stderr",
     "output_type": "stream",
     "text": [
      " 38%|███▊      | 307/800 [01:55<03:43,  2.21it/s]"
     ]
    },
    {
     "name": "stdout",
     "output_type": "stream",
     "text": [
      "Ясное дело норм мужика не найти, но того же амишку погромиста при бабле как нехуй.\n",
      "- Ясное дело норм мужика не найти, но того же парня при бабле как нефиг делать\n",
      "- Ясное дело норм мужика не найти, но того же амишку погромиста при бабле как нефиг делать\n",
      "- Ясное дело норм мужика не найти, но того же человека при бабле как нефиг делать\n",
      "- Ясное дело норм мужика не найти, но того же парня при бабле как не надо\n",
      "- Ясное дело норм мужика не найти, но того же бандита при бабле как нефиг делать\n",
      "- Ясное дело норм мужика не найти, но того же плохого человека при бабле как нефиг делать\n",
      "- Ясное дело норм мужика не найти, но того же амишку погромиста при бабле как нехуй.\n",
      "- Ясное дело норм мужика не найти, но того же парня при бабле как нефиг делать.\n",
      "- Ясное дело норм мужика не найти, но того же парня при бабле как не надо.\n",
      "- Ясное дело норм мужика не найти, но того же амишку погромиста при бабле как нефиг делать.\n",
      "---> Ясное дело норм мужика не найти, но того же амишку погромиста при бабле как нефиг делать.\n"
     ]
    },
    {
     "name": "stderr",
     "output_type": "stream",
     "text": [
      " 38%|███▊      | 308/800 [01:55<03:23,  2.42it/s]"
     ]
    },
    {
     "name": "stdout",
     "output_type": "stream",
     "text": [
      "И кто же тебя обоссал на этот раз, россиянец?\n",
      "- И кто же тебя обругал на этот раз\n",
      "- И кто же тебя обидел на этот раз\n",
      "- Кто же тебя обругал на этот раз\n",
      "- Кто тебя обидел\n",
      "- Кто же тебя обидел на этот раз\n",
      "- И кто же тебя оскорбил на этот раз\n",
      "- Кто тебя обидел на этот раз\n",
      "- И кто же тебя обругал на этот раз?\n",
      "- Кто же тебя оскорбил на этот раз\n",
      "- И кто же тебя обидел на этот раз?\n",
      "---> И кто же тебя обругал на этот раз?\n"
     ]
    },
    {
     "name": "stderr",
     "output_type": "stream",
     "text": [
      " 39%|███▊      | 309/800 [01:55<03:01,  2.70it/s]"
     ]
    },
    {
     "name": "stdout",
     "output_type": "stream",
     "text": [
      "пидор.с ты на кого ногу поднял.козел.\n",
      "- с ты на кого ногу поднял\n",
      "- С ты на кого ногу поднял\n",
      "- ты на кого ногу поднял\n",
      "- Ты на кого ногу поднял\n",
      "- Стыдно\n",
      "- Ты с кем разговариваешь\n",
      "- ты с кем разговариваешь\n",
      "- Ты кто\n",
      "- с ты на кого ногу поднял.\n",
      "- Ты на кого поднял\n",
      "---> с ты на кого ногу поднял.\n"
     ]
    },
    {
     "name": "stderr",
     "output_type": "stream",
     "text": [
      " 39%|███▉      | 310/800 [01:55<02:57,  2.76it/s]"
     ]
    },
    {
     "name": "stdout",
     "output_type": "stream",
     "text": [
      "сука блядь! правда философы говорили, мир это промежуток между войнами\n",
      "- Правда философы говорили, мир это промежуток между войнами\n",
      "- правда философы говорили, мир это промежуток между войнами\n",
      "- Правда философы говорили,мир это промежуток между войнами\n",
      "- Правда философы говорили мир это промежуток между войнами\n",
      "- Правда философы говорили,мир это промежуток между войнами\n",
      "- Правда, философы говорили, мир это промежуток между войнами\n",
      "- Правда философы говорили, мир это промежуток между войнами\n",
      "- Правда философы говорили. Мир это промежуток между войнами\n",
      "- Правда философы говорили, мир это промежуток между войной\n",
      "- Правда философы говорили, мир - промежуток между войнами\n",
      "---> Правда, философы говорили, мир это промежуток между войнами\n"
     ]
    },
    {
     "name": "stderr",
     "output_type": "stream",
     "text": [
      " 39%|███▉      | 311/800 [01:56<03:10,  2.56it/s]"
     ]
    },
    {
     "name": "stdout",
     "output_type": "stream",
     "text": [
      "как там тебя? пизданутая! если чо, то на фото ак-74))) даже тут ты наглухо затупила😂😂 маор х¥ева😂😂😂\n",
      "- Если что, то на фото АК-74\n",
      "- как там тебя\n",
      "- Если что, то на фото ак-74\n",
      "- Как там тебя? Если что, то на фото АК-74\n",
      "- Как там тебя\n",
      "- Если что, то на фото АК74\n",
      "- Если что, то на фото Ак-74\n",
      "- Если что, то на фото АК 74\n",
      "- как там тебя? если что, то на фото ак-74\n",
      "- если что, то на фото ак-74\n",
      "---> как там тебя? если что, то на фото ак-74\n"
     ]
    },
    {
     "name": "stderr",
     "output_type": "stream",
     "text": [
      " 39%|███▉      | 312/800 [01:56<03:12,  2.54it/s]"
     ]
    },
    {
     "name": "stdout",
     "output_type": "stream",
     "text": [
      "я ей показывал что о нас с ней пишут и скрины делают такие уебища как ты!\n",
      "- я ей показывал что о нас с ней пишут и скрины делают такие\n",
      "- Я ей показывал что о нас с ней пишут и скрины делают\n",
      "- я ей показывал что о нас с ней пишут и скрины делают\n",
      "- я ей показывал что о нас с ней пишут и скрины делают такими\n",
      "- я ей показывал что о нас с ней пишут\n",
      "- Я ей показывал что о нас пишут и скрины делают\n",
      "- Я ей показывал, что о нас с ней пишут и скрины делают\n",
      "- Я ей показывал что о нас с ней пишут и скрины делают такими\n",
      "- Я ей показывал что о нас с ней пишут и скрины делают такие\n",
      "- я ей показывал что о нас с ней пишут и скрины делают такие как ты!\n",
      "---> я ей показывал что о нас с ней пишут и скрины делают такие как ты!\n"
     ]
    },
    {
     "name": "stderr",
     "output_type": "stream",
     "text": [
      " 39%|███▉      | 313/800 [01:57<03:24,  2.38it/s]"
     ]
    },
    {
     "name": "stdout",
     "output_type": "stream",
     "text": [
      "Желательно гадить на быдло или попросту изолировать площадку от них, достучаться иными вариантами до них тяжело\n",
      "- желательно изолировать площадку от них\n",
      "- желательно наказывать или изолировать площадку от них\n",
      "- желательно не общаться с ними\n",
      "- желательно наказать или изолировать площадку от них\n",
      "- Желательно не общаться с ними\n",
      "- желательно гадить на быдло или попросту изолировать площадку от них\n",
      "- желательно изолировать площадку от них, достучаться иными вариантами\n",
      "- Желательно изолировать площадку от них\n",
      "- желательно наказать или изолировать площадку от них, достучаться иными вариантами\n",
      "- желательно гадить на людей или попросту изолировать площадку от них\n",
      "---> желательно наказать или изолировать площадку от них, достучаться иными вариантами\n"
     ]
    },
    {
     "name": "stderr",
     "output_type": "stream",
     "text": [
      " 39%|███▉      | 314/800 [01:57<03:03,  2.65it/s]"
     ]
    },
    {
     "name": "stdout",
     "output_type": "stream",
     "text": [
      "хочиш всю ночь тебя ебать буду\n",
      "- хочешь всю ночь с тобой буду\n",
      "- хочиш всю ночь тебя бить буду\n",
      "- хочешь всю ночь со мной будешь\n",
      "- хочешь всю ночь тебя бить буду\n",
      "- хочиш всю ночь меня бить\n",
      "- хочешь всю ночь меня бить\n",
      "- хочиш всю ночь со мной будешь\n",
      "- хочешь всю ночь со мной спать\n",
      "- хочиш всю ночь с тобой буду\n",
      "- хочиш всю ночь меня бить будете\n",
      "---> хочиш всю ночь меня бить будете\n"
     ]
    },
    {
     "name": "stderr",
     "output_type": "stream",
     "text": [
      " 39%|███▉      | 315/800 [01:57<02:44,  2.94it/s]"
     ]
    },
    {
     "name": "stdout",
     "output_type": "stream",
     "text": [
      "суки не хуй дразнить маму, сволочь\n",
      "- Не надо дразнить маму\n",
      "- не надо дразнить маму\n",
      "- Не нужно дразнить маму\n",
      "- нечего дразнить маму\n",
      "- не нужно дразнить маму\n",
      "- Нечего дразнить маму\n",
      "- Не надо дразниться\n",
      "- Не надо дразнить маму.\n",
      "- Не смей дразнить маму\n",
      "- Не дразните маму\n",
      "---> Не надо дразнить маму.\n"
     ]
    },
    {
     "name": "stderr",
     "output_type": "stream",
     "text": [
      " 40%|███▉      | 316/800 [01:58<02:42,  2.98it/s]"
     ]
    },
    {
     "name": "stdout",
     "output_type": "stream",
     "text": [
      "девочка при исполнении( на работе) а мужик , скорее мудак дратся лезет\n",
      "- Девочка при исполнении( на работе) а мужик лезет\n",
      "- Девочка при исполнении, а мужик лезет\n",
      "- девочка при исполнении( на работе) а мужик лезет\n",
      "- Девочка при исполнении (на работе) а мужик лезет\n",
      "- Девочка при исполнении(на работе) а мужик лезет\n",
      "- Девочка при исполнении ( на работе) а мужик лезет\n",
      "- Девочка при исполнении, а мужчина лезет\n",
      "- Девочка при исполнении, на работе, а мужик лезет\n",
      "- Девочка при исполнении на работе а мужик лезет\n",
      "- Девочка при исполнении на работе, а мужик лезет\n",
      "---> Девочка при исполнении ( на работе) а мужик лезет\n"
     ]
    },
    {
     "name": "stderr",
     "output_type": "stream",
     "text": [
      " 40%|███▉      | 317/800 [01:58<02:53,  2.79it/s]"
     ]
    },
    {
     "name": "stdout",
     "output_type": "stream",
     "text": [
      "неее так ? да похер что и как .люди вышли, на улицы\n",
      "- неее так? да наплевать что и как.люди вышли, на улицы\n",
      "- не так? да наплевать что и как.люди вышли, на улицы\n",
      "- Неее так? да наплевать что и как.люди вышли, на улицы\n",
      "- Нет, так? Люди вышли на улицы\n",
      "- не так? да все равно\n",
      "- Неее так? да плевать что и как.люди вышли, на улицы\n",
      "- Неее так? да все равно\n",
      "- неее так? да все равно\n",
      "- неее так? да наплевать что и как.люди вышли, на улицы\n",
      "- Неее так? да всё равно\n",
      "---> неее так? да наплевать что и как.люди вышли, на улицы\n"
     ]
    },
    {
     "name": "stderr",
     "output_type": "stream",
     "text": [
      " 40%|███▉      | 318/800 [01:58<02:41,  2.98it/s]"
     ]
    },
    {
     "name": "stdout",
     "output_type": "stream",
     "text": [
      "этот долбоёб задолбал уже своими сказками.\n",
      "- Этот человек достал уже своими сказками\n",
      "- он достал уже своими сказками\n",
      "- Он достал уже своими сказками\n",
      "- он надоел уже своими сказками\n",
      "- Он надоел уже своими сказками\n",
      "- Этот человек надоел\n",
      "- Этот человек надоел уже своими сказками\n",
      "- Надоел уже своими сказками\n",
      "- Он надоел\n",
      "- он достал уже своими сказками.\n",
      "---> Этот человек надоел уже своими сказками\n"
     ]
    },
    {
     "name": "stderr",
     "output_type": "stream",
     "text": [
      " 40%|███▉      | 319/800 [01:59<02:27,  3.27it/s]"
     ]
    },
    {
     "name": "stdout",
     "output_type": "stream",
     "text": [
      "хули пялишь зенки брызь под нары\n",
      "- Зачем ты так смотришь\n",
      "- Зачем ты смотришь телевизор\n",
      "- Что ты уставился\n",
      "- Зачем ты смотришь на меня\n",
      "- Почему ты так смотришь\n",
      "- Зачем смотришь на меня\n",
      "- Зачем ты смотришь в глаза\n",
      "- Что ты там смотришь\n",
      "- Почему ты так смотришь?\n",
      "- Зачем ты так смотришь?\n",
      "---> Зачем ты смотришь телевизор\n"
     ]
    },
    {
     "name": "stderr",
     "output_type": "stream",
     "text": [
      " 40%|████      | 320/800 [01:59<02:51,  2.81it/s]"
     ]
    },
    {
     "name": "stdout",
     "output_type": "stream",
     "text": [
      "не стоит он того чтоб о этой бляди так интересовались.почему о потерпевшей стороне ни хера не ясно?\n",
      "- не стоит он того чтоб о ней так интересовались.почему о потерпевшей стороне ничего не ясно?\n",
      "- не стоит он того чтоб о ней так интересовались.почему потерпевшей стороне ничего не ясно?\n",
      "- не стоит он того чтоб о ней так интересовались.почему о потерпевшей стороне ничего не ясно\n",
      "- Не стоит он того чтоб о ней так интересовались\n",
      "- не стоит он того чтоб о ней так интересовались.почему о потерпевшей стороне ни чего не ясно?\n",
      "- Не стоит он того, чтоб о ней так интересовались\n",
      "- не стоит он того чтоб о ней так интересовались.почему о потерпевшей стороне ничего не понятно?\n",
      "- не стоит он того чтоб о ней так интересовались.почему потерпевшей стороне ничего не ясно\n",
      "- не стоит он того чтоб о ней так интересовались.почему о пострадавшей стороне ничего не ясно?\n",
      "- Не стоит он того чтоб о ней так интересовались. Почему потерпевшей стороне ничего не понятно?\n",
      "---> не стоит он того чтоб о ней так интересовались.почему о потерпевшей стороне ничего не понятно?\n"
     ]
    },
    {
     "name": "stderr",
     "output_type": "stream",
     "text": [
      " 40%|████      | 321/800 [02:00<03:03,  2.61it/s]"
     ]
    },
    {
     "name": "stdout",
     "output_type": "stream",
     "text": [
      "вы пидарасы не живущие в беларуссии как вы можете что то комментировать и делать свои выводы\n",
      "- вы не живущие в беларуссии как вы можете что то комментировать и делать свои выводы\n",
      "- вы не живущие в беларуссии как вы можете что-то комментировать и делать свои выводы\n",
      "- Вы не живущие в Беларуси как вы можете что-то комментировать и делать свои выводы\n",
      "- не живущие в беларуссии как вы можете что то комментировать и делать свои выводы\n",
      "- Вы не живущие в Беларуси как вы можете что то комментировать и делать свои выводы\n",
      "- не живущие в беларуссии как вы можете что-то комментировать и делать свои выводы\n",
      "- вы не живущие в Беларуссии как вы можете что то комментировать и делать свои выводы\n",
      "- Вы не живущие в Беларуси, как вы можете что-то комментировать и делать свои выводы\n",
      "- Вы не живущие в Беларуссии как вы можете что-то комментировать и делать свои выводы\n",
      "- вы не живущие в Беларуссии как вы можете что-то комментировать и делать свои выводы\n",
      "---> вы не живущие в Беларуссии как вы можете что-то комментировать и делать свои выводы\n"
     ]
    },
    {
     "name": "stderr",
     "output_type": "stream",
     "text": [
      " 40%|████      | 322/800 [02:00<03:15,  2.44it/s]"
     ]
    },
    {
     "name": "stdout",
     "output_type": "stream",
     "text": [
      "никак суки, не нажрутся, пипец! и каждый думает, что он не попадется!\n",
      "- никак не нажрутся, и каждый думает, что он не попадется!\n",
      "- не нажрутся, и каждый думает, что он не попадется!\n",
      "- никак не нажрутся, и каждый думает, что он не попадется\n",
      "- никак не нажрутся, пипец! и каждый думает, что он не попадется!\n",
      "- Не нажрутся, и каждый думает, что он не попадётся\n",
      "- никак не нажрутся, и каждый думает, что он не попадётся!\n",
      "- не нажрутся, и каждый думает, что он не попадется\n",
      "- никак, не нажрутся, пипец! и каждый думает, что он не попадется!\n",
      "- Не нажрутся, и каждый думает, что он не попадется\n",
      "- никак, не нажрутся, и каждый думает, что он не попадется!\n",
      "---> никак, не нажрутся, пипец! и каждый думает, что он не попадется!\n"
     ]
    },
    {
     "name": "stderr",
     "output_type": "stream",
     "text": [
      " 40%|████      | 323/800 [02:01<03:36,  2.21it/s]"
     ]
    },
    {
     "name": "stdout",
     "output_type": "stream",
     "text": [
      "а сейчас жерар выглядит как уебище с российским паспортом, если ещё не утопил в деревенском сортире.\n",
      "- а сейчас жерар выглядит как уебище с российским паспортом, если ещё не утопил в деревенском сортире\n",
      "- а сейчас жерар выглядит как уебище с российским паспортом, если ещё не утопил\n",
      "- а сейчас жерар выглядит как уебище с российским паспортом\n",
      "- а сейчас жерар выглядит как уебище с российским паспортом, если ещё не утопил в деревенском сортире.\n",
      "- А сейчас жерар выглядит как у него российский паспорт, если ещё не утопил в деревенском сортире\n",
      "- а сейчас жерар выглядит как у него российский паспорт, если ещё не утопил в деревенском сортире\n",
      "- А сейчас жерар выглядит как уебище с российским паспортом, если ещё не утопил в деревенском сортире\n",
      "- А сейчас жерар выглядит как у него российский паспорт, если ещё не утопил\n",
      "- а сейчас жерар выглядит как у него российский паспорт, если ещё не утопил\n",
      "- А сейчас жерар выглядит как россиянин с российским паспортом, если ещё не утопил в деревенском сортире\n",
      "---> А сейчас жерар выглядит как россиянин с российским паспортом, если ещё не утопил в деревенском сортире\n"
     ]
    },
    {
     "name": "stderr",
     "output_type": "stream",
     "text": [
      " 40%|████      | 324/800 [02:01<03:27,  2.29it/s]"
     ]
    },
    {
     "name": "stdout",
     "output_type": "stream",
     "text": [
      "Дебил Коноплеводство зарубил Хрущ как и многие хорошие вещи\n",
      "- Коноплеводство зарубил Хрущ как и многие хорошие вещи\n",
      "- Коноплеводство отрубил Хрущ как и многие хорошие вещи\n",
      "- Коноплеводство вырубил Хрущ как и многие хорошие вещи\n",
      "- Дебил Коноплеводство зарубил Хрущ как и многие хорошие вещи\n",
      "- Коноплеводство завалил Хрущ как и многие хорошие вещи\n",
      "- Коноплеводство разрубил Хрущ как и многие хорошие вещи\n",
      "- Дебил Коноплеводство отрубил Хрущ как и многие хорошие вещи\n",
      "- Коноплеводство разрушил Хрущ как и многие хорошие вещи\n",
      "- Коноплеводство закормил Хрущ как и многие хорошие вещи\n",
      "- Дебил Коноплеводство зарубил Хруща как и многие хорошие вещи\n",
      "---> Дебил Коноплеводство зарубил Хруща как и многие хорошие вещи\n"
     ]
    },
    {
     "name": "stderr",
     "output_type": "stream",
     "text": [
      " 41%|████      | 325/800 [02:01<03:13,  2.46it/s]"
     ]
    },
    {
     "name": "stdout",
     "output_type": "stream",
     "text": [
      "какая там мразь из думы старикам макарошки предлагала\n",
      "- какая там из думы старикам предлагала\n",
      "- какая там из думы старикам макарошки предлагала\n",
      "- какая там мразь из думы старикам предлагала\n",
      "- какая там женщина из думы старикам предлагала\n",
      "- Какая там дума старикам предлагала\n",
      "- Какая там женщина из думы старикам предлагала\n",
      "- Какая там Дума старикам предлагала\n",
      "- какая там девушка из думы старикам предлагала\n",
      "- Какая там из думы старикам предлагала\n",
      "- Какая там девушка из думы старикам предлагала\n",
      "---> какая там из думы старикам макарошки предлагала\n"
     ]
    },
    {
     "name": "stderr",
     "output_type": "stream",
     "text": [
      " 41%|████      | 326/800 [02:02<03:19,  2.37it/s]"
     ]
    },
    {
     "name": "stdout",
     "output_type": "stream",
     "text": [
      "группа хорошие новости?!? ебать мой лысый череп! нихуясе новости приподнесли нам!\n",
      "- группа хорошие новости?!? мой лысый череп! нихуясе новости приподнесли нам!\n",
      "- группа хорошие новости?!? мой лысый череп! нихуясе новости приподнесли нам\n",
      "- группа хорошие новости?!? мой череп! нихуясе новости приподнесли нам!\n",
      "- группа хорошие новости?!? ебать мой лысый череп! нихуясе новости приподнесли нам!\n",
      "- группа хорошие новости?!? ничего себе новости приподнесли нам!\n",
      "- Группа хорошие новости?!? мой лысый череп! нихуясе новости приподнесли нам!\n",
      "- Группа хорошие новости?!? ничего себе новости приподнесли нам!\n",
      "- группа хорошие новости?!? мой череп! нихуясе новости приподнесли нам\n",
      "- Группа хорошие новости?!? ничего себе новости приподнесли нам\n",
      "- группа хорошие новости?!? мой лысый череп! ничего себе новости приподнесли нам!\n",
      "---> группа хорошие новости?!? ебать мой лысый череп! нихуясе новости приподнесли нам!\n"
     ]
    },
    {
     "name": "stderr",
     "output_type": "stream",
     "text": [
      " 41%|████      | 327/800 [02:02<03:16,  2.41it/s]"
     ]
    },
    {
     "name": "stdout",
     "output_type": "stream",
     "text": [
      "это наверно на видео ты, долбаеб, по этому очко рвешь свое!? 😝\n",
      "- это наверно на видео ты, по этому очко рвешь\n",
      "- Это наверно на видео ты, по этому очко рвешь\n",
      "- Это наверное на видео ты, по этому очко рвешь\n",
      "- это наверно на видео ты, по этому очко рвешь свое!? 😝\n",
      "- Это наверно на видео ты, по этому очко портишь\n",
      "- это наверно на видео ты, по этому очко порвешь свое!? 😝\n",
      "- Это наверное на видео ты, по этому очко портишь\n",
      "- Это наверно на видео ты,поэтому очко портишь\n",
      "- это наверно на видео ты,поэтому очко рвешь\n",
      "- это наверно на видео ты, по этому очко рвёшь\n",
      "---> это наверно на видео ты, по этому очко порвешь свое!? 😝\n"
     ]
    },
    {
     "name": "stderr",
     "output_type": "stream",
     "text": [
      " 41%|████      | 328/800 [02:03<03:29,  2.25it/s]"
     ]
    },
    {
     "name": "stdout",
     "output_type": "stream",
     "text": [
      "Но по факту какой-то быдлогопник создал ОПГ Один хер он продолжит свою деятельность, потому что тема бесконечно актуальная\n",
      "- Но по факту какой-то человек создал ОПГ\n",
      "- Но по факту какой-то человек создал ОПГ Один фиг он продолжит свою деятельность, потому что тема бесконечно актуальная\n",
      "- Но по факту он продолжит свою деятельность, потому что тема бесконечно актуальная\n",
      "- Но по факту какой-то человек создал ОПГ Один хрен он продолжит свою деятельность, потому что тема бесконечно актуальная\n",
      "- Но по факту какой-то человек создал ОПГ, он продолжит свою деятельность, потому что тема бесконечно актуальная\n",
      "- Но по факту какой-то человек создал ОПГ, потому что тема бесконечно актуальная\n",
      "- Но по факту какой-то человек создал ОПГ. Он продолжит свою деятельность, потому что тема бесконечно актуальная\n",
      "- но по факту какой-то человек создал ОПГ\n",
      "- Но по факту какой то человек создал ОПГ\n",
      "- Но по факту какой-то человек создал ОПГ Один фиг он продолжит свою деятельность,потому что тема бесконечно актуальная\n",
      "---> Но по факту какой-то человек создал ОПГ Один хрен он продолжит свою деятельность, потому что тема бесконечно актуальная\n"
     ]
    },
    {
     "name": "stderr",
     "output_type": "stream",
     "text": [
      " 41%|████      | 329/800 [02:03<03:11,  2.46it/s]"
     ]
    },
    {
     "name": "stdout",
     "output_type": "stream",
     "text": [
      "правительству башку оторвать, чтобы ввели госты.\n",
      "- Правительству голову оторвать, чтобы ввели госты\n",
      "- Правительство наказать\n",
      "- Правительству голову оторвать, чтобы ввели стандарты\n",
      "- правительству голову оторвать, чтобы ввели госты\n",
      "- правительству голову оторвать, чтобы ввели госты.\n",
      "- Правительству голову оторвать\n",
      "- Правительству голову оторвать, чтобы ввели госты.\n",
      "- Правительству голову оторвать, чтобы ввели ГОСТ\n",
      "- Правительству наказать\n",
      "- Правительству отрубить голову\n",
      "---> Правительству голову оторвать, чтобы ввели стандарты\n"
     ]
    },
    {
     "name": "stderr",
     "output_type": "stream",
     "text": [
      " 41%|████▏     | 330/800 [02:03<03:00,  2.61it/s]"
     ]
    },
    {
     "name": "stdout",
     "output_type": "stream",
     "text": [
      "У человеко-обезьянних скотобаз совершенно по другому выражен статус\n",
      "- У них совсем по другому выражен статус\n",
      "- У них совершенно по другому выражен статус\n",
      "- У людей животных совершенно другой статус\n",
      "- У людей с животными совершенно другой статус\n",
      "- У людей с других планет совершенно по другому выражен статус\n",
      "- У людей с животными совсем другой статус\n",
      "- У людей с животными совершенно по другому выражен статус\n",
      "- У людей с других планет совершенно другой статус\n",
      "- У людей с плохой репутацией совсем другой статус\n",
      "- У людей с плохой репутацией совершенно по другому выражен статус\n",
      "---> У людей с плохой репутацией совершенно по другому выражен статус\n"
     ]
    },
    {
     "name": "stderr",
     "output_type": "stream",
     "text": [
      " 41%|████▏     | 331/800 [02:04<02:49,  2.77it/s]"
     ]
    },
    {
     "name": "stdout",
     "output_type": "stream",
     "text": [
      "Первый раз слышу что бы обезьян так обзывали.\n",
      "- Первый раз слышу что бы обезьян так называли\n",
      "- Первый раз слышу, что бы обезьян так называли\n",
      "- Первый раз слышу что бы обезьян так называли.\n",
      "- Первый раз слышу, чтобы обезьян так называли\n",
      "- Первый раз слышу что бы так называли\n",
      "- Первый раз слышу что бы обезьян так обзывали\n",
      "- Первый раз слышу, что бы обезьян так называли.\n",
      "- Первый раз слышу, что бы так называли\n",
      "- Первый раз слышу что бы их так называли\n",
      "- Первый раз слышу чтобы обезьян так называли\n",
      "---> Первый раз слышу, что бы обезьян так называли.\n"
     ]
    },
    {
     "name": "stderr",
     "output_type": "stream",
     "text": [
      " 42%|████▏     | 332/800 [02:04<02:58,  2.62it/s]"
     ]
    },
    {
     "name": "stdout",
     "output_type": "stream",
     "text": [
      "успокойся и попробуй ещё раз членораздельно выразить свою мысль на русском языке нищий пиздабол\n",
      "- Успокойся и попробуй ещё раз членораздельно выразить свою мысль\n",
      "- Успокойся и попробуй ещё раз членораздельно выразить свою мысль на русском языке\n",
      "- Успокойся и попробуй ещё раз выразить свою мысль на русском языке\n",
      "- Успокойся и попробуй ещё раз членораздельно высказать свою мысль\n",
      "- успокойся и попробуй ещё раз членораздельно выразить свою мысль\n",
      "- Успокойся и попробуй ещё раз членораздельно высказать свою мысль на русском языке\n",
      "- Успокойся и попробуй еще раз членораздельно выразить свою мысль\n",
      "- Успокойся и попробуй ещё раз высказать свою мысль на русском языке\n",
      "- Успокойся и попытайся ещё раз выразить свою мысль на русском языке\n",
      "- Успокойся и попробуй еще раз членораздельно выразить свою мысль на русском языке\n",
      "---> Успокойся и попробуй ещё раз членораздельно высказать свою мысль на русском языке\n"
     ]
    },
    {
     "name": "stderr",
     "output_type": "stream",
     "text": [
      " 42%|████▏     | 333/800 [02:04<02:43,  2.85it/s]"
     ]
    },
    {
     "name": "stdout",
     "output_type": "stream",
     "text": [
      "не наша, а твоя ( дибильная)\n",
      "- Не наша\n",
      "- не наша\n",
      "- не наша, а твоя\n",
      "- Не наша, а твоя\n",
      "- Наша\n",
      "- Не наша.\n",
      "- Не наша, а ваша\n",
      "- не наша, а твоя ( плохая)\n",
      "- Не наша, а твоя\n",
      "- Не наша,а твоя\n",
      "---> не наша, а твоя ( плохая)\n"
     ]
    },
    {
     "name": "stderr",
     "output_type": "stream",
     "text": [
      " 42%|████▏     | 334/800 [02:05<02:50,  2.73it/s]"
     ]
    },
    {
     "name": "stdout",
     "output_type": "stream",
     "text": [
      "жизнь нужно прожить так чтобы детишки на улице говорили смотри смотри это тот ебанутый дед\n",
      "- жизнь нужно прожить так чтобы детишки на улице говорили смотри смотри\n",
      "- Жизнь нужно прожить так чтобы детишки на улице говорили смотри смотри это тот человек\n",
      "- Жизнь нужно прожить так, чтобы детишки на улице говорили смотри смотри это тот человек\n",
      "- Жизнь нужно прожить так чтобы детишки на улице говорили смотри смотри это тот дедушка\n",
      "- жизнь нужно прожить так чтобы детишки на улице говорили смотри смотри это тот дедушка\n",
      "- Жизнь нужно прожить так, чтобы детишки на улице говорили смотри смотри это тот дедушка\n",
      "- жизнь нужно прожить так чтобы детишки на улице говорили смотри смотри это тот человек\n",
      "- жизнь нужно прожить так чтобы детишки на улице говорили смотри смотри это дед\n",
      "- Жизнь нужно прожить так чтобы детишки на улице говорили смотри смотри это тот дед\n",
      "- жизнь нужно прожить так чтобы детишки на улице говорили смотри смотри это тот дядя\n",
      "---> Жизнь нужно прожить так, чтобы детишки на улице говорили смотри смотри это тот дедушка\n"
     ]
    },
    {
     "name": "stderr",
     "output_type": "stream",
     "text": [
      " 42%|████▏     | 335/800 [02:05<02:35,  3.00it/s]"
     ]
    },
    {
     "name": "stdout",
     "output_type": "stream",
     "text": [
      "счего такая любовь пидоров и фашистов??;) ;) ;)\n",
      "- С чего такая любовь?\n",
      "- С чего такая любовь\n",
      "- с чего такая любовь\n",
      "- Почему такая любовь?\n",
      "- счего такая любовь\n",
      "- почему такая любовь\n",
      "- почему такая любовь и фашистов\n",
      "- Почему такая любовь к фашистам\n",
      "- С чего такая любовь и фашистов\n",
      "- счего такая любовь и фашистов\n",
      "---> С чего такая любовь и фашистов\n"
     ]
    },
    {
     "name": "stderr",
     "output_type": "stream",
     "text": [
      " 42%|████▏     | 336/800 [02:06<03:02,  2.55it/s]"
     ]
    },
    {
     "name": "stdout",
     "output_type": "stream",
     "text": [
      "долбоеб который снимал, нет чтобы предупредить, на самосвал ах тяжёлая работа, мог и за кружиться, сам знаю\n",
      "- который снимал, нет чтобы предупредить, на самосвал ах тяжёлая работа, мог и за кружиться, сам знаю\n",
      "- тот который снимал, нет чтобы предупредить, на самосвал ах тяжёлая работа, мог и за кружиться, сам знаю\n",
      "- который снимал, нет чтобы предупредить, на самосвал тяжёлая работа, мог и за кружиться, сам знаю\n",
      "- Он снимал, нет чтобы предупредить, на самосвал тяжёлая работа, мог и за кружиться, сам знаю\n",
      "- который снимал, нет чтобы предупредить, на самосвал ах тяжёлая работа, мог и за кружиться\n",
      "- Тот кто снимал, нет чтобы предупредить, на самосвал тяжёлая работа, мог и за кружиться, сам знаю\n",
      "- Он снимал, нет чтобы предупредить, на самосвал тяжелая работа, мог и за кружиться, сам знаю\n",
      "- Тот кто снимал, нет чтобы предупредить, на самосвал тяжелая работа, мог и за кружиться, сам знаю\n",
      "- Человек который снимал, нет чтобы предупредить, на самосвал тяжёлая работа, мог и за кружиться, сам знаю\n",
      "- тот который снимал, нет чтобы предупредить, на самосвал ах тяжёлая работа, мог и за кружиться\n",
      "---> Человек который снимал, нет чтобы предупредить, на самосвал тяжёлая работа, мог и за кружиться, сам знаю\n"
     ]
    },
    {
     "name": "stderr",
     "output_type": "stream",
     "text": [
      " 42%|████▏     | 337/800 [02:06<02:40,  2.89it/s]"
     ]
    },
    {
     "name": "stdout",
     "output_type": "stream",
     "text": [
      "да их там дахуя таких соловьёбовых\n",
      "- Их там много\n",
      "- Да их там много\n",
      "- да их там много\n",
      "- Их там очень много\n",
      "- Да их там очень много\n",
      "- да их там очень много\n",
      "- их там много\n",
      "- их там очень много\n",
      "- Их там видимо много\n",
      "- Да их там видимо много\n",
      "---> Да их там видимо много\n"
     ]
    },
    {
     "name": "stderr",
     "output_type": "stream",
     "text": [
      " 42%|████▏     | 338/800 [02:06<03:09,  2.44it/s]"
     ]
    },
    {
     "name": "stdout",
     "output_type": "stream",
     "text": [
      "гавнюки храбрые когда крутят женщин и стариков выхватывая из толпы по пять рыл на одного, а перед чурками отделались........\n",
      "- Они храбрые когда крутят женщин и стариков выхватывая из толпы по пять человек на одного\n",
      "- Храбрые когда крутят женщин и стариков выхватывая из толпы по пять человек на одного, а перед чурками отделались\n",
      "- когда крутят женщин и стариков выхватывая из толпы по пять человек на одного, а перед чурками отделались........\n",
      "- Они храбрые когда крутят женщин и стариков выхватывая из толпы по пять человек на одного, а перед чурками отделались\n",
      "- Храбрые когда крутят женщин и стариков выхватывая из толпы по пять человек на одного, а перед русскими отделались\n",
      "- Храбрые когда крутят женщин и стариков выхватывая из толпы по пять человек, а перед чурками отделались\n",
      "- когда крутят женщин и стариков выхватывая из толпы по пять рыл на одного, а перед чурками отделались........\n",
      "- Они храбрые когда крутят женщин и стариков выхватывая из толпы по пять человек, а перед чурками отделались\n",
      "- Храбрые когда крутят женщин и стариков выхватывая из толпы по пять человек, а перед русскими отделались\n",
      "- когда крутят женщин и стариков выхватывая из толпы по пять человек на одного, а перед чурками отделались\n",
      "---> Они храбрые когда крутят женщин и стариков выхватывая из толпы по пять человек на одного, а перед чурками отделались\n"
     ]
    },
    {
     "name": "stderr",
     "output_type": "stream",
     "text": [
      " 42%|████▏     | 339/800 [02:07<02:51,  2.69it/s]"
     ]
    },
    {
     "name": "stdout",
     "output_type": "stream",
     "text": [
      "надо было развернуться и задовить пидорасов\n",
      "- надо было развернуться и наказать\n",
      "- Надо было развернуться и наказать\n",
      "- Надо было развернуться\n",
      "- Надо было развернуться и ударить\n",
      "- Надо было развернуться и ответить\n",
      "- надо было развернуться и ударить\n",
      "- надо было развернуться и задовить\n",
      "- Надо было остановиться\n",
      "- Надо было развернуться и задеть\n",
      "- надо было развернуться и ответить\n",
      "---> надо было развернуться и ответить\n"
     ]
    },
    {
     "name": "stderr",
     "output_type": "stream",
     "text": [
      " 42%|████▎     | 340/800 [02:07<02:46,  2.76it/s]"
     ]
    },
    {
     "name": "stdout",
     "output_type": "stream",
     "text": [
      "фашистские ублюдки из за океана....вы этого не знали?\n",
      "- американцы из за океана....вы этого не знали?\n",
      "- Из-за океана....вы этого не знали?\n",
      "- из за океана....вы этого не знали?\n",
      "- фашистские люди из за океана....вы этого не знали?\n",
      "- Вы этого не знали\n",
      "- американские фашисты из за океана....вы этого не знали?\n",
      "- Из-за океана, вы этого не знали?\n",
      "- Американцы из за океана....вы этого не знали?\n",
      "- Из-за океана...вы этого не знали?\n",
      "- Из-за океана, вы этого не знали\n",
      "---> американские фашисты из за океана....вы этого не знали?\n"
     ]
    },
    {
     "name": "stderr",
     "output_type": "stream",
     "text": [
      " 43%|████▎     | 341/800 [02:07<02:42,  2.82it/s]"
     ]
    },
    {
     "name": "stdout",
     "output_type": "stream",
     "text": [
      "а так он пиздабол как и вся единая россия !\n",
      "- а так он обманщик как и вся единая россия!\n",
      "- А так он обманщик как и вся единая россия\n",
      "- а так он плохой как и вся единая россия!\n",
      "- А так он не хороший человек\n",
      "- а так он плохой человек как и вся единая россия!\n",
      "- А так он обманщик как и вся единая россия!\n",
      "- А так он врун как и вся единая россия\n",
      "- А так он не прав\n",
      "- А так он плохой человек\n",
      "- А так он плохой как и вся единая россия\n",
      "---> а так он плохой человек как и вся единая россия!\n"
     ]
    },
    {
     "name": "stderr",
     "output_type": "stream",
     "text": [
      " 43%|████▎     | 342/800 [02:08<02:30,  3.05it/s]"
     ]
    },
    {
     "name": "stdout",
     "output_type": "stream",
     "text": [
      "как этого хуеплета вообще со стадиона выпустили\n",
      "- Как его вообще выпустили\n",
      "- как его вообще со стадиона выпустили\n",
      "- как его вообще выпустили\n",
      "- как его вообще с стадиона выпустили\n",
      "- Как этого человека вообще выпустили\n",
      "- как этого человека вообще со стадиона выпустили\n",
      "- Как его вообще с стадиона выпустили\n",
      "- как этого человека вообще с стадиона выпустили\n",
      "- Как его вообще выпустили?\n",
      "- Как этого парня вообще выпустили\n",
      "---> как этого человека вообще со стадиона выпустили\n"
     ]
    },
    {
     "name": "stderr",
     "output_type": "stream",
     "text": [
      " 43%|████▎     | 343/800 [02:08<02:15,  3.37it/s]"
     ]
    },
    {
     "name": "stdout",
     "output_type": "stream",
     "text": [
      "не пизди!! ты!!! ебалдос шавку завали!!!\n",
      "- Не ври\n",
      "- Не обманывай\n",
      "- Не лги\n",
      "- Не надо врать\n",
      "- не ври\n",
      "- Не врубайся\n",
      "- не обманывай\n",
      "- Не выдумывай\n",
      "- не врубай\n",
      "- Не вру!\n",
      "---> Не надо врать\n"
     ]
    },
    {
     "name": "stderr",
     "output_type": "stream",
     "text": [
      " 43%|████▎     | 344/800 [02:08<02:25,  3.14it/s]"
     ]
    },
    {
     "name": "stdout",
     "output_type": "stream",
     "text": [
      "Бросьте эту старую проститутку и записывайте нормальное виднюео уже\n",
      "- Бросьте её и записывайте нормальное виднюео уже\n",
      "- Бросьте эту старую женщину и записывайте нормальное виднюео уже\n",
      "- Бросьте ее и записывайте нормальное виднюео уже\n",
      "- Бросьте эту женщину и записывайте нормальное виднюео уже\n",
      "- Бросьте старую женщину и записывайте нормальное виднюео уже\n",
      "- бросайте эту старую женщину и записывайте нормальное виднюео уже\n",
      "- бросьте её и записывайте нормальное виднюео уже\n",
      "- Оставьте её в покое\n",
      "- Бросьте эту старую девушку и записывайте нормальное виднюео уже\n",
      "- Бросьте её и записывайте нормальное виднюео\n",
      "---> бросайте эту старую женщину и записывайте нормальное виднюео уже\n"
     ]
    },
    {
     "name": "stderr",
     "output_type": "stream",
     "text": [
      " 43%|████▎     | 345/800 [02:08<02:29,  3.04it/s]"
     ]
    },
    {
     "name": "stdout",
     "output_type": "stream",
     "text": [
      "да ему похер на бештау, он сука масками торгует\n",
      "- Ему все равно на бештау, он маской торгует\n",
      "- Ему все равно на бештау, он масками торгует\n",
      "- Ему все равно на бештау, он маски продает\n",
      "- Ему всё равно на бештау, он маской торгует\n",
      "- Ему все равно на бештау, он маски торгует\n",
      "- Ему всё равно на бештау, он масками торгует\n",
      "- Ему всё равно на бештау, он маски продает\n",
      "- Ему всё равно на бештау, он маски торгует\n",
      "- Да ему все равно на бештау, он маски продает\n",
      "- Ему все равно, он маски продает\n",
      "---> Да ему все равно на бештау, он маски продает\n"
     ]
    },
    {
     "name": "stderr",
     "output_type": "stream",
     "text": [
      " 43%|████▎     | 346/800 [02:09<02:16,  3.32it/s]"
     ]
    },
    {
     "name": "stdout",
     "output_type": "stream",
     "text": [
      "своих кормить надо ! долбоёбы блядь!\n",
      "- своих кормить надо\n",
      "- Своих кормить надо\n",
      "- своих кормить надо!\n",
      "- своих кормить надо!\n",
      "- своих надо кормить\n",
      "- их кормить надо\n",
      "- Свои кормить надо\n",
      "- Своих кормить нужно\n",
      "- своих кормить нужно\n",
      "- Своих надо кормить\n",
      "---> своих кормить нужно\n"
     ]
    },
    {
     "name": "stderr",
     "output_type": "stream",
     "text": [
      " 43%|████▎     | 347/800 [02:09<02:50,  2.66it/s]"
     ]
    },
    {
     "name": "stdout",
     "output_type": "stream",
     "text": [
      "Модератор удалил всю инфу и написал вместо неё буквально Репортим брипидора, игнорируем его посты\n",
      "- Модератор удалил всю инфу и написал вместо неё буквально Репортим брипидора, игнорируем его посты\n",
      "- Модератор удалил всю информацию и написал вместо неё буквально Репортим брипидора, игнорируем его посты\n",
      "- Модератор удалил всю инфу и написал вместо нее буквально Репортим брипидора, игнорируем его посты\n",
      "- Модератор удалил всю инфу и написал вместо неё буквально Репортим брипидора игнорируем его посты\n",
      "- Модератор удалил всю инфу и написал вместо неё Буквально Репортим брипидора, игнорируем его посты\n",
      "- модератор удалил всю инфу и написал вместо неё буквально Репортим брипидора, игнорируем его посты\n",
      "- Модератор удалил всю информацию и написал вместо нее буквально Репортим брипидора, игнорируем его посты\n",
      "- Модератор удалил всю информацию и написал вместо неё буквально Репортим брипидора игнорируем его посты\n",
      "- Модератор удалил всю инфу и написал вместо нее Буквально Репортим брипидора, игнорируем его посты\n",
      "- Модератор удалил всю инфу и написал вместо нее буквально Репортим брипидора игнорируем его посты\n",
      "---> Модератор удалил всю информацию и написал вместо нее буквально Репортим брипидора, игнорируем его посты\n"
     ]
    },
    {
     "name": "stderr",
     "output_type": "stream",
     "text": [
      " 44%|████▎     | 348/800 [02:10<02:55,  2.57it/s]"
     ]
    },
    {
     "name": "stdout",
     "output_type": "stream",
     "text": [
      "Причем тут хорошо плохо, дебил? У них там много денег, ну заебись\n",
      "- Причем тут хорошо плохо? У них там много денег\n",
      "- Причем тут хорошо плохо, у них там много денег\n",
      "- Причем тут хорошо плохо, плохо? У них там много денег\n",
      "- Причём тут хорошо плохо? У них там много денег\n",
      "- причем тут хорошо плохо? У них там много денег\n",
      "- При чем тут хорошо плохо? У них там много денег\n",
      "- Причем тут хорошо плохо? У них там много денег, ну заебись\n",
      "- Причем тут хорошо плохо, хорошо плохо\n",
      "- Причем тут хорошо плохо? У них там много денег, ну очень\n",
      "- Причем тут хорошо плохо, хорошо плохо? У них там много денег\n",
      "---> Причем тут хорошо плохо, хорошо плохо? У них там много денег\n"
     ]
    },
    {
     "name": "stderr",
     "output_type": "stream",
     "text": [
      " 44%|████▎     | 349/800 [02:10<02:50,  2.64it/s]"
     ]
    },
    {
     "name": "stdout",
     "output_type": "stream",
     "text": [
      "за что они суки так не навидят русский народ............................\n",
      "- за что они так не навидят русский народ\n",
      "- за что они так не навидят русский народ........\n",
      "- За что они так не навидят русский народ\n",
      "- За что они так не любят русский народ\n",
      "- за что они так не навидят русский народ............................\n",
      "- за что они так не навидят русский народ............\n",
      "- за что они так не навидят русский народ....\n",
      "- за что так не навидят русский народ\n",
      "- за что они так не навидят русский народ!!!!!!!!\n",
      "- за что они так не любят русский народ\n",
      "---> за что они так не навидят русский народ............................\n"
     ]
    },
    {
     "name": "stderr",
     "output_type": "stream",
     "text": [
      " 44%|████▍     | 350/800 [02:11<03:10,  2.37it/s]"
     ]
    },
    {
     "name": "stdout",
     "output_type": "stream",
     "text": [
      "даже великий идиот человечества гитлер был уверен - что бы победить русских - нужно разъединить украинцев, русских и белорусов...\n",
      "- даже великий человек человечества гитлер был уверен - что бы победить русских - нужно разъединить украинцев, русских и белорусов...\n",
      "- даже великий гитлер был уверен - что бы победить русских - нужно разъединить украинцев, русских и белорусов...\n",
      "- даже великий человек человечества гитлер был уверен - что бы победить русских - нужно разъединить украинцев, русских и белорусов\n",
      "- даже великий гитлер был уверен - что бы победить русских - нужно разъединить украинцев, русских и белорусов\n",
      "- даже великий Гитлер был уверен - что бы победить русских - нужно разъединить украинцев, русских и белорусов...\n",
      "- даже великий человек человечества гитлер был уверен - что бы победить русских - нужно разъединить украинцев\n",
      "- даже великий человек человечества гитлер был уверен - что бы победить русских нужно разъединить украинцев, русских и белорусов...\n",
      "- даже великий Гитлер был уверен - что бы победить русских - нужно разъединить украинцев, русских и белорусов\n",
      "- даже великий гитлер был уверен - что бы победить русских - нужно разъединить украинцев\n",
      "- Даже великий человек человечества гитлер был уверен - что бы победить русских - нужно разъединить украинцев, русских и белорусов...\n",
      "---> Даже великий человек человечества гитлер был уверен - что бы победить русских - нужно разъединить украинцев, русских и белорусов...\n"
     ]
    },
    {
     "name": "stderr",
     "output_type": "stream",
     "text": [
      " 44%|████▍     | 351/800 [02:11<03:06,  2.41it/s]"
     ]
    },
    {
     "name": "stdout",
     "output_type": "stream",
     "text": [
      "кто этих долбаебов выбирает в госдуму, кто то за них голосовал\n",
      "- кто этих людей выбирает в госдуму, кто то за них голосовал\n",
      "- кто этих людей выбирает в госдуму\n",
      "- Кто этих людей выбирает в госдуму\n",
      "- кто этих людей выбирает в госдуму, кто-то за них голосовал\n",
      "- Кто этих людей выбирает в госдуму, кто то за них голосовал\n",
      "- Кто этих людей выбирает в госдуму, кто-то за них голосовал\n",
      "- Кто этих людей выбирает в госдуму?\n",
      "- Кто этих людей выбирает в депутаты?\n",
      "- кто их выбирает в госдуму, кто то за них голосовал\n",
      "- Кто их выбирает в госдуму\n",
      "---> Кто этих людей выбирает в госдуму, кто-то за них голосовал\n"
     ]
    },
    {
     "name": "stderr",
     "output_type": "stream",
     "text": [
      " 44%|████▍     | 352/800 [02:11<02:44,  2.72it/s]"
     ]
    },
    {
     "name": "stdout",
     "output_type": "stream",
     "text": [
      "Какой у тебя мусор в голове\n",
      "- Какой у тебя мусор в голове\n",
      "- Какой мусор в голове\n",
      "- Какой мусор у тебя в голове\n",
      "- Какой у тебя мусор в голове?\n",
      "- Какой у вас мусор в голове\n",
      "- Какой мусор в голове?\n",
      "- Какой мусор в твоей голове\n",
      "- Какой в тебе мусор\n",
      "- Какой ты человек\n",
      "- Какой ты плохой человек\n",
      "---> Какой у тебя мусор в голове?\n"
     ]
    },
    {
     "name": "stderr",
     "output_type": "stream",
     "text": [
      " 44%|████▍     | 353/800 [02:12<02:34,  2.89it/s]"
     ]
    },
    {
     "name": "stdout",
     "output_type": "stream",
     "text": [
      "кота покрасили и куча долбоебов восхищается\n",
      "- Кота покрасили и куча людей восхищается\n",
      "- кота покрасили и куча людей восхищается\n",
      "- Кота покрасили и много людей восхищаются\n",
      "- Кота покрасили и много людей восхищается\n",
      "- Кота покрасили и люди восхищаются\n",
      "- кота покрасили и много людей восхищаются\n",
      "- Кота покрасили и толпа людей восхищается\n",
      "- кота покрасили и много людей восхищается\n",
      "- Кота покрасили и все восхищаются\n",
      "- Котика покрасили и куча людей восхищается\n",
      "---> Котика покрасили и куча людей восхищается\n"
     ]
    },
    {
     "name": "stderr",
     "output_type": "stream",
     "text": [
      " 44%|████▍     | 354/800 [02:12<02:27,  3.03it/s]"
     ]
    },
    {
     "name": "stdout",
     "output_type": "stream",
     "text": [
      "и защищают его такие же хуисосы как он.\n",
      "- И защищают его такие же люди как он\n",
      "- и защищают его такие же как он\n",
      "- И защищают его такие же люди\n",
      "- и защищают его такие же люди как он.\n",
      "- И защищают его такие же как он\n",
      "- Они защищают его\n",
      "- и защищают его такие же как он.\n",
      "- и защищают его такие же люди\n",
      "- И защищают его такие же люди как он.\n",
      "- и защищают его такие же люди как он\n",
      "---> И защищают его такие же люди как он.\n"
     ]
    },
    {
     "name": "stderr",
     "output_type": "stream",
     "text": [
      " 44%|████▍     | 355/800 [02:12<02:29,  2.97it/s]"
     ]
    },
    {
     "name": "stdout",
     "output_type": "stream",
     "text": [
      "НУ ВСЕ, сука говго щас модераторам пишу твою тему удалят нахуй к хуям говняным\n",
      "- Ну все, сейчас модераторам пишу твою тему удалят\n",
      "- Ну всё, сейчас модераторам пишу твою тему удалят\n",
      "- Ну все сейчас модераторам пишу твою тему удалят\n",
      "- Ну всё сейчас модераторам пишу твою тему удалят\n",
      "- ну все, щас модераторам пишу твою тему удалят\n",
      "- ну все, сейчас модераторам пишу твою тему удалят\n",
      "- Все, сейчас модераторам пишу твою тему удалят\n",
      "- Ну сейчас модераторам пишу твою тему удалят\n",
      "- Сейчас модераторам пишу твою тему удалят\n",
      "- Ну все, щас модераторам пишу твою тему удалят\n",
      "---> ну все, сейчас модераторам пишу твою тему удалят\n"
     ]
    },
    {
     "name": "stderr",
     "output_type": "stream",
     "text": [
      " 44%|████▍     | 356/800 [02:13<02:41,  2.75it/s]"
     ]
    },
    {
     "name": "stdout",
     "output_type": "stream",
     "text": [
      "В пизду этого заику, скетчи норм были, сейчас какую то хуйню делает.\n",
      "- В этом заику, скетчи норм были, сейчас какую то ерунду делает\n",
      "- В этом заику, скетчи норм были, сейчас какую-то ерунду делает\n",
      "- Заика, скетчи норм были, сейчас какую то ерунду делает\n",
      "- Заика, скетчи норм были, сейчас какую-то ерунду делает\n",
      "- Нечего с ним разговаривать\n",
      "- В этом заику, скетчи норм были, сейчас какую то ерунду делает.\n",
      "- Нечего с ним говорить\n",
      "- В этом человеке нет ничего хорошего\n",
      "- Не надо этого заику\n",
      "- В этом заику, скетчи норм были, сейчас какую-то ерунду делает.\n",
      "---> В этом заику, скетчи норм были, сейчас какую-то ерунду делает.\n"
     ]
    },
    {
     "name": "stderr",
     "output_type": "stream",
     "text": [
      " 45%|████▍     | 357/800 [02:13<03:08,  2.35it/s]"
     ]
    },
    {
     "name": "stdout",
     "output_type": "stream",
     "text": [
      "белорусский омон - молодцы! гасите пидоров, желательно по-жёсткому, чтоб на полгода в больницу.\n",
      "- Белорусский ОМОН молодцы гасите их\n",
      "- Белорусский ОМОН молодцы, гасите их\n",
      "- белорусский ОМОН - молодцы! гасите их, желательно по-жесткому, чтоб на полгода в больницу\n",
      "- белорусский ОМОН молодцы! гасите их, желательно по-жесткому, чтоб на полгода в больницу\n",
      "- белорусский ОМОН - молодцы! гасите их, желательно по- жёсткому, чтоб на полгода в больницу\n",
      "- белорусский ОМОН молодцы! гасите их, желательно по- жёсткому, чтоб на полгода в больницу\n",
      "- белорусский омон молодцы! гасите их, желательно по-жесткому, чтоб на полгода в больницу\n",
      "- белорусский ОМОН - молодцы! гасите их, желательно по-жёсткому, чтоб на полгода в больницу\n",
      "- белорусский ОМОН - молодцы! гасите плохих людей, желательно по-жесткому, чтоб на полгода в больницу\n",
      "- белорусский ОМОН- молодцы! гасите их, желательно по-жесткому, чтоб на полгода в больницу\n",
      "---> белорусский ОМОН - молодцы! гасите плохих людей, желательно по-жесткому, чтоб на полгода в больницу\n"
     ]
    },
    {
     "name": "stderr",
     "output_type": "stream",
     "text": [
      " 45%|████▍     | 358/800 [02:13<02:50,  2.59it/s]"
     ]
    },
    {
     "name": "stdout",
     "output_type": "stream",
     "text": [
      "на месте януковича ебошить всех надо\n",
      "- на месте януковича надо наказывать\n",
      "- на месте януковича всех надо\n",
      "- на месте януковича надо наказать\n",
      "- на месте януковича надо быть\n",
      "- На месте януковича надо быть\n",
      "- На месте януковича всех надо наказывать\n",
      "- на месте януковича надо всех наказывать\n",
      "- на месте януковича надо бить\n",
      "- На месте януковича надо наказывать\n",
      "- на месте януковича надо всех наказать\n",
      "---> на месте януковича надо всех наказывать\n"
     ]
    },
    {
     "name": "stderr",
     "output_type": "stream",
     "text": [
      " 45%|████▍     | 359/800 [02:14<02:30,  2.93it/s]"
     ]
    },
    {
     "name": "stdout",
     "output_type": "stream",
     "text": [
      "сколько нужно терпеть этих зажравшихся дебилов.\n",
      "- сколько нужно терпеть\n",
      "- Сколько нужно терпеть этих людей\n",
      "- Сколько нужно терпеть\n",
      "- Сколько нужно терпеть таких людей\n",
      "- сколько нужно терпеть этих людей\n",
      "- сколько нужно терпеть таких людей\n",
      "- Сколько надо терпеть\n",
      "- Сколько нужно терпеть людей\n",
      "- Сколько надо терпеть этих людей\n",
      "- Сколько нужно терпеть?\n",
      "---> сколько нужно терпеть таких людей\n"
     ]
    },
    {
     "name": "stderr",
     "output_type": "stream",
     "text": [
      " 45%|████▌     | 360/800 [02:14<02:44,  2.68it/s]"
     ]
    },
    {
     "name": "stdout",
     "output_type": "stream",
     "text": [
      "вот именно! а свидомые тупо обвиняют не причину всего, а следствие прихода к власти ублюдков\n",
      "- вот именно! а свидомые тупо обвиняют не причину всего, а следствие прихода к власти\n",
      "- Вот именно! А свидомые обвиняют не причину всего, а следствие прихода к власти\n",
      "- Вот именно, а свидомые обвиняют не причину всего, а следствие прихода к власти\n",
      "- Вот именно! А свидомые тупо обвиняют не причину всего, а следствие прихода к власти\n",
      "- Вот именно! А свидомые просто обвиняют не причину всего, а следствие прихода к власти\n",
      "- Вот именно! а свидомые тупо обвиняют не причину всего, а следствие прихода к власти\n",
      "- А свидомые обвиняют не причину всего, а следствие прихода к власти\n",
      "- Вот именно! а свидомые обвиняют не причину всего, а следствие прихода к власти\n",
      "- Вот именно!а свидомые тупо обвиняют не причину всего, а следствие прихода к власти\n",
      "- Вот именно! Они обвиняют не причину всего, а следствие прихода к власти\n",
      "---> Вот именно! А свидомые просто обвиняют не причину всего, а следствие прихода к власти\n"
     ]
    },
    {
     "name": "stderr",
     "output_type": "stream",
     "text": [
      " 45%|████▌     | 361/800 [02:15<03:08,  2.33it/s]"
     ]
    },
    {
     "name": "stdout",
     "output_type": "stream",
     "text": [
      "админы вы ненормальные или придуриваетесь из 500 прокруток не одного рейда что за правила дебильные надо выходить из игры\n",
      "- админы вы ненормальные или издеваетесь из 500 прокруток не одного рейда что за правила\n",
      "- админы вы ненормальные или притворяетесь из 500 прокруток не одного рейда что за правила\n",
      "- админы вы ненормальные или притворяетесь\n",
      "- админы вы ненормальные или шутите из 500 прокруток не одного рейда что за правила\n",
      "- Админы вы ненормальные или притворяетесь\n",
      "- Админы вы ненормальные или издеваетесь из 500 прокруток не одного рейда что за правила\n",
      "- админы вы ненормальные или обманываетесь из 500 прокруток не одного рейда что за правила\n",
      "- Админы вы ненормальные или притворяетесь из 500 прокруток не одного рейда что за правила\n",
      "- админы вы ненормальные или издеваетесь из 500 прокруток не одного рейда что за правила глупые надо выходить из игры\n",
      "- админы вы ненормальные или притворяетесь из 500 прокруток не одного рейда что за правила глупые надо выходить из игры\n",
      "---> админы вы ненормальные или притворяетесь из 500 прокруток не одного рейда что за правила глупые надо выходить из игры\n"
     ]
    },
    {
     "name": "stderr",
     "output_type": "stream",
     "text": [
      " 45%|████▌     | 362/800 [02:15<02:45,  2.64it/s]"
     ]
    },
    {
     "name": "stdout",
     "output_type": "stream",
     "text": [
      "да ему по хуй ,на россиян\n",
      "- Ему все равно\n",
      "- Да ему все равно\n",
      "- да ему все равно\n",
      "- Ему все равно на россиян\n",
      "- Да ему все равно на россиян\n",
      "- Ему всё равно\n",
      "- Да ему всё равно\n",
      "- Да ему все равно, на россиян\n",
      "- Да ему всё равно на россиян\n",
      "- Ему всё равно на россиян\n",
      "---> Да ему все равно, на россиян\n"
     ]
    },
    {
     "name": "stderr",
     "output_type": "stream",
     "text": [
      " 45%|████▌     | 363/800 [02:15<02:56,  2.47it/s]"
     ]
    },
    {
     "name": "stdout",
     "output_type": "stream",
     "text": [
      "это пиздец юморист!!! 😄😄😄 с юмором там точно всё хорошо!\n",
      "- Юморист, с юмором там точно всё хорошо\n",
      "- это юморист!!! 😄😄😄 с юмором там точно всё хорошо!\n",
      "- Это очень хороший юморист\n",
      "- С юмором там точно всё хорошо\n",
      "- Это хороший юморист\n",
      "- Это юморист, с юмором там точно всё хорошо\n",
      "- Юморист, с юмором там точно все хорошо\n",
      "- Это очень смешной юморист\n",
      "- Юморист, с юмором там точно всё хорошо!\n",
      "- Это юморист! 😄😄😄 с юмором там точно всё хорошо!\n",
      "---> это юморист!!! 😄😄😄 с юмором там точно всё хорошо!\n"
     ]
    },
    {
     "name": "stderr",
     "output_type": "stream",
     "text": [
      " 46%|████▌     | 364/800 [02:16<02:44,  2.65it/s]"
     ]
    },
    {
     "name": "stdout",
     "output_type": "stream",
     "text": [
      "дибилы какой нахуй коронавирус вы чего все сума чтоли сошли\n",
      "- Какой коронавирус вы чего все сума сошли\n",
      "- Какой нафиг коронавирус вы чего все сума сошли\n",
      "- Какой коронавирус вы чего все сошли\n",
      "- Зачем коронавирус?\n",
      "- Какой нафиг коронавирус\n",
      "- Какой коронавирус вы чего все с ума сошли\n",
      "- почему коронавирус вы чего все сума сошли\n",
      "- Какой на фиг коронавирус вы чего все сума сошли\n",
      "- Коронавирус вы чего все сума сошли\n",
      "- Какой нафиг коронавирус вы чего все сошли\n",
      "---> Какой на фиг коронавирус вы чего все сума сошли\n"
     ]
    },
    {
     "name": "stderr",
     "output_type": "stream",
     "text": [
      " 46%|████▌     | 365/800 [02:16<02:41,  2.69it/s]"
     ]
    },
    {
     "name": "stdout",
     "output_type": "stream",
     "text": [
      "тварь кинула в чёрный список а теперь подарки шлёшь, блядина\n",
      "- Она кинула в черный список а теперь подарки шлёшь\n",
      "- Она кинула в черный список, а теперь подарки шлёшь\n",
      "- Она кинула в чёрный список а теперь подарки шлёшь\n",
      "- Она кинула в чёрный список, а теперь подарки шлёшь\n",
      "- Она кинула в черный список, а теперь подарки шлешь\n",
      "- кинула в чёрный список а теперь подарки шлёшь\n",
      "- бросила в чёрный список а теперь подарки шлёшь\n",
      "- Кинула в чёрный список, а теперь подарки шлёшь\n",
      "- Кинула в чёрный список а теперь подарки шлёшь\n",
      "- Кинула в черный список, а теперь подарки шлёшь\n",
      "---> Она кинула в черный список, а теперь подарки шлешь\n"
     ]
    },
    {
     "name": "stderr",
     "output_type": "stream",
     "text": [
      " 46%|████▌     | 366/800 [02:16<02:26,  2.97it/s]"
     ]
    },
    {
     "name": "stdout",
     "output_type": "stream",
     "text": [
      "пидоры, не делайте украинский майдан!!!! твари\n",
      "- Не делайте украинский майдан\n",
      "- не делайте украинский майдан\n",
      "- не делайте украинский майдан!!!!\n",
      "- Украинский майдан\n",
      "- Не делайте украинский Майдан\n",
      "- Не делайте украинский майдан!\n",
      "- Не надо делать украинский майдан\n",
      "- Не делайте украинский майдан.\n",
      "- Не делайте майдан\n",
      "- не делайте украинский майдан!\n",
      "---> Не надо делать украинский майдан\n"
     ]
    },
    {
     "name": "stderr",
     "output_type": "stream",
     "text": [
      " 46%|████▌     | 367/800 [02:17<02:49,  2.56it/s]"
     ]
    },
    {
     "name": "stdout",
     "output_type": "stream",
     "text": [
      "пусть пустят...долго тварь живет ...пусть на том свете встретится с теми, кого загубил эта тварь...гнида...\n",
      "- пусть пустят...долго живет...пусть на том свете встретится с теми, кого загубил\n",
      "- пусть пустят...долго живёт...пусть на том свете встретится с теми, кого загубил\n",
      "- пусть пустят...долго он живет...пусть на том свете встретится с теми, кого загубил\n",
      "- Пусть пустят...долго живёт...пусть на том свете встретится с теми, кого загубил\n",
      "- Пусть пустят...долго он живет...пусть на том свете встретится с теми, кого загубил\n",
      "- пусть пустят... долго живет...пусть на том свете встретится с теми, кого загубил\n",
      "- пусть пустят...долго человек живет...пусть на том свете встретится с теми, кого загубил\n",
      "- пусть пустят... долго живёт...пусть на том свете встретится с теми, кого загубил\n",
      "- пусть пустят...долго живет...пусть на том свете встретится с теми, кого загубил...\n",
      "- пусть пустят... долго он живет...пусть на том свете встретится с теми, кого загубил\n",
      "---> пусть пустят...долго человек живет...пусть на том свете встретится с теми, кого загубил\n"
     ]
    },
    {
     "name": "stderr",
     "output_type": "stream",
     "text": [
      " 46%|████▌     | 368/800 [02:17<02:29,  2.90it/s]"
     ]
    },
    {
     "name": "stdout",
     "output_type": "stream",
     "text": [
      "уж больно ты грозен сосал бы ты йух\n",
      "- Уж больно ты грозен\n",
      "- Уж очень ты грозен\n",
      "- уж больно ты грозен\n",
      "- Уж больно ты суров\n",
      "- Уж слишком ты грозен\n",
      "- уж очень ты грозен\n",
      "- Уж больно ты злой\n",
      "- Уж очень ты суров\n",
      "- Уж больно ты грозный\n",
      "- Уж больно ты был грозен\n",
      "---> Уж больно ты был грозен\n"
     ]
    },
    {
     "name": "stderr",
     "output_type": "stream",
     "text": [
      " 46%|████▌     | 369/800 [02:17<02:22,  3.03it/s]"
     ]
    },
    {
     "name": "stdout",
     "output_type": "stream",
     "text": [
      "и не слушать всякое блядво западенское .\n",
      "- И не слушать всякое западное\n",
      "- И не слушать их\n",
      "- и не слушать всякое западенское\n",
      "- И не слушать всякую ерунду западенскую\n",
      "- И не слушать всякую чушь западенскую\n",
      "- И не слушать ничего западенского\n",
      "- И не слушать всякое иностранное\n",
      "- и не слушать всякое иностранное\n",
      "- и не слушать всякую ерунду западенскую\n",
      "- И не слушать плохое западное\n",
      "---> и не слушать всякую ерунду западенскую\n"
     ]
    },
    {
     "name": "stderr",
     "output_type": "stream",
     "text": [
      " 46%|████▋     | 370/800 [02:18<02:31,  2.85it/s]"
     ]
    },
    {
     "name": "stdout",
     "output_type": "stream",
     "text": [
      "бедненький ребёночек, руки бы оторвать тому гаду, что ударил\n",
      "- бедненький ребёночек, руки бы оторвать тому, что ударил\n",
      "- бедненький ребёночек, руки бы оторвать тому человеку, что ударил\n",
      "- бедненький ребёночек, руки бы оторвать тому, кто ударил\n",
      "- ребёночек, руки бы оторвать тому, что ударил\n",
      "- ребёночек, руки бы оторвать тому человеку, что ударил\n",
      "- ребёночек, руки бы оторвать тому, кто ударил\n",
      "- Маленький ребёночек, руки бы оторвать тому, кто ударил\n",
      "- Маленький ребёночек, руки бы оторвать тому, что ударил\n",
      "- бедненький ребёночек, руки бы оторвать тому человеку\n",
      "- бедный ребёночек, руки бы оторвать тому, что ударил\n",
      "---> бедненький ребёночек, руки бы оторвать тому человеку, что ударил\n"
     ]
    },
    {
     "name": "stderr",
     "output_type": "stream",
     "text": [
      " 46%|████▋     | 371/800 [02:18<02:20,  3.05it/s]"
     ]
    },
    {
     "name": "stdout",
     "output_type": "stream",
     "text": [
      "а вся эта поебень ради выборов\n",
      "- А вся эта ерунда ради выборов\n",
      "- а вся эта ерунда ради выборов\n",
      "- а вся эта поебень ради выборов\n",
      "- А все это ради выборов\n",
      "- А всё это ради выборов\n",
      "- А вся эта политика ради выборов\n",
      "- А вся эта поебень ради выборов\n",
      "- а все это ради выборов\n",
      "- а всё это ради выборов\n",
      "- А вся эта чепуха ради выборов\n",
      "---> А вся эта политика ради выборов\n"
     ]
    },
    {
     "name": "stderr",
     "output_type": "stream",
     "text": [
      " 46%|████▋     | 372/800 [02:19<02:49,  2.53it/s]"
     ]
    },
    {
     "name": "stdout",
     "output_type": "stream",
     "text": [
      "вы прежде чем такую хуйню выкладывать хоть сами то достоверность инфы проверяйте, а не играйте в сломанный телефон.\n",
      "- вы прежде чем такую ерунду выкладывать хоть сами то достоверность инфы проверяйте, а не играйте в сломанный телефон\n",
      "- вы прежде чем такую ерунду выкладывать хоть сами то достоверность инфы проверяйте\n",
      "- вы прежде чем такую ерунду выкладывать хоть сами то достоверность инфы проверяйте, а не играйте в сломанный телефон.\n",
      "- вы прежде чем такое выкладывать хоть сами то достоверность инфы проверяйте, а не играйте в сломанный телефон\n",
      "- вы прежде чем такое выкладывать хоть сами то достоверность инфы проверяйте\n",
      "- вы прежде чем такие вещи выкладывать хоть сами то достоверность инфы проверяйте, а не играйте в сломанный телефон\n",
      "- вы прежде чем такую чушь выкладывать хоть сами то достоверность инфы проверяйте, а не играйте в сломанный телефон\n",
      "- Вы прежде чем такую ерунду выкладывать хоть сами то достоверность инфы проверяйте, а не играйте в сломанный телефон\n",
      "- вы прежде чем такую чушь выкладывать хоть сами то достоверность инфы проверяйте\n",
      "- вы прежде чем такие вещи выкладывать хоть сами то достоверность инфы проверяйте\n",
      "---> вы прежде чем такую ерунду выкладывать хоть сами то достоверность инфы проверяйте, а не играйте в сломанный телефон.\n"
     ]
    },
    {
     "name": "stderr",
     "output_type": "stream",
     "text": [
      " 47%|████▋     | 373/800 [02:19<02:46,  2.57it/s]"
     ]
    },
    {
     "name": "stdout",
     "output_type": "stream",
     "text": [
      "​пидарасы- мрази а не вдв--настоящие защитили бы\n",
      "- настоящие защитили бы\n",
      "- ​настоящие защитили бы\n",
      "- Вдв настоящие защитники\n",
      "- а не вдв--настоящие защитили бы\n",
      "- а не вдв-настоящие защитили бы\n",
      "- Мрази а не вдв-настоящие защитили бы\n",
      "- Мрази, а не вдв, настоящие защитили бы\n",
      "- Мрази, а не вдв-настоящие защитили бы\n",
      "- Мрази а не вдв--настоящие защитили бы\n",
      "- Мрази а не вдв настоящие защитили бы\n",
      "---> Мрази, а не вдв, настоящие защитили бы\n"
     ]
    },
    {
     "name": "stderr",
     "output_type": "stream",
     "text": [
      " 47%|████▋     | 374/800 [02:19<02:30,  2.84it/s]"
     ]
    },
    {
     "name": "stdout",
     "output_type": "stream",
     "text": [
      "твоя блядская церковь тебе не поможет..\n",
      "- твоя церковь тебе не поможет\n",
      "- твоя церковь тебе не поможет..\n",
      "- Твоя церковь тебе не поможет\n",
      "- Тебе не поможет твоя церковь\n",
      "- твоя церковь тебе не поможет.\n",
      "- твоя церковь тебе не поможет...\n",
      "- твоя церковь тебя не спасет\n",
      "- Ваша церковь тебе не поможет\n",
      "- Церковь тебе не поможет\n",
      "- твоя церковь не поможет\n",
      "---> твоя церковь тебе не поможет...\n"
     ]
    },
    {
     "name": "stderr",
     "output_type": "stream",
     "text": [
      " 47%|████▋     | 375/800 [02:20<02:30,  2.83it/s]"
     ]
    },
    {
     "name": "stdout",
     "output_type": "stream",
     "text": [
      "пивет как твои дела? как поживает твой старый пидарас папаша?\n",
      "- Как твои дела? Как поживает твой папа?\n",
      "- как твои дела? как поживает твой папа?\n",
      "- Как твои дела? Как поживает твой папа\n",
      "- как твои дела? как поживает твой старый папаша\n",
      "- Пивет как твои дела? Как поживает твой папа\n",
      "- пивет как твои дела? как поживает твой старый папаша\n",
      "- пивет как твои дела? как поживает твой папа?\n",
      "- Пивет как твои дела? Как поживает твой папа?\n",
      "- Как твои дела? Как поживает папа?\n",
      "- Как твои дела? Как поживает твой отец\n",
      "---> пивет как твои дела? как поживает твой старый папаша\n"
     ]
    },
    {
     "name": "stderr",
     "output_type": "stream",
     "text": [
      " 47%|████▋     | 376/800 [02:20<02:17,  3.09it/s]"
     ]
    },
    {
     "name": "stdout",
     "output_type": "stream",
     "text": [
      "одессу никто не забыл выродок свинявый\n",
      "- Одессу никто не забыл\n",
      "- одессу никто не забыл\n",
      "- Одессу никто не забыл\n",
      "- Одессу никто не забыл\n",
      "- одесу никто не забыл\n",
      "- Никто не забыл\n",
      "- Одесса никто не забыл\n",
      "- одесса никто не забыл\n",
      "- Однозначно никто не забыл\n",
      "- Одессу никто не забыл.\n",
      "---> Однозначно никто не забыл\n"
     ]
    },
    {
     "name": "stderr",
     "output_type": "stream",
     "text": [
      " 47%|████▋     | 377/800 [02:20<02:09,  3.26it/s]"
     ]
    },
    {
     "name": "stdout",
     "output_type": "stream",
     "text": [
      "вы блять сперва старых садиков проверьте,\n",
      "- вы сначала старых садиков проверьте\n",
      "- Вы сначала старых садиков проверьте\n",
      "- Сначала старых садиков проверьте\n",
      "- вы сперва старых садиков проверьте\n",
      "- Вы сначала старые садики проверьте\n",
      "- Вы сперва старых садиков проверьте\n",
      "- Сначала старые садики проверьте\n",
      "- Вы сначала старые садиков проверьте\n",
      "- Сначала старые садиков проверьте\n",
      "- вы сначала старые садиков проверьте\n",
      "---> вы сначала старые садиков проверьте\n"
     ]
    },
    {
     "name": "stderr",
     "output_type": "stream",
     "text": [
      " 47%|████▋     | 378/800 [02:20<02:13,  3.16it/s]"
     ]
    },
    {
     "name": "stdout",
     "output_type": "stream",
     "text": [
      "Не верь всему что тебе по телевизору говорят, даун.\n",
      "- Не верь всему что тебе по телевизору говорят\n",
      "- Не верь всему, что тебе по телевизору говорят\n",
      "- Не верь всему что тебе говорят\n",
      "- Не верь всему что тебе по телевизору говорят.\n",
      "- не верь всему что тебе по телевизору говорят\n",
      "- Не верь тому что тебе по телевизору говорят\n",
      "- Не верь всему, что тебе говорят\n",
      "- Не верь всему что тебе по телевизору говорят, даун\n",
      "- Не верь всему что тебе по телевизору рассказывают\n",
      "- Не верь всему что по телевизору говорят\n",
      "---> Не верь всему что тебе по телевизору говорят, даун\n"
     ]
    },
    {
     "name": "stderr",
     "output_type": "stream",
     "text": [
      " 47%|████▋     | 379/800 [02:21<02:31,  2.77it/s]"
     ]
    },
    {
     "name": "stdout",
     "output_type": "stream",
     "text": [
      "тебя не ебёт где я учусь и нечего оскорблять меня , ты не чем не лучше меня\n",
      "- тебя не волнует где я учусь и нечего оскорблять меня, ты не чем не лучше меня\n",
      "- Тебя не волнует где я учусь и нечего оскорблять меня\n",
      "- тебя не волнует где я учусь и нечего оскорблять меня\n",
      "- тебя не волнует где я учусь и нечего оскорблять меня, ты не чем не лучше меня\n",
      "- Тебя не волнует где я учусь\n",
      "- Тебя это не волнует где я учусь и нечего оскорблять меня\n",
      "- Тебя не волнует где я учусь и нечего оскорблять меня, ты не чем не лучше меня\n",
      "- Тебя это не волнует, где я учусь и нечего оскорблять меня\n",
      "- тебя не интересует где я учусь и нечего оскорблять меня, ты не чем не лучше меня\n",
      "- Тебя не волнует где я учусь и нечего оскорблять меня, ты не чем не лучше меня\n",
      "---> тебя не интересует где я учусь и нечего оскорблять меня, ты не чем не лучше меня\n"
     ]
    },
    {
     "name": "stderr",
     "output_type": "stream",
     "text": [
      " 48%|████▊     | 380/800 [02:21<02:26,  2.86it/s]"
     ]
    },
    {
     "name": "stdout",
     "output_type": "stream",
     "text": [
      "какие российские наемники? думай мразь когда пишешь\n",
      "- какие российские наемники? думай когда пишешь\n",
      "- какие российские наёмники? думай когда пишешь\n",
      "- какие российские наемники? думай, когда пишешь\n",
      "- какие российские наемники?думай когда пишешь\n",
      "- какие российские наёмники? думай, когда пишешь\n",
      "- какие российские наемники\n",
      "- какие российские наемники? думай когда пишешь\n",
      "- какие российские наемники? думай об этом когда пишешь\n",
      "- какие наемники? думай когда пишешь\n",
      "- какие российские наёмники?думай когда пишешь\n",
      "---> какие российские наемники? думай об этом когда пишешь\n"
     ]
    },
    {
     "name": "stderr",
     "output_type": "stream",
     "text": [
      " 48%|████▊     | 381/800 [02:22<02:14,  3.10it/s]"
     ]
    },
    {
     "name": "stdout",
     "output_type": "stream",
     "text": [
      "Да и хер с ними, спорт дерьмо\n",
      "- Спортом надо заниматься\n",
      "- Спорт плохой\n",
      "- Да и ладно\n",
      "- Спортом нужно заниматься\n",
      "- Ничего страшного, спорт плохой\n",
      "- Ничего с ними, спорт плохой\n",
      "- Да и ладно, спорт плохой\n",
      "- Да и с ними, спорт плохой\n",
      "- Да и пусть, спорт плохой\n",
      "- Нечего с ними спорить\n",
      "---> Ничего страшного, спорт плохой\n"
     ]
    },
    {
     "name": "stderr",
     "output_type": "stream",
     "text": [
      " 48%|████▊     | 382/800 [02:22<02:13,  3.14it/s]"
     ]
    },
    {
     "name": "stdout",
     "output_type": "stream",
     "text": [
      "8oi кто производит и продает руки отрубить\n",
      "- Кто производит и продает руки\n",
      "- Кто производит и продаёт руки\n",
      "- кто производит и продает руки\n",
      "- 8oi кто производит и продает отрубить\n",
      "- Кто производит и продает руки?\n",
      "- 8oi кто производит и продает руки отрубить\n",
      "- Кто производит и продает, наказать\n",
      "- Кто производит и продает руки.\n",
      "- 8oi кто производит и продает руки\n",
      "- 8oi кто производит и продает руки отбить\n",
      "---> 8oi кто производит и продает руки отрубить\n"
     ]
    },
    {
     "name": "stderr",
     "output_type": "stream",
     "text": [
      " 48%|████▊     | 383/800 [02:22<02:09,  3.21it/s]"
     ]
    },
    {
     "name": "stdout",
     "output_type": "stream",
     "text": [
      "я такую пидарастическую стройку впервые вижу...\n",
      "- Я такую стройку впервые вижу\n",
      "- я такую стройку впервые вижу\n",
      "- я такую стройку впервые вижу...\n",
      "- Я такую ужасную стройку впервые вижу\n",
      "- Я такую необычную стройку впервые вижу\n",
      "- Я такую плохую стройку впервые вижу\n",
      "- я такую ужасную стройку впервые вижу\n",
      "- Я такую стройку впервые вижу...\n",
      "- я такую ужасную стройку впервые вижу...\n",
      "- я такую странную стройку впервые вижу\n",
      "---> я такую ужасную стройку впервые вижу...\n"
     ]
    },
    {
     "name": "stderr",
     "output_type": "stream",
     "text": [
      " 48%|████▊     | 384/800 [02:23<02:16,  3.05it/s]"
     ]
    },
    {
     "name": "stdout",
     "output_type": "stream",
     "text": [
      "а вы нищеброды сидите дома,в окошко выглядывайте.\n",
      "- А вы сидите дома, в окошко выглядывайте\n",
      "- А вы сидите дома в окошко выглядывайте\n",
      "- а вы сидите дома, в окошко выглядывайте\n",
      "- а вы сидите дома,в окошко выглядывайте\n",
      "- а вы сидите дома,в окошко выглядывайте.\n",
      "- а вы нищеброды сидите дома,в окошко выглядывайте\n",
      "- а вы нищеброды сидите дома,в окошко выглядывайте.\n",
      "- а вы сидите дома, в окошко выглядывайте.\n",
      "- А вы сидите дома, в окно выглядывайте\n",
      "- Сидите дома, в окошко выглядывайте\n",
      "---> а вы нищеброды сидите дома,в окошко выглядывайте.\n"
     ]
    },
    {
     "name": "stderr",
     "output_type": "stream",
     "text": [
      " 48%|████▊     | 385/800 [02:23<02:28,  2.80it/s]"
     ]
    },
    {
     "name": "stdout",
     "output_type": "stream",
     "text": [
      "Канада пристанище куколдов хохлов, не удивительно что они рашку хейтят.\n",
      "- Канада пристанище куклов украинцев\n",
      "- Канада пристанище куколдов украинцев\n",
      "- Канада пристанище куклов.\n",
      "- Канада пристанище куколдов украинцев, не удивительно что они Россию ругают\n",
      "- Канада пристанище куколдов украинцев, не удивительно что они Россию не любят\n",
      "- Канада пристанище куклов, не удивительно что они Россию не любят\n",
      "- Канада пристанище куколдов украинцев, не удивительно что они Россию недолюбливают\n",
      "- Канада пристанище куклов, не удивительно что они Россию ругают\n",
      "- Канада пристанище куклов украинцев, не удивительно что они Россию ругают\n",
      "- Канада пристанище куколдов украинцев, не удивительно что они Россию ненавидят\n",
      "---> Канада пристанище куколдов украинцев, не удивительно что они Россию недолюбливают\n"
     ]
    },
    {
     "name": "stderr",
     "output_type": "stream",
     "text": [
      " 48%|████▊     | 386/800 [02:23<02:47,  2.47it/s]"
     ]
    },
    {
     "name": "stdout",
     "output_type": "stream",
     "text": [
      "в узком кругу семьи? ебанулась, это ты будешь рассказывать папе, братьям, дядям, дедушкам? во клиника😏\n",
      "- В узком кругу семьи? Это ты будешь рассказывать папе, братьям, дядям, дедушкам?\n",
      "- в узком кругу семьи? это ты будешь рассказывать папе, братьям, дядям, дедушкам?\n",
      "- В узком кругу семьи? это ты будешь рассказывать папе, братьям, дядям, дедушкам?\n",
      "- В узком кругу семьи? Это ты будешь рассказывать папе, братьям, дядям, дедушкам\n",
      "- в узком кругу семьи? испугалась, это ты будешь рассказывать папе, братьям, дядям, дедушкам?\n",
      "- В узком кругу семьи, это ты будешь рассказывать папе, братьям, дядям, дедушкам?\n",
      "- В узком кругу семьи? Ты будешь рассказывать папе, братьям, дядям, дедушкам?\n",
      "- в узком кругу семьи? это ты будешь рассказывать папе, братьям, дядям, дедушкам\n",
      "- В узком кругу семьи, это ты будешь рассказывать папе, братьям, дядям, дедушкам\n",
      "- В узком кругу семьи? это ты будешь рассказывать папе, братьям, дядям, дедушкам\n",
      "---> в узком кругу семьи? испугалась, это ты будешь рассказывать папе, братьям, дядям, дедушкам?\n"
     ]
    },
    {
     "name": "stderr",
     "output_type": "stream",
     "text": [
      " 48%|████▊     | 387/800 [02:24<02:30,  2.74it/s]"
     ]
    },
    {
     "name": "stdout",
     "output_type": "stream",
     "text": [
      "на пропитую рожу смотреть противно, пьянь подзаборная.\n",
      "- На лицо смотреть противно\n",
      "- на лицо смотреть противно\n",
      "- На лицо смотреть неприятно\n",
      "- На внешность смотреть противно\n",
      "- На пьяного человека смотреть противно\n",
      "- На лицо противно\n",
      "- На него смотреть противно\n",
      "- На пьяную физиономию смотреть противно\n",
      "- на пьяного человека смотреть противно\n",
      "- на лицо смотреть неприятно\n",
      "---> На пьяную физиономию смотреть противно\n"
     ]
    },
    {
     "name": "stderr",
     "output_type": "stream",
     "text": [
      " 48%|████▊     | 388/800 [02:24<02:48,  2.44it/s]"
     ]
    },
    {
     "name": "stdout",
     "output_type": "stream",
     "text": [
      "а вот этот на картинке,кого копытами топчет.мой ответ был,дебилу,который выставил этот пост.\n",
      "- а вот этот на картинке,кого копытами топчет.мой ответ был\n",
      "- А вот этот на картинке,кого копытами топчет.мой ответ был\n",
      "- А вот этот на картинке, кого копытами топчет. Мой ответ был\n",
      "- а вот этот на картинке кого копытами топчет.мой ответ был\n",
      "- А вот этот на картинке, кого копытами топчет, мой ответ был\n",
      "- а вот этот на картинке,кого копытами топчет.мой ответ был\n",
      "- А вот этот на картинке,кого копытами топчет.Мой ответ был\n",
      "- А вот этот на картинке,кого копытами топчет,мой ответ был\n",
      "- а вот этот на картинке,кого копытами топчет\n",
      "- а вот этот на картинке,кого копытами топчет.мой ответ был,дебилу,который выставил этот пост\n",
      "---> а вот этот на картинке,кого копытами топчет.мой ответ был,дебилу,который выставил этот пост\n"
     ]
    },
    {
     "name": "stderr",
     "output_type": "stream",
     "text": [
      " 49%|████▊     | 389/800 [02:25<03:10,  2.16it/s]"
     ]
    },
    {
     "name": "stdout",
     "output_type": "stream",
     "text": [
      "к сожалению, реальное соотношение вполне паритетно; десятки миллионов силовиков, самих чиновников, прихлебателей и просто долбоебов поддерживают власть\n",
      "- к сожалению, реальное соотношение вполне паритетно; десятки миллионов силовиков, самих чиновников, прихлебателей и просто глупцов поддерживают власть\n",
      "- К сожалению, реальное соотношение вполне паритетно; десятки миллионов силовиков, самих чиновников, прихлебателей и просто глупцов поддерживают власть\n",
      "- к сожалению, реальное соотношение вполне паритетно; десятки миллионов силовиков, самих чиновников поддерживают власть\n",
      "- К сожалению, реальное соотношение вполне паритетно; десятки миллионов силовиков, самих чиновников поддерживают власть\n",
      "- к сожалению, реальное соотношение вполне паритетно; десятки миллионов силовиков, самих чиновников, прихлебателей и просто неудачников поддерживают власть\n",
      "- к сожалению, реальное соотношение вполне паритетно\n",
      "- к сожалению, реальное соотношение вполне паритетно; десятки миллионов силовиков, самих чиновников, прихлебателей и просто бездельников поддерживают власть\n",
      "- к сожалению, реальное соотношение вполне паритетно; десятки миллионов силовиков поддерживают власть\n",
      "- к сожалению, реальное соотношение вполне паритетно; десятки миллионов силовиков, самих чиновников, прихлебателей и просто глупых людей поддерживают власть\n",
      "- К сожалению, реальное соотношение вполне паритетно\n",
      "---> к сожалению, реальное соотношение вполне паритетно; десятки миллионов силовиков, самих чиновников, прихлебателей и просто глупых людей поддерживают власть\n"
     ]
    },
    {
     "name": "stderr",
     "output_type": "stream",
     "text": [
      " 49%|████▉     | 390/800 [02:25<02:56,  2.32it/s]"
     ]
    },
    {
     "name": "stdout",
     "output_type": "stream",
     "text": [
      "может хватит хуйней страдать? митрофан, ты заигралась бестолочь.....\n",
      "- Может хватит страдать? Митрофан, ты заигралась\n",
      "- Может хватит ерундой страдать? Митрофан, ты заигралась\n",
      "- Может хватит? Митрофан, ты заигралась\n",
      "- Может хватит ерундой страдать\n",
      "- Митрофан, ты заигралась\n",
      "- Может хватит страдать? Митрофан\n",
      "- Может хватит страдать\n",
      "- Может хватит, Митрофан, ты заигралась\n",
      "- Может хватит страдать? Митрофан ты заигралась\n",
      "- Может хватит ерундой страдать? Митрофан\n",
      "---> Может хватит ерундой страдать? Митрофан, ты заигралась\n"
     ]
    },
    {
     "name": "stderr",
     "output_type": "stream",
     "text": [
      " 49%|████▉     | 391/800 [02:25<02:36,  2.61it/s]"
     ]
    },
    {
     "name": "stdout",
     "output_type": "stream",
     "text": [
      "ЧТО ОНА НЕС Т, СУКААААА? ЛОЛД\n",
      "- Что она не несет\n",
      "- ЧТО ОНА НЕС Т\n",
      "- Что она не несёт\n",
      "- Что она не говорит\n",
      "- Что она не делает\n",
      "- Что она не делает?\n",
      "- Что она не так делает\n",
      "- ЧТО ОНА НЕС?\n",
      "- Что она не так?\n",
      "- Что она не несет?\n",
      "---> Что она не так делает\n"
     ]
    },
    {
     "name": "stderr",
     "output_type": "stream",
     "text": [
      " 49%|████▉     | 392/800 [02:26<02:38,  2.57it/s]"
     ]
    },
    {
     "name": "stdout",
     "output_type": "stream",
     "text": [
      "а у вовочки такая блядская семейка, что взяли хрен вернут:d\n",
      "- а у вовочки такая плохая семейка\n",
      "- а у вовочки такая плохая семейка, что забрали\n",
      "- А у вовочки такая плохая семейка, что забрали\n",
      "- а у вовочки такая семейка, что взяли не вернут\n",
      "- а у вовочки такая семейка, что взяли всё\n",
      "- а у вовочки такая нехорошая семейка, что забрали\n",
      "- а у вовочки такая семейка, что взяли не отдадут\n",
      "- а у вовочки такая семейка, что взяли все:d\n",
      "- а у вовочки такая семейка, что взяли не вернут:d\n",
      "- а у вовочки такая плохая семейка, что взяли не вернут\n",
      "---> а у вовочки такая плохая семейка, что взяли не вернут\n"
     ]
    },
    {
     "name": "stderr",
     "output_type": "stream",
     "text": [
      " 49%|████▉     | 393/800 [02:26<02:46,  2.44it/s]"
     ]
    },
    {
     "name": "stdout",
     "output_type": "stream",
     "text": [
      "тебе купин вместе с твоей страшной и наглой маюшечкой пора на вольные хлеба\n",
      "- тебе купин вместе с твоей страшной и наглой маюшечкой пора на вольные хлеба\n",
      "- тебе купин вместе с твоей ужасной и наглой маюшечкой пора на вольные хлеба\n",
      "- тебе купин вместе с твоей страшной и наглой маюшечке пора на вольные хлеба\n",
      "- тебе купин вместе с твоей милой и наглой маюшечкой пора на вольные хлеба\n",
      "- тебе купин вместе с твоей страшной маюшечкой пора на вольные хлеба\n",
      "- тебе куин вместе с твоей страшной и наглой маюшечкой пора на вольные хлеба\n",
      "- Тебе купин вместе с твоей страшной и наглой маюшечкой пора на вольные хлеба\n",
      "- тебе купин вместе с твоей милой маюшечкой пора на вольные хлеба\n",
      "- тебе купин вместе с её страшной и наглой маюшечкой пора на вольные хлеба\n",
      "- тебе купин вместе с твоей красивой и наглой маюшечкой пора на вольные хлеба\n",
      "---> тебе купин вместе с твоей красивой и наглой маюшечкой пора на вольные хлеба\n"
     ]
    },
    {
     "name": "stderr",
     "output_type": "stream",
     "text": [
      " 49%|████▉     | 394/800 [02:27<02:37,  2.58it/s]"
     ]
    },
    {
     "name": "stdout",
     "output_type": "stream",
     "text": [
      "ты не охуел? с чеченцами будем говорить?\n",
      "- С чеченцами будем говорить\n",
      "- ты не охуел? с чеченцами будем говорить?\n",
      "- С чеченцами будем разговаривать\n",
      "- с чеченцами будем говорить\n",
      "- с чеченцами будем говорить?\n",
      "- ты не охуел? с чеченцами будем говорить\n",
      "- С чеченцами будем говорить?\n",
      "- ты не ошалел? с чеченцами будем говорить?\n",
      "- Ты не охуел? с чеченцами будем говорить?\n",
      "- С чеченцами будем разговаривать?\n",
      "---> ты не ошалел? с чеченцами будем говорить?\n"
     ]
    },
    {
     "name": "stderr",
     "output_type": "stream",
     "text": [
      " 49%|████▉     | 395/800 [02:27<02:27,  2.75it/s]"
     ]
    },
    {
     "name": "stdout",
     "output_type": "stream",
     "text": [
      "с такими пиздунами как ты общаться не можно\n",
      "- с такими людьми как ты общаться не можно\n",
      "- С такими людьми как ты общаться не можно\n",
      "- С такими людьми как ты общаться нельзя\n",
      "- С такими людьми общаться нельзя\n",
      "- С такими людьми общаться не можно\n",
      "- с такими как ты общаться не можно\n",
      "- с такими людьми общаться не можно\n",
      "- с такими плохими людьми как ты общаться не можно\n",
      "- с такими людьми как ты общаться нельзя\n",
      "- С такими как ты общаться не можно\n",
      "---> с такими плохими людьми как ты общаться не можно\n"
     ]
    },
    {
     "name": "stderr",
     "output_type": "stream",
     "text": [
      " 50%|████▉     | 396/800 [02:27<02:20,  2.88it/s]"
     ]
    },
    {
     "name": "stdout",
     "output_type": "stream",
     "text": [
      "это что за пидораст мужики на уху рыбы поймать не могут\n",
      "- Мужики на уху рыбы поймать не могут\n",
      "- мужики на уху рыбы поймать не могут\n",
      "- Мужики на уху рыбу поймать не могут\n",
      "- это что за люди на уху рыбы поймать не могут\n",
      "- это что за мужчины на уху рыбы поймать не могут\n",
      "- Мужики, на уху рыбы поймать не могут\n",
      "- Это что за люди на уху рыбы поймать не могут\n",
      "- Это что за мужчины на уху рыбы поймать не могут\n",
      "- Мужики не могут поймать рыбу\n",
      "- Мужики, на уху рыбу поймать не могут\n",
      "---> Это что за мужчины на уху рыбы поймать не могут\n"
     ]
    },
    {
     "name": "stderr",
     "output_type": "stream",
     "text": [
      " 50%|████▉     | 397/800 [02:28<02:26,  2.75it/s]"
     ]
    },
    {
     "name": "stdout",
     "output_type": "stream",
     "text": [
      "Заебали, вам смешно, а мне из за этого долбоеба придется своего друга бить\n",
      "- надоели, вам смешно, а мне из за этого придется своего друга бить\n",
      "- надоели, вам смешно, а мне из за этого друга придется своего друга бить\n",
      "- вам смешно, а мне из за этого придется своего друга бить\n",
      "- Надоели, вам смешно, а мне из за этого придется своего друга бить\n",
      "- Надоели, вам смешно, а мне придется своего друга бить\n",
      "- Надоели, вам смешно, а мне придётся своего друга бить\n",
      "- Надоели, вам смешно, а мне из за этого придётся своего друга бить\n",
      "- Надоели, вам смешно, а мне из-за этого придется своего друга бить\n",
      "- Надоели, вам смешно, а мне из-за этого придётся своего друга бить\n",
      "- надоели, вам смешно, а мне из за этого придется друга бить\n",
      "---> надоели, вам смешно, а мне из за этого друга придется своего друга бить\n"
     ]
    },
    {
     "name": "stderr",
     "output_type": "stream",
     "text": [
      " 50%|████▉     | 398/800 [02:28<02:26,  2.74it/s]"
     ]
    },
    {
     "name": "stdout",
     "output_type": "stream",
     "text": [
      "детям блять собирают всем миром а тут самолёты с помощью каждый день\n",
      "- детям собирают всем миром а тут самолёты с помощью каждый день\n",
      "- Детям собирают всем миром а тут самолёты с помощью каждый день\n",
      "- Детям собирают всем миром, а тут самолёты с помощью каждый день\n",
      "- Детям собирают всем миром,а тут самолёты с помощью каждый день\n",
      "- Детям собирают всем миром а тут самолеты с помощью каждый день\n",
      "- Детям собирают всем миром, а тут самолеты с помощью каждый день\n",
      "- Детям собирают всем миром. А тут самолёты с помощью каждый день\n",
      "- Детям собирают всем миром, а тут самолёты каждый день\n",
      "- Детям собирают всем миром, а тут самолёты с помощью каждый день\n",
      "- Детям собирают всем миром,а тут самолёты с помощью каждый день\n",
      "---> Детям собирают всем миром, а тут самолёты с помощью каждый день\n"
     ]
    },
    {
     "name": "stderr",
     "output_type": "stream",
     "text": [
      " 50%|████▉     | 399/800 [02:28<02:32,  2.63it/s]"
     ]
    },
    {
     "name": "stdout",
     "output_type": "stream",
     "text": [
      "дебил позвоночник,это самая важная вещь в функции человека для жизни и движения\n",
      "- здоровье позвоночник,это самая важная вещь в функции человека для жизни и движения\n",
      "- Это самая важная вещь в функции человека для жизни и движения\n",
      "- здоровье позвоночника,это самая важная вещь в функции человека для жизни и движения\n",
      "- здоровый позвоночник,это самая важная вещь в функции человека для жизни и движения\n",
      "- спина позвоночник,это самая важная вещь в функции человека для жизни и движения\n",
      "- это самая важная вещь в функции человека для жизни и движения\n",
      "- спинной мозг,это самая важная вещь в функции человека для жизни и движения\n",
      "- Спина позвоночник, это самая важная вещь в функции человека для жизни и движения\n",
      "- здоровье позвоночник,это самая важная часть функции человека для жизни и движения\n",
      "- Это самая важная вещь в функции человека для жизни\n",
      "---> здоровье позвоночника,это самая важная вещь в функции человека для жизни и движения\n"
     ]
    },
    {
     "name": "stderr",
     "output_type": "stream",
     "text": [
      " 50%|█████     | 400/800 [02:29<02:43,  2.45it/s]"
     ]
    },
    {
     "name": "stdout",
     "output_type": "stream",
     "text": [
      "Когда чмо начинает кукарекать про отсутствие прогресса - он тупо занимается софистикой ради софистики\n",
      "- Когда человек начинает говорить про отсутствие прогресса, он просто занимается софистикой ради софистики\n",
      "- Когда человек начинает говорить про отсутствие прогресса, он просто занимается софистикой\n",
      "- Когда человек начинает кукарекать про отсутствие прогресса - он просто занимается софистикой ради софистики\n",
      "- Когда человек начинает говорить про отсутствие прогресса - он просто занимается софистикой ради софистики\n",
      "- Когда человек начинает кричать про отсутствие прогресса - он просто занимается софистикой ради софистики\n",
      "- Когда человек начинает кричать про отсутствие прогресса, он просто занимается софистикой ради софистики\n",
      "- Когда он начинает говорить про отсутствие прогресса - он просто занимается софистикой ради софистики\n",
      "- Когда он начинает кукарекать про отсутствие прогресса - он просто занимается софистикой ради софистики\n",
      "- Когда человек начинает говорить про отсутствие прогресса он просто занимается софистикой\n",
      "- Когда он начинает говорить про отсутствие прогресса, он просто занимается софистикой ради софистики\n",
      "---> Когда человек начинает кукарекать про отсутствие прогресса - он просто занимается софистикой ради софистики\n"
     ]
    },
    {
     "name": "stderr",
     "output_type": "stream",
     "text": [
      " 50%|█████     | 401/800 [02:29<02:45,  2.40it/s]"
     ]
    },
    {
     "name": "stdout",
     "output_type": "stream",
     "text": [
      "одно пустое пиздобольльство в инете...вас от телефонов не оторвать...стрелки хреновы..\n",
      "- одно пустое враньё в инете...вас от телефонов не оторвать...стрелки плохие\n",
      "- одно пустое враньё в интернете...вас от телефонов не оторвать...стрелки плохие\n",
      "- одно пустое вранье в инете...вас от телефонов не оторвать...стрелки плохие\n",
      "- одно пустословие в инете...вас от телефонов не оторвать...стрелки плохие\n",
      "- одно пустое вранье в интернете...вас от телефонов не оторвать...стрелки плохие\n",
      "- одно пустословие в интернете...вас от телефонов не оторвать...стрелки плохие\n",
      "- одно враньё в интернете...вас от телефонов не оторвать...стрелки плохие\n",
      "- одно враньё в инете...вас от телефонов не оторвать...стрелки плохие\n",
      "- одно пустое враньё в инете...вас от телефонов не оторвать...стрелки плохие...\n",
      "- одно пустое хвастовство в инете...вас от телефонов не оторвать...стрелки плохие\n",
      "---> одно пустое хвастовство в инете...вас от телефонов не оторвать...стрелки плохие\n"
     ]
    },
    {
     "name": "stderr",
     "output_type": "stream",
     "text": [
      " 50%|█████     | 402/800 [02:30<02:41,  2.46it/s]"
     ]
    },
    {
     "name": "stdout",
     "output_type": "stream",
     "text": [
      "ну про мужеков пиздеш я влюбом састоянее на роботу иду\n",
      "- я влюбом састоянее на роботу иду\n",
      "- ну про мужчин враньё я влюбом састоянее на роботу иду\n",
      "- ну про мужчин вранье я влюбом састоянее на роботу иду\n",
      "- я влюбом састоятельнее на роботу иду\n",
      "- я влюбом састоящее на роботу иду\n",
      "- ну про мужчин я влюбом састоянее на роботу иду\n",
      "- я влюбом састоянее на работу иду\n",
      "- ну про мужиков враньё я влюбом састоянее на роботу иду\n",
      "- ну про мужчин враньё я влюбом састоятельнее на роботу иду\n",
      "- ну про мужчин враньё, я влюбом састоянее на роботу иду\n",
      "---> ну про мужчин враньё я влюбом састоятельнее на роботу иду\n"
     ]
    },
    {
     "name": "stderr",
     "output_type": "stream",
     "text": [
      " 50%|█████     | 403/800 [02:30<02:47,  2.37it/s]"
     ]
    },
    {
     "name": "stdout",
     "output_type": "stream",
     "text": [
      "С РАМЕНСКОГО ДО ВЫХИНО ЧЕРЕЗ ЖУКОВСКИЙ\n",
      "- С РАМЕНСКОГО ДО ВЫХИНО ЧЕРЕЗ ЖУКОВСКИЙ\n",
      "- С РАМЕНСКОГО ДО ВЫХИНО  ЧЕРЕЗ ЖУКОВСКИЙ\n",
      "- С РАМЕНСКОГО ДО ВЫХИНО ЧЕРЕЗ Жуковский\n",
      "- с РАМЕНСКОГО ДО ВЫХИНО\n",
      "- с РАМЕНСКОГО ДО ВЫХИНО ЧЕРЕЗ ЖУКОВСКИЙ\n",
      "- С РАМЕНСКОГО ДО ЖУКОВСКИЙ\n",
      "- С РАМЕНСКОГО ДО ВЫХИНО Черёзом Жуковский\n",
      "- С РАМЕНСКОГО ДО ВЫХИНО ЧЕРЕЗ ЖуковСКИЙ\n",
      "- С РАМЕНСКОГО ДО ВЫХИНО, ЧЕРЕЗ ЖУКОВСКИЙ\n",
      "- С РАМЕНСКОГО ДО ВЫХИНО Черёзом Жуковский\n",
      "---> С РАМЕНСКОГО ДО ВЫХИНО Черёзом Жуковский\n"
     ]
    },
    {
     "name": "stderr",
     "output_type": "stream",
     "text": [
      " 50%|█████     | 404/800 [02:31<02:44,  2.41it/s]"
     ]
    },
    {
     "name": "stdout",
     "output_type": "stream",
     "text": [
      "вот вам мразь, которой путин колено приклоненно возлогает цветы\n",
      "- вот вам человек, которому путин колено возлогает цветы\n",
      "- Вот вам человек, которому Путин колено прикладывает цветы\n",
      "- вот вам человек, которому путин колено прикладывает цветы\n",
      "- вот вам человек которому путин колено возлогает цветы\n",
      "- вот вам человек, которому путин колено приклоненно возлогает цветы\n",
      "- Вот вам человек, которому Путин колено прикладывал цветы\n",
      "- вот вам человек, которому путин колено возлагает цветы\n",
      "- вот вам человек, которому путин колено прикланяется\n",
      "- вот вам человек, которому путин колено преклоненно возлогает цветы\n",
      "- вот вам человек, которому путин колено прикладывал цветы\n",
      "---> вот вам человек, которому путин колено преклоненно возлогает цветы\n"
     ]
    },
    {
     "name": "stderr",
     "output_type": "stream",
     "text": [
      " 51%|█████     | 405/800 [02:31<02:27,  2.67it/s]"
     ]
    },
    {
     "name": "stdout",
     "output_type": "stream",
     "text": [
      "жируют твари и над народом издеваются.\n",
      "- Живут и над народом издеваются\n",
      "- Живут за счет народа\n",
      "- жируют и над народом издеваются\n",
      "- жируют и над народом издеваются.\n",
      "- жируют люди и над народом издеваются\n",
      "- И над народом издеваются\n",
      "- Они над народом издеваются\n",
      "- Живут за счёт народа\n",
      "- Жирают и над народом издеваются\n",
      "- Живут хорошо\n",
      "---> жируют люди и над народом издеваются\n"
     ]
    },
    {
     "name": "stderr",
     "output_type": "stream",
     "text": [
      " 51%|█████     | 406/800 [02:31<02:40,  2.45it/s]"
     ]
    },
    {
     "name": "stdout",
     "output_type": "stream",
     "text": [
      "вот, вот! быдло оно и есть быдло! на вы ещё заслужить надо! ты не заслужила! склочная поганка!\n",
      "- На вы ещё заслужить надо\n",
      "- На вы ещё заслужить надо!\n",
      "- Ты не заслужила\n",
      "- Не заслужила\n",
      "- вот, вот! на вы ещё заслужить надо!\n",
      "- На вы еще заслужить надо\n",
      "- вот, вот! быдло оно и есть быдло! на вы ещё заслужить надо!\n",
      "- На вы ещё заслужить надо.\n",
      "- На вы еще заслужить надо!\n",
      "- вот, вот! человек он и есть человек! на вы ещё заслужить надо!\n",
      "---> вот, вот! человек он и есть человек! на вы ещё заслужить надо!\n"
     ]
    },
    {
     "name": "stderr",
     "output_type": "stream",
     "text": [
      " 51%|█████     | 407/800 [02:32<02:40,  2.45it/s]"
     ]
    },
    {
     "name": "stdout",
     "output_type": "stream",
     "text": [
      "надо как в саудовской аравии голову отрубить при честном народе ублюдку я убежден что он пьяный был сволочь ...\n",
      "- надо как в саудовской аравии голову отрубить при честном народе\n",
      "- Надо как в Саудовской Аравии голову отрубить при честном народе\n",
      "- Надо как в саудовской аравии голову отрубить при честном народе\n",
      "- Надо голову отрубить при честном народе\n",
      "- Надо его наказать при честном народе\n",
      "- надо его наказать при честном народе\n",
      "- Надо как в Саудовской Аравии отрубить голову при честном народе\n",
      "- Надо как в Саудовской Аравии голову отрубить при честном народе\n",
      "- Надо как в Саудовской аравии голову отрубить при честном народе\n",
      "- Надо отрубить голову при честном народе\n",
      "---> Надо как в Саудовской аравии голову отрубить при честном народе\n"
     ]
    },
    {
     "name": "stderr",
     "output_type": "stream",
     "text": [
      " 51%|█████     | 408/800 [02:32<02:33,  2.55it/s]"
     ]
    },
    {
     "name": "stdout",
     "output_type": "stream",
     "text": [
      "а такие чмошники как ты изображают из себя рэмбов\n",
      "- а такие люди как ты изображают из себя рэмбов\n",
      "- А такие люди как ты изображают из себя героев\n",
      "- А такие люди как ты изображают из себя рэмбов\n",
      "- а такие люди как ты изображают из себя героев\n",
      "- а такие люди как ты изображают из себя Рэмбов\n",
      "- А такие люди как ты изображают из себя Рэмбов\n",
      "- а такие люди как ты изображают из себя людей\n",
      "- А такие люди как ты изображают из себя Рэмбо\n",
      "- а такие люди как ты изображают из себя  рэмбов\n",
      "- А такие люди, как ты изображают из себя героев\n",
      "---> А такие люди, как ты изображают из себя героев\n"
     ]
    },
    {
     "name": "stderr",
     "output_type": "stream",
     "text": [
      " 51%|█████     | 409/800 [02:32<02:18,  2.82it/s]"
     ]
    },
    {
     "name": "stdout",
     "output_type": "stream",
     "text": [
      "Так же ответочка на доёбы ежи до стакана и прочей хуйни\n",
      "- Так же ответочка\n",
      "- Так же ответка\n",
      "- Так же ответочка на оскорбления\n",
      "- Так же ответ на оскорбления\n",
      "- так же ответочка\n",
      "- Также ответочка\n",
      "- Так же ответка на оскорбления\n",
      "- Так же ответная реакция\n",
      "- Так же ответочка на неуважение\n",
      "- Так же ответочка на обман\n",
      "---> Так же ответочка на оскорбления\n"
     ]
    },
    {
     "name": "stderr",
     "output_type": "stream",
     "text": [
      " 51%|█████▏    | 410/800 [02:33<02:38,  2.46it/s]"
     ]
    },
    {
     "name": "stdout",
     "output_type": "stream",
     "text": [
      "такое чувство,что у него еблище вот-вот треснет.а может эта хуйня с голоду так опухла?\n",
      "- такое чувство,что у него неприятности вот-вот треснет\n",
      "- такое чувство,что у него живот вот-вот треснет.а может эта еда с голоду так опухла?\n",
      "- такое чувство,что у него неприятности вот-вот треснет.а может эта болезнь с голоду так опухла?\n",
      "- такое чувство,что у него проблемы вот-вот треснет.а может эта болезнь с голоду так опухла?\n",
      "- такое чувство,что у него живот вот-вот треснет.а может эта болезнь с голоду так опухла?\n",
      "- такое чувство,что у него неприятности вот-вот треснет.а может эта ерунда с голоду так опухла?\n",
      "- такое чувство,что у него проблемы вот-вот треснет\n",
      "- Такое чувство, что у него проблемы вот-вот треснет\n",
      "- такое чувство,что у него неприятности вот-вот треснет.а может эта еда с голоду так опухла?\n",
      "- такое чувство,что у него  вот-вот треснет.а может эта болезнь с голоду так опухла?\n",
      "---> такое чувство,что у него неприятности вот-вот треснет.а может эта болезнь с голоду так опухла?\n"
     ]
    },
    {
     "name": "stderr",
     "output_type": "stream",
     "text": [
      " 51%|█████▏    | 411/800 [02:33<02:40,  2.42it/s]"
     ]
    },
    {
     "name": "stdout",
     "output_type": "stream",
     "text": [
      "....эта сука должна давно сдохнуть как собака бешеная, в первую очередь в умах советских людей\n",
      "- ....она должна давно умереть как собака бешеная, в первую очередь в умах советских людей\n",
      "- ....эта должна давно умереть как собака бешеная, в первую очередь в умах советских людей\n",
      "- ....она должна давно умереть в первую очередь в умах советских людей\n",
      "- ....она должна давно умереть, в первую очередь в умах советских людей\n",
      "- ...эта должна давно умереть как собака бешеная, в первую очередь в умах советских людей\n",
      "- она должна давно умереть как собака бешеная, в первую очередь в умах советских людей\n",
      "- Она должна давно умереть\n",
      "- ....эта должна давно умереть в первую очередь в умах советских людей\n",
      "- ....эта должна давно умереть, в первую очередь в умах советских людей\n",
      "- ....она должна давно умереть как собака бешеная\n",
      "---> ....эта должна давно умереть как собака бешеная, в первую очередь в умах советских людей\n"
     ]
    },
    {
     "name": "stderr",
     "output_type": "stream",
     "text": [
      " 52%|█████▏    | 412/800 [02:34<02:23,  2.71it/s]"
     ]
    },
    {
     "name": "stdout",
     "output_type": "stream",
     "text": [
      "нахуй он там кому нужен, пидор!\n",
      "- Зачем он там нужен\n",
      "- Он там никому не нужен\n",
      "- Зачем он там кому нужен\n",
      "- Зачем он там нужен?\n",
      "- Зачем ему там нужен\n",
      "- Зачем он там кому-то нужен\n",
      "- Зачем он там кому то нужен\n",
      "- Не нужен он никому\n",
      "- Зачем он там?\n",
      "- зачем он там кому нужен\n",
      "---> Зачем он там кому то нужен\n"
     ]
    },
    {
     "name": "stderr",
     "output_type": "stream",
     "text": [
      " 52%|█████▏    | 413/800 [02:34<02:09,  2.99it/s]"
     ]
    },
    {
     "name": "stdout",
     "output_type": "stream",
     "text": [
      "а от куда вообще этот пидор взялся\n",
      "- А откуда он взялся\n",
      "- а откуда он взялся\n",
      "- а откуда вообще он взялся\n",
      "- А откуда вообще он взялся\n",
      "- Откуда он взялся\n",
      "- откуда он взялся\n",
      "- А откуда он появился\n",
      "- а от куда вообще он взялся\n",
      "- А от куда он взялся\n",
      "- А от откуда он взялся\n",
      "---> а от куда вообще он взялся\n"
     ]
    },
    {
     "name": "stderr",
     "output_type": "stream",
     "text": [
      " 52%|█████▏    | 414/800 [02:34<02:14,  2.86it/s]"
     ]
    },
    {
     "name": "stdout",
     "output_type": "stream",
     "text": [
      "Моча, вытащи голову из жопы и займись своей работой.\n",
      "- Моча, вытащи голову из головы и займись своей работой\n",
      "- Думай своей головой\n",
      "- вытащи голову из головы и займись своей работой\n",
      "- Отстань от меня\n",
      "- Встань и займись своей работой\n",
      "- Думай о своей работе\n",
      "- Моча, вытащи голову и займись своей работой\n",
      "- Моча, вытащи голову из головы и займись своей работой.\n",
      "- Встань и займись своим делом\n",
      "- Встань и займись делом\n",
      "---> Моча, вытащи голову из головы и займись своей работой.\n"
     ]
    },
    {
     "name": "stderr",
     "output_type": "stream",
     "text": [
      " 52%|█████▏    | 415/800 [02:35<02:08,  3.01it/s]"
     ]
    },
    {
     "name": "stdout",
     "output_type": "stream",
     "text": [
      "на улицах никого и язык в жопе...\n",
      "- На улицах никого и язык в заднице\n",
      "- На улицах никого и язык в жопе\n",
      "- на улицах никого и язык в жопе\n",
      "- На улицах никого\n",
      "- На улицах никого и язык за зубами\n",
      "- На улицах никого и язык не нужен\n",
      "- на улицах никого и язык в жопе...\n",
      "- На улицах никого и язык в попе\n",
      "- на улицах никого и язык в заднице\n",
      "- На улицах никого нет\n",
      "---> на улицах никого и язык в заднице\n"
     ]
    },
    {
     "name": "stderr",
     "output_type": "stream",
     "text": [
      " 52%|█████▏    | 416/800 [02:35<02:15,  2.84it/s]"
     ]
    },
    {
     "name": "stdout",
     "output_type": "stream",
     "text": [
      "Надеюсь что ты прсто троль, иначе просто не представляю как это возможно\n",
      "- Надеюсь что ты просто глупый человек, иначе просто не представляю как это возможно\n",
      "- Надеюсь, что ты просто глупый человек, иначе просто не представляю как это возможно\n",
      "- Надеюсь что ты просто глупый, иначе просто не представляю как это возможно\n",
      "- Надеюсь что ты просто глупец, иначе просто не представляю как это возможно\n",
      "- Надеюсь что ты просто болтун\n",
      "- Надеюсь что ты просто не понимаешь как это возможно\n",
      "- Надеюсь что ты не очень умный человек, иначе просто не представляю как это возможно\n",
      "- Надеюсь, что ты просто глупец, иначе просто не представляю как это возможно\n",
      "- Надеюсь, что ты просто глупый, иначе просто не представляю как это возможно\n",
      "- Надеюсь, что ты просто не понимаешь как это возможно\n",
      "---> Надеюсь что ты не очень умный человек, иначе просто не представляю как это возможно\n"
     ]
    },
    {
     "name": "stderr",
     "output_type": "stream",
     "text": [
      " 52%|█████▏    | 417/800 [02:35<02:25,  2.64it/s]"
     ]
    },
    {
     "name": "stdout",
     "output_type": "stream",
     "text": [
      "сначала украли, а потом просрали, похоже в правительстве и в думе одни засрансы\n",
      "- Сначала украли, а потом просрали\n",
      "- Сначала украли, а потом просрали, похоже в правительстве и в думе одни неудачники\n",
      "- Сначала украли, а потом просрали, похоже в правительстве и в думе одни плохие люди\n",
      "- Сначала украли, а потом просрали, похоже в правительстве и в думе одни обман\n",
      "- Сначала украли, а потом просрали, похоже в правительстве и в думе одни чиновники\n",
      "- Сначала украли, а потом просрали, похоже в правительстве и в думе одни нечестные\n",
      "- Сначала украли, а потом проиграли\n",
      "- сначала украли, а потом просрали, похоже в правительстве и в думе одни плохие люди\n",
      "- Сначала украли, а потом просрали, похоже в правительстве и в думе одни плохие\n",
      "- Сначала украли, а потом просрали, похоже в правительстве и в думе одни враги\n",
      "---> сначала украли, а потом просрали, похоже в правительстве и в думе одни плохие люди\n"
     ]
    },
    {
     "name": "stderr",
     "output_type": "stream",
     "text": [
      " 52%|█████▏    | 418/800 [02:36<02:56,  2.16it/s]"
     ]
    },
    {
     "name": "stdout",
     "output_type": "stream",
     "text": [
      "заебали! долбаебы! вы можете хоть чем-то гордиться? в ссср, во время войны создали свой пенициллин, в блокадном ленинграде\n",
      "- вы можете хоть чем-то гордиться? в ссср, во время войны создали свой пенициллин\n",
      "- вы можете хоть чем-то гордиться? в ссср, во время войны создали свой пенициллин, в блокадном ленинграде\n",
      "- надоели! вы можете хоть чем-то гордиться? в ссср, во время войны создали свой пенициллин, в блокадном ленинграде\n",
      "- надоели! вы можете хоть чем-то гордиться? в ссср, во время войны создали свой пенициллин\n",
      "- заели! вы можете хоть чем-то гордиться? в ссср, во время войны создали свой пенициллин, в блокадном ленинграде\n",
      "- заели! вы можете хоть чем-то гордиться? в ссср, во время войны создали свой пенициллин\n",
      "- заебали! вы можете хоть чем-то гордиться? в ссср, во время войны создали свой пенициллин, в блокадном ленинграде\n",
      "- заебали! вы можете хоть чем-то гордиться? в ссср, во время войны создали свой пенициллин\n",
      "- Вы можете хоть чем-то гордиться? в СССР, во время войны создали свой пенициллин\n",
      "- Вы можете хоть чем-то гордиться? в СССР создали свой пенициллин\n",
      "---> заебали! вы можете хоть чем-то гордиться? в ссср, во время войны создали свой пенициллин, в блокадном ленинграде\n"
     ]
    },
    {
     "name": "stderr",
     "output_type": "stream",
     "text": [
      " 52%|█████▏    | 419/800 [02:36<02:32,  2.51it/s]"
     ]
    },
    {
     "name": "stdout",
     "output_type": "stream",
     "text": [
      "А что в кастрюле? уххх бля\n",
      "- А что в кастрюле?\n",
      "- А что в кастрюле\n",
      "- Что в кастрюле\n",
      "- А в кастрюле что\n",
      "- Что в кастрюле?\n",
      "- А в кастрюле что?\n",
      "- В кастрюле что?\n",
      "- В кастрюле что\n",
      "- что в кастрюле\n",
      "- А что в кастрюле?\n",
      "---> А что в кастрюле?\n"
     ]
    },
    {
     "name": "stderr",
     "output_type": "stream",
     "text": [
      " 52%|█████▎    | 420/800 [02:37<02:44,  2.30it/s]"
     ]
    },
    {
     "name": "stdout",
     "output_type": "stream",
     "text": [
      "летайте в космос, делайте побольше дырок в азоновой слое, рубите деревья, толи ещё будет, далбаёбы\n",
      "- летайте в космос, рубите деревья, толи ещё будет\n",
      "- летайте в космос, делайте побольше дыр в азоновой слое, рубите деревья, толи ещё будет\n",
      "- летайте в космос, делайте побольше дырок в азоновой слое, рубите деревья, толи ещё будет\n",
      "- Летайте в космос, рубите деревья, толи ещё будет\n",
      "- Летайте в космос, делайте больше дыр в азоновой слое, рубите деревья, толи ещё будет\n",
      "- Летайте в космос, делайте больше дырок в азоновой слое, рубите деревья, толи ещё будет\n",
      "- летайте в космос, делайте побольше деревьев, рубите деревья\n",
      "- Летайте в космос, рубите деревья, то ещё будет\n",
      "- Летайте в космос, делайте побольше дыр в азоновой слое, рубите деревья, толи ещё будет\n",
      "- летайте в космос, делайте побольше деревьев, рубите деревья, толи ещё будет\n",
      "---> летайте в космос, делайте побольше дырок в азоновой слое, рубите деревья, толи ещё будет\n"
     ]
    },
    {
     "name": "stderr",
     "output_type": "stream",
     "text": [
      " 53%|█████▎    | 421/800 [02:37<02:38,  2.39it/s]"
     ]
    },
    {
     "name": "stdout",
     "output_type": "stream",
     "text": [
      "как всегда найдётся во всех смыслах пидорас который начинает поганить имя великого человека\n",
      "- как всегда найдётся человек который начинает портить имя великого человека\n",
      "- как всегда найдется человек который начинает портить имя великого человека\n",
      "- Как всегда найдётся человек который начинает портить имя великого человека\n",
      "- как всегда найдётся во всех смыслах человек который начинает портить имя великого человека\n",
      "- как всегда найдётся человек, который начинает портить имя великого человека\n",
      "- Как всегда найдётся человек, который начинает портить имя великого человека\n",
      "- как всегда найдётся человек который начинает осквернять имя великого человека\n",
      "- как всегда найдётся человек который начинает нарушать имя великого человека\n",
      "- как всегда найдётся кто начинает портить имя великого человека\n",
      "- как всегда найдётся человек который начинает скверно говорить имя великого человека\n",
      "---> как всегда найдётся во всех смыслах человек который начинает портить имя великого человека\n"
     ]
    },
    {
     "name": "stderr",
     "output_type": "stream",
     "text": [
      " 53%|█████▎    | 422/800 [02:38<02:48,  2.24it/s]"
     ]
    },
    {
     "name": "stdout",
     "output_type": "stream",
     "text": [
      "Данные из тупого идиота и руССкого фашиста Мендел еева: русских в 1950 году должно быть 350 миллионов\n",
      "- Данные из русского фашиста Мендел еёва: русских в 1950 году должно быть 350 миллионов\n",
      "- Данные из русского человека Мендел еёва: русских в 1950 году должно быть 350 миллионов\n",
      "- Данные из русского фашиста Мендел еева: русских в 1950 году должно быть 350 миллионов\n",
      "- Данные из русского человека Мендел еева: русских в 1950 году должно быть 350 миллионов\n",
      "- Данные из глупого человека и русского фашиста Мендел еёва: русских в 1950 году должно быть 350 миллионов\n",
      "- Данные из глупого человека и русского фашиста Мендел еева: русских в 1950 году должно быть 350 миллионов\n",
      "- Данные из фашиста Мендел еёва: русских в 1950 году должно быть 350 миллионов\n",
      "- Данные из плохого человека и русского фашиста Мендел еёва: русских в 1950 году должно быть 350 миллионов\n",
      "- Данные из фашиста Мендел еева: русских в 1950 году должно быть 350 миллионов\n",
      "- Данные из плохого человека и русского фашиста Мендел еева: русских в 1950 году должно быть 350 миллионов\n",
      "---> Данные из плохого человека и русского фашиста Мендел еева: русских в 1950 году должно быть 350 миллионов\n"
     ]
    },
    {
     "name": "stderr",
     "output_type": "stream",
     "text": [
      " 53%|█████▎    | 423/800 [02:38<03:00,  2.09it/s]"
     ]
    },
    {
     "name": "stdout",
     "output_type": "stream",
     "text": [
      "спят.и зарплата заоблачная.у меня слов нет.перестрелять всех.хорошо устроились зачем о людях думать.твари.\n",
      "- спят.и зарплата заоблачная.у меня слов нет.перестрелять всех\n",
      "- спят.и зарплата заоблачная.у меня слов нет\n",
      "- спят.и зарплата заоблачная.у меня слов нет.перестрелять всех.хорошо устроились\n",
      "- спят.и зарплата заоблачная.у меня слов нет.перестрелять всех.хорошо устроились зачем о людях думать\n",
      "- спят.и зарплата хорошая.у меня слов нет.перестрелять всех\n",
      "- спят. и зарплата заоблачная.у меня слов нет.перестрелять всех\n",
      "- спят.и зарплата хорошая.у меня слов нет\n",
      "- спят.и зарплата хорошая.у меня слов нет.перестрелять всех.хорошо устроились\n",
      "- спят. и зарплата заоблачная.у меня слов нет\n",
      "- спят. и зарплата заоблачная.у меня слов нет.перестрелять всех.хорошо устроились\n",
      "---> спят.и зарплата заоблачная.у меня слов нет.перестрелять всех.хорошо устроились зачем о людях думать\n"
     ]
    },
    {
     "name": "stderr",
     "output_type": "stream",
     "text": [
      " 53%|█████▎    | 424/800 [02:39<03:06,  2.01it/s]"
     ]
    },
    {
     "name": "stdout",
     "output_type": "stream",
     "text": [
      "Тупая пидораха, хватит мыслить шаблонами и приписывать левакам свои фантазии в стиле ыыыы атнять и паделить .\n",
      "- Хватит мыслить шаблонами и приписывать левакам свои фантазии\n",
      "- Хватит мыслить шаблонами и приписывать левакам свои фантазии в стиле ыыы\n",
      "- Хватит думать шаблонами и приписывать левакам свои фантазии\n",
      "- Не надо мыслить шаблонами и приписывать левакам свои фантазии\n",
      "- Хватит мыслить шаблонами и приписывать левакам свои фантазии в стиле ыыыы\n",
      "- Хватит думать шаблонами и приписывать левакам свои фантазии в стиле ыыы\n",
      "- Не надо мыслить шаблонами и приписывать левакам свои фантазии в стиле ыыы\n",
      "- Плохая девушка, хватит мыслить шаблонами и приписывать левакам свои фантазии\n",
      "- Плохая девушка, хватит мыслить шаблонами и приписывать левакам свои фантазии в стиле ыыы\n",
      "- Не надо думать шаблонами и приписывать левакам свои фантазии в стиле ыыы\n",
      "---> Плохая девушка, хватит мыслить шаблонами и приписывать левакам свои фантазии в стиле ыыы\n"
     ]
    },
    {
     "name": "stderr",
     "output_type": "stream",
     "text": [
      " 53%|█████▎    | 425/800 [02:39<02:39,  2.36it/s]"
     ]
    },
    {
     "name": "stdout",
     "output_type": "stream",
     "text": [
      "тебе насрать на слезы матери\n",
      "- тебе насрать на слезы матери\n",
      "- Тебе насрать на слезы матери\n",
      "- тебе насрать на слёзы матери\n",
      "- тебе все равно\n",
      "- Тебе все равно\n",
      "- Тебе насрать на слёзы матери\n",
      "- Тебе всё равно\n",
      "- Тебе все равно на слезы матери\n",
      "- Тебе все равно на слёзы матери\n",
      "- тебе все равно на слезы матери\n",
      "---> тебе все равно на слезы матери\n"
     ]
    },
    {
     "name": "stderr",
     "output_type": "stream",
     "text": [
      " 53%|█████▎    | 426/800 [02:39<02:27,  2.54it/s]"
     ]
    },
    {
     "name": "stdout",
     "output_type": "stream",
     "text": [
      "да что мы хотим от придурка , он таковым будет всегда\n",
      "- да что мы хотим от него, он таким будет всегда\n",
      "- да что мы хотим от него, он таковым будет всегда\n",
      "- да что мы хотим от него, он таким будет всегда\n",
      "- Да что мы хотим от него, он таким будет всегда\n",
      "- Да что мы хотим от него, он таким и останется\n",
      "- да что мы хотим от него, он таковым будет всегда\n",
      "- Да что мы хотим от него\n",
      "- Да что мы хотим от человека, он таким будет всегда\n",
      "- Да что мы хотим от него, он таким и будет\n",
      "- да что мы хотим от него, он таким и останется\n",
      "---> Да что мы хотим от человека, он таким будет всегда\n"
     ]
    },
    {
     "name": "stderr",
     "output_type": "stream",
     "text": [
      " 53%|█████▎    | 427/800 [02:40<02:17,  2.71it/s]"
     ]
    },
    {
     "name": "stdout",
     "output_type": "stream",
     "text": [
      "эти два пидораса несут нешей молодежи сраные арр европейские ценности\n",
      "- эти два человека несут нешей молодежи европейские ценности\n",
      "- Эти два человека несут нешей молодежи европейские ценности\n",
      "- Эти люди несут нешей молодежи европейские ценности\n",
      "- эти люди несут нешей молодежи европейские ценности\n",
      "- эти двое несут нешей молодежи европейские ценности\n",
      "- Эти двое несут нешей молодежи европейские ценности\n",
      "- они несут нешей молодежи европейские ценности\n",
      "- Они несут нешей молодежи европейские ценности\n",
      "- Эти два человека несут нешей молодёжи европейские ценности\n",
      "- эти два человека несут нешей молодежи арр европейские ценности\n",
      "---> эти два человека несут нешей молодежи арр европейские ценности\n"
     ]
    },
    {
     "name": "stderr",
     "output_type": "stream",
     "text": [
      " 54%|█████▎    | 428/800 [02:40<02:12,  2.81it/s]"
     ]
    },
    {
     "name": "stdout",
     "output_type": "stream",
     "text": [
      "Мне как-то поебать, что там у тебя\n",
      "- Мне как-то все равно, что там у тебя\n",
      "- Мне как-то всё равно, что там у тебя\n",
      "- Мне как то все равно, что там у тебя\n",
      "- Мне не интересно, что там у тебя\n",
      "- Мне как-то пофиг, что там у тебя\n",
      "- Мне как-то все равно что там у тебя\n",
      "- Мне неинтересно, что там у тебя\n",
      "- Мне как-то наплевать, что там у тебя\n",
      "- Мне как-то не интересно, что там у тебя\n",
      "- Мне как то всё равно, что там у тебя\n",
      "---> Мне как-то не интересно, что там у тебя\n"
     ]
    },
    {
     "name": "stderr",
     "output_type": "stream",
     "text": [
      " 54%|█████▎    | 429/800 [02:40<02:13,  2.79it/s]"
     ]
    },
    {
     "name": "stdout",
     "output_type": "stream",
     "text": [
      "ебанная турция, а нашим чё там сука бриллиантами намазано ебланы фу сука придурки8oi\n",
      "- Турция, а нашим что там бриллиантами намазано\n",
      "- А нашим что там бриллиантами намазано\n",
      "- турция, а нашим чё там бриллиантами намазано\n",
      "- Турция, а нашим чё там бриллиантами намазано\n",
      "- Турция, а нашим что там бриллиантами намазали\n",
      "- а нашим чё там бриллиантами намазано\n",
      "- А нашим что там бриллиантами намазали\n",
      "- Турция, а нашим чего там бриллиантами намазано\n",
      "- Турция, а нам что там бриллиантами намазано\n",
      "- А нам что там бриллиантами намазано\n",
      "---> Турция, а нашим чего там бриллиантами намазано\n"
     ]
    },
    {
     "name": "stderr",
     "output_type": "stream",
     "text": [
      " 54%|█████▍    | 430/800 [02:41<02:17,  2.69it/s]"
     ]
    },
    {
     "name": "stdout",
     "output_type": "stream",
     "text": [
      "решили с женой начать все сначала, так она, блядь, даже на свидание не пришла 😆\n",
      "- Решили с женой начать все сначала, так она даже на свидание не пришла\n",
      "- решили с женой начать все сначала, так она, даже на свидание не пришла\n",
      "- Решили с женой начать все сначала, так она, даже на свидание не пришла\n",
      "- решили с женой начать все сначала, так она даже на свидание не пришла\n",
      "- Решили с женой начать всё сначала, так она даже на свидание не пришла\n",
      "- Решили с женой начать всё сначала, так она, даже на свидание не пришла\n",
      "- Решили с женой начать все сначала,так она даже на свидание не пришла\n",
      "- Решили с женой начать все сначала, так она на свидание не пришла\n",
      "- Решили с женой начать все сначала, она даже на свидание не пришла\n",
      "- Решили с женой начать все сначала, так она не пришла\n",
      "---> Решили с женой начать всё сначала, так она, даже на свидание не пришла\n"
     ]
    },
    {
     "name": "stderr",
     "output_type": "stream",
     "text": [
      " 54%|█████▍    | 431/800 [02:41<02:51,  2.15it/s]"
     ]
    },
    {
     "name": "stdout",
     "output_type": "stream",
     "text": [
      "может быть и Беслан и Норд Ост,но ты так и не сказал,пидорандель, это ДРУГОЕ, эуропэйское, или то же самое?\n",
      "- Может быть и Беслан и Норд Ост, но ты так и не сказал, что это другое\n",
      "- Может быть и Беслан и Норд Ост, но ты так и не сказал, это другое\n",
      "- Может быть и Беслан и Норд Ост,но ты так и не сказал, это другое\n",
      "- Может быть и Беслан и Норд Ост,но ты так и не сказал, это ДРУГОЕ, эуропэйское, или то же самое?\n",
      "- может быть и Беслан и Норд Ост,но ты так и не сказал, это ДРУГОЕ, эуропэйское, или то же самое?\n",
      "- Может быть и Беслан и Норд Ост,но ты так и не сказал,это другое\n",
      "- Может быть и Беслан и Норд Ост,но ты так и не сказал, это другое, эуропэйское, или то же самое?\n",
      "- Может быть и Беслан и Норд Ост,но ты так и не сказал,это другое,эуропэйское, или то же самое?\n",
      "- Может быть и Беслан и Норд Ост, но ты так и не сказал, это другое, эуропэйское, или то же самое?\n",
      "- Может быть и Беслан и Норд Ост, но ты так и не сказал, это ДРУГОЕ, эуропэйское, или то же самое?\n",
      "---> Может быть и Беслан и Норд Ост, но ты так и не сказал, это ДРУГОЕ, эуропэйское, или то же самое?\n"
     ]
    },
    {
     "name": "stderr",
     "output_type": "stream",
     "text": [
      " 54%|█████▍    | 432/800 [02:42<02:42,  2.27it/s]"
     ]
    },
    {
     "name": "stdout",
     "output_type": "stream",
     "text": [
      "америка за бугром их в месте с выводком за яйца давно держит\n",
      "- америка за бугром их в месте с выводком давно держит\n",
      "- америка их в месте с выводком давно держит\n",
      "- США за бугром их в месте с выводком давно держит\n",
      "- США за рубежом их в месте с выводком давно держит\n",
      "- америка за бугром их в месте с выводком за яйца давно держит\n",
      "- американцы за бугром их в месте с выводком давно держит\n",
      "- США за границей их в месте с выводком давно держит\n",
      "- америка за бугром их давно держит\n",
      "- америка за бугром их в месте с выводком за уши давно держит\n",
      "- америка за рубежом их в месте с выводком давно держит\n",
      "---> америка за бугром их в месте с выводком за яйца давно держит\n"
     ]
    },
    {
     "name": "stderr",
     "output_type": "stream",
     "text": [
      " 54%|█████▍    | 433/800 [02:42<02:45,  2.22it/s]"
     ]
    },
    {
     "name": "stdout",
     "output_type": "stream",
     "text": [
      "во блин удивили я такого хуеча каждый день на праце штук по 50 делаю🤣🤭\n",
      "- удивил меня каждый день на праце штук по 50 делаю\n",
      "- удивил меня каждый день на праце штук по 50 делаю🤣🤭\n",
      "- удивило меня каждый день на праце штук по 50 делаю\n",
      "- удивил я такого  каждый день на праце штук по 50 делаю🤣🤭\n",
      "- удивил я такого необычного каждый день на праце штук по 50 делаю🤣🤭\n",
      "- Во блин удивили, каждый день на праце штук по 50 делаю\n",
      "- удивил я такого плохого каждый день на праце штук по 50 делаю🤣🤭\n",
      "- удивил я такого необычного каждый день на праце штук по 50 делаю\n",
      "- удивило меня каждый день на праце штук по 50 делаю🤣🤭\n",
      "- Во блин удивили я такого плохого каждый день на праце штук по 50 делаю🤣🤭\n",
      "---> Во блин удивили я такого плохого каждый день на праце штук по 50 делаю🤣🤭\n"
     ]
    },
    {
     "name": "stderr",
     "output_type": "stream",
     "text": [
      " 54%|█████▍    | 434/800 [02:43<02:44,  2.23it/s]"
     ]
    },
    {
     "name": "stdout",
     "output_type": "stream",
     "text": [
      "слышь курица ты бы не оскорбляла бы наций не которые тебя реально могут поймать язык твой засунут кое куда\n",
      "- слышь ты бы не оскорбляла бы наций не которые тебя реально могут поймать\n",
      "- слышь ты, ты бы не оскорбляла бы наций не которые тебя реально могут поймать\n",
      "- слышь, ты бы не оскорбляла бы наций не которые тебя реально могут поймать\n",
      "- Слышь ты, ты бы не оскорбляла бы наций не которые тебя реально могут поймать\n",
      "- слышь ты, ты бы не оскорбляла наций не которые тебя реально могут поймать\n",
      "- Слышь ты, ты бы не оскорбляла наций не которые тебя реально могут поймать\n",
      "- слышь ты бы не оскорбляла бы наций не которые тебя реально могут поймать language\n",
      "- Слышь ты бы не оскорбляла бы наций не которые тебя реально могут поймать\n",
      "- Слышь ты, ты бы не оскорбляла бы наций не которые тебя реально могут поймать.\n",
      "- Слышь ты, ты бы не оскорбляла бы наций, которые тебя реально могут поймать.\n",
      "---> слышь ты бы не оскорбляла бы наций не которые тебя реально могут поймать language\n"
     ]
    },
    {
     "name": "stderr",
     "output_type": "stream",
     "text": [
      " 54%|█████▍    | 435/800 [02:43<02:51,  2.12it/s]"
     ]
    },
    {
     "name": "stdout",
     "output_type": "stream",
     "text": [
      "интересно как же будут переобуваться лукошенкинские жополизы? вот посмотрим тогда что-же они петь будут?\n",
      "- интересно как же будут переобуваться лукошенкинские люди? вот посмотрим тогда что-же они петь будут?\n",
      "- интересно как же будут переобуваться лукошенкинские люди? вот посмотрим тогда что-же они петь будут\n",
      "- Интересно как же будут переобуваться лукошенкинские люди? Вот посмотрим тогда что-же они петь будут?\n",
      "- интересно как же будут переобуваться лукошенкинские чиновники? вот посмотрим тогда что-же они петь будут?\n",
      "- Интересно как же будут переобуваться лукошенкинские люди? Вот посмотрим тогда что-же они петь будут\n",
      "- Интересно как же будут переобуваться лукошенковские люди? Вот посмотрим тогда что-же они петь будут?\n",
      "- Интересно как же будут переобуваться лукошенковские люди? Вот посмотрим тогда что-же они петь будут\n",
      "- Интересно как же будут переобуваться лукошенкинские чиновники? Вот посмотрим тогда что-же они петь будут?\n",
      "- Интересно как же будут переобуваться лукошенкинские чиновники? Вот посмотрим тогда что-же они петь будут\n",
      "- Интересно как же будут переобуваться лукошенковские чиновники? Вот посмотрим тогда что-же они петь будут?\n",
      "---> Интересно как же будут переобуваться лукошенковские чиновники? Вот посмотрим тогда что-же они петь будут?\n"
     ]
    },
    {
     "name": "stderr",
     "output_type": "stream",
     "text": [
      " 55%|█████▍    | 436/800 [02:44<02:46,  2.18it/s]"
     ]
    },
    {
     "name": "stdout",
     "output_type": "stream",
     "text": [
      "и доебывал ее до тех пор пока она сука не взвыла, методов много..\n",
      "- и доебывал ее до тех пор пока она не взвыла, методов много..\n",
      "- и доставал ее до тех пор пока она не взвыла, методов много..\n",
      "- и избивал ее до тех пор пока она не взвыла, методов много..\n",
      "- И избивал ее до тех пор пока она не взвыла, методов много\n",
      "- и бил ее до тех пор пока она не взвыла, методов много..\n",
      "- И избивал ее до тех пор пока она не закричала, методов много\n",
      "- и доставал ее до тех пор пока она не взвыла, методов много\n",
      "- И доставал ее до тех пор пока она не взвыла, методов много\n",
      "- И избивал её до тех пор пока она не взвыла, методов много\n",
      "- И избивал ее до тех пор пока она не заплакала, методов много\n",
      "---> И избивал ее до тех пор пока она не заплакала, методов много\n"
     ]
    },
    {
     "name": "stderr",
     "output_type": "stream",
     "text": [
      " 55%|█████▍    | 437/800 [02:44<02:22,  2.55it/s]"
     ]
    },
    {
     "name": "stdout",
     "output_type": "stream",
     "text": [
      "вы хотите зеленского, шута гребанного, тупого?\n",
      "- вы хотите Зеленского\n",
      "- Вы хотите Зеленского\n",
      "- вы хотите шута\n",
      "- вы хотите шута?\n",
      "- вы хотите Зеленского?\n",
      "- вы хотите президента Украины\n",
      "- Вы хотите Зеленского?\n",
      "- вы хотите этого человека\n",
      "- вы хотите шута иностранного\n",
      "- вы хотите шута представлять?\n",
      "---> вы хотите шута представлять?\n"
     ]
    },
    {
     "name": "stderr",
     "output_type": "stream",
     "text": [
      " 55%|█████▍    | 438/800 [02:44<02:05,  2.88it/s]"
     ]
    },
    {
     "name": "stdout",
     "output_type": "stream",
     "text": [
      "пошла на хуй с этой группи ...\n",
      "- Уйди с этой группи\n",
      "- Ушла с этой группи\n",
      "- Уйди с этой группировки\n",
      "- Пошла с этой группи\n",
      "- Ушла с этой группировки\n",
      "- Отстань с этой группи\n",
      "- Уходи\n",
      "- Уйду с этой группи\n",
      "- Уйду с этой группировки\n",
      "- Уходи с этой группи\n",
      "---> Уйду с этой группировки\n"
     ]
    },
    {
     "name": "stderr",
     "output_type": "stream",
     "text": [
      " 55%|█████▍    | 439/800 [02:44<01:58,  3.06it/s]"
     ]
    },
    {
     "name": "stdout",
     "output_type": "stream",
     "text": [
      "плешивому псу совершенно похуй проблемы пенсионеров.\n",
      "- Ему все равно проблемы пенсионеров\n",
      "- Ему абсолютно все равно проблемы пенсионеров\n",
      "- Ему всё равно проблемы пенсионеров\n",
      "- Ему абсолютно всё равно проблемы пенсионеров\n",
      "- Ему безразлично проблемы пенсионеров\n",
      "- Ему наплевать проблемы пенсионеров\n",
      "- Ему совершенно все равно проблемы пенсионеров\n",
      "- Ему все равно, проблемы пенсионеров\n",
      "- Он не думает о проблемах пенсионеров\n",
      "- Плохому человеку абсолютно все равно проблемы пенсионеров\n",
      "---> Плохому человеку абсолютно все равно проблемы пенсионеров\n"
     ]
    },
    {
     "name": "stderr",
     "output_type": "stream",
     "text": [
      " 55%|█████▌    | 440/800 [02:45<02:02,  2.93it/s]"
     ]
    },
    {
     "name": "stdout",
     "output_type": "stream",
     "text": [
      "пошёл на хер! на кол его,мудак какой-то,кто эт воще,первый раз слышу эту фамилию и имя\n",
      "- На кол его\n",
      "- Кто это? Первый раз слышу эту фамилию и имя\n",
      "- Кто это вообще первый раз слышу\n",
      "- Кто это? Первый раз слышу эту фамилию\n",
      "- Кто это, первый раз слышу эту фамилию и имя\n",
      "- Кто это вообще, первый раз слышу эту фамилию и имя\n",
      "- На кол его, кто это вообще первый раз слышу\n",
      "- Кто это, первый раз слышу эту фамилию\n",
      "- Кто это вообще, первый раз слышу эту фамилию\n",
      "- На кол его, кто это, первый раз слышу эту фамилию и имя\n",
      "---> На кол его, кто это, первый раз слышу эту фамилию и имя\n"
     ]
    },
    {
     "name": "stderr",
     "output_type": "stream",
     "text": [
      " 55%|█████▌    | 441/800 [02:45<02:17,  2.61it/s]"
     ]
    },
    {
     "name": "stdout",
     "output_type": "stream",
     "text": [
      "то миллион, потом миллион двести, щас уже два с половиной! кто больше???????? унас не сми а пиздаболы!\n",
      "- то миллион, потом миллион двести, щас уже два с половиной! кто больше???????? у нас не сми\n",
      "- то миллион, потом миллион двести, щас уже два с половиной! кто больше????\n",
      "- то миллион, потом миллион двести, щас уже два с половиной! кто больше???????? унас не сми\n",
      "- то миллион, потом миллион двести, щас уже два с половиной! кто больше\n",
      "- то миллион, потом миллион двести, щас уже два с половиной! кто больше???? у нас не сми\n",
      "- то миллион, потом миллион двести, сейчас уже два с половиной! кто больше????\n",
      "- то миллион, потом миллион двести, щас уже два с половиной! кто больше????????\n",
      "- то миллион, потом миллион двести, щас уже два с половиной\n",
      "- то миллион, потом миллион двести, щас уже два с половиной! кто больше???? унас не сми\n",
      "- то миллион, потом миллион двести, сейчас уже два с половиной! кто больше\n",
      "---> то миллион, потом миллион двести, щас уже два с половиной! кто больше???????? у нас не сми\n"
     ]
    },
    {
     "name": "stderr",
     "output_type": "stream",
     "text": [
      " 55%|█████▌    | 442/800 [02:46<02:06,  2.84it/s]"
     ]
    },
    {
     "name": "stdout",
     "output_type": "stream",
     "text": [
      "но у пидарасов все всегда через жопу\n",
      "- Но у них все всегда не так\n",
      "- Но у них всё всегда не так\n",
      "- но у них все всегда не так\n",
      "- Но у них всегда все не так\n",
      "- Но у них все всегда плохо\n",
      "- Но у людей все всегда не так\n",
      "- Но у них всегда всё не так\n",
      "- но у них все всегда через жопу\n",
      "- Но у них все всегда через одно\n",
      "- Но у них все всегда не так.\n",
      "---> Но у них все всегда через одно\n"
     ]
    },
    {
     "name": "stderr",
     "output_type": "stream",
     "text": [
      " 55%|█████▌    | 443/800 [02:46<01:52,  3.18it/s]"
     ]
    },
    {
     "name": "stdout",
     "output_type": "stream",
     "text": [
      "вся страна против , вафлёр ты путинский\n",
      "- Вся страна против\n",
      "- Вся страна против\n",
      "- вся страна против\n",
      "- Всю страну против\n",
      "- Весь народ против\n",
      "- Все против\n",
      "- ВСЯ страна против\n",
      "- Весь мир против\n",
      "- Все страны против\n",
      "- Все страна против\n",
      "---> Все страна против\n"
     ]
    },
    {
     "name": "stderr",
     "output_type": "stream",
     "text": [
      " 56%|█████▌    | 444/800 [02:46<02:20,  2.53it/s]"
     ]
    },
    {
     "name": "stdout",
     "output_type": "stream",
     "text": [
      "Хули несмешно-то так? Такую хуиту обычный бомж(городской сумасшедший) лучше делает, когда к прохожим пристает орет на них.\n",
      "- Хули несмешно-то так? Такую ерунду обычный бомж(городской сумасшедший) лучше делает, когда к прохожим пристает\n",
      "- Хули несмешно-то так? Такую ерунду обычный человек(городской сумасшедший) лучше делает, когда к прохожим пристает\n",
      "- Хули несмешно-то так? Такую глупость обычный человек(городской сумасшедший) лучше делает, когда к прохожим пристает\n",
      "- Хули несмешно-то так? Такую ерунду обычный человек (городской сумасшедший) лучше делает, когда к прохожим пристает\n",
      "- не смешно-то так? Такую ерунду обычный человек(городской сумасшедший) лучше делает, когда к прохожим пристает\n",
      "- Хули несмешно-то так? Такую ерунду обычный городской сумасшедший лучше делает, когда к прохожим пристает\n",
      "- Хули несмешно-то так? Такую ерунду нормальный человек лучше делает, когда к прохожим пристает\n",
      "- Хули несмешно-то так? Такую ерунду обычный человек делает, когда к прохожим пристает\n",
      "- Хули несмешно-то так? Такую ерунду нормальный человек делает, когда к прохожим пристает\n",
      "- Хули несмешно-то так? Такую ерунду обычный городской сумасшедший делает, когда к прохожим пристает\n",
      "---> Хули несмешно-то так? Такую глупость обычный человек(городской сумасшедший) лучше делает, когда к прохожим пристает\n"
     ]
    },
    {
     "name": "stderr",
     "output_type": "stream",
     "text": [
      " 56%|█████▌    | 445/800 [02:47<02:30,  2.36it/s]"
     ]
    },
    {
     "name": "stdout",
     "output_type": "stream",
     "text": [
      "самое ублюдочное, когда при очевидном, срыва -нольном деянии, начинает ездить на пизде\n",
      "- самое ужасное, когда при очевидном, срыва -нольном деянии, начинает ездить\n",
      "- самое плохое, когда при очевидном, срыва -нольном деянии, начинает ездить\n",
      "- самое неприятное, когда при очевидном, срыва -нольном деянии, начинает ездить\n",
      "- самое плохое, когда при очевидном, сры -нольном деянии, начинает ездить\n",
      "- самое ужасное, когда при очевидном, сры -нольном деянии, начинает ездить\n",
      "- самое неприятное, когда при очевидном, сры -нольном деянии, начинает ездить\n",
      "- самое некрасивое, когда при очевидном, срыва -нольном деянии, начинает ездить\n",
      "- самое худшее, когда при очевидном, срыва -нольном деянии, начинает ездить\n",
      "- самое плохое, когда при очевидном, срыва -нольном деянии, начинает ездить на плохих поступках\n",
      "- самое ужасное, когда при очевидном, срыва -нольном деянии, начинает ездить на плохих поступках\n",
      "---> самое ужасное, когда при очевидном, срыва -нольном деянии, начинает ездить на плохих поступках\n"
     ]
    },
    {
     "name": "stderr",
     "output_type": "stream",
     "text": [
      " 56%|█████▌    | 446/800 [02:47<02:14,  2.63it/s]"
     ]
    },
    {
     "name": "stdout",
     "output_type": "stream",
     "text": [
      "с твоей доходной внешностью лучше завалить ебало.\n",
      "- С твоей доходной внешностью лучше уйти\n",
      "- С твоей доходной внешностью лучше не общаться\n",
      "- С твоей доходной внешностью лучше не связываться\n",
      "- с твоей доходной внешностью лучше уйти\n",
      "- С твоей доходной внешностью лучше помолчать\n",
      "- с твоей доходной внешностью лучше не общаться\n",
      "- С твоей доходной внешностью лучше отказаться\n",
      "- с твоей доходной внешностью лучше не связываться\n",
      "- С твоей доходной внешностью лучше не разговаривать\n",
      "- С твоей доходной внешностью лучше не встречаться\n",
      "---> С твоей доходной внешностью лучше не разговаривать\n"
     ]
    },
    {
     "name": "stderr",
     "output_type": "stream",
     "text": [
      " 56%|█████▌    | 447/800 [02:47<02:03,  2.86it/s]"
     ]
    },
    {
     "name": "stdout",
     "output_type": "stream",
     "text": [
      "Хули ты до него доебался ?\n",
      "- Почему ты до него докопался\n",
      "- Ты до него докопался\n",
      "- Зачем ты до него докопался\n",
      "- Почему ты до него дошёл\n",
      "- Что ты до него докопался\n",
      "- почему ты до него докопался\n",
      "- Ты до него дошёл\n",
      "- Почему ты до него докопался?\n",
      "- Почему ты до него докапываешься\n",
      "- Зачем ты до него дошёл\n",
      "---> Почему ты до него докапываешься\n"
     ]
    },
    {
     "name": "stderr",
     "output_type": "stream",
     "text": [
      " 56%|█████▌    | 448/800 [02:48<01:57,  3.00it/s]"
     ]
    },
    {
     "name": "stdout",
     "output_type": "stream",
     "text": [
      "пиздун!а что, ты сделал для своей страны!\n",
      "- А что ты сделал для своей страны\n",
      "- а что, ты сделал для своей страны\n",
      "- А что, ты сделал для своей страны\n",
      "- А что ты сделал для своей страны?\n",
      "- а что, ты сделал для своей страны!\n",
      "- А что, ты сделал для своей страны?\n",
      "- Что ты сделал для своей страны\n",
      "- а что, ты сделал для своей страны?\n",
      "- А что ты для своей страны сделал\n",
      "- а что ты сделал для своей страны\n",
      "---> а что, ты сделал для своей страны?\n"
     ]
    },
    {
     "name": "stderr",
     "output_type": "stream",
     "text": [
      " 56%|█████▌    | 449/800 [02:48<02:17,  2.56it/s]"
     ]
    },
    {
     "name": "stdout",
     "output_type": "stream",
     "text": [
      "вот то ебла, который справа, он пытается подрозить моего спаниеля, и даже превзошел его в длинне ушей\n",
      "- он пытается подрозить моего спаниеля\n",
      "- Он пытается подрозить моего спаниеля\n",
      "- он пытается подрозить моего спаниеля, и даже превзошел его в длинне ушей\n",
      "- он пытается подрозить моего спаниеля, и даже превзошёл его в длинне ушей\n",
      "- тот который справа, он пытается подрозить моего спаниеля\n",
      "- Этот человек пытается подрозить моего спаниеля\n",
      "- тот, который справа, он пытается подрозить моего спаниеля\n",
      "- тот который справа, он пытается подрозить моего спаниеля, и даже превзошел его в длинне ушей\n",
      "- тот, который справа, он пытается подрозить моего спаниеля, и даже превзошел его в длинне ушей\n",
      "- он пытается подрозить моего спаниеля, и даже превзошел его\n",
      "---> тот, который справа, он пытается подрозить моего спаниеля, и даже превзошел его в длинне ушей\n"
     ]
    },
    {
     "name": "stderr",
     "output_type": "stream",
     "text": [
      " 56%|█████▋    | 450/800 [02:49<02:17,  2.55it/s]"
     ]
    },
    {
     "name": "stdout",
     "output_type": "stream",
     "text": [
      "хорошее фото !скоро долбоебы будут про радугу спорить или уже спорят!\n",
      "- хорошее фото!скоро люди будут про радугу спорить или уже спорят!\n",
      "- хорошее фото!скоро будут про радугу спорить или уже спорят!\n",
      "- хорошее фото!скоро будут про радугу спорить\n",
      "- Хорошее фото! Скоро будут спорить\n",
      "- Хорошее фото! Скоро люди будут про радугу спорить или уже спорят!\n",
      "- хорошее фото!скоро люди будут про радугу спорить\n",
      "- Хорошее фото. Скоро будут спорить\n",
      "- Хорошее фото, скоро будут спорить\n",
      "- Хорошее фото! Скоро будут про радугу спорить или уже спорят!\n",
      "- Хорошее фото! Скоро будут спорить.\n",
      "---> Хорошее фото! Скоро люди будут про радугу спорить или уже спорят!\n"
     ]
    },
    {
     "name": "stderr",
     "output_type": "stream",
     "text": [
      " 56%|█████▋    | 451/800 [02:49<02:06,  2.76it/s]"
     ]
    },
    {
     "name": "stdout",
     "output_type": "stream",
     "text": [
      "никакие штрафы не остановят этих тварей.\n",
      "- Никакие штрафы не остановят этих людей\n",
      "- никакие штрафы не остановят этих людей\n",
      "- Никакие штрафы не остановят их\n",
      "- никакие штрафы не остановят\n",
      "- никакие штрафы не остановят этих людей.\n",
      "- Никакие штрафы не остановят этих людей.\n",
      "- Никакие штрафы их не остановят\n",
      "- никакие штрафы не остановят их\n",
      "- Никакие штрафы не остановят таких людей\n",
      "- Никакие штрафы не остановят этого человека\n",
      "---> Никакие штрафы не остановят этого человека\n"
     ]
    },
    {
     "name": "stderr",
     "output_type": "stream",
     "text": [
      " 56%|█████▋    | 452/800 [02:49<02:07,  2.73it/s]"
     ]
    },
    {
     "name": "stdout",
     "output_type": "stream",
     "text": [
      "он о стране думал,а путин о своём кармане,скоро съебнёт как гандон горбач\n",
      "- он о стране думал,а путин о своём кармане\n",
      "- Он о стране думал, а Путин о своём кармане\n",
      "- Он о стране думал,а Путин о своём кармане\n",
      "- он о стране думал,а путин о своем кармане\n",
      "- Он о стране думал, а Путин о своем кармане\n",
      "- он о стране думал,а Путин о своём кармане\n",
      "- он о стране думал, а путин о своём кармане\n",
      "- Он о стране думал,а путин о своём кармане\n",
      "- Он о стране думал, а путин о своём кармане\n",
      "- он о стране думал,а путин о своём кармане,скоро уедет\n",
      "---> он о стране думал,а путин о своём кармане,скоро уедет\n"
     ]
    },
    {
     "name": "stderr",
     "output_type": "stream",
     "text": [
      " 57%|█████▋    | 453/800 [02:50<01:58,  2.92it/s]"
     ]
    },
    {
     "name": "stdout",
     "output_type": "stream",
     "text": [
      "да нах ты с ним общаешься.алкашь он .пусть выебывается\n",
      "- Зачем ты с ним общаешься\n",
      "- Не надо с ним общаться\n",
      "- Зачем ты с ним общаешься?\n",
      "- Да зачем ты с ним общаешься\n",
      "- Зачем с ним общаешься\n",
      "- Он плохой человек\n",
      "- да зачем ты с ним общаешься\n",
      "- Зачем с ним общаешься?\n",
      "- Да он плохой человек\n",
      "- Да зачем ты с ним общаешься?\n",
      "---> Да зачем ты с ним общаешься?\n"
     ]
    },
    {
     "name": "stderr",
     "output_type": "stream",
     "text": [
      " 57%|█████▋    | 454/800 [02:50<01:57,  2.94it/s]"
     ]
    },
    {
     "name": "stdout",
     "output_type": "stream",
     "text": [
      "каким же надо быть идиотом чтобы поверить пиздоболу за фото\n",
      "- каким же надо быть человеком чтобы поверить за фото\n",
      "- каким же надо быть человеком, чтобы поверить за фото\n",
      "- каким же надо быть человеком чтобы поверить человеку за фото\n",
      "- каким же надо быть человеком чтобы поверить ему за фото\n",
      "- каким же надо быть человеком чтобы поверить вранью за фото\n",
      "- каким же надо быть человеком чтобы поверить ему\n",
      "- Каким же надо быть человеком, чтобы поверить за фото\n",
      "- каким же надо быть человеком, чтобы поверить человеку за фото\n",
      "- каким же надо быть человеком чтобы поверить зафото\n",
      "- каким же надо быть человеком, чтобы поверить ему за фото\n",
      "---> каким же надо быть человеком, чтобы поверить человеку за фото\n"
     ]
    },
    {
     "name": "stderr",
     "output_type": "stream",
     "text": [
      " 57%|█████▋    | 455/800 [02:50<02:03,  2.79it/s]"
     ]
    },
    {
     "name": "stdout",
     "output_type": "stream",
     "text": [
      "тебе, хуеплету тупому, указанный вектор движения что ли не понятен?? на хуй, ебланина, на хуй\n",
      "- тебе указанный вектор движения что ли не понятен??\n",
      "- тебе, непонятный вектор движения что ли не понятен??\n",
      "- Тебе указанный вектор движения не понятен\n",
      "- тебе, человеку, указанный вектор движения что ли не понятен??\n",
      "- тебе, указывающий вектор движения что ли не понятен??\n",
      "- тебе,  указанный вектор движения что ли не понятен??\n",
      "- Тебе указанный вектор движения не понятен?\n",
      "- Тебе, непонятный вектор движения что ли не понятен\n",
      "- тебе указанный вектор движения что ли не понят??\n",
      "- Тебе, непонятный вектор движения что ли не понятен??\n",
      "---> тебе, человеку, указанный вектор движения что ли не понятен??\n"
     ]
    },
    {
     "name": "stderr",
     "output_type": "stream",
     "text": [
      " 57%|█████▋    | 456/800 [02:51<01:52,  3.06it/s]"
     ]
    },
    {
     "name": "stdout",
     "output_type": "stream",
     "text": [
      "ты знаешь что с тобой будет сучка\n",
      "- ты знаешь что с тобой будет\n",
      "- ты знаешь что с тобой случится\n",
      "- Ты знаешь что с тобой будет\n",
      "- Ты знаешь, что с тобой будет\n",
      "- ты знаешь, что с тобой будет\n",
      "- Ты знаешь что с тобой будет?\n",
      "- Ты знаешь что с тобой случится\n",
      "- ты знаешь что с тобой будет?\n",
      "- Ты знаешь что со мной будет\n",
      "- Знаешь что с тобой будет\n",
      "---> Ты знаешь что с тобой случится\n"
     ]
    },
    {
     "name": "stderr",
     "output_type": "stream",
     "text": [
      " 57%|█████▋    | 457/800 [02:51<01:52,  3.06it/s]"
     ]
    },
    {
     "name": "stdout",
     "output_type": "stream",
     "text": [
      "если либералы, пидоры его оправдывают-значит дерьмо!\n",
      "- если либералы его оправдывают-значит плохой\n",
      "- Если либералы его оправдывают-значит плохой\n",
      "- Если либералы его оправдывают значит плохой\n",
      "- если либералы его оправдывают-значит плохо\n",
      "- если либералы его оправдывают-значит плохой!\n",
      "- Если либералы его оправдывают-значит плохо\n",
      "- Если либералы его оправдывают-значит плохой человек\n",
      "- если либералы, его оправдывают-значит плохой\n",
      "- если либералы его оправдывают-значит плохие\n",
      "- Если либералы, его оправдывают-значит плохой\n",
      "---> Если либералы его оправдывают-значит плохой человек\n"
     ]
    },
    {
     "name": "stderr",
     "output_type": "stream",
     "text": [
      " 57%|█████▋    | 458/800 [02:51<01:52,  3.03it/s]"
     ]
    },
    {
     "name": "stdout",
     "output_type": "stream",
     "text": [
      "эти уроды вообще голову не включают, там точно одна труха\n",
      "- Эти люди вообще голову не включают, там точно одна ерунда\n",
      "- Они вообще голову не включают, там точно одна ерунда\n",
      "- они вообще голову не включают, там точно одна ерунда\n",
      "- эти люди вообще голову не включают, там точно одна ерунда\n",
      "- эти люди вообще голову не включают\n",
      "- Эти люди вообще голову не включают, там точно одна пустота\n",
      "- они вообще голову не включают\n",
      "- Эти люди вообще голову не включают, там точно одна ложь\n",
      "- Эти люди вообще голову не включают, там точно одна чепуха\n",
      "- Они вообще голову не включают, там точно одна пустота\n",
      "---> Эти люди вообще голову не включают, там точно одна пустота\n"
     ]
    },
    {
     "name": "stderr",
     "output_type": "stream",
     "text": [
      " 57%|█████▋    | 459/800 [02:52<02:08,  2.65it/s]"
     ]
    },
    {
     "name": "stdout",
     "output_type": "stream",
     "text": [
      "вот читаю вашу перепалку,и думаю,а на куя вам этот дебил нужен,чтобы с ним общаться,\n",
      "- вот читаю вашу перепалку,и думаю,а зачем вам этот человек нужен,чтобы с ним общаться\n",
      "- Вот читаю вашу перепалку, и думаю, а зачем вам этот человек нужен, чтобы с ним общаться\n",
      "- Вот читаю вашу перепалку, и думаю, зачем вам этот человек нужен, чтобы с ним общаться\n",
      "- Вот читаю вашу перепалку,и думаю,а зачем вам этот человек нужен,чтобы с ним общаться\n",
      "- вот читаю вашу перепалку,и думаю,а зачем вам этот человек нужен\n",
      "- вот читаю вашу перепалку,и думаю,а на куя вам этот человек нужен,чтобы с ним общаться\n",
      "- вот читаю вашу перепалку,и думаю,а зачем вам этот человек нужен, чтобы с ним общаться\n",
      "- Вот читаю вашу перепалку, и думаю,а зачем вам этот человек нужен, чтобы с ним общаться\n",
      "- Вот читаю вашу перепалку,и думаю,а зачем вам этот человек нужен, чтобы с ним общаться\n",
      "- Вот читаю вашу перепалку, и думаю, зачем вам этот человек нужен\n",
      "---> Вот читаю вашу перепалку, и думаю, а зачем вам этот человек нужен, чтобы с ним общаться\n"
     ]
    },
    {
     "name": "stderr",
     "output_type": "stream",
     "text": [
      " 57%|█████▊    | 460/800 [02:52<02:23,  2.37it/s]"
     ]
    },
    {
     "name": "stdout",
     "output_type": "stream",
     "text": [
      "если ты конкретно про меня, то ошибаешься, я хоть за чебурашку проголосую, только не за мразь плешивую\n",
      "- Если ты конкретно про меня, то ошибаешься, я хоть за кого угодно проголосую\n",
      "- если ты конкретно про меня, то ошибаешься, я хоть за чебурашку проголосую\n",
      "- Если ты конкретно про меня, то ошибаешься, я хоть за кого-нибудь проголосую\n",
      "- Если ты конкретно про меня, то ошибаешься, я хоть за чебурашку проголосую\n",
      "- если ты конкретно про меня, то ошибаешься, я хоть за чебурашку проголосую, только не за него\n",
      "- если ты конкретно про меня, то ошибаешься, я хоть за кого угодно проголосую\n",
      "- Если ты конкретно про меня, то ошибаешься, я хоть за что угодно проголосую\n",
      "- Если ты конкретно про меня, то ошибаешься, я хоть за кого угодно проголосую, только не за этого\n",
      "- Если ты конкретно про меня, то ошибаешься, я хоть за кого проголосую\n",
      "- Если ты конкретно про меня, то ошибаешься, я хоть за чебурашку проголосую, только не за него\n",
      "---> Если ты конкретно про меня, то ошибаешься, я хоть за кого угодно проголосую, только не за этого\n"
     ]
    },
    {
     "name": "stderr",
     "output_type": "stream",
     "text": [
      " 58%|█████▊    | 461/800 [02:53<02:45,  2.05it/s]"
     ]
    },
    {
     "name": "stdout",
     "output_type": "stream",
     "text": [
      "блядь святой отвязался - 30 лет у власти а толку никуя и штиблеты с крокодила за 70тыров как на показ.шлюха\n",
      "- Святой отвязался - 30 лет у власти а толку ноль\n",
      "- Святой отвязался - 30 лет у власти а толку никакого\n",
      "- Святой отвязался- 30 лет у власти а толку ноль\n",
      "- святой отвязался - 30 лет у власти а толку никуя\n",
      "- Святой отвязался-30 лет у власти а толку ноль\n",
      "- святой отвязался - 30 лет у власти а толку никуя и штиблеты с крокодила за 70тыров как на показ\n",
      "- святой отвязался - 30 лет у власти а толку никуя и штиблеты с крокодила за 70тыров как на показ.\n",
      "- Святой отвязался - 30 лет у власти, а толку ноль\n",
      "- Святой отвязался - 30 лет у власти, а толку никакого\n",
      "- Святой отвязался - 30 лет у власти а толку ни какого\n",
      "---> святой отвязался - 30 лет у власти а толку никуя и штиблеты с крокодила за 70тыров как на показ.\n"
     ]
    },
    {
     "name": "stderr",
     "output_type": "stream",
     "text": [
      " 58%|█████▊    | 462/800 [02:53<02:38,  2.13it/s]"
     ]
    },
    {
     "name": "stdout",
     "output_type": "stream",
     "text": [
      "а ты тут гнилишь падоль себе спокойно на россию и прекрасно себя чухаешь.\n",
      "- а ты тут гнилишь себе спокойно на россию и прекрасно себя чухаешь\n",
      "- а ты тут гнилишь себе спокойно на россию и прекрасно себя чухаешь.\n",
      "- а ты тут себе спокойно на россию и прекрасно себя чухаешь\n",
      "- а ты тут гнилишь себе спокойно на россию и прекрасно себя чувствуешь\n",
      "- а ты тут себе спокойно на россию и прекрасно себя чухаешь.\n",
      "- А ты тут себе спокойно на Россию и прекрасно себя чувствуешь\n",
      "- а ты тут сидишь себе спокойно на россию и прекрасно себя чувствуешь\n",
      "- а ты тут себе спокойно на россию и прекрасно себя чувствуешь\n",
      "- А ты тут гнилишь себе спокойно на Россию и прекрасно себя чувствуешь\n",
      "- А ты тут сидишь себе спокойно на Россию и прекрасно себя чувствуешь\n",
      "---> А ты тут гнилишь себе спокойно на Россию и прекрасно себя чувствуешь\n"
     ]
    },
    {
     "name": "stderr",
     "output_type": "stream",
     "text": [
      " 58%|█████▊    | 463/800 [02:54<02:20,  2.41it/s]"
     ]
    },
    {
     "name": "stdout",
     "output_type": "stream",
     "text": [
      "руки отрубить тому кто это написал!\n",
      "- Наказать того кто это написал\n",
      "- Наказать тому кто это написал\n",
      "- Наказать того кто это написал!\n",
      "- Наказать тому кто это написал!\n",
      "- Наказать того, кто это написал\n",
      "- Наказать тому, кто это написал\n",
      "- Наказать его\n",
      "- руки отрубить тому кто это написал!\n",
      "- Наказать этого человека\n",
      "- Наказать того, кто это написал!\n",
      "---> руки отрубить тому кто это написал!\n"
     ]
    },
    {
     "name": "stderr",
     "output_type": "stream",
     "text": [
      " 58%|█████▊    | 464/800 [02:54<02:03,  2.72it/s]"
     ]
    },
    {
     "name": "stdout",
     "output_type": "stream",
     "text": [
      "и что все здохли кто знает\n",
      "- и что все умерли кто знает\n",
      "- И что все умерли кто знает\n",
      "- И что все умерли\n",
      "- И что все умерли, кто знает\n",
      "- и что все умерли\n",
      "- И что все погибли кто знает\n",
      "- и что все погибли кто знает\n",
      "- И что все умерли?\n",
      "- и что все умерли, кто знает\n",
      "- Кто знает\n",
      "---> и что все умерли, кто знает\n"
     ]
    },
    {
     "name": "stderr",
     "output_type": "stream",
     "text": [
      " 58%|█████▊    | 465/800 [02:54<02:01,  2.75it/s]"
     ]
    },
    {
     "name": "stdout",
     "output_type": "stream",
     "text": [
      "такие пидоросы и правят страной,не возмущайся народ.\n",
      "- такие люди и правят страной,не возмущайся народ\n",
      "- такие люди и правят страной,не возмущайся народ.\n",
      "- такие люди и правят страной\n",
      "- Такие люди и правят страной\n",
      "- такие и правят страной,не возмущайся народ\n",
      "- Такие люди и правят страной, не возмущайся народ\n",
      "- такие и правят страной\n",
      "- такие правят страной,не возмущайся народ\n",
      "- такие и правят страной,не возмущайся народ.\n",
      "- такие люди правят страной,не возмущайся народ\n",
      "---> Такие люди и правят страной, не возмущайся народ\n"
     ]
    },
    {
     "name": "stderr",
     "output_type": "stream",
     "text": [
      " 58%|█████▊    | 466/800 [02:55<02:21,  2.36it/s]"
     ]
    },
    {
     "name": "stdout",
     "output_type": "stream",
     "text": [
      "марионетка путька правит россией люди в нищете живут а ему по хуй вывод запад вторгся в россию без войны\n",
      "- марионетка путька правит россией люди в нищете живут а ему все равно вывод запад вторгся в россию без войны\n",
      "- путька правит россией люди в нищете живут а ему все равно вывод запад вторгся в россию без войны\n",
      "- марионетка путина правит россией люди в нищете живут а ему все равно вывод запад вторгся в россию без войны\n",
      "- марионетка путика правит россией люди в нищете живут а ему все равно вывод запад вторгся в россию без войны\n",
      "- марионетка путька правит россией люди в нищете живут а ему пофиг вывод запад вторгся в россию без войны\n",
      "- Марионетка путина правит россией люди в нищете живут а ему все равно вывод запад вторгся в россию без войны\n",
      "- Марионетка путина правит Россией люди в нищете живут а ему все равно вывод запад вторгся в россию без войны\n",
      "- Марионетка путька правит россией люди в нищете живут а ему все равно вывод запад вторгся в россию без войны\n",
      "- марионетка путина правит россией люди в нищете живут а ему пофиг вывод запад вторгся в россию без войны\n",
      "- марионетка путька правит россией люди в нищете живут а ему все равно вывод западные войска вторглись в россию без войны\n",
      "---> марионетка путька правит россией люди в нищете живут а ему все равно вывод западные войска вторглись в россию без войны\n"
     ]
    },
    {
     "name": "stderr",
     "output_type": "stream",
     "text": [
      " 58%|█████▊    | 467/800 [02:55<02:32,  2.18it/s]"
     ]
    },
    {
     "name": "stdout",
     "output_type": "stream",
     "text": [
      "эй вы..шавки которые меня называют...путиноидом..вам блядям ситуация с беларусью не о чем не говорит?а??\n",
      "- вам ситуация с беларусью не о чем не говорит?\n",
      "- вам ситуация с беларусью не о чем не говорит\n",
      "- вы..шавки которые меня называют...вам ситуация с беларусью не о чем не говорит?\n",
      "- вам ситуация с белорусией не о чем не говорит?\n",
      "- эй вы..шавки которые меня называют...вам ситуация с беларусью не о чем не говорит?\n",
      "- Эй вы..шавки которые меня называют..вам ситуация с беларусью не о чем не говорит?\n",
      "- вам ситуация с белорусией не о чем не говорит\n",
      "- Эй вы..шавки которые меня называют...вам ситуация с беларусью не о чем не говорит?\n",
      "- Эй вы..шавки которые меня называют...мне ситуация с беларусью не о чем не говорит?\n",
      "- вы..шавки которые меня называют...путиноидом..вам ситуация с беларусью не о чем не говорит?\n",
      "---> вы..шавки которые меня называют...путиноидом..вам ситуация с беларусью не о чем не говорит?\n"
     ]
    },
    {
     "name": "stderr",
     "output_type": "stream",
     "text": [
      " 58%|█████▊    | 468/800 [02:56<02:24,  2.29it/s]"
     ]
    },
    {
     "name": "stdout",
     "output_type": "stream",
     "text": [
      "хуйца пососи блядина лахтинская, иди на завод сосать хуй за 15К, под твои потребности как раз\n",
      "- иди на завод работать\n",
      "- иди на завод сосать за 15К\n",
      "- иди работай\n",
      "- иди работать\n",
      "- иди на завод сосать за 15К, под твои потребности как раз\n",
      "- иди работать на завод\n",
      "- иди на завод за 15К\n",
      "- иди на завод сосать, за 15К\n",
      "- иди на завод работать за 15К\n",
      "- иди на завод, под твои потребности как раз\n",
      "---> иди на завод сосать за 15К, под твои потребности как раз\n"
     ]
    },
    {
     "name": "stderr",
     "output_type": "stream",
     "text": [
      " 59%|█████▊    | 469/800 [02:56<02:18,  2.38it/s]"
     ]
    },
    {
     "name": "stdout",
     "output_type": "stream",
     "text": [
      "ну а что тут поделаешь ?? если у мужика рукки под хрен заточены\n",
      "- ну а что тут поделаешь?? если у мужчины руки заточены\n",
      "- Ну а что тут поделаешь? Если у мужчины руки заточены\n",
      "- ну а что тут поделаешь?? если у мужчины руки не заточены\n",
      "- ну а что тут поделаешь?? если у него руки не заточены\n",
      "- ну а что тут поделаешь?? если у мужчины руки под плохие заточены\n",
      "- ну а что тут поделаешь?? если у мужчины руки под конец заточены\n",
      "- ну а что тут поделаешь?? если у мужчины руки подкошены\n",
      "- ну а что тут поделаешь?? если у мужчины руки подкочены\n",
      "- ну а что тут поделаешь?? если у мужчины руки подоткнуты\n",
      "- ну а что тут поделаешь?? если у мужчины руки подоткроены\n",
      "---> ну а что тут поделаешь?? если у мужчины руки под плохие заточены\n"
     ]
    },
    {
     "name": "stderr",
     "output_type": "stream",
     "text": [
      " 59%|█████▉    | 470/800 [02:57<02:14,  2.45it/s]"
     ]
    },
    {
     "name": "stdout",
     "output_type": "stream",
     "text": [
      "и один пиздец дорогая. про него все забыли. а он помнит\n",
      "- и один плохой дорогой. про него все забыли. а он помнит\n",
      "- и один кошмар дорогая. про него все забыли. а он помнит\n",
      "- и один плохой человек дорогая. про него все забыли. а он помнит\n",
      "- и один человек дорогая. про него все забыли. а он помнит\n",
      "- и один ужасный дорогой. про него все забыли. а он помнит\n",
      "- и один нехороший дорогой. про него все забыли. а он помнит\n",
      "- И один кошмар дорогая. про него все забыли. а он помнит\n",
      "- и один нехороший человек дорогая. про него все забыли. а он помнит\n",
      "- И один плохой дорогой. Про него все забыли. А он помнит\n",
      "- И один плохой человек дорогая. про него все забыли. а он помнит\n",
      "---> и один нехороший человек дорогая. про него все забыли. а он помнит\n"
     ]
    },
    {
     "name": "stderr",
     "output_type": "stream",
     "text": [
      " 59%|█████▉    | 471/800 [02:57<02:13,  2.46it/s]"
     ]
    },
    {
     "name": "stdout",
     "output_type": "stream",
     "text": [
      "а ряженые пидорасы в халатах, что хотели изобразить, с дурки сбежали??,\n",
      "- а ряженые в халатах, что хотели изобразить, сбежали??\n",
      "- А ряженые в халатах, что хотели изобразить, сбежали??\n",
      "- а ряженые в халатах что хотели изобразить, сбежали??\n",
      "- А ряженые в халатах, что хотели изобразить?\n",
      "- А ряженые в халатах, что хотели изобразить, сбежали?\n",
      "- а ряженые в халатах, что хотели изобразить\n",
      "- А ряженые в халатах что хотели изобразить?\n",
      "- А ряженые в халатах, что хотели изобразить, сбежали\n",
      "- а ряженые люди в халатах, что хотели изобразить, сбежали??\n",
      "- а ряженые в халатах, что хотели изобразить, с ума сошли??\n",
      "---> а ряженые люди в халатах, что хотели изобразить, сбежали??\n"
     ]
    },
    {
     "name": "stderr",
     "output_type": "stream",
     "text": [
      " 59%|█████▉    | 472/800 [02:57<02:13,  2.45it/s]"
     ]
    },
    {
     "name": "stdout",
     "output_type": "stream",
     "text": [
      "а вы считаете он прав?ему навстречу пошли, а он как пидор конченый слился.\n",
      "- а вы считаете он прав?ему навстречу пошли, а он как плохой человек слился\n",
      "- А вы считаете он прав\n",
      "- А вы считаете он прав? Ему навстречу пошли, а он слился\n",
      "- а вы считаете он прав?ему навстречу пошли, а он слился\n",
      "- а вы считаете он прав\n",
      "- Он прав\n",
      "- А вы считаете он прав? Ему навстречу пошли, а он как плохой человек слился\n",
      "- а вы считаете он прав?ему навстречу пошли, а он как слился\n",
      "- а вы считаете он прав?ему навстречу пошли, а он как глупый слился\n",
      "- а вы считаете он прав?ему навстречу пошли, а он как плохой человек слился.\n",
      "---> а вы считаете он прав?ему навстречу пошли, а он как плохой человек слился.\n"
     ]
    },
    {
     "name": "stderr",
     "output_type": "stream",
     "text": [
      " 59%|█████▉    | 473/800 [02:58<02:16,  2.40it/s]"
     ]
    },
    {
     "name": "stdout",
     "output_type": "stream",
     "text": [
      "причина не в пришедших во власть долбоебов, а в население, которое этих долбоебов выбирает.\n",
      "- Причина не в пришедших во власть людей, а в население, которое их выбирает\n",
      "- причина не в пришедших во власть людей, а в население, которое этих людей выбирает\n",
      "- Причина не в пришедших во власть людей, а в население, которое этих людей выбирает\n",
      "- Причина не в пришедших во власть, а в население, которое их выбирает\n",
      "- причина не в пришедших во власть, а в население, которое этих людей выбирает\n",
      "- причина не в пришедших во власть людей, а в население, которое их выбирает\n",
      "- Причина не в пришедших во власть, а в население, которое этих людей выбирает\n",
      "- причина не в пришедших во власть, а в население, которое их выбирает\n",
      "- Причина не в пришедших во власть людей, а в население\n",
      "- Причина не в пришедших во власть людях, а в населении, которое их выбирает\n",
      "---> Причина не в пришедших во власть людей, а в население, которое этих людей выбирает\n"
     ]
    },
    {
     "name": "stderr",
     "output_type": "stream",
     "text": [
      " 59%|█████▉    | 474/800 [02:58<02:02,  2.67it/s]"
     ]
    },
    {
     "name": "stdout",
     "output_type": "stream",
     "text": [
      "смотрите хохлы ,не обосритесь !\n",
      "- Не позорьтесь\n",
      "- смотрите украинцы\n",
      "- смотрите украинцы,не обманывайте\n",
      "- смотрите украинцы,не обижайте\n",
      "- смотрите украинцы, не обижайте\n",
      "- смотрите украинцы,не позорьтесь\n",
      "- смотрите украинцы, не обманывайте\n",
      "- смотрите украинцы, не испортьте\n",
      "- смотрите украинцы, не обижайтесь\n",
      "- смотрите украинцы,не обижайтесь\n",
      "---> смотрите украинцы, не обманывайте\n"
     ]
    },
    {
     "name": "stderr",
     "output_type": "stream",
     "text": [
      " 59%|█████▉    | 475/800 [02:58<02:04,  2.62it/s]"
     ]
    },
    {
     "name": "stdout",
     "output_type": "stream",
     "text": [
      "этих пидарасов никогда не осудят. только с должности выгоняют и всё\n",
      "- их никогда не осудят. только с должности выгоняют и всё\n",
      "- Этих людей никогда не осудят\n",
      "- этих людей никогда не осудят. только с должности выгоняют и всё\n",
      "- их никогда не осудят. только с должности выгоняют\n",
      "- этих никогда не осудят. только с должности выгоняют и всё\n",
      "- этих людей никогда не осудят. только с должности выгоняют\n",
      "- Их никогда не осудят. Только с должности выгоняют и всё\n",
      "- Их никогда не осудят. Только с должности выгоняют\n",
      "- Этих людей никогда не осудят. Только с должности выгоняют и всё\n",
      "- этих никогда не осудят. только с должности выгоняют\n",
      "---> Этих людей никогда не осудят. Только с должности выгоняют и всё\n"
     ]
    },
    {
     "name": "stderr",
     "output_type": "stream",
     "text": [
      " 60%|█████▉    | 476/800 [02:59<02:02,  2.65it/s]"
     ]
    },
    {
     "name": "stdout",
     "output_type": "stream",
     "text": [
      "мерзавец ! совсем пропил свою совесть ! еще пытается критиковать работу других !\n",
      "- совсем потерял совесть! еще пытается критиковать работу других!\n",
      "- Совсем потерял совесть. Ещё пытается критиковать работу других\n",
      "- совсем потерял совесть! ещё пытается критиковать работу других!\n",
      "- Совсем потерял совесть, ещё пытается критиковать работу других\n",
      "- совсем пропил свою совесть! еще пытается критиковать работу других!\n",
      "- Совсем потерял совесть! Ещё пытается критиковать работу других\n",
      "- Совсем потерял совесть! Ещё пытается критиковать работу других!\n",
      "- Пропил свою совесть. Ещё пытается критиковать работу других\n",
      "- Пропил свою совесть, ещё пытается критиковать работу других\n",
      "- Пропил свою совесть! Ещё пытается критиковать работу других\n",
      "---> совсем пропил свою совесть! еще пытается критиковать работу других!\n"
     ]
    },
    {
     "name": "stderr",
     "output_type": "stream",
     "text": [
      " 60%|█████▉    | 477/800 [02:59<02:01,  2.67it/s]"
     ]
    },
    {
     "name": "stdout",
     "output_type": "stream",
     "text": [
      "ну и хуйня дешевая.лучше блять с детьми мульт смотреть лунтика)))\n",
      "- Лучше бы с детьми мультик смотреть\n",
      "- ну и ерунда дешевая.лучше блять с детьми мульт смотреть\n",
      "- Лучше бы с детьми мультик Лунтика смотреть\n",
      "- Лучше бы с детьми мульт смотреть\n",
      "- Лучше блять с детьми мультик смотреть\n",
      "- лучше блять с детьми мульт смотреть Лунтика\n",
      "- Лучше бы с детьми мультики смотреть\n",
      "- лучше бы с детьми мультик смотреть\n",
      "- лучше бы с детьми мульт смотреть\n",
      "- лучше блять с детьми мульт смотреть Лунтика)))\n",
      "---> ну и ерунда дешевая.лучше блять с детьми мульт смотреть\n"
     ]
    },
    {
     "name": "stderr",
     "output_type": "stream",
     "text": [
      " 60%|█████▉    | 478/800 [02:59<01:54,  2.82it/s]"
     ]
    },
    {
     "name": "stdout",
     "output_type": "stream",
     "text": [
      "да пидобол еще тот и кто его слушает одному богу известно\n",
      "- он ещё тот и кто его слушает одному богу известно\n",
      "- Кто его слушает, одному богу известно\n",
      "- кто его слушает одному богу известно\n",
      "- он еще тот и кто его слушает одному богу известно\n",
      "- Кто его слушает?\n",
      "- и кто его слушает одному богу известно\n",
      "- Кто его слушает одному богу известно\n",
      "- Он ещё тот и кто его слушает одному богу известно\n",
      "- Кто он такой и кто его слушает?\n",
      "- Кто он такой и кто его слушает одному богу известно\n",
      "---> Кто он такой и кто его слушает одному богу известно\n"
     ]
    },
    {
     "name": "stderr",
     "output_type": "stream",
     "text": [
      " 60%|█████▉    | 479/800 [03:00<01:46,  3.01it/s]"
     ]
    },
    {
     "name": "stdout",
     "output_type": "stream",
     "text": [
      "блядь чем вам сука тимати неугодил\n",
      "- Чем вам Тимати не угодил\n",
      "- Чем вам тимати не угодил\n",
      "- чем вам тимати неугодил\n",
      "- Чем вам Тимати неугодил\n",
      "- Чем он вам не угодил\n",
      "- чем вам тимати не угодил\n",
      "- Чем вам тимати неугодил\n",
      "- Чем вам Тимур не угодил\n",
      "- чем вам Тимати не угодил\n",
      "- Чем вам Тимур неугодил\n",
      "---> чем вам Тимати не угодил\n"
     ]
    },
    {
     "name": "stderr",
     "output_type": "stream",
     "text": [
      " 60%|██████    | 480/800 [03:00<01:38,  3.25it/s]"
     ]
    },
    {
     "name": "stdout",
     "output_type": "stream",
     "text": [
      "иди нахуй уж забыли фсе и фся\n",
      "- Уходи уж забыли все\n",
      "- Уходите уже\n",
      "- забыли все\n",
      "- Забыли все\n",
      "- Оставьте меня в покое\n",
      "- Уходите уж забыли все\n",
      "- Уходи уж забыли\n",
      "- забыли все и фся\n",
      "- Уйдите уже\n",
      "- Уйди уж забыли все\n",
      "---> Уходите уж забыли все\n"
     ]
    },
    {
     "name": "stderr",
     "output_type": "stream",
     "text": [
      " 60%|██████    | 481/800 [03:00<01:44,  3.07it/s]"
     ]
    },
    {
     "name": "stdout",
     "output_type": "stream",
     "text": [
      "ты блядота не имеешь отношения к ней никакого (ch) факт :-d\n",
      "- Ты не имеешь отношения к ней\n",
      "- Не имеешь отношения к ней\n",
      "- ты не имеешь отношения к ней никакого (ch) факт :-d\n",
      "- Ты не имеешь отношение к ней\n",
      "- не имеешь отношения к ней никакого\n",
      "- ты не имеешь отношения к ней никакого\n",
      "- Не имеешь отношение к ней\n",
      "- не имеешь отношения к ней никакого (ch) факт :-d\n",
      "- Вы не имеете отношения к ней\n",
      "- не имеешь отношения к ней\n",
      "---> ты не имеешь отношения к ней никакого (ch) факт :-d\n"
     ]
    },
    {
     "name": "stderr",
     "output_type": "stream",
     "text": [
      " 60%|██████    | 482/800 [03:01<01:40,  3.15it/s]"
     ]
    },
    {
     "name": "stdout",
     "output_type": "stream",
     "text": [
      "уебак. 10 тысяч много. бабушки получают по 7\n",
      "- 10 тысяч много. бабушки получают по 7\n",
      "- 10 тысяч много бабушки получают по 7\n",
      "- 10 тысяч много, бабушки получают по 7\n",
      "- 10 тысяч мало. бабушки получают по 7\n",
      "- 10 тысяч мало, бабушки получают по 7\n",
      "- Бабушки получают по 7\n",
      "- 10 тысяч много бабушки получают 7\n",
      "- 10 тысяч много бабушка получает по 7\n",
      "- У меня 10 тысяч, бабушки получают по 7\n",
      "- 10 тысяч много, бабушки получают 7\n",
      "---> У меня 10 тысяч, бабушки получают по 7\n"
     ]
    },
    {
     "name": "stderr",
     "output_type": "stream",
     "text": [
      " 60%|██████    | 483/800 [03:01<01:34,  3.34it/s]"
     ]
    },
    {
     "name": "stdout",
     "output_type": "stream",
     "text": [
      "этого пьяного урода видела вся\n",
      "- этого человека видела вся\n",
      "- Этого человека видела вся\n",
      "- его видела вся\n",
      "- Его видела вся\n",
      "- этого пьяного человека видела вся\n",
      "- Этого пьяного человека видела вся\n",
      "- этого нехорошего человека видела вся\n",
      "- этого плохого человека видела вся\n",
      "- этого мужчину видела вся\n",
      "- этого парня видела вся\n",
      "---> этого нехорошего человека видела вся\n"
     ]
    },
    {
     "name": "stderr",
     "output_type": "stream",
     "text": [
      " 60%|██████    | 484/800 [03:01<01:55,  2.74it/s]"
     ]
    },
    {
     "name": "stdout",
     "output_type": "stream",
     "text": [
      "слепят дешманское говнокитай а у фирмы свет мягкий неоновый на этом бампере висит целое состояние\n",
      "- слепят дешевое китайское а у фирмы свет мягкий неоновый на этом бампере висит целое состояние\n",
      "- Слепят дешёвое китайское, а у фирмы свет мягкий неоновый на этом бампере висит целое состояние\n",
      "- Слепят китайское, а у фирмы свет мягкий неоновый на этом бампере висит целое состояние\n",
      "- Слепят дешевое китайское, а у фирмы свет мягкий неоновый на этом бампере висит целое состояние\n",
      "- Слепят дешёвое китайское а у фирмы свет мягкий неоновый на этом бампере висит целое состояние\n",
      "- Слепят дешевое китайское а у фирмы свет мягкий неоновый на этом бампере висит целое состояние\n",
      "- Слепят дешёвое китайское, а у компании свет мягкий неоновый на этом бампере висит целое состояние\n",
      "- Слепят некачественное китайское, а у фирмы свет мягкий неоновый на этом бампере висит целое состояние\n",
      "- Слепят дешёвое китайское, а у фирмы свет мягкий неоновый на этом бампере висит целое состояние\n",
      "- Слепят дешевое китайское, а у компании свет мягкий неоновый на этом бампере висит целое состояние\n",
      "---> Слепят некачественное китайское, а у фирмы свет мягкий неоновый на этом бампере висит целое состояние\n"
     ]
    },
    {
     "name": "stderr",
     "output_type": "stream",
     "text": [
      " 61%|██████    | 485/800 [03:02<02:21,  2.23it/s]"
     ]
    },
    {
     "name": "stdout",
     "output_type": "stream",
     "text": [
      "мляяя..фомин..ты издесь умничаешь,чайка помойная...сука..неужели ты думаешь что уже непопробовали через друзей знвкомых?,\n",
      "- Фомин, ты здесь умничаешь, чайка.\n",
      "- Фомин, ты здесь умничаешь, чайка\n",
      "- Фомин..ты издесь умничаешь,чайка..неужели ты думаешь что уже непопробовали через друзей знвкомых?\n",
      "- Фомин, ты издесь умничаешь, чайка\n",
      "- Фомин ты здесь умничаешь, чайка\n",
      "- фуин..ты издесь умничаешь,чайка..неужели ты думаешь что уже непопробовали через друзей знвкомых?\n",
      "- Фомин, ты издесь умничаешь, чайка.\n",
      "- фуин..ты издесь умничаешь,чайка...неужели ты думаешь что уже непопробовали через друзей знвкомых?\n",
      "- Фомин..ты издесь умничаешь,чайка..неужели ты думаешь что уже попробовали через друзей знвкомых?\n",
      "- Фомин. Ты издесь умничаешь, чайка.\n",
      "---> фуин..ты издесь умничаешь,чайка...неужели ты думаешь что уже непопробовали через друзей знвкомых?\n"
     ]
    },
    {
     "name": "stderr",
     "output_type": "stream",
     "text": [
      " 61%|██████    | 486/800 [03:02<02:05,  2.51it/s]"
     ]
    },
    {
     "name": "stdout",
     "output_type": "stream",
     "text": [
      "люди ведут себя как безответственные дебилы\n",
      "- Люди ведут себя безответственно\n",
      "- Люди ведут себя как безответственные\n",
      "- люди ведут себя как безответственные\n",
      "- Люди ведут себя как безответственные люди\n",
      "- люди ведут себя как безответственные люди\n",
      "- Люди ведут себя как глупые люди\n",
      "- Люди ведут себя неправильно\n",
      "- Люди ведут себя как не ответственные\n",
      "- Люди ведут себя как люди\n",
      "- Люди ведут себя как необдуманные люди\n",
      "---> люди ведут себя как безответственные люди\n"
     ]
    },
    {
     "name": "stderr",
     "output_type": "stream",
     "text": [
      " 61%|██████    | 487/800 [03:03<02:20,  2.23it/s]"
     ]
    },
    {
     "name": "stdout",
     "output_type": "stream",
     "text": [
      "Вы правда считаете, что быдлокодер вашего софта на ПК и генно-кодер это один и тот же человек?\n",
      "- Вы правда считаете, что быдлокодер вашего софта на ПК и генно-кодер это один и тот же человек?\n",
      "- Вы правда считаете, что быдлокодер вашего софта на ПК и Генно-кодер это один и тот же человек?\n",
      "- вы правда считаете, что быдлокодер вашего софта на ПК и генно-кодер это один и тот же человек?\n",
      "- Вы правда считаете, что быдлокодер вашего софта на ПК и генно-кодер это один и тот же человек\n",
      "- Вы правда считаете, что быдлокодер вашего софта на ПК и Генно-кодер это один и тот же человек\n",
      "- вы правда считаете, что быдлокодер вашего софта на ПК и Генно-кодер это один и тот же человек?\n",
      "- Вы действительно считаете, что быдлокодер вашего софта на ПК и генно-кодер это один и тот же человек?\n",
      "- Вы правда считаете, что это один и тот же человек?\n",
      "- Вы правда считаете, что это один и тот же человек\n",
      "- вы правда считаете, что быдлокодер вашего софта на ПК и генно-кодер это один и тот же человек\n",
      "---> Вы действительно считаете, что быдлокодер вашего софта на ПК и генно-кодер это один и тот же человек?\n"
     ]
    },
    {
     "name": "stderr",
     "output_type": "stream",
     "text": [
      " 61%|██████    | 488/800 [03:03<02:02,  2.54it/s]"
     ]
    },
    {
     "name": "stdout",
     "output_type": "stream",
     "text": [
      "ты мразь навальный уйди с дороги россиян\n",
      "- Уйди с дороги россиян\n",
      "- уйди с дороги россиян\n",
      "- Уходи с дороги россиян\n",
      "- Выйди с дороги россиян\n",
      "- Уйди с дороги Россиян\n",
      "- Уйдите с дороги россиян\n",
      "- уходи с дороги россиян\n",
      "- Ты Навальный уйди с дороги россиян\n",
      "- Ты Навальный уходи с дороги россиян\n",
      "- Ты плохой человек уходи с дороги россиян\n",
      "---> Ты плохой человек уходи с дороги россиян\n"
     ]
    },
    {
     "name": "stderr",
     "output_type": "stream",
     "text": [
      " 61%|██████    | 489/800 [03:04<01:53,  2.73it/s]"
     ]
    },
    {
     "name": "stdout",
     "output_type": "stream",
     "text": [
      "у нас не правительство а одни пидоры конченые уебки ебучие\n",
      "- у нас не правительство а плохие люди\n",
      "- У нас не правительство, а плохие люди\n",
      "- у нас не правительство, а плохие люди\n",
      "- У нас не правительство а плохие люди\n",
      "- у нас не правительство,а плохие люди\n",
      "- у нас не правительство а нехорошие люди\n",
      "- У нас не правительство,а плохие люди\n",
      "- У нас не правительство.\n",
      "- У нас не правительство, а нехорошие люди\n",
      "- У нас нет правительства\n",
      "---> У нас не правительство, а нехорошие люди\n"
     ]
    },
    {
     "name": "stderr",
     "output_type": "stream",
     "text": [
      " 61%|██████▏   | 490/800 [03:04<01:41,  3.05it/s]"
     ]
    },
    {
     "name": "stdout",
     "output_type": "stream",
     "text": [
      "этово хмыря. накал посадить надо.\n",
      "- Его надо наказать\n",
      "- Этого человека надо наказать\n",
      "- его надо наказать\n",
      "- этого человека надо наказать\n",
      "- Это человека надо наказать\n",
      "- это его надо наказать\n",
      "- Это его надо наказать\n",
      "- Этого человека нужно наказать\n",
      "- Этого человека посадить надо\n",
      "- этот человека надо наказать\n",
      "---> Этого человека нужно наказать\n"
     ]
    },
    {
     "name": "stderr",
     "output_type": "stream",
     "text": [
      " 61%|██████▏   | 491/800 [03:04<01:43,  2.97it/s]"
     ]
    },
    {
     "name": "stdout",
     "output_type": "stream",
     "text": [
      "не стоит опускаться до уровня этого тупого быдла. тем более сейчас...\n",
      "- Не стоит опускаться до уровня этого человека. Тем более сейчас\n",
      "- Не стоит опускаться до уровня этого человека\n",
      "- не стоит опускаться до уровня этого человека. тем более сейчас\n",
      "- не стоит опускаться до уровня этого человека. тем более сейчас...\n",
      "- не стоит опускаться до уровня этого человека\n",
      "- Не стоит опускаться до уровня этого человека.Тем более сейчас\n",
      "- Не стоит опускаться до его уровня\n",
      "- Не стоит опускаться до его уровня. Тем более сейчас\n",
      "- не стоит опускаться до уровня этого человека.тем более сейчас\n",
      "- Не стоит опускаться до уровня этого человека, тем более сейчас\n",
      "---> не стоит опускаться до уровня этого человека. тем более сейчас...\n"
     ]
    },
    {
     "name": "stderr",
     "output_type": "stream",
     "text": [
      " 62%|██████▏   | 492/800 [03:04<01:36,  3.20it/s]"
     ]
    },
    {
     "name": "stdout",
     "output_type": "stream",
     "text": [
      "ты ебнулся , дядя ?\n",
      "- Ты не прав\n",
      "- ты не прав\n",
      "- ты с ума сошел\n",
      "- Ты врёшь\n",
      "- Ты что?\n",
      "- Ты с ума сошел\n",
      "- ты что?\n",
      "- ты врёшь\n",
      "- Дядя, ты не прав\n",
      "- Ты с ума сошёл\n",
      "---> Дядя, ты не прав\n"
     ]
    },
    {
     "name": "stderr",
     "output_type": "stream",
     "text": [
      " 62%|██████▏   | 493/800 [03:05<01:35,  3.21it/s]"
     ]
    },
    {
     "name": "stdout",
     "output_type": "stream",
     "text": [
      "Еще один петух решил легко заработать на донатах\n",
      "- Еще один человек решил легко заработать на донатах\n",
      "- Еще один человек решил заработать на донатах\n",
      "- Еще один человек решил легко заработать\n",
      "- Еще один решил легко заработать на донатах\n",
      "- еще один человек решил легко заработать на донатах\n",
      "- Еще один мужчина решил легко заработать на донатах\n",
      "- Еще один петух решил легко заработать на донатах\n",
      "- еще один человек решил легко заработать\n",
      "- Он решил легко заработать на донатах\n",
      "- Еще один парень решил легко заработать на донатах\n",
      "---> Еще один мужчина решил легко заработать на донатах\n"
     ]
    },
    {
     "name": "stderr",
     "output_type": "stream",
     "text": [
      " 62%|██████▏   | 494/800 [03:05<02:06,  2.43it/s]"
     ]
    },
    {
     "name": "stdout",
     "output_type": "stream",
     "text": [
      "Двощеры, поясните: чем он так плох? Поясняю: СЖВшным бомбит от его роликов про феминизм.\n",
      "- Двощеры, поясните: чем он так плох? Поясняю\n",
      "- Двощеры, поясните: чем он так плох?\n",
      "- Двощеры, поясните: чем он так плох? Поясняю: СЖВшным бомбит от его роликов про феминизм\n",
      "- Двощеры, поясните: чем он так плох? Поясняю: СЖВшным бомбит от его роликов про феминизм.\n",
      "- Двощеры, поясните, чем он так плох? Поясняю\n",
      "- двощеры, поясните: чем он так плох?\n",
      "- Двощеры, поясните, чем он так плох?\n",
      "- Двощеры, поясните. Чем он так плох? Поясняю\n",
      "- Двощеры, поясните. Чем он так плох?\n",
      "- Двощеры, поясните чем он так плох? Поясняю\n",
      "---> Двощеры, поясните: чем он так плох? Поясняю: СЖВшным бомбит от его роликов про феминизм.\n"
     ]
    },
    {
     "name": "stderr",
     "output_type": "stream",
     "text": [
      " 62%|██████▏   | 495/800 [03:06<01:59,  2.55it/s]"
     ]
    },
    {
     "name": "stdout",
     "output_type": "stream",
     "text": [
      "да мне похуй видят не видят,задай вапрос пидоросам пока !\n",
      "- да мне все равно видят не видят,задай вопрос\n",
      "- да мне всё равно видят не видят,задай вопрос\n",
      "- мне все равно видят не видят,задай вопрос\n",
      "- Да мне всё равно видят не видят,задай вопрос\n",
      "- Да мне все равно видят не видят,задай вопрос\n",
      "- Мне всё равно видят не видят,задай вопрос\n",
      "- Да мне всё равно, видят не видят,задай вопрос\n",
      "- Да мне все равно, видят не видят,задай вопрос\n",
      "- Мне все равно видят не видят,задай вопрос\n",
      "- Мне всё равно, видят не видят,задай вопрос\n",
      "---> Да мне все равно, видят не видят,задай вопрос\n"
     ]
    },
    {
     "name": "stderr",
     "output_type": "stream",
     "text": [
      " 62%|██████▏   | 496/800 [03:06<02:14,  2.26it/s]"
     ]
    },
    {
     "name": "stdout",
     "output_type": "stream",
     "text": [
      "Чмони, чмохи и просто пидоры, я вам в очередной раз напоминаю, что чмоэстро проиграл суд первой инстанции Олеже Ссаколову.\n",
      "- я вам в очередной раз напоминаю\n",
      "- Я вам в очередной раз напоминаю\n",
      "- я вам в очередной раз напоминаю, что чмоэстро проиграл суд первой инстанции Олеже Ссаколову\n",
      "- Я вам в очередной раз напоминаю, что вы проиграли суд первой инстанции Олеже Ссаколову\n",
      "- Я вам в очередной раз напоминаю, что чмоэстро проиграл суд первой инстанции Олеже Ссаколову\n",
      "- Я вам в очередной раз напоминаю, что я проиграл суд первой инстанции Олеже Ссаколову\n",
      "- я вам в очередной раз напоминаю, что чмоэстро проиграл суд первой инстанции Олеже Ссаколову.\n",
      "- Я вам в очередной раз напоминаю, что чмоэстро проиграл суд первой инстанции Олеже Ссаколову.\n",
      "- Я вам в очередной раз напоминаю, что Олег Ссаколов проиграл суд первой инстанции Олеже Ссаколову\n",
      "- Чмошники и просто неудачники, я вам в очередной раз напоминаю\n",
      "---> Я вам в очередной раз напоминаю, что Олег Ссаколов проиграл суд первой инстанции Олеже Ссаколову\n"
     ]
    },
    {
     "name": "stderr",
     "output_type": "stream",
     "text": [
      " 62%|██████▏   | 497/800 [03:06<01:56,  2.59it/s]"
     ]
    },
    {
     "name": "stdout",
     "output_type": "stream",
     "text": [
      "ты за базаром следи уёбак\n",
      "- Ты за базаром следи\n",
      "- ты за базаром следи\n",
      "- за базаром следи\n",
      "- следи за базаром\n",
      "- За базаром следи\n",
      "- Следи за базаром\n",
      "- Ты за базаром следи\n",
      "- ты следи за базаром\n",
      "- за базаром следи\n",
      "- Следи за своими словами\n",
      "---> Следи за своими словами\n"
     ]
    },
    {
     "name": "stderr",
     "output_type": "stream",
     "text": [
      " 62%|██████▏   | 498/800 [03:07<01:50,  2.72it/s]"
     ]
    },
    {
     "name": "stdout",
     "output_type": "stream",
     "text": [
      "на него направить ствол какахи полезут из ушей😝\n",
      "- На него направить ствол\n",
      "- на него направить ствол\n",
      "- На него направить оружие\n",
      "- на него направить ствол какахи полезут\n",
      "- Его надо наказать\n",
      "- На него направить ствол какахи полезут\n",
      "- на него направить ствол какахи полезут из ушей\n",
      "- Его наказать\n",
      "- На него направить ствол какахи полезут из ушей\n",
      "- Его нужно наказать\n",
      "---> На него направить ствол какахи полезут из ушей\n"
     ]
    },
    {
     "name": "stderr",
     "output_type": "stream",
     "text": [
      " 62%|██████▏   | 499/800 [03:07<02:02,  2.45it/s]"
     ]
    },
    {
     "name": "stdout",
     "output_type": "stream",
     "text": [
      "смотрю в глаза и вижу что.врет,такое желание как уебать со всей дури.\n",
      "- смотрю в глаза и вижу что.врет\n",
      "- смотрю в глаза и вижу что.врет,такое желание как уебать со всей дури\n",
      "- Смотрю в глаза и вижу ложь\n",
      "- смотрю в глаза и вижу что.врет,такое желание как уебать\n",
      "- Смотрю в глаза и вижу что врет\n",
      "- смотрю в глаза и вижу что.врет,такое желание\n",
      "- смотрю в глаза и вижу что.врет,такое желание как уебать со всей дури.\n",
      "- Смотрю в глаза и вижу враньё\n",
      "- Смотрю в глаза и вижу, что врет\n",
      "- Смотрю в глаза и вижу что врёт\n",
      "---> смотрю в глаза и вижу что.врет,такое желание как уебать со всей дури.\n"
     ]
    },
    {
     "name": "stderr",
     "output_type": "stream",
     "text": [
      " 62%|██████▎   | 500/800 [03:08<01:56,  2.57it/s]"
     ]
    },
    {
     "name": "stdout",
     "output_type": "stream",
     "text": [
      "недобитый фашистик, снять штанишки и выпороть , шоб попка кровушкой публично умылась , показать всем , всем\n",
      "- Снять штаны и наказать\n",
      "- снять штаны и наказать\n",
      "- снять штанишки и наказать\n",
      "- Снять брюки и наказать\n",
      "- Снять штаны и побить\n",
      "- Снять штанишки и наказать\n",
      "- Плохой человек, снять штаны и наказать\n",
      "- Плохой фашист, снять штаны и наказать\n",
      "- убитый фашист, снять штанишки и наказать\n",
      "- Плохой фашистик, снять штаны и наказать\n",
      "---> убитый фашист, снять штанишки и наказать\n"
     ]
    },
    {
     "name": "stderr",
     "output_type": "stream",
     "text": [
      " 63%|██████▎   | 501/800 [03:08<01:46,  2.80it/s]"
     ]
    },
    {
     "name": "stdout",
     "output_type": "stream",
     "text": [
      "пиз*дуй в хохландию, урод, там твоё сшастье\n",
      "- Уезжай в Украину\n",
      "- Уходи из Украины\n",
      "- Уезжай в другую страну\n",
      "- Уезжай из Украины\n",
      "- Уезжай в США\n",
      "- Уходи в Украину\n",
      "- Уезжай в Америку\n",
      "- Уходи оттуда\n",
      "- Уезжай в Украину, там твое счастье\n",
      "- Уезжай в Нидерланды\n",
      "---> Уезжай в Украину, там твое счастье\n"
     ]
    },
    {
     "name": "stderr",
     "output_type": "stream",
     "text": [
      " 63%|██████▎   | 502/800 [03:08<01:43,  2.87it/s]"
     ]
    },
    {
     "name": "stdout",
     "output_type": "stream",
     "text": [
      "ты и поавда ебанутая картинками только и общаешься\n",
      "- ты и картинки только и общаешься\n",
      "- ты и картинками только и общаешься\n",
      "- Ты и картинками только и общаешься\n",
      "- ты и поавда картинками только и общаешься\n",
      "- Ты и картинки только и общаешься\n",
      "- ты и поавда картинки только и общаешься\n",
      "- Ты и поавда картинками только и общаешься\n",
      "- ты и картинки только и разговариваешь\n",
      "- ты и картинки только и общаешься\n",
      "- ты и картинками только и общаешься\n",
      "---> Ты и поавда картинками только и общаешься\n"
     ]
    },
    {
     "name": "stderr",
     "output_type": "stream",
     "text": [
      " 63%|██████▎   | 503/800 [03:09<01:36,  3.09it/s]"
     ]
    },
    {
     "name": "stdout",
     "output_type": "stream",
     "text": [
      "ты че так отзывешься. пидор что ли\n",
      "- ты че так отзывешься\n",
      "- Ты что так отзываешься\n",
      "- ты че так отзываешься\n",
      "- Что ты так отзываешься\n",
      "- ты что так отзывешься\n",
      "- Ты что так отзывешься\n",
      "- Ты чего так отзываешься\n",
      "- Ты че так отзываешься\n",
      "- ты че так отзывешься.\n",
      "- Ты че так отзывешься\n",
      "---> Ты чего так отзываешься\n"
     ]
    },
    {
     "name": "stderr",
     "output_type": "stream",
     "text": [
      " 63%|██████▎   | 504/800 [03:09<01:44,  2.84it/s]"
     ]
    },
    {
     "name": "stdout",
     "output_type": "stream",
     "text": [
      "заибали с этими постами время до хуя чтоли.идите на работу бездельники .\n",
      "- надоели с этими постами время дофига чтоли.идите на работу\n",
      "- надоели с этими постами время дофига чтоли\n",
      "- Надоели с этими постами время дофига чтоли\n",
      "- надоели с этими постами время до фига чтоли.идите на работу\n",
      "- надоели с этими постами время до хрена чтоли.идите на работу\n",
      "- надоели эти посты время дофига чтоли.идите на работу\n",
      "- надоели с этими постами время до черта чтоли.идите на работу\n",
      "- надоели со своими постами время дофига чтоли.идите на работу\n",
      "- Надоели со своими постами время дофига чтоли\n",
      "- надоели с этими постами время очень много.идите на работу\n",
      "---> надоели со своими постами время дофига чтоли.идите на работу\n"
     ]
    },
    {
     "name": "stderr",
     "output_type": "stream",
     "text": [
      " 63%|██████▎   | 505/800 [03:09<01:33,  3.14it/s]"
     ]
    },
    {
     "name": "stdout",
     "output_type": "stream",
     "text": [
      "таких нужно ка гниду давить.\n",
      "- Таких нужно наказывать\n",
      "- таких нужно наказывать\n",
      "- Таких надо наказывать\n",
      "- таких нужно наказать\n",
      "- Таких нужно наказать\n",
      "- таких надо наказывать\n",
      "- таких нужно бить\n",
      "- таких нужно давить\n",
      "- Таких людей нужно наказывать\n",
      "- их нужно наказывать\n",
      "---> Таких людей нужно наказывать\n"
     ]
    },
    {
     "name": "stderr",
     "output_type": "stream",
     "text": [
      " 63%|██████▎   | 506/800 [03:10<01:53,  2.60it/s]"
     ]
    },
    {
     "name": "stdout",
     "output_type": "stream",
     "text": [
      "Самое то, после таких водятлов машины покупать. Обои в квартире наверное не меняешь пока не сгниют?\n",
      "- Самое то, после таких водятлов машины покупать. Обои в квартире наверное не меняешь пока не сгниют?\n",
      "- Самое то после таких водятлов машины покупать. Обои в квартире наверное не меняешь пока не сгниют?\n",
      "- Самое то после таких водителей машины покупать. Обои в квартире наверное не меняешь пока не сгниют?\n",
      "- Самое то, после таких водителей машины покупать. Обои в квартире наверное не меняешь пока не сгниют?\n",
      "- Самое то после таких людей машины покупать. Обои в квартире наверное не меняешь пока не сгниют?\n",
      "- Самое то, после таких людей машины покупать. Обои в квартире наверное не меняешь пока не сгниют?\n",
      "- Самое то, после таких водятлов машины покупать. Обои в квартире наверное не меняешь пока не сгниют\n",
      "- Самое то после таких водятлов машины покупать. Обои в квартире наверное не меняешь пока не сгниют\n",
      "- Самое то после таких водитьлов машины покупать. Обои в квартире наверное не меняешь пока не сгниют?\n",
      "- Самое то, после таких водитьлов машины покупать. Обои в квартире наверное не меняешь пока не сгниют?\n",
      "---> Самое то, после таких водитьлов машины покупать. Обои в квартире наверное не меняешь пока не сгниют?\n"
     ]
    },
    {
     "name": "stderr",
     "output_type": "stream",
     "text": [
      " 63%|██████▎   | 507/800 [03:10<01:44,  2.79it/s]"
     ]
    },
    {
     "name": "stdout",
     "output_type": "stream",
     "text": [
      "что то эта группа стала укропидорастическая и фейкамёты\n",
      "- что то эта группа стала фейкамёты\n",
      "- Что то эта группа стала фейкамёты\n",
      "- Что то эта группа стала фейкамёт\n",
      "- Что то эта группа стала фейкамётами\n",
      "- Что то эта группа стала фейкамётом\n",
      "- Что то эта группа стала фейкаметить\n",
      "- что то эта группа стала фейкамёт\n",
      "- что-то эта группа стала фейкамёты\n",
      "- Что то эта группа стала фейкамётить\n",
      "- что то эта группа стала фейкамётами\n",
      "---> что то эта группа стала фейкамётами\n"
     ]
    },
    {
     "name": "stderr",
     "output_type": "stream",
     "text": [
      " 64%|██████▎   | 508/800 [03:10<01:46,  2.73it/s]"
     ]
    },
    {
     "name": "stdout",
     "output_type": "stream",
     "text": [
      "росс инфо-ложь-каналы, как обычно, лошарят своих идиотов...\n",
      "- каналы, как обычно, лошарят своих людей...\n",
      "- Росс инфо-каналы, как обычно, обманывают своих пользователей\n",
      "- росс инфо-каналы, как обычно, обманывают своих людей\n",
      "- Росс инфо-каналы, как обычно, обманывают своих читателей\n",
      "- Росс инфо-каналы, как обычно, лгут\n",
      "- Росс инфо-каналы, как обычно, обманывают своих подписчиков\n",
      "- росс инфо-каналы, как обычно, обманывают своих людей...\n",
      "- Росс инфо-каналы, как обычно, обманывают своих клиентов\n",
      "- Росс инфо каналы, как обычно, обманывают своих пользователей\n",
      "- Росс инфо каналы, как обычно, обманывают своих подписчиков\n",
      "---> Росс инфо каналы, как обычно, обманывают своих пользователей\n"
     ]
    },
    {
     "name": "stderr",
     "output_type": "stream",
     "text": [
      " 64%|██████▎   | 509/800 [03:11<01:34,  3.08it/s]"
     ]
    },
    {
     "name": "stdout",
     "output_type": "stream",
     "text": [
      "их не считать на до пиздить\n",
      "- их не считать\n",
      "- Их не наказывать\n",
      "- Их не считать\n",
      "- их не наказывать\n",
      "- Их наказывать\n",
      "- Их не трогать\n",
      "- их наказывать\n",
      "- Их не надо наказывать\n",
      "- Их не штрафовать\n",
      "- Их не наказывать.\n",
      "---> Их не надо наказывать\n"
     ]
    },
    {
     "name": "stderr",
     "output_type": "stream",
     "text": [
      " 64%|██████▍   | 510/800 [03:11<01:30,  3.21it/s]"
     ]
    },
    {
     "name": "stdout",
     "output_type": "stream",
     "text": [
      "придурок тебя накормить етой едой\n",
      "- Придурок тебя накормить едой\n",
      "- Придурок тебя накормить этой едой\n",
      "- тебя накормить этой едой\n",
      "- Меня накормить этой едой\n",
      "- Тебя накормить едой\n",
      "- Тебя накормить этой едой\n",
      "- придурок тебя накормить этой едой\n",
      "- Меня накормить едой\n",
      "- тебя накормить едой\n",
      "- Придурок, тебя накормить едой\n",
      "---> придурок тебя накормить этой едой\n"
     ]
    },
    {
     "name": "stderr",
     "output_type": "stream",
     "text": [
      " 64%|██████▍   | 511/800 [03:11<01:33,  3.08it/s]"
     ]
    },
    {
     "name": "stdout",
     "output_type": "stream",
     "text": [
      "мразь - яйца ему оторвать чтоб руки к детям не тянул (sr) (sr) (sr)\n",
      "- Наказать его\n",
      "- Его надо наказать\n",
      "- Ему надо наказать\n",
      "- Его нужно наказать\n",
      "- Ему нужно наказать\n",
      "- Наказать его.\n",
      "- Наказать его, чтобы руки к детям не тянулся\n",
      "- Наказать его, чтобы руки к детям не тянул\n",
      "- Его наказать, чтобы руки к детям не тянулся\n",
      "- Наказать ему чтобы руки к детям не тянулся\n",
      "---> Его наказать, чтобы руки к детям не тянулся\n"
     ]
    },
    {
     "name": "stderr",
     "output_type": "stream",
     "text": [
      " 64%|██████▍   | 512/800 [03:12<01:24,  3.39it/s]"
     ]
    },
    {
     "name": "stdout",
     "output_type": "stream",
     "text": [
      "иди броди пьянь уебищная 😬\n",
      "- иди броди\n",
      "- Уходи\n",
      "- Иди броди\n",
      "- Уйди\n",
      "- Иди гуляй\n",
      "- иди гуляй\n",
      "- Иди гуляй\n",
      "- Иди гуляйте\n",
      "- Пройди мимо\n",
      "- Иди, броди\n",
      "---> Пройди мимо\n"
     ]
    },
    {
     "name": "stderr",
     "output_type": "stream",
     "text": [
      " 64%|██████▍   | 513/800 [03:12<01:37,  2.94it/s]"
     ]
    },
    {
     "name": "stdout",
     "output_type": "stream",
     "text": [
      "зато у нас в россии все за путина за пидораса этого и все ему поклоняются\n",
      "- зато у нас в россии все за путина за этого и все ему поклоняются\n",
      "- зато у нас в россии все за путина за него и все ему поклоняются\n",
      "- зато у нас в россии все за путина и все ему поклоняются\n",
      "- Зато у нас в России все за Путина и все ему поклоняются\n",
      "- Зато у нас в России все за Путина за этого и все ему поклоняются\n",
      "- Зато у нас в России все за Путина, и все ему поклоняются\n",
      "- Зато у нас в России все за путина и все ему поклоняются\n",
      "- Зато у нас в России все за путина за этого и все ему поклоняются\n",
      "- зато у нас в россии все за путина за Путина и все ему поклоняются\n",
      "- зато у нас в россии все за путина за плохого человека этого и все ему поклоняются\n",
      "---> зато у нас в россии все за путина за плохого человека этого и все ему поклоняются\n"
     ]
    },
    {
     "name": "stderr",
     "output_type": "stream",
     "text": [
      " 64%|██████▍   | 514/800 [03:12<01:30,  3.17it/s]"
     ]
    },
    {
     "name": "stdout",
     "output_type": "stream",
     "text": [
      "какая отвратительная воровская рожа !\n",
      "- Какая отвратительная воровская рожа\n",
      "- Какая неприятная внешность\n",
      "- Какая ужасная воровская рожа\n",
      "- Какая неприятная физиономия\n",
      "- Какая неприятная личность\n",
      "- Какая плохая воровская рожа\n",
      "- Какая противная воровская рожа\n",
      "- Какая неприятная воровская рожа\n",
      "- какая отвратительная воровская рожа\n",
      "- какая отвратительная воровская рожа!\n",
      "---> какая отвратительная воровская рожа!\n"
     ]
    },
    {
     "name": "stderr",
     "output_type": "stream",
     "text": [
      " 64%|██████▍   | 515/800 [03:13<01:38,  2.90it/s]"
     ]
    },
    {
     "name": "stdout",
     "output_type": "stream",
     "text": [
      "вот и посмотрим 1 января 2021 года кто ты: экстрасенс ты или пиздобол???\n",
      "- Вот и посмотрим 1 января 2021 года кто ты\n",
      "- вот и посмотрим 1 января 2021 года кто ты\n",
      "- вот и посмотрим 1 января 2021 года кто ты: экстрасенс\n",
      "- Вот и посмотрим 1 января 2021 года кто ты: экстрасенс\n",
      "- Вот и посмотрим 1 января 2021 года кто ты?\n",
      "- вот и посмотрим 1 января 2021 года кто ты?\n",
      "- Вот и посмотрим 1 января 2021 года, кто ты\n",
      "- вот и посмотрим 1 января 2021 года кто ты: экстрасенс ты или нет\n",
      "- вот и посмотрим 1 января 2021 года кто ты: экстрасенс ты или лгун\n",
      "- Вот и посмотрим 1 января 2021 года кто ты.\n",
      "---> вот и посмотрим 1 января 2021 года кто ты: экстрасенс ты или лгун\n"
     ]
    },
    {
     "name": "stderr",
     "output_type": "stream",
     "text": [
      " 64%|██████▍   | 516/800 [03:13<01:31,  3.11it/s]"
     ]
    },
    {
     "name": "stdout",
     "output_type": "stream",
     "text": [
      "ещё и крест напялила ,мразь.\n",
      "- Ещё и крест надела\n",
      "- ещё и крест напялила\n",
      "- Ещё и крест напялила\n",
      "- Ещё и крест нацепила\n",
      "- ещё и крест надела\n",
      "- Ещё и крестик надела\n",
      "- еще и крест напялила\n",
      "- Ещё и крест надел\n",
      "- Ещё и крест одела\n",
      "- И крест надела\n",
      "---> еще и крест напялила\n"
     ]
    },
    {
     "name": "stderr",
     "output_type": "stream",
     "text": [
      " 65%|██████▍   | 517/800 [03:13<01:28,  3.19it/s]"
     ]
    },
    {
     "name": "stdout",
     "output_type": "stream",
     "text": [
      "гавно,оно и в африке гавно.\n",
      "- оно и в африке плохое\n",
      "- оно и в Африке плохое\n",
      "- Гавно\n",
      "- оно и в африке плохо\n",
      "- оно и в Африке плохо\n",
      "- Он и в Африке плохой\n",
      "- Плохое оно и в Африке плохое\n",
      "- Плохое, оно и в Африке плохое\n",
      "- Гавно,оно и в Африке плохое\n",
      "- Гавно, оно и в Африке плохое\n",
      "---> Плохое, оно и в Африке плохое\n"
     ]
    },
    {
     "name": "stderr",
     "output_type": "stream",
     "text": [
      " 65%|██████▍   | 518/800 [03:14<01:36,  2.91it/s]"
     ]
    },
    {
     "name": "stdout",
     "output_type": "stream",
     "text": [
      "война будет ребята эту власть просто не убрать будет свержение власти и тогда будет пизда володе\n",
      "- Война будет ребята эту власть просто не убрать будет свержение власти\n",
      "- Война будет ребята эту власть просто не убрать будет свержение власти и тогда будет плохо\n",
      "- война будет ребята эту власть просто не убрать будет свержение власти\n",
      "- Война будет ребята эту власть просто не убрать будет свержение власти и тогда будет конец\n",
      "- война будет ребята эту власть просто не убрать будет свержение власти и тогда будет плохо\n",
      "- война будет ребята эту власть просто не убрать будет свержение власти и тогда будет крах\n",
      "- Война будет ребята эту власть просто не убрать будет свержение власти и тогда будет крах\n",
      "- война будет ребята эту власть просто не убрать будет свержение власти и тогда будет конец\n",
      "- Война будет ребята эту власть просто не убрать будет свержение власти и тогда будет беда\n",
      "- война будет ребята эту власть просто не убрать будет свержение власти и тогда будет беда\n",
      "---> война будет ребята эту власть просто не убрать будет свержение власти и тогда будет конец\n"
     ]
    },
    {
     "name": "stderr",
     "output_type": "stream",
     "text": [
      " 65%|██████▍   | 519/800 [03:14<01:32,  3.04it/s]"
     ]
    },
    {
     "name": "stdout",
     "output_type": "stream",
     "text": [
      "лоси охуевшие,нахуй вообще эта дума нужна!\n",
      "- Зачем вообще эта дума нужна\n",
      "- Зачем вообще эта дума нужна?\n",
      "- Лоси, зачем вообще эта дума нужна\n",
      "- Зачем эта дума нужна\n",
      "- Надоели эти думы\n",
      "- Лоси глупые, зачем вообще эта дума нужна\n",
      "- Зачем вообще эта дума нужна!\n",
      "- Надоела эта дума\n",
      "- Зачем вообще эта Дума нужна\n",
      "- Нафиг вообще эта дума нужна\n",
      "---> Лоси глупые, зачем вообще эта дума нужна\n"
     ]
    },
    {
     "name": "stderr",
     "output_type": "stream",
     "text": [
      " 65%|██████▌   | 520/800 [03:14<01:39,  2.82it/s]"
     ]
    },
    {
     "name": "stdout",
     "output_type": "stream",
     "text": [
      "А как же глянуть звонок, если стрима нет? Извините, я дурачок\n",
      "- А как же глянуть звонок, если стрима нет? Извините, я глупый\n",
      "- А как же глянуть звонок, если стрима нет\n",
      "- А как же посмотреть звонок, если стрима нет? Извините, я глупый\n",
      "- А как же глянуть звонок, если стрима нет? Извините\n",
      "- А как же посмотреть звонок, если стрима нет\n",
      "- А как же глянуть звонок, если стрима нет? Извините, я дурак\n",
      "- А как же глянуть звонок, если стрима нет? Извините, я не умный\n",
      "- А как же глянуть звонок, если стрима нет? Извините, я плохой\n",
      "- А как же посмотреть звонок, если стрима нет? Извините\n",
      "- А как же глянуть звонок, если стрима нет? Извините, я глуп\n",
      "---> А как же посмотреть звонок, если стрима нет? Извините, я глупый\n"
     ]
    },
    {
     "name": "stderr",
     "output_type": "stream",
     "text": [
      " 65%|██████▌   | 521/800 [03:15<01:44,  2.68it/s]"
     ]
    },
    {
     "name": "stdout",
     "output_type": "stream",
     "text": [
      "вопрос: зачем это матери кадырова??? есть еще умные на этой земле? дебил!!!ы\n",
      "- вопрос: зачем это матери кадырова??? есть еще умные на этой земле?\n",
      "- Вопрос: зачем это матери кадырова??? есть еще умные на этой земле?\n",
      "- вопрос: зачем это матери кадырова??? есть еще умные на этой земле\n",
      "- Вопрос: зачем это матери кадырова??? Есть еще умные на этой земле?\n",
      "- вопрос: зачем это матери кадырова? есть еще умные на этой земле?\n",
      "- Вопрос: зачем это матери кадырова???\n",
      "- Вопрос: зачем это матери кадырова??? есть еще умные на этой земле?\n",
      "- Вопрос: зачем это матери кадырова??? Есть ещё умные на этой земле?\n",
      "- Вопрос: зачем это матери кадырова??? Есть еще умные на этой земле?\n",
      "- Вопрос: зачем это матери Кадырова??? Есть еще умные на этой земле?\n",
      "---> Вопрос: зачем это матери Кадырова??? Есть еще умные на этой земле?\n"
     ]
    },
    {
     "name": "stderr",
     "output_type": "stream",
     "text": [
      " 65%|██████▌   | 522/800 [03:15<01:39,  2.79it/s]"
     ]
    },
    {
     "name": "stdout",
     "output_type": "stream",
     "text": [
      "ещё на одного пидораса в россии меньше станет...\n",
      "- Ещё на одного человека в России меньше станет\n",
      "- ещё на одного человека в россии меньше станет...\n",
      "- Ещё на одного человека в россии меньше станет\n",
      "- ещё на одного человека в россии меньше станет\n",
      "- Ещё на одного человека в России меньше станет...\n",
      "- Ещё на одного человека в россии меньше станет...\n",
      "- ещё на одного в россии меньше станет...\n",
      "- Ещё на одного человека меньше станет\n",
      "- ещё на одного в россии меньше станет\n",
      "- ещё на одного плохого человека в россии меньше станет...\n",
      "---> ещё на одного плохого человека в россии меньше станет...\n"
     ]
    },
    {
     "name": "stderr",
     "output_type": "stream",
     "text": [
      " 65%|██████▌   | 523/800 [03:15<01:44,  2.66it/s]"
     ]
    },
    {
     "name": "stdout",
     "output_type": "stream",
     "text": [
      "Да, Герой России полковник Чепига лично клятым пендосам в штаны насрал.\n",
      "- Да, Герой России полковник Чепига лично пендосам в штаны насрал\n",
      "- Да, Герой России полковник Чепига лично наказал\n",
      "- Да, Герой России полковник Чепига лично им в штаны насрал\n",
      "- Да, Герой России полковник Чепига лично людям в штаны насрал\n",
      "- Да, Герой России полковник Чепига лично пендосам в штаны насрал\n",
      "- Да, Герой России полковник Чепига лично пендосам навалял\n",
      "- Да, Герой России полковник Чепига лично пендосам насрал\n",
      "- Да, Герой России полковник Чепига лично пендсам в штаны насрал\n",
      "- Да, Герой России полковник Чепига лично пендосам в штаны насрал.\n",
      "- Да, Герой России полковник Чепига лично всем пендосам в штаны насрал\n",
      "---> Да, Герой России полковник Чепига лично всем пендосам в штаны насрал\n"
     ]
    },
    {
     "name": "stderr",
     "output_type": "stream",
     "text": [
      " 66%|██████▌   | 524/800 [03:16<02:00,  2.30it/s]"
     ]
    },
    {
     "name": "stdout",
     "output_type": "stream",
     "text": [
      "И самое смешное что едет на бричке дешманской с дырой в кармане. Просто как? Я думаю что там дикий перепой\n",
      "- И самое смешное что едет на бричке с дырой в кармане\n",
      "- И самое смешное что едет на бричке с дырой в кармане. Просто как? Я думаю что там плохой человек\n",
      "- И самое смешное что едет на бричке с дыркой в кармане. Просто как? Я думаю что там плохой человек\n",
      "- И самое смешное что едет на бричке с дырой в кармане. Просто как?\n",
      "- И самое смешное что едет на бричке с дырой в кармане. Просто как? Я думаю, что там плохой человек\n",
      "- И самое смешное что едет на бричке дешманской с дырой в кармане. Просто как? Я думаю что там плохой человек\n",
      "- И самое смешное что едет на бричке с дыркой в кармане. Просто как? Я думаю, что там плохой человек\n",
      "- И самое смешное, что едет на бричке с дырой в кармане. Просто как? Я думаю, что там плохой человек\n",
      "- И самое смешное что едет на бричке дешманской с дыркой в кармане. Просто как? Я думаю что там плохой человек\n",
      "- И самое смешное что едет на бричке дешманской с дырой в кармане. Просто как? Я думаю, что там плохой человек\n",
      "---> И самое смешное что едет на бричке дешманской с дырой в кармане. Просто как? Я думаю, что там плохой человек\n"
     ]
    },
    {
     "name": "stderr",
     "output_type": "stream",
     "text": [
      " 66%|██████▌   | 525/800 [03:16<01:45,  2.60it/s]"
     ]
    },
    {
     "name": "stdout",
     "output_type": "stream",
     "text": [
      "почему ты простое хамло называешь художником?\n",
      "- Почему ты называешь художником\n",
      "- почему ты называешь художником\n",
      "- Почему ты называешь себя художником\n",
      "- Почему ты так себя называешь?\n",
      "- почему ты называешь художником?\n",
      "- Почему ты называешь художником?\n",
      "- Почему ты называешь себя художником?\n",
      "- Почему ты называешь меня художником\n",
      "- Почему ты так называешь?\n",
      "- Почему ты так называешь художником\n",
      "---> Почему ты называешь себя художником?\n"
     ]
    },
    {
     "name": "stderr",
     "output_type": "stream",
     "text": [
      " 66%|██████▌   | 526/800 [03:17<01:54,  2.39it/s]"
     ]
    },
    {
     "name": "stdout",
     "output_type": "stream",
     "text": [
      "таких разбирающихся слишком много, на выходе получаем европейский выбор, пидров, либо бандеровщину. а россия обязана вмешаться, все потом откликнется\n",
      "- таких разбирающихся слишком много, на выходе получаем европейский выбор\n",
      "- Таких разбирающихся слишком много, на выходе получаем европейский выбор\n",
      "- таких разбирающихся слишком много, на выходе получаем европейский выбор, либо бандеровщину\n",
      "- Таких разбирающихся слишком много на выходе получаем европейский выбор\n",
      "- Таких разбирающихся слишком много, на выходе получаем европейский выбор.\n",
      "- таких разбирающихся слишком много, на выходе получаем европейский выбор, либо бандеровщину. а россия обязана вмешаться\n",
      "- таких разбирающихся слишком много, на выходе получаем европейский выбор.\n",
      "- Таких разбирающихся слишком много, на выходе получаем европейский выбор, либо бандеровщину\n",
      "- таких разбирающихся слишком много, на выходе получаем европейский выбор, а россия обязана вмешаться\n",
      "- Таких разбирающихся слишком много. На выходе получаем европейский выбор\n",
      "---> таких разбирающихся слишком много, на выходе получаем европейский выбор, либо бандеровщину. а россия обязана вмешаться\n"
     ]
    },
    {
     "name": "stderr",
     "output_type": "stream",
     "text": [
      " 66%|██████▌   | 527/800 [03:17<01:43,  2.64it/s]"
     ]
    },
    {
     "name": "stdout",
     "output_type": "stream",
     "text": [
      "хуя, ей полтинник, ебать, мед ебал старость\n",
      "- Ей полтинник\n",
      "- Ей 50 лет\n",
      "- Ей полтинник, старость\n",
      "- Ей 70 лет\n",
      "- Ей полтинник, плохо\n",
      "- ей полтинник\n",
      "- Ей полтинник, она старая\n",
      "- Ей полтинник, ей плохо\n",
      "- Ей полтинник, надоели старики\n",
      "- Ей полтинник, мед не помог\n",
      "---> Ей полтинник, надоели старики\n"
     ]
    },
    {
     "name": "stderr",
     "output_type": "stream",
     "text": [
      " 66%|██████▌   | 528/800 [03:17<01:43,  2.63it/s]"
     ]
    },
    {
     "name": "stdout",
     "output_type": "stream",
     "text": [
      "дебил.лучше бы в баню с женою сходил или с девушкой жаркой\n",
      "- лучше бы в баню с женою сходил или с девушкой жаркой\n",
      "- Лучше бы в баню с женой сходил или с девушкой жаркой\n",
      "- лучше бы в баню с женой сходил или с девушкой жаркой\n",
      "- Лучше бы в баню с женой сходил\n",
      "- Лучше бы в баню с женою сходил или с девушкой жаркой\n",
      "- лучше бы в баню с женою сходил\n",
      "- Лучше бы в баню с женою сходил\n",
      "- лучше бы в баню с женою сходил или девушкой жаркой\n",
      "- лучше бы в баню с женою сходил или с девушкой горячей\n",
      "- Лучше бы в баню сходил или с девушкой жаркой\n",
      "---> лучше бы в баню с женою сходил или с девушкой горячей\n"
     ]
    },
    {
     "name": "stderr",
     "output_type": "stream",
     "text": [
      " 66%|██████▌   | 529/800 [03:18<01:44,  2.59it/s]"
     ]
    },
    {
     "name": "stdout",
     "output_type": "stream",
     "text": [
      "опомнилась пизда старая!:) :) :) в таком возрасте о душе надо подумать.\n",
      "- Опомнилась! В таком возрасте о душе надо подумать\n",
      "- Опомнилась. В таком возрасте о душе надо подумать\n",
      "- опомнилась!:) :) :) в таком возрасте о душе надо подумать.\n",
      "- Опомнилась старая!:) :) :) в таком возрасте о душе надо подумать\n",
      "- Опомнилась старая!:) :) :) в таком возрасте о душе надо подумать.\n",
      "- опомнилась!:) :) :) в таком возрасте о душе надо подумать\n",
      "- опомнилась старая!:) :) :) в таком возрасте о душе надо подумать.\n",
      "- Опомнилась, в таком возрасте о душе надо подумать\n",
      "- Опомнилась. В таком возрасте о душе надо подумать.\n",
      "- Опомнилась старая. В таком возрасте о душе надо подумать\n",
      "---> опомнилась старая!:) :) :) в таком возрасте о душе надо подумать.\n"
     ]
    },
    {
     "name": "stderr",
     "output_type": "stream",
     "text": [
      " 66%|██████▋   | 530/800 [03:18<01:54,  2.37it/s]"
     ]
    },
    {
     "name": "stdout",
     "output_type": "stream",
     "text": [
      "мне очень обидно и просто стыдно перед всем миром что у нас такое чмошное правительство.как такие твари попадают в правительство?\n",
      "- Мне очень обидно и просто стыдно перед всем миром что у нас такое правительство\n",
      "- Мне очень обидно и просто стыдно перед всем миром, что у нас такое правительство\n",
      "- мне очень обидно и просто стыдно перед всем миром что у нас такое правительство\n",
      "- мне очень обидно и просто стыдно перед всем миром что у нас такое плохое правительство\n",
      "- Мне очень обидно и просто стыдно перед всем миром что у нас такое плохое правительство\n",
      "- Мне очень обидно и просто стыдно перед всем миром, что у нас такое плохое правительство\n",
      "- мне очень обидно и просто стыдно перед всем миром что у нас такое плохое правительство.\n",
      "- Мне очень обидно и просто стыдно перед всем миром,что у нас такое правительство\n",
      "- мне очень обидно и просто стыдно перед всем миром что у нас такое плохое правительство.как такие люди попадают в правительство?\n",
      "- Мне очень обидно и просто стыдно перед всем миром что у нас такое правительство.\n",
      "---> мне очень обидно и просто стыдно перед всем миром что у нас такое плохое правительство.как такие люди попадают в правительство?\n"
     ]
    },
    {
     "name": "stderr",
     "output_type": "stream",
     "text": [
      " 66%|██████▋   | 531/800 [03:19<02:10,  2.07it/s]"
     ]
    },
    {
     "name": "stdout",
     "output_type": "stream",
     "text": [
      "блт за гребаный проездной в тюрьму????? Женщину????? Пздц...... что ,условного срока нет что ли? я херею с нашего правосудия...\n",
      "- за проездной в тюрьму????? Женщину????? Что, условного срока нет что ли?\n",
      "- за проездной в тюрьму????? Женщину????? Пздц...... что,условного срока нет что ли?\n",
      "- за проездной в тюрьму????? Женщину????? Что,условного срока нет что ли? я в шоке с нашего правосудия\n",
      "- за проездной в тюрьму????? Женщину????? Что, условного срока нет что ли? я в шоке с нашего правосудия\n",
      "- за проездной в тюрьму????? Женщину????? Пздц...... что,условного срока нет что ли? я в шоке с нашего правосудия\n",
      "- за проездной в тюрьму????? Женщину????? Пздц...... что,условного срока нет что ли?\n",
      "- за проездной в тюрьму????? Женщину????? Пздц...... что, условного срока нет что ли?\n",
      "- за проездной в тюрьму????? Женщину????? Пздц...... что,условного срока нет что ли? я в шоке\n",
      "- блт за проездной в тюрьму????? Женщину????? Пздц...... что,условного срока нет что ли?\n",
      "- блт за проездной в тюрьму????? Женщину????? Что, условного срока нет что ли?\n",
      "---> за проездной в тюрьму????? Женщину????? Пздц...... что,условного срока нет что ли? я в шоке с нашего правосудия\n"
     ]
    },
    {
     "name": "stderr",
     "output_type": "stream",
     "text": [
      " 66%|██████▋   | 532/800 [03:19<01:59,  2.25it/s]"
     ]
    },
    {
     "name": "stdout",
     "output_type": "stream",
     "text": [
      "Новости все староватые, щас похоже проблему с чурками решили.\n",
      "- Новости все староватые, сейчас похоже проблему с русскими решили\n",
      "- Новости все староваты, сейчас похоже проблему с русскими решили\n",
      "- Новости староватые, сейчас похоже проблему с русскими решили\n",
      "- Новости все староватые, сейчас похоже проблему с ними решили\n",
      "- Новости все староваты, сейчас похоже проблему с ними решили\n",
      "- Новости все староватые, щас похоже проблему с русскими решили\n",
      "- Новости все староваты, щас похоже проблему с русскими решили\n",
      "- Новости все староватые, сейчас похоже проблему с кавказцами решили\n",
      "- Новости староваты, сейчас похоже проблему с русскими решили\n",
      "- Новости все староваты, сейчас похоже проблему с кавказцами решили\n",
      "---> Новости все староватые, сейчас похоже проблему с кавказцами решили\n"
     ]
    },
    {
     "name": "stderr",
     "output_type": "stream",
     "text": [
      " 67%|██████▋   | 533/800 [03:20<01:59,  2.24it/s]"
     ]
    },
    {
     "name": "stdout",
     "output_type": "stream",
     "text": [
      "дожить до 58 лет, иметь детей и назвать это приколом! да ты ебнутая!\n",
      "- дожить до 58 лет, иметь детей и назвать это приколом!\n",
      "- Дожить до 58 лет, иметь детей и назвать это приколом\n",
      "- дожить до 58 лет, иметь детей и назвать это приколом\n",
      "- Дожить до 58 лет, иметь детей и назвать это приколом!\n",
      "- До 58 лет, иметь детей и назвать это приколом\n",
      "- дожить до 58 лет, иметь детей и назвать это приколом! да ты глупая\n",
      "- дожить до 58 лет, иметь детей и назвать это приколом! да ты глупая!\n",
      "- До 58 лет иметь детей и назвать это приколом\n",
      "- дожить до 58 лет, иметь детей и назвать это приколом! да ты странная\n",
      "- дожить до 58 лет, иметь детей и назвать это приколом! да ты странная!\n",
      "---> дожить до 58 лет, иметь детей и назвать это приколом! да ты странная!\n"
     ]
    },
    {
     "name": "stderr",
     "output_type": "stream",
     "text": [
      " 67%|██████▋   | 534/800 [03:20<01:45,  2.52it/s]"
     ]
    },
    {
     "name": "stdout",
     "output_type": "stream",
     "text": [
      "эти пидоры и шлюха спасут только себя.\n",
      "- Эти люди спасут только себя\n",
      "- Эти люди и спасут только себя\n",
      "- Они спасут только себя\n",
      "- эти люди и спасут только себя\n",
      "- Они и спасут только себя\n",
      "- они и спасут только себя\n",
      "- Эти люди и девушка спасут только себя\n",
      "- Эти люди и спасут только себя.\n",
      "- они спасут только себя\n",
      "- эти люди и спасут только себя.\n",
      "---> Эти люди и девушка спасут только себя\n"
     ]
    },
    {
     "name": "stderr",
     "output_type": "stream",
     "text": [
      " 67%|██████▋   | 535/800 [03:20<01:33,  2.83it/s]"
     ]
    },
    {
     "name": "stdout",
     "output_type": "stream",
     "text": [
      "твоя страница зафиксирована, троллятина кастрюлеголовая...\n",
      "- твоя страница зафиксирована\n",
      "- Твоя страница зафиксирована\n",
      "- твоя страница зафиксирована...\n",
      "- Ваша страница зафиксирована\n",
      "- моя страница зафиксирована\n",
      "- Моя страница зафиксирована\n",
      "- твоя страница зафиксирована,\n",
      "- твоя страница зафиксирована.\n",
      "- Твоя страница зафиксирована.\n",
      "- ты моя страница зафиксирована\n",
      "---> твоя страница зафиксирована...\n"
     ]
    },
    {
     "name": "stderr",
     "output_type": "stream",
     "text": [
      " 67%|██████▋   | 536/800 [03:21<01:27,  3.02it/s]"
     ]
    },
    {
     "name": "stdout",
     "output_type": "stream",
     "text": [
      "сразу видно шлюхи незнающие жизни!\n",
      "- сразу видно незнающие жизни!\n",
      "- Сразу видно незнающие жизни\n",
      "- сразу видно незнающие жизни\n",
      "- Сразу видно незнающие жизни!\n",
      "- Сразу видно, незнающие жизни\n",
      "- сразу видно, незнающие жизни!\n",
      "- Сразу видно не знающие жизни\n",
      "- Сразу видно девушки незнающие жизни!\n",
      "- сразу видно не знающие жизни!\n",
      "- Сразу видно, что не знающие жизни\n",
      "---> Сразу видно девушки незнающие жизни!\n"
     ]
    },
    {
     "name": "stderr",
     "output_type": "stream",
     "text": [
      " 67%|██████▋   | 537/800 [03:21<01:22,  3.19it/s]"
     ]
    },
    {
     "name": "stdout",
     "output_type": "stream",
     "text": [
      "бля, он на сола гудмана похож, ебучий гандон\n",
      "- Он на сола гудмана похож\n",
      "- он на сола гудмана похож\n",
      "- Он на сола Гудмана похож\n",
      "- Он похож на сола гудмана\n",
      "- Он очень похож\n",
      "- Он на Сола Гудмана похож\n",
      "- он похож\n",
      "- Он похож на сола Гудмана\n",
      "- Он похож на сола.\n",
      "- Он похож на Сола Гудмана\n",
      "---> Он похож на Сола Гудмана\n"
     ]
    },
    {
     "name": "stderr",
     "output_type": "stream",
     "text": [
      " 67%|██████▋   | 538/800 [03:21<01:35,  2.74it/s]"
     ]
    },
    {
     "name": "stdout",
     "output_type": "stream",
     "text": [
      "бред какой-то!!! какие-то пидоры, что-то там сами с собой о своих домыслах пиздят!!!\n",
      "- какие-то люди, что-то там сами с собой о своих домыслах говорят!!!\n",
      "- какие-то люди, что-то там сами с собой о своих домыслах говорят\n",
      "- Какой-то бред, что-то там сами с собой о своих домыслах говорят\n",
      "- какие-то люди что-то там сами с собой о своих домыслах говорят\n",
      "- Какие-то люди, что-то там сами с собой о своих домыслах говорят\n",
      "- какие-то люди что-то там сами с собой о своих домыслах говорят!!!\n",
      "- какие-то люди, что-то там сами с собой о своих домыслах рассказывают\n",
      "- какие-то странные люди, что-то там сами с собой о своих домыслах говорят\n",
      "- какие-то странные люди, что-то там сами с собой о своих домыслах говорят!!!\n",
      "- какие-то люди, что-то там сами с собой о своих домыслах говорят!\n",
      "---> какие-то странные люди, что-то там сами с собой о своих домыслах говорят!!!\n"
     ]
    },
    {
     "name": "stderr",
     "output_type": "stream",
     "text": [
      " 67%|██████▋   | 539/800 [03:22<01:42,  2.54it/s]"
     ]
    },
    {
     "name": "stdout",
     "output_type": "stream",
     "text": [
      "девки молодцы!!! пидор снимает, ещё и комментирует(((:o :o я в шоке\n",
      "- девки молодцы!!! снимает, ещё и комментирует\n",
      "- девки молодцы!!! снимает, ещё и комментирует(((:o :o я в шоке\n",
      "- девки молодцы!!! снимает, ещё и комментирует(((:o я в шоке\n",
      "- девки молодцы!!! он снимает, ещё и комментирует\n",
      "- девки молодцы!!! ещё и комментирует\n",
      "- девки молодцы!!! снимаю, ещё и комментирует\n",
      "- Девки молодцы!!! снимает, ещё и комментирует\n",
      "- Девки молодцы, снимает ещё и комментирует\n",
      "- девки молодцы!!! он снимает, ещё и комментирует(((:o :o я в шоке\n",
      "- девки молодцы!!! пидор снимает, ещё и комментирует(((:o :o я в шоке\n",
      "---> девки молодцы!!! пидор снимает, ещё и комментирует(((:o :o я в шоке\n"
     ]
    },
    {
     "name": "stderr",
     "output_type": "stream",
     "text": [
      " 68%|██████▊   | 540/800 [03:22<01:33,  2.78it/s]"
     ]
    },
    {
     "name": "stdout",
     "output_type": "stream",
     "text": [
      "по ебалу получат......историю суки не читают\n",
      "- по лицу получат.....историю не читают\n",
      "- по лицу получат\n",
      "- по лицу получат......историю не читают\n",
      "- по лицу получат...историю не читают\n",
      "- По лицу получат, историю не читают\n",
      "- Накажут, историю не читают\n",
      "- По лицу получат. Историю не читают\n",
      "- По лицу получат...историю не читают\n",
      "- по лицу получат....историю не читают\n",
      "- по лицу надают\n",
      "---> по лицу получат......историю не читают\n"
     ]
    },
    {
     "name": "stderr",
     "output_type": "stream",
     "text": [
      " 68%|██████▊   | 541/800 [03:22<01:32,  2.80it/s]"
     ]
    },
    {
     "name": "stdout",
     "output_type": "stream",
     "text": [
      "продажные твари!!!за деньги маму родную продадут.....!!!!!\n",
      "- за деньги маму родную продадут\n",
      "- За деньги маму родную продадут\n",
      "- за деньги маму родную продадут.....!!!!!\n",
      "- за деньги маму родную продадут...!!!!!\n",
      "- за деньги маму родную продадут...\n",
      "- продажные люди!!!за деньги маму родную продадут\n",
      "- продажные люди!!!за деньги маму родную продадут.....!!!!!\n",
      "- за деньги маму родную продадут.....\n",
      "- за деньги маму родную продадут....!!!!!\n",
      "- продажные люди!!!за деньги маму родную продадут...!!!!!\n",
      "---> продажные люди!!!за деньги маму родную продадут.....!!!!!\n"
     ]
    },
    {
     "name": "stderr",
     "output_type": "stream",
     "text": [
      " 68%|██████▊   | 542/800 [03:23<01:40,  2.58it/s]"
     ]
    },
    {
     "name": "stdout",
     "output_type": "stream",
     "text": [
      "во всех нациях есть и пидарасы и люди.живите радуйтесь жизни и не болейте.\n",
      "- во всех нациях есть и люди.живите радуйтесь жизни и не болейте\n",
      "- во всех нациях есть и плохие и люди.живите радуйтесь жизни и не болейте\n",
      "- Во всех нациях есть и люди. Живите радуйтесь жизни и не болейте\n",
      "- во всех нациях есть и люди.живите радуйтесь жизни и не болейте.\n",
      "- во всех нациях есть и плохие люди и люди.живите радуйтесь жизни и не болейте\n",
      "- Во всех нациях есть и плохие и хорошие люди. Живите радуйтесь жизни и не болейте\n",
      "- Во всех нациях есть и плохие люди и люди. Живите радуйтесь жизни и не болейте\n",
      "- во всех нациях есть и люди и люди.живите радуйтесь жизни и не болейте\n",
      "- Во всех нациях есть и плохие и люди. Живите радуйтесь жизни и не болейте\n",
      "- во всех нациях есть и плохие и люди.живите радуйтесь жизни и не болейте.\n",
      "---> Во всех нациях есть и плохие и хорошие люди. Живите радуйтесь жизни и не болейте\n"
     ]
    },
    {
     "name": "stderr",
     "output_type": "stream",
     "text": [
      " 68%|██████▊   | 543/800 [03:23<01:34,  2.72it/s]"
     ]
    },
    {
     "name": "stdout",
     "output_type": "stream",
     "text": [
      "Саша из нескучного саунда охуенный.\n",
      "- Саша из нескучного саунда очень хороший\n",
      "- Саша из нескучного саунда отличный\n",
      "- Саша из нескучного саунда хороший\n",
      "- Саша из нескучного саунда крутой\n",
      "- Саша из нескучного саунда замечательный\n",
      "- Саша из нескучного саунда офигенный\n",
      "- Саша из нескучного саунда.\n",
      "- Саша хороший саунд\n",
      "- Саша из нескучного саунда классный\n",
      "- Саша из нескучного саунда очень классный\n",
      "---> Саша из нескучного саунда очень классный\n"
     ]
    },
    {
     "name": "stderr",
     "output_type": "stream",
     "text": [
      " 68%|██████▊   | 544/800 [03:24<01:28,  2.89it/s]"
     ]
    },
    {
     "name": "stdout",
     "output_type": "stream",
     "text": [
      "Этот вообще пиздец, контент был максимально убогим.\n",
      "- Этот контент был максимально убогим\n",
      "- Этот контент был крайне убогим\n",
      "- Этот контент был максимально убогим.\n",
      "- Этот контент был очень убогим\n",
      "- Этот контент был минимальным\n",
      "- Этот контент был самым плохим\n",
      "- Этот вообще ужас, контент был максимально убогим\n",
      "- Этот контент был очень плохим\n",
      "- Этот вообще кошмар, контент был максимально убогим\n",
      "- Этот контент был максимально плохим\n",
      "---> Этот вообще кошмар, контент был максимально убогим\n"
     ]
    },
    {
     "name": "stderr",
     "output_type": "stream",
     "text": [
      " 68%|██████▊   | 545/800 [03:24<01:32,  2.75it/s]"
     ]
    },
    {
     "name": "stdout",
     "output_type": "stream",
     "text": [
      "ты гнида уже у себя сделал все что мог не суй свой вонючий нос в беларуссию\n",
      "- Ты уже у себя сделал все что мог\n",
      "- ты уже у себя сделал все что мог\n",
      "- Ты уже у себя сделал всё что мог\n",
      "- Уже у себя сделал все что мог\n",
      "- ты уже у себя сделал все что мог не лезь в беларуссию\n",
      "- Ты уже у себя сделал все, что мог\n",
      "- Уже у себя сделал всё что мог\n",
      "- уже у себя сделал все что мог\n",
      "- уже у себя сделал все что мог не лезь в беларуссию\n",
      "- Уже у себя сделал все, что мог\n",
      "---> ты уже у себя сделал все что мог не лезь в беларуссию\n"
     ]
    },
    {
     "name": "stderr",
     "output_type": "stream",
     "text": [
      " 68%|██████▊   | 546/800 [03:25<01:54,  2.22it/s]"
     ]
    },
    {
     "name": "stdout",
     "output_type": "stream",
     "text": [
      "да, номера наши по ходу. а вот то что наши чмошники перенимают всёдозволеность как у матрасников, это не отнять.\n",
      "- да, номера наши по ходу. а вот то что наши люди перенимают всё дозволеность как у матрасников, это не отнять\n",
      "- да, номера наши по ходу. а вот то что наши люди перенимают всё дозволеность как у матрасников, это не отнять.\n",
      "- да, номера наши по ходу. а вот то что наши люди перенимают всёдозволеность как у матрасников, это не отнять\n",
      "- да, номера наши по ходу. а вот то что наши люди перенимают всё дозволеность как у матрасников\n",
      "- Да, номера наши по ходу. А вот то что наши люди перенимают всё дозволеность как у матрасников, это не отнять\n",
      "- да, номера наши по ходу. а вот то что наши люди перенимают всё позволеность как у матрасников, это не отнять\n",
      "- да, номера наши по ходу. а вот то что наши берут всё дозволеность как у матрасников, это не отнять\n",
      "- да, номера наши по ходу. а вот то что наши люди перенимают все дозволеность как у матрасников, это не отнять\n",
      "- да, номера наши по ходу. а вот то что наши нехорошие люди перенимают всё дозволеность как у матрасников, это не отнять\n",
      "- да, номера наши по ходу. а вот то что наши люди перенимают всё дозволенность как у матрасников, это не отнять\n",
      "---> да, номера наши по ходу. а вот то что наши нехорошие люди перенимают всё дозволеность как у матрасников, это не отнять\n"
     ]
    },
    {
     "name": "stderr",
     "output_type": "stream",
     "text": [
      " 68%|██████▊   | 547/800 [03:25<01:57,  2.15it/s]"
     ]
    },
    {
     "name": "stdout",
     "output_type": "stream",
     "text": [
      "вырезали половину поджелудочной, но бухает и по сей день по черному Вот как так?\n",
      "- вырезали половину поджелудочной, но пьет и по сей день по чёрному Вот как так?\n",
      "- вырезали половину поджелудочной, но пьёт и по сей день по чёрному Вот как так?\n",
      "- вырезали половину поджелудочной, но пьет и по сей день по чёрному\n",
      "- вырезали половину поджелудочной, но пьет и по сей день по черному Вот как так?\n",
      "- вырезали половину поджелудочной, но пьет и по сей день по чёрному Вот как так\n",
      "- вырезали половину поджелудочной, но пьёт и по сей день по чёрному\n",
      "- Вырезали половину поджелудочной, но пьет и по сей день по чёрному Вот как так?\n",
      "- вырезали половину поджелудочной, но пьет и по сей день по чёрному вот как так?\n",
      "- Вырезали половину поджелудочной, но пьёт и по сей день по чёрному Вот как так?\n",
      "- Вырезали половину поджелудочной, но пьёт и по сей день по чёрному\n",
      "---> Вырезали половину поджелудочной, но пьёт и по сей день по чёрному Вот как так?\n"
     ]
    },
    {
     "name": "stderr",
     "output_type": "stream",
     "text": [
      " 68%|██████▊   | 548/800 [03:25<01:41,  2.49it/s]"
     ]
    },
    {
     "name": "stdout",
     "output_type": "stream",
     "text": [
      "пошел на хуй козел и больше мгне не пиши\n",
      "- Больше не буду писать\n",
      "- Больше не пиши\n",
      "- Больше мне не пиши\n",
      "- Не надо больше мне писать\n",
      "- Не надо мне писать\n",
      "- больше не буду писать\n",
      "- Не пиши мне\n",
      "- Я больше не буду писать\n",
      "- Не пиши больше\n",
      "- Не пиши больше мне\n",
      "---> Не надо больше мне писать\n"
     ]
    },
    {
     "name": "stderr",
     "output_type": "stream",
     "text": [
      " 69%|██████▊   | 549/800 [03:26<01:30,  2.77it/s]"
     ]
    },
    {
     "name": "stdout",
     "output_type": "stream",
     "text": [
      "путин тварь что ты делаешь со страной?\n",
      "- Что ты делаешь со страной\n",
      "- Что ты делаешь со страной?\n",
      "- Путин что ты делаешь со страной\n",
      "- Путин что ты делаешь со страной?\n",
      "- что ты делаешь со страной?\n",
      "- что ты делаешь со страной\n",
      "- Ты что делаешь со страной\n",
      "- Что ты делаешь с страной\n",
      "- Что ты делаешь с Россией\n",
      "- Путин что ты делаешь с страной\n",
      "---> Путин что ты делаешь со страной?\n"
     ]
    },
    {
     "name": "stderr",
     "output_type": "stream",
     "text": [
      " 69%|██████▉   | 550/800 [03:26<01:32,  2.69it/s]"
     ]
    },
    {
     "name": "stdout",
     "output_type": "stream",
     "text": [
      "Печаль, ты реально разницы не видишь? Да ты похоже особенный забань\n",
      "- Печаль, ты реально разницы не видишь? Да ты похоже особенный\n",
      "- Печаль, ты реально разницы не видишь? Да ты наверное особенный\n",
      "- Печаль ты реально разницы не видишь? Да ты похоже особенный\n",
      "- Печаль, ты действительно разницы не видишь? Да ты похоже особенный\n",
      "- Печаль, ты реально разницы не видишь?\n",
      "- Печаль, ты реально разницы не видишь? Да ты видимо особенный\n",
      "- Печаль, ты реально разницы не видишь? Да ты наверно особенный\n",
      "- Печаль, ты реально разницы не видишь? Да ты похоже особенный забань\n",
      "- Печаль, ты реально разницы не видишь? Да ты явно особенный\n",
      "- Печаль,ты реально разницы не видишь? Да ты похоже особенный\n",
      "---> Печаль, ты реально разницы не видишь? Да ты похоже особенный забань\n"
     ]
    },
    {
     "name": "stderr",
     "output_type": "stream",
     "text": [
      " 69%|██████▉   | 551/800 [03:26<01:34,  2.63it/s]"
     ]
    },
    {
     "name": "stdout",
     "output_type": "stream",
     "text": [
      "вот только и пиздишь, так что там с уфалейским никилем?\n",
      "- Вот только и говоришь, так что там с уфалейским никилем\n",
      "- Вот только и говоришь, так что там с уфалейским никилем?\n",
      "- вот только и говоришь, так что там с уфалейским никилем?\n",
      "- Вот только и говорит, так что там с уфалейским никилем\n",
      "- Вот только и говорит, так что там с уфалейским никилем?\n",
      "- Вот только и говоришь, что там с уфалейским никилем\n",
      "- Только и говоришь, так что там с уфалейским никилем\n",
      "- вот только и говоришь, так что там с уфалейским никилем\n",
      "- Вот только и говоришь, что там с уфалейским никилем?\n",
      "- Только и говоришь, так что там с уфалейским никилем?\n",
      "---> вот только и говоришь, так что там с уфалейским никилем?\n"
     ]
    },
    {
     "name": "stderr",
     "output_type": "stream",
     "text": [
      " 69%|██████▉   | 552/800 [03:27<01:34,  2.62it/s]"
     ]
    },
    {
     "name": "stdout",
     "output_type": "stream",
     "text": [
      "да он сука здоровый как тварь . и самое главное, что бог его не наказывает.\n",
      "- Да он здоровый. И самое главное, что бог его не наказывает\n",
      "- Да он здоровый, и самое главное, что бог его не наказывает\n",
      "- Он здоровый. И самое главное, что бог его не наказывает\n",
      "- И самое главное, что бог его не наказывает\n",
      "- Он здоровый, и самое главное, что бог его не наказывает\n",
      "- Да он здоровый. И самое главное, что бог его не наказывает.\n",
      "- Да он здоровый и самое главное, что бог его не наказывает\n",
      "- Да он здоровый и главное, что бог его не наказывает\n",
      "- Да он здоровый, и самое главное, что бог его не наказывает.\n",
      "- Он здоровый. И самое главное, что бог его не наказывает.\n",
      "---> Да он здоровый, и самое главное, что бог его не наказывает.\n"
     ]
    },
    {
     "name": "stderr",
     "output_type": "stream",
     "text": [
      " 69%|██████▉   | 553/800 [03:27<01:43,  2.38it/s]"
     ]
    },
    {
     "name": "stdout",
     "output_type": "stream",
     "text": [
      "я не понял? так они что блядь герои чтоли?че за херню вы пихаете людям?большой минус\n",
      "- Я не понял? Так они что герои чтоли?\n",
      "- я не понял? так они что герои чтоли?че за ерунду вы пихаете людям?большой минус\n",
      "- Я не понял? Так они герои чтоли?\n",
      "- я не понял? так они что герои чтоли?че за фигню вы пихаете людям?большой минус\n",
      "- я не понял? так они что герои чтоли?че за ерунду вы пихаете людям\n",
      "- я не понял? так они что герои чтоли?че за бред вы пихаете людям?большой минус\n",
      "- Я не понял? Так они что, герои чтоли?\n",
      "- я не понял? так они что герои чтоли?че за чушь вы пихаете людям?большой минус\n",
      "- я не понял? так они что герои чтоли?че за ерунду вы пихайте людям?большой минус\n",
      "- Я не понял? так они что герои чтоли?че за ерунду вы пихаете людям?большой минус\n",
      "---> Я не понял? так они что герои чтоли?че за ерунду вы пихаете людям?большой минус\n"
     ]
    },
    {
     "name": "stderr",
     "output_type": "stream",
     "text": [
      " 69%|██████▉   | 554/800 [03:28<01:34,  2.62it/s]"
     ]
    },
    {
     "name": "stdout",
     "output_type": "stream",
     "text": [
      "сучка, покусала и спряталась.... :(\n",
      "- Покусала и спряталась\n",
      "- покусала и спряталась\n",
      "- Она укусила и спряталась\n",
      "- Укусила и спряталась\n",
      "- Кусает и прячется\n",
      "- Попалась и спряталась\n",
      "- покусала и спряталась.... :(\n",
      "- Покусила и спряталась\n",
      "- Кусает и спряталась\n",
      "- Покусал и спрятался\n",
      "---> покусала и спряталась.... :(\n"
     ]
    },
    {
     "name": "stderr",
     "output_type": "stream",
     "text": [
      " 69%|██████▉   | 555/800 [03:28<01:30,  2.71it/s]"
     ]
    },
    {
     "name": "stdout",
     "output_type": "stream",
     "text": [
      "что это было и на каком основании? что это за ублюдок?\n",
      "- Что это было и на каком основании?\n",
      "- Что это было и на каком основании\n",
      "- что это было и на каком основании?\n",
      "- Что это было и почему?\n",
      "- Что это было? Что это за человек\n",
      "- Что это было и зачем?\n",
      "- что это было и на каком основании? что это за человек\n",
      "- что это было и на каком основании\n",
      "- Что это было и на каком основании? Что это за человек\n",
      "- Что это было, и на каком основании?\n",
      "---> Что это было и на каком основании? Что это за человек\n"
     ]
    },
    {
     "name": "stderr",
     "output_type": "stream",
     "text": [
      " 70%|██████▉   | 556/800 [03:28<01:33,  2.62it/s]"
     ]
    },
    {
     "name": "stdout",
     "output_type": "stream",
     "text": [
      "это не игра а хуйня.... какие модераторы и админы такая и хуетень......\n",
      "- Это не игра, а ерунда\n",
      "- Это не игра а ерунда\n",
      "- Это не игра, какие модераторы и админы такая и ерунда\n",
      "- Это не игра. Какие модераторы и админы такая и ерунда\n",
      "- Это не игра, какие модераторы и админы такая и плохая\n",
      "- Это не игра,а ерунда\n",
      "- это не игра а ерунда.... какие модераторы и админы такая и ерунда......\n",
      "- это не игра, какие модераторы и админы такая и ерунда\n",
      "- это не игра, какие модераторы и админы такая и ерунда......\n",
      "- это не игра а ерунда.... какие модераторы и админы такая и плохая\n",
      "---> это не игра а ерунда.... какие модераторы и админы такая и ерунда......\n"
     ]
    },
    {
     "name": "stderr",
     "output_type": "stream",
     "text": [
      " 70%|██████▉   | 557/800 [03:29<01:26,  2.81it/s]"
     ]
    },
    {
     "name": "stdout",
     "output_type": "stream",
     "text": [
      "Ну я смотрю - давай, облей меня говном.\n",
      "- Ну я смотрю - давай, обливай\n",
      "- Ну я смотрю - давай, обливай меня\n",
      "- Ну я смотрю - давай, накажи\n",
      "- Ну я смотрю, давай, обливай\n",
      "- Ну я смотрю, давай, накажи\n",
      "- Ну я смотрю - давай, облить меня\n",
      "- Ну я смотрю - давай.\n",
      "- Ну я смотрю - давай, оскорблю\n",
      "- Ну я смотрю, давай, обливай меня\n",
      "- Ну я смотрю - давай, обливайся\n",
      "---> Ну я смотрю - давай, обливай меня\n"
     ]
    },
    {
     "name": "stderr",
     "output_type": "stream",
     "text": [
      " 70%|██████▉   | 558/800 [03:29<01:34,  2.56it/s]"
     ]
    },
    {
     "name": "stdout",
     "output_type": "stream",
     "text": [
      "напрасно мудрость думать что старости приходит в мудак возрастом не становится с мудрецом он становится старым мудаком\n",
      "- Напрасно мудрость думать что старости приходит в пожилом возрасте\n",
      "- Напрасно мудрость думать, что старости приходит в пожилом возрасте\n",
      "- Напрасно мудрость думать что старости приходит в возрастом не становится с мудрецом он становится старым человеком\n",
      "- Напрасно мудрость думать что старости приходит в возрасте не становится с мудрецом он становится старым человеком\n",
      "- напрасно мудрость думать что старости приходит в возраст не становится с мудрецом он становится старым человеком\n",
      "- Напрасно мудрость думать, что старости приходит в возрасте не становится с мудрецом он становится старым человеком\n",
      "- Напрасно мудрость думать, что старости приходит в пожилом возрасте.\n",
      "- Напрасно мудрость думать что старости приходит в возраст не становится с мудрецом он становится старым человеком\n",
      "- Напрасно мудрость думать что старости приходит в возрастом не становится с мудрецом он становится старым мудаком\n",
      "- Напрасно мудрость думать что старости приходит в возрасте не становится с мудрецом он становится старым мудаком\n",
      "---> Напрасно мудрость думать, что старости приходит в возрасте не становится с мудрецом он становится старым человеком\n"
     ]
    },
    {
     "name": "stderr",
     "output_type": "stream",
     "text": [
      " 70%|██████▉   | 559/800 [03:29<01:27,  2.77it/s]"
     ]
    },
    {
     "name": "stdout",
     "output_type": "stream",
     "text": [
      "ебанько подай патрон иsоvасн ги\n",
      "- Подай патрон\n",
      "- Подай патрон\n",
      "- подай патрон\n",
      "- дай патрон\n",
      "- Дай патрон\n",
      "- Подай патрон иsоvасн\n",
      "- подай патрон иsоvасн\n",
      "- подай патрон\n",
      "- Дай патроны\n",
      "- Подай патроны\n",
      "---> подай патрон иsоvасн\n"
     ]
    },
    {
     "name": "stderr",
     "output_type": "stream",
     "text": [
      " 70%|███████   | 560/800 [03:30<01:22,  2.89it/s]"
     ]
    },
    {
     "name": "stdout",
     "output_type": "stream",
     "text": [
      "уебак, из за таких невинные страдают. посадить!!!\n",
      "- Из-за таких невинные страдают\n",
      "- Из-за таких невинные страдают. Наказать\n",
      "- Из за таких невинные страдают\n",
      "- Из за таких невинные страдают. Наказать\n",
      "- из-за таких невинные страдают. посадить\n",
      "- из-за таких невинные страдают\n",
      "- Из-за таких невинные страдают, посадить\n",
      "- из за таких невинные страдают. посадить\n",
      "- из за таких невинные страдают\n",
      "- из-за таких невинные страдают. наказать\n",
      "---> из-за таких невинные страдают. наказать\n"
     ]
    },
    {
     "name": "stderr",
     "output_type": "stream",
     "text": [
      " 70%|███████   | 561/800 [03:30<01:20,  2.96it/s]"
     ]
    },
    {
     "name": "stdout",
     "output_type": "stream",
     "text": [
      "за яица повесить надо что бы больше детей не было\n",
      "- за яица повесить надо что бы больше детей не было\n",
      "- за яйца повесить надо что бы больше детей не было\n",
      "- за яйца надо что бы больше детей не было\n",
      "- Наказать надо что бы больше детей не было\n",
      "- Надо что бы больше детей не было\n",
      "- за яица надо что бы больше детей не было\n",
      "- Надо наказать что бы больше детей не было\n",
      "- За яйца надо что бы больше детей не было\n",
      "- За яица надо что бы больше детей не было\n",
      "- Наказать надо, что бы больше детей не было\n",
      "---> за яйца повесить надо что бы больше детей не было\n"
     ]
    },
    {
     "name": "stderr",
     "output_type": "stream",
     "text": [
      " 70%|███████   | 562/800 [03:30<01:20,  2.95it/s]"
     ]
    },
    {
     "name": "stdout",
     "output_type": "stream",
     "text": [
      "и хера толку что задолбал и все равно все ездят. ебанутый пост.\n",
      "- и толку что задолбал и все равно все ездят\n",
      "- и толку что надоел и все равно все ездят\n",
      "- И толку что надоел и все равно все ездят\n",
      "- и толку что задолбал и все равно все ездят.\n",
      "- и чего толку что задолбал и все равно все ездят\n",
      "- и что толку что задолбал и все равно все ездят\n",
      "- и ничего толку что задолбал и все равно все ездят\n",
      "- И толку что надоел и всё равно все ездят\n",
      "- и чего толку что достал и все равно все ездят\n",
      "- и толку что надоел и всё равно все ездят\n",
      "---> и ничего толку что задолбал и все равно все ездят\n"
     ]
    },
    {
     "name": "stderr",
     "output_type": "stream",
     "text": [
      " 70%|███████   | 563/800 [03:31<01:30,  2.62it/s]"
     ]
    },
    {
     "name": "stdout",
     "output_type": "stream",
     "text": [
      "не леща ей надо дать а пинка под жопу что б летела пердела и радовалась коза драная.\n",
      "- не леща ей надо дать а пинка под жопу что б летела пердела и радовалась\n",
      "- не леща ей надо дать а пинка под жопу что б летела радовалась\n",
      "- не леща ей надо дать а пинка под зад что б летела радовалась\n",
      "- Не леща ей надо дать, что бы летела и радовалась\n",
      "- Не леща ей надо дать, а пинка\n",
      "- не леща ей надо дать а пинка под зад что б летела пердела и радовалась\n",
      "- Не надо её наказывать\n",
      "- не леща ей надо дать а пинка под жопу что бы летела пердела и радовалась\n",
      "- Не леща ей надо дать а пинка\n",
      "- Не надо ее наказывать\n",
      "---> не леща ей надо дать а пинка под жопу что бы летела пердела и радовалась\n"
     ]
    },
    {
     "name": "stderr",
     "output_type": "stream",
     "text": [
      " 70%|███████   | 564/800 [03:31<01:36,  2.45it/s]"
     ]
    },
    {
     "name": "stdout",
     "output_type": "stream",
     "text": [
      "директор - молодец ! только так можно и нужно отучать лодырей и политпидорасов от безделья и саботажа !!!\n",
      "- директор - молодец! только так можно и нужно отучать от безделья и саботажа!!!\n",
      "- директор - молодец! только так можно и нужно отучать от безделья и саботажа\n",
      "- директор - молодец! только так можно и нужно отучать людей от безделья и саботажа!!!\n",
      "- директор - молодец! только так можно и нужно отучать от безделья\n",
      "- директор- молодец! только так можно и нужно отучать от безделья и саботажа!!!\n",
      "- Директор молодец, только так можно и нужно отучать от безделья и саботажа\n",
      "- Директор - молодец! Только так можно и нужно отучать от безделья и саботажа\n",
      "- директор - молодец! только так можно и нужно отучать от безделья и саботажа!!!\n",
      "- Директор - молодец! Только так можно и нужно отучать от безделья и саботажа\n",
      "- Директор - молодец, только так можно и нужно отучать от безделья и саботажа\n",
      "---> директор - молодец! только так можно и нужно отучать людей от безделья и саботажа!!!\n"
     ]
    },
    {
     "name": "stderr",
     "output_type": "stream",
     "text": [
      " 71%|███████   | 565/800 [03:32<01:42,  2.30it/s]"
     ]
    },
    {
     "name": "stdout",
     "output_type": "stream",
     "text": [
      "Возраст подняли нам... А ноешь ты.. Ну а вам еще поднимут,но вы не доживете..\n",
      "- Возраст подняли нам... А ноешь ты.. Ну а вам еще поднимут,но вы не доживете\n",
      "- Возраст подняли нам... А ноешь ты.. Ну а вам ещё поднимут,но вы не доживете\n",
      "- Возраст подняли нам... А ноешь ты.. Ну а вам еще поднимут,но вы не доживёте\n",
      "- Возраст подняли нам... А ноешь ты.. Ну а вам еще поднимут, но вы не доживете\n",
      "- Возраст подняли нам... А ноешь ты.. Ну а вам ещё поднимут,но вы не доживёте\n",
      "- Возраст подняли нам... А ноешь ты.. Ну а вам ещё поднимут, но вы не доживете\n",
      "- Возраст подняли нам... А ноешь ты.. Ну а вам еще поднимут\n",
      "- Возраст подняли нам... А ноешь ты.. Ну а вам еще поднимут, но вы не доживёте\n",
      "- Возраст подняли нам... А ноешь ты.. Ну а вам еще поднимут,но вы не доживете..\n",
      "- Возраст подняли нам... А ноешь ты... Ну а вам ещё поднимут,но вы не доживете\n",
      "---> Возраст подняли нам... А ноешь ты.. Ну а вам еще поднимут,но вы не доживете..\n"
     ]
    },
    {
     "name": "stderr",
     "output_type": "stream",
     "text": [
      " 71%|███████   | 566/800 [03:32<01:37,  2.40it/s]"
     ]
    },
    {
     "name": "stdout",
     "output_type": "stream",
     "text": [
      "Дебилы. Неужели не доходит, что жалоба прилетит уже не от робота?\n",
      "- Неужели не доходит, что жалоба прилетит уже не от робота\n",
      "- Неужели не доходит, что жалоба прилетит уже не от робота?\n",
      "- Неужели не доходит, что жалоба прилетит не от робота\n",
      "- Неужели не доходит,что жалоба прилетит уже не от робота\n",
      "- Неужели не доходит, что жалоба прилетит не от робота?\n",
      "- Неужели не доходит что жалоба прилетит уже не от робота\n",
      "- Неужели не доходит,что жалоба прилетит уже не от робота?\n",
      "- Почему не доходит, что жалоба прилетит уже не от робота\n",
      "- Неужели не доходит, что жалоба прилетит уже не от робота\n",
      "- Неужели не доходит, что жалобу прилетит уже не от робота\n",
      "---> Неужели не доходит, что жалоба прилетит уже не от робота?\n"
     ]
    },
    {
     "name": "stderr",
     "output_type": "stream",
     "text": [
      " 71%|███████   | 567/800 [03:33<01:29,  2.62it/s]"
     ]
    },
    {
     "name": "stdout",
     "output_type": "stream",
     "text": [
      "при чем здесь группа!!!! русского рока!!! и голимая попсятина этого лысого чмырюги?????\n",
      "- при чем здесь группа!!!! русского рока\n",
      "- При чем здесь группа русского рока\n",
      "- при чем здесь группа!!!! русского рока!!!\n",
      "- причем здесь группа!!!! русского рока\n",
      "- Причем здесь группа русского рока\n",
      "- причем здесь группа!!!! русского рока!!!\n",
      "- при чем здесь группа???? русского рока\n",
      "- причем здесь группа???? русского рока\n",
      "- При чем здесь группа Русского рока\n",
      "- при чем здесь группа???? русского рока!!!\n",
      "---> при чем здесь группа???? русского рока!!!\n"
     ]
    },
    {
     "name": "stderr",
     "output_type": "stream",
     "text": [
      " 71%|███████   | 568/800 [03:33<01:22,  2.81it/s]"
     ]
    },
    {
     "name": "stdout",
     "output_type": "stream",
     "text": [
      "суки пидоры как будто вид делают что ни чего не происходит\n",
      "- как будто вид делают что ничего не происходит\n",
      "- как будто вид делают что ни чего не происходит\n",
      "- Как будто вид делают что ничего не происходит\n",
      "- Как будто вид делают, что ничего не происходит\n",
      "- Как будто вид делают, ничего не происходит\n",
      "- Как будто вид делают что ни чего не происходит\n",
      "- как будто вид делают, что ничего не происходит\n",
      "- Вид делают что ничего не происходит\n",
      "- Вид делают, что ничего не происходит\n",
      "- Как будто вид делают, что ни чего не происходит\n",
      "---> Как будто вид делают, что ни чего не происходит\n"
     ]
    },
    {
     "name": "stderr",
     "output_type": "stream",
     "text": [
      " 71%|███████   | 569/800 [03:33<01:21,  2.82it/s]"
     ]
    },
    {
     "name": "stdout",
     "output_type": "stream",
     "text": [
      "путину повезло, а вот ты , неудачник.....соси молча..\n",
      "- Путину повезло, а вот ты неудачник\n",
      "- Путину повезло, а вот ты, неудачник\n",
      "- Путину повезло, а вот тебе не повезло\n",
      "- Путину повезло, а вот ты, неудачник\n",
      "- Путину повезло, а вот ты, неудачник.....молчи\n",
      "- Путину повезло, а вот ты, неудачник...молчи\n",
      "- Путину повезло, а вот ты, неудачник.....молчи\n",
      "- путину повезло, а вот ты неудачник\n",
      "- Путину повезло, а вот ты - неудачник\n",
      "- Путину повезло, а вот ты, неудачник...молчи\n",
      "---> Путину повезло, а вот ты, неудачник.....молчи\n"
     ]
    },
    {
     "name": "stderr",
     "output_type": "stream",
     "text": [
      " 71%|███████▏  | 570/800 [03:33<01:16,  3.01it/s]"
     ]
    },
    {
     "name": "stdout",
     "output_type": "stream",
     "text": [
      "бросил, гад. убить его мало.\n",
      "- Бросил\n",
      "- Убил его мало\n",
      "- бросил\n",
      "- Бросил. Наказать его мало\n",
      "- Бросил, убить его мало\n",
      "- Убил его\n",
      "- Убить его мало\n",
      "- Убил его много\n",
      "- Бросил. Наказать его мало.\n",
      "- Бросил. Убить его мало\n",
      "---> Бросил. Наказать его мало.\n"
     ]
    },
    {
     "name": "stderr",
     "output_type": "stream",
     "text": [
      " 71%|███████▏  | 571/800 [03:34<01:20,  2.85it/s]"
     ]
    },
    {
     "name": "stdout",
     "output_type": "stream",
     "text": [
      "Посидев в трусах при нуле градусов ты тоже не долго протянешь.\n",
      "- Посидев в трусах при нуле градусов ты тоже не долго протянешь\n",
      "- Посидев в трусах при нуле градусов ты тоже не долго протянешь.\n",
      "- Посидев в трусах при нуле градусов, ты тоже не долго протянешь\n",
      "- Посидев в трусах при нуле градусов ты тоже недолго протянешь\n",
      "- Посидев в трусах при нуле градусов ты тоже не долго протянешь\n",
      "- Сидя в трусах при нуле градусов ты тоже не долго протянешь\n",
      "- Посидев при нуле градусов ты тоже не долго протянешь\n",
      "- Посидев в трусах при нуле градусов ты не долго протянешь\n",
      "- Посидев в труселях при нуле градусов ты тоже не долго протянешь\n",
      "- посидев в трусах при нуле градусов ты тоже не долго протянешь\n",
      "---> Посидев в труселях при нуле градусов ты тоже не долго протянешь\n"
     ]
    },
    {
     "name": "stderr",
     "output_type": "stream",
     "text": [
      " 72%|███████▏  | 572/800 [03:34<01:14,  3.08it/s]"
     ]
    },
    {
     "name": "stdout",
     "output_type": "stream",
     "text": [
      "стрелять на месте и не нужен суд!\n",
      "- Не нужен суд\n",
      "- Наказать нужно\n",
      "- Не нужно суд\n",
      "- Наказать надо\n",
      "- Нужен суд\n",
      "- Наказать его нужно\n",
      "- Наказать нужно.\n",
      "- Наказать нужно!\n",
      "- Наказать и не нужен суд\n",
      "- Бить не нужно\n",
      "---> Наказать и не нужен суд\n"
     ]
    },
    {
     "name": "stderr",
     "output_type": "stream",
     "text": [
      " 72%|███████▏  | 573/800 [03:34<01:10,  3.21it/s]"
     ]
    },
    {
     "name": "stdout",
     "output_type": "stream",
     "text": [
      "предлагаю вообще им морды набить за все\n",
      "- Предлагаю вообще их наказать\n",
      "- Предлагаю наказывать за все\n",
      "- Предлагаю наказать за все\n",
      "- Предлагаю их наказать\n",
      "- Предлагаю вообще наказать\n",
      "- Предлагаю вообще их наказать за все\n",
      "- Предлагаю вообще наказать за все\n",
      "- Предлагаю наказывать за всё\n",
      "- Предлагаю вообще им дать по лицу\n",
      "- Предлагаю вообще с ними не общаться\n",
      "---> Предлагаю вообще с ними не общаться\n"
     ]
    },
    {
     "name": "stderr",
     "output_type": "stream",
     "text": [
      " 72%|███████▏  | 574/800 [03:35<01:17,  2.93it/s]"
     ]
    },
    {
     "name": "stdout",
     "output_type": "stream",
     "text": [
      "адми ты наверное долбоёб- каемамочки, блять это же дети\n",
      "- адми ты наверное плохой человек, каемамочки, это же дети\n",
      "- адми ты наверное глупый- каемамочки, это же дети\n",
      "- адми ты наверное глупый, каемамочки, это же дети\n",
      "- адми ты наверное нехороший человек, каемамочки, это же дети\n",
      "- адми ты наверное плохой человек- каемамочки, это же дети\n",
      "- адми ты наверное не хороший человек, каемамочки, это же дети\n",
      "- адми ты наверное не хороший человек- каемамочки, это же дети\n",
      "- адми ты наверное не очень хороший человек, каемамочки, это же дети\n",
      "- адми ты наверное глупый, каемамочки это же дети\n",
      "- адми ты наверное глупый- каемамочки, дети\n",
      "---> адми ты наверное не очень хороший человек, каемамочки, это же дети\n"
     ]
    },
    {
     "name": "stderr",
     "output_type": "stream",
     "text": [
      " 72%|███████▏  | 575/800 [03:35<01:26,  2.60it/s]"
     ]
    },
    {
     "name": "stdout",
     "output_type": "stream",
     "text": [
      "В смысле мерзость? Что за угнетение? Мы не пидорессы, а женщины с иной ориентацией!\n",
      "- В смысле что за угнетение? Мы не рабыни, а женщины с иной ориентацией!\n",
      "- В смысле что за угнетение? Мы не плохие люди, а женщины с иной ориентацией!\n",
      "- В смысле что за угнетение? Мы не плохие, а женщины с иной ориентацией!\n",
      "- В смысле гадость? Что за угнетение? Мы не рабыни, а женщины с иной ориентацией!\n",
      "- В смысле гадость? Что за угнетение? Мы не плохие, а женщины с иной ориентацией!\n",
      "- В смысле угнетение? Что за угнетение? Мы не рабыни, а женщины с иной ориентацией!\n",
      "- В смысле гадость? Что за угнетение? Мы не плохие люди, а женщины с иной ориентацией!\n",
      "- В смысле мерзость? Что за угнетение? Мы не рабыни, а женщины с иной ориентацией!\n",
      "- В смысле что за угнетение? Мы не плохие люди, а женщины с другой ориентацией!\n",
      "- В смысле что за угнетение? Мы не рабыни, а женщины с другой ориентацией!\n",
      "---> В смысле гадость? Что за угнетение? Мы не плохие люди, а женщины с иной ориентацией!\n"
     ]
    },
    {
     "name": "stderr",
     "output_type": "stream",
     "text": [
      " 72%|███████▏  | 576/800 [03:36<01:30,  2.48it/s]"
     ]
    },
    {
     "name": "stdout",
     "output_type": "stream",
     "text": [
      "ты до москвы никогда недойдешь а трахнут тебя дома в твоем бендерштате в очко\n",
      "- Ты до Москвы никогда не доберешься\n",
      "- ты до москвы никогда недойдешь а изнасилуют тебя дома\n",
      "- Ты до москвы никогда не доберешься\n",
      "- ты до москвы никогда недойдешь а побьют тебя дома\n",
      "- ты до москвы никогда не дойдешь а побьют тебя дома\n",
      "- ты до москвы никогда не дойдешь а изнасилуют тебя дома\n",
      "- Ты до москвы никогда не дойдешь\n",
      "- Ты до москвы никогда не дойдешь, а изнасилуют тебя дома\n",
      "- ты до москвы никогда недойдешь а изнасилуют тебя дома в твоем бендерштате\n",
      "- ты до москвы никогда не дойдешь а накажут тебя дома\n",
      "---> ты до москвы никогда недойдешь а изнасилуют тебя дома в твоем бендерштате\n"
     ]
    },
    {
     "name": "stderr",
     "output_type": "stream",
     "text": [
      " 72%|███████▏  | 577/800 [03:36<01:28,  2.52it/s]"
     ]
    },
    {
     "name": "stdout",
     "output_type": "stream",
     "text": [
      "Вычеркивальщик выезжай, вот адрес, глушитель не забудь!\n",
      "- Вычеркивай, вот адрес, глушитель не забудь\n",
      "- Вычеркивай, вот адрес, глушитель не забудь!\n",
      "- Вычеркивальщик выезжай, вот адрес, глушитель не забудь!\n",
      "- вычеркивай, вот адрес, глушитель не забудь!\n",
      "- выезжай, вот адрес, глушитель не забудь!\n",
      "- Вычеркивай, вот адрес\n",
      "- Уезжай, вот адрес, глушитель не забудь\n",
      "- Выезжай, вот адрес, глушитель не забудь!\n",
      "- Выезжай, вот адрес, глушитель не забудь\n",
      "- Уезжай, вот адрес, глушитель не забудь!\n",
      "---> Вычеркивальщик выезжай, вот адрес, глушитель не забудь!\n"
     ]
    },
    {
     "name": "stderr",
     "output_type": "stream",
     "text": [
      " 72%|███████▏  | 578/800 [03:37<01:28,  2.51it/s]"
     ]
    },
    {
     "name": "stdout",
     "output_type": "stream",
     "text": [
      "даааа!сложно всё у либералов!ты и вправду осёл!\n",
      "- даааа!сложно всё у либералов!\n",
      "- Даааа!сложно всё у либералов!\n",
      "- даааа!сложно всё у либералов\n",
      "- Даааа!сложно всё у либералов\n",
      "- даааа!сложно всё у либералов!ты и вправду глупый\n",
      "- даааа!сложно всё у либералов!ты и вправду не умный\n",
      "- даааа!сложно всё у либералов!ты и вправду плохой человек\n",
      "- Сложно всё у либералов\n",
      "- Даааааа!сложно всё у либералов!\n",
      "- Да!сложно всё у либералов!\n",
      "---> даааа!сложно всё у либералов!ты и вправду плохой человек\n"
     ]
    },
    {
     "name": "stderr",
     "output_type": "stream",
     "text": [
      " 72%|███████▏  | 579/800 [03:37<01:33,  2.37it/s]"
     ]
    },
    {
     "name": "stdout",
     "output_type": "stream",
     "text": [
      "Всё правильно делают! Если русские терпилы и куколды, то хоть якуты мамбетов на место поставят.\n",
      "- Всё правильно делают\n",
      "- Всё правильно делают! Если русские, то хоть якуты мамбетов на место поставят\n",
      "- Всё правильно делают, если русские, то хоть якуты мамбетов на место поставят\n",
      "- Всё правильно делают. Если русские, то хоть якуты мамбетов на место поставят\n",
      "- Всё правильно делают! Если русские, то хоть якуты мамбетов на место поставят.\n",
      "- Всё правильно делают! Если русские плохие, то хоть якуты мамбетов на место поставят\n",
      "- Всё правильно делают! Если русские плохие люди, то хоть якуты мамбетов на место поставят\n",
      "- Всё правильно делают. Если русские, то хоть якуты мамбетов на место поставят.\n",
      "- Всё правильно делают! Если русские плохие, то хоть якуты мамбетов на место поставят.\n",
      "- Всё правильно делают, если русские, то хоть якуты мамбетов на место поставят.\n",
      "---> Всё правильно делают! Если русские плохие люди, то хоть якуты мамбетов на место поставят\n"
     ]
    },
    {
     "name": "stderr",
     "output_type": "stream",
     "text": [
      " 72%|███████▎  | 580/800 [03:37<01:24,  2.61it/s]"
     ]
    },
    {
     "name": "stdout",
     "output_type": "stream",
     "text": [
      "на каждый хер с винтом найдется, жопа с закаулками\n",
      "- На каждый винт найдется\n",
      "- на каждый винт найдется\n",
      "- На каждый винт найдётся\n",
      "- на каждый болт с винтом найдется\n",
      "- На каждый болт с винтом найдётся\n",
      "- На каждый болт с винтом найдется\n",
      "- На каждый гвоздь с винтом найдётся\n",
      "- на каждый плохой винт найдется\n",
      "- На каждый гвоздь найдётся\n",
      "- На каждый гвоздь с винтом найдется\n",
      "---> На каждый гвоздь с винтом найдется\n"
     ]
    },
    {
     "name": "stderr",
     "output_type": "stream",
     "text": [
      " 73%|███████▎  | 581/800 [03:38<01:17,  2.84it/s]"
     ]
    },
    {
     "name": "stdout",
     "output_type": "stream",
     "text": [
      "куда ни плюнь. пидоришка помойный!\n",
      "- Куда ни плюнь\n",
      "- куда ни плюнь\n",
      "- Куда ни плюнь.\n",
      "- Куда не плюнь\n",
      "- куда ни плюнь.\n",
      "- Куда ни плюнь, плохой человек\n",
      "- Куда ни глянь\n",
      "- куда не плюнь\n",
      "- Куда ни плюнь, нехороший человек\n",
      "- Куда ни посмотри, плохой человек\n",
      "---> Куда ни посмотри, плохой человек\n"
     ]
    },
    {
     "name": "stderr",
     "output_type": "stream",
     "text": [
      " 73%|███████▎  | 582/800 [03:38<01:23,  2.60it/s]"
     ]
    },
    {
     "name": "stdout",
     "output_type": "stream",
     "text": [
      "не стыдно, а глупо лайкать всякую чушь. это игра одного лоха с ему подобными. 👎👎👎\n",
      "- Не стыдно, а глупо лайкать всякую чушь\n",
      "- не стыдно, а глупо лайкать всякую чушь\n",
      "- не стыдно, а глупо лайкать всякую чушь. это игра одного человека с ему подобными.\n",
      "- Не стыдно, а глупо лайкать всякую ерунду\n",
      "- не стыдно, а глупо лайкать всякую чушь. это игра одного человека с ему подобными\n",
      "- Не стыдно лайкать всякую чушь\n",
      "- не стыдно, а глупо лайкать всякую чушь. это игра одного человека\n",
      "- не стыдно, а глупо лайкать всякую ерунду. это игра одного человека с ему подобными.\n",
      "- Не стыдно, а глупо лайкать всякую чушь. Это игра одного человека\n",
      "- не стыдно лайкать всякую чушь. это игра одного человека с ему подобными.\n",
      "---> не стыдно, а глупо лайкать всякую ерунду. это игра одного человека с ему подобными.\n"
     ]
    },
    {
     "name": "stderr",
     "output_type": "stream",
     "text": [
      " 73%|███████▎  | 583/800 [03:38<01:15,  2.86it/s]"
     ]
    },
    {
     "name": "stdout",
     "output_type": "stream",
     "text": [
      "как поймают, на кол посадить!\n",
      "- Как поймают, наказать\n",
      "- как поймают, наказать\n",
      "- Как поймают, на кол посадить\n",
      "- как поймают, на кол посадить\n",
      "- наказать\n",
      "- Как поймают, так и накажут\n",
      "- как поймают, на кол посадить!\n",
      "- Наказать\n",
      "- На кол посадить\n",
      "- Как поймают, накажут\n",
      "---> как поймают, на кол посадить!\n"
     ]
    },
    {
     "name": "stderr",
     "output_type": "stream",
     "text": [
      " 73%|███████▎  | 584/800 [03:39<01:22,  2.60it/s]"
     ]
    },
    {
     "name": "stdout",
     "output_type": "stream",
     "text": [
      "зачем вы его выпускаете? зная тварей соседей, а сейчас он страдает из за вашей беспечности. убила бы таких соседей\n",
      "- зачем вы его выпускаете? зная соседей, а сейчас он страдает из за вашей беспечности\n",
      "- зачем вы его выпускаете? зная соседей, а сейчас он страдает из за вашей беспечности.\n",
      "- Зачем вы его выпускаете? зная соседей, а сейчас он страдает из за вашей беспечности\n",
      "- Зачем вы его выпускаете? Зная соседей, а сейчас он страдает из-за вашей беспечности\n",
      "- Зачем вы его выпускаете? Зная соседей, а сейчас он страдает из за вашей беспечности\n",
      "- зачем вы его выпускаете? зная людей соседей, а сейчас он страдает из за вашей беспечности\n",
      "- Зачем вы его выпускаете? Зная соседей, а сейчас он страдает из-за вашей беспечности.\n",
      "- Зачем вы его выпускаете? зная соседей, а сейчас он страдает из за вашей беспечности.\n",
      "- зачем вы его выпускаете? зная соседей, а сейчас он страдает из-за вашей беспечности\n",
      "- Зачем вы его выпускаете? Зная соседей, а сейчас он страдает из за вашей беспечности.\n",
      "---> зачем вы его выпускаете? зная людей соседей, а сейчас он страдает из за вашей беспечности\n"
     ]
    },
    {
     "name": "stderr",
     "output_type": "stream",
     "text": [
      " 73%|███████▎  | 585/800 [03:39<01:23,  2.58it/s]"
     ]
    },
    {
     "name": "stdout",
     "output_type": "stream",
     "text": [
      "мусора охуели напрочь, дали волю, вот и борзеют\n",
      "- Дали волю, вот и борзеют\n",
      "- мусор охуели напрочь, дали волю, вот и борзеют\n",
      "- мусор испугались напрочь, дали волю, вот и борзеют\n",
      "- Мусора совсем обнаглели\n",
      "- мусор испугались начисто, дали волю, вот и борзеют\n",
      "- Мусора совсем потеряли голову, дали волю, вот и борзеют\n",
      "- Мусора совсем обнаглели, дали волю, вот и борзеют\n",
      "- мусор испугались напрочь,дали волю, вот и борзеют\n",
      "- мусор испугались начисто,дали волю, вот и борзеют\n",
      "- Мусора потеряли голову, дали волю, вот и борзеют\n",
      "---> Мусора совсем потеряли голову, дали волю, вот и борзеют\n"
     ]
    },
    {
     "name": "stderr",
     "output_type": "stream",
     "text": [
      " 73%|███████▎  | 586/800 [03:40<01:22,  2.61it/s]"
     ]
    },
    {
     "name": "stdout",
     "output_type": "stream",
     "text": [
      "а на тебя никто не смотрит жопа обезьяны вот и бесисишься крокодил королева🦧🦧🦧🦧🦧😁😁😁😁\n",
      "- А на тебя никто не смотрит вот и бесишься\n",
      "- а на тебя никто не смотрит вот и бесишься\n",
      "- А на тебя никто не смотрит\n",
      "- а на тебя никто не смотрит вот и бесисишься\n",
      "- а на тебя никто не смотрит\n",
      "- А на тебя никто не смотрит, вот и бесишься\n",
      "- А на тебя никто не смотрит. Вот и бесишься\n",
      "- А на тебя никто не смотрит вот и бесится\n",
      "- На тебя никто не смотрит\n",
      "- А на тебя никто не смотрит вот и злишься\n",
      "---> а на тебя никто не смотрит вот и бесисишься\n"
     ]
    },
    {
     "name": "stderr",
     "output_type": "stream",
     "text": [
      " 73%|███████▎  | 587/800 [03:40<01:20,  2.63it/s]"
     ]
    },
    {
     "name": "stdout",
     "output_type": "stream",
     "text": [
      "потому что у нас такая власть и дохуе ще долбо ев, которые её поддерживает\n",
      "- Потому что у нас такая власть, которая её поддерживает\n",
      "- потому что у нас такая власть и много ев, которые её поддерживает\n",
      "- потому что у нас такая власть и ев, которые её поддерживает\n",
      "- потому что у нас такая власть и много ев, которые ее поддерживает\n",
      "- потому что у нас такая власть и много ев которые её поддерживает\n",
      "- потому что у нас такая власть и много ев которые ее поддерживает\n",
      "- Потому что у нас такая власть и много ев, которые её поддерживает\n",
      "- Потому что у нас такая власть и много людей которые её поддерживает\n",
      "- Потому что у нас такая власть и много плохих людей, которые её поддерживает\n",
      "- Потому что у нас такая власть и много людей, которые её поддерживает\n",
      "---> Потому что у нас такая власть и много плохих людей, которые её поддерживает\n"
     ]
    },
    {
     "name": "stderr",
     "output_type": "stream",
     "text": [
      " 74%|███████▎  | 588/800 [03:41<01:36,  2.19it/s]"
     ]
    },
    {
     "name": "stdout",
     "output_type": "stream",
     "text": [
      "пиздежь и провокация! батька пожертвуй этими тварями ради свободной беларуси не допусти майдан в беларусии удачи\n",
      "- батька пожертвуй этими людьми ради свободной беларуси не допусти майдан в беларусии удачи\n",
      "- провокация! батька пожертвуй этими людьми ради свободной беларуси не допусти майдан в беларусии удачи\n",
      "- батька пожертвуй ими ради свободной беларуси не допусти майдан в беларусии удачи\n",
      "- батька пожертвуй этими людьми ради свободной беларуси не допусти майдан\n",
      "- батька пожертвуй этими людьми ради свободной беларуси не допусти майдан в беларусии успеха\n",
      "- Батька пожертвуй этими людьми ради свободной беларуси не допусти майдан в беларусии удачи\n",
      "- батька пожертвуй этими людьми ради свободной беларуси не допусти майдан в беларусии успехов\n",
      "- Батька пожертвуй этими людьми ради свободной Беларуси не допусти майдан в беларусии удачи\n",
      "- провокация! батька пожертвуй этими людьми ради свободной беларуси не допусти майдан\n",
      "- Предательство и провокация! Батька пожертвуй этими людьми ради свободной беларуси не допусти майдан в беларусии удачи\n",
      "---> Предательство и провокация! Батька пожертвуй этими людьми ради свободной беларуси не допусти майдан в беларусии удачи\n"
     ]
    },
    {
     "name": "stderr",
     "output_type": "stream",
     "text": [
      " 74%|███████▎  | 589/800 [03:41<01:29,  2.36it/s]"
     ]
    },
    {
     "name": "stdout",
     "output_type": "stream",
     "text": [
      "хуйню придумали был бы какой ни буть алкаш дело другое скаска\n",
      "- Алкаш дело другое\n",
      "- был бы какой ни будь человек дело другое\n",
      "- был бы какой ни будь алкоголик дело другое\n",
      "- был бы какой ни будь алкаш дело другое\n",
      "- Был бы плохой человек, дело другое\n",
      "- Был бы какой-нибудь алкоголик дело другое\n",
      "- Был бы какой-нибудь алкоголик, дело другое\n",
      "- неправильно придумали был бы какой ни будь человек дело другое\n",
      "- Был бы какой-нибудь алкаш дело другое\n",
      "- Был бы какой-нибудь алкаш, дело другое\n",
      "---> неправильно придумали был бы какой ни будь человек дело другое\n"
     ]
    },
    {
     "name": "stderr",
     "output_type": "stream",
     "text": [
      " 74%|███████▍  | 590/800 [03:41<01:23,  2.52it/s]"
     ]
    },
    {
     "name": "stdout",
     "output_type": "stream",
     "text": [
      "ярославичи у вас завелась свинья. которая вас позорит\n",
      "- Ярославичи у вас завелась.\n",
      "- Ярославичи вас позорит\n",
      "- Ярославцы у вас завелась.\n",
      "- Ярославичи завелась.\n",
      "- Ярославичи у вас завелась плохая девушка\n",
      "- Ярославичи у вас завелась нечисть\n",
      "- Ярославичи у вас завелась, которая вас позорит\n",
      "- ярославичи у вас завелась. которая вас позорит\n",
      "- Ярославичи у вас завелась нехорошая личность\n",
      "- Ярославичи у вас завелась нехорошая девушка\n",
      "---> ярославичи у вас завелась. которая вас позорит\n"
     ]
    },
    {
     "name": "stderr",
     "output_type": "stream",
     "text": [
      " 74%|███████▍  | 591/800 [03:42<01:23,  2.51it/s]"
     ]
    },
    {
     "name": "stdout",
     "output_type": "stream",
     "text": [
      "Идите нахуй со своей свиньей обосраной (не могу его смотреть из-за того что он разговаривает как даун)\n",
      "- Не могу его смотреть\n",
      "- Не могу его смотреть из-за того что он разговаривает как даун\n",
      "- не могу его смотреть\n",
      "- Не могу смотреть его\n",
      "- не могу его смотреть из-за того что он разговаривает как даун\n",
      "- Уходите со своим человеком\n",
      "- Не могу смотреть из-за него\n",
      "- Не могу смотреть его из-за того что он разговаривает как даун\n",
      "- Не могу его смотреть из-за того, что он разговаривает как даун\n",
      "- Не могу его смотреть из-за того что он разговаривает\n",
      "---> Не могу его смотреть из-за того, что он разговаривает как даун\n"
     ]
    },
    {
     "name": "stderr",
     "output_type": "stream",
     "text": [
      " 74%|███████▍  | 592/800 [03:42<01:30,  2.31it/s]"
     ]
    },
    {
     "name": "stdout",
     "output_type": "stream",
     "text": [
      "и не стыдно. одни занимаются делом, а другие поливая грязью и россию и ее доблестную медицину. уроды.\n",
      "- и не стыдно. одни занимаются делом, а другие поливая грязью и россию и ее доблестную медицину\n",
      "- и не стыдно. одни занимаются делом, а другие поливая грязью и россию и ее доблестную медицину.\n",
      "- И не стыдно. Одни занимаются делом, а другие поливая грязью и Россию и ее доблестную медицину\n",
      "- И не стыдно. Одни занимаются делом, а другие поливая грязью и Россию и ее доблестную медицину.\n",
      "- и не стыдно. одни занимаются делом, а другие поливая грязью и россию\n",
      "- И не стыдно. Одни занимаются делом, а другие поливая грязью и россию и ее доблестную медицину\n",
      "- И не стыдно, одни занимаются делом, а другие поливая грязью и Россию и ее доблестную медицину\n",
      "- И не стыдно. одни занимаются делом, а другие поливая грязью и россию и ее доблестную медицину\n",
      "- И не стыдно. одни занимаются делом, а другие поливая грязью и Россию и ее доблестную медицину\n",
      "- И не стыдно. Одни занимаются делом, а другие грязью поливая.\n",
      "---> И не стыдно. Одни занимаются делом, а другие поливая грязью и Россию и ее доблестную медицину.\n"
     ]
    },
    {
     "name": "stderr",
     "output_type": "stream",
     "text": [
      " 74%|███████▍  | 593/800 [03:42<01:19,  2.61it/s]"
     ]
    },
    {
     "name": "stdout",
     "output_type": "stream",
     "text": [
      "дичь смешанная с хуйнёй 👎\n",
      "- Дичь смешанная\n",
      "- смесь странная\n",
      "- смешанная\n",
      "- смешная\n",
      "- смесь непонятная\n",
      "- дичь смешанная\n",
      "- Дичь смешанная с ерундой\n",
      "- смесь смешанная\n",
      "- Смесь странная\n",
      "- смешанная с ерундой\n",
      "---> Дичь смешанная с ерундой\n"
     ]
    },
    {
     "name": "stderr",
     "output_type": "stream",
     "text": [
      " 74%|███████▍  | 594/800 [03:43<01:13,  2.82it/s]"
     ]
    },
    {
     "name": "stdout",
     "output_type": "stream",
     "text": [
      "его растрелять надо а не паметник ставить виликую страну развалил гад\n",
      "- Его надо наказать\n",
      "- Его наказать надо\n",
      "- его надо наказать\n",
      "- его наказать надо\n",
      "- Его нужно наказать\n",
      "- его наказать надо а не памятник ставить\n",
      "- Его надо наказывать\n",
      "- его надо наказать а не памятник ставить\n",
      "- Его наказать надо а не памятник ставить\n",
      "- его наказать надо а не паметник ставить\n",
      "---> его наказать надо а не паметник ставить\n"
     ]
    },
    {
     "name": "stderr",
     "output_type": "stream",
     "text": [
      " 74%|███████▍  | 595/800 [03:43<01:24,  2.43it/s]"
     ]
    },
    {
     "name": "stdout",
     "output_type": "stream",
     "text": [
      "Ох ебать,не думал,что КОБовцы еще живы. Я думал,что они вымерли в конце 2000ых\n",
      "- Не думал, что КОБовцы еще живы. Я думал, что они вымерли в конце 2000ых\n",
      "- Не думал, что КОБовцы ещё живы. Я думал, что они вымерли в конце 2000ых\n",
      "- не думал,что КОБовцы еще живы. Я думал, что они вымерли в конце 2000ых\n",
      "- не думал,что КОБовцы еще живы. Я думал,что они вымерли в конце 2000ых\n",
      "- Не думал, что КОБовцы еще живы\n",
      "- Не думал, что КОБовцы еще живы. Я думал, что они умерли в конце 2000ых\n",
      "- Ох, не думал, что КОБовцы еще живы. Я думал, что они вымерли в конце 2000ых\n",
      "- Не думал, что КОБовцы еще живы. Я думал,что они вымерли в конце 2000ых\n",
      "- Не думал,что КОБовцы еще живы. Я думал,что они вымерли в конце 2000ых\n",
      "- Не думал,что КОБовцы еще живы. Я думал, что они вымерли в конце 2000ых\n",
      "---> Ох, не думал, что КОБовцы еще живы. Я думал, что они вымерли в конце 2000ых\n"
     ]
    },
    {
     "name": "stderr",
     "output_type": "stream",
     "text": [
      " 74%|███████▍  | 596/800 [03:44<01:22,  2.48it/s]"
     ]
    },
    {
     "name": "stdout",
     "output_type": "stream",
     "text": [
      "сайт одноклассники тупят по полной в последнее время, надо их на хуй послать\n",
      "- сайт одноклассники тупят по полной в последнее время, надо их наказать\n",
      "- Сайт одноклассники тупят по полной в последнее время, надо их наказать\n",
      "- сайт одноклассники тупят по полной в последнее время\n",
      "- Сайт одноклассники тупят по полной в последнее время\n",
      "- сайт одноклассники тупят по полной в последнее время надо их наказать\n",
      "- Сайт одноклассники тупят в последнее время, надо их наказать\n",
      "- Сайт одноклассники тупят в последнее время\n",
      "- сайт одноклассники тупят по полной в последнее время, надо их отправить\n",
      "- сайт одноклассники тупят по полной в последнее время, надо их послать\n",
      "- сайт одноклассники  тупят по полной в последнее время, надо их наказать\n",
      "---> сайт одноклассники  тупят по полной в последнее время, надо их наказать\n"
     ]
    },
    {
     "name": "stderr",
     "output_type": "stream",
     "text": [
      " 75%|███████▍  | 597/800 [03:44<01:13,  2.75it/s]"
     ]
    },
    {
     "name": "stdout",
     "output_type": "stream",
     "text": [
      "скотина и мразь👎 👎 👎 👎 👎 👎 👎 👎 👎\n",
      "- Он плохой человек\n",
      "- Человек и плохой человек\n",
      "- Плохой человек\n",
      "- Не хороший человек\n",
      "- И плохой человек\n",
      "- Он нехороший человек\n",
      "- и плохой человек\n",
      "- Он плохой и плохой человек\n",
      "- Он и плохой человек\n",
      "- Он плохой, он плохой\n",
      "---> Он плохой и плохой человек\n"
     ]
    },
    {
     "name": "stderr",
     "output_type": "stream",
     "text": [
      " 75%|███████▍  | 598/800 [03:44<01:12,  2.80it/s]"
     ]
    },
    {
     "name": "stdout",
     "output_type": "stream",
     "text": [
      "загубить то очень просто пидары. нашли чем хвалиться.\n",
      "- загубить то очень просто. нашли чем хвастаться\n",
      "- Найти чем хвастаться\n",
      "- загубить то очень просто, нашли чем хвастаться\n",
      "- Нашли чем хвастаться\n",
      "- загубить то очень просто. нашли чем хвастаться.\n",
      "- Загубить то очень просто, нашли чем хвастаться\n",
      "- Найдите чем хвастаться\n",
      "- Загубить то очень просто. Нашли чем хвастаться\n",
      "- Найти чем хвалиться\n",
      "- Найти то очень просто, нашли чем хвастаться\n",
      "---> загубить то очень просто. нашли чем хвастаться.\n"
     ]
    },
    {
     "name": "stderr",
     "output_type": "stream",
     "text": [
      " 75%|███████▍  | 599/800 [03:45<01:19,  2.53it/s]"
     ]
    },
    {
     "name": "stdout",
     "output_type": "stream",
     "text": [
      "задолбали уже со своими жопами!бабы уже решили,что их срака - это центр вселенной!\n",
      "- надоели уже со своими проблемами! бабы уже решили,что их срака - это центр вселенной!\n",
      "- надоели уже со своими проблемами! бабы уже решили, что их срака - это центр вселенной!\n",
      "- надоели уже со своими женами! бабы уже решили,что их срака - это центр вселенной!\n",
      "- надоели уже со своими мужьями! бабы уже решили,что их срака - это центр вселенной!\n",
      "- надоели уже со своими делами! бабы уже решили,что их срака - это центр вселенной!\n",
      "- Бабы уже решили, что их срака - это центр вселенной!\n",
      "- Бабы уже решили, что их срака - это центр вселенной\n",
      "- надоели уже со своими женами! бабы уже решили, что их срака - это центр вселенной!\n",
      "- надоели уже со своими проблемами! бабы уже решили,что их срака - это центр вселенной\n",
      "- Надоели уже со своими проблемами! бабы уже решили, что их срака - это центр вселенной!\n",
      "---> Надоели уже со своими проблемами! бабы уже решили, что их срака - это центр вселенной!\n"
     ]
    },
    {
     "name": "stderr",
     "output_type": "stream",
     "text": [
      " 75%|███████▌  | 600/800 [03:45<01:16,  2.61it/s]"
     ]
    },
    {
     "name": "stdout",
     "output_type": "stream",
     "text": [
      "куда выгнать ?! эта мразь должна отработать что должна.\n",
      "- куда выгнать\n",
      "- куда выгнать?! эта девушка должна отработать что должна.\n",
      "- куда выгнать?! эта женщина должна отработать что должна.\n",
      "- куда выгнать?! эта должна отработать что должна.\n",
      "- куда выгнать?! он должен отработать что должна.\n",
      "- куда выгнать?! эта девушка должна отработать что должна\n",
      "- куда выгнать?! он должен отработать что должна\n",
      "- куда выгнать?! эта женщина должна отработать что должна\n",
      "- куда выгнать?! должна отработать что должна.\n",
      "- куда выгнать?! эта  должна отработать что должна.\n",
      "---> куда выгнать?! эта женщина должна отработать что должна.\n"
     ]
    },
    {
     "name": "stderr",
     "output_type": "stream",
     "text": [
      " 75%|███████▌  | 601/800 [03:45<01:14,  2.67it/s]"
     ]
    },
    {
     "name": "stdout",
     "output_type": "stream",
     "text": [
      ".судить страшным судом -нза эксперементы -над живыми людьми --твари ))(hu) (hu)\n",
      "- Судить страшным судом-над живыми людьми\n",
      "- судить страшным судом -над живыми людьми\n",
      "- судить страшным судом -нза эксперименты -над живыми людьми\n",
      "- судить страшным судом-над живыми людьми\n",
      "- Судить страшным судом -над живыми людьми\n",
      "- Судить страшным судом - над живыми людьми\n",
      "- Судить страшным судом над живыми людьми\n",
      "- Судить страшным судом- над живыми людьми\n",
      "- Судить страшным судом-над живыми людьми\n",
      "- судить страшным судом -над живыми людьми -над живыми людьми\n",
      "---> судить страшным судом -над живыми людьми -над живыми людьми\n"
     ]
    },
    {
     "name": "stderr",
     "output_type": "stream",
     "text": [
      " 75%|███████▌  | 602/800 [03:46<01:06,  2.98it/s]"
     ]
    },
    {
     "name": "stdout",
     "output_type": "stream",
     "text": [
      "под суд эту пропитую мразь. пусть сука отвечает за своё преступление.\n",
      "- Пусть ответит за свои поступки\n",
      "- Пусть ответит за своё преступление\n",
      "- Пусть ответит за свои действия\n",
      "- Под суд этого человека\n",
      "- Пусть ответит за свои преступления\n",
      "- Под суд его\n",
      "- Пусть ответит за свои деяния\n",
      "- Пусть отвечает за свои поступки\n",
      "- Пусть отвечает за своё преступление\n",
      "- Пусть отвечает за свои действия\n",
      "---> Пусть отвечает за своё преступление\n"
     ]
    },
    {
     "name": "stderr",
     "output_type": "stream",
     "text": [
      " 75%|███████▌  | 603/800 [03:46<01:12,  2.73it/s]"
     ]
    },
    {
     "name": "stdout",
     "output_type": "stream",
     "text": [
      "омон не трогать куда скажут то и будет, американы пидары проебали белоруссию опять.\n",
      "- Омон не трогать куда скажут то и будет\n",
      "- омон не трогать куда скажут то и будет\n",
      "- полиция не трогать куда скажут то и будет\n",
      "- Омон не трогать куда скажут, то и будет\n",
      "- Омон не трогать куда скажут то и будет, американцы потеряли Белоруссию опять\n",
      "- Омон не трогать куда скажут то и будет, американцы потеряли белоруссию опять\n",
      "- Омон не трогать куда скажут то и будет, американцы проиграли белоруссию опять\n",
      "- Омон не трогать куда скажут то и будет, белорусы опять\n",
      "- омон не трогать куда скажут то и будет, американцы проебали белоруссию опять\n",
      "- омон не трогать куда скажут то и будет, американы проебали белоруссию опять.\n",
      "---> Омон не трогать куда скажут то и будет, американцы проиграли белоруссию опять\n"
     ]
    },
    {
     "name": "stderr",
     "output_type": "stream",
     "text": [
      " 76%|███████▌  | 604/800 [03:47<01:36,  2.02it/s]"
     ]
    },
    {
     "name": "stdout",
     "output_type": "stream",
     "text": [
      "чмо алкашеское!отвечай по закону,если он есть еще..когда божий суд настанет..посмотрим,как будешь выкручиваться...там уже не обманешь никого и адвакатов не будет!\n",
      "- отвечай по закону,если он есть еще..когда божий суд настанет..посмотрим,как будешь выкручиваться...там уже не обманешь никого и адвакатов не будет!\n",
      "- Отвечай по закону, если он есть ещё, когда божий суд настанет\n",
      "- отвечай по закону,если он есть еще..когда божий суд настанет..посмотрим,как будешь выкручиваться...там уже не обманешь никого и адвакатов не будет!\n",
      "- Отвечай по закону, если он есть ещё..когда божий суд настанет..посмотрим,как будешь выкручиваться...там уже не обманешь никого и адвакатов не будет!\n",
      "- отвечай по закону,если он есть еще..когда божий суд настанет..посмотрим,как будешь выкручиваться...там уже не обманешь никого и адвакатов не будет!\n",
      "- отвечай по закону,если он есть еще..когда божий суд настанет..посмотрим,как будешь выкручиваться\n",
      "- отвечай по закону,если он есть еще..когда божий суд настанет..посмотрим,как будешь выкручиваться...там уже не обманешь никого и адвакатов не будет\n",
      "- Отвечай по закону, если он есть ещё..когда божий суд настанет..посмотрим,как будешь выкручиваться...там уже не обманешь никого и адвакатов не будет!\n",
      "- Отвечай по закону,если он есть ещё..когда божий суд настанет..посмотрим,как будешь выкручиваться...там уже не обманешь никого и адвакатов не будет!\n",
      "- отвечай по закону,если он есть еще..когда божий суд настанет..посмотрим,как будешь выкручиваться...там уже не обманешь никого и адвактов не будет!\n",
      "---> Отвечай по закону, если он есть ещё..когда божий суд настанет..посмотрим,как будешь выкручиваться...там уже не обманешь никого и адвакатов не будет!\n"
     ]
    },
    {
     "name": "stderr",
     "output_type": "stream",
     "text": [
      " 76%|███████▌  | 605/800 [03:47<01:26,  2.26it/s]"
     ]
    },
    {
     "name": "stdout",
     "output_type": "stream",
     "text": [
      "спартачи сегодня порвут очко этим футболерам\n",
      "- спартачи сегодня порвут очко этим футболерам\n",
      "- спартачи сегодня порвут очко этим футболистам\n",
      "- спартак сегодня порвут очко этим футболерам\n",
      "- спартачи сегодня побьют их\n",
      "- спартачи сегодня побьют этим футболистам\n",
      "- спартак сегодня порвут очко этим футболистам\n",
      "- спартачи сегодня порвут очко этим футберам\n",
      "- спартачи сегодня побьют этим футболерам\n",
      "- Спартанцы сегодня порвут очко этим футболистам\n",
      "- спартачи сегодня порвут очко этим игрокам\n",
      "---> Спартанцы сегодня порвут очко этим футболистам\n"
     ]
    },
    {
     "name": "stderr",
     "output_type": "stream",
     "text": [
      " 76%|███████▌  | 606/800 [03:48<01:17,  2.49it/s]"
     ]
    },
    {
     "name": "stdout",
     "output_type": "stream",
     "text": [
      "их самих надо отдубасить чтоб не повадно было\n",
      "- их самих надо наказать чтоб не повадно было\n",
      "- их самих надо наказать\n",
      "- Их самих надо наказать\n",
      "- их самих надо наказать, чтоб не повадно было\n",
      "- их самих надо наказать чтобы не повадно было\n",
      "- их самих надо наказать чтоб неповадно было\n",
      "- их самих надо наказывать чтоб не повадно было\n",
      "- Их самих надо наказывать\n",
      "- Их самих нужно наказать\n",
      "- их самих надо наказать, чтобы не повадно было\n",
      "---> их самих надо наказать, чтобы не повадно было\n"
     ]
    },
    {
     "name": "stderr",
     "output_type": "stream",
     "text": [
      " 76%|███████▌  | 607/800 [03:48<01:08,  2.80it/s]"
     ]
    },
    {
     "name": "stdout",
     "output_type": "stream",
     "text": [
      "дэбилы,а хули вы можете только пиздеть\n",
      "- А чего вы можете только говорить\n",
      "- а чего вы можете только говорить\n",
      "- А что вы можете только говорить\n",
      "- А зачем вы можете только говорить\n",
      "- А чего вы можете только болтать\n",
      "- а чего вы можете только болтать\n",
      "- а чего вы можете только врать\n",
      "- А чего вы можете только врать\n",
      "- а зачем вы можете только говорить\n",
      "- а что вы можете только говорить\n",
      "---> а зачем вы можете только говорить\n"
     ]
    },
    {
     "name": "stderr",
     "output_type": "stream",
     "text": [
      " 76%|███████▌  | 608/800 [03:48<01:06,  2.88it/s]"
     ]
    },
    {
     "name": "stdout",
     "output_type": "stream",
     "text": [
      "Постирать его носки и подарить их черножопому любовнику?\n",
      "- Постирать его носки и подарить их любовнику\n",
      "- Постирать его носки и подарить их мужчине\n",
      "- Постирать его носки и подарить их любовнику?\n",
      "- Постирать его носки и подарить его любовнику\n",
      "- Постирать его носки и подарить его любовнику?\n",
      "- Постирать его носки и подарить их мужчине?\n",
      "- Постирать его носки и подарить их ему\n",
      "- Постирать его носки и подарить ему любовника\n",
      "- Постирать его носки и подарить ему любовника?\n",
      "- Постирать его носки и подарить им любовника?\n",
      "---> Постирать его носки и подарить ему любовника?\n"
     ]
    },
    {
     "name": "stderr",
     "output_type": "stream",
     "text": [
      " 76%|███████▌  | 609/800 [03:48<01:05,  2.90it/s]"
     ]
    },
    {
     "name": "stdout",
     "output_type": "stream",
     "text": [
      "придурки! так вколыхнете печень-мало не покажется!\n",
      "- так вколыхнете печень-мало не покажется!\n",
      "- Так вколыхнете печень-мало не покажется!\n",
      "- Так вколыхнете печень, мало не покажется\n",
      "- так вколыхнете печень-мало не покажется\n",
      "- Так вколыхнете печень-мало не покажется\n",
      "- Так вколыхнете печень, мало не покажется!\n",
      "- Так вколыхнете печень- мало не покажется!\n",
      "- Так вколыхнете печень- мало не покажется\n",
      "- Так вколыхнете печень мало не покажется\n",
      "- Так вколыхнете печень - мало не покажется\n",
      "---> Так вколыхнете печень - мало не покажется\n"
     ]
    },
    {
     "name": "stderr",
     "output_type": "stream",
     "text": [
      " 76%|███████▋  | 610/800 [03:49<01:01,  3.07it/s]"
     ]
    },
    {
     "name": "stdout",
     "output_type": "stream",
     "text": [
      "да вы заебали этим постом уже, пидарасы!!!\n",
      "- Да вы надоели этим постом\n",
      "- да вы надоели этим постом\n",
      "- Вы надоели этим постом\n",
      "- Да вы уже надоели этим постом\n",
      "- Надоели этим постом\n",
      "- да вы замучили этим постом\n",
      "- Да вы замучили этим постом\n",
      "- да вы уже надоели этим постом\n",
      "- да вы надоели этим постом уже\n",
      "- Да вы уже надоели\n",
      "---> да вы надоели этим постом уже\n"
     ]
    },
    {
     "name": "stderr",
     "output_type": "stream",
     "text": [
      " 76%|███████▋  | 611/800 [03:49<00:59,  3.19it/s]"
     ]
    },
    {
     "name": "stdout",
     "output_type": "stream",
     "text": [
      "Эй, слющяй, чо оскорбляешь срязю?\n",
      "- Что оскорбляешь\n",
      "- Эй, что оскорбляешь\n",
      "- что оскорбляешь\n",
      "- Что ты оскорбляешь\n",
      "- Что оскорбляешь?\n",
      "- Эй, человек, что оскорбляешь\n",
      "- Чего оскорбляешь\n",
      "- Чего ты оскорбляешь\n",
      "- Эй, что оскорбляешь?\n",
      "- Эй, почему оскорбляешь\n",
      "---> Эй, человек, что оскорбляешь\n"
     ]
    },
    {
     "name": "stderr",
     "output_type": "stream",
     "text": [
      " 76%|███████▋  | 612/800 [03:49<01:06,  2.81it/s]"
     ]
    },
    {
     "name": "stdout",
     "output_type": "stream",
     "text": [
      "автор,ты дебил,разжигаешь ненависть. ты мразь,не путайтукраину с нацистами,тебя козла повесить надо,недоношенный,зачатый в помойке.\n",
      "- Автор, ты не путай Украину с нацистами\n",
      "- автор,ты не путайтукраину с нацистами,тебя надо наказать\n",
      "- Автор, ты не путай Украину с нацистами, тебя надо наказать\n",
      "- Автор, ты не путай Украину с нацистами.\n",
      "- Автор, не путай Украину с нацистами\n",
      "- автор,ты не путайтукраину с нацистами\n",
      "- Автор ты не путай Украину с нацистами\n",
      "- Автор, ты не путай Украину и нацистов\n",
      "- Автор, ты не путайтукраину с нацистами, тебя надо наказать\n",
      "- автор,ты не путайтукраину с нацистами,тебя повесить надо\n",
      "---> Автор, ты не путайтукраину с нацистами, тебя надо наказать\n"
     ]
    },
    {
     "name": "stderr",
     "output_type": "stream",
     "text": [
      " 77%|███████▋  | 613/800 [03:50<01:05,  2.85it/s]"
     ]
    },
    {
     "name": "stdout",
     "output_type": "stream",
     "text": [
      "в чем новинка? в пластиковом убогом обвесе? бездари....\n",
      "- в чем новинка? в пластиковом обвесе?\n",
      "- В чем новинка? В пластиковом обвесе?\n",
      "- В чем новинка? в пластиковом обвесе?\n",
      "- В чём новинка? В пластиковом обвесе?\n",
      "- в чем новинка? в пластиковом обвесе\n",
      "- В чём новинка? в пластиковом обвесе?\n",
      "- в чем новинка?в пластиковом обвесе?\n",
      "- в чём новинка? в пластиковом обвесе?\n",
      "- В чем новинка? В пластиковом обвесе\n",
      "- В чем новинка?в пластиковом обвесе?\n",
      "---> в чём новинка? в пластиковом обвесе?\n"
     ]
    },
    {
     "name": "stderr",
     "output_type": "stream",
     "text": [
      " 77%|███████▋  | 614/800 [03:50<01:06,  2.79it/s]"
     ]
    },
    {
     "name": "stdout",
     "output_type": "stream",
     "text": [
      "что нужно сделать, чтобы тарифы не повышались, а понижались? - пристрелит голобородько.\n",
      "- Что нужно сделать, чтобы тарифы не повышались, а понижались?\n",
      "- Что нужно сделать, чтобы тарифы не повышались?\n",
      "- Что нужно сделать, чтобы тарифы не повышались\n",
      "- что нужно сделать, чтобы тарифы не повышались, а понижались?\n",
      "- Что нужно сделать, чтобы тарифы не повышались, а понижались\n",
      "- Что нужно сделать чтобы тарифы не повышались, а понижались?\n",
      "- Что нужно сделать, чтобы тарифы не повышались, а снижались?\n",
      "- Что нужно сделать,чтобы тарифы не повышались,а понижались?\n",
      "- Что нужно сделать чтобы тарифы не повышались?\n",
      "- Что нужно сделать, чтобы тарифы не повышались,а понижались?\n",
      "---> что нужно сделать, чтобы тарифы не повышались, а понижались?\n"
     ]
    },
    {
     "name": "stderr",
     "output_type": "stream",
     "text": [
      " 77%|███████▋  | 615/800 [03:51<01:05,  2.85it/s]"
     ]
    },
    {
     "name": "stdout",
     "output_type": "stream",
     "text": [
      "Да ну, зубастая больно, хай дальше овощи жрет\n",
      "- Да ну, зубастая больно, хай дальше овощи жрет\n",
      "- Да ну, зубастая больно, хай дальше овощи жрёт\n",
      "- Да ну, зубастая больно, хай дальше овощи ест\n",
      "- Да ну, зубыстая больно, хай дальше овощи жрет\n",
      "- Да ну, зубыстая больно, хай дальше овощи жрёт\n",
      "- Да ну, зубыстая больно, хай дальше овощи ест\n",
      "- да ну, зубастая больно, хай дальше овощи жрет\n",
      "- Хай дальше овощи ест\n",
      "- Да ну, больно, хай дальше овощи жрёт\n",
      "- Хай дальше овощи жрёт\n",
      "---> да ну, зубастая больно, хай дальше овощи жрет\n"
     ]
    },
    {
     "name": "stderr",
     "output_type": "stream",
     "text": [
      " 77%|███████▋  | 616/800 [03:51<01:08,  2.71it/s]"
     ]
    },
    {
     "name": "stdout",
     "output_type": "stream",
     "text": [
      "а этот дебил гена фома с жениной заметки,его никак закрыть нельзя?\n",
      "- а этот человек гена фома с Жениной заметки,его никак закрыть нельзя?\n",
      "- его никак закрыть нельзя?\n",
      "- а этот человек гена фома с жениной заметки,его никак закрыть нельзя?\n",
      "- а этот человек гена фома с его заметки,его никак закрыть нельзя?\n",
      "- А этот человек гена фома с Жениной заметки,его никак закрыть нельзя?\n",
      "- А этот человек гена фома с Жениной заметки, его никак закрыть нельзя?\n",
      "- а этот человек гена фома с Жениной заметки,его никак закрыть нельзя\n",
      "- А этот человек Гена фома с Жениной заметки, его никак закрыть нельзя?\n",
      "- А этот человек Геннадий фома с Жениной заметки, его никак закрыть нельзя?\n",
      "- А этот человек Гена фома с Жениной заметки,его никак закрыть нельзя?\n",
      "---> А этот человек Геннадий фома с Жениной заметки, его никак закрыть нельзя?\n"
     ]
    },
    {
     "name": "stderr",
     "output_type": "stream",
     "text": [
      " 77%|███████▋  | 617/800 [03:51<01:03,  2.88it/s]"
     ]
    },
    {
     "name": "stdout",
     "output_type": "stream",
     "text": [
      "ну теперь пошел далеко и навсегда,дебилов блокирую\n",
      "- ну теперь пошел далеко и навсегда\n",
      "- Ну теперь пошёл далеко и навсегда\n",
      "- Ну теперь пошел далеко и навсегда\n",
      "- Ну теперь пошел далеко и навсегда, блокирую\n",
      "- Ну теперь пошёл далеко и навсегда, блокирую\n",
      "- ну теперь пошел далеко и навсегда, блокирую\n",
      "- ну теперь пошёл далеко и навсегда\n",
      "- Ну теперь пошёл далеко и навсегда.\n",
      "- Ну теперь пошел далеко и навсегда.\n",
      "- Теперь пошёл далеко и навсегда\n",
      "---> ну теперь пошел далеко и навсегда, блокирую\n"
     ]
    },
    {
     "name": "stderr",
     "output_type": "stream",
     "text": [
      " 77%|███████▋  | 618/800 [03:52<01:00,  3.00it/s]"
     ]
    },
    {
     "name": "stdout",
     "output_type": "stream",
     "text": [
      "пидор ты дырявый иди на хуй и не позорь проффесию.\n",
      "- Не позорь проффесию\n",
      "- не позорь проффесию\n",
      "- Не позорь профессию\n",
      "- не позорь профессию\n",
      "- не позорь проффесию.\n",
      "- Не позорь профессию\n",
      "- Не позорь проффесию.\n",
      "- Не позорьте проффесию\n",
      "- Уходи и не позорь проффесию\n",
      "- не позорь профессию\n",
      "---> Уходи и не позорь проффесию\n"
     ]
    },
    {
     "name": "stderr",
     "output_type": "stream",
     "text": [
      " 77%|███████▋  | 619/800 [03:52<01:00,  2.99it/s]"
     ]
    },
    {
     "name": "stdout",
     "output_type": "stream",
     "text": [
      "чё за хуйня? чё за чёрт сделал это видео?\n",
      "- Что за ерунда? Что за чёрт сделал это видео?\n",
      "- Что за ерунда? Что за чёрт сделал это видео\n",
      "- Что за фигня? Что за чёрт сделал это видео?\n",
      "- Что за фигня? Что за чёрт сделал это видео\n",
      "- что за ерунда? что за чёрт сделал это видео?\n",
      "- Что за ерунда? Что за черт сделал это видео?\n",
      "- Что за ерунда? Что за черт сделал это видео\n",
      "- что за ерунда? что за чёрт сделал это видео\n",
      "- что за ерунда? чё за чёрт сделал это видео?\n",
      "- что за фигня? что за чёрт сделал это видео?\n",
      "---> Что за ерунда? Что за черт сделал это видео?\n"
     ]
    },
    {
     "name": "stderr",
     "output_type": "stream",
     "text": [
      " 78%|███████▊  | 620/800 [03:52<00:55,  3.24it/s]"
     ]
    },
    {
     "name": "stdout",
     "output_type": "stream",
     "text": [
      "как таких пидорасов земля носит.\n",
      "- Как таких людей земля носит\n",
      "- как таких людей земля носит\n",
      "- Как их земля носит\n",
      "- Каких людей земля носит\n",
      "- таких людей земля носит\n",
      "- как их земля носит\n",
      "- Как таких земля носит\n",
      "- Таких людей земля носит\n",
      "- как таких людей земля носит.\n",
      "- Как таких людей земля носит.\n",
      "---> Как таких людей земля носит.\n"
     ]
    },
    {
     "name": "stderr",
     "output_type": "stream",
     "text": [
      " 78%|███████▊  | 621/800 [03:53<01:05,  2.74it/s]"
     ]
    },
    {
     "name": "stdout",
     "output_type": "stream",
     "text": [
      "пиздеж. бабка бы удавилась за свои кровные. вброс расчитан на тупое быдло.\n",
      "- бабка бы удавилась за свои кровные. вброс расчитан\n",
      "- Бабка бы удавилась за свои кровные\n",
      "- бабка бы удавилась за свои кровные\n",
      "- Бабка бы умерла за свои кровные\n",
      "- бабка бы удавилась за свои кровные. вброс расчитан на глупое быдло\n",
      "- бабка бы удавилась за свои кровные. вброс расчитан на тупое быдло\n",
      "- Бабка бы удавилась за свои кровные. вброс расчитан\n",
      "- Бабка бы удавилась за свои кровные.вброс расчитан\n",
      "- Бабка бы удавилась за свои кровные. Вброс рассчитан на глупое быдло\n",
      "- бабка бы удавилась за свои кровные. вброс расчитан на глупое быдло.\n",
      "---> бабка бы удавилась за свои кровные. вброс расчитан на глупое быдло.\n"
     ]
    },
    {
     "name": "stderr",
     "output_type": "stream",
     "text": [
      " 78%|███████▊  | 622/800 [03:53<01:01,  2.91it/s]"
     ]
    },
    {
     "name": "stdout",
     "output_type": "stream",
     "text": [
      "даже эта жидовская морда и то понял что народ востанет !!!!!\n",
      "- даже он понял что народ восстанет\n",
      "- Даже он понял что народ восстанет\n",
      "- даже он понял что народ востанет\n",
      "- даже он понял что народ встанет\n",
      "- Даже он понял, что народ восстанет\n",
      "- Даже он понял что народ встанет\n",
      "- даже он понял!!!!!\n",
      "- Даже он понял, что народ встанет\n",
      "- Даже он это понял\n",
      "- даже он понял что народ востан!!!!!\n",
      "---> даже он понял что народ востан!!!!!\n"
     ]
    },
    {
     "name": "stderr",
     "output_type": "stream",
     "text": [
      " 78%|███████▊  | 623/800 [03:53<01:02,  2.84it/s]"
     ]
    },
    {
     "name": "stdout",
     "output_type": "stream",
     "text": [
      "предлагаю этих чиновников и рубщиков леса отстреливать на месте, хорош уже россию разбазаривать!\n",
      "- Предлагаю этих чиновников и рубщиков леса отстреливать на месте\n",
      "- Предлагаю этих чиновников и рубщиков леса наказывать на месте\n",
      "- Предлагаю их наказать\n",
      "- Предлагаю чиновников и рубщиков леса отстреливать на месте\n",
      "- Предлагаю этих чиновников и рубщиков леса наказать на месте\n",
      "- Предлагаю чиновников и рубщиков леса наказывать на месте\n",
      "- предлагаю этих чиновников и рубщиков леса отстреливать на месте\n",
      "- Предлагаю их наказывать на месте\n",
      "- Предлагаю этих чиновников и рубщиков леса наказать\n",
      "- Предлагаю чиновников и рубщиков леса наказать на месте\n",
      "---> предлагаю этих чиновников и рубщиков леса отстреливать на месте\n"
     ]
    },
    {
     "name": "stderr",
     "output_type": "stream",
     "text": [
      " 78%|███████▊  | 624/800 [03:54<01:09,  2.55it/s]"
     ]
    },
    {
     "name": "stdout",
     "output_type": "stream",
     "text": [
      "киселёву тоже отсоси и заодно соловьёву !!!😁😁😁😁😁\n",
      "- Киселёва тоже накажи\n",
      "- киселёву тоже отсоси и заодно соловьёву!!!😁😁😁😁\n",
      "- Киселева тоже накажи\n",
      "- Киселеву тоже отстань\n",
      "- киселёву тоже отсоси\n",
      "- Киселеву тоже отомсти\n",
      "- Киселеву тоже отстань\n",
      "- Киселеву тоже отомсти\n",
      "- киселёву тоже отсоси и заодно соловьёву\n",
      "- Киселеву тоже дай отпор\n",
      "---> киселёву тоже отсоси и заодно соловьёву!!!😁😁😁😁\n"
     ]
    },
    {
     "name": "stderr",
     "output_type": "stream",
     "text": [
      " 78%|███████▊  | 625/800 [03:54<01:12,  2.42it/s]"
     ]
    },
    {
     "name": "stdout",
     "output_type": "stream",
     "text": [
      "Пиздец. Либо они окончательно ебанулись. Либо это будет главной соцсетью Чебурнета.\n",
      "- Или они окончательно сошли с ума. Либо это будет главной соцсетью Чебурнета\n",
      "- либо они окончательно сошли с ума. Либо это будет главной соцсетью Чебурнета\n",
      "- Плохо. Либо они окончательно сошли с ума. Либо это будет главной соцсетью Чебурнета\n",
      "- Пиздец. Либо они окончательно сошли с ума. Либо это будет главной соцсетью Чебурнета\n",
      "- Ужас. Либо они окончательно сошли с ума. Либо это будет главной соцсетью Чебурнета\n",
      "- Или они окончательно сошли с ума. Либо это будет главной соцсетью Чебурнета.\n",
      "- Или они окончательно сошли с ума\n",
      "- Они окончательно сошли с ума. Либо это будет главной соцсетью Чебурнета\n",
      "- либо они окончательно сошли с ума. Либо это будет главной соцсетью Чебурнета.\n",
      "- Либо они окончательно сошли с ума. Либо это будет главной соцсетью Чебурнета\n",
      "---> Пиздец. Либо они окончательно сошли с ума. Либо это будет главной соцсетью Чебурнета\n"
     ]
    },
    {
     "name": "stderr",
     "output_type": "stream",
     "text": [
      " 78%|███████▊  | 626/800 [03:55<01:10,  2.47it/s]"
     ]
    },
    {
     "name": "stdout",
     "output_type": "stream",
     "text": [
      "миша гнида должен сука сидеть в тюрьме и долго. ну дома сидеть приятней. под домашним арестом\n",
      "- Миша должен сидеть в тюрьме и долго. Ну дома сидеть приятней\n",
      "- Миша должен сидеть в тюрьме и долго. Дома сидеть приятней\n",
      "- Миша должен сидеть в тюрьме и долго, ну дома сидеть приятней\n",
      "- Миша должен сидеть в тюрьме и долго, дома сидеть приятней\n",
      "- Миша должен сидеть в тюрьме и долго. Дома сидеть приятнее\n",
      "- Миша должен сидеть в тюрьме и долго. Ну дома сидеть приятнее\n",
      "- Миша должен сидеть в тюрьме и долго, дома сидеть приятнее\n",
      "- Миша должен сидеть в тюрьме и долго. Ну дома сидеть приятней.\n",
      "- Миша должен сидеть в тюрьме и долго. Дома сидеть приятней.\n",
      "- миша должен сидеть в тюрьме и долго. ну дома сидеть приятней\n",
      "---> Миша должен сидеть в тюрьме и долго. Ну дома сидеть приятней.\n"
     ]
    },
    {
     "name": "stderr",
     "output_type": "stream",
     "text": [
      " 78%|███████▊  | 627/800 [03:55<01:06,  2.60it/s]"
     ]
    },
    {
     "name": "stdout",
     "output_type": "stream",
     "text": [
      "это тока для добоебов которые верят в эту чушь интернетувскую\n",
      "- Это только для людей которые верят в интернет\n",
      "- это тока для людей которые верят в эту чушь интернетувскую\n",
      "- Это только для тех кто верит в интернет\n",
      "- Это только для людей, которые верят в интернет\n",
      "- Это только для тех, кто верит в интернет\n",
      "- Это только для людей которые не верят в интернет\n",
      "- это только для людей которые верят в эту чушь интернетувскую\n",
      "- Это только для таких людей, которые верят в интернет\n",
      "- Это только для тех людей которые верят в интернет\n",
      "- Это только для людей которые верят в эту чушь.\n",
      "---> это только для людей которые верят в эту чушь интернетувскую\n"
     ]
    },
    {
     "name": "stderr",
     "output_type": "stream",
     "text": [
      " 78%|███████▊  | 628/800 [03:55<01:03,  2.71it/s]"
     ]
    },
    {
     "name": "stdout",
     "output_type": "stream",
     "text": [
      "от этого дурака что угодно можно ожидать хотя навряд ли..\n",
      "- от него что угодно можно ожидать хотя навряд ли..\n",
      "- от этого человека что угодно можно ожидать хотя навряд ли..\n",
      "- От этого человека что угодно можно ожидать хотя навряд ли\n",
      "- от него что угодно можно ожидать хотя навряд ли\n",
      "- От него что угодно можно ожидать хотя навряд ли\n",
      "- от этого человека что угодно можно ожидать хотя навряд ли\n",
      "- От этого человека что угодно можно ожидать хотя навряд ли..\n",
      "- От него что угодно можно ожидать\n",
      "- От него что угодно можно ожидать хотя навряд ли..\n",
      "- от него можно ожидать хотя навряд ли..\n",
      "---> От этого человека что угодно можно ожидать хотя навряд ли..\n"
     ]
    },
    {
     "name": "stderr",
     "output_type": "stream",
     "text": [
      " 79%|███████▊  | 629/800 [03:56<01:05,  2.62it/s]"
     ]
    },
    {
     "name": "stdout",
     "output_type": "stream",
     "text": [
      "зато у тебя очко на распашку пидормот, что ты забыло в этой группе хуйло черножопое?\n",
      "- зато у тебя очко на распашку, что ты забыла в этой группе\n",
      "- зато у тебя очко на распашку\n",
      "- Зато у тебя очко на распашку, что ты забыла в этой группе\n",
      "- зато у тебя очко на распашку, что ты забыло в этой группе\n",
      "- зато у тебя очко на распашку, что ты забыла в этой группе?\n",
      "- Зато у тебя очко на распашку, что ты забыла в этой группе?\n",
      "- Зато у тебя очко открыто, что ты забыла в этой группе\n",
      "- Зато у тебя очко на распашку\n",
      "- зато у тебя очко на распашку, что ты забыл в этой группе\n",
      "- зато у тебя очко на распашку, что ты забыла\n",
      "---> Зато у тебя очко на распашку, что ты забыла в этой группе?\n"
     ]
    },
    {
     "name": "stderr",
     "output_type": "stream",
     "text": [
      " 79%|███████▉  | 630/800 [03:56<01:00,  2.82it/s]"
     ]
    },
    {
     "name": "stdout",
     "output_type": "stream",
     "text": [
      "кстати ты тоже пиздабол еще тот. язык враг твой.\n",
      "- язык враг твой\n",
      "- язык твой враг\n",
      "- кстати ты еще тот. язык враг твой\n",
      "- язык враг твой.\n",
      "- кстати ты ещё тот. язык враг твой\n",
      "- кстати ты еще тот язык враг твой\n",
      "- К стати ты ещё тот язык враг твой\n",
      "- Кстати ты ещё тот язык враг твой\n",
      "- К стати ты ещё тот. Язык враг твой\n",
      "- Кстати ты ещё тот. Язык враг твой\n",
      "---> К стати ты ещё тот. Язык враг твой\n"
     ]
    },
    {
     "name": "stderr",
     "output_type": "stream",
     "text": [
      " 79%|███████▉  | 631/800 [03:56<00:54,  3.11it/s]"
     ]
    },
    {
     "name": "stdout",
     "output_type": "stream",
     "text": [
      "это же пиздец какой то.\n",
      "- Это ужасно\n",
      "- Это же ужасно\n",
      "- Это же ужас какой-то\n",
      "- Это же какой-то кошмар\n",
      "- Это ужас какой-то\n",
      "- Это же кошмар какой-то\n",
      "- Это просто ужас\n",
      "- Это же какой-то ужас\n",
      "- Это же ужас какой то\n",
      "- Это ужас какой то\n",
      "---> Это же кошмар какой-то\n"
     ]
    },
    {
     "name": "stderr",
     "output_type": "stream",
     "text": [
      " 79%|███████▉  | 632/800 [03:57<00:52,  3.23it/s]"
     ]
    },
    {
     "name": "stdout",
     "output_type": "stream",
     "text": [
      "на кол,на кол всех посадить:-d﻿\n",
      "- На кол\n",
      "- на кол\n",
      "- Наказать\n",
      "- Наказать всех\n",
      "- на кол,на кол всех посадить\n",
      "- В тюрьму\n",
      "- на кол,на кол всех наказать\n",
      "- На кол всех посадить\n",
      "- Надо наказать\n",
      "- На кол, на кол всех посадить\n",
      "---> На кол, на кол всех посадить\n"
     ]
    },
    {
     "name": "stderr",
     "output_type": "stream",
     "text": [
      " 79%|███████▉  | 633/800 [03:57<00:49,  3.35it/s]"
     ]
    },
    {
     "name": "stdout",
     "output_type": "stream",
     "text": [
      "да пора всех этих ублюдков на кол👎👎👎\n",
      "- да пора их наказать\n",
      "- Да пора их наказать\n",
      "- Да пора всех их наказать\n",
      "- да пора всех их наказать\n",
      "- да пора всех этих людей наказать\n",
      "- Да пора их всех наказать\n",
      "- да пора их всех наказать\n",
      "- да пора их всех на кол\n",
      "- да пора всех этих людей на кол\n",
      "- Да пора всех этих людей наказать\n",
      "---> Да пора всех этих людей наказать\n"
     ]
    },
    {
     "name": "stderr",
     "output_type": "stream",
     "text": [
      " 79%|███████▉  | 634/800 [03:57<00:50,  3.27it/s]"
     ]
    },
    {
     "name": "stdout",
     "output_type": "stream",
     "text": [
      "трус, подлец и негодяй, а так красиво начинал....\n",
      "- А так красиво начинал\n",
      "- так красиво начинал\n",
      "- Так красиво начинал\n",
      "- а так красиво начинал\n",
      "- Так красиво начал\n",
      "- а так красиво начинал....\n",
      "- А так красиво начал\n",
      "- так красиво начинал....\n",
      "- Плохой человек, а так красиво начинал\n",
      "- а так красиво начинал...\n",
      "---> Плохой человек, а так красиво начинал\n"
     ]
    },
    {
     "name": "stderr",
     "output_type": "stream",
     "text": [
      " 79%|███████▉  | 635/800 [03:57<00:49,  3.35it/s]"
     ]
    },
    {
     "name": "stdout",
     "output_type": "stream",
     "text": [
      "не группа , а х... знает что. одно пиздабольство\n",
      "- не группа, а ничего не знает\n",
      "- не группа, а не знает что\n",
      "- Не группа, а ерунда\n",
      "- Не группа, а ничего не знает\n",
      "- Не группа, а ерунда\n",
      "- не группа, а все знает\n",
      "- не группа, а не знает что.\n",
      "- Не группа, а глупости говорит\n",
      "- Не группа, а не знает что\n",
      "- не группа, а не знаю что\n",
      "---> Не группа, а глупости говорит\n"
     ]
    },
    {
     "name": "stderr",
     "output_type": "stream",
     "text": [
      " 80%|███████▉  | 636/800 [03:58<00:48,  3.41it/s]"
     ]
    },
    {
     "name": "stdout",
     "output_type": "stream",
     "text": [
      "да и этот пиндос живёт нанаши деньги.....\n",
      "- Да и этот американец живёт на наши деньги\n",
      "- Да и этот человек живёт на наши деньги\n",
      "- Да и этот человек живет на наши деньги\n",
      "- Да и он живет на наши деньги\n",
      "- Да и он живёт на наши деньги\n",
      "- Да и этот американец живет на наши деньги\n",
      "- да и этот человек живёт нанаши деньги\n",
      "- да и этот человек живёт на наши деньги\n",
      "- да и этот американец живёт на наши деньги\n",
      "- да и этот американец живёт нанаши деньги\n",
      "---> да и этот американец живёт на наши деньги\n"
     ]
    },
    {
     "name": "stderr",
     "output_type": "stream",
     "text": [
      " 80%|███████▉  | 637/800 [03:58<00:50,  3.25it/s]"
     ]
    },
    {
     "name": "stdout",
     "output_type": "stream",
     "text": [
      "он убийца, в его поганую глотку никто силой не наливал.\n",
      "- он убийца, в его горло никто силой не наливал\n",
      "- он убийца, в его горло никто силой не наливал.\n",
      "- Он убийца, в его горло никто силой не наливал\n",
      "- он убийца, в его голову никто силой не наливал\n",
      "- он убийца, в его рот никто силой не наливал\n",
      "- он убийца, в его голову никто силой не наливал.\n",
      "- Он убийца, в его рот никто силой не наливал\n",
      "- он убийца, в его рот никто силой не наливал.\n",
      "- Он убийца, в его голову никто силой не наливал\n",
      "- он убийца, в его глотку никто силой не наливал\n",
      "---> он убийца, в его голову никто силой не наливал.\n"
     ]
    },
    {
     "name": "stderr",
     "output_type": "stream",
     "text": [
      " 80%|███████▉  | 638/800 [03:58<00:55,  2.94it/s]"
     ]
    },
    {
     "name": "stdout",
     "output_type": "stream",
     "text": [
      "началось блядь пошёл на куй.помоги тварь больным детям а не собирай смсками\n",
      "- началось помоги больным детям а не собирай смсками\n",
      "- началось помог больным детям а не собирай смсками\n",
      "- началось, помоги больным детям а не собирай смсками\n",
      "- началось пошёл на куй.помоги больным детям а не собирай смсками\n",
      "- Началось, помоги больным детям а не собирай смсками\n",
      "- началось помощь больным детям а не собирай смсками\n",
      "- началось. помоги больным детям а не собирай смсками\n",
      "- Началось, помоги больным детям\n",
      "- Началось, помоги больным детям, а не собирай смсками\n",
      "- началось помог больным детям а не собирал смсками\n",
      "---> началось пошёл на куй.помоги больным детям а не собирай смсками\n"
     ]
    },
    {
     "name": "stderr",
     "output_type": "stream",
     "text": [
      " 80%|███████▉  | 639/800 [03:59<00:56,  2.84it/s]"
     ]
    },
    {
     "name": "stdout",
     "output_type": "stream",
     "text": [
      "Впадлу готовить, кашки кастрюлю сварил, на неделю хватит)\n",
      "- Вредно готовить, кашки кастрюлю сварил, на неделю хватит\n",
      "- Времени готовить нет\n",
      "- Не хочется готовить, кашки кастрюлю сварил, на неделю хватит\n",
      "- Вкусно готовить, кашки кастрюлю сварил, на неделю хватит\n",
      "- Зачем готовить, кашки кастрюлю сварил, на неделю хватит\n",
      "- вредно готовить, кашки кастрюлю сварил, на неделю хватит\n",
      "- Вредно готовить, кашу кастрюлю сварил, на неделю хватит\n",
      "- Вредно готовить, кашки кастрюлю сварил, на неделю хватит)\n",
      "- Вредно готовить, каши кастрюлю сварил, на неделю хватит\n",
      "- вредно готовить, кашки кастрюлю сварил, на неделю хватит)\n",
      "---> Не хочется готовить, кашки кастрюлю сварил, на неделю хватит\n"
     ]
    },
    {
     "name": "stderr",
     "output_type": "stream",
     "text": [
      " 80%|████████  | 640/800 [03:59<01:12,  2.22it/s]"
     ]
    },
    {
     "name": "stdout",
     "output_type": "stream",
     "text": [
      "однотипное-говно-!!!!!!!-неужели блядь в 21-веке-не умет бля снимать кино-ахуеть-такая параша-я в шоке-блядь реальное говно-!!!!!!!!!!!!\n",
      "- неужели в 21 веке не умеют снимать кино\n",
      "- неужели в 21 веке в 21 веке не умеют снимать кино\n",
      "- неужели в 21 веке не умеют снимать кино?\n",
      "- Не умею снимать кино\n",
      "- неужели в 21 веке не умеет снимать кино\n",
      "- неужели в 21-веке-не умеет снимать кино\n",
      "- неужели в 21-веке не умеет снимать кино\n",
      "- однотипное-!!!!!!!-неужели в 21-веке-не умет снимать кино-ахуеть-такая параша-я в шоке\n",
      "- неужели в 21-веке-не умет снимать кино\n",
      "- неужели в 21-веке не умеют снимать кино\n",
      "---> однотипное-!!!!!!!-неужели в 21-веке-не умет снимать кино-ахуеть-такая параша-я в шоке\n"
     ]
    },
    {
     "name": "stderr",
     "output_type": "stream",
     "text": [
      " 80%|████████  | 641/800 [04:00<01:11,  2.21it/s]"
     ]
    },
    {
     "name": "stdout",
     "output_type": "stream",
     "text": [
      "Я уже год коплю на L200, а долбоебы рыбаки их топят как нехуй нахуй\n",
      "- Я уже год коплю на L200, а рыбаки их топят как не надо\n",
      "- Я уже год коплю на L200, а рыбаки их топят\n",
      "- Я уже год коплю на L200\n",
      "- Я уже год коплю на L200, а люди рыбаки их топят как не надо\n",
      "- Я уже год коплю на L200, а они рыбаки их топят\n",
      "- Я уже год коплю на L200,а рыбаки их топят как не надо\n",
      "- Я уже год коплю на L200, а они рыбаки их топят как не надо\n",
      "- Я уже год коплю на L200, а рыбаки их топят как не нужно\n",
      "- Я уже год коплю на L200, а рыбаки их топят как-то\n",
      "- Я уже год коплю на L200, а рыбаки их топят как попало\n",
      "---> Я уже год коплю на L200, а люди рыбаки их топят как не надо\n"
     ]
    },
    {
     "name": "stderr",
     "output_type": "stream",
     "text": [
      " 80%|████████  | 642/800 [04:00<01:01,  2.58it/s]"
     ]
    },
    {
     "name": "stdout",
     "output_type": "stream",
     "text": [
      "в августе, долбоебы отмороженые ,всех собрали.\n",
      "- В августе всех собрали\n",
      "- в августе всех собрали\n",
      "- В августе собрали всех\n",
      "- в августе, всех собрали\n",
      "- в августе все собрали\n",
      "- В августе все собрали\n",
      "- В августе, всех собрали\n",
      "- В августе все собрались\n",
      "- в августе, все собрали\n",
      "- в августе, все всех собрали\n",
      "---> в августе, все всех собрали\n"
     ]
    },
    {
     "name": "stderr",
     "output_type": "stream",
     "text": [
      " 80%|████████  | 643/800 [04:01<01:03,  2.49it/s]"
     ]
    },
    {
     "name": "stdout",
     "output_type": "stream",
     "text": [
      "сейчас эту мразь будем содержать. они не работаю, семь тюрем сейчас с пожизненым проживанием.\n",
      "- Сейчас их будем содержать. Они не работают, семь тюрем сейчас с пожизненным проживанием\n",
      "- Сейчас его будем содержать. Они не работают, семь тюрем сейчас с пожизненным проживанием\n",
      "- Сейчас их будем содержать, они не работают, семь тюрем сейчас с пожизненным проживанием\n",
      "- сейчас его будем содержать. они не работают, семь тюрем сейчас с пожизненным проживанием\n",
      "- Сейчас его будем содержать, они не работают, семь тюрем сейчас с пожизненным проживанием\n",
      "- сейчас их будем содержать. они не работают, семь тюрем сейчас с пожизненным проживанием\n",
      "- Сейчас будем содержать. Они не работают, семь тюрем сейчас с пожизненным проживанием\n",
      "- Сейчас их будем содержать. Они не работают, семь тюрем сейчас с пожизненным проживанием.\n",
      "- Сейчас будем содержать, они не работают, семь тюрем сейчас с пожизненным проживанием\n",
      "- сейчас его будем содержать. они не работают, семь тюрем сейчас с пожизненным проживанием.\n",
      "---> сейчас его будем содержать. они не работают, семь тюрем сейчас с пожизненным проживанием.\n"
     ]
    },
    {
     "name": "stderr",
     "output_type": "stream",
     "text": [
      " 80%|████████  | 644/800 [04:01<01:02,  2.51it/s]"
     ]
    },
    {
     "name": "stdout",
     "output_type": "stream",
     "text": [
      "блядь-буду уважуха,хоть один высказал,что из себя представляет эта сучья власть.\n",
      "- буду уважуха,хоть один высказал,что из себя представляет эта власть\n",
      "- Буду уважуха, хоть один высказал, что из себя представляет эта власть\n",
      "- Буду уважуха, хоть один высказался\n",
      "- Буду уважуха,хоть один высказал,что из себя представляет эта власть\n",
      "- Буду уважуха, хоть один высказался, что из себя представляет эта власть\n",
      "- буду уважуха,хоть один высказался,что из себя представляет эта власть\n",
      "- Буду уважуха,хоть один высказался\n",
      "- буду уважуха,хоть один высказался\n",
      "- Буду уважуха,хоть один высказался,что из себя представляет эта власть\n",
      "- буду уважуха, хоть один высказал, что из себя представляет эта власть\n",
      "---> Буду уважуха, хоть один высказался, что из себя представляет эта власть\n"
     ]
    },
    {
     "name": "stderr",
     "output_type": "stream",
     "text": [
      " 81%|████████  | 645/800 [04:01<01:01,  2.50it/s]"
     ]
    },
    {
     "name": "stdout",
     "output_type": "stream",
     "text": [
      "долбан! а как кпрф и остальные без ер! просрали ссср?\n",
      "- а как кпрф и остальные без ер! просрали ссср?\n",
      "- а как кпрф и остальные без ер? просрали ссср?\n",
      "- а как кпрф и остальные без ер! проиграли ссср?\n",
      "- А как кпрф и остальные без коммунистов?\n",
      "- А как кпрф и остальные без коммунистов\n",
      "- а как кпрф и остальные без ер! просрали ссср\n",
      "- как кпрф и остальные без ер! просрали ссср?\n",
      "- а как кпрф и остальные без ер\n",
      "- а как кпрф и остальные без ер? просрали ссср\n",
      "- а как кпрф и остальные без ер! проиграли ссср\n",
      "---> а как кпрф и остальные без ер! проиграли ссср?\n"
     ]
    },
    {
     "name": "stderr",
     "output_type": "stream",
     "text": [
      " 81%|████████  | 646/800 [04:02<00:58,  2.65it/s]"
     ]
    },
    {
     "name": "stdout",
     "output_type": "stream",
     "text": [
      "какими словами? долбоебы! кто вообще что-то знает?\n",
      "- Кто вообще что-то знает\n",
      "- Какими словами? Кто вообще что-то знает\n",
      "- Какими словами? Кто вообще что-то знает?\n",
      "- какими словами? кто вообще что-то знает?\n",
      "- Кто вообще что-то знает?\n",
      "- какими словами? кто вообще что-то знает\n",
      "- Какими словами? кто вообще что-то знает\n",
      "- Какими словами? кто вообще что-то знает?\n",
      "- кто вообще что-то знает\n",
      "- кто вообще что-то знает?\n",
      "---> Какими словами? кто вообще что-то знает?\n"
     ]
    },
    {
     "name": "stderr",
     "output_type": "stream",
     "text": [
      " 81%|████████  | 647/800 [04:02<00:52,  2.92it/s]"
     ]
    },
    {
     "name": "stdout",
     "output_type": "stream",
     "text": [
      "пидарас пидерский ты и сдесь уже окопался верес хуерес\n",
      "- Ты здесь уже окопался\n",
      "- ты и здесь уже окопался\n",
      "- Ты и здесь уже окопался\n",
      "- ты здесь уже окопался\n",
      "- Ты тут уже окопался\n",
      "- Здесь уже окопался\n",
      "- Плохой человек\n",
      "- ты и тут уже окопался\n",
      "- И здесь уже окопался\n",
      "- Не хороший человек\n",
      "---> Ты и здесь уже окопался\n"
     ]
    },
    {
     "name": "stderr",
     "output_type": "stream",
     "text": [
      " 81%|████████  | 648/800 [04:02<00:52,  2.92it/s]"
     ]
    },
    {
     "name": "stdout",
     "output_type": "stream",
     "text": [
      "козлы, х.. и такие деньги получают, я тоже смогла нажать на кнопки...\n",
      "- такие деньги получают, я тоже смогла нажать на кнопки...\n",
      "- такие деньги получают, я тоже смогла нажать на кнопки\n",
      "- И такие деньги получают, я тоже смогла нажать на кнопки\n",
      "- Такие деньги получают, я тоже смогла нажать на кнопки\n",
      "- Я тоже смогла нажать на кнопки\n",
      "- И такие деньги получают, я тоже смогла нажать на кнопки...\n",
      "- и такие деньги получают, я тоже смогла нажать на кнопки...\n",
      "- и такие деньги получают, я тоже смогла нажать на кнопки\n",
      "- Такие деньги получают, я тоже смогла нажать на кнопки...\n",
      "- деньги получают, я тоже смогла нажать на кнопки...\n",
      "---> и такие деньги получают, я тоже смогла нажать на кнопки...\n"
     ]
    },
    {
     "name": "stderr",
     "output_type": "stream",
     "text": [
      " 81%|████████  | 649/800 [04:03<00:58,  2.58it/s]"
     ]
    },
    {
     "name": "stdout",
     "output_type": "stream",
     "text": [
      "пидор при фотографе он лапает сульшера представте что там без фотографа творилось\n",
      "- при фотографе он лапает сульшера представте что там без фотографа творилось\n",
      "- При фотографе он лапает сульшера представте что там без фотографа творилось\n",
      "- При фотографе он лапает сульшера представьте что там без фотографа творилось\n",
      "- при фотографе он лапает сульшера представьте что там без фотографа творилось\n",
      "- при фотографе он лапал сульшера представте что там без фотографа творилось\n",
      "- при фотографе он лапал сульшера представьте что там без фотографа творилось\n",
      "- При фотографе он лапает сульшера представьте что там без фотографа творилось\n",
      "- при фотографе он лапает сульшера представте что там без фотографа творилось\n",
      "- Плохой фотограф при фотографе он лапает сульшера представьте что там без фотографа творилось\n",
      "- При фотографе он лапал сульшера представьте что там без фотографа творилось\n",
      "---> Плохой фотограф при фотографе он лапает сульшера представьте что там без фотографа творилось\n"
     ]
    },
    {
     "name": "stderr",
     "output_type": "stream",
     "text": [
      " 81%|████████▏ | 650/800 [04:03<00:53,  2.81it/s]"
     ]
    },
    {
     "name": "stdout",
     "output_type": "stream",
     "text": [
      "бля, ну вы просто охуенный провидец!\n",
      "- Ну вы просто провидец\n",
      "- Ну вы просто хороший провидец\n",
      "- Вы просто хороший провидец\n",
      "- Вы просто замечательный провидец\n",
      "- Ну вы просто очень хороший провидец\n",
      "- Ну вы просто замечательный провидец\n",
      "- Вы просто провидец\n",
      "- Ну вы просто хороший провидец!\n",
      "- Вы просто очень хороший провидец\n",
      "- Ну вы просто провидец!\n",
      "---> Ну вы просто замечательный провидец\n"
     ]
    },
    {
     "name": "stderr",
     "output_type": "stream",
     "text": [
      " 81%|████████▏ | 651/800 [04:03<00:53,  2.80it/s]"
     ]
    },
    {
     "name": "stdout",
     "output_type": "stream",
     "text": [
      "их море и после реформы. моя тёща наглядный пример. убить готова за путлера.\n",
      "- их море и после реформы. моя тёща наглядный пример\n",
      "- их море и после реформы. моя тёща наглядный пример.\n",
      "- Их море и после реформы. Моя тёща наглядный пример\n",
      "- Их море и после реформы. Моя тёща наглядный пример.\n",
      "- Их море и после реформы моя тёща наглядный пример\n",
      "- их море и после реформы. тёща наглядный пример\n",
      "- Их море и после реформы, моя тёща наглядный пример\n",
      "- их море и после реформы. тёща наглядный пример.\n",
      "- их много и после реформы. моя тёща наглядный пример\n",
      "- их много и после реформы. моя тёща наглядный пример.\n",
      "---> их много и после реформы. моя тёща наглядный пример.\n"
     ]
    },
    {
     "name": "stderr",
     "output_type": "stream",
     "text": [
      " 82%|████████▏ | 652/800 [04:04<00:52,  2.80it/s]"
     ]
    },
    {
     "name": "stdout",
     "output_type": "stream",
     "text": [
      "а не охерел ли кравчук? морда не треснет, земли ему захотелось. эти твари людей ни во что не ставят.\n",
      "- а не испугался ли кравчук?\n",
      "- а не испугался ли Кравчук?\n",
      "- а не напугался ли кравчук?\n",
      "- а не охерел ли кравчук?\n",
      "- а не обиделся ли кравчук?\n",
      "- не испугался ли кравчук?\n",
      "- а не напугал ли кравчук?\n",
      "- А не испугался ли кравчук? земли ему захотелось.\n",
      "- а не испугался ли кравчук? ему земли захотелось.\n",
      "- А не испугался ли кравчук? Ему земли захотелось.\n",
      "---> А не испугался ли кравчук? Ему земли захотелось.\n"
     ]
    },
    {
     "name": "stderr",
     "output_type": "stream",
     "text": [
      " 82%|████████▏ | 653/800 [04:04<00:56,  2.60it/s]"
     ]
    },
    {
     "name": "stdout",
     "output_type": "stream",
     "text": [
      "Вот сволочь. А ещё некоторые жалуются, что мы о планете не заботимся, а она вон какая оказывается.\n",
      "- А ещё некоторые жалуются, что мы о планете не заботимся, а она вон какая оказывается\n",
      "- А ещё некоторые жалуются, что мы о планете не заботимся\n",
      "- А ещё некоторые жалуются, что мы о планете не заботимся, а она вон какая оказывается.\n",
      "- А ещё некоторые жалуются, что мы не заботимся о планете\n",
      "- А ещё некоторые жалуются, что мы о планете не заботимся.\n",
      "- А ещё некоторые жалуются что мы о планете не заботимся\n",
      "- А ещё некоторые жалуются что мы о планете не заботимся, а она вон какая оказывается\n",
      "- а ещё некоторые жалуются, что мы о планете не заботимся\n",
      "- а ещё некоторые жалуются, что мы о планете не заботимся, а она вон какая оказывается\n",
      "- А еще некоторые жалуются, что мы о планете не заботимся, а она вон какая оказывается\n",
      "---> А ещё некоторые жалуются, что мы о планете не заботимся, а она вон какая оказывается.\n"
     ]
    },
    {
     "name": "stderr",
     "output_type": "stream",
     "text": [
      " 82%|████████▏ | 654/800 [04:05<00:58,  2.48it/s]"
     ]
    },
    {
     "name": "stdout",
     "output_type": "stream",
     "text": [
      "да это уебок у нас начудит, и неужели он думает что за него проголосует кто!?\n",
      "- да это у нас начудит, и неужели он думает что за него проголосует кто!?\n",
      "- да он у нас начудит, и неужели он думает что за него проголосует кто!?\n",
      "- да это у него начудит, и неужели он думает что за него проголосует кто!?\n",
      "- Да это у нас начудит, и неужели он думает что за него проголосует кто!?\n",
      "- да он у нас натворит, и неужели он думает что за него проголосует кто!?\n",
      "- да это он у нас начудит, и неужели он думает что за него проголосует кто!?\n",
      "- да он у нас начудит и неужели он думает что за него проголосует кто!?\n",
      "- Да это у нас начудит, и неужели он думает, что за него проголосует кто!?\n",
      "- Да это у него начудит, и неужели он думает что за него проголосует кто!?\n",
      "- Да он у нас натворит, и неужели он думает что за него проголосует кто!?\n",
      "---> да это он у нас начудит, и неужели он думает что за него проголосует кто!?\n"
     ]
    },
    {
     "name": "stderr",
     "output_type": "stream",
     "text": [
      " 82%|████████▏ | 655/800 [04:05<00:58,  2.49it/s]"
     ]
    },
    {
     "name": "stdout",
     "output_type": "stream",
     "text": [
      "киселева и старкова вы дуры? или так по шаблону херячите?\n",
      "- киселева и старкова вы глупые? или так по шаблону?\n",
      "- киселева и старкова вы не понимаете?\n",
      "- киселева и старкова вы глупые?\n",
      "- киселева и старкова вы такие?\n",
      "- киселева и старкова вы не умеете?\n",
      "- киселева и старкова вы глупые? или так по шаблону\n",
      "- киселева и старкова вы такие? или так по шаблону?\n",
      "- киселева и старкова вы не умеете работать?\n",
      "- киселева и старкова вы глупые? или так по шаблону работаете?\n",
      "- киселева и старкова вы такие? или так по шаблону\n",
      "---> киселева и старкова вы глупые? или так по шаблону работаете?\n"
     ]
    },
    {
     "name": "stderr",
     "output_type": "stream",
     "text": [
      " 82%|████████▏ | 656/800 [04:06<01:07,  2.14it/s]"
     ]
    },
    {
     "name": "stdout",
     "output_type": "stream",
     "text": [
      "стесняюсь спросить,а каких методов пропаганды придерживается российский маршал пропаганды, он же вечерний мудозвон и многих других определений обладатель????\n",
      "- Стесняюсь спросить, а каких методов пропаганды придерживается российский маршал пропаганды, он же вечерний человек и многих других определений обладатель????\n",
      "- Стесняюсь спросить, а каких методов пропаганды придерживается российский маршал пропаганды\n",
      "- Стесняюсь спросить, а каких методов пропаганды придерживается российский маршал пропаганды, он же вечерний человек и многих других определений обладатель????\n",
      "- Стесняюсь спросить, а каких методов пропаганды придерживается российский маршал пропаганды\n",
      "- стесняюсь спросить,а каких методов пропаганды придерживается российский маршал пропаганды, он же вечерний человек и многих других определений обладатель????\n",
      "- Стесняюсь спросить,а каких методов пропаганды придерживается российский маршал пропаганды\n",
      "- Стесняюсь спросить, а каких методов пропаганды придерживается российский маршал пропаганды, он же вечерний мудозвон и многих других определений обладатель????\n",
      "- стесняюсь спросить,а каких методов пропаганды придерживается российский маршал пропаганды\n",
      "- Стесняюсь спросить,а каких методов пропаганды придерживается российский маршал пропаганды, он же вечерний человек и многих других определений обладатель????\n",
      "- Стесняюсь спросить, а каких методов пропаганды придерживается российский маршал пропаганды?\n",
      "---> Стесняюсь спросить, а каких методов пропаганды придерживается российский маршал пропаганды, он же вечерний мудозвон и многих других определений обладатель????\n"
     ]
    },
    {
     "name": "stderr",
     "output_type": "stream",
     "text": [
      " 82%|████████▏ | 657/800 [04:06<01:04,  2.20it/s]"
     ]
    },
    {
     "name": "stdout",
     "output_type": "stream",
     "text": [
      "из за таких лизоблюдов или тупоголовых наша родина в жопе , может ты в доле .\n",
      "- Из за таких людей наша родина в жопе, может ты в доле\n",
      "- Из-за таких людей наша родина в жопе, может ты в доле\n",
      "- Из-за таких людей наша родина в заднице, может ты в доле\n",
      "- Из за таких людей наша родина в заднице, может ты в доле\n",
      "- из за таких людей наша родина в жопе, может ты в доле\n",
      "- Из-за таких людей наша родина в беде, может ты в доле\n",
      "- Из-за таких людей наша родина в жопе\n",
      "- из-за таких людей наша родина в жопе, может ты в доле\n",
      "- Из-за таких людей наша родина в жопе, может ты в доле.\n",
      "- Из за таких людей наша родина в жопе, может ты в доле.\n",
      "---> Из за таких людей наша родина в заднице, может ты в доле\n"
     ]
    },
    {
     "name": "stderr",
     "output_type": "stream",
     "text": [
      " 82%|████████▏ | 658/800 [04:06<00:56,  2.51it/s]"
     ]
    },
    {
     "name": "stdout",
     "output_type": "stream",
     "text": [
      "это поколения молодёжи щяс это ублюдки растут\n",
      "- это поколения молодёжи растут\n",
      "- это поколения молодежи растут\n",
      "- Это поколения молодежи растут\n",
      "- Это поколения молодёжи растут\n",
      "- Это поколения молодежи выросли\n",
      "- это поколения молодёжи выросли\n",
      "- Это поколения молодежи, растут\n",
      "- Это поколения молодёжи, растут\n",
      "- Это поколения молодежи сейчас это люди растут\n",
      "- Это поколения молодёжи сейчас это люди растут\n",
      "---> Это поколения молодёжи сейчас это люди растут\n"
     ]
    },
    {
     "name": "stderr",
     "output_type": "stream",
     "text": [
      " 82%|████████▏ | 659/800 [04:07<00:49,  2.85it/s]"
     ]
    },
    {
     "name": "stdout",
     "output_type": "stream",
     "text": [
      "пидараска ты что ебло прячешь\n",
      "- Что ты прячешь\n",
      "- Что прячешь\n",
      "- Что ты скрываешь\n",
      "- что ты прячешь\n",
      "- Ты что скрываешь\n",
      "- Ты что прячешь\n",
      "- ты что скрываешь\n",
      "- Что скрываешь\n",
      "- ты что лицо прячешь\n",
      "- Что ты прячешь?\n",
      "---> ты что лицо прячешь\n"
     ]
    },
    {
     "name": "stderr",
     "output_type": "stream",
     "text": [
      " 82%|████████▎ | 660/800 [04:07<00:45,  3.06it/s]"
     ]
    },
    {
     "name": "stdout",
     "output_type": "stream",
     "text": [
      "ты то мразь какого хера свое жало суешь недобиток путинский\n",
      "- ты зачем свое жало суешь\n",
      "- Ты зачем свое жало суешь\n",
      "- Ты зачем своё жало суешь\n",
      "- ты то зачем свое жало суешь\n",
      "- Зачем свое жало суешь\n",
      "- ты зачем своё жало суешь\n",
      "- Зачем своё жало суешь\n",
      "- Почему свое жало суешь\n",
      "- ты то зачем своё жало суешь\n",
      "- Почему ты свое жало суешь\n",
      "---> ты то зачем своё жало суешь\n"
     ]
    },
    {
     "name": "stderr",
     "output_type": "stream",
     "text": [
      " 83%|████████▎ | 661/800 [04:07<00:41,  3.37it/s]"
     ]
    },
    {
     "name": "stdout",
     "output_type": "stream",
     "text": [
      "ну что сказать? - долбоёб !¡!\n",
      "- Ну что сказать\n",
      "- ну что сказать\n",
      "- Ну что сказать?\n",
      "- ну что сказать?\n",
      "- Что сказать\n",
      "- Что сказать?\n",
      "- что сказать\n",
      "- что сказать?\n",
      "- Ну, что сказать\n",
      "- Ну ничего не сказать\n",
      "---> Ну ничего не сказать\n"
     ]
    },
    {
     "name": "stderr",
     "output_type": "stream",
     "text": [
      " 83%|████████▎ | 662/800 [04:07<00:42,  3.28it/s]"
     ]
    },
    {
     "name": "stdout",
     "output_type": "stream",
     "text": [
      "ты просто ебонутая шлюха,которая хочет всех мужиков себе забрать\n",
      "- Она хочет всех мужиков себе забрать\n",
      "- Она хочет всех мужчин себе забрать\n",
      "- ты просто глупая,которая хочет всех мужиков себе забрать\n",
      "- она хочет всех мужиков себе забрать\n",
      "- ты просто глупая, которая хочет всех мужиков себе забрать\n",
      "- Ты глупая, которая хочет всех мужиков себе забрать\n",
      "- Ты глупая, которая хочет всех мужчин себе забрать\n",
      "- ты просто глупая женщина,которая хочет всех мужиков себе забрать\n",
      "- Ты хочешь всех мужиков себе забрать\n",
      "- Ты просто глупая, которая хочет всех мужиков себе забрать\n",
      "---> ты просто глупая женщина,которая хочет всех мужиков себе забрать\n"
     ]
    },
    {
     "name": "stderr",
     "output_type": "stream",
     "text": [
      " 83%|████████▎ | 663/800 [04:08<00:40,  3.36it/s]"
     ]
    },
    {
     "name": "stdout",
     "output_type": "stream",
     "text": [
      "пошол нахуй педик забыл у тебя спросить\n",
      "- Плохой человек забыл у тебя спросить\n",
      "- забыл спросить\n",
      "- Ушел, забыл спросить\n",
      "- Ушёл, забыл спросить\n",
      "- Плохой человек забыл спросить\n",
      "- Пропал, забыл спросить\n",
      "- Ушел, забыл у тебя спросить\n",
      "- Пропал, забыл у тебя спросить\n",
      "- Попросил у тебя спросить\n",
      "- Пошёл на фиг, забыл у тебя спросить\n",
      "---> Плохой человек забыл у тебя спросить\n"
     ]
    },
    {
     "name": "stderr",
     "output_type": "stream",
     "text": [
      " 83%|████████▎ | 664/800 [04:08<00:43,  3.13it/s]"
     ]
    },
    {
     "name": "stdout",
     "output_type": "stream",
     "text": [
      "ну придурки,вам бы,попробовать страной порубить,ну очень хочется?!\n",
      "- вам бы,попробовать страной порубить,ну очень хочется?!\n",
      "- вам бы,попробовать страной порубить, ну очень хочется?!\n",
      "- вам бы,попробовать страной порубить\n",
      "- вам бы,попробовать страной порубить,ну очень хочется?\n",
      "- вам бы,попробовать страной порубить,ну очень хочется\n",
      "- нам бы,попробовать страной порубить,ну очень хочется?!\n",
      "- Вам бы, попробовать страной порубить, ну очень хочется\n",
      "- вам бы,попробовать страной порубить, ну очень хочется?\n",
      "- вам бы,попробовать страной порубить,очень хочется?!\n",
      "- вам бы,попробовать страной порубить, ну очень хочется\n",
      "---> вам бы,попробовать страной порубить, ну очень хочется?!\n"
     ]
    },
    {
     "name": "stderr",
     "output_type": "stream",
     "text": [
      " 83%|████████▎ | 665/800 [04:08<00:43,  3.12it/s]"
     ]
    },
    {
     "name": "stdout",
     "output_type": "stream",
     "text": [
      "вопрос а где другие кандидаты,нам хуесосы ненужны!!!!\n",
      "- вопрос а где другие кандидаты, нам не нужны\n",
      "- вопрос а где другие кандидаты,нам не нужны\n",
      "- вопрос а где другие кандидаты\n",
      "- Вопрос а где другие кандидаты\n",
      "- вопрос а где другие кандидаты нам не нужны\n",
      "- вопрос а где другие кандидаты,нам не нужны!!!!\n",
      "- Вопрос а где другие кандидаты\n",
      "- Вопрос а где другие кандидаты?\n",
      "- вопрос а где другие кандидаты?\n",
      "- Вопрос а где другие кандидаты, нам не нужны\n",
      "---> вопрос а где другие кандидаты,нам не нужны!!!!\n"
     ]
    },
    {
     "name": "stderr",
     "output_type": "stream",
     "text": [
      " 83%|████████▎ | 666/800 [04:09<00:49,  2.71it/s]"
     ]
    },
    {
     "name": "stdout",
     "output_type": "stream",
     "text": [
      "мирные митинги поганых либералов, навальнят и прочих пидоров. мы эту мразь защищать не будем.\n",
      "- мирные митинги навальнят и прочих людей. мы эту мразь защищать не будем\n",
      "- мирные митинги, навальнят и прочих людей. мы эту мразь защищать не будем\n",
      "- мирные митинги навальнят и прочих либералов. мы эту мразь защищать не будем\n",
      "- мирные митинги навальнят и прочих людей. мы эту мразь защищать не будем.\n",
      "- мирные митинги навальнят и прочих. мы эту мразь защищать не будем\n",
      "- мирные митинги, навальнят и прочих людей. мы эту мразь защищать не будем.\n",
      "- мирные митинги навальнят и прочих нехороших людей. мы эту мразь защищать не будем\n",
      "- мирные митинги навальнят и прочих. мы эту мразь защищать не будем.\n",
      "- мирные митинги навальнят и прочих либералов. мы эту мразь защищать не будем.\n",
      "- мирные митинги навальнят и прочих пидоров. мы эту мразь защищать не будем\n",
      "---> мирные митинги навальнят и прочих нехороших людей. мы эту мразь защищать не будем\n"
     ]
    },
    {
     "name": "stderr",
     "output_type": "stream",
     "text": [
      " 83%|████████▎ | 667/800 [04:09<00:47,  2.78it/s]"
     ]
    },
    {
     "name": "stdout",
     "output_type": "stream",
     "text": [
      "Да небось в танки гонял, пукан полыхнул и улетел.)\n",
      "- Да небось в танки гонял\n",
      "- Да наверно в танки гонял\n",
      "- да небось в танки гонял\n",
      "- да наверно в танки гонял\n",
      "- Да наверное в танки гонял\n",
      "- Да небось в танки гонял, полыхнул и улетел\n",
      "- Да небось в танки гонял.\n",
      "- Да небось в танки гонял и улетел\n",
      "- Да небось в танки играл\n",
      "- Да небось в танки гонял, и улетел\n",
      "---> Да небось в танки гонял, полыхнул и улетел\n"
     ]
    },
    {
     "name": "stderr",
     "output_type": "stream",
     "text": [
      " 84%|████████▎ | 668/800 [04:10<00:44,  2.94it/s]"
     ]
    },
    {
     "name": "stdout",
     "output_type": "stream",
     "text": [
      "И шо? Свое ебало засвети теперь\n",
      "- И что? Свое лицо засвети теперь\n",
      "- И что? Свое лицо засвети\n",
      "- И что? Своё лицо засвети теперь\n",
      "- И шо? Свое лицо засвети теперь\n",
      "- И что? Лицо засвети теперь\n",
      "- Что? Свое лицо засвети теперь\n",
      "- И что? Свое лицо освети теперь\n",
      "- И что? Своё лицо засвети\n",
      "- и что? свое лицо засвети теперь\n",
      "- И шо? Своё лицо засвети теперь\n",
      "---> и что? свое лицо засвети теперь\n"
     ]
    },
    {
     "name": "stderr",
     "output_type": "stream",
     "text": [
      " 84%|████████▎ | 669/800 [04:10<00:41,  3.19it/s]"
     ]
    },
    {
     "name": "stdout",
     "output_type": "stream",
     "text": [
      "Что ты там пукнула, дешевка?\n",
      "- Что ты там сказала\n",
      "- Что ты там пукнула\n",
      "- Что ты там пукнула?\n",
      "- Что ты там сказала?\n",
      "- Что ты там сделала\n",
      "- Что ты сказала\n",
      "- Что ты там говорила\n",
      "- Что ты там произнесла\n",
      "- Что ты там ляпнула\n",
      "- что ты там пукнула\n",
      "---> Что ты там произнесла\n"
     ]
    },
    {
     "name": "stderr",
     "output_type": "stream",
     "text": [
      " 84%|████████▍ | 670/800 [04:10<00:48,  2.70it/s]"
     ]
    },
    {
     "name": "stdout",
     "output_type": "stream",
     "text": [
      "парень, целовавший руку, смеялся в это время У него же просто ще нячий восторг на лице написан.\n",
      "- Парень, целовавший руку, смеялся в это время У него же просто ще нячий восторг на лице написан\n",
      "- парень, целовавший руку, смеялся в это время У него же просто ще нячий восторг на лице написан\n",
      "- парень, целовавший руку, смеялся в это время У него же просто ще нячий восторг на лице написан.\n",
      "- Парень, целовавший руку, смеялся в это время У него же просто ще нячий восторг на лице написан.\n",
      "- Парень, целовавший руку, смеялся в это время У него же просто щенячий восторг на лице написан\n",
      "- Парень, целовавший руку, смеялся в это время.\n",
      "- Парень, целовавший руку, смеялся в это время у него же просто ще нячий восторг на лице написан\n",
      "- парень, целовавший руку, смеялся в это время У него же просто щенячий восторг на лице написан\n",
      "- Парень, целовавший руку, смеялся в это время, у него же просто ще нячий восторг на лице написан\n",
      "- парень, целовавший руку, смеялся в это время у него же просто ще нячий восторг на лице написан\n",
      "---> Парень, целовавший руку, смеялся в это время, у него же просто ще нячий восторг на лице написан\n"
     ]
    },
    {
     "name": "stderr",
     "output_type": "stream",
     "text": [
      " 84%|████████▍ | 671/800 [04:11<00:42,  3.02it/s]"
     ]
    },
    {
     "name": "stdout",
     "output_type": "stream",
     "text": [
      "ты опять о себе, козломордый? :-$\n",
      "- ты опять о себе\n",
      "- Ты опять о себе\n",
      "- ты опять о себе?\n",
      "- Опять о себе\n",
      "- Ты опять о себе?\n",
      "- ты опять обо мне\n",
      "- Опять ты о себе\n",
      "- Ты опять обо мне\n",
      "- Ты опять обо мне?\n",
      "- Ты снова о себе\n",
      "---> Ты опять обо мне?\n"
     ]
    },
    {
     "name": "stderr",
     "output_type": "stream",
     "text": [
      " 84%|████████▍ | 672/800 [04:11<00:46,  2.76it/s]"
     ]
    },
    {
     "name": "stdout",
     "output_type": "stream",
     "text": [
      "этих фашистов самих надо отметелить так, чтобы месяц не мог ни лежать и ни сидеть.\n",
      "- этих фашистов самих надо наказать так, чтобы месяц не мог ни лежать и ни сидеть\n",
      "- их самих надо наказать так, чтобы месяц не мог ни лежать и ни сидеть\n",
      "- их надо наказать так, чтобы месяц не мог ни лежать и ни сидеть\n",
      "- Этих фашистов надо наказать так, чтобы месяц не мог ни лежать и ни сидеть\n",
      "- этих фашистов надо наказать так, чтобы месяц не мог ни лежать и ни сидеть\n",
      "- этих фашистов самих надо наказать так, чтобы месяц не мог ни лежать и ни сидеть.\n",
      "- их самих надо наказать так, чтобы месяц не мог ни лежать и ни сидеть.\n",
      "- Их надо наказать так, чтобы месяц не мог ни лежать и ни сидеть\n",
      "- Этих фашистов самих надо наказать так, чтобы месяц не мог ни лежать и ни сидеть\n",
      "- Их надо наказать\n",
      "---> этих фашистов самих надо наказать так, чтобы месяц не мог ни лежать и ни сидеть.\n"
     ]
    },
    {
     "name": "stderr",
     "output_type": "stream",
     "text": [
      " 84%|████████▍ | 673/800 [04:12<00:53,  2.37it/s]"
     ]
    },
    {
     "name": "stdout",
     "output_type": "stream",
     "text": [
      "Жаль слышать. Реалии оказались не по зубам мужчине, быдло и жиды неистребимы, к сожалению, не исправимы\n",
      "- Жаль слышать. Реалии оказались не по зубам мужчине\n",
      "- Жаль слышать. Реалии оказались не по зубам мужчине.\n",
      "- Жаль слышать, Реалии оказались не по зубам мужчине\n",
      "- Жаль слышать. Реальности оказались не по зубам мужчине\n",
      "- Жаль слышать. Реалии оказались не по зубам мужчине, плохие люди неистребимы, к сожалению, не исправимы\n",
      "- Жаль слышать. Реалии оказались не по зубам мужчине, не исправимы\n",
      "- Жаль слышать. Реалии оказались не по зубам мужчине, плохие люди неистребимы\n",
      "- Жаль слышать. Реалии оказались не по зубам мужчине, люди неистребимы, к сожалению, не исправимы\n",
      "- Жаль слышать. Реалии оказались не по зубам мужчине, люди неистребимы\n",
      "- Жаль слышать. Реалии оказались не по зубам мужчине, мужчины неистребимы\n",
      "---> Жаль слышать. Реалии оказались не по зубам мужчине, плохие люди неистребимы, к сожалению, не исправимы\n"
     ]
    },
    {
     "name": "stderr",
     "output_type": "stream",
     "text": [
      " 84%|████████▍ | 674/800 [04:12<00:55,  2.29it/s]"
     ]
    },
    {
     "name": "stdout",
     "output_type": "stream",
     "text": [
      ":-d :-d :-d :-d :-d :-dпидараса кусок!!!не устал деньги отмывать?\n",
      "- Не устал деньги отмывать\n",
      "- не устал деньги отмывать?\n",
      "- Не устал деньги отмывать?\n",
      "- не устал деньги отмывать\n",
      "- Не устал?\n",
      "- Не устал деньги зарабатывать\n",
      "- Не устал, деньги отмывать\n",
      "- :-d :-d :-d :-d :-d не устал деньги отмывать?\n",
      "- Не устал отмывать деньги\n",
      "- Не устал, не устал\n",
      "---> :-d :-d :-d :-d :-d не устал деньги отмывать?\n"
     ]
    },
    {
     "name": "stderr",
     "output_type": "stream",
     "text": [
      " 84%|████████▍ | 675/800 [04:12<00:49,  2.54it/s]"
     ]
    },
    {
     "name": "stdout",
     "output_type": "stream",
     "text": [
      "да ей задрот за её же деньги купил:-d\n",
      "- Да ей за её же деньги купил\n",
      "- да ей за её же деньги купил\n",
      "- Да ей за ее же деньги купил\n",
      "- Да ей просто повезло\n",
      "- да ей за ее же деньги купил\n",
      "- да ей за её же деньги купил:-d\n",
      "- да ей деньги купил\n",
      "- Да ей повезло за её же деньги купил\n",
      "- Да ей не повезло за её же деньги купил\n",
      "- Да ей деньги купил\n",
      "---> Да ей не повезло за её же деньги купил\n"
     ]
    },
    {
     "name": "stderr",
     "output_type": "stream",
     "text": [
      " 84%|████████▍ | 676/800 [04:13<00:43,  2.88it/s]"
     ]
    },
    {
     "name": "stdout",
     "output_type": "stream",
     "text": [
      "так ему и надо ублюдочному.\n",
      "- Так ему и надо\n",
      "- так ему и надо\n",
      "- Так ему и надо.\n",
      "- так ему и надо.\n",
      "- Так ему и нужно\n",
      "- Так ему надо\n",
      "- так ему надо\n",
      "- Так его и надо\n",
      "- так ему и нужно\n",
      "- Так и надо ему\n",
      "---> так ему и нужно\n"
     ]
    },
    {
     "name": "stderr",
     "output_type": "stream",
     "text": [
      " 85%|████████▍ | 677/800 [04:13<00:40,  3.01it/s]"
     ]
    },
    {
     "name": "stdout",
     "output_type": "stream",
     "text": [
      "невеста супер! гости суки завистливые.\n",
      "- невеста супер! гости завистливые\n",
      "- невеста супер! гости завистливые.\n",
      "- Невеста супер! гости завистливые\n",
      "- невеста супер! гости завидуют\n",
      "- Невеста супер! Гости завистливые\n",
      "- невеста супер. гости завистливые\n",
      "- невеста супер! гости злые\n",
      "- Невеста супер. Гости завистливые\n",
      "- невеста супер! гости завидливые\n",
      "- Невеста супер, гости завистливые\n",
      "---> невеста супер! гости завистливые.\n"
     ]
    },
    {
     "name": "stderr",
     "output_type": "stream",
     "text": [
      " 85%|████████▍ | 678/800 [04:13<00:42,  2.86it/s]"
     ]
    },
    {
     "name": "stdout",
     "output_type": "stream",
     "text": [
      "какие вы все чмо. хоть бы один освёсетил проблему. одни оскорбления. противно читать.\n",
      "- какие вы все плохие\n",
      "- какие вы все нехорошие\n",
      "- Вы все плохие\n",
      "- какие вы все злые\n",
      "- Вы все плохие люди\n",
      "- какие вы все непонятные\n",
      "- Какие вы все непонятные\n",
      "- Какие вы все нехорошие\n",
      "- какие вы все нехорошие. хоть бы один осветил проблему. одни оскорбления\n",
      "- какие вы все. хоть бы один осветил проблему. одни оскорбления\n",
      "---> какие вы все нехорошие. хоть бы один осветил проблему. одни оскорбления\n"
     ]
    },
    {
     "name": "stderr",
     "output_type": "stream",
     "text": [
      " 85%|████████▍ | 679/800 [04:14<00:41,  2.94it/s]"
     ]
    },
    {
     "name": "stdout",
     "output_type": "stream",
     "text": [
      "здоровенный кабан ,сидит придуривается,работать неохота---- тварь какая!\n",
      "- сидит и улыбается,работать неохота\n",
      "- Сидит и улыбается\n",
      "- сидит себе и улыбается\n",
      "- сидит истуканится,работать неохота\n",
      "- сидит себе,работать неохота\n",
      "- Сидит, улыбается, работать неохота\n",
      "- сидит и сидит, работать неохота\n",
      "- сидит и улыбается, работать неохота\n",
      "- сидит и сидит,работать неохота\n",
      "- сидит истуканом,работать неохота\n",
      "---> сидит и улыбается, работать неохота\n"
     ]
    },
    {
     "name": "stderr",
     "output_type": "stream",
     "text": [
      " 85%|████████▌ | 680/800 [04:14<00:40,  2.99it/s]"
     ]
    },
    {
     "name": "stdout",
     "output_type": "stream",
     "text": [
      "ну блин и рожи за неделю не обгадишь\n",
      "- ну блин и лица за неделю не обгадишь\n",
      "- Ну блин и лица за неделю не обгадишь\n",
      "- ну блин и рожи за неделю не обгадишь\n",
      "- ну вот и лица за неделю не обгадишь\n",
      "- Ну вот и лица за неделю не обгадишь\n",
      "- Ну и лица за неделю не обгадишь\n",
      "- ну вот и рожи за неделю не обгадишь\n",
      "- И лица за неделю не обгадишь\n",
      "- ну и лица за неделю не обгадишь\n",
      "- Ну вот и рожи за неделю не обгадишь\n",
      "---> ну блин и рожи за неделю не обгадишь\n"
     ]
    },
    {
     "name": "stderr",
     "output_type": "stream",
     "text": [
      " 85%|████████▌ | 681/800 [04:14<00:45,  2.63it/s]"
     ]
    },
    {
     "name": "stdout",
     "output_type": "stream",
     "text": [
      "вы че долбанулись! русского мальчишку героя приветствует америкосский 3,14дор! (3,14-число пи),\n",
      "- русского мальчишку героя приветствует америкосский 3,14-число пи\n",
      "- Русского мальчишку героя приветствует америкосский 3,14-число пи\n",
      "- Русский мальчишка героя приветствует америкосский 3,14-число пи\n",
      "- Русского мальчишку приветствует америкосский 3,14-число пи\n",
      "- Русского мальчика героя приветствует америкосский 3,14-число пи\n",
      "- Русского мальчика приветствует америкосский 3,14-число пи\n",
      "- Русский мальчишка приветствует америкосского 3,14-число пи\n",
      "- Вы что? Русского мальчишку героя приветствует америкосский 3,14-число пи\n",
      "- Русского мальчишку героя приветствует американский 3,14-число пи\n",
      "- Вы что с ума сошли! Русского мальчишку героя приветствует америкосский 3,14-число пи\n",
      "---> Вы что с ума сошли! Русского мальчишку героя приветствует америкосский 3,14-число пи\n"
     ]
    },
    {
     "name": "stderr",
     "output_type": "stream",
     "text": [
      " 85%|████████▌ | 682/800 [04:15<00:45,  2.58it/s]"
     ]
    },
    {
     "name": "stdout",
     "output_type": "stream",
     "text": [
      "Для каких стан является эталоном современная система здравоохранения РФ? Для Зимбабве? Ты тупой? хохлы\n",
      "- Для каких стан является эталоном современная система здравоохранения РФ?\n",
      "- Для каких стан является эталоном современная система здравоохранения РФ? Для Зимбабве?\n",
      "- Для каких стан является эталоном современная система здравоохранения РФ? Для Зимбабве\n",
      "- Для каких стан является эталоном современная система здравоохранения РФ\n",
      "- для каких стан является эталоном современная система здравоохранения РФ?\n",
      "- Для каких стан является эталоном современная медицина РФ?\n",
      "- Для каких стандартов современная система здравоохранения РФ?\n",
      "- Для каких стран является эталоном современная система здравоохранения РФ?\n",
      "- Для кого является эталоном современная система здравоохранения РФ?\n",
      "- Для каких стандартов современная медицина РФ?\n",
      "---> Для каких стан является эталоном современная система здравоохранения РФ? Для Зимбабве?\n"
     ]
    },
    {
     "name": "stderr",
     "output_type": "stream",
     "text": [
      " 85%|████████▌ | 683/800 [04:15<00:43,  2.67it/s]"
     ]
    },
    {
     "name": "stdout",
     "output_type": "stream",
     "text": [
      "пиздец какая звезда. в кино одних алкашей и играл урод\n",
      "- какая звезда. в кино одних алкашей и играл\n",
      "- какая звезда. в кино одних людей и играл\n",
      "- Какая звезда, в кино одни актеры\n",
      "- какая звезда. в кино одних людей играл\n",
      "- Какая звезда. В кино одних людей играл\n",
      "- какая звезда. в кино одних алкоголиков и играл\n",
      "- Какая звезда. В кино одних неудачников и играл\n",
      "- Какая звезда. В кино одних алкоголиков и играл\n",
      "- Какая звезда. В кино одних плохих актеров играл\n",
      "- какая звезда. в кино одних плохих актеров и играл\n",
      "---> какая звезда. в кино одних плохих актеров и играл\n"
     ]
    },
    {
     "name": "stderr",
     "output_type": "stream",
     "text": [
      " 86%|████████▌ | 684/800 [04:15<00:38,  3.00it/s]"
     ]
    },
    {
     "name": "stdout",
     "output_type": "stream",
     "text": [
      "тварь,трус! ничего человеческого не осталось.\n",
      "- Ничего человеческого не осталось\n",
      "- ничего человеческого не осталось\n",
      "- Ничего человеческого не осталось.\n",
      "- ничего человеческого не осталось.\n",
      "- Ничего человеческого нет\n",
      "- Ничего человечного не осталось\n",
      "- Ничего не осталось\n",
      "- Ни чего человеческого не осталось\n",
      "- Ничего человеческого  не осталось\n",
      "- Ничего человеческого в тебе не осталось\n",
      "---> Ничего человеческого в тебе не осталось\n"
     ]
    },
    {
     "name": "stderr",
     "output_type": "stream",
     "text": [
      " 86%|████████▌ | 685/800 [04:16<00:50,  2.28it/s]"
     ]
    },
    {
     "name": "stdout",
     "output_type": "stream",
     "text": [
      "понятное дело - не за рулем,мозг этого урода,где то,на багамах,на аквабайке,по океану рассекал...!\n",
      "- понятное дело - не за рулем,мозг этого человека,где то,на Багамах,на аквабайке,по океану рассекал...!\n",
      "- понятное дело - не за рулем,мозг этого человека,где то,на Багамах,на аквабайке,по океану рассекал\n",
      "- понятное дело - не за рулем,мозг этого урода,где то,на Багамах,на аквабайке,по океану рассекал...!\n",
      "- понятное дело - не за рулем,мозг этого человека,где то,на багамах,на аквабайке,по океану рассекал...!\n",
      "- понятное дело - не за рулем,мозг этого урода,где то,на Багамах,на аквабайке,по океану рассекал\n",
      "- понятное дело - не за рулем,мозг этого урода,где то,на багамах,на аквабайке,по океану рассекал...!\n",
      "- понятное дело - не за рулем,мозг этого человека,где то,на багамах,на аквабайке,по океану рассекал\n",
      "- понятное дело - не за рулем,мозг этого человека,где-то,на Багамах,на аквабайке,по океану рассекал...!\n",
      "- понятное дело - не за рулем,мозг этого урода,где то,на багамах,на аквабайке,по океану рассекал\n",
      "- понятное дело - не за рулем,мозг этого человека,где-то,на Багамах,на аквабайке,по океану рассекал\n",
      "---> понятное дело - не за рулем,мозг этого человека,где-то,на Багамах,на аквабайке,по океану рассекал...!\n"
     ]
    },
    {
     "name": "stderr",
     "output_type": "stream",
     "text": [
      " 86%|████████▌ | 686/800 [04:16<00:45,  2.52it/s]"
     ]
    },
    {
     "name": "stdout",
     "output_type": "stream",
     "text": [
      "тварюга лицемерная .о ребенке только во время конкурсов вспоминает.\n",
      "- ребенок только во время конкурсов вспоминает\n",
      "- О ребенке только во время конкурсов вспоминает\n",
      "- ребёнок только во время конкурсов вспоминает\n",
      "- о ребенке только во время конкурсов вспоминает\n",
      "- ребенка только во время конкурсов вспоминает\n",
      "- Ребенок только во время конкурсов вспоминает\n",
      "- Ребёнок только во время конкурсов вспоминает\n",
      "- о ребенке только во время конкурсов вспоминает.\n",
      "- ребенок только во время конкурсов вспоминает.\n",
      "- О ребёнке только во время конкурсов вспоминает\n",
      "---> о ребенке только во время конкурсов вспоминает.\n"
     ]
    },
    {
     "name": "stderr",
     "output_type": "stream",
     "text": [
      " 86%|████████▌ | 687/800 [04:17<00:51,  2.19it/s]"
     ]
    },
    {
     "name": "stdout",
     "output_type": "stream",
     "text": [
      "вопрос о садистах снят. Второй вопрос - вы даун? Вы ровняете пуховик с жизнью? Даже с жизнью собаки?\n",
      "- вопрос о садистах снят. Второй вопрос - вы даун? Вы ровняете пуховик с жизнью? Даже с жизнью собаки?\n",
      "- вопрос о садистах снят. Второй вопрос - вы даун? Вы ровняете пуховик с жизнью? Даже с жизнью собаки\n",
      "- вопрос о садистах снят. Второй вопрос - вы не правы?\n",
      "- вопрос о садистах снят. Второй вопрос - вы не правы\n",
      "- вопрос о садистах снят. Второй вопрос - вы даун?\n",
      "- вопрос о садистах снят. Второй вопрос - вы даун? Вы ровняете пуховик с жизнью? даже с жизнью собаки?\n",
      "- вопрос о садистах снят. Второй вопрос - вы даун? Вы ровняете пуховик с жизнью\n",
      "- вопрос о садистах снят. Второй вопрос - вы не правы? Даже с жизнью собаки\n",
      "- вопрос о садистах снят. Второй вопрос - вы даун? Вы ровняете пуховик с жизнью?\n",
      "- вопрос о садистах снят. Второй вопрос - вы не правы? Даже с жизнью собаки?\n",
      "---> вопрос о садистах снят. Второй вопрос - вы даун? Вы ровняете пуховик с жизнью? даже с жизнью собаки?\n"
     ]
    },
    {
     "name": "stderr",
     "output_type": "stream",
     "text": [
      " 86%|████████▌ | 688/800 [04:17<00:50,  2.23it/s]"
     ]
    },
    {
     "name": "stdout",
     "output_type": "stream",
     "text": [
      "боженька когда дочь шлюха что делать.сама тварь не живёт и людям не дает\n",
      "- боженька когда дочь не живет и людям не дает\n",
      "- боженька когда дочь плохая что делать. сама не живет и людям не дает\n",
      "- боженька когда дочь плохая что делать.сама не живет и людям не дает\n",
      "- боженька когда дочь не живет что делать. сама не живет и людям не дает\n",
      "- боженька когда дочь не живет что делать.сама не живет и людям не дает\n",
      "- боженька когда дочь не живёт и людям не дает\n",
      "- боженька когда дочь плохая что делать.сам не живет и людям не дает\n",
      "- боженька когда дочь не живёт что делать. сама не живёт и людям не даёт\n",
      "- боженька когда дочь не живет что делать.сам не живет и людям не дает\n",
      "- боженька когда дочь нехорошая что делать. сама не живет и людям не дает\n",
      "---> боженька когда дочь нехорошая что делать. сама не живет и людям не дает\n"
     ]
    },
    {
     "name": "stderr",
     "output_type": "stream",
     "text": [
      " 86%|████████▌ | 689/800 [04:18<00:54,  2.03it/s]"
     ]
    },
    {
     "name": "stdout",
     "output_type": "stream",
     "text": [
      "Меж Адом и Раем раскинуло двух! В Аду Пятачок, а в Раю - Винни-Пух!\n",
      "- Меж Адом и Раем раскинуло двух! В Аду Пятачок, а в Раю - Винни-Пух!\n",
      "- Меж Адом и Раем раскинуло двух! В Аде Пятачок, а в Раю - Винни-Пух!\n",
      "- Между Адом и Раем раскинуло двух! В Аду Пятачок, а в Раю - Винни-Пух!\n",
      "- Между Адом и Раем раскинуло двух! В Аде Пятачок, а в Раю - Винни-Пух!\n",
      "- Меж Адом и Раем раскинуло двух! В Аду Пятачок, а в Раю Винни-Пух!\n",
      "- Меж Адом и Рай раскинуло двух! В Аду Пятачок, а в Раю - Винни-Пух!\n",
      "- Меж Адом и Раем раскинуло двух! В Аде Пятачок, а в Раю Винни-Пух!\n",
      "- между Адом и Раем раскинуло двух! В Аду Пятачок, а в Раю - Винни-Пух!\n",
      "- Меж Адом и Раем раскинуло двух! В Аду Пятачок, а в Раю - Винни-Пух\n",
      "- Между Адом и Раем раскинуло двух! В Аду Пятачок, а в Раю Винни-Пух!\n",
      "---> между Адом и Раем раскинуло двух! В Аду Пятачок, а в Раю - Винни-Пух!\n"
     ]
    },
    {
     "name": "stderr",
     "output_type": "stream",
     "text": [
      " 86%|████████▋ | 690/800 [04:18<00:51,  2.13it/s]"
     ]
    },
    {
     "name": "stdout",
     "output_type": "stream",
     "text": [
      "пидар ты со своими извинениями иди на ....,тебе люди этого не простят....\n",
      "- тебе люди этого не простят....\n",
      "- ты со своими извинениями иди на...., тебе люди этого не простят....\n",
      "- Тебе люди этого не простят\n",
      "- ты со своими извинениями иди на....,тебе люди этого не простят....\n",
      "- ты со своими извинениями иди на...., тебе люди этого не простят....\n",
      "- ты со своими извинениями иди на....,тебе люди этого не простят....\n",
      "- Ты со своими извинениями иди на...., тебе люди этого не простят....\n",
      "- тебе люди этого не простят\n",
      "- Не надо извиняться\n",
      "- ты со своими извинениями иди на.... тебе люди этого не простят....\n",
      "---> Ты со своими извинениями иди на...., тебе люди этого не простят....\n"
     ]
    },
    {
     "name": "stderr",
     "output_type": "stream",
     "text": [
      " 86%|████████▋ | 691/800 [04:19<00:47,  2.30it/s]"
     ]
    },
    {
     "name": "stdout",
     "output_type": "stream",
     "text": [
      "а ни чмошники орут и их всё равно абирают\n",
      "- а ни люди орут и их всё равно абирают\n",
      "- а не люди орут и их всё равно абирают\n",
      "- а ни плохие люди орут и их всё равно абирают\n",
      "- а они орут и их всё равно абирают\n",
      "- а ни люди кричат и их всё равно абирают\n",
      "- а ни люди орут и их все равно абирают\n",
      "- а не люди орут и их все равно абирают\n",
      "- а ни люди орут и их всё равно аберут\n",
      "- а не люди орут и их всё равно аберут\n",
      "- а ни люди орут и их всё равно отбирают\n",
      "---> а ни плохие люди орут и их всё равно абирают\n"
     ]
    },
    {
     "name": "stderr",
     "output_type": "stream",
     "text": [
      " 86%|████████▋ | 692/800 [04:19<00:44,  2.43it/s]"
     ]
    },
    {
     "name": "stdout",
     "output_type": "stream",
     "text": [
      "кто смотрит этого наливкина от одного его вида воротит..ублюдок херню несёт какую то\n",
      "- кто смотрит этого наливкина от одного его вида воротит\n",
      "- Кто смотрит этого Наливкина от одного его вида воротит\n",
      "- кто смотрит этого Наливкина от одного его вида воротит\n",
      "- кто смотрит этого наливкина от одного его вида воротит..\n",
      "- кто смотрит этого Наливкина от одного его вида воротит..\n",
      "- Кто смотрит этого наливкина от одного его вида воротит\n",
      "- Кто смотрит этого человека от одного его вида воротит\n",
      "- кто смотрит этого человека от одного его вида воротит\n",
      "- кто смотрит этого наливкина от одного его вида воротит...\n",
      "- Кто смотрит этого Наливайкина от одного его вида воротит\n",
      "---> кто смотрит этого наливкина от одного его вида воротит...\n"
     ]
    },
    {
     "name": "stderr",
     "output_type": "stream",
     "text": [
      " 87%|████████▋ | 693/800 [04:19<00:41,  2.61it/s]"
     ]
    },
    {
     "name": "stdout",
     "output_type": "stream",
     "text": [
      "ты больной 😷, кого строишь из себя никчёмный человечек???язык твой враг🤦‍♀️\n",
      "- кого ты строишь из себя\n",
      "- Кто ты?\n",
      "- кого строишь из себя\n",
      "- Ты больной. Кого строишь из себя?\n",
      "- Кто ты такой?\n",
      "- Кого ты строишь из себя?\n",
      "- Ты больной, кого строишь из себя?\n",
      "- кого строишь из себя?\n",
      "- кого ты строишь из себя?\n",
      "- ты больной,кого строишь из себя\n",
      "---> Ты больной, кого строишь из себя?\n"
     ]
    },
    {
     "name": "stderr",
     "output_type": "stream",
     "text": [
      " 87%|████████▋ | 694/800 [04:20<00:38,  2.74it/s]"
     ]
    },
    {
     "name": "stdout",
     "output_type": "stream",
     "text": [
      "а что ты еще в рот брала при ссср\n",
      "- а что ты еще в рот брала при ссср\n",
      "- А что ты ещё в рот брала при ссср\n",
      "- а что ты еще брала при ссср\n",
      "- А что ты еще в рот брала при ссср\n",
      "- а что ты еще в рот брала\n",
      "- А что ты ещё брала при СССР\n",
      "- А что ты ещё в рот брала при СССР\n",
      "- А что ты ещё в рот брала?\n",
      "- А что ты ещё брала при ссср\n",
      "- А что ты еще брала при СССР\n",
      "---> А что ты ещё в рот брала при СССР\n"
     ]
    },
    {
     "name": "stderr",
     "output_type": "stream",
     "text": [
      " 87%|████████▋ | 695/800 [04:20<00:35,  2.94it/s]"
     ]
    },
    {
     "name": "stdout",
     "output_type": "stream",
     "text": [
      "только дебил может так назвать своего ребёнка. 😜\n",
      "- Только человек может так назвать своего ребёнка\n",
      "- только человек может так назвать своего ребёнка\n",
      "- Только глупый человек может так назвать своего ребёнка\n",
      "- Только человек может так назвать своего ребенка\n",
      "- Только он может так назвать своего ребёнка\n",
      "- Только глупец может так назвать своего ребёнка\n",
      "- Только плохой человек может так назвать своего ребёнка\n",
      "- Только человек может так назвать своего ребёнка.\n",
      "- Только ненормальный может так назвать своего ребёнка\n",
      "- только глупый человек может так назвать своего ребёнка\n",
      "---> только глупый человек может так назвать своего ребёнка\n"
     ]
    },
    {
     "name": "stderr",
     "output_type": "stream",
     "text": [
      " 87%|████████▋ | 696/800 [04:20<00:36,  2.83it/s]"
     ]
    },
    {
     "name": "stdout",
     "output_type": "stream",
     "text": [
      "урод,пистолет тебе не для этого,лови таких же уродов как ты.\n",
      "- Пистолет тебе не для этого, лови таких же как ты\n",
      "- пистолет тебе не для этого,лови таких же как ты\n",
      "- пистолет тебе не для этого,лови таких же как ты.\n",
      "- Пистолет тебе не для этого, лови таких же людей как ты\n",
      "- Пистолет тебе не для этого,лови таких же как ты\n",
      "- пистолет тебе не для этого,лови таких же людей как ты.\n",
      "- Пистолет тебе не для этого, лови таких же людей\n",
      "- Пистолет тебе не для этого, лови таких же.\n",
      "- Пистолет тебе не для этого,лови таких же людей как ты\n",
      "- Пистолет тебе не для этого,лови таких же как ты.\n",
      "---> пистолет тебе не для этого,лови таких же людей как ты.\n"
     ]
    },
    {
     "name": "stderr",
     "output_type": "stream",
     "text": [
      " 87%|████████▋ | 697/800 [04:21<00:42,  2.42it/s]"
     ]
    },
    {
     "name": "stdout",
     "output_type": "stream",
     "text": [
      "патамушто эти жиди искажают нашу и вашу исторую ми ариеци и за ето нас не лубять эти жд\n",
      "- Потому что они искажают нашу и вашу историю.\n",
      "- Потому что эти люди искажают нашу и вашу историю.\n",
      "- потому что они искажают нашу и вашу исторую и за это нас не любят\n",
      "- потому что эти люди искажают нашу и вашу исторую и за это нас не любят\n",
      "- патамушто эти люди искажают нашу и вашу исторую ми ариеци и за это нас не любят\n",
      "- патамушто они искажают нашу и вашу исторую и за это нас не любят\n",
      "- патамушто эти люди искажают нашу и вашу исторую и за это нас не любят\n",
      "- патамушто они искажают нашу и вашу исторую ми ариеци и за это нас не любят\n",
      "- патамушто эти люди искажают нашу и вашу исторую ми ариеци и за это нас не лубять\n",
      "- патамушто эти люди искажают нашу и вашу иструю ми ариеци и за это нас не любят\n",
      "---> патамушто эти люди искажают нашу и вашу исторую ми ариеци и за это нас не лубять\n"
     ]
    },
    {
     "name": "stderr",
     "output_type": "stream",
     "text": [
      " 87%|████████▋ | 698/800 [04:21<00:41,  2.46it/s]"
     ]
    },
    {
     "name": "stdout",
     "output_type": "stream",
     "text": [
      "Долго еще пропаганду тут будут пынинскую нести? Когда это блядь прекартится то??\n",
      "- Долго еще пропаганду тут будут пынинскую нести?\n",
      "- Долго ещё пропаганду тут будут пынинскую нести?\n",
      "- Долго еще пропаганду тут будут пынинскую нести\n",
      "- Долго ещё пропаганду тут будут пынинскую нести\n",
      "- Долго еще пропаганду тут будут пынинскую нести? Когда это закончится\n",
      "- Долго ещё пропаганду тут будут пынинскую нести? Когда это закончится\n",
      "- долго еще пропаганду тут будут пынинскую нести?\n",
      "- Долго еще пропаганду тут будут пынинскую нести? Когда это кончится\n",
      "- Долго ещё пропаганду тут будут пынинскую нести? Когда это кончится\n",
      "- Долго еще пропаганду тут будут пынинскую нести? Когда это закончится?\n",
      "---> Долго еще пропаганду тут будут пынинскую нести? Когда это закончится?\n"
     ]
    },
    {
     "name": "stderr",
     "output_type": "stream",
     "text": [
      " 87%|████████▋ | 699/800 [04:22<00:39,  2.59it/s]"
     ]
    },
    {
     "name": "stdout",
     "output_type": "stream",
     "text": [
      "ой, ну ты и дура твои тупые выводы ни кому не интересны.\n",
      "- Ой, ну ты и глупая твои выводы никому не интересны\n",
      "- Ой, ну ты и дура твои выводы никому не интересны\n",
      "- Ой, ну ты и глупая твои выводы никому не интересны.\n",
      "- Ой, ну ты и дура твои выводы никому не интересны.\n",
      "- Ой, ну ты и глупая, твои выводы никому не интересны\n",
      "- Ой, ну ты и дурак твои выводы никому не интересны\n",
      "- Ой, ну ты и дура, твои выводы никому не интересны\n",
      "- Ой, ну ты и дура ваши выводы никому не интересны\n",
      "- Ой, ну ты и глупы твои выводы никому не интересны\n",
      "- Ой, ну ты и глупая. Твои выводы никому не интересны\n",
      "---> Ой, ну ты и глупая. Твои выводы никому не интересны\n"
     ]
    },
    {
     "name": "stderr",
     "output_type": "stream",
     "text": [
      " 88%|████████▊ | 700/800 [04:22<00:40,  2.46it/s]"
     ]
    },
    {
     "name": "stdout",
     "output_type": "stream",
     "text": [
      "пиздешь чистой воды,задолбали в открытую народ тупорями считать!!есть и другие ее фото во время войны!!!\n",
      "- Докажи обратное\n",
      "- Задолбали в открытую народ считать!!есть и другие ее фото во время войны!!!\n",
      "- Задолбали в открытую народ считать!! Есть и другие ее фото во время войны!!!\n",
      "- Задолбали в открытую народ считать!! Есть и другие ее фото во время войны\n",
      "- Задолбали в открытую народ считать!!Есть и другие ее фото во время войны!!!\n",
      "- Задолбали в открытую народ считать!!есть и другие ее фото во время войны\n",
      "- Задолбали в открытую народ считать!!Есть и другие ее фото во время войны\n",
      "- Задолбали в открытую народ считать! Есть и другие ее фото во время войны\n",
      "- Задолбали в открытую народ считать!! есть и другие ее фото во время войны!!!\n",
      "- Задолбали в открытую народ считать! Есть и другие ее фото во время войны!!!\n",
      "---> Задолбали в открытую народ считать!! есть и другие ее фото во время войны!!!\n"
     ]
    },
    {
     "name": "stderr",
     "output_type": "stream",
     "text": [
      " 88%|████████▊ | 701/800 [04:22<00:37,  2.65it/s]"
     ]
    },
    {
     "name": "stdout",
     "output_type": "stream",
     "text": [
      "это святые птицы.нашел в кого стрелять.пидор!\n",
      "- это святые птицы.нашел в кого стрелять\n",
      "- Это святые птицы\n",
      "- Это святые птицы. Нашел в кого стрелять\n",
      "- это святые птицы.нашел в кого стрелять.\n",
      "- Это святые птицы.Нашел в кого стрелять\n",
      "- Это святые птицы. Нашёл в кого стрелять\n",
      "- Это святые птицы, нашел в кого стрелять\n",
      "- Это святые птицы, нашёл в кого стрелять\n",
      "- Это святые птицы.Нашёл в кого стрелять\n",
      "- Это святые птицы.нашел в кого стрелять\n",
      "---> Это святые птицы, нашёл в кого стрелять\n"
     ]
    },
    {
     "name": "stderr",
     "output_type": "stream",
     "text": [
      " 88%|████████▊ | 702/800 [04:23<00:35,  2.74it/s]"
     ]
    },
    {
     "name": "stdout",
     "output_type": "stream",
     "text": [
      "ах тыж пидор свино-рылый,а ты забыл,что ты зделал с украиной?\n",
      "- а ты забыл,что ты сделал с украиной?\n",
      "- А ты забыл, что ты сделал с Украиной\n",
      "- а ты забыл,что ты сделал с украиной\n",
      "- ты забыл,что ты сделал с украиной?\n",
      "- а ты забыл,что ты с украиной сделал\n",
      "- А ты забыл, что ты сделал с Украиной?\n",
      "- Ты забыл, что ты сделал с Украиной\n",
      "- А ты забыл что ты сделал с Украиной\n",
      "- А ты забыл, что ты сделал с украиной\n",
      "- а ты забыл, что ты сделал с украиной?\n",
      "---> а ты забыл, что ты сделал с украиной?\n"
     ]
    },
    {
     "name": "stderr",
     "output_type": "stream",
     "text": [
      " 88%|████████▊ | 703/800 [04:23<00:34,  2.84it/s]"
     ]
    },
    {
     "name": "stdout",
     "output_type": "stream",
     "text": [
      "надо брать пример из китая там запретили торговать книги этого подонка.\n",
      "- Надо брать пример из Китая\n",
      "- надо брать пример из китая там запретили торговать книги\n",
      "- Надо брать пример из Китая, там запретили торговать книги\n",
      "- Надо брать пример с Китая\n",
      "- Надо брать пример из китая, там запретили торговать книги\n",
      "- Надо брать пример из китая там запретили торговать книги\n",
      "- Надо брать пример с Китая, там запретили торговать книги\n",
      "- Надо брать пример из китая\n",
      "- Нужно брать пример из Китая\n",
      "- надо брать пример из китая там запретили торговать книги этого человека\n",
      "---> надо брать пример из китая там запретили торговать книги этого человека\n"
     ]
    },
    {
     "name": "stderr",
     "output_type": "stream",
     "text": [
      " 88%|████████▊ | 704/800 [04:24<00:36,  2.61it/s]"
     ]
    },
    {
     "name": "stdout",
     "output_type": "stream",
     "text": [
      "припиздиваете семья с 5 ребенком будет обходить митинги через 5 улиц. а эти суки пошли и ребенка подставили.\n",
      "- припиздите семья с 5 ребенком будет обходить митинги через 5 улиц.\n",
      "- припихиваете семья с 5 ребенком будет обходить митинги через 5 улиц.\n",
      "- Припихиваете семья с 5 ребенком будет обходить митинги через 5 улиц.\n",
      "- Придумываете семья с 5 ребенком будет обходить митинги через 5 улиц.\n",
      "- Вы говорите семья с 5 ребенком будет обходить митинги через 5 улиц.\n",
      "- Припиздите семья с 5 ребенком будет обходить митинги через 5 улиц.\n",
      "- припиздите семья с 5 ребенком будет обходить митинги через 5 улиц\n",
      "- Припихиваете семья с 5 ребёнком будет обходить митинги через 5 улиц.\n",
      "- припихиваете семья с 5 ребенком будет обходить митинги через 5 улиц\n",
      "- вы говорите семья с 5 ребенком будет обходить митинги через 5 улиц.\n",
      "---> Припихиваете семья с 5 ребёнком будет обходить митинги через 5 улиц.\n"
     ]
    },
    {
     "name": "stderr",
     "output_type": "stream",
     "text": [
      " 88%|████████▊ | 705/800 [04:24<00:39,  2.43it/s]"
     ]
    },
    {
     "name": "stdout",
     "output_type": "stream",
     "text": [
      "драю палубу с каким-то дебилом, потому что мы лучшие друзья!)))):-d﻿\n",
      "- драю палубу с каким-то человеком, потому что мы лучшие друзья!\n",
      "- драю палубу с каким-то человеком, потому что мы лучшие друзья\n",
      "- драю палубу с каким-то парнем, потому что мы лучшие друзья!\n",
      "- драю палубу с каким-то нехорошим человеком, потому что мы лучшие друзья!\n",
      "- Драю палубу с каким-то человеком, потому что мы лучшие друзья\n",
      "- драю палубу с каким-то парнем, потому что мы лучшие друзья\n",
      "- драю палубу с каким-то плохим человеком, потому что мы лучшие друзья!\n",
      "- драю палубу с каким то человеком, потому что мы лучшие друзья!\n",
      "- драю палубу с каким-то человеком, потому что мы лучшие друзья!)))):-d﻿\n",
      "- драю палубу с каким-то нехорошим человеком, потому что мы лучшие друзья\n",
      "---> драю палубу с каким-то нехорошим человеком, потому что мы лучшие друзья!\n"
     ]
    },
    {
     "name": "stderr",
     "output_type": "stream",
     "text": [
      " 88%|████████▊ | 706/800 [04:24<00:35,  2.65it/s]"
     ]
    },
    {
     "name": "stdout",
     "output_type": "stream",
     "text": [
      "так там процентов 70 ебаных украинцев и ебаных бялорусов\n",
      "- Так там процентов 70 украинцев\n",
      "- так там процентов 70 украинцев\n",
      "- Так там процентов 70 украинцев и белорусов\n",
      "- Там процентов 70 украинцев\n",
      "- Так там процентов 70 украинцев и украинцев\n",
      "- Так там украинцев и белорусов\n",
      "- Там процентов 70 украинцев и белорусов\n",
      "- так там процентов 70 украинцев и украинцев\n",
      "- так там процентов 70 украинцев и белорусов\n",
      "- Так там процентов 70 украинцев и белорусов\n",
      "---> Так там процентов 70 украинцев и белорусов\n"
     ]
    },
    {
     "name": "stderr",
     "output_type": "stream",
     "text": [
      " 88%|████████▊ | 707/800 [04:25<00:31,  2.91it/s]"
     ]
    },
    {
     "name": "stdout",
     "output_type": "stream",
     "text": [
      "ни хуя себе чучело, а где главный?????\n",
      "- А где главный\n",
      "- а где главный\n",
      "- А кто главный\n",
      "- Ничего себе, а где главный\n",
      "- Кто это?\n",
      "- Что за человек?\n",
      "- Что за человек, а где главный\n",
      "- а где главный?????\n",
      "- Ничего себе человек, а где главный\n",
      "- А где главный?\n",
      "---> Ничего себе человек, а где главный\n"
     ]
    },
    {
     "name": "stderr",
     "output_type": "stream",
     "text": [
      " 88%|████████▊ | 708/800 [04:25<00:34,  2.64it/s]"
     ]
    },
    {
     "name": "stdout",
     "output_type": "stream",
     "text": [
      "иди на хуй, пидор мокрожопый , я тебя не трогала , люблю россию и нашего президента в.в. путина.\n",
      "- я тебя не трогала, люблю россию и нашего президента\n",
      "- Я тебя не трогала, люблю Россию и нашего президента\n",
      "- я тебя не трогала, люблю россию и нашего президента\n",
      "- я тебя не трогала, люблю россию и нашего президента в.в.путина\n",
      "- я тебя не трогала, люблю россию и нашего президента в.в.путина.\n",
      "- я тебя не трогала, люблю россию и нашего президента в.в.путина\n",
      "- я тебя не трогала, люблю россию и нашего президента в.в. путина\n",
      "- Я тебя не трогала, люблю россию и нашего президента\n",
      "- я тебя не трогала, люблю россию и нашего президента в.в.путина.\n",
      "- я тебя не трогала, люблю россию и нашего президента в.в. путина.\n",
      "---> я тебя не трогала, люблю россию и нашего президента в.в. путина.\n"
     ]
    },
    {
     "name": "stderr",
     "output_type": "stream",
     "text": [
      " 89%|████████▊ | 709/800 [04:25<00:29,  3.04it/s]"
     ]
    },
    {
     "name": "stdout",
     "output_type": "stream",
     "text": [
      "да сколько же вас блядей\n",
      "- Сколько вас\n",
      "- Да сколько же вас\n",
      "- да сколько же вас\n",
      "- Сколько же вас\n",
      "- сколько же вас\n",
      "- сколько вас\n",
      "- Да сколько вас\n",
      "- да сколько вас\n",
      "- Как много вас\n",
      "- Да много вас\n",
      "---> да сколько же вас\n"
     ]
    },
    {
     "name": "stderr",
     "output_type": "stream",
     "text": [
      " 89%|████████▉ | 710/800 [04:26<00:33,  2.68it/s]"
     ]
    },
    {
     "name": "stdout",
     "output_type": "stream",
     "text": [
      "откуда берутся такие мрази как ты прежде чем отправлять на работу создай производство чтобы тебя отправить на колыму\n",
      "- откуда берутся такие люди как ты прежде чем отправлять на работу создай производство чтобы тебя отправить\n",
      "- откуда берутся такие люди как ты прежде чем отправлять на работу создай производство чтобы тебя отправить на колыму\n",
      "- откуда берутся такие люди как ты прежде чем отправлять на работу создай производство чтобы тебя отправить на север\n",
      "- откуда берутся такие люди как ты прежде чем отправлять на работу создай производство\n",
      "- откуда берутся такие люди как ты прежде чем отправлять на работу создай производство, чтобы тебя отправить\n",
      "- откуда берутся такие люди как ты прежде чем отправлять на работу создай производство чтобы тебя отправить на работу\n",
      "- откуда берутся такие плохие люди как ты прежде чем отправлять на работу создай производство чтобы тебя отправить\n",
      "- откуда берутся такие как ты прежде чем отправлять на работу создай производство чтобы тебя отправить\n",
      "- откуда берутся такие люди как ты раньше чем отправлять на работу создай производство чтобы тебя отправить\n",
      "- откуда берутся такие плохие люди как ты прежде чем отправлять на работу создай производство чтобы тебя отправить на колыму\n",
      "---> откуда берутся такие плохие люди как ты прежде чем отправлять на работу создай производство чтобы тебя отправить на колыму\n"
     ]
    },
    {
     "name": "stderr",
     "output_type": "stream",
     "text": [
      " 89%|████████▉ | 711/800 [04:26<00:29,  2.97it/s]"
     ]
    },
    {
     "name": "stdout",
     "output_type": "stream",
     "text": [
      "еще бы в октябре блядь открыл придурок .\n",
      "- Еще бы в октябре открыл\n",
      "- еще бы в октябре открыл\n",
      "- Ещё бы в октябре открыл\n",
      "- ещё бы в октябре открыл\n",
      "- Еще бы в октябре открывал\n",
      "- Еще бы в октябре открылся\n",
      "- Уже бы в октябре открыл\n",
      "- Еще бы в октябре открыл бы\n",
      "- Еще бы он открыл\n",
      "- еще бы в октябре открывал\n",
      "---> Еще бы в октябре открыл бы\n"
     ]
    },
    {
     "name": "stderr",
     "output_type": "stream",
     "text": [
      " 89%|████████▉ | 712/800 [04:27<00:33,  2.59it/s]"
     ]
    },
    {
     "name": "stdout",
     "output_type": "stream",
     "text": [
      "Правила и модераторы отсутствуют. А какого тогда хуя посты трут и банят? А вот и горелая скотоублюдина прибежала.\n",
      "- Правила и модераторы отсутствуют\n",
      "- Правила и модераторы отсутствуют. А какого тогда тогда посты и банят?\n",
      "- Правила и модераторы отсутствуют. А какого тогда  посты и банят?\n",
      "- Правила и модераторы отсутствуют. А чего тогда посты и банят?\n",
      "- Правила и модераторы отсутствуют. А какого тогда посты и банят?\n",
      "- Правила и модераторы отсутствуют. А какого тогда тогда посты трут и банят?\n",
      "- Правила и модераторы отсутствуют. А какого тогда тогда посты пишут и банят?\n",
      "- Правила и модераторы отсутствуют. А какого тогда тогда посты и банят? А вот и прибежала\n",
      "- Правила и модераторы отсутствуют. А какого тогда тогда посты и банят? А вот и прибежала.\n",
      "- Правила и модераторы отсутствуют. А какого тогда посты и банят? А вот и прибежала\n",
      "---> Правила и модераторы отсутствуют. А какого тогда тогда посты и банят? А вот и прибежала.\n"
     ]
    },
    {
     "name": "stderr",
     "output_type": "stream",
     "text": [
      " 89%|████████▉ | 713/800 [04:27<00:35,  2.45it/s]"
     ]
    },
    {
     "name": "stdout",
     "output_type": "stream",
     "text": [
      "почитаешь комментарии, вроде все всё понимают, нет, всё равно надо испортить, сломать украсть. поубивал бы сука выродков этих.\n",
      "- почитаешь комментарии, вроде все всё понимают, нет, всё равно надо испортить\n",
      "- почитаешь комментарии вроде все всё понимают, нет, всё равно надо испортить\n",
      "- Почитаешь комментарии, вроде все всё понимают, нет, всё равно надо испортить\n",
      "- почитаешь комментарии, вроде все всё понимают, нет, всё равно надо испортить, сломать разрушить\n",
      "- почитаешь комментарии, вроде все всё понимают, нет, всё равно надо сломать\n",
      "- почитаешь комментарии, вроде все всё понимают\n",
      "- почитаешь комментарии, вроде все всё понимают, нет, всё равно надо разрушить\n",
      "- почитаешь комментарии, вроде все всё понимают, нет, всё равно надо испортить, сломать\n",
      "- почитаешь комментарии, вроде все всё понимают, нет, всё равно надо испортить, сломать.\n",
      "- почитаешь комментарии, вроде всё всё понимают, нет, всё равно надо испортить\n",
      "---> почитаешь комментарии, вроде все всё понимают, нет, всё равно надо испортить, сломать разрушить\n"
     ]
    },
    {
     "name": "stderr",
     "output_type": "stream",
     "text": [
      " 89%|████████▉ | 714/800 [04:27<00:38,  2.26it/s]"
     ]
    },
    {
     "name": "stdout",
     "output_type": "stream",
     "text": [
      "не хуй рыпатся отдыхать в турцию итп, своих курортов до фига, а турки блять в натуре гниды черножопые fauck 🖕🖕🖕👎👎👎\n",
      "- Не надо ехать отдыхать в Турцию\n",
      "- Нечего там делать\n",
      "- нечего рыпаться отдыхать в турцию итп, своих курортов до фига\n",
      "- нечего рыпаться отдыхать в турцию итп, своих курортов дофига\n",
      "- Нечего отдыхать в Турцию, своих курортов дофига\n",
      "- нечего рыпаться отдыхать в турцию итп, своих курортов до фига, а турки плохие\n",
      "- Не надо рыпаться отдыхать в Турцию, своих курортов дофига\n",
      "- нечего рыпаться отдыхать в турцию итп, своих курортов дофига, а турки плохие\n",
      "- Не надо ехать отдыхать в Турцию, своих курортов дофига\n",
      "- Не надо рыпаться отдыхать в Турцию, своих курортов до фига\n",
      "---> нечего рыпаться отдыхать в турцию итп, своих курортов до фига, а турки плохие\n"
     ]
    },
    {
     "name": "stderr",
     "output_type": "stream",
     "text": [
      " 89%|████████▉ | 715/800 [04:28<00:34,  2.49it/s]"
     ]
    },
    {
     "name": "stdout",
     "output_type": "stream",
     "text": [
      "гнать их надо пидарасов толку нету от них\n",
      "- Надо их наказать\n",
      "- Гнать их надо\n",
      "- Их надо наказать\n",
      "- Наказать их надо\n",
      "- гнать их надо толку нету от них\n",
      "- Наказать их нужно\n",
      "- Гнать их надо, толку нет от них\n",
      "- надо их гнать толку нету от них\n",
      "- Наказать их надо, толку нет от них\n",
      "- надо их гнать толку нет от них\n",
      "---> Наказать их надо, толку нет от них\n"
     ]
    },
    {
     "name": "stderr",
     "output_type": "stream",
     "text": [
      " 90%|████████▉ | 716/800 [04:28<00:32,  2.61it/s]"
     ]
    },
    {
     "name": "stdout",
     "output_type": "stream",
     "text": [
      "тренируйся чаще чмо хохлосраное !! только не скачи высоко !\n",
      "- тренируйся чаще\n",
      "- Тренируйся чаще\n",
      "- тренируйся чаще!! только не скачи высоко!\n",
      "- Тренируйся больше\n",
      "- тренируйся чаще! только не скачи высоко!\n",
      "- Тренируйся чаще, только не скачи высоко\n",
      "- Только не скачи высоко\n",
      "- тренируйся чаще, только не скачи высоко\n",
      "- только не скачи высоко!\n",
      "- тренируйся чаще!\n",
      "---> тренируйся чаще!! только не скачи высоко!\n"
     ]
    },
    {
     "name": "stderr",
     "output_type": "stream",
     "text": [
      " 90%|████████▉ | 717/800 [04:28<00:27,  3.00it/s]"
     ]
    },
    {
     "name": "stdout",
     "output_type": "stream",
     "text": [
      "пошел на куй , тварь\n",
      "- Уйди\n",
      "- Уходи\n",
      "- Отстань\n",
      "- Ушёл\n",
      "- Пошёл\n",
      "- Плохой человек\n",
      "- Ушел\n",
      "- Уйдите\n",
      "- Уймись\n",
      "- Уйду\n",
      "---> Плохой человек\n"
     ]
    },
    {
     "name": "stderr",
     "output_type": "stream",
     "text": [
      " 90%|████████▉ | 718/800 [04:29<00:25,  3.23it/s]"
     ]
    },
    {
     "name": "stdout",
     "output_type": "stream",
     "text": [
      "езжай к себе в самару долбоеб\n",
      "- езжай к себе\n",
      "- езжай в самару\n",
      "- езжай домой\n",
      "- езжай к себе в самару\n",
      "- Уезжай в Самару\n",
      "- езжай к себе в Самару\n",
      "- Езжай в Самару\n",
      "- Иди к себе\n",
      "- Уезжай к себе\n",
      "- езжай в самар\n",
      "---> езжай к себе в Самару\n"
     ]
    },
    {
     "name": "stderr",
     "output_type": "stream",
     "text": [
      " 90%|████████▉ | 719/800 [04:29<00:27,  2.93it/s]"
     ]
    },
    {
     "name": "stdout",
     "output_type": "stream",
     "text": [
      "долбоебы кроме россии кто ваши белазы покупать будет у европы свои заводы есть\n",
      "- кроме россии кто ваши белазы покупать будет у европы свои заводы есть\n",
      "- кроме россии кто ваши машины покупать будет у европы свои заводы есть\n",
      "- кроме россии кто ваши Белазы покупать будет у европы свои заводы есть\n",
      "- кроме россии кто ваши белорусы покупать будет у европы свои заводы есть\n",
      "- Россия кроме России кто ваши машины покупать будет у европы свои заводы есть\n",
      "- кроме россии кто ваши  Белазы покупать будет у европы свои заводы есть\n",
      "- кроме россии кто ваши белазы покупать будет у европы свои заводы есть\n",
      "- кроме россии кто ваши  белазы покупать будет у европы свои заводы есть\n",
      "- кроме россии кто ваши белазы покупать будет у европы свои заводы\n",
      "- кто кроме россии кто ваши белазы покупать будет у европы свои заводы есть\n",
      "---> Россия кроме России кто ваши машины покупать будет у европы свои заводы есть\n"
     ]
    },
    {
     "name": "stderr",
     "output_type": "stream",
     "text": [
      " 90%|█████████ | 720/800 [04:29<00:26,  2.98it/s]"
     ]
    },
    {
     "name": "stdout",
     "output_type": "stream",
     "text": [
      "Есть и такие на самом деле, только нахуй нужно?\n",
      "- Есть и такие на самом деле, нужно?\n",
      "- Есть и такие на самом деле, зачем нужно?\n",
      "- Есть и такие на самом деле\n",
      "- Есть и такие на самом деле, только зачем?\n",
      "- Есть и такие на самом деле, зачем нужно\n",
      "- Есть и такие на самом деле, только нужно?\n",
      "- Есть и такие на самом деле?\n",
      "- Есть и такие на самом деле, только не нужно\n",
      "- Есть и такие на самом деле, только зачем нужно?\n",
      "- Есть и такие на самом деле, но зачем?\n",
      "---> Есть и такие на самом деле, только зачем нужно?\n"
     ]
    },
    {
     "name": "stderr",
     "output_type": "stream",
     "text": [
      " 90%|█████████ | 721/800 [04:30<00:26,  3.00it/s]"
     ]
    },
    {
     "name": "stdout",
     "output_type": "stream",
     "text": [
      "этого пидора бесплатно выучили в ссср! вырвать язык!\n",
      "- этого бесплатно выучили в ссср!\n",
      "- его бесплатно выучили в ссср!\n",
      "- этого человека бесплатно выучили в ссср!\n",
      "- Этого человека бесплатно выучили в СССР\n",
      "- Этого бесплатно выучили в СССР\n",
      "- Этого человека бесплатно выучили в СССР!\n",
      "- Этого бесплатно выучили в ссср!\n",
      "- Этого человека бесплатно выучили в ссср!\n",
      "- этого бесплатно выучили в ссср\n",
      "- Его бесплатно выучили в СССР\n",
      "---> Этого человека бесплатно выучили в ссср!\n"
     ]
    },
    {
     "name": "stderr",
     "output_type": "stream",
     "text": [
      " 90%|█████████ | 722/800 [04:30<00:24,  3.24it/s]"
     ]
    },
    {
     "name": "stdout",
     "output_type": "stream",
     "text": [
      "эта падла дохуя в чём виновен8oi\n",
      "- Он виноват\n",
      "- Он много в чём виноват\n",
      "- Он много в чем виноват\n",
      "- Он очень много в чём виноват\n",
      "- Он в чём виноват\n",
      "- В чем он виноват\n",
      "- Он очень много в чем виноват\n",
      "- Он в чем виноват\n",
      "- он много в чём виноват\n",
      "- он очень много в чём виноват\n",
      "---> он очень много в чём виноват\n"
     ]
    },
    {
     "name": "stderr",
     "output_type": "stream",
     "text": [
      " 90%|█████████ | 723/800 [04:30<00:28,  2.70it/s]"
     ]
    },
    {
     "name": "stdout",
     "output_type": "stream",
     "text": [
      "когда путин заявил что борис ельцын для него является примером-всем стало всё понятно кроме таких долбоёбов как ты.\n",
      "- когда путин заявил что борис ельцын для него является примером-всем стало всё понятно\n",
      "- Когда Путин заявил что Борис Ельцын для него является примером-всем стало всё понятно\n",
      "- Когда Путин заявил что Борис Ельцин для него является примером-всем стало всё понятно\n",
      "- Когда Путин заявил что борис ельцын для него является примером-всем стало всё понятно\n",
      "- Когда Путин заявил, что Борис Ельцин для него является примером-всем стало всё понятно\n",
      "- Когда Путин заявил что Ельцын для него является примером-всем стало всё понятно\n",
      "- Когда Путин заявил, что Борис Ельцын для него является примером-всем стало всё понятно\n",
      "- Когда Путин заявил что Ельцин для него является примером-всем стало всё понятно\n",
      "- Когда Путин заявил, что Борис Ельцин для него является примером, всем стало всё понятно\n",
      "- когда путин заявил что борис ельцын для него является примером-всем стало всё понятно.\n",
      "---> Когда Путин заявил, что Борис Ельцин для него является примером, всем стало всё понятно\n"
     ]
    },
    {
     "name": "stderr",
     "output_type": "stream",
     "text": [
      " 90%|█████████ | 724/800 [04:31<00:31,  2.39it/s]"
     ]
    },
    {
     "name": "stdout",
     "output_type": "stream",
     "text": [
      "да..извените за мат...21 век на дворе а долбоёбов безграмотных всё больше:| :|\n",
      "- Извините за мат\n",
      "- да..извените за мат...21 век на дворе а людей безграмотных всё больше\n",
      "- да..извените за мат...21 век на дворе а людей безграмотных всё больше:| :|\n",
      "- Извините за мат, 21 век на дворе\n",
      "- Извините за мат.21 век на дворе\n",
      "- да..извените за мат...21 век на дворе а безграмотных всё больше\n",
      "- Да извините за мат\n",
      "- да..извените за мат...21 век на дворе а люди безграмотные всё больше\n",
      "- да..извените за мат...21 век на дворе а глупых людей всё больше\n",
      "- да..извените за мат...21 век на дворе а неграмотных всё больше\n",
      "---> да..извените за мат...21 век на дворе а людей безграмотных всё больше:| :|\n"
     ]
    },
    {
     "name": "stderr",
     "output_type": "stream",
     "text": [
      " 91%|█████████ | 725/800 [04:31<00:29,  2.57it/s]"
     ]
    },
    {
     "name": "stdout",
     "output_type": "stream",
     "text": [
      "Если жрать много мандаринов, дристать будешь дальше чем видишь.\n",
      "- Если много есть мандаринов, будешь дальше чем видишь\n",
      "- Если есть много мандаринов, будешь дальше чем видишь\n",
      "- Если много есть мандаринов будешь дальше чем видишь\n",
      "- Если много мандаринов, будешь дальше чем видишь\n",
      "- Если много есть мандаринов, будешь дальше видеть\n",
      "- Если много есть мандаринов, то будешь дальше чем видишь\n",
      "- Если есть много мандаринов, будешь дальше видеть\n",
      "- Если есть много мандаринов, то будешь дальше чем видишь\n",
      "- Если много есть мандаринов, будешь дальше, чем видишь\n",
      "- Если кушать много мандаринов, будешь дальше чем видишь\n",
      "---> Если есть много мандаринов, то будешь дальше чем видишь\n"
     ]
    },
    {
     "name": "stderr",
     "output_type": "stream",
     "text": [
      " 91%|█████████ | 726/800 [04:32<00:27,  2.73it/s]"
     ]
    },
    {
     "name": "stdout",
     "output_type": "stream",
     "text": [
      "Ух сука, меня аж прижало, еду удержался\n",
      "- Меня аж прижало, еду удержался\n",
      "- меня аж прижало, еду удержался\n",
      "- Меня аж прижало, еду держался\n",
      "- Ух, меня аж прижало, еду удержался\n",
      "- Меня аж прижало, еду выдержал\n",
      "- У меня аж прижало, еду удержался\n",
      "- Меня аж поджало, еду удержался\n",
      "- Меня аж прижало, еду остался\n",
      "- Меня прям прижало, еду удержался\n",
      "- Меня аж прижало, еду удержался\n",
      "---> Ух, меня аж прижало, еду удержался\n"
     ]
    },
    {
     "name": "stderr",
     "output_type": "stream",
     "text": [
      " 91%|█████████ | 727/800 [04:32<00:31,  2.31it/s]"
     ]
    },
    {
     "name": "stdout",
     "output_type": "stream",
     "text": [
      "Или у вас савдеповский таз, или я хз, но инструкции к авто я в глаза не видел в новых машинах.\n",
      "- Или у вас савдеповский таз, или я не знаю, но инструкции к авто я в глаза не видел в новых машинах\n",
      "- Или у вас савдеповский таз, или я не знаю, но инструкции к авто я в глаза не видел в новых машинах.\n",
      "- или я не знаю, но инструкции к авто я в глаза не видел в новых машинах\n",
      "- Или у вас савдеповский таз, или я незнаю, но инструкции к авто я в глаза не видел в новых машинах\n",
      "- Или у вас савдеповский таз, или я не знаю, но инструкции к авто я в глаза не видел в новых автомобилях\n",
      "- или у вас савдеповский таз, или я не знаю, но инструкции к авто я в глаза не видел в новых машинах\n",
      "- Или у вас савдеповский таз, или я не знаю\n",
      "- или я не знаю, но инструкции к авто я в глаза не видел в новых машинах.\n",
      "- Или у вас плохой таз, или я не знаю, но инструкции к авто я в глаза не видел в новых машинах\n",
      "- Или у вас савдеповский таз, или я не знаю, но инструкции я в глаза не видел в новых машинах\n",
      "---> Или у вас савдеповский таз, или я не знаю, но инструкции к авто я в глаза не видел в новых автомобилях\n"
     ]
    },
    {
     "name": "stderr",
     "output_type": "stream",
     "text": [
      " 91%|█████████ | 728/800 [04:33<00:29,  2.47it/s]"
     ]
    },
    {
     "name": "stdout",
     "output_type": "stream",
     "text": [
      "как же любят чуркобесы свои автопортреты всюду лепить...\n",
      "- как же любят они свои автопортреты всюду лепить...\n",
      "- как же любят они свои автопортреты повсюду лепить...\n",
      "- Как же любят они свои автопортреты повсюду лепить\n",
      "- Как же любят они свои автопортреты всюду лепить\n",
      "- Как же любят они свои автопортреты повсюду лепить...\n",
      "- Как же любят они свои автопортреты всюду лепить...\n",
      "- как же любят они свои автопортреты везде лепить...\n",
      "- как же любят они свои автопортреты всюду лепить\n",
      "- Как же любят они свои автопортреты везде лепить\n",
      "- Как же они любят свои автопортреты повсюду лепить\n",
      "---> Как же любят они свои автопортреты повсюду лепить...\n"
     ]
    },
    {
     "name": "stderr",
     "output_type": "stream",
     "text": [
      " 91%|█████████ | 729/800 [04:33<00:31,  2.24it/s]"
     ]
    },
    {
     "name": "stdout",
     "output_type": "stream",
     "text": [
      "ты просто пидор,а не немец.я за свои слова отвечу,а ты нет,потому что ты диванная мразь\n",
      "- ты просто плохой человек,а не немец.я за свои слова отвечу\n",
      "- Я за свои слова отвечу\n",
      "- я за свои слова отвечу\n",
      "- ты плохой человек,а не немец.я за свои слова отвечу\n",
      "- ты просто плохой человек,а не немец.я за свои слова отвечу,а ты нет,потому что ты диванный человек\n",
      "- ты просто плохой человек,а не немец\n",
      "- Ты плохой человек, а не немец. Я за свои слова отвечу\n",
      "- ты просто плохой человек,а не немец.я за свои слова отвечу,а ты нет,потому что ты диванная\n",
      "- ты плохой человек,а не немец.я за свои слова отвечу,а ты нет,потому что ты диванный человек\n",
      "- а ты не немец.я за свои слова отвечу\n",
      "---> ты просто плохой человек,а не немец.я за свои слова отвечу,а ты нет,потому что ты диванный человек\n"
     ]
    },
    {
     "name": "stderr",
     "output_type": "stream",
     "text": [
      " 91%|█████████▏| 730/800 [04:33<00:29,  2.39it/s]"
     ]
    },
    {
     "name": "stdout",
     "output_type": "stream",
     "text": [
      "для тебя жидовская сука сибирь не русская земля а для нас эта родина\n",
      "- Для тебя Сибирь не русская земля, а для нас эта родина\n",
      "- для тебя сибирь не русская земля а для нас эта родина\n",
      "- Для тебя Сибирь не русская земля а для нас эта родина\n",
      "- для тебя Сибирь не русская земля а для нас эта родина\n",
      "- Для тебя Сибирь не русская земля, а для нас эта земля\n",
      "- Для тебя Сибирь не русская земля, а для нас это родина\n",
      "- Для тебя Сибирь не Россия, а для нас эта родина\n",
      "- для тебя сибирская земля не русская земля а для нас эта родина\n",
      "- Для тебя Сибирь не русская земля,а для нас эта родина\n",
      "- Для тебя Сибирь не русская земля, а для нас эта Родина\n",
      "---> для тебя сибирская земля не русская земля а для нас эта родина\n"
     ]
    },
    {
     "name": "stderr",
     "output_type": "stream",
     "text": [
      " 91%|█████████▏| 731/800 [04:34<00:31,  2.19it/s]"
     ]
    },
    {
     "name": "stdout",
     "output_type": "stream",
     "text": [
      "народ, вы в своей группе такую хуйню допускаете? так вы тогда за обнуленыша, а не против. развели тут помойку\n",
      "- народ, вы в своей группе такую ерунду допускаете?\n",
      "- народ, вы в своей группе такую ерунду допускаете? так вы тогда за обнуленыша, а не против.\n",
      "- народ, вы в своей группе такую ерунду допускаете? так вы тогда за него, а не против.\n",
      "- народ, вы в своей группе такую ерунду допускаете? так вы тогда за обнуленыша\n",
      "- Народ, вы в своей группе такую ерунду допускаете? Так вы тогда за него, а не против.\n",
      "- Народ, вы в своей группе такую ерунду допускаете? Так вы тогда за обнуленыша, а не против.\n",
      "- народ, вы в своей группе такую ерунду допускаете? Так вы тогда за него, а не против.\n",
      "- народ, вы в своей группе такую ерунду допускаете? Так вы тогда за обнуленыша, а не против.\n",
      "- Народ, вы в своей группе такую ерунду допускаете? Так вы тогда за обнуленыша\n",
      "- народ, вы в своей группе такую ерунду допускаете? так вы тогда за необнуленыша, а не против.\n",
      "---> народ, вы в своей группе такую ерунду допускаете? так вы тогда за необнуленыша, а не против.\n"
     ]
    },
    {
     "name": "stderr",
     "output_type": "stream",
     "text": [
      " 92%|█████████▏| 732/800 [04:34<00:26,  2.53it/s]"
     ]
    },
    {
     "name": "stdout",
     "output_type": "stream",
     "text": [
      "такой твари не место у власти\n",
      "- такому человеку не место у власти\n",
      "- Такому человеку не место у власти\n",
      "- Ему не место у власти\n",
      "- Не место ему у власти\n",
      "- такому не место у власти\n",
      "- не место ему у власти\n",
      "- Не место у власти\n",
      "- ему не место у власти\n",
      "- Ей не место у власти\n",
      "- Такому человеку не место у власти.\n",
      "---> Такому человеку не место у власти.\n"
     ]
    },
    {
     "name": "stderr",
     "output_type": "stream",
     "text": [
      " 92%|█████████▏| 733/800 [04:35<00:26,  2.53it/s]"
     ]
    },
    {
     "name": "stdout",
     "output_type": "stream",
     "text": [
      "не выбирать надо,а расстреливать тех кто создаёт товар во вред покупателю\n",
      "- не выбирать надо,а наказывать тех кто создаёт товар во вред покупателю\n",
      "- не выбирать надо,а наказывать тех кто создает товар во вред покупателю\n",
      "- Не выбирать надо, а наказывать тех кто создаёт товар во вред покупателю\n",
      "- Не выбирать надо, а наказывать тех кто создает товар во вред покупателю\n",
      "- не выбирать надо, а наказывать тех кто создаёт товар во вред покупателю\n",
      "- не выбирать надо, а наказывать тех кто создает товар во вред покупателю\n",
      "- Не выбирать надо,а наказывать тех кто создаёт товар во вред покупателю\n",
      "- Не выбирать надо, а наказывать тех кто производит товар во вред покупателю\n",
      "- Не выбирать надо, а наказывать тех кто делает товар во вред покупателю\n",
      "- Не выбирать надо, а наказывать тех, кто создаёт товар во вред покупателю\n",
      "---> Не выбирать надо, а наказывать тех кто производит товар во вред покупателю\n"
     ]
    },
    {
     "name": "stderr",
     "output_type": "stream",
     "text": [
      " 92%|█████████▏| 734/800 [04:35<00:23,  2.83it/s]"
     ]
    },
    {
     "name": "stdout",
     "output_type": "stream",
     "text": [
      "ебланская власть, , еблансские законы.\n",
      "- Власть плохая\n",
      "- Плохая власть\n",
      "- власть плохая\n",
      "- Плохие законы\n",
      "- Неправильные законы\n",
      "- неправильные законы\n",
      "- Незаконные законы\n",
      "- власть,, плохие законы\n",
      "- Власть, плохие законы\n",
      "- власть, плохие законы\n",
      "---> власть,, плохие законы\n"
     ]
    },
    {
     "name": "stderr",
     "output_type": "stream",
     "text": [
      " 92%|█████████▏| 735/800 [04:36<00:29,  2.19it/s]"
     ]
    },
    {
     "name": "stdout",
     "output_type": "stream",
     "text": [
      "спасибо, александр,все правильно.но эти придурки не умеют и не хотят видеть хорошего,им хоть лоб разбей-будут гавкать как все плохо.\n",
      "- спасибо, александр,все правильно.но эти люди не умеют и не хотят видеть хорошего\n",
      "- спасибо, александр,все правильно.но эти люди не умеют и не хотят видеть хорошего,им хоть лоб разбей-будут гавкать как все плохо\n",
      "- Спасибо, Александр, все правильно, но эти люди не умеют и не хотят видеть хорошего\n",
      "- Спасибо, Александр, все правильно. Но эти люди не умеют и не хотят видеть хорошего\n",
      "- Спасибо, Александр, всё правильно, но эти люди не умеют и не хотят видеть хорошего\n",
      "- спасибо, александр,все правильно.но эти не умеют и не хотят видеть хорошего\n",
      "- спасибо, александр,все правильно.но эти люди не умеют и не хотят видеть хорошего,им хоть лоб разбей-будут гавкать как все плохо.\n",
      "- Спасибо, Александр, все правильно, но они не умеют и не хотят видеть хорошего\n",
      "- спасибо, александр,все правильно.но эти люди не умеют и не хотят видеть хорошего,им хоть лоб разбей-будут говорить как все плохо\n",
      "- спасибо, александр,все правильно.но эти люди не умеют и не хотят видеть хорошего,им хоть лоб разбей-будут кричать как все плохо\n",
      "---> спасибо, александр,все правильно.но эти люди не умеют и не хотят видеть хорошего,им хоть лоб разбей-будут говорить как все плохо\n"
     ]
    },
    {
     "name": "stderr",
     "output_type": "stream",
     "text": [
      " 92%|█████████▏| 736/800 [04:36<00:29,  2.17it/s]"
     ]
    },
    {
     "name": "stdout",
     "output_type": "stream",
     "text": [
      "европа может быть и жопа ,россия вроде голова , а чувствуешь себя как будто в жопе\n",
      "- европа может быть и не очень,россия вроде голова, а чувствуешь себя как будто в жопе\n",
      "- Европа может быть и не очень,россия вроде голова, а чувствуешь себя как будто в жопе\n",
      "- Европа может быть и не очень, Россия вроде голова, а чувствуешь себя как будто в жопе\n",
      "- европа может быть и плохая,россия вроде голова, а чувствуешь себя как будто в жопе\n",
      "- европа может быть и плохая,россия вроде голова, а чувствуешь себя как будто в жопе\n",
      "- Европа может быть и не очень, Россия вроде голова, а чувствуешь себя как будто в заднице\n",
      "- европа может быть и не очень,россия вроде голова,а чувствуешь себя как будто в жопе\n",
      "- Европа может быть и плохая, Россия вроде голова, а чувствуешь себя как будто в жопе\n",
      "- Европа может быть и не очень,россия вроде голова,а чувствуешь себя как будто в жопе\n",
      "- Европа может быть и не очень,россия вроде голова, а чувствуешь себя как будто в жопе\n",
      "---> Европа может быть и не очень, Россия вроде голова, а чувствуешь себя как будто в заднице\n"
     ]
    },
    {
     "name": "stderr",
     "output_type": "stream",
     "text": [
      " 92%|█████████▏| 737/800 [04:36<00:25,  2.49it/s]"
     ]
    },
    {
     "name": "stdout",
     "output_type": "stream",
     "text": [
      "отсосут они!!! белорусы не предадут\n",
      "- Белоруссы не предадут\n",
      "- Белорусы не предадут\n",
      "- Они не предадут\n",
      "- Беларусы не предадут\n",
      "- Они предадут\n",
      "- Белоруссы не изменят\n",
      "- Не предадут белорусы\n",
      "- Предадут белорусы\n",
      "- Украинцы не предадут\n",
      "- белоруссы не предадут\n",
      "---> белоруссы не предадут\n"
     ]
    },
    {
     "name": "stderr",
     "output_type": "stream",
     "text": [
      " 92%|█████████▏| 738/800 [04:37<00:22,  2.81it/s]"
     ]
    },
    {
     "name": "stdout",
     "output_type": "stream",
     "text": [
      "сколько дебилов живет в стране ...\n",
      "- сколько людей живет в стране\n",
      "- Сколько людей живет в стране\n",
      "- Сколько людей живёт в стране\n",
      "- сколько их живет в стране\n",
      "- сколько людей живет в стране...\n",
      "- Сколько их живет в стране\n",
      "- сколько человек живет в стране\n",
      "- сколько людей живёт в стране\n",
      "- Сколько людей живут в стране\n",
      "- сколько таких людей живет в стране\n",
      "---> сколько таких людей живет в стране\n"
     ]
    },
    {
     "name": "stderr",
     "output_type": "stream",
     "text": [
      " 92%|█████████▏| 739/800 [04:37<00:22,  2.68it/s]"
     ]
    },
    {
     "name": "stdout",
     "output_type": "stream",
     "text": [
      "такие же чувства пидоры эти спортсмены как и наши, которые в думе сидят.\n",
      "- такие же чувства эти спортсмены как и наши, которые в думе сидят\n",
      "- такие же чувства эти спортсмены как и наши, которые в думе сидят.\n",
      "- такие же чувства, эти спортсмены как и наши, которые в думе сидят\n",
      "- Такие же чувства эти спортсмены как и наши, которые в думе сидят\n",
      "- такие же чувства эти спортсмены, как и наши, которые в думе сидят\n",
      "- такие же чувства эти спортсмены как и наши\n",
      "- Такие же чувства эти спортсмены, как и наши, которые в думе сидят\n",
      "- такие же чувства это спортсмены как и наши, которые в думе сидят\n",
      "- такие же чувства эти спортсмены как и наши,которые в думе сидят\n",
      "- такие же чувства, эти спортсмены, как и наши, которые в думе сидят\n",
      "---> такие же чувства, эти спортсмены, как и наши, которые в думе сидят\n"
     ]
    },
    {
     "name": "stderr",
     "output_type": "stream",
     "text": [
      " 92%|█████████▎| 740/800 [04:37<00:20,  2.88it/s]"
     ]
    },
    {
     "name": "stdout",
     "output_type": "stream",
     "text": [
      "на жестокость, надо отвечать жестокостью. твари\n",
      "- На жестокость надо отвечать жестоко\n",
      "- на жестокость, надо отвечать жестокостью\n",
      "- На жестокость, надо отвечать жестоко\n",
      "- На жестокость нужно отвечать жестоко\n",
      "- на жестокость, надо отвечать жестоко\n",
      "- На жестокость, надо отвечать жестокостью\n",
      "- на жестокость, надо отвечать жестокостю\n",
      "- на жестокость, надо отвечать жестокостью.\n",
      "- На жестокость, надо отвечать жестокостю\n",
      "- на жестокость надо отвечать жестоко\n",
      "---> на жестокость, надо отвечать жестокостью.\n"
     ]
    },
    {
     "name": "stderr",
     "output_type": "stream",
     "text": [
      " 93%|█████████▎| 741/800 [04:38<00:21,  2.80it/s]"
     ]
    },
    {
     "name": "stdout",
     "output_type": "stream",
     "text": [
      "ето не пацан а выродок котррый готов убивать людей детей\n",
      "- это не пацан а выродок, который готов убивать людей\n",
      "- Это не пацан, а выродок, который готов убивать людей\n",
      "- Это не мальчик, а выродок, который готов убивать людей\n",
      "- это не пацан, а выродок, который готов убивать людей\n",
      "- Это не парень, а выродок, который готов убивать людей\n",
      "- это не пацан а выродок\n",
      "- Это не человек, а выродок, который готов убивать людей\n",
      "- это не мальчик а выродок, который готов убивать людей\n",
      "- Это не мальчик а выродок, который готов убивать людей\n",
      "- это не пацан а выродок который готов убивать людей\n",
      "---> Это не человек, а выродок, который готов убивать людей\n"
     ]
    },
    {
     "name": "stderr",
     "output_type": "stream",
     "text": [
      " 93%|█████████▎| 742/800 [04:38<00:19,  2.92it/s]"
     ]
    },
    {
     "name": "stdout",
     "output_type": "stream",
     "text": [
      "мозгов нет со всем что-ли. идиота.\n",
      "- мозгов нет со всем что-ли\n",
      "- мозгов нет\n",
      "- Мозгов нет\n",
      "- Мозгов нет со всем что ли\n",
      "- Мозгов нет со всем что-ли\n",
      "- мозгов нет со всем что-ли.\n",
      "- мозгов нет со всем что ли\n",
      "- Мозгов нет со всем, что ли\n",
      "- Мозгов нет со всем\n",
      "- мозгов нет со всем, что-ли\n",
      "---> мозгов нет со всем, что-ли\n"
     ]
    },
    {
     "name": "stderr",
     "output_type": "stream",
     "text": [
      " 93%|█████████▎| 743/800 [04:38<00:22,  2.55it/s]"
     ]
    },
    {
     "name": "stdout",
     "output_type": "stream",
     "text": [
      "странно ты себя ведешь....юрьев дрочишь на клаву???? я фигею....\n",
      "- Странно ты себя ведёшь\n",
      "- Странно ты себя ведешь\n",
      "- Странно себя ведёшь\n",
      "- странно ты себя ведешь....юрьев на клаву???? я фигею....\n",
      "- Странно ты себя ведешь. Я в шоке\n",
      "- Странно ты себя ведёшь. Я в шоке\n",
      "- странно ты себя ведешь....я фигею\n",
      "- странно ты себя ведешь....юрьев дрочишь на клаву???? я фигею....\n",
      "- странно ты себя ведешь....юрьев на клаву???? я фигею\n",
      "- странно ты себя ведешь....юрьев на клаву???? я офигеваю....\n",
      "---> странно ты себя ведешь....юрьев дрочишь на клаву???? я фигею....\n"
     ]
    },
    {
     "name": "stderr",
     "output_type": "stream",
     "text": [
      " 93%|█████████▎| 744/800 [04:39<00:22,  2.45it/s]"
     ]
    },
    {
     "name": "stdout",
     "output_type": "stream",
     "text": [
      "эта шлюха публичная живет за счет отча! и это уебище че то тяфкает!!!!???\n",
      "- эта публичная живет за счет отча!\n",
      "- эта публичная живет за счет отчаяния!\n",
      "- эта женщина публичная живет за счет отча!\n",
      "- эта публичная живет за счёт отча!\n",
      "- эта девушка публичная живет за счет отча!\n",
      "- она публичная живет за счет отча!\n",
      "- Эта девушка публичная живет за счет отча!\n",
      "- эта публичная живет за счет отча! и это уебище че то говорит!!!!???\n",
      "- эта публичная живет за счет отча! и это че то говорит!!!!???\n",
      "- эта публичная живет за счет отча! и это уебище че то тяфкает!!!!???\n",
      "---> эта публичная живет за счет отча! и это уебище че то тяфкает!!!!???\n"
     ]
    },
    {
     "name": "stderr",
     "output_type": "stream",
     "text": [
      " 93%|█████████▎| 745/800 [04:39<00:20,  2.63it/s]"
     ]
    },
    {
     "name": "stdout",
     "output_type": "stream",
     "text": [
      "это ктай ебанутий сторона верусний город гандони\n",
      "- это ктай плохой сторона верусний город\n",
      "- это ктай нехороший сторона верусний город\n",
      "- Это Китай\n",
      "- это ктай плохая сторона верусний город\n",
      "- это ктай  сторона верусний город\n",
      "- Это ктай плохой сторона верусний город\n",
      "- Это ктай нехороший сторона верусний город\n",
      "- это ктай плохой стороны сторона верусний город\n",
      "- Это тайская сторона,верный город\n",
      "- Это ктай плохая сторона верусний город\n",
      "---> это ктай плохой стороны сторона верусний город\n"
     ]
    },
    {
     "name": "stderr",
     "output_type": "stream",
     "text": [
      " 93%|█████████▎| 746/800 [04:40<00:26,  2.02it/s]"
     ]
    },
    {
     "name": "stdout",
     "output_type": "stream",
     "text": [
      "а кто сейчас? пиздуны лайкаем/гавкаем/во что превратили и сами превратились!!! бабки,бабло! их не заберёшь на другую чторону,но спросят!\n",
      "- а кто сейчас? лайкаем/гавкаем/во что превратили и сами превратились!!! бабки,бабло! их не заберёшь на другую чторону,но спросят!\n",
      "- а кто сейчас? лайкаем/гавкаем/во что превратили и сами превратились\n",
      "- а кто сейчас? лайкаем/гавкаем/во что превратили и сами превратились! бабки,бабло! их не заберёшь на другую чторону,но спросят!\n",
      "- а кто сейчас? лайкаем/гавкаем/во что превратили и сами превратились!!! бабки,бабло! их не заберёшь на другую чторону,но спросят\n",
      "- а кто сейчас? лайкаем/гавкаем/во что превратили и сами превратились!!! бабки,бабло! их не заберёшь на другую чторону\n",
      "- а кто сейчас? лайкаем/гавкаем/во что превратили и сами превратились!!! бабки, бабло! их не заберёшь на другую чторону,но спросят!\n",
      "- кто сейчас? лайкаем/гавкаем/во что превратили и сами превратились!!! бабки,бабло! их не заберёшь на другую чторону,но спросят!\n",
      "- а кто сейчас? лайкаем/гавкаем/во что превратили и сами превратились!!!бабки,бабло! их не заберёшь на другую чторону,но спросят!\n",
      "- а кто сейчас? лайкаем/гавкаем/во что превратили! бабки,бабло! их не заберёшь на другую чторону,но спросят!\n",
      "- а кто сейчас? лайкаем/гавкаем/во что превратили и сами превратились!!! бабло! их не заберёшь на другую чторону,но спросят!\n",
      "---> а кто сейчас? лайкаем/гавкаем/во что превратили и сами превратились!!! бабки, бабло! их не заберёшь на другую чторону,но спросят!\n"
     ]
    },
    {
     "name": "stderr",
     "output_type": "stream",
     "text": [
      " 93%|█████████▎| 747/800 [04:40<00:25,  2.10it/s]"
     ]
    },
    {
     "name": "stdout",
     "output_type": "stream",
     "text": [
      "проголосовали за лебедя а он голоса отдад ебнутому,вот и вся правда.\n",
      "- проголосовали за лебедя а он голоса отдад ему\n",
      "- проголосовали за лебедя а он голоса отдад, вот и вся правда\n",
      "- проголосовали за лебедя а он голоса отдает вот и вся правда\n",
      "- проголосовали за лебедя а он голоса отдает, вот и вся правда\n",
      "- проголосовали за лебедя а он голоса отдад ему,вот и вся правда\n",
      "- проголосовали за лебедя а он голоса отдад другому\n",
      "- проголосовали за лебедя а он голоса отдад,вот и вся правда\n",
      "- проголосовали за лебедя а он голоса отдад ему, вот и вся правда\n",
      "- проголосовали за лебедя а он голоса отдад нехорошему человеку\n",
      "- проголосовали за лебедя а он голоса отдад, вот и вся правда.\n",
      "---> проголосовали за лебедя а он голоса отдад ему, вот и вся правда\n"
     ]
    },
    {
     "name": "stderr",
     "output_type": "stream",
     "text": [
      " 94%|█████████▎| 748/800 [04:41<00:22,  2.36it/s]"
     ]
    },
    {
     "name": "stdout",
     "output_type": "stream",
     "text": [
      "да, блядь, кто это говнище постоянно сюда сливает?!\n",
      "- Кто это постоянно сюда сливает\n",
      "- Да кто это постоянно сюда сливает\n",
      "- кто это постоянно сюда сливает\n",
      "- да кто это постоянно сюда сливает\n",
      "- да, кто это постоянно сюда сливает?!\n",
      "- да, кто это постоянно сюда сливает\n",
      "- да кто это постоянно сюда сливает?!\n",
      "- Кто постоянно сюда сливает\n",
      "- Кто это постоянно сюда пишет\n",
      "- Да, кто это постоянно сюда сливает\n",
      "---> да, кто это постоянно сюда сливает?!\n"
     ]
    },
    {
     "name": "stderr",
     "output_type": "stream",
     "text": [
      " 94%|█████████▎| 749/800 [04:41<00:19,  2.62it/s]"
     ]
    },
    {
     "name": "stdout",
     "output_type": "stream",
     "text": [
      "за рулём пизда, это не езда\n",
      "- за рулём не езда\n",
      "- За рулём плохая езда\n",
      "- За рулём не езда\n",
      "- за рулём плохая езда\n",
      "- За рулём плохо\n",
      "- Это не езда\n",
      "- за рулём плохо\n",
      "- За рулем не езда\n",
      "- За рулём плохой человек\n",
      "- за рулём плохо, это не езда\n",
      "---> за рулём плохо, это не езда\n"
     ]
    },
    {
     "name": "stderr",
     "output_type": "stream",
     "text": [
      " 94%|█████████▍| 750/800 [04:41<00:18,  2.73it/s]"
     ]
    },
    {
     "name": "stdout",
     "output_type": "stream",
     "text": [
      "это в какой же стране? ну-ка расскажи нам, жопа зассаная\n",
      "- Это в какой же стране? Ну-ка расскажи нам\n",
      "- это в какой же стране? ну-ка расскажи нам\n",
      "- это в какой же стране?\n",
      "- Это в какой же стране?\n",
      "- Это в какой стране? Ну-ка расскажи нам\n",
      "- Это в какой же стране? ну-ка расскажи нам\n",
      "- Это в какой же стране?ну-ка расскажи нам\n",
      "- Это в какой же стране? Ну расскажи нам\n",
      "- это в какой же стране?ну-ка расскажи нам\n",
      "- Это в какой же стране\n",
      "---> Это в какой же стране? ну-ка расскажи нам\n"
     ]
    },
    {
     "name": "stderr",
     "output_type": "stream",
     "text": [
      " 94%|█████████▍| 751/800 [04:42<00:17,  2.79it/s]"
     ]
    },
    {
     "name": "stdout",
     "output_type": "stream",
     "text": [
      "у меня был барсик точно похож ,и так кричал бляяяяяяять выразительно :d :d :d :d\n",
      "- у меня был барсик точно похож\n",
      "- У меня был барсик точно похож\n",
      "- у меня был барсик точно похож,и так кричал\n",
      "- У меня был барсик точно похож и так кричал\n",
      "- У меня был барсик точно похож, и так кричал\n",
      "- У меня был барсик точно похож, и так кричал\n",
      "- У меня был барсик точно похож,и так кричал\n",
      "- у меня был барсик точно похож и так кричал\n",
      "- у меня был барсик точно похож, и так кричал\n",
      "- У меня был барсик очень похож\n",
      "---> у меня был барсик точно похож, и так кричал\n"
     ]
    },
    {
     "name": "stderr",
     "output_type": "stream",
     "text": [
      " 94%|█████████▍| 752/800 [04:42<00:17,  2.73it/s]"
     ]
    },
    {
     "name": "stdout",
     "output_type": "stream",
     "text": [
      "какой блять мост ? и где конкретно он будет ? рисуешь всякую хуйню\n",
      "- какой мост? и где конкретно он будет? рисуешь всякую ерунду\n",
      "- Какой мост? И где конкретно он будет? Рисуешь всякую ерунду\n",
      "- Какой мост? и где конкретно он будет? рисуешь всякую ерунду\n",
      "- какой мост? и где конкретно он будет? рисую всякую ерунду\n",
      "- Какой мост? и где конкретно он будет? рисую всякую ерунду\n",
      "- какой мост? и где конкретно он будет? рисуешь всякую ерунду\n",
      "- Какой мост? И где конкретно он будет? Рисуешь всякую ерунду\n",
      "- какой мост? и где конкретно он будет? рисуешь всякую чушь\n",
      "- Какой мост? И где конкретно он будет? Рисуешь всякую чушь\n",
      "- Какой мост? И где конкретно он будет, рисуешь всякую ерунду\n",
      "---> Какой мост? И где конкретно он будет, рисуешь всякую ерунду\n"
     ]
    },
    {
     "name": "stderr",
     "output_type": "stream",
     "text": [
      " 94%|█████████▍| 753/800 [04:43<00:19,  2.41it/s]"
     ]
    },
    {
     "name": "stdout",
     "output_type": "stream",
     "text": [
      "Да-а-а, с такими боевыми холопами Ебжен с революцией точно окальсонится.\n",
      "- Да-а-а, с такими боевыми людьми Ебжен с революцией точно окальсонится\n",
      "- Да-а-а, с такими боевыми людьми Ебжен с революцией точно окальсонится.\n",
      "- Да-а-а, с такими боевыми людьми революции точно не получится\n",
      "- Да-а-а, с такими боевыми людьми революцией точно окальсонится\n",
      "- Да-а-а, с такими боевыми людьми революции точно не окальсонится\n",
      "- Да-а-а, с такими боевыми людьми Революция точно окальсонится\n",
      "- Да-а-а, с такими боевыми людьми революцией точно не окальсонится\n",
      "- Да-а-а, с такими боевыми людьми Ебжен с революцией точно поссорится\n",
      "- Да-а-а, с такими боевыми людьми Ебжен с революцией точно не окальсонится\n",
      "- Да-а-а, с такими боевыми людьми революцией точно не получится\n",
      "---> Да-а-а, с такими боевыми людьми Ебжен с революцией точно не окальсонится\n"
     ]
    },
    {
     "name": "stderr",
     "output_type": "stream",
     "text": [
      " 94%|█████████▍| 754/800 [04:43<00:18,  2.52it/s]"
     ]
    },
    {
     "name": "stdout",
     "output_type": "stream",
     "text": [
      "Какой алгоритм, блядь? Отправил жалобу на бан и модератор подтвердил бан\n",
      "- Какой алгоритм? Отправил жалобу на бан и модератор подтвердил бан\n",
      "- Какой алгоритм, отправил жалобу на бан и модератор подтвердил бан\n",
      "- Какой алгоритм? Отправил жалобу на бан и модератор подтвердил её\n",
      "- Какой алгоритм, отправил жалобу на бан и модератор подтвердил её\n",
      "- Какой алгоритм, отправил жалобу на бан и модератор подтвердил\n",
      "- Какой алгоритм? Отправил жалобу на бан и модератор подтвердил бан\n",
      "- Какой алгоритм? Отправил жалобу на бан и модератор подтвердил.\n",
      "- Какой алгоритм? Отправила жалобу на бан и модератор подтвердил бан\n",
      "- Какой алгоритм? Отправил жалобу на бан и модератор подтвердил ее\n",
      "- Какой алгоритм действий? Отправил жалобу на бан и модератор подтвердил бан\n",
      "---> Какой алгоритм действий? Отправил жалобу на бан и модератор подтвердил бан\n"
     ]
    },
    {
     "name": "stderr",
     "output_type": "stream",
     "text": [
      " 94%|█████████▍| 755/800 [04:43<00:16,  2.75it/s]"
     ]
    },
    {
     "name": "stdout",
     "output_type": "stream",
     "text": [
      "какие молодцы! пусть там и остаются, сволочи!\n",
      "- какие молодцы! пусть там и остаются\n",
      "- Пусть там и остаются\n",
      "- какие молодцы! пусть там и остаются!\n",
      "- какие молодцы\n",
      "- какие молодцы! пускай там и остаются\n",
      "- какие молодцы! пусть там и остаются\n",
      "- какие молодцы! пусть там и остаются.\n",
      "- какие молодцы! пусть там и останутся\n",
      "- Какие молодцы! Пусть там и остаются\n",
      "- Какие молодцы\n",
      "---> какие молодцы! пусть там и останутся\n"
     ]
    },
    {
     "name": "stderr",
     "output_type": "stream",
     "text": [
      " 94%|█████████▍| 756/800 [04:43<00:14,  2.99it/s]"
     ]
    },
    {
     "name": "stdout",
     "output_type": "stream",
     "text": [
      "когда этот долбаеб будет сидеть в тюрьме\n",
      "- Когда он будет сидеть в тюрьме\n",
      "- Когда этот человек будет сидеть в тюрьме\n",
      "- когда он будет сидеть в тюрьме\n",
      "- когда этот человек будет сидеть в тюрьме\n",
      "- Когда он сядет в тюрьму\n",
      "- Когда его посадят в тюрьму\n",
      "- Когда будет сидеть в тюрьме\n",
      "- Когда этот человек сядет в тюрьму\n",
      "- Когда же он будет сидеть в тюрьме\n",
      "- Когда человек будет сидеть в тюрьме\n",
      "---> когда этот человек будет сидеть в тюрьме\n"
     ]
    },
    {
     "name": "stderr",
     "output_type": "stream",
     "text": [
      " 95%|█████████▍| 757/800 [04:44<00:14,  3.04it/s]"
     ]
    },
    {
     "name": "stdout",
     "output_type": "stream",
     "text": [
      "именно благодаря этому президенту, россия еще жива. а такие долбоебы, только могут воду мутить. дебилоид.\n",
      "- именно благодаря этому президенту, россия еще жива.\n",
      "- именно благодаря этому президенту, россия еще жива\n",
      "- Именно благодаря этому президенту, Россия еще жива\n",
      "- Именно благодаря этому президенту, Россия еще жива.\n",
      "- Именно благодаря этому президенту, Россия ещё жива\n",
      "- Именно благодаря этому президенту, россия еще жива\n",
      "- Именно благодаря этому президенту, россия еще жива.\n",
      "- Именно благодаря этому президенту, Россия ещё жива.\n",
      "- Именно благодаря этому президенту, россия ещё жива\n",
      "- Именно благодаря этому президенту, россия ещё жива.\n",
      "---> Именно благодаря этому президенту, россия ещё жива.\n"
     ]
    },
    {
     "name": "stderr",
     "output_type": "stream",
     "text": [
      " 95%|█████████▍| 758/800 [04:44<00:15,  2.76it/s]"
     ]
    },
    {
     "name": "stdout",
     "output_type": "stream",
     "text": [
      "вы сука охуели какой лайк они воевали не для этих лайков что бы вы сука пользовались для лайков\n",
      "- Какой лайк они воевали не для этих лайков что бы вы пользовались для лайков\n",
      "- Какой лайк они воевали не для лайков что бы вы пользовались для лайков\n",
      "- какой лайк они воевали не для этих лайков что бы вы пользовались для лайков\n",
      "- Они воевали не для лайков\n",
      "- Какой лайк они воевали не для этих лайков, что бы вы пользовались для лайков\n",
      "- Они воевали для лайков\n",
      "- Какой лайк они воевали не для этих лайков\n",
      "- Какой лайк они воевали не для лайков, что бы вы пользовались для лайков\n",
      "- Они не воевали для лайков\n",
      "- Они воевали не ради лайков\n",
      "---> Какой лайк они воевали не для этих лайков, что бы вы пользовались для лайков\n"
     ]
    },
    {
     "name": "stderr",
     "output_type": "stream",
     "text": [
      " 95%|█████████▍| 759/800 [04:44<00:13,  3.02it/s]"
     ]
    },
    {
     "name": "stdout",
     "output_type": "stream",
     "text": [
      "такую мразь надо давить и не довать , спрыгнуть с темы.\n",
      "- Такого человека надо наказывать\n",
      "- такого человека надо наказывать\n",
      "- Таких людей надо наказывать\n",
      "- таких надо наказывать\n",
      "- Таких надо наказывать\n",
      "- его надо наказать\n",
      "- Его надо наказать\n",
      "- Такого человека надо наказать\n",
      "- Такого надо наказывать\n",
      "- такого надо наказывать\n",
      "---> такого человека надо наказывать\n"
     ]
    },
    {
     "name": "stderr",
     "output_type": "stream",
     "text": [
      " 95%|█████████▌| 760/800 [04:45<00:13,  2.86it/s]"
     ]
    },
    {
     "name": "stdout",
     "output_type": "stream",
     "text": [
      "как я сука не навижу таких людей которые такое делают, их бог накажет\n",
      "- как я не люблю таких людей которые такое делают, их бог накажет\n",
      "- Как я не люблю таких людей, которые такое делают\n",
      "- как я не люблю таких людей которые такое делают\n",
      "- Как я не люблю таких людей, их бог накажет\n",
      "- Как я не люблю таких людей, которые так делают\n",
      "- как я не люблю таких людей, которые такое делают\n",
      "- Как я не люблю таких людей. Их бог накажет\n",
      "- как я не люблю таких людей, их бог накажет\n",
      "- Как я не люблю таких людей, которые такое делают, их бог накажет\n",
      "- как я не люблю таких людей, которые такое делают, их бог накажет\n",
      "---> как я не люблю таких людей, которые такое делают, их бог накажет\n"
     ]
    },
    {
     "name": "stderr",
     "output_type": "stream",
     "text": [
      " 95%|█████████▌| 761/800 [04:45<00:13,  2.91it/s]"
     ]
    },
    {
     "name": "stdout",
     "output_type": "stream",
     "text": [
      "жополиз путинский тварь продажная ему на россию плевать простые люди для наго ничто\n",
      "- ему на россию наплевать простые люди для наго ничто\n",
      "- ему на россию плевать простые люди для наго ничто\n",
      "- Ему на Россию наплевать, простые люди для него ничто\n",
      "- Ему на Россию все равно\n",
      "- Ему на Россию плевать, простые люди для него ничто\n",
      "- Ему на россию наплевать, простые люди для него ничто\n",
      "- ему на россию наплевать просто люди для наго ничто\n",
      "- Путину на Россию наплевать, простые люди для него ничто\n",
      "- Ему на россию плевать, простые люди для него ничто\n",
      "- Ему на Россию все равно, простые люди для него ничто\n",
      "---> Путину на Россию наплевать, простые люди для него ничто\n"
     ]
    },
    {
     "name": "stderr",
     "output_type": "stream",
     "text": [
      " 95%|█████████▌| 762/800 [04:46<00:12,  3.06it/s]"
     ]
    },
    {
     "name": "stdout",
     "output_type": "stream",
     "text": [
      "что вообще ебанутые? как можно токое извоять?\n",
      "- как можно токое извоять?\n",
      "- как можно токое извоять\n",
      "- Как можно такое извоять\n",
      "- Как можно токое извоять\n",
      "- Как можно такое извоять?\n",
      "- Как можно токое извоять?\n",
      "- Как можно такое изваять\n",
      "- Как можно такое сделать\n",
      "- Как можно такое изваять\n",
      "- Как можно такое сотворить\n",
      "---> Как можно такое сотворить\n"
     ]
    },
    {
     "name": "stderr",
     "output_type": "stream",
     "text": [
      " 95%|█████████▌| 763/800 [04:46<00:11,  3.36it/s]"
     ]
    },
    {
     "name": "stdout",
     "output_type": "stream",
     "text": [
      "хуево ему не станет шакалу\n",
      "- Ему плохо\n",
      "- Плохо ему не станет\n",
      "- Ему плохо не станет\n",
      "- Ему плохо станет\n",
      "- Ему будет плохо\n",
      "- плохо ему не станет\n",
      "- Хорошо ему не станет\n",
      "- Ему не станет\n",
      "- Не хорошо ему станет\n",
      "- Ему плохо будет\n",
      "---> Не хорошо ему станет\n"
     ]
    },
    {
     "name": "stderr",
     "output_type": "stream",
     "text": [
      " 96%|█████████▌| 764/800 [04:46<00:10,  3.50it/s]"
     ]
    },
    {
     "name": "stdout",
     "output_type": "stream",
     "text": [
      "судя по роже - не местный\n",
      "- Судя по лицу - не местный\n",
      "- Судя по лицу, не местный\n",
      "- судя по лицу - не местный\n",
      "- Судя по лицу не местный\n",
      "- Судя по внешности - не местный\n",
      "- Судя по внешности, не местный\n",
      "- Судя по внешности не местный\n",
      "- судя по внешности - не местный\n",
      "- Судя по лицу- не местный\n",
      "- Судя по лицу -не местный\n",
      "---> судя по внешности - не местный\n"
     ]
    },
    {
     "name": "stderr",
     "output_type": "stream",
     "text": [
      " 96%|█████████▌| 765/800 [04:46<00:10,  3.23it/s]"
     ]
    },
    {
     "name": "stdout",
     "output_type": "stream",
     "text": [
      "вам бы её пидорам, тогда бы посмотрели как вы будете улыбаться.\n",
      "- вам бы их, тогда бы посмотрели как вы будете улыбаться\n",
      "- вам бы их, тогда бы посмотрели как вы будете улыбаться.\n",
      "- вам бы им, тогда бы посмотрели как вы будете улыбаться\n",
      "- вам бы её, тогда бы посмотрели как вы будете улыбаться\n",
      "- Вам бы их, тогда бы посмотрели как вы будете улыбаться\n",
      "- вам бы ее, тогда бы посмотрели как вы будете улыбаться\n",
      "- вам бы им, тогда бы посмотрели как вы будете улыбаться.\n",
      "- вам бы её, тогда бы посмотрели как вы будете улыбаться.\n",
      "- Вам бы её, тогда бы посмотрели как вы будете улыбаться\n",
      "- вам бы ее, тогда бы посмотрели как вы будете улыбаться.\n",
      "---> вам бы ее, тогда бы посмотрели как вы будете улыбаться.\n"
     ]
    },
    {
     "name": "stderr",
     "output_type": "stream",
     "text": [
      " 96%|█████████▌| 766/800 [04:47<00:11,  2.85it/s]"
     ]
    },
    {
     "name": "stdout",
     "output_type": "stream",
     "text": [
      "пидорша, я буду белить фору, пока не перестанешь заниматься хуйней. виновата только ты, тварь ебаная.\n",
      "- я буду белить фору, пока не перестанешь заниматься ерундой. виновата только ты\n",
      "- я буду белить форум, пока не перестанешь заниматься ерундой. виновата только ты\n",
      "- я буду белить фору, пока не перестанешь заниматься ерундой\n",
      "- я буду белить форум, пока не перестанешь заниматься ерундой\n",
      "- я буду белить фору, пока не перестанешь заниматься ерундой. виновата только ты.\n",
      "- Я буду белить форум, пока не перестанешь заниматься ерундой\n",
      "- я буду белить фору, пока не перестанешь заниматься ерундой. виновата только ты\n",
      "- Я буду красить форум пока не перестанешь заниматься ерундой\n",
      "- я буду белить форум, пока не перестанешь заниматься ерундой. виновата только ты.\n",
      "- Я буду белить форум пока не перестанешь заниматься ерундой\n",
      "---> я буду белить форум, пока не перестанешь заниматься ерундой. виновата только ты.\n"
     ]
    },
    {
     "name": "stderr",
     "output_type": "stream",
     "text": [
      " 96%|█████████▌| 767/800 [04:47<00:13,  2.49it/s]"
     ]
    },
    {
     "name": "stdout",
     "output_type": "stream",
     "text": [
      "судить таких уродов надо где-то больной человек ждёт скорую ,а это урод выесняет свою неприязнь!\n",
      "- судить таких людей надо где-то больной человек ждёт скорую\n",
      "- Судить таких людей надо где-то больной человек ждёт скорую\n",
      "- судить таких надо где-то больной человек ждёт скорую\n",
      "- Наказать таких людей надо где-то больной человек ждёт скорую\n",
      "- судить таких людей надо где-то больной человек ждёт скорую,а это плохой человек выесняет свою неприязнь!\n",
      "- судить таких людей надо где-то больной человек ждёт скорую,а это человек выесняет свою неприязнь!\n",
      "- судить таких людей надо где-то больной человек ждёт скорую,а это нехороший человек выесняет свою неприязнь!\n",
      "- судить таких надо где-то больной человек ждёт скорую,а это плохой человек выесняет свою неприязнь!\n",
      "- судить таких людей надо где-то больной человек ждёт скорую,а это плохой человек выносит свою неприязнь!\n",
      "- судить таких людей надо где-то больной человек ждёт скорую,а это нехороший человек выносит свою неприязнь!\n",
      "---> судить таких людей надо где-то больной человек ждёт скорую,а это нехороший человек выесняет свою неприязнь!\n"
     ]
    },
    {
     "name": "stderr",
     "output_type": "stream",
     "text": [
      " 96%|█████████▌| 768/800 [04:48<00:11,  2.73it/s]"
     ]
    },
    {
     "name": "stdout",
     "output_type": "stream",
     "text": [
      "вы все пидоры вы не жили в деревне\n",
      "- вы не жили в деревне\n",
      "- Вы не жили в деревне\n",
      "- вы все не жили в деревне\n",
      "- Вы не жили в деревне.\n",
      "- Не жили в деревне\n",
      "- Вы все не жили в деревне\n",
      "- вы все плохие\n",
      "- вы все плохие вы не жили в деревне\n",
      "- Вы не живете в деревне\n",
      "- не жили в деревне\n",
      "---> вы все плохие вы не жили в деревне\n"
     ]
    },
    {
     "name": "stderr",
     "output_type": "stream",
     "text": [
      " 96%|█████████▌| 769/800 [04:48<00:10,  3.00it/s]"
     ]
    },
    {
     "name": "stdout",
     "output_type": "stream",
     "text": [
      "выслать этих тварей из республики.\n",
      "- Выслать их из республики\n",
      "- выслать их из республики\n",
      "- Наказать их\n",
      "- Отправить их из республики\n",
      "- Выслать их из Республики\n",
      "- Убрать их из республики\n",
      "- Наказать этих людей\n",
      "- Выгнать их из республики\n",
      "- Выслать этих людей из республики\n",
      "- Выслать их из республики.\n",
      "---> Выслать этих людей из республики\n"
     ]
    },
    {
     "name": "stderr",
     "output_type": "stream",
     "text": [
      " 96%|█████████▋| 770/800 [04:48<00:09,  3.15it/s]"
     ]
    },
    {
     "name": "stdout",
     "output_type": "stream",
     "text": [
      "какие то пидоры хотят посорить нас.\n",
      "- какие то люди хотят испортить нас\n",
      "- какие то люди хотят посорить нас\n",
      "- Они хотят испортить отношения\n",
      "- Они хотят помешать\n",
      "- какие то люди хотят помешать нам\n",
      "- Кто-то хочет испортить отношения\n",
      "- какие то люди хотят поссориться\n",
      "- какие-то люди хотят испортить нас\n",
      "- какие то люди хотят посорить нас.\n",
      "- какие то люди хотят помешать\n",
      "---> какие то люди хотят посорить нас.\n"
     ]
    },
    {
     "name": "stderr",
     "output_type": "stream",
     "text": [
      " 96%|█████████▋| 771/800 [04:48<00:09,  3.17it/s]"
     ]
    },
    {
     "name": "stdout",
     "output_type": "stream",
     "text": [
      "это дебил. не трудитесь....вы не достучитесь\n",
      "- Не трудитесь\n",
      "- не трудитесь....вы не достучитесь\n",
      "- Не трудитесь, вы не достучитесь\n",
      "- не трудитесь\n",
      "- Не трудитесь. Вы не достучитесь\n",
      "- не трудитесь...вы не достучитесь\n",
      "- это не трудитесь....вы не достучитесь\n",
      "- не трудитесь.....вы не достучитесь\n",
      "- не трудитесь.... вы не достучитесь\n",
      "- Не трудитесь....вы не достучитесь\n",
      "---> это не трудитесь....вы не достучитесь\n"
     ]
    },
    {
     "name": "stderr",
     "output_type": "stream",
     "text": [
      " 96%|█████████▋| 772/800 [04:49<00:08,  3.19it/s]"
     ]
    },
    {
     "name": "stdout",
     "output_type": "stream",
     "text": [
      "Лучше не пиши нихуя. Только позоришься\n",
      "- Лучше не пиши\n",
      "- Лучше не пиши ничего\n",
      "- лучше не пиши\n",
      "- Лучше ничего не пиши\n",
      "- Не пиши ничего\n",
      "- Лучше вообще не пиши\n",
      "- Лучше не надо писать\n",
      "- Лучше не пиши, только позоришься\n",
      "- Лучше не пиши. Только портишь\n",
      "- Не пиши\n",
      "---> Лучше не пиши, только позоришься\n"
     ]
    },
    {
     "name": "stderr",
     "output_type": "stream",
     "text": [
      " 97%|█████████▋| 773/800 [04:49<00:08,  3.37it/s]"
     ]
    },
    {
     "name": "stdout",
     "output_type": "stream",
     "text": [
      "почему эту тварь еще не побили\n",
      "- почему его еще не побили\n",
      "- Почему его еще не наказали\n",
      "- почему его еще не наказали\n",
      "- Почему его ещё не наказали\n",
      "- Почему его еще не побили\n",
      "- почему ее еще не побили\n",
      "- почему его ещё не побили\n",
      "- почему её еще не побили\n",
      "- Почему этого человека еще не наказали\n",
      "- Почему его еще не наказали?\n",
      "---> Почему этого человека еще не наказали\n"
     ]
    },
    {
     "name": "stderr",
     "output_type": "stream",
     "text": [
      " 97%|█████████▋| 774/800 [04:49<00:07,  3.42it/s]"
     ]
    },
    {
     "name": "stdout",
     "output_type": "stream",
     "text": [
      "его так за яйца повесить он только тогда может поймет урод\n",
      "- его так наказать он только тогда может поймет\n",
      "- Его надо наказать\n",
      "- Его так наказать он только тогда может поймет\n",
      "- Его так наказать он только тогда может понять\n",
      "- Его нужно наказать\n",
      "- его так наказать он только тогда сможет поймет\n",
      "- Его так наказать он только тогда сможет понять\n",
      "- его наказать он только тогда может поймет\n",
      "- его так наказать он только тогда поймет\n",
      "- он только тогда может поймет\n",
      "---> Его так наказать он только тогда сможет понять\n"
     ]
    },
    {
     "name": "stderr",
     "output_type": "stream",
     "text": [
      " 97%|█████████▋| 775/800 [04:50<00:09,  2.65it/s]"
     ]
    },
    {
     "name": "stdout",
     "output_type": "stream",
     "text": [
      "да йопвашумать, модераторы, вы хоть помните, как эта группа называется?! прекратите выкладывать сюда всю эту депрессивную хуйню!!!\n",
      "- Модераторы, вы хоть помните, как эта группа называется?!\n",
      "- Модераторы, вы хоть помните, как эта группа называется?! прекратите выкладывать сюда всю эту депрессивную ерунду\n",
      "- Модераторы, вы хоть помните, как эта группа называется?! Прекратите выкладывать сюда всю эту депрессивную ерунду\n",
      "- Модераторы, вы хоть помните, как эта группа называется\n",
      "- Модераторы, вы хоть помните как эта группа называется?!\n",
      "- Модераторы, вы хоть помните, как эта группа называется?! прекратите выкладывать сюда всю эту депрессивную чушь\n",
      "- Модераторы, вы хоть помните, как эта группа называется?! Прекратите выкладывать сюда всю эту депрессивную чушь\n",
      "- Модераторы, вы хоть помните, как эта группа называется?! прекратите выкладывать сюда всю эту депрессивную ерунду!!!\n",
      "- Модераторы, вы хоть помните, как эта группа называется?! Прекратите выкладывать сюда всю эту депрессию\n",
      "- модераторы, вы хоть помните, как эта группа называется?! прекратите выкладывать сюда всю эту депрессивную ерунду\n",
      "---> Модераторы, вы хоть помните, как эта группа называется?! прекратите выкладывать сюда всю эту депрессивную ерунду!!!\n"
     ]
    },
    {
     "name": "stderr",
     "output_type": "stream",
     "text": [
      " 97%|█████████▋| 776/800 [04:51<00:10,  2.22it/s]"
     ]
    },
    {
     "name": "stdout",
     "output_type": "stream",
     "text": [
      "Дизайн комнаты скопирован со Смехопанорамы Это просто та же самая комната. Сначала выступает тупой клоун, потом приходит Евгений Ваганыч.\n",
      "- Дизайн комнаты скопирован со Смехопанорамы Это просто та же самая комната. Сначала выступает клоун, потом приходит Евгений Ваганыч\n",
      "- Дизайн комнаты скопирован со Смехопанорамы Это просто та же самая комната. Сначала выступает глупый человек, потом приходит Евгений Ваганыч\n",
      "- Дизайн комнаты скопирован со Смехопанорамы Это просто та же самая комната. Сначала выступает клоун, потом приходит Евгений Ваганыч.\n",
      "- Дизайн комнаты скопирован со Смехопанорамы Это просто та же самая комната. Сначала выступает глупый человек, потом приходит Евгений Ваганыч.\n",
      "- Дизайн комнаты скопирован со Смехопанорамы Это просто та же самая комната\n",
      "- Дизайн комнаты скопирован со Смехопанорамы Это просто та же самая комната. Сначала выступает плохой человек, потом приходит Евгений Ваганыч\n",
      "- Дизайн комнаты скопирован со Смехопанорамы Это просто та же самая комната. Сначала выступает тупой клоун, потом приходит Евгений Ваганыч\n",
      "- Дизайн комнаты скопирован со Смехопанорамы Это просто та же самая комната. Сначала выступает Евгений Ваганыч\n",
      "- Дизайн комнаты скопирован со Смехопанорамы Это просто та же самая комната. Сначала выступает тупой человек, потом приходит Евгений Ваганыч\n",
      "- Дизайн комнаты скопирован со Смехопанорамы Это просто та же самая комната. Сначала выступает плохой человек, потом приходит Евгений Ваганыч.\n",
      "---> Дизайн комнаты скопирован со Смехопанорамы Это просто та же самая комната. Сначала выступает плохой человек, потом приходит Евгений Ваганыч.\n"
     ]
    },
    {
     "name": "stderr",
     "output_type": "stream",
     "text": [
      " 97%|█████████▋| 777/800 [04:51<00:09,  2.52it/s]"
     ]
    },
    {
     "name": "stdout",
     "output_type": "stream",
     "text": [
      "а хули ты сука ебло прячешь?.... птфу тварь ебанное...\n",
      "- А что ты прячешь?\n",
      "- а что ты прячешь?\n",
      "- А зачем ты лицо прячешь\n",
      "- а зачем ты лицо прячешь?\n",
      "- А чего ты прячешь лицо\n",
      "- а зачем ты лицо прячешь\n",
      "- а чего ты прячешь?\n",
      "- А зачем ты лицо прячешь?\n",
      "- А зачем ты прячешь лицо\n",
      "- А чего ты прячешь?\n",
      "---> А зачем ты лицо прячешь?\n"
     ]
    },
    {
     "name": "stderr",
     "output_type": "stream",
     "text": [
      " 97%|█████████▋| 778/800 [04:51<00:08,  2.51it/s]"
     ]
    },
    {
     "name": "stdout",
     "output_type": "stream",
     "text": [
      "ха-ха-ха! я смеюсь в лицо оскорбляющим меня!\n",
      "- Я смеюсь в лицо оскорбляющим меня\n",
      "- ха-ха-ха! я смеюсь в лицо оскорбляющим меня\n",
      "- ха-ха-ха! я смеюсь в лицо оскорбляющим меня!\n",
      "- я смеюсь в лицо оскорбляющим меня\n",
      "- Ха-ха-ха! Я смеюсь в лицо оскорбляющим меня\n",
      "- я смеюсь в лицо оскорбляющим меня!\n",
      "- Я смеюсь в лицо оскорбляющим меня!\n",
      "- Ха-ха-ха! Я смеюсь в лицо оскорбляющим меня!\n",
      "- Ха-ха-ха! я смеюсь в лицо оскорбляющим меня\n",
      "- Я смеюсь в лицо обидчикам\n",
      "---> Ха-ха-ха! Я смеюсь в лицо оскорбляющим меня!\n"
     ]
    },
    {
     "name": "stderr",
     "output_type": "stream",
     "text": [
      " 97%|█████████▋| 779/800 [04:52<00:08,  2.59it/s]"
     ]
    },
    {
     "name": "stdout",
     "output_type": "stream",
     "text": [
      "уроды, вы молоко то дайте, ваше молоко - это пальма голимая\n",
      "- вы молоко то дайте\n",
      "- Вы молоко то дайте\n",
      "- вы молоко то дайте, ваше молоко - это пальма голимая\n",
      "- вы молоко то дайте, ваше молоко - это не пальма\n",
      "- Вы молоко-то дайте\n",
      "- молоко то дайте\n",
      "- Вы молоко то дайте, ваше молоко - это пальма голимая\n",
      "- Вы молоко то дайте, ваше молоко - это не пальма\n",
      "- вы молоко-то дайте\n",
      "- вы молоко то дайте, ваше молоко - это дерево голимое\n",
      "---> вы молоко то дайте, ваше молоко - это дерево голимое\n"
     ]
    },
    {
     "name": "stderr",
     "output_type": "stream",
     "text": [
      " 98%|█████████▊| 780/800 [04:52<00:07,  2.79it/s]"
     ]
    },
    {
     "name": "stdout",
     "output_type": "stream",
     "text": [
      "мразь!вот кого надо приводить к колокольцеву!\n",
      "- Вот кого надо приводить к колокольцеву\n",
      "- вот кого надо приводить к колокольцеву\n",
      "- вот кого надо приводить к колокольцеву!\n",
      "- Вот кого надо приводить к колокольцеву!\n",
      "- Вот кого нужно приводить к колокольцеву\n",
      "- кого надо приводить к колокольцеву\n",
      "- кого надо приводить к колокольцеву!\n",
      "- Кого надо приводить к колокольцеву\n",
      "- Вот кого нужно приводить к колокольцеву!\n",
      "- вот кого нужно приводить к колокольцеву\n",
      "---> Вот кого нужно приводить к колокольцеву!\n"
     ]
    },
    {
     "name": "stderr",
     "output_type": "stream",
     "text": [
      " 98%|█████████▊| 781/800 [04:52<00:06,  3.06it/s]"
     ]
    },
    {
     "name": "stdout",
     "output_type": "stream",
     "text": [
      "давно этого козла наказать нужно было!\n",
      "- давно этого человека наказать нужно было!\n",
      "- давно его наказать нужно было!\n",
      "- давно его наказать нужно было\n",
      "- давно этого человека наказать нужно было\n",
      "- давно этого человека наказать надо было!\n",
      "- давно его наказать надо было!\n",
      "- давно его наказать надо было\n",
      "- давно его наказывать нужно было!\n",
      "- давно этого человека наказать надо было\n",
      "- давно нужно было его наказать\n",
      "---> давно этого человека наказать нужно было!\n"
     ]
    },
    {
     "name": "stderr",
     "output_type": "stream",
     "text": [
      " 98%|█████████▊| 782/800 [04:53<00:06,  2.72it/s]"
     ]
    },
    {
     "name": "stdout",
     "output_type": "stream",
     "text": [
      "как обычно пидарасы всякие уйдут от ответственности ,ну убил и убил ,как они эти суки с этим живут\n",
      "- как обычно люди всякие уйдут от ответственности, ну убил и убил\n",
      "- как обычно люди всякие уйдут от ответственности,ну убил и убил\n",
      "- как обычно люди всякие уйдут от ответственности\n",
      "- как обычно люди всякие уйдут от ответственности,ну убил и убил,как они эти люди с этим живут\n",
      "- как обычно люди всякие уйдут от ответственности, ну убил и убил\n",
      "- как обычно люди всякие уйдут от ответственности, ну убил и убил,как они эти люди с этим живут\n",
      "- как обычно всякие уйдут от ответственности, ну убил и убил\n",
      "- как обычно люди всякие уйдут от ответственности,ну убил и убил,как они эти с этим живут\n",
      "- как обычно люди всякие уйдут от ответственности, ну убил и убил,как они эти с этим живут\n",
      "- как обычно люди всякие уйдут от ответственности,ну убил и убил,как они с этим живут\n",
      "---> как обычно люди всякие уйдут от ответственности, ну убил и убил,как они эти люди с этим живут\n"
     ]
    },
    {
     "name": "stderr",
     "output_type": "stream",
     "text": [
      " 98%|█████████▊| 783/800 [04:53<00:07,  2.39it/s]"
     ]
    },
    {
     "name": "stdout",
     "output_type": "stream",
     "text": [
      "я - человек не злой, толерантный, но полагаю, что пьяных водителей нужно расстреливать прямо на месте преступления.\n",
      "- я - человек не злой, толерантный, но полагаю, что пьяных водителей нужно наказывать\n",
      "- я - человек не злой, толерантный, но полагаю, что пьяных водителей нужно наказывать прямо на месте преступления\n",
      "- Я - человек не злой, толерантный, но полагаю, что пьяных водителей нужно наказывать\n",
      "- я - человек не злой, толерантный, но полагаю, что пьяных водителей нужно наказывать прямо на месте преступления.\n",
      "- я - человек не злой, толерантный, но полагаю, что пьяных водителей нужно наказывать на месте\n",
      "- Я человек не злой, толерантный, но полагаю, что пьяных водителей нужно наказывать\n",
      "- Я - человек не злой, толерантный, но полагаю, что пьяных водителей нужно наказывать прямо на месте преступления\n",
      "- я - человек не злой, толерантный, но полагаю, что пьяных водителей нужно наказать\n",
      "- Я человек не злой, толерантный, но полагаю, что пьяных водителей нужно наказывать прямо на месте преступления\n",
      "- я человек не злой, толерантный, но полагаю, что пьяных водителей нужно наказывать прямо на месте преступления\n",
      "---> я - человек не злой, толерантный, но полагаю, что пьяных водителей нужно наказывать прямо на месте преступления.\n"
     ]
    },
    {
     "name": "stderr",
     "output_type": "stream",
     "text": [
      " 98%|█████████▊| 784/800 [04:54<00:07,  2.12it/s]"
     ]
    },
    {
     "name": "stdout",
     "output_type": "stream",
     "text": [
      "охренел, что ли ваш батька! кем себя возомнил, что бы на ковёр нашего генпрокурора вызывать, предатель гребанный\n",
      "- Охренел, что ли ваш папа! Кем себя возомнил, что бы на ковёр нашего генпрокурора вызывать\n",
      "- Охренел, что ли ваш батька! Кем себя возомнил, что бы на ковёр нашего генпрокурора вызывать\n",
      "- Охренел, что ли ваш отец! Кем себя возомнил, что бы на ковёр нашего генпрокурора вызывать\n",
      "- Охренел, что ли ваш батька! кем себя возомнил, что бы на ковёр нашего генпрокурора вызывать\n",
      "- Охренел, что ли ваш папа! Кем себя возомнил, что бы на ковер нашего генпрокурора вызывать\n",
      "- Охренел, что ли ваш батька! Кем себя возомнил, что бы на ковер нашего генпрокурора вызывать\n",
      "- Охренел, что ли ваш отец! Кем себя возомнил, что бы на ковер нашего генпрокурора вызывать\n",
      "- Охренел, что ли ваш папа! кем себя возомнил, что бы на ковёр нашего генпрокурора вызывать\n",
      "- Охренел, что ли ваш батя! Кем себя возомнил, что бы на ковёр нашего генпрокурора вызывать\n",
      "- Охренел, что ли ваш папа! Кем себя возомнил, что бы на ковёр генпрокурора вызывать\n",
      "---> Охренел, что ли ваш батька! Кем себя возомнил, что бы на ковер нашего генпрокурора вызывать\n"
     ]
    },
    {
     "name": "stderr",
     "output_type": "stream",
     "text": [
      " 98%|█████████▊| 785/800 [04:54<00:07,  1.96it/s]"
     ]
    },
    {
     "name": "stdout",
     "output_type": "stream",
     "text": [
      "батька заигрался. хотел на двух стульях посидеть и двух маток пососать, в результате будет сосать у двух быков.\n",
      "- хотел на двух стульях посидеть и двух маток пососать, в результате будет сосать у двух быков\n",
      "- Батя заигрался. хотел на двух стульях посидеть и двух маток пососать, в результате будет сосать у двух быков\n",
      "- Батя заигрался. хотел на двух стульях посидеть и двух женщин пососать, в результате будет сосать у двух быков\n",
      "- Батька заигрался. хотел на двух стульях посидеть и двух маток пососать, в результате будет сосать у двух быков\n",
      "- баба заигралась. хотел на двух стульях посидеть и двух маток пососать, в результате будет сосать у двух быков\n",
      "- брат заигрался. хотел на двух стульях посидеть и двух маток пососать, в результате будет сосать у двух быков\n",
      "- Батька заигрался. хотел на двух стульях посидеть и двух женщин пососать, в результате будет сосать у двух быков\n",
      "- хотел на двух стульях посидеть и двух маток пососать, в результате будет сосать у двух быков.\n",
      "- Батя заигрался. Хотел на двух стульях посидеть и двух женщин пососать, в результате будет сосать у двух быков\n",
      "- Батя заигрался. хотел на двух стульях посидеть и двух маток сосать, в результате будет сосать у двух быков\n",
      "---> Батька заигрался. хотел на двух стульях посидеть и двух женщин пососать, в результате будет сосать у двух быков\n"
     ]
    },
    {
     "name": "stderr",
     "output_type": "stream",
     "text": [
      " 98%|█████████▊| 786/800 [04:55<00:06,  2.23it/s]"
     ]
    },
    {
     "name": "stdout",
     "output_type": "stream",
     "text": [
      "у дагестанцев также есть выблядки!\n",
      "- У дагестанцев также есть плохие люди\n",
      "- у дагестанцев также есть плохие люди\n",
      "- У дагестанцев тоже есть плохие люди\n",
      "- у дагестанцев также есть люди\n",
      "- У дагестанцев также есть нехорошие люди\n",
      "- у дагестанцев также есть плохие люди!\n",
      "- У дагестанцев также есть люди\n",
      "- у дагестанцев также есть нехорошие люди\n",
      "- У дагестанцев тоже есть нехорошие люди\n",
      "- У дагестанцев тоже есть люди\n",
      "---> у дагестанцев также есть нехорошие люди\n"
     ]
    },
    {
     "name": "stderr",
     "output_type": "stream",
     "text": [
      " 98%|█████████▊| 787/800 [04:55<00:05,  2.46it/s]"
     ]
    },
    {
     "name": "stdout",
     "output_type": "stream",
     "text": [
      "пиздобол ты ! не понимаешь не говори про пролдовольствие.\n",
      "- не понимаешь не говори про пролдовольствие\n",
      "- Не понимаешь не говори\n",
      "- Не понимаешь, не говори\n",
      "- не понимаешь не говори про пролдовольствие.\n",
      "- не понимаешь не говори про продовольствие\n",
      "- Не понимаешь не говори про питание\n",
      "- ты не понимаешь не говори про пролдовольствие\n",
      "- не понимаешь не говори про питание\n",
      "- Не понимаешь не говори про пролдовольствие\n",
      "- Не понимаешь не говори про продовольствие\n",
      "---> ты не понимаешь не говори про пролдовольствие\n"
     ]
    },
    {
     "name": "stderr",
     "output_type": "stream",
     "text": [
      " 98%|█████████▊| 788/800 [04:55<00:04,  2.60it/s]"
     ]
    },
    {
     "name": "stdout",
     "output_type": "stream",
     "text": [
      "учителю заплатили что бы ублюдок во второй класс не попал\n",
      "- учителю заплатили что бы он во второй класс не попал\n",
      "- учителю заплатили что бы во второй класс не попал\n",
      "- учителю заплатили что бы во второй класс он не попал\n",
      "- учителю заплатили что бы в второй класс не попал\n",
      "- Учителю заплатили что бы он во второй класс не попал\n",
      "- Учителю заплатили что бы он во второй класс не попал\n",
      "- учителю заплатили что бы человек во второй класс не попал\n",
      "- учителю заплатили что бы он в второй класс не попал\n",
      "- Учитель заплатил что бы он во второй класс не попал\n",
      "- учителю заплатили что бы он во второй класс не пошел\n",
      "---> учителю заплатили что бы человек во второй класс не попал\n"
     ]
    },
    {
     "name": "stderr",
     "output_type": "stream",
     "text": [
      " 99%|█████████▊| 789/800 [04:55<00:03,  2.97it/s]"
     ]
    },
    {
     "name": "stdout",
     "output_type": "stream",
     "text": [
      "сука зековская ты о чем пуржишь гнида???\n",
      "- О чем ты говоришь\n",
      "- Ты о чем говоришь\n",
      "- Ты о чём говоришь\n",
      "- ты о чем говоришь\n",
      "- О чём ты говоришь\n",
      "- Что ты говоришь\n",
      "- о чем ты говоришь\n",
      "- Что ты несёшь\n",
      "- Зачем ты говоришь\n",
      "- Ты о чем?\n",
      "---> Зачем ты говоришь\n"
     ]
    },
    {
     "name": "stderr",
     "output_type": "stream",
     "text": [
      " 99%|█████████▉| 790/800 [04:56<00:03,  2.85it/s]"
     ]
    },
    {
     "name": "stdout",
     "output_type": "stream",
     "text": [
      "солнышко лохов разводит,а лохи сами лезут,ананисты ебаные🤣🤣🤣🤣🤣🤣🤣🤣🤣🤣🤣🤣🤣🤣\n",
      "- Солнышко обманывает, а люди сами лезут\n",
      "- Солнышко обманывает, а лохи сами лезут\n",
      "- Солнышко обманывает,а люди сами лезут\n",
      "- Солнышко обманывает, а они сами лезут\n",
      "- Солнышко их обманывает, а они сами лезут\n",
      "- Солнышко разводит, а люди сами лезут\n",
      "- Солнышко их разводит, а они сами лезут\n",
      "- Солнышко обманывает людей, а они сами лезут\n",
      "- Солнышко людей разводит, а люди сами лезут\n",
      "- Солнышко обманывает людей, а люди сами лезут\n",
      "---> Солнышко обманывает людей, а люди сами лезут\n"
     ]
    },
    {
     "name": "stderr",
     "output_type": "stream",
     "text": [
      " 99%|█████████▉| 791/800 [04:56<00:03,  2.28it/s]"
     ]
    },
    {
     "name": "stdout",
     "output_type": "stream",
     "text": [
      "Так пендосия и израель только силой завоеванное признают, какие-то рифирендумы-шмифирендумы им неизвестны.\n",
      "- Так пендосия и израель только силой завоеванное признают, какие-то рифирендумы-шмифирендумы им неизвестны.\n",
      "- Так пендосия и израель только силой завоеванное признают, какие-то рифирендумы-шмифирендумы им неизвестны\n",
      "- Так пендосия и израель только силой завоеванное признают\n",
      "- так пендосия и израель только силой завоеванное признают, какие-то рифирендумы-шмифирендумы им неизвестны.\n",
      "- так пендосия и израель только силой завоеванное признают, какие-то рифирендумы-шмифирендумы им неизвестны\n",
      "- так пендосия и израель только силой завоеванное признают\n",
      "- Так пендосия и израель только силой завоёванное признают, какие-то рифирендумы-шмифирендумы им неизвестны.\n",
      "- Так пендосия и израель только силой завоёванное признают, какие-то рифирендумы-шмифирендумы им неизвестны\n",
      "- Так пендосия и израиль только силой завоеванное признают, какие-то рифирендумы-шмифирендумы им неизвестны.\n",
      "- Так пендосия и израиль только силой завоеванное признают, какие-то рифирендумы-шмифирендумы им неизвестны\n",
      "---> Так пендосия и израиль только силой завоеванное признают, какие-то рифирендумы-шмифирендумы им неизвестны.\n"
     ]
    },
    {
     "name": "stderr",
     "output_type": "stream",
     "text": [
      " 99%|█████████▉| 792/800 [04:57<00:03,  2.40it/s]"
     ]
    },
    {
     "name": "stdout",
     "output_type": "stream",
     "text": [
      "Блин, похоже старческий маразм начался, совсем забыл(\n",
      "- Похоже старческий маразм начался\n",
      "- Похоже старческий маразм начался, совсем забыл\n",
      "- Блин, похоже старческий маразм начался, совсем забыл\n",
      "- Похоже старческий маразм начался, совсем забыл(\n",
      "- Блин, похоже старческий маразм начался\n",
      "- Блин, похоже старческий маразм начался, совсем забыл(\n",
      "- Похоже старческий маразм начался. Совсем забыл\n",
      "- Похоже, старческий маразм начался\n",
      "- Похоже старческий маразм начинается\n",
      "- Похоже старческий маразм начал, совсем забыл\n",
      "---> Блин, похоже старческий маразм начался, совсем забыл(\n"
     ]
    },
    {
     "name": "stderr",
     "output_type": "stream",
     "text": [
      " 99%|█████████▉| 793/800 [04:57<00:02,  2.65it/s]"
     ]
    },
    {
     "name": "stdout",
     "output_type": "stream",
     "text": [
      "долбоеб веди себя прилично 😃\n",
      "- веди себя прилично\n",
      "- Ведите себя прилично\n",
      "- Веди себя прилично\n",
      "- Веди себя прилично\n",
      "- Плохой веди себя прилично\n",
      "- Ты веди себя прилично\n",
      "- Не веди себя плохо\n",
      "- веди себя нормально\n",
      "- Плохой человек веди себя прилично\n",
      "- Ведите себя прилично.\n",
      "---> Плохой человек веди себя прилично\n"
     ]
    },
    {
     "name": "stderr",
     "output_type": "stream",
     "text": [
      " 99%|█████████▉| 794/800 [04:58<00:02,  2.27it/s]"
     ]
    },
    {
     "name": "stdout",
     "output_type": "stream",
     "text": [
      "почитал ленту. господи, сколько дебилов! вот спящий зверь молодец - здраво мыслит. ну и девочка про флаг правильно писала.\n",
      "- почитал ленту. господи, сколько людей! вот спящий зверь молодец - здраво мыслит. ну и девочка правильно писала\n",
      "- почитал ленту. господи, сколько людей! вот спящий зверь молодец - здраво мыслит. ну и девочка про флаг правильно писала\n",
      "- почитал ленту. господи, сколько людей! вот спящий зверь молодец - здраво мыслит\n",
      "- почитал ленту. господи, сколько глупцов! вот спящий зверь молодец - здраво мыслит. ну и девочка правильно писала\n",
      "- почитал ленту. господи, сколько людей! вот спящий зверь молодец - здраво мыслит. ну и девочка про флаг правильно писала.\n",
      "- почитал ленту. господи, сколько людей! вот спящий зверь молодец - здраво мыслит. ну и девочка правильно писала.\n",
      "- почитал ленту. господи, сколько глупцов! вот спящий зверь молодец - здраво мыслит. ну и девочка про флаг правильно писала\n",
      "- почитал ленту. господи, сколько глупых людей! вот спящий зверь молодец - здраво мыслит. ну и девочка правильно писала\n",
      "- почитал ленту. господи, сколько плохих людей! вот спящий зверь молодец - здраво мыслит. ну и девочка правильно писала\n",
      "- почитал ленту. господи, сколько глупых людей! вот спящий зверь молодец - здраво мыслит. ну и девочка про флаг правильно писала\n",
      "---> почитал ленту. господи, сколько глупых людей! вот спящий зверь молодец - здраво мыслит. ну и девочка про флаг правильно писала\n"
     ]
    },
    {
     "name": "stderr",
     "output_type": "stream",
     "text": [
      " 99%|█████████▉| 795/800 [04:58<00:01,  2.57it/s]"
     ]
    },
    {
     "name": "stdout",
     "output_type": "stream",
     "text": [
      "хуйней мозг не засирайте. бред сумасшедшего\n",
      "- Бред сумасшедшего\n",
      "- Не умничайте\n",
      "- Бред ненормального\n",
      "- Сумасшедший человек\n",
      "- Не выдумывайте.\n",
      "- Бред больного человека\n",
      "- Бред не пишите\n",
      "- Не надо ерундой голову забивать\n",
      "- Не умничайте.\n",
      "- Глупостью не занимайтесь\n",
      "---> Не надо ерундой голову забивать\n"
     ]
    },
    {
     "name": "stderr",
     "output_type": "stream",
     "text": [
      "100%|█████████▉| 796/800 [04:58<00:01,  2.64it/s]"
     ]
    },
    {
     "name": "stdout",
     "output_type": "stream",
     "text": [
      "киргиз украл, она сбежала, так он ее зарезал сука такой..\n",
      "- Киргиз украл, она сбежала, так он ее убил\n",
      "- Киргиз украл,она сбежала,так он ее убил\n",
      "- Киргиз украл, она убежала, так он ее убил\n",
      "- Киргиз украл, она сбежала, так он ее наказал\n",
      "- киргиз украл, она сбежала, так он ее убил\n",
      "- Киргиз украл,она сбежала,так он ее наказал\n",
      "- киргиз украл, она сбежала, так он ее наказал\n",
      "- Киргиз украл, она убежала, так он ее наказал\n",
      "- Киргиз украл, она сбежала, так он ее зарезал\n",
      "- Киргиз украл,она убежала,так он ее убил\n",
      "---> Киргиз украл, она сбежала, так он ее зарезал\n"
     ]
    },
    {
     "name": "stderr",
     "output_type": "stream",
     "text": [
      "100%|█████████▉| 797/800 [04:59<00:01,  2.34it/s]"
     ]
    },
    {
     "name": "stdout",
     "output_type": "stream",
     "text": [
      "это не от того что желающих работать нет. а от того что эти единопедорассы душат всеми возможными способами сельское хозяйство\n",
      "- это не от того что желающих работать нет. а от того что они душат всеми возможными способами сельское хозяйство\n",
      "- это не от того что желающих работать нет. а от того что эти люди душат всеми возможными способами сельское хозяйство\n",
      "- Это не от того что желающих работать нет. А от того что они душат всеми возможными способами сельское хозяйство\n",
      "- Это не от того, что желающих работать нет. А от того, что они душат всеми возможными способами сельское хозяйство\n",
      "- Это не от того что желающих работать нет. А от того что эти люди душат всеми возможными способами сельское хозяйство\n",
      "- Это не от того что желающих работать нет. А от того, что они душат всеми возможными способами сельское хозяйство\n",
      "- это не от того что желающих работать нет. а от того что этих людей душат всеми возможными способами сельское хозяйство\n",
      "- Это не от того, что желающих работать нет. А от того, что эти люди душат всеми возможными способами сельское хозяйство\n",
      "- Это не от того, что желающих работать нет. А от того, что душат всеми возможными способами сельское хозяйство\n",
      "- Это не от того, что желающих работать нет. А от того, что их душат всеми возможными способами сельское хозяйство\n",
      "---> Это не от того, что желающих работать нет. А от того, что эти люди душат всеми возможными способами сельское хозяйство\n"
     ]
    },
    {
     "name": "stderr",
     "output_type": "stream",
     "text": [
      "100%|█████████▉| 798/800 [04:59<00:00,  2.14it/s]"
     ]
    },
    {
     "name": "stdout",
     "output_type": "stream",
     "text": [
      "долбаеб, решил ресонуться, купил бы кольцо, цветы и на колено, вот что нужно кате а не пафос с вертолета\n",
      "- Решил ресонуться, купил бы кольцо, цветы и на колено, вот что нужно кате а не пафос с вертолета\n",
      "- решил ресонуться, купил бы кольцо, цветы и на колено, вот что нужно кате а не пафос с вертолета\n",
      "- решил ресонуться, купил бы кольцо, цветы и на колено\n",
      "- Решил ресонуться, купил бы кольцо, цветы и на колено, вот что нужно кате\n",
      "- Решил ресонуться, купил бы кольцо, цветы и на колено\n",
      "- Решил ресонуться, купил бы кольцо, цветы и на колено, вот что нужно а не пафос с вертолета\n",
      "- Решил ресонуться, купил бы кольцо, цветы и на колено, вот что нужно кате а не пафос с вертолёта\n",
      "- Решил ресонуться, купил бы кольцо, цветы и на колени\n",
      "- Решил ресонуться, купил бы кольцо, цветы и на колени, вот что нужно кате а не пафос с вертолета\n",
      "- решил ресонуться, купил бы кольцо, цветы и на колено, вот что нужно кате\n",
      "---> Решил ресонуться, купил бы кольцо, цветы и на колени, вот что нужно кате а не пафос с вертолета\n"
     ]
    },
    {
     "name": "stderr",
     "output_type": "stream",
     "text": [
      "100%|█████████▉| 799/800 [05:00<00:00,  2.26it/s]"
     ]
    },
    {
     "name": "stdout",
     "output_type": "stream",
     "text": [
      "такому уроду пасти баранов страшно доверить а он в думе сидит.\n",
      "- такому человеку пасти баранов страшно доверить а он в думе сидит\n",
      "- такому доверять нельзя а он в думе сидит\n",
      "- такому человеку пасти баранов страшно доверить а он в думе сидит.\n",
      "- такому доверить нельзя а он в думе сидит\n",
      "- такому человеку пасти овец страшно доверить а он в думе сидит\n",
      "- Такому человеку доверять нельзя\n",
      "- такому человеку доверять нельзя а он в думе сидит\n",
      "- такому человеку доверить пасти баранов страшно доверить а он в думе сидит\n",
      "- такому доверять нельзя а он в думе сидит.\n",
      "- такому доверять нельзя, а он в думе сидит\n",
      "---> такому человеку доверить пасти баранов страшно доверить а он в думе сидит\n"
     ]
    },
    {
     "name": "stderr",
     "output_type": "stream",
     "text": [
      "100%|██████████| 800/800 [05:00<00:00,  2.66it/s]"
     ]
    },
    {
     "name": "stdout",
     "output_type": "stream",
     "text": [
      "самий пидараз здесь бартамео он уйдёть всё будеть нармалньно я в барсу верю\n",
      "- самый плохой человек здесь бартамео он уйдёть всё будеть нармалньно я в барсу верю\n",
      "- самый плохой человек здесь бартамео он уйдёт всё будеть нармалньно я в барсу верю\n",
      "- Самый плохой человек здесь бартамео он уйдёт всё будеть нармалньно я в барсу верю\n",
      "- Самый плохой человек здесь бартамео он уйдёть всё будеть нармалньно я в барсу верю\n",
      "- самый плохой здесь бартамео он уйдёть всё будеть нармалньно я в барсу верю\n",
      "- самый нехороший здесь бартамео он уйдёть всё будеть нармалньно я в барсу верю\n",
      "- самый нехороший человек здесь бартамео он уйдёть всё будеть нармалньно я в барсу верю\n",
      "- Самый плохой человек здесь бартамео он уйдёт всё будеть нормально я в барсу верю\n",
      "- самый плохой человек тут бартамео он уйдёть всё будеть нармалньно я в барсу верю\n",
      "- самый плохой здесь бартамео он уйдёт всё будеть нармалньно я в барсу верю\n",
      "---> самый нехороший человек здесь бартамео он уйдёть всё будеть нармалньно я в барсу верю\n"
     ]
    },
    {
     "name": "stderr",
     "output_type": "stream",
     "text": [
      "\n"
     ]
    }
   ],
   "source": [
    "from tqdm import tqdm\n",
    "import transformers\n",
    "\n",
    "transformers.logging.set_verbosity_error()\n",
    "\n",
    "beam_count = 10\n",
    "\n",
    "predictions = []\n",
    "    \n",
    "for i in tqdm(valid_dataset[\"toxic_comment\"]):\n",
    "    options = ppln(\n",
    "        {\"toxic_comment\": i},\n",
    "        do_sample=False,\n",
    "        num_beams=beam_count,\n",
    "        num_return_sequences=beam_count,\n",
    "    )\n",
    "\n",
    "    options = [i[\"generated_text\"].replace(\"<pad>\", \"\") for i in options]\n",
    "    print(i)\n",
    "    for opt in options:\n",
    "        print('-', opt)\n",
    "    answer = sorted(options, key=len)[-1]  # get longest answer\n",
    "    print('--->', answer)\n",
    "    predictions.append(answer)\n",
    "\n",
    "with open(\"task2/subm.txt\", \"w\") as f:\n",
    "    f.writelines(list(map(lambda x: x.replace(\"\\n\", \" \") + \"\\n\", predictions)))"
   ]
  },
  {
   "cell_type": "code",
   "execution_count": null,
   "metadata": {
    "id": "7yCjAPNop9b6"
   },
   "outputs": [],
   "source": []
  }
 ],
 "metadata": {
  "colab": {
   "provenance": []
  },
  "interpreter": {
   "hash": "31f2aee4e71d21fbe5cf8b01ff0e069b9275f58929596ceb00d14d90e3e16cd6"
  },
  "kernelspec": {
   "display_name": "Python 3 (ipykernel)",
   "language": "python",
   "name": "python3"
  },
  "language_info": {
   "codemirror_mode": {
    "name": "ipython",
    "version": 3
   },
   "file_extension": ".py",
   "mimetype": "text/x-python",
   "name": "python",
   "nbconvert_exporter": "python",
   "pygments_lexer": "ipython3",
   "version": "3.7.12"
  },
  "widgets": {
   "application/vnd.jupyter.widget-state+json": {
    "002c0cfa7b244deeaeb7b90690c21ba7": {
     "model_module": "@jupyter-widgets/controls",
     "model_module_version": "1.5.0",
     "model_name": "DescriptionStyleModel",
     "state": {
      "_model_module": "@jupyter-widgets/controls",
      "_model_module_version": "1.5.0",
      "_model_name": "DescriptionStyleModel",
      "_view_count": null,
      "_view_module": "@jupyter-widgets/base",
      "_view_module_version": "1.2.0",
      "_view_name": "StyleView",
      "description_width": ""
     }
    },
    "00c4545ab1fc41d0b65ae64398e54b89": {
     "model_module": "@jupyter-widgets/base",
     "model_module_version": "1.2.0",
     "model_name": "LayoutModel",
     "state": {
      "_model_module": "@jupyter-widgets/base",
      "_model_module_version": "1.2.0",
      "_model_name": "LayoutModel",
      "_view_count": null,
      "_view_module": "@jupyter-widgets/base",
      "_view_module_version": "1.2.0",
      "_view_name": "LayoutView",
      "align_content": null,
      "align_items": null,
      "align_self": null,
      "border": null,
      "bottom": null,
      "display": null,
      "flex": null,
      "flex_flow": null,
      "grid_area": null,
      "grid_auto_columns": null,
      "grid_auto_flow": null,
      "grid_auto_rows": null,
      "grid_column": null,
      "grid_gap": null,
      "grid_row": null,
      "grid_template_areas": null,
      "grid_template_columns": null,
      "grid_template_rows": null,
      "height": null,
      "justify_content": null,
      "justify_items": null,
      "left": null,
      "margin": null,
      "max_height": null,
      "max_width": null,
      "min_height": null,
      "min_width": null,
      "object_fit": null,
      "object_position": null,
      "order": null,
      "overflow": null,
      "overflow_x": null,
      "overflow_y": null,
      "padding": null,
      "right": null,
      "top": null,
      "visibility": null,
      "width": null
     }
    },
    "00d84f30d26c40a5b5cf6dbad116c6b7": {
     "model_module": "@jupyter-widgets/controls",
     "model_module_version": "1.5.0",
     "model_name": "ProgressStyleModel",
     "state": {
      "_model_module": "@jupyter-widgets/controls",
      "_model_module_version": "1.5.0",
      "_model_name": "ProgressStyleModel",
      "_view_count": null,
      "_view_module": "@jupyter-widgets/base",
      "_view_module_version": "1.2.0",
      "_view_name": "StyleView",
      "bar_color": null,
      "description_width": ""
     }
    },
    "029f7d05137444f899c5c9f8ed6b61d2": {
     "model_module": "@jupyter-widgets/controls",
     "model_module_version": "1.5.0",
     "model_name": "HTMLModel",
     "state": {
      "_dom_classes": [],
      "_model_module": "@jupyter-widgets/controls",
      "_model_module_version": "1.5.0",
      "_model_name": "HTMLModel",
      "_view_count": null,
      "_view_module": "@jupyter-widgets/controls",
      "_view_module_version": "1.5.0",
      "_view_name": "HTMLView",
      "description": "",
      "description_tooltip": null,
      "layout": "IPY_MODEL_86d5b38483ec407ea91620464d0e07c8",
      "placeholder": "​",
      "style": "IPY_MODEL_081410e68b5f4ecabb18bdc804fbd50d",
      "value": "Map: 100%"
     }
    },
    "02c3a1b661094873b9ae51cde04a39d8": {
     "model_module": "@jupyter-widgets/base",
     "model_module_version": "1.2.0",
     "model_name": "LayoutModel",
     "state": {
      "_model_module": "@jupyter-widgets/base",
      "_model_module_version": "1.2.0",
      "_model_name": "LayoutModel",
      "_view_count": null,
      "_view_module": "@jupyter-widgets/base",
      "_view_module_version": "1.2.0",
      "_view_name": "LayoutView",
      "align_content": null,
      "align_items": null,
      "align_self": null,
      "border": null,
      "bottom": null,
      "display": null,
      "flex": null,
      "flex_flow": null,
      "grid_area": null,
      "grid_auto_columns": null,
      "grid_auto_flow": null,
      "grid_auto_rows": null,
      "grid_column": null,
      "grid_gap": null,
      "grid_row": null,
      "grid_template_areas": null,
      "grid_template_columns": null,
      "grid_template_rows": null,
      "height": null,
      "justify_content": null,
      "justify_items": null,
      "left": null,
      "margin": null,
      "max_height": null,
      "max_width": null,
      "min_height": null,
      "min_width": null,
      "object_fit": null,
      "object_position": null,
      "order": null,
      "overflow": null,
      "overflow_x": null,
      "overflow_y": null,
      "padding": null,
      "right": null,
      "top": null,
      "visibility": null,
      "width": null
     }
    },
    "03f04287a39d4de7967687eb177c01f8": {
     "model_module": "@jupyter-widgets/controls",
     "model_module_version": "1.5.0",
     "model_name": "DescriptionStyleModel",
     "state": {
      "_model_module": "@jupyter-widgets/controls",
      "_model_module_version": "1.5.0",
      "_model_name": "DescriptionStyleModel",
      "_view_count": null,
      "_view_module": "@jupyter-widgets/base",
      "_view_module_version": "1.2.0",
      "_view_name": "StyleView",
      "description_width": ""
     }
    },
    "046f527a014a4ce88aa64935d6ff2e49": {
     "model_module": "@jupyter-widgets/controls",
     "model_module_version": "1.5.0",
     "model_name": "FloatProgressModel",
     "state": {
      "_dom_classes": [],
      "_model_module": "@jupyter-widgets/controls",
      "_model_module_version": "1.5.0",
      "_model_name": "FloatProgressModel",
      "_view_count": null,
      "_view_module": "@jupyter-widgets/controls",
      "_view_module_version": "1.5.0",
      "_view_name": "ProgressView",
      "bar_style": "info",
      "description": "",
      "description_tooltip": null,
      "layout": "IPY_MODEL_2631ff89fa694906aa87d4f3160579fd",
      "max": 1,
      "min": 0,
      "orientation": "horizontal",
      "style": "IPY_MODEL_65f5776bbcd24305911634557f441cfe",
      "value": 1
     }
    },
    "07ac42fe2b3e45a2b9a6fe979e5c0c19": {
     "model_module": "@jupyter-widgets/controls",
     "model_module_version": "1.5.0",
     "model_name": "HTMLModel",
     "state": {
      "_dom_classes": [],
      "_model_module": "@jupyter-widgets/controls",
      "_model_module_version": "1.5.0",
      "_model_name": "HTMLModel",
      "_view_count": null,
      "_view_module": "@jupyter-widgets/controls",
      "_view_module_version": "1.5.0",
      "_view_name": "HTMLView",
      "description": "",
      "description_tooltip": null,
      "layout": "IPY_MODEL_ef66cbc6d72145a2ba5477ea79b1a79c",
      "placeholder": "​",
      "style": "IPY_MODEL_65113c5f64e54e8cb09f898ddc6de229",
      "value": "Generating train split: "
     }
    },
    "081410e68b5f4ecabb18bdc804fbd50d": {
     "model_module": "@jupyter-widgets/controls",
     "model_module_version": "1.5.0",
     "model_name": "DescriptionStyleModel",
     "state": {
      "_model_module": "@jupyter-widgets/controls",
      "_model_module_version": "1.5.0",
      "_model_name": "DescriptionStyleModel",
      "_view_count": null,
      "_view_module": "@jupyter-widgets/base",
      "_view_module_version": "1.2.0",
      "_view_name": "StyleView",
      "description_width": ""
     }
    },
    "107cdad4b73c41d8ae0735e666cd28e6": {
     "model_module": "@jupyter-widgets/controls",
     "model_module_version": "1.5.0",
     "model_name": "HBoxModel",
     "state": {
      "_dom_classes": [],
      "_model_module": "@jupyter-widgets/controls",
      "_model_module_version": "1.5.0",
      "_model_name": "HBoxModel",
      "_view_count": null,
      "_view_module": "@jupyter-widgets/controls",
      "_view_module_version": "1.5.0",
      "_view_name": "HBoxView",
      "box_style": "",
      "children": [
       "IPY_MODEL_61859580ae25478f8e57a2d1e86a59c3",
       "IPY_MODEL_6e9ab35effb94a5c9dbd745d487355ce",
       "IPY_MODEL_bca6e6d51aad4c8d957e887422f731ca"
      ],
      "layout": "IPY_MODEL_3ac88cb1a17f4589a90dcbec291c2fdb"
     }
    },
    "1424164675d24836946a6dd790f3395a": {
     "model_module": "@jupyter-widgets/base",
     "model_module_version": "1.2.0",
     "model_name": "LayoutModel",
     "state": {
      "_model_module": "@jupyter-widgets/base",
      "_model_module_version": "1.2.0",
      "_model_name": "LayoutModel",
      "_view_count": null,
      "_view_module": "@jupyter-widgets/base",
      "_view_module_version": "1.2.0",
      "_view_name": "LayoutView",
      "align_content": null,
      "align_items": null,
      "align_self": null,
      "border": null,
      "bottom": null,
      "display": null,
      "flex": null,
      "flex_flow": null,
      "grid_area": null,
      "grid_auto_columns": null,
      "grid_auto_flow": null,
      "grid_auto_rows": null,
      "grid_column": null,
      "grid_gap": null,
      "grid_row": null,
      "grid_template_areas": null,
      "grid_template_columns": null,
      "grid_template_rows": null,
      "height": null,
      "justify_content": null,
      "justify_items": null,
      "left": null,
      "margin": null,
      "max_height": null,
      "max_width": null,
      "min_height": null,
      "min_width": null,
      "object_fit": null,
      "object_position": null,
      "order": null,
      "overflow": null,
      "overflow_x": null,
      "overflow_y": null,
      "padding": null,
      "right": null,
      "top": null,
      "visibility": null,
      "width": null
     }
    },
    "14e333cbb7034c96a5bb9908479baeb5": {
     "model_module": "@jupyter-widgets/controls",
     "model_module_version": "1.5.0",
     "model_name": "DescriptionStyleModel",
     "state": {
      "_model_module": "@jupyter-widgets/controls",
      "_model_module_version": "1.5.0",
      "_model_name": "DescriptionStyleModel",
      "_view_count": null,
      "_view_module": "@jupyter-widgets/base",
      "_view_module_version": "1.2.0",
      "_view_name": "StyleView",
      "description_width": ""
     }
    },
    "15c025acda8949c0a1efd4b4f608187d": {
     "model_module": "@jupyter-widgets/controls",
     "model_module_version": "1.5.0",
     "model_name": "HTMLModel",
     "state": {
      "_dom_classes": [],
      "_model_module": "@jupyter-widgets/controls",
      "_model_module_version": "1.5.0",
      "_model_name": "HTMLModel",
      "_view_count": null,
      "_view_module": "@jupyter-widgets/controls",
      "_view_module_version": "1.5.0",
      "_view_name": "HTMLView",
      "description": "",
      "description_tooltip": null,
      "layout": "IPY_MODEL_ad006078ce5f495fadd4f6fa9304b46a",
      "placeholder": "​",
      "style": "IPY_MODEL_002c0cfa7b244deeaeb7b90690c21ba7",
      "value": "Generating validation split: "
     }
    },
    "1a19ae52ded948839280bdb97888f01d": {
     "model_module": "@jupyter-widgets/controls",
     "model_module_version": "1.5.0",
     "model_name": "HTMLModel",
     "state": {
      "_dom_classes": [],
      "_model_module": "@jupyter-widgets/controls",
      "_model_module_version": "1.5.0",
      "_model_name": "HTMLModel",
      "_view_count": null,
      "_view_module": "@jupyter-widgets/controls",
      "_view_module_version": "1.5.0",
      "_view_name": "HTMLView",
      "description": "",
      "description_tooltip": null,
      "layout": "IPY_MODEL_ce7e6d44b8324436958b8f5dd466db1c",
      "placeholder": "​",
      "style": "IPY_MODEL_676284d1fa1b4669904ccd7a347223d3",
      "value": "Downloading pytorch_model.bin: 100%"
     }
    },
    "1afaeaf9a9dd4454b1052f8a08b7ce7e": {
     "model_module": "@jupyter-widgets/controls",
     "model_module_version": "1.5.0",
     "model_name": "HTMLModel",
     "state": {
      "_dom_classes": [],
      "_model_module": "@jupyter-widgets/controls",
      "_model_module_version": "1.5.0",
      "_model_name": "HTMLModel",
      "_view_count": null,
      "_view_module": "@jupyter-widgets/controls",
      "_view_module_version": "1.5.0",
      "_view_name": "HTMLView",
      "description": "",
      "description_tooltip": null,
      "layout": "IPY_MODEL_40549a8d3a254579b3eedb37f5305f5c",
      "placeholder": "​",
      "style": "IPY_MODEL_14e333cbb7034c96a5bb9908479baeb5",
      "value": " 2/2 [00:00&lt;00:00, 63.84it/s]"
     }
    },
    "1dccf02b0ed44a3abc7c800a099f4e39": {
     "model_module": "@jupyter-widgets/base",
     "model_module_version": "1.2.0",
     "model_name": "LayoutModel",
     "state": {
      "_model_module": "@jupyter-widgets/base",
      "_model_module_version": "1.2.0",
      "_model_name": "LayoutModel",
      "_view_count": null,
      "_view_module": "@jupyter-widgets/base",
      "_view_module_version": "1.2.0",
      "_view_name": "LayoutView",
      "align_content": null,
      "align_items": null,
      "align_self": null,
      "border": null,
      "bottom": null,
      "display": null,
      "flex": null,
      "flex_flow": null,
      "grid_area": null,
      "grid_auto_columns": null,
      "grid_auto_flow": null,
      "grid_auto_rows": null,
      "grid_column": null,
      "grid_gap": null,
      "grid_row": null,
      "grid_template_areas": null,
      "grid_template_columns": null,
      "grid_template_rows": null,
      "height": null,
      "justify_content": null,
      "justify_items": null,
      "left": null,
      "margin": null,
      "max_height": null,
      "max_width": null,
      "min_height": null,
      "min_width": null,
      "object_fit": null,
      "object_position": null,
      "order": null,
      "overflow": null,
      "overflow_x": null,
      "overflow_y": null,
      "padding": null,
      "right": null,
      "top": null,
      "visibility": null,
      "width": null
     }
    },
    "1fdff570fb42461e80163bfc7fc3f5e4": {
     "model_module": "@jupyter-widgets/controls",
     "model_module_version": "1.5.0",
     "model_name": "HTMLModel",
     "state": {
      "_dom_classes": [],
      "_model_module": "@jupyter-widgets/controls",
      "_model_module_version": "1.5.0",
      "_model_name": "HTMLModel",
      "_view_count": null,
      "_view_module": "@jupyter-widgets/controls",
      "_view_module_version": "1.5.0",
      "_view_name": "HTMLView",
      "description": "",
      "description_tooltip": null,
      "layout": "IPY_MODEL_9e148188007544aea528ea704561686d",
      "placeholder": "​",
      "style": "IPY_MODEL_03f04287a39d4de7967687eb177c01f8",
      "value": " 1.27M/1.27M [00:00&lt;00:00, 3.92MB/s]"
     }
    },
    "201a42183dcf44929dcaa3a8c47f6259": {
     "model_module": "@jupyter-widgets/controls",
     "model_module_version": "1.5.0",
     "model_name": "HTMLModel",
     "state": {
      "_dom_classes": [],
      "_model_module": "@jupyter-widgets/controls",
      "_model_module_version": "1.5.0",
      "_model_name": "HTMLModel",
      "_view_count": null,
      "_view_module": "@jupyter-widgets/controls",
      "_view_module_version": "1.5.0",
      "_view_name": "HTMLView",
      "description": "",
      "description_tooltip": null,
      "layout": "IPY_MODEL_792b9f86282d47b3b1dd2cc5c93bc251",
      "placeholder": "​",
      "style": "IPY_MODEL_2fdbdec1c17d4276b1c4ee329c3d7a33",
      "value": "100%"
     }
    },
    "20538263c3f34949b039b5a6b6146849": {
     "model_module": "@jupyter-widgets/controls",
     "model_module_version": "1.5.0",
     "model_name": "ProgressStyleModel",
     "state": {
      "_model_module": "@jupyter-widgets/controls",
      "_model_module_version": "1.5.0",
      "_model_name": "ProgressStyleModel",
      "_view_count": null,
      "_view_module": "@jupyter-widgets/base",
      "_view_module_version": "1.2.0",
      "_view_name": "StyleView",
      "bar_color": null,
      "description_width": ""
     }
    },
    "20a943bf892a457eb0bff06e6c28d149": {
     "model_module": "@jupyter-widgets/base",
     "model_module_version": "1.2.0",
     "model_name": "LayoutModel",
     "state": {
      "_model_module": "@jupyter-widgets/base",
      "_model_module_version": "1.2.0",
      "_model_name": "LayoutModel",
      "_view_count": null,
      "_view_module": "@jupyter-widgets/base",
      "_view_module_version": "1.2.0",
      "_view_name": "LayoutView",
      "align_content": null,
      "align_items": null,
      "align_self": null,
      "border": null,
      "bottom": null,
      "display": null,
      "flex": null,
      "flex_flow": null,
      "grid_area": null,
      "grid_auto_columns": null,
      "grid_auto_flow": null,
      "grid_auto_rows": null,
      "grid_column": null,
      "grid_gap": null,
      "grid_row": null,
      "grid_template_areas": null,
      "grid_template_columns": null,
      "grid_template_rows": null,
      "height": null,
      "justify_content": null,
      "justify_items": null,
      "left": null,
      "margin": null,
      "max_height": null,
      "max_width": null,
      "min_height": null,
      "min_width": null,
      "object_fit": null,
      "object_position": null,
      "order": null,
      "overflow": null,
      "overflow_x": null,
      "overflow_y": null,
      "padding": null,
      "right": null,
      "top": null,
      "visibility": null,
      "width": null
     }
    },
    "2631ff89fa694906aa87d4f3160579fd": {
     "model_module": "@jupyter-widgets/base",
     "model_module_version": "1.2.0",
     "model_name": "LayoutModel",
     "state": {
      "_model_module": "@jupyter-widgets/base",
      "_model_module_version": "1.2.0",
      "_model_name": "LayoutModel",
      "_view_count": null,
      "_view_module": "@jupyter-widgets/base",
      "_view_module_version": "1.2.0",
      "_view_name": "LayoutView",
      "align_content": null,
      "align_items": null,
      "align_self": null,
      "border": null,
      "bottom": null,
      "display": null,
      "flex": null,
      "flex_flow": null,
      "grid_area": null,
      "grid_auto_columns": null,
      "grid_auto_flow": null,
      "grid_auto_rows": null,
      "grid_column": null,
      "grid_gap": null,
      "grid_row": null,
      "grid_template_areas": null,
      "grid_template_columns": null,
      "grid_template_rows": null,
      "height": null,
      "justify_content": null,
      "justify_items": null,
      "left": null,
      "margin": null,
      "max_height": null,
      "max_width": null,
      "min_height": null,
      "min_width": null,
      "object_fit": null,
      "object_position": null,
      "order": null,
      "overflow": null,
      "overflow_x": null,
      "overflow_y": null,
      "padding": null,
      "right": null,
      "top": null,
      "visibility": null,
      "width": "20px"
     }
    },
    "2790ff47134c442cbf6f42cee666e8ce": {
     "model_module": "@jupyter-widgets/controls",
     "model_module_version": "1.5.0",
     "model_name": "HTMLModel",
     "state": {
      "_dom_classes": [],
      "_model_module": "@jupyter-widgets/controls",
      "_model_module_version": "1.5.0",
      "_model_name": "HTMLModel",
      "_view_count": null,
      "_view_module": "@jupyter-widgets/controls",
      "_view_module_version": "1.5.0",
      "_view_name": "HTMLView",
      "description": "",
      "description_tooltip": null,
      "layout": "IPY_MODEL_708dce97b3834f4eb29017ca267face5",
      "placeholder": "​",
      "style": "IPY_MODEL_c2bdea6167e84b2fb46b99fdf4a88202",
      "value": " 6921/6948 [00:11&lt;00:00, 389.28 examples/s]"
     }
    },
    "2a2ffeeb85804d36a0bff09415f3be54": {
     "model_module": "@jupyter-widgets/controls",
     "model_module_version": "1.5.0",
     "model_name": "HTMLModel",
     "state": {
      "_dom_classes": [],
      "_model_module": "@jupyter-widgets/controls",
      "_model_module_version": "1.5.0",
      "_model_name": "HTMLModel",
      "_view_count": null,
      "_view_module": "@jupyter-widgets/controls",
      "_view_module_version": "1.5.0",
      "_view_name": "HTMLView",
      "description": "",
      "description_tooltip": null,
      "layout": "IPY_MODEL_a8b51a3e967749149073f1dc6c9892aa",
      "placeholder": "​",
      "style": "IPY_MODEL_8acbb570192f4f09a66c2ec71e716559",
      "value": " 609/609 [00:00&lt;00:00, 18.6kB/s]"
     }
    },
    "2b9babfb775c489ebe4a2d15020186f2": {
     "model_module": "@jupyter-widgets/controls",
     "model_module_version": "1.5.0",
     "model_name": "DescriptionStyleModel",
     "state": {
      "_model_module": "@jupyter-widgets/controls",
      "_model_module_version": "1.5.0",
      "_model_name": "DescriptionStyleModel",
      "_view_count": null,
      "_view_module": "@jupyter-widgets/base",
      "_view_module_version": "1.2.0",
      "_view_name": "StyleView",
      "description_width": ""
     }
    },
    "2ba399042ba24b1ea2d91b28511cfe75": {
     "model_module": "@jupyter-widgets/controls",
     "model_module_version": "1.5.0",
     "model_name": "HBoxModel",
     "state": {
      "_dom_classes": [],
      "_model_module": "@jupyter-widgets/controls",
      "_model_module_version": "1.5.0",
      "_model_name": "HBoxModel",
      "_view_count": null,
      "_view_module": "@jupyter-widgets/controls",
      "_view_module_version": "1.5.0",
      "_view_name": "HBoxView",
      "box_style": "",
      "children": [
       "IPY_MODEL_acb7a456e21c474d9065fb3690b83ae7",
       "IPY_MODEL_ab2aa636cf484283b201c73dbe86eb97",
       "IPY_MODEL_b33470410f3543b68dc662149191ed22"
      ],
      "layout": "IPY_MODEL_981d12ee994243e498e6966812e1d61d"
     }
    },
    "2d6d1a5bb27b41b5bfb85d504b446647": {
     "model_module": "@jupyter-widgets/controls",
     "model_module_version": "1.5.0",
     "model_name": "HBoxModel",
     "state": {
      "_dom_classes": [],
      "_model_module": "@jupyter-widgets/controls",
      "_model_module_version": "1.5.0",
      "_model_name": "HBoxModel",
      "_view_count": null,
      "_view_module": "@jupyter-widgets/controls",
      "_view_module_version": "1.5.0",
      "_view_name": "HBoxView",
      "box_style": "",
      "children": [
       "IPY_MODEL_4e0e393049ee4b8aa1f9bb50ee60ff06",
       "IPY_MODEL_8e50ffe2b8074afe9959b4fbca0fdd34",
       "IPY_MODEL_1afaeaf9a9dd4454b1052f8a08b7ce7e"
      ],
      "layout": "IPY_MODEL_4ca3c4b3b8734a7dba3da1808afe1436"
     }
    },
    "2e81234369b547128e1b1522d87e3212": {
     "model_module": "@jupyter-widgets/controls",
     "model_module_version": "1.5.0",
     "model_name": "ProgressStyleModel",
     "state": {
      "_model_module": "@jupyter-widgets/controls",
      "_model_module_version": "1.5.0",
      "_model_name": "ProgressStyleModel",
      "_view_count": null,
      "_view_module": "@jupyter-widgets/base",
      "_view_module_version": "1.2.0",
      "_view_name": "StyleView",
      "bar_color": null,
      "description_width": ""
     }
    },
    "2ed10b6c10db408fb8013bbc4af9f30d": {
     "model_module": "@jupyter-widgets/controls",
     "model_module_version": "1.5.0",
     "model_name": "DescriptionStyleModel",
     "state": {
      "_model_module": "@jupyter-widgets/controls",
      "_model_module_version": "1.5.0",
      "_model_name": "DescriptionStyleModel",
      "_view_count": null,
      "_view_module": "@jupyter-widgets/base",
      "_view_module_version": "1.2.0",
      "_view_name": "StyleView",
      "description_width": ""
     }
    },
    "2fdbdec1c17d4276b1c4ee329c3d7a33": {
     "model_module": "@jupyter-widgets/controls",
     "model_module_version": "1.5.0",
     "model_name": "DescriptionStyleModel",
     "state": {
      "_model_module": "@jupyter-widgets/controls",
      "_model_module_version": "1.5.0",
      "_model_name": "DescriptionStyleModel",
      "_view_count": null,
      "_view_module": "@jupyter-widgets/base",
      "_view_module_version": "1.2.0",
      "_view_name": "StyleView",
      "description_width": ""
     }
    },
    "346c975dca5545fcb9cc2ec04d7e646e": {
     "model_module": "@jupyter-widgets/controls",
     "model_module_version": "1.5.0",
     "model_name": "HBoxModel",
     "state": {
      "_dom_classes": [],
      "_model_module": "@jupyter-widgets/controls",
      "_model_module_version": "1.5.0",
      "_model_name": "HBoxModel",
      "_view_count": null,
      "_view_module": "@jupyter-widgets/controls",
      "_view_module_version": "1.5.0",
      "_view_name": "HBoxView",
      "box_style": "",
      "children": [
       "IPY_MODEL_029f7d05137444f899c5c9f8ed6b61d2",
       "IPY_MODEL_7b772c2d413d4dffb666b23dbc332fe4",
       "IPY_MODEL_2790ff47134c442cbf6f42cee666e8ce"
      ],
      "layout": "IPY_MODEL_f29b51f47eda4f0aac84de67d2958751"
     }
    },
    "35dcf54ed74c4a6095de8662129efb09": {
     "model_module": "@jupyter-widgets/base",
     "model_module_version": "1.2.0",
     "model_name": "LayoutModel",
     "state": {
      "_model_module": "@jupyter-widgets/base",
      "_model_module_version": "1.2.0",
      "_model_name": "LayoutModel",
      "_view_count": null,
      "_view_module": "@jupyter-widgets/base",
      "_view_module_version": "1.2.0",
      "_view_name": "LayoutView",
      "align_content": null,
      "align_items": null,
      "align_self": null,
      "border": null,
      "bottom": null,
      "display": null,
      "flex": null,
      "flex_flow": null,
      "grid_area": null,
      "grid_auto_columns": null,
      "grid_auto_flow": null,
      "grid_auto_rows": null,
      "grid_column": null,
      "grid_gap": null,
      "grid_row": null,
      "grid_template_areas": null,
      "grid_template_columns": null,
      "grid_template_rows": null,
      "height": null,
      "justify_content": null,
      "justify_items": null,
      "left": null,
      "margin": null,
      "max_height": null,
      "max_width": null,
      "min_height": null,
      "min_width": null,
      "object_fit": null,
      "object_position": null,
      "order": null,
      "overflow": null,
      "overflow_x": null,
      "overflow_y": null,
      "padding": null,
      "right": null,
      "top": null,
      "visibility": null,
      "width": null
     }
    },
    "3753daf5ce714bddacd19e61d50166d6": {
     "model_module": "@jupyter-widgets/controls",
     "model_module_version": "1.5.0",
     "model_name": "DescriptionStyleModel",
     "state": {
      "_model_module": "@jupyter-widgets/controls",
      "_model_module_version": "1.5.0",
      "_model_name": "DescriptionStyleModel",
      "_view_count": null,
      "_view_module": "@jupyter-widgets/base",
      "_view_module_version": "1.2.0",
      "_view_name": "StyleView",
      "description_width": ""
     }
    },
    "3846c373743c4d228cede3625f34405f": {
     "model_module": "@jupyter-widgets/controls",
     "model_module_version": "1.5.0",
     "model_name": "FloatProgressModel",
     "state": {
      "_dom_classes": [],
      "_model_module": "@jupyter-widgets/controls",
      "_model_module_version": "1.5.0",
      "_model_name": "FloatProgressModel",
      "_view_count": null,
      "_view_module": "@jupyter-widgets/controls",
      "_view_module_version": "1.5.0",
      "_view_name": "ProgressView",
      "bar_style": "success",
      "description": "",
      "description_tooltip": null,
      "layout": "IPY_MODEL_cb4731f886a3431381752fd2873a7040",
      "max": 609,
      "min": 0,
      "orientation": "horizontal",
      "style": "IPY_MODEL_5a8850f966724ce59524896d0a9c3bf9",
      "value": 609
     }
    },
    "397ded3e3c8349b0bae1b3edc09c98fb": {
     "model_module": "@jupyter-widgets/base",
     "model_module_version": "1.2.0",
     "model_name": "LayoutModel",
     "state": {
      "_model_module": "@jupyter-widgets/base",
      "_model_module_version": "1.2.0",
      "_model_name": "LayoutModel",
      "_view_count": null,
      "_view_module": "@jupyter-widgets/base",
      "_view_module_version": "1.2.0",
      "_view_name": "LayoutView",
      "align_content": null,
      "align_items": null,
      "align_self": null,
      "border": null,
      "bottom": null,
      "display": null,
      "flex": null,
      "flex_flow": null,
      "grid_area": null,
      "grid_auto_columns": null,
      "grid_auto_flow": null,
      "grid_auto_rows": null,
      "grid_column": null,
      "grid_gap": null,
      "grid_row": null,
      "grid_template_areas": null,
      "grid_template_columns": null,
      "grid_template_rows": null,
      "height": null,
      "justify_content": null,
      "justify_items": null,
      "left": null,
      "margin": null,
      "max_height": null,
      "max_width": null,
      "min_height": null,
      "min_width": null,
      "object_fit": null,
      "object_position": null,
      "order": null,
      "overflow": null,
      "overflow_x": null,
      "overflow_y": null,
      "padding": null,
      "right": null,
      "top": null,
      "visibility": null,
      "width": null
     }
    },
    "3ac88cb1a17f4589a90dcbec291c2fdb": {
     "model_module": "@jupyter-widgets/base",
     "model_module_version": "1.2.0",
     "model_name": "LayoutModel",
     "state": {
      "_model_module": "@jupyter-widgets/base",
      "_model_module_version": "1.2.0",
      "_model_name": "LayoutModel",
      "_view_count": null,
      "_view_module": "@jupyter-widgets/base",
      "_view_module_version": "1.2.0",
      "_view_name": "LayoutView",
      "align_content": null,
      "align_items": null,
      "align_self": null,
      "border": null,
      "bottom": null,
      "display": null,
      "flex": null,
      "flex_flow": null,
      "grid_area": null,
      "grid_auto_columns": null,
      "grid_auto_flow": null,
      "grid_auto_rows": null,
      "grid_column": null,
      "grid_gap": null,
      "grid_row": null,
      "grid_template_areas": null,
      "grid_template_columns": null,
      "grid_template_rows": null,
      "height": null,
      "justify_content": null,
      "justify_items": null,
      "left": null,
      "margin": null,
      "max_height": null,
      "max_width": null,
      "min_height": null,
      "min_width": null,
      "object_fit": null,
      "object_position": null,
      "order": null,
      "overflow": null,
      "overflow_x": null,
      "overflow_y": null,
      "padding": null,
      "right": null,
      "top": null,
      "visibility": null,
      "width": null
     }
    },
    "3f1d44bb00504472abd689f5a66f4344": {
     "model_module": "@jupyter-widgets/controls",
     "model_module_version": "1.5.0",
     "model_name": "DescriptionStyleModel",
     "state": {
      "_model_module": "@jupyter-widgets/controls",
      "_model_module_version": "1.5.0",
      "_model_name": "DescriptionStyleModel",
      "_view_count": null,
      "_view_module": "@jupyter-widgets/base",
      "_view_module_version": "1.2.0",
      "_view_name": "StyleView",
      "description_width": ""
     }
    },
    "40549a8d3a254579b3eedb37f5305f5c": {
     "model_module": "@jupyter-widgets/base",
     "model_module_version": "1.2.0",
     "model_name": "LayoutModel",
     "state": {
      "_model_module": "@jupyter-widgets/base",
      "_model_module_version": "1.2.0",
      "_model_name": "LayoutModel",
      "_view_count": null,
      "_view_module": "@jupyter-widgets/base",
      "_view_module_version": "1.2.0",
      "_view_name": "LayoutView",
      "align_content": null,
      "align_items": null,
      "align_self": null,
      "border": null,
      "bottom": null,
      "display": null,
      "flex": null,
      "flex_flow": null,
      "grid_area": null,
      "grid_auto_columns": null,
      "grid_auto_flow": null,
      "grid_auto_rows": null,
      "grid_column": null,
      "grid_gap": null,
      "grid_row": null,
      "grid_template_areas": null,
      "grid_template_columns": null,
      "grid_template_rows": null,
      "height": null,
      "justify_content": null,
      "justify_items": null,
      "left": null,
      "margin": null,
      "max_height": null,
      "max_width": null,
      "min_height": null,
      "min_width": null,
      "object_fit": null,
      "object_position": null,
      "order": null,
      "overflow": null,
      "overflow_x": null,
      "overflow_y": null,
      "padding": null,
      "right": null,
      "top": null,
      "visibility": null,
      "width": null
     }
    },
    "486c403c927e43ab87a4e6cbf55f2969": {
     "model_module": "@jupyter-widgets/base",
     "model_module_version": "1.2.0",
     "model_name": "LayoutModel",
     "state": {
      "_model_module": "@jupyter-widgets/base",
      "_model_module_version": "1.2.0",
      "_model_name": "LayoutModel",
      "_view_count": null,
      "_view_module": "@jupyter-widgets/base",
      "_view_module_version": "1.2.0",
      "_view_name": "LayoutView",
      "align_content": null,
      "align_items": null,
      "align_self": null,
      "border": null,
      "bottom": null,
      "display": null,
      "flex": null,
      "flex_flow": null,
      "grid_area": null,
      "grid_auto_columns": null,
      "grid_auto_flow": null,
      "grid_auto_rows": null,
      "grid_column": null,
      "grid_gap": null,
      "grid_row": null,
      "grid_template_areas": null,
      "grid_template_columns": null,
      "grid_template_rows": null,
      "height": null,
      "justify_content": null,
      "justify_items": null,
      "left": null,
      "margin": null,
      "max_height": null,
      "max_width": null,
      "min_height": null,
      "min_width": null,
      "object_fit": null,
      "object_position": null,
      "order": null,
      "overflow": null,
      "overflow_x": null,
      "overflow_y": null,
      "padding": null,
      "right": null,
      "top": null,
      "visibility": null,
      "width": null
     }
    },
    "48f0c74afde94cf3b7746a3cc494dffe": {
     "model_module": "@jupyter-widgets/base",
     "model_module_version": "1.2.0",
     "model_name": "LayoutModel",
     "state": {
      "_model_module": "@jupyter-widgets/base",
      "_model_module_version": "1.2.0",
      "_model_name": "LayoutModel",
      "_view_count": null,
      "_view_module": "@jupyter-widgets/base",
      "_view_module_version": "1.2.0",
      "_view_name": "LayoutView",
      "align_content": null,
      "align_items": null,
      "align_self": null,
      "border": null,
      "bottom": null,
      "display": null,
      "flex": null,
      "flex_flow": null,
      "grid_area": null,
      "grid_auto_columns": null,
      "grid_auto_flow": null,
      "grid_auto_rows": null,
      "grid_column": null,
      "grid_gap": null,
      "grid_row": null,
      "grid_template_areas": null,
      "grid_template_columns": null,
      "grid_template_rows": null,
      "height": null,
      "justify_content": null,
      "justify_items": null,
      "left": null,
      "margin": null,
      "max_height": null,
      "max_width": null,
      "min_height": null,
      "min_width": null,
      "object_fit": null,
      "object_position": null,
      "order": null,
      "overflow": null,
      "overflow_x": null,
      "overflow_y": null,
      "padding": null,
      "right": null,
      "top": null,
      "visibility": null,
      "width": null
     }
    },
    "4ba105d467444e08b8b1bc494f10da1b": {
     "model_module": "@jupyter-widgets/controls",
     "model_module_version": "1.5.0",
     "model_name": "DescriptionStyleModel",
     "state": {
      "_model_module": "@jupyter-widgets/controls",
      "_model_module_version": "1.5.0",
      "_model_name": "DescriptionStyleModel",
      "_view_count": null,
      "_view_module": "@jupyter-widgets/base",
      "_view_module_version": "1.2.0",
      "_view_name": "StyleView",
      "description_width": ""
     }
    },
    "4ca3c4b3b8734a7dba3da1808afe1436": {
     "model_module": "@jupyter-widgets/base",
     "model_module_version": "1.2.0",
     "model_name": "LayoutModel",
     "state": {
      "_model_module": "@jupyter-widgets/base",
      "_model_module_version": "1.2.0",
      "_model_name": "LayoutModel",
      "_view_count": null,
      "_view_module": "@jupyter-widgets/base",
      "_view_module_version": "1.2.0",
      "_view_name": "LayoutView",
      "align_content": null,
      "align_items": null,
      "align_self": null,
      "border": null,
      "bottom": null,
      "display": null,
      "flex": null,
      "flex_flow": null,
      "grid_area": null,
      "grid_auto_columns": null,
      "grid_auto_flow": null,
      "grid_auto_rows": null,
      "grid_column": null,
      "grid_gap": null,
      "grid_row": null,
      "grid_template_areas": null,
      "grid_template_columns": null,
      "grid_template_rows": null,
      "height": null,
      "justify_content": null,
      "justify_items": null,
      "left": null,
      "margin": null,
      "max_height": null,
      "max_width": null,
      "min_height": null,
      "min_width": null,
      "object_fit": null,
      "object_position": null,
      "order": null,
      "overflow": null,
      "overflow_x": null,
      "overflow_y": null,
      "padding": null,
      "right": null,
      "top": null,
      "visibility": null,
      "width": null
     }
    },
    "4e0e393049ee4b8aa1f9bb50ee60ff06": {
     "model_module": "@jupyter-widgets/controls",
     "model_module_version": "1.5.0",
     "model_name": "HTMLModel",
     "state": {
      "_dom_classes": [],
      "_model_module": "@jupyter-widgets/controls",
      "_model_module_version": "1.5.0",
      "_model_name": "HTMLModel",
      "_view_count": null,
      "_view_module": "@jupyter-widgets/controls",
      "_view_module_version": "1.5.0",
      "_view_name": "HTMLView",
      "description": "",
      "description_tooltip": null,
      "layout": "IPY_MODEL_f57ef26b14534e55984ba16b570c640d",
      "placeholder": "​",
      "style": "IPY_MODEL_54b0251877fa4abcba1efbe6a1a689a7",
      "value": "Extracting data files: 100%"
     }
    },
    "4f387b18a69f4e20b5240ce257ff8302": {
     "model_module": "@jupyter-widgets/base",
     "model_module_version": "1.2.0",
     "model_name": "LayoutModel",
     "state": {
      "_model_module": "@jupyter-widgets/base",
      "_model_module_version": "1.2.0",
      "_model_name": "LayoutModel",
      "_view_count": null,
      "_view_module": "@jupyter-widgets/base",
      "_view_module_version": "1.2.0",
      "_view_name": "LayoutView",
      "align_content": null,
      "align_items": null,
      "align_self": null,
      "border": null,
      "bottom": null,
      "display": null,
      "flex": null,
      "flex_flow": null,
      "grid_area": null,
      "grid_auto_columns": null,
      "grid_auto_flow": null,
      "grid_auto_rows": null,
      "grid_column": null,
      "grid_gap": null,
      "grid_row": null,
      "grid_template_areas": null,
      "grid_template_columns": null,
      "grid_template_rows": null,
      "height": null,
      "justify_content": null,
      "justify_items": null,
      "left": null,
      "margin": null,
      "max_height": null,
      "max_width": null,
      "min_height": null,
      "min_width": null,
      "object_fit": null,
      "object_position": null,
      "order": null,
      "overflow": null,
      "overflow_x": null,
      "overflow_y": null,
      "padding": null,
      "right": null,
      "top": null,
      "visibility": null,
      "width": null
     }
    },
    "4f5bad54f12742e681c123c78e1e6424": {
     "model_module": "@jupyter-widgets/controls",
     "model_module_version": "1.5.0",
     "model_name": "FloatProgressModel",
     "state": {
      "_dom_classes": [],
      "_model_module": "@jupyter-widgets/controls",
      "_model_module_version": "1.5.0",
      "_model_name": "FloatProgressModel",
      "_view_count": null,
      "_view_module": "@jupyter-widgets/controls",
      "_view_module_version": "1.5.0",
      "_view_name": "ProgressView",
      "bar_style": "info",
      "description": "",
      "description_tooltip": null,
      "layout": "IPY_MODEL_b88480632f5f4ceea2eb8c88561fb197",
      "max": 1,
      "min": 0,
      "orientation": "horizontal",
      "style": "IPY_MODEL_f2f2ada5fde54a7ea93eaf0ab98772f6",
      "value": 1
     }
    },
    "52102e7be708453fa324233a3d61dcbe": {
     "model_module": "@jupyter-widgets/controls",
     "model_module_version": "1.5.0",
     "model_name": "HTMLModel",
     "state": {
      "_dom_classes": [],
      "_model_module": "@jupyter-widgets/controls",
      "_model_module_version": "1.5.0",
      "_model_name": "HTMLModel",
      "_view_count": null,
      "_view_module": "@jupyter-widgets/controls",
      "_view_module_version": "1.5.0",
      "_view_name": "HTMLView",
      "description": "",
      "description_tooltip": null,
      "layout": "IPY_MODEL_bb4fcc44917a4625bc62aa3d79c04384",
      "placeholder": "​",
      "style": "IPY_MODEL_6e65b3a140ee4777b0e3882ab7607247",
      "value": " 1.71M/1.71M [00:00&lt;00:00, 4.72MB/s]"
     }
    },
    "52955a36aaf54cd09c7a0d46638c376a": {
     "model_module": "@jupyter-widgets/base",
     "model_module_version": "1.2.0",
     "model_name": "LayoutModel",
     "state": {
      "_model_module": "@jupyter-widgets/base",
      "_model_module_version": "1.2.0",
      "_model_name": "LayoutModel",
      "_view_count": null,
      "_view_module": "@jupyter-widgets/base",
      "_view_module_version": "1.2.0",
      "_view_name": "LayoutView",
      "align_content": null,
      "align_items": null,
      "align_self": null,
      "border": null,
      "bottom": null,
      "display": null,
      "flex": null,
      "flex_flow": null,
      "grid_area": null,
      "grid_auto_columns": null,
      "grid_auto_flow": null,
      "grid_auto_rows": null,
      "grid_column": null,
      "grid_gap": null,
      "grid_row": null,
      "grid_template_areas": null,
      "grid_template_columns": null,
      "grid_template_rows": null,
      "height": null,
      "justify_content": null,
      "justify_items": null,
      "left": null,
      "margin": null,
      "max_height": null,
      "max_width": null,
      "min_height": null,
      "min_width": null,
      "object_fit": null,
      "object_position": null,
      "order": null,
      "overflow": null,
      "overflow_x": null,
      "overflow_y": null,
      "padding": null,
      "right": null,
      "top": null,
      "visibility": "hidden",
      "width": null
     }
    },
    "54b0251877fa4abcba1efbe6a1a689a7": {
     "model_module": "@jupyter-widgets/controls",
     "model_module_version": "1.5.0",
     "model_name": "DescriptionStyleModel",
     "state": {
      "_model_module": "@jupyter-widgets/controls",
      "_model_module_version": "1.5.0",
      "_model_name": "DescriptionStyleModel",
      "_view_count": null,
      "_view_module": "@jupyter-widgets/base",
      "_view_module_version": "1.2.0",
      "_view_name": "StyleView",
      "description_width": ""
     }
    },
    "57daf03c1c314419983f3799be1ff4fe": {
     "model_module": "@jupyter-widgets/controls",
     "model_module_version": "1.5.0",
     "model_name": "DescriptionStyleModel",
     "state": {
      "_model_module": "@jupyter-widgets/controls",
      "_model_module_version": "1.5.0",
      "_model_name": "DescriptionStyleModel",
      "_view_count": null,
      "_view_module": "@jupyter-widgets/base",
      "_view_module_version": "1.2.0",
      "_view_name": "StyleView",
      "description_width": ""
     }
    },
    "5a8850f966724ce59524896d0a9c3bf9": {
     "model_module": "@jupyter-widgets/controls",
     "model_module_version": "1.5.0",
     "model_name": "ProgressStyleModel",
     "state": {
      "_model_module": "@jupyter-widgets/controls",
      "_model_module_version": "1.5.0",
      "_model_name": "ProgressStyleModel",
      "_view_count": null,
      "_view_module": "@jupyter-widgets/base",
      "_view_module_version": "1.2.0",
      "_view_name": "StyleView",
      "bar_color": null,
      "description_width": ""
     }
    },
    "5f7d2ffe84834aa08f73427f898f53de": {
     "model_module": "@jupyter-widgets/controls",
     "model_module_version": "1.5.0",
     "model_name": "HBoxModel",
     "state": {
      "_dom_classes": [],
      "_model_module": "@jupyter-widgets/controls",
      "_model_module_version": "1.5.0",
      "_model_name": "HBoxModel",
      "_view_count": null,
      "_view_module": "@jupyter-widgets/controls",
      "_view_module_version": "1.5.0",
      "_view_name": "HBoxView",
      "box_style": "",
      "children": [
       "IPY_MODEL_1a19ae52ded948839280bdb97888f01d",
       "IPY_MODEL_d7f3853d707549ac84bb50cc41f043a5",
       "IPY_MODEL_78bfa58b59c04ceeabf2163606c1a2a8"
      ],
      "layout": "IPY_MODEL_486c403c927e43ab87a4e6cbf55f2969"
     }
    },
    "61859580ae25478f8e57a2d1e86a59c3": {
     "model_module": "@jupyter-widgets/controls",
     "model_module_version": "1.5.0",
     "model_name": "HTMLModel",
     "state": {
      "_dom_classes": [],
      "_model_module": "@jupyter-widgets/controls",
      "_model_module_version": "1.5.0",
      "_model_name": "HTMLModel",
      "_view_count": null,
      "_view_module": "@jupyter-widgets/controls",
      "_view_module_version": "1.5.0",
      "_view_name": "HTMLView",
      "description": "",
      "description_tooltip": null,
      "layout": "IPY_MODEL_a6a0fc89672d43718d8e1d3ca879da8a",
      "placeholder": "​",
      "style": "IPY_MODEL_3753daf5ce714bddacd19e61d50166d6",
      "value": "Downloading data files: 100%"
     }
    },
    "65113c5f64e54e8cb09f898ddc6de229": {
     "model_module": "@jupyter-widgets/controls",
     "model_module_version": "1.5.0",
     "model_name": "DescriptionStyleModel",
     "state": {
      "_model_module": "@jupyter-widgets/controls",
      "_model_module_version": "1.5.0",
      "_model_name": "DescriptionStyleModel",
      "_view_count": null,
      "_view_module": "@jupyter-widgets/base",
      "_view_module_version": "1.2.0",
      "_view_name": "StyleView",
      "description_width": ""
     }
    },
    "658e3afdfd944d8b81154e5fb7a184d9": {
     "model_module": "@jupyter-widgets/controls",
     "model_module_version": "1.5.0",
     "model_name": "HBoxModel",
     "state": {
      "_dom_classes": [],
      "_model_module": "@jupyter-widgets/controls",
      "_model_module_version": "1.5.0",
      "_model_name": "HBoxModel",
      "_view_count": null,
      "_view_module": "@jupyter-widgets/controls",
      "_view_module_version": "1.5.0",
      "_view_name": "HBoxView",
      "box_style": "",
      "children": [
       "IPY_MODEL_07ac42fe2b3e45a2b9a6fe979e5c0c19",
       "IPY_MODEL_4f5bad54f12742e681c123c78e1e6424",
       "IPY_MODEL_872921808fb449dfb20348b5374c61b8"
      ],
      "layout": "IPY_MODEL_d4fc94970cab4fc3b2ec21bd56b5cf33"
     }
    },
    "65f5776bbcd24305911634557f441cfe": {
     "model_module": "@jupyter-widgets/controls",
     "model_module_version": "1.5.0",
     "model_name": "ProgressStyleModel",
     "state": {
      "_model_module": "@jupyter-widgets/controls",
      "_model_module_version": "1.5.0",
      "_model_name": "ProgressStyleModel",
      "_view_count": null,
      "_view_module": "@jupyter-widgets/base",
      "_view_module_version": "1.2.0",
      "_view_name": "StyleView",
      "bar_color": null,
      "description_width": ""
     }
    },
    "67090f631a554a69a80b6f285d69b1f4": {
     "model_module": "@jupyter-widgets/controls",
     "model_module_version": "1.5.0",
     "model_name": "ProgressStyleModel",
     "state": {
      "_model_module": "@jupyter-widgets/controls",
      "_model_module_version": "1.5.0",
      "_model_name": "ProgressStyleModel",
      "_view_count": null,
      "_view_module": "@jupyter-widgets/base",
      "_view_module_version": "1.2.0",
      "_view_name": "StyleView",
      "bar_color": null,
      "description_width": ""
     }
    },
    "6728a4c6dea0450aa970cc09b893798a": {
     "model_module": "@jupyter-widgets/controls",
     "model_module_version": "1.5.0",
     "model_name": "HBoxModel",
     "state": {
      "_dom_classes": [],
      "_model_module": "@jupyter-widgets/controls",
      "_model_module_version": "1.5.0",
      "_model_name": "HBoxModel",
      "_view_count": null,
      "_view_module": "@jupyter-widgets/controls",
      "_view_module_version": "1.5.0",
      "_view_name": "HBoxView",
      "box_style": "",
      "children": [
       "IPY_MODEL_fe57afd5a0a241609837580db7e6dc8e",
       "IPY_MODEL_b09d09cb02ea44e3892073bf29af4f5b",
       "IPY_MODEL_52102e7be708453fa324233a3d61dcbe"
      ],
      "layout": "IPY_MODEL_97d0610a07204ef296947eedfaa1160b"
     }
    },
    "676284d1fa1b4669904ccd7a347223d3": {
     "model_module": "@jupyter-widgets/controls",
     "model_module_version": "1.5.0",
     "model_name": "DescriptionStyleModel",
     "state": {
      "_model_module": "@jupyter-widgets/controls",
      "_model_module_version": "1.5.0",
      "_model_name": "DescriptionStyleModel",
      "_view_count": null,
      "_view_module": "@jupyter-widgets/base",
      "_view_module_version": "1.2.0",
      "_view_name": "StyleView",
      "description_width": ""
     }
    },
    "6e65b3a140ee4777b0e3882ab7607247": {
     "model_module": "@jupyter-widgets/controls",
     "model_module_version": "1.5.0",
     "model_name": "DescriptionStyleModel",
     "state": {
      "_model_module": "@jupyter-widgets/controls",
      "_model_module_version": "1.5.0",
      "_model_name": "DescriptionStyleModel",
      "_view_count": null,
      "_view_module": "@jupyter-widgets/base",
      "_view_module_version": "1.2.0",
      "_view_name": "StyleView",
      "description_width": ""
     }
    },
    "6e9ab35effb94a5c9dbd745d487355ce": {
     "model_module": "@jupyter-widgets/controls",
     "model_module_version": "1.5.0",
     "model_name": "FloatProgressModel",
     "state": {
      "_dom_classes": [],
      "_model_module": "@jupyter-widgets/controls",
      "_model_module_version": "1.5.0",
      "_model_name": "FloatProgressModel",
      "_view_count": null,
      "_view_module": "@jupyter-widgets/controls",
      "_view_module_version": "1.5.0",
      "_view_name": "ProgressView",
      "bar_style": "success",
      "description": "",
      "description_tooltip": null,
      "layout": "IPY_MODEL_8ca72d862a9e4d4da91df3bddc0c75e7",
      "max": 2,
      "min": 0,
      "orientation": "horizontal",
      "style": "IPY_MODEL_cb99de53f41541e78c393017a099a922",
      "value": 2
     }
    },
    "708dce97b3834f4eb29017ca267face5": {
     "model_module": "@jupyter-widgets/base",
     "model_module_version": "1.2.0",
     "model_name": "LayoutModel",
     "state": {
      "_model_module": "@jupyter-widgets/base",
      "_model_module_version": "1.2.0",
      "_model_name": "LayoutModel",
      "_view_count": null,
      "_view_module": "@jupyter-widgets/base",
      "_view_module_version": "1.2.0",
      "_view_name": "LayoutView",
      "align_content": null,
      "align_items": null,
      "align_self": null,
      "border": null,
      "bottom": null,
      "display": null,
      "flex": null,
      "flex_flow": null,
      "grid_area": null,
      "grid_auto_columns": null,
      "grid_auto_flow": null,
      "grid_auto_rows": null,
      "grid_column": null,
      "grid_gap": null,
      "grid_row": null,
      "grid_template_areas": null,
      "grid_template_columns": null,
      "grid_template_rows": null,
      "height": null,
      "justify_content": null,
      "justify_items": null,
      "left": null,
      "margin": null,
      "max_height": null,
      "max_width": null,
      "min_height": null,
      "min_width": null,
      "object_fit": null,
      "object_position": null,
      "order": null,
      "overflow": null,
      "overflow_x": null,
      "overflow_y": null,
      "padding": null,
      "right": null,
      "top": null,
      "visibility": null,
      "width": null
     }
    },
    "70fceb0607e44c9187b3b2120e30ba32": {
     "model_module": "@jupyter-widgets/base",
     "model_module_version": "1.2.0",
     "model_name": "LayoutModel",
     "state": {
      "_model_module": "@jupyter-widgets/base",
      "_model_module_version": "1.2.0",
      "_model_name": "LayoutModel",
      "_view_count": null,
      "_view_module": "@jupyter-widgets/base",
      "_view_module_version": "1.2.0",
      "_view_name": "LayoutView",
      "align_content": null,
      "align_items": null,
      "align_self": null,
      "border": null,
      "bottom": null,
      "display": null,
      "flex": null,
      "flex_flow": null,
      "grid_area": null,
      "grid_auto_columns": null,
      "grid_auto_flow": null,
      "grid_auto_rows": null,
      "grid_column": null,
      "grid_gap": null,
      "grid_row": null,
      "grid_template_areas": null,
      "grid_template_columns": null,
      "grid_template_rows": null,
      "height": null,
      "justify_content": null,
      "justify_items": null,
      "left": null,
      "margin": null,
      "max_height": null,
      "max_width": null,
      "min_height": null,
      "min_width": null,
      "object_fit": null,
      "object_position": null,
      "order": null,
      "overflow": null,
      "overflow_x": null,
      "overflow_y": null,
      "padding": null,
      "right": null,
      "top": null,
      "visibility": null,
      "width": null
     }
    },
    "78af97e498134cac981982bced6dcd62": {
     "model_module": "@jupyter-widgets/base",
     "model_module_version": "1.2.0",
     "model_name": "LayoutModel",
     "state": {
      "_model_module": "@jupyter-widgets/base",
      "_model_module_version": "1.2.0",
      "_model_name": "LayoutModel",
      "_view_count": null,
      "_view_module": "@jupyter-widgets/base",
      "_view_module_version": "1.2.0",
      "_view_name": "LayoutView",
      "align_content": null,
      "align_items": null,
      "align_self": null,
      "border": null,
      "bottom": null,
      "display": null,
      "flex": null,
      "flex_flow": null,
      "grid_area": null,
      "grid_auto_columns": null,
      "grid_auto_flow": null,
      "grid_auto_rows": null,
      "grid_column": null,
      "grid_gap": null,
      "grid_row": null,
      "grid_template_areas": null,
      "grid_template_columns": null,
      "grid_template_rows": null,
      "height": null,
      "justify_content": null,
      "justify_items": null,
      "left": null,
      "margin": null,
      "max_height": null,
      "max_width": null,
      "min_height": null,
      "min_width": null,
      "object_fit": null,
      "object_position": null,
      "order": null,
      "overflow": null,
      "overflow_x": null,
      "overflow_y": null,
      "padding": null,
      "right": null,
      "top": null,
      "visibility": null,
      "width": null
     }
    },
    "78bfa58b59c04ceeabf2163606c1a2a8": {
     "model_module": "@jupyter-widgets/controls",
     "model_module_version": "1.5.0",
     "model_name": "HTMLModel",
     "state": {
      "_dom_classes": [],
      "_model_module": "@jupyter-widgets/controls",
      "_model_module_version": "1.5.0",
      "_model_name": "HTMLModel",
      "_view_count": null,
      "_view_module": "@jupyter-widgets/controls",
      "_view_module_version": "1.5.0",
      "_view_name": "HTMLView",
      "description": "",
      "description_tooltip": null,
      "layout": "IPY_MODEL_f49e007438d24858a0c3df80a4263e32",
      "placeholder": "​",
      "style": "IPY_MODEL_be80c7894bda4e59bebd50ecd4a16aa4",
      "value": " 3.14G/3.14G [00:27&lt;00:00, 149MB/s]"
     }
    },
    "792b9f86282d47b3b1dd2cc5c93bc251": {
     "model_module": "@jupyter-widgets/base",
     "model_module_version": "1.2.0",
     "model_name": "LayoutModel",
     "state": {
      "_model_module": "@jupyter-widgets/base",
      "_model_module_version": "1.2.0",
      "_model_name": "LayoutModel",
      "_view_count": null,
      "_view_module": "@jupyter-widgets/base",
      "_view_module_version": "1.2.0",
      "_view_name": "LayoutView",
      "align_content": null,
      "align_items": null,
      "align_self": null,
      "border": null,
      "bottom": null,
      "display": null,
      "flex": null,
      "flex_flow": null,
      "grid_area": null,
      "grid_auto_columns": null,
      "grid_auto_flow": null,
      "grid_auto_rows": null,
      "grid_column": null,
      "grid_gap": null,
      "grid_row": null,
      "grid_template_areas": null,
      "grid_template_columns": null,
      "grid_template_rows": null,
      "height": null,
      "justify_content": null,
      "justify_items": null,
      "left": null,
      "margin": null,
      "max_height": null,
      "max_width": null,
      "min_height": null,
      "min_width": null,
      "object_fit": null,
      "object_position": null,
      "order": null,
      "overflow": null,
      "overflow_x": null,
      "overflow_y": null,
      "padding": null,
      "right": null,
      "top": null,
      "visibility": null,
      "width": null
     }
    },
    "7b772c2d413d4dffb666b23dbc332fe4": {
     "model_module": "@jupyter-widgets/controls",
     "model_module_version": "1.5.0",
     "model_name": "FloatProgressModel",
     "state": {
      "_dom_classes": [],
      "_model_module": "@jupyter-widgets/controls",
      "_model_module_version": "1.5.0",
      "_model_name": "FloatProgressModel",
      "_view_count": null,
      "_view_module": "@jupyter-widgets/controls",
      "_view_module_version": "1.5.0",
      "_view_name": "ProgressView",
      "bar_style": "",
      "description": "",
      "description_tooltip": null,
      "layout": "IPY_MODEL_1dccf02b0ed44a3abc7c800a099f4e39",
      "max": 6948,
      "min": 0,
      "orientation": "horizontal",
      "style": "IPY_MODEL_20538263c3f34949b039b5a6b6146849",
      "value": 6948
     }
    },
    "7d06df9a6a0e4b618be244414af3375f": {
     "model_module": "@jupyter-widgets/controls",
     "model_module_version": "1.5.0",
     "model_name": "FloatProgressModel",
     "state": {
      "_dom_classes": [],
      "_model_module": "@jupyter-widgets/controls",
      "_model_module_version": "1.5.0",
      "_model_name": "FloatProgressModel",
      "_view_count": null,
      "_view_module": "@jupyter-widgets/controls",
      "_view_module_version": "1.5.0",
      "_view_name": "ProgressView",
      "bar_style": "success",
      "description": "",
      "description_tooltip": null,
      "layout": "IPY_MODEL_397ded3e3c8349b0bae1b3edc09c98fb",
      "max": 2,
      "min": 0,
      "orientation": "horizontal",
      "style": "IPY_MODEL_00d84f30d26c40a5b5cf6dbad116c6b7",
      "value": 2
     }
    },
    "831f6aa866e648ee9219013c12067ed2": {
     "model_module": "@jupyter-widgets/controls",
     "model_module_version": "1.5.0",
     "model_name": "HBoxModel",
     "state": {
      "_dom_classes": [],
      "_model_module": "@jupyter-widgets/controls",
      "_model_module_version": "1.5.0",
      "_model_name": "HBoxModel",
      "_view_count": null,
      "_view_module": "@jupyter-widgets/controls",
      "_view_module_version": "1.5.0",
      "_view_name": "HBoxView",
      "box_style": "",
      "children": [
       "IPY_MODEL_201a42183dcf44929dcaa3a8c47f6259",
       "IPY_MODEL_7d06df9a6a0e4b618be244414af3375f",
       "IPY_MODEL_d182b59243d449f3b26693257136dba6"
      ],
      "layout": "IPY_MODEL_98acceeee2d64858acfc59a0b136d45b"
     }
    },
    "833febd9093a4be5882fb3011962ba0b": {
     "model_module": "@jupyter-widgets/base",
     "model_module_version": "1.2.0",
     "model_name": "LayoutModel",
     "state": {
      "_model_module": "@jupyter-widgets/base",
      "_model_module_version": "1.2.0",
      "_model_name": "LayoutModel",
      "_view_count": null,
      "_view_module": "@jupyter-widgets/base",
      "_view_module_version": "1.2.0",
      "_view_name": "LayoutView",
      "align_content": null,
      "align_items": null,
      "align_self": null,
      "border": null,
      "bottom": null,
      "display": null,
      "flex": null,
      "flex_flow": null,
      "grid_area": null,
      "grid_auto_columns": null,
      "grid_auto_flow": null,
      "grid_auto_rows": null,
      "grid_column": null,
      "grid_gap": null,
      "grid_row": null,
      "grid_template_areas": null,
      "grid_template_columns": null,
      "grid_template_rows": null,
      "height": null,
      "justify_content": null,
      "justify_items": null,
      "left": null,
      "margin": null,
      "max_height": null,
      "max_width": null,
      "min_height": null,
      "min_width": null,
      "object_fit": null,
      "object_position": null,
      "order": null,
      "overflow": null,
      "overflow_x": null,
      "overflow_y": null,
      "padding": null,
      "right": null,
      "top": null,
      "visibility": null,
      "width": null
     }
    },
    "86d5b38483ec407ea91620464d0e07c8": {
     "model_module": "@jupyter-widgets/base",
     "model_module_version": "1.2.0",
     "model_name": "LayoutModel",
     "state": {
      "_model_module": "@jupyter-widgets/base",
      "_model_module_version": "1.2.0",
      "_model_name": "LayoutModel",
      "_view_count": null,
      "_view_module": "@jupyter-widgets/base",
      "_view_module_version": "1.2.0",
      "_view_name": "LayoutView",
      "align_content": null,
      "align_items": null,
      "align_self": null,
      "border": null,
      "bottom": null,
      "display": null,
      "flex": null,
      "flex_flow": null,
      "grid_area": null,
      "grid_auto_columns": null,
      "grid_auto_flow": null,
      "grid_auto_rows": null,
      "grid_column": null,
      "grid_gap": null,
      "grid_row": null,
      "grid_template_areas": null,
      "grid_template_columns": null,
      "grid_template_rows": null,
      "height": null,
      "justify_content": null,
      "justify_items": null,
      "left": null,
      "margin": null,
      "max_height": null,
      "max_width": null,
      "min_height": null,
      "min_width": null,
      "object_fit": null,
      "object_position": null,
      "order": null,
      "overflow": null,
      "overflow_x": null,
      "overflow_y": null,
      "padding": null,
      "right": null,
      "top": null,
      "visibility": null,
      "width": null
     }
    },
    "872921808fb449dfb20348b5374c61b8": {
     "model_module": "@jupyter-widgets/controls",
     "model_module_version": "1.5.0",
     "model_name": "HTMLModel",
     "state": {
      "_dom_classes": [],
      "_model_module": "@jupyter-widgets/controls",
      "_model_module_version": "1.5.0",
      "_model_name": "HTMLModel",
      "_view_count": null,
      "_view_module": "@jupyter-widgets/controls",
      "_view_module_version": "1.5.0",
      "_view_name": "HTMLView",
      "description": "",
      "description_tooltip": null,
      "layout": "IPY_MODEL_70fceb0607e44c9187b3b2120e30ba32",
      "placeholder": "​",
      "style": "IPY_MODEL_3f1d44bb00504472abd689f5a66f4344",
      "value": " 6948/0 [00:00&lt;00:00, 44606.19 examples/s]"
     }
    },
    "8acbb570192f4f09a66c2ec71e716559": {
     "model_module": "@jupyter-widgets/controls",
     "model_module_version": "1.5.0",
     "model_name": "DescriptionStyleModel",
     "state": {
      "_model_module": "@jupyter-widgets/controls",
      "_model_module_version": "1.5.0",
      "_model_name": "DescriptionStyleModel",
      "_view_count": null,
      "_view_module": "@jupyter-widgets/base",
      "_view_module_version": "1.2.0",
      "_view_name": "StyleView",
      "description_width": ""
     }
    },
    "8ca72d862a9e4d4da91df3bddc0c75e7": {
     "model_module": "@jupyter-widgets/base",
     "model_module_version": "1.2.0",
     "model_name": "LayoutModel",
     "state": {
      "_model_module": "@jupyter-widgets/base",
      "_model_module_version": "1.2.0",
      "_model_name": "LayoutModel",
      "_view_count": null,
      "_view_module": "@jupyter-widgets/base",
      "_view_module_version": "1.2.0",
      "_view_name": "LayoutView",
      "align_content": null,
      "align_items": null,
      "align_self": null,
      "border": null,
      "bottom": null,
      "display": null,
      "flex": null,
      "flex_flow": null,
      "grid_area": null,
      "grid_auto_columns": null,
      "grid_auto_flow": null,
      "grid_auto_rows": null,
      "grid_column": null,
      "grid_gap": null,
      "grid_row": null,
      "grid_template_areas": null,
      "grid_template_columns": null,
      "grid_template_rows": null,
      "height": null,
      "justify_content": null,
      "justify_items": null,
      "left": null,
      "margin": null,
      "max_height": null,
      "max_width": null,
      "min_height": null,
      "min_width": null,
      "object_fit": null,
      "object_position": null,
      "order": null,
      "overflow": null,
      "overflow_x": null,
      "overflow_y": null,
      "padding": null,
      "right": null,
      "top": null,
      "visibility": null,
      "width": null
     }
    },
    "8cb39f3ae1fe42e0977ad9e9a0ffb069": {
     "model_module": "@jupyter-widgets/base",
     "model_module_version": "1.2.0",
     "model_name": "LayoutModel",
     "state": {
      "_model_module": "@jupyter-widgets/base",
      "_model_module_version": "1.2.0",
      "_model_name": "LayoutModel",
      "_view_count": null,
      "_view_module": "@jupyter-widgets/base",
      "_view_module_version": "1.2.0",
      "_view_name": "LayoutView",
      "align_content": null,
      "align_items": null,
      "align_self": null,
      "border": null,
      "bottom": null,
      "display": null,
      "flex": null,
      "flex_flow": null,
      "grid_area": null,
      "grid_auto_columns": null,
      "grid_auto_flow": null,
      "grid_auto_rows": null,
      "grid_column": null,
      "grid_gap": null,
      "grid_row": null,
      "grid_template_areas": null,
      "grid_template_columns": null,
      "grid_template_rows": null,
      "height": null,
      "justify_content": null,
      "justify_items": null,
      "left": null,
      "margin": null,
      "max_height": null,
      "max_width": null,
      "min_height": null,
      "min_width": null,
      "object_fit": null,
      "object_position": null,
      "order": null,
      "overflow": null,
      "overflow_x": null,
      "overflow_y": null,
      "padding": null,
      "right": null,
      "top": null,
      "visibility": null,
      "width": null
     }
    },
    "8e50ffe2b8074afe9959b4fbca0fdd34": {
     "model_module": "@jupyter-widgets/controls",
     "model_module_version": "1.5.0",
     "model_name": "FloatProgressModel",
     "state": {
      "_dom_classes": [],
      "_model_module": "@jupyter-widgets/controls",
      "_model_module_version": "1.5.0",
      "_model_name": "FloatProgressModel",
      "_view_count": null,
      "_view_module": "@jupyter-widgets/controls",
      "_view_module_version": "1.5.0",
      "_view_name": "ProgressView",
      "bar_style": "success",
      "description": "",
      "description_tooltip": null,
      "layout": "IPY_MODEL_00c4545ab1fc41d0b65ae64398e54b89",
      "max": 2,
      "min": 0,
      "orientation": "horizontal",
      "style": "IPY_MODEL_67090f631a554a69a80b6f285d69b1f4",
      "value": 2
     }
    },
    "8ec905b895494f399fc94b1021e65733": {
     "model_module": "@jupyter-widgets/controls",
     "model_module_version": "1.5.0",
     "model_name": "HBoxModel",
     "state": {
      "_dom_classes": [],
      "_model_module": "@jupyter-widgets/controls",
      "_model_module_version": "1.5.0",
      "_model_name": "HBoxModel",
      "_view_count": null,
      "_view_module": "@jupyter-widgets/controls",
      "_view_module_version": "1.5.0",
      "_view_name": "HBoxView",
      "box_style": "",
      "children": [
       "IPY_MODEL_b1ba4f78d9474c8b918786858d82c74b",
       "IPY_MODEL_b2fa09e9e7c84fdb8df2cd83f156a0b7",
       "IPY_MODEL_1fdff570fb42461e80163bfc7fc3f5e4"
      ],
      "layout": "IPY_MODEL_48f0c74afde94cf3b7746a3cc494dffe"
     }
    },
    "911abb62b8224202a68b5c9bff9ed2b7": {
     "model_module": "@jupyter-widgets/controls",
     "model_module_version": "1.5.0",
     "model_name": "HTMLModel",
     "state": {
      "_dom_classes": [],
      "_model_module": "@jupyter-widgets/controls",
      "_model_module_version": "1.5.0",
      "_model_name": "HTMLModel",
      "_view_count": null,
      "_view_module": "@jupyter-widgets/controls",
      "_view_module_version": "1.5.0",
      "_view_name": "HTMLView",
      "description": "",
      "description_tooltip": null,
      "layout": "IPY_MODEL_4f387b18a69f4e20b5240ce257ff8302",
      "placeholder": "​",
      "style": "IPY_MODEL_4ba105d467444e08b8b1bc494f10da1b",
      "value": " 0/0 [00:00&lt;?, ? examples/s]"
     }
    },
    "97d0610a07204ef296947eedfaa1160b": {
     "model_module": "@jupyter-widgets/base",
     "model_module_version": "1.2.0",
     "model_name": "LayoutModel",
     "state": {
      "_model_module": "@jupyter-widgets/base",
      "_model_module_version": "1.2.0",
      "_model_name": "LayoutModel",
      "_view_count": null,
      "_view_module": "@jupyter-widgets/base",
      "_view_module_version": "1.2.0",
      "_view_name": "LayoutView",
      "align_content": null,
      "align_items": null,
      "align_self": null,
      "border": null,
      "bottom": null,
      "display": null,
      "flex": null,
      "flex_flow": null,
      "grid_area": null,
      "grid_auto_columns": null,
      "grid_auto_flow": null,
      "grid_auto_rows": null,
      "grid_column": null,
      "grid_gap": null,
      "grid_row": null,
      "grid_template_areas": null,
      "grid_template_columns": null,
      "grid_template_rows": null,
      "height": null,
      "justify_content": null,
      "justify_items": null,
      "left": null,
      "margin": null,
      "max_height": null,
      "max_width": null,
      "min_height": null,
      "min_width": null,
      "object_fit": null,
      "object_position": null,
      "order": null,
      "overflow": null,
      "overflow_x": null,
      "overflow_y": null,
      "padding": null,
      "right": null,
      "top": null,
      "visibility": null,
      "width": null
     }
    },
    "981d12ee994243e498e6966812e1d61d": {
     "model_module": "@jupyter-widgets/base",
     "model_module_version": "1.2.0",
     "model_name": "LayoutModel",
     "state": {
      "_model_module": "@jupyter-widgets/base",
      "_model_module_version": "1.2.0",
      "_model_name": "LayoutModel",
      "_view_count": null,
      "_view_module": "@jupyter-widgets/base",
      "_view_module_version": "1.2.0",
      "_view_name": "LayoutView",
      "align_content": null,
      "align_items": null,
      "align_self": null,
      "border": null,
      "bottom": null,
      "display": null,
      "flex": null,
      "flex_flow": null,
      "grid_area": null,
      "grid_auto_columns": null,
      "grid_auto_flow": null,
      "grid_auto_rows": null,
      "grid_column": null,
      "grid_gap": null,
      "grid_row": null,
      "grid_template_areas": null,
      "grid_template_columns": null,
      "grid_template_rows": null,
      "height": null,
      "justify_content": null,
      "justify_items": null,
      "left": null,
      "margin": null,
      "max_height": null,
      "max_width": null,
      "min_height": null,
      "min_width": null,
      "object_fit": null,
      "object_position": null,
      "order": null,
      "overflow": null,
      "overflow_x": null,
      "overflow_y": null,
      "padding": null,
      "right": null,
      "top": null,
      "visibility": "hidden",
      "width": null
     }
    },
    "98acceeee2d64858acfc59a0b136d45b": {
     "model_module": "@jupyter-widgets/base",
     "model_module_version": "1.2.0",
     "model_name": "LayoutModel",
     "state": {
      "_model_module": "@jupyter-widgets/base",
      "_model_module_version": "1.2.0",
      "_model_name": "LayoutModel",
      "_view_count": null,
      "_view_module": "@jupyter-widgets/base",
      "_view_module_version": "1.2.0",
      "_view_name": "LayoutView",
      "align_content": null,
      "align_items": null,
      "align_self": null,
      "border": null,
      "bottom": null,
      "display": null,
      "flex": null,
      "flex_flow": null,
      "grid_area": null,
      "grid_auto_columns": null,
      "grid_auto_flow": null,
      "grid_auto_rows": null,
      "grid_column": null,
      "grid_gap": null,
      "grid_row": null,
      "grid_template_areas": null,
      "grid_template_columns": null,
      "grid_template_rows": null,
      "height": null,
      "justify_content": null,
      "justify_items": null,
      "left": null,
      "margin": null,
      "max_height": null,
      "max_width": null,
      "min_height": null,
      "min_width": null,
      "object_fit": null,
      "object_position": null,
      "order": null,
      "overflow": null,
      "overflow_x": null,
      "overflow_y": null,
      "padding": null,
      "right": null,
      "top": null,
      "visibility": null,
      "width": null
     }
    },
    "9bce8353fb2d4c2e8739cb76b05a16bc": {
     "model_module": "@jupyter-widgets/controls",
     "model_module_version": "1.5.0",
     "model_name": "HBoxModel",
     "state": {
      "_dom_classes": [],
      "_model_module": "@jupyter-widgets/controls",
      "_model_module_version": "1.5.0",
      "_model_name": "HBoxModel",
      "_view_count": null,
      "_view_module": "@jupyter-widgets/controls",
      "_view_module_version": "1.5.0",
      "_view_name": "HBoxView",
      "box_style": "",
      "children": [
       "IPY_MODEL_d90d9336433948388f0b9d41dd624e01",
       "IPY_MODEL_3846c373743c4d228cede3625f34405f",
       "IPY_MODEL_2a2ffeeb85804d36a0bff09415f3be54"
      ],
      "layout": "IPY_MODEL_1424164675d24836946a6dd790f3395a"
     }
    },
    "9e148188007544aea528ea704561686d": {
     "model_module": "@jupyter-widgets/base",
     "model_module_version": "1.2.0",
     "model_name": "LayoutModel",
     "state": {
      "_model_module": "@jupyter-widgets/base",
      "_model_module_version": "1.2.0",
      "_model_name": "LayoutModel",
      "_view_count": null,
      "_view_module": "@jupyter-widgets/base",
      "_view_module_version": "1.2.0",
      "_view_name": "LayoutView",
      "align_content": null,
      "align_items": null,
      "align_self": null,
      "border": null,
      "bottom": null,
      "display": null,
      "flex": null,
      "flex_flow": null,
      "grid_area": null,
      "grid_auto_columns": null,
      "grid_auto_flow": null,
      "grid_auto_rows": null,
      "grid_column": null,
      "grid_gap": null,
      "grid_row": null,
      "grid_template_areas": null,
      "grid_template_columns": null,
      "grid_template_rows": null,
      "height": null,
      "justify_content": null,
      "justify_items": null,
      "left": null,
      "margin": null,
      "max_height": null,
      "max_width": null,
      "min_height": null,
      "min_width": null,
      "object_fit": null,
      "object_position": null,
      "order": null,
      "overflow": null,
      "overflow_x": null,
      "overflow_y": null,
      "padding": null,
      "right": null,
      "top": null,
      "visibility": null,
      "width": null
     }
    },
    "a6479234793240b293e6562205a7f874": {
     "model_module": "@jupyter-widgets/base",
     "model_module_version": "1.2.0",
     "model_name": "LayoutModel",
     "state": {
      "_model_module": "@jupyter-widgets/base",
      "_model_module_version": "1.2.0",
      "_model_name": "LayoutModel",
      "_view_count": null,
      "_view_module": "@jupyter-widgets/base",
      "_view_module_version": "1.2.0",
      "_view_name": "LayoutView",
      "align_content": null,
      "align_items": null,
      "align_self": null,
      "border": null,
      "bottom": null,
      "display": null,
      "flex": null,
      "flex_flow": null,
      "grid_area": null,
      "grid_auto_columns": null,
      "grid_auto_flow": null,
      "grid_auto_rows": null,
      "grid_column": null,
      "grid_gap": null,
      "grid_row": null,
      "grid_template_areas": null,
      "grid_template_columns": null,
      "grid_template_rows": null,
      "height": null,
      "justify_content": null,
      "justify_items": null,
      "left": null,
      "margin": null,
      "max_height": null,
      "max_width": null,
      "min_height": null,
      "min_width": null,
      "object_fit": null,
      "object_position": null,
      "order": null,
      "overflow": null,
      "overflow_x": null,
      "overflow_y": null,
      "padding": null,
      "right": null,
      "top": null,
      "visibility": null,
      "width": null
     }
    },
    "a6a0fc89672d43718d8e1d3ca879da8a": {
     "model_module": "@jupyter-widgets/base",
     "model_module_version": "1.2.0",
     "model_name": "LayoutModel",
     "state": {
      "_model_module": "@jupyter-widgets/base",
      "_model_module_version": "1.2.0",
      "_model_name": "LayoutModel",
      "_view_count": null,
      "_view_module": "@jupyter-widgets/base",
      "_view_module_version": "1.2.0",
      "_view_name": "LayoutView",
      "align_content": null,
      "align_items": null,
      "align_self": null,
      "border": null,
      "bottom": null,
      "display": null,
      "flex": null,
      "flex_flow": null,
      "grid_area": null,
      "grid_auto_columns": null,
      "grid_auto_flow": null,
      "grid_auto_rows": null,
      "grid_column": null,
      "grid_gap": null,
      "grid_row": null,
      "grid_template_areas": null,
      "grid_template_columns": null,
      "grid_template_rows": null,
      "height": null,
      "justify_content": null,
      "justify_items": null,
      "left": null,
      "margin": null,
      "max_height": null,
      "max_width": null,
      "min_height": null,
      "min_width": null,
      "object_fit": null,
      "object_position": null,
      "order": null,
      "overflow": null,
      "overflow_x": null,
      "overflow_y": null,
      "padding": null,
      "right": null,
      "top": null,
      "visibility": null,
      "width": null
     }
    },
    "a8b51a3e967749149073f1dc6c9892aa": {
     "model_module": "@jupyter-widgets/base",
     "model_module_version": "1.2.0",
     "model_name": "LayoutModel",
     "state": {
      "_model_module": "@jupyter-widgets/base",
      "_model_module_version": "1.2.0",
      "_model_name": "LayoutModel",
      "_view_count": null,
      "_view_module": "@jupyter-widgets/base",
      "_view_module_version": "1.2.0",
      "_view_name": "LayoutView",
      "align_content": null,
      "align_items": null,
      "align_self": null,
      "border": null,
      "bottom": null,
      "display": null,
      "flex": null,
      "flex_flow": null,
      "grid_area": null,
      "grid_auto_columns": null,
      "grid_auto_flow": null,
      "grid_auto_rows": null,
      "grid_column": null,
      "grid_gap": null,
      "grid_row": null,
      "grid_template_areas": null,
      "grid_template_columns": null,
      "grid_template_rows": null,
      "height": null,
      "justify_content": null,
      "justify_items": null,
      "left": null,
      "margin": null,
      "max_height": null,
      "max_width": null,
      "min_height": null,
      "min_width": null,
      "object_fit": null,
      "object_position": null,
      "order": null,
      "overflow": null,
      "overflow_x": null,
      "overflow_y": null,
      "padding": null,
      "right": null,
      "top": null,
      "visibility": null,
      "width": null
     }
    },
    "ab2aa636cf484283b201c73dbe86eb97": {
     "model_module": "@jupyter-widgets/controls",
     "model_module_version": "1.5.0",
     "model_name": "FloatProgressModel",
     "state": {
      "_dom_classes": [],
      "_model_module": "@jupyter-widgets/controls",
      "_model_module_version": "1.5.0",
      "_model_name": "FloatProgressModel",
      "_view_count": null,
      "_view_module": "@jupyter-widgets/controls",
      "_view_module_version": "1.5.0",
      "_view_name": "ProgressView",
      "bar_style": "",
      "description": "",
      "description_tooltip": null,
      "layout": "IPY_MODEL_02c3a1b661094873b9ae51cde04a39d8",
      "max": 800,
      "min": 0,
      "orientation": "horizontal",
      "style": "IPY_MODEL_ce7ca7ec7ff541a59f439211aa612896",
      "value": 800
     }
    },
    "acb7a456e21c474d9065fb3690b83ae7": {
     "model_module": "@jupyter-widgets/controls",
     "model_module_version": "1.5.0",
     "model_name": "HTMLModel",
     "state": {
      "_dom_classes": [],
      "_model_module": "@jupyter-widgets/controls",
      "_model_module_version": "1.5.0",
      "_model_name": "HTMLModel",
      "_view_count": null,
      "_view_module": "@jupyter-widgets/controls",
      "_view_module_version": "1.5.0",
      "_view_name": "HTMLView",
      "description": "",
      "description_tooltip": null,
      "layout": "IPY_MODEL_35dcf54ed74c4a6095de8662129efb09",
      "placeholder": "​",
      "style": "IPY_MODEL_f3866ead31b3489b9ee72b602e7d9879",
      "value": "Map:  93%"
     }
    },
    "ad006078ce5f495fadd4f6fa9304b46a": {
     "model_module": "@jupyter-widgets/base",
     "model_module_version": "1.2.0",
     "model_name": "LayoutModel",
     "state": {
      "_model_module": "@jupyter-widgets/base",
      "_model_module_version": "1.2.0",
      "_model_name": "LayoutModel",
      "_view_count": null,
      "_view_module": "@jupyter-widgets/base",
      "_view_module_version": "1.2.0",
      "_view_name": "LayoutView",
      "align_content": null,
      "align_items": null,
      "align_self": null,
      "border": null,
      "bottom": null,
      "display": null,
      "flex": null,
      "flex_flow": null,
      "grid_area": null,
      "grid_auto_columns": null,
      "grid_auto_flow": null,
      "grid_auto_rows": null,
      "grid_column": null,
      "grid_gap": null,
      "grid_row": null,
      "grid_template_areas": null,
      "grid_template_columns": null,
      "grid_template_rows": null,
      "height": null,
      "justify_content": null,
      "justify_items": null,
      "left": null,
      "margin": null,
      "max_height": null,
      "max_width": null,
      "min_height": null,
      "min_width": null,
      "object_fit": null,
      "object_position": null,
      "order": null,
      "overflow": null,
      "overflow_x": null,
      "overflow_y": null,
      "padding": null,
      "right": null,
      "top": null,
      "visibility": null,
      "width": null
     }
    },
    "b09d09cb02ea44e3892073bf29af4f5b": {
     "model_module": "@jupyter-widgets/controls",
     "model_module_version": "1.5.0",
     "model_name": "FloatProgressModel",
     "state": {
      "_dom_classes": [],
      "_model_module": "@jupyter-widgets/controls",
      "_model_module_version": "1.5.0",
      "_model_name": "FloatProgressModel",
      "_view_count": null,
      "_view_module": "@jupyter-widgets/controls",
      "_view_module_version": "1.5.0",
      "_view_name": "ProgressView",
      "bar_style": "success",
      "description": "",
      "description_tooltip": null,
      "layout": "IPY_MODEL_e9a6b86b208d4462aa9f6800cdd9c812",
      "max": 1713123,
      "min": 0,
      "orientation": "horizontal",
      "style": "IPY_MODEL_da3a6c71e21143f49e7ee364ccfffa2b",
      "value": 1713123
     }
    },
    "b1ba4f78d9474c8b918786858d82c74b": {
     "model_module": "@jupyter-widgets/controls",
     "model_module_version": "1.5.0",
     "model_name": "HTMLModel",
     "state": {
      "_dom_classes": [],
      "_model_module": "@jupyter-widgets/controls",
      "_model_module_version": "1.5.0",
      "_model_name": "HTMLModel",
      "_view_count": null,
      "_view_module": "@jupyter-widgets/controls",
      "_view_module_version": "1.5.0",
      "_view_name": "HTMLView",
      "description": "",
      "description_tooltip": null,
      "layout": "IPY_MODEL_8cb39f3ae1fe42e0977ad9e9a0ffb069",
      "placeholder": "​",
      "style": "IPY_MODEL_57daf03c1c314419983f3799be1ff4fe",
      "value": "Downloading (…)olve/main/merges.txt: 100%"
     }
    },
    "b2fa09e9e7c84fdb8df2cd83f156a0b7": {
     "model_module": "@jupyter-widgets/controls",
     "model_module_version": "1.5.0",
     "model_name": "FloatProgressModel",
     "state": {
      "_dom_classes": [],
      "_model_module": "@jupyter-widgets/controls",
      "_model_module_version": "1.5.0",
      "_model_name": "FloatProgressModel",
      "_view_count": null,
      "_view_module": "@jupyter-widgets/controls",
      "_view_module_version": "1.5.0",
      "_view_name": "ProgressView",
      "bar_style": "success",
      "description": "",
      "description_tooltip": null,
      "layout": "IPY_MODEL_78af97e498134cac981982bced6dcd62",
      "max": 1270925,
      "min": 0,
      "orientation": "horizontal",
      "style": "IPY_MODEL_c3d3358d9797462d9e39f219ab799dac",
      "value": 1270925
     }
    },
    "b33470410f3543b68dc662149191ed22": {
     "model_module": "@jupyter-widgets/controls",
     "model_module_version": "1.5.0",
     "model_name": "HTMLModel",
     "state": {
      "_dom_classes": [],
      "_model_module": "@jupyter-widgets/controls",
      "_model_module_version": "1.5.0",
      "_model_name": "HTMLModel",
      "_view_count": null,
      "_view_module": "@jupyter-widgets/controls",
      "_view_module_version": "1.5.0",
      "_view_name": "HTMLView",
      "description": "",
      "description_tooltip": null,
      "layout": "IPY_MODEL_20a943bf892a457eb0bff06e6c28d149",
      "placeholder": "​",
      "style": "IPY_MODEL_2b9babfb775c489ebe4a2d15020186f2",
      "value": " 742/800 [00:01&lt;00:00, 616.09 examples/s]"
     }
    },
    "b88480632f5f4ceea2eb8c88561fb197": {
     "model_module": "@jupyter-widgets/base",
     "model_module_version": "1.2.0",
     "model_name": "LayoutModel",
     "state": {
      "_model_module": "@jupyter-widgets/base",
      "_model_module_version": "1.2.0",
      "_model_name": "LayoutModel",
      "_view_count": null,
      "_view_module": "@jupyter-widgets/base",
      "_view_module_version": "1.2.0",
      "_view_name": "LayoutView",
      "align_content": null,
      "align_items": null,
      "align_self": null,
      "border": null,
      "bottom": null,
      "display": null,
      "flex": null,
      "flex_flow": null,
      "grid_area": null,
      "grid_auto_columns": null,
      "grid_auto_flow": null,
      "grid_auto_rows": null,
      "grid_column": null,
      "grid_gap": null,
      "grid_row": null,
      "grid_template_areas": null,
      "grid_template_columns": null,
      "grid_template_rows": null,
      "height": null,
      "justify_content": null,
      "justify_items": null,
      "left": null,
      "margin": null,
      "max_height": null,
      "max_width": null,
      "min_height": null,
      "min_width": null,
      "object_fit": null,
      "object_position": null,
      "order": null,
      "overflow": null,
      "overflow_x": null,
      "overflow_y": null,
      "padding": null,
      "right": null,
      "top": null,
      "visibility": null,
      "width": "20px"
     }
    },
    "b9b67cc280e144cc98f5724f6aa970e4": {
     "model_module": "@jupyter-widgets/controls",
     "model_module_version": "1.5.0",
     "model_name": "DescriptionStyleModel",
     "state": {
      "_model_module": "@jupyter-widgets/controls",
      "_model_module_version": "1.5.0",
      "_model_name": "DescriptionStyleModel",
      "_view_count": null,
      "_view_module": "@jupyter-widgets/base",
      "_view_module_version": "1.2.0",
      "_view_name": "StyleView",
      "description_width": ""
     }
    },
    "bb4fcc44917a4625bc62aa3d79c04384": {
     "model_module": "@jupyter-widgets/base",
     "model_module_version": "1.2.0",
     "model_name": "LayoutModel",
     "state": {
      "_model_module": "@jupyter-widgets/base",
      "_model_module_version": "1.2.0",
      "_model_name": "LayoutModel",
      "_view_count": null,
      "_view_module": "@jupyter-widgets/base",
      "_view_module_version": "1.2.0",
      "_view_name": "LayoutView",
      "align_content": null,
      "align_items": null,
      "align_self": null,
      "border": null,
      "bottom": null,
      "display": null,
      "flex": null,
      "flex_flow": null,
      "grid_area": null,
      "grid_auto_columns": null,
      "grid_auto_flow": null,
      "grid_auto_rows": null,
      "grid_column": null,
      "grid_gap": null,
      "grid_row": null,
      "grid_template_areas": null,
      "grid_template_columns": null,
      "grid_template_rows": null,
      "height": null,
      "justify_content": null,
      "justify_items": null,
      "left": null,
      "margin": null,
      "max_height": null,
      "max_width": null,
      "min_height": null,
      "min_width": null,
      "object_fit": null,
      "object_position": null,
      "order": null,
      "overflow": null,
      "overflow_x": null,
      "overflow_y": null,
      "padding": null,
      "right": null,
      "top": null,
      "visibility": null,
      "width": null
     }
    },
    "bca6e6d51aad4c8d957e887422f731ca": {
     "model_module": "@jupyter-widgets/controls",
     "model_module_version": "1.5.0",
     "model_name": "HTMLModel",
     "state": {
      "_dom_classes": [],
      "_model_module": "@jupyter-widgets/controls",
      "_model_module_version": "1.5.0",
      "_model_name": "HTMLModel",
      "_view_count": null,
      "_view_module": "@jupyter-widgets/controls",
      "_view_module_version": "1.5.0",
      "_view_name": "HTMLView",
      "description": "",
      "description_tooltip": null,
      "layout": "IPY_MODEL_f740051dc1274d90b8fe7e7d84eaebd5",
      "placeholder": "​",
      "style": "IPY_MODEL_c681cecd580146ed81bf20ea10776d0b",
      "value": " 2/2 [00:00&lt;00:00, 76.63it/s]"
     }
    },
    "be80c7894bda4e59bebd50ecd4a16aa4": {
     "model_module": "@jupyter-widgets/controls",
     "model_module_version": "1.5.0",
     "model_name": "DescriptionStyleModel",
     "state": {
      "_model_module": "@jupyter-widgets/controls",
      "_model_module_version": "1.5.0",
      "_model_name": "DescriptionStyleModel",
      "_view_count": null,
      "_view_module": "@jupyter-widgets/base",
      "_view_module_version": "1.2.0",
      "_view_name": "StyleView",
      "description_width": ""
     }
    },
    "c2bdea6167e84b2fb46b99fdf4a88202": {
     "model_module": "@jupyter-widgets/controls",
     "model_module_version": "1.5.0",
     "model_name": "DescriptionStyleModel",
     "state": {
      "_model_module": "@jupyter-widgets/controls",
      "_model_module_version": "1.5.0",
      "_model_name": "DescriptionStyleModel",
      "_view_count": null,
      "_view_module": "@jupyter-widgets/base",
      "_view_module_version": "1.2.0",
      "_view_name": "StyleView",
      "description_width": ""
     }
    },
    "c3d3358d9797462d9e39f219ab799dac": {
     "model_module": "@jupyter-widgets/controls",
     "model_module_version": "1.5.0",
     "model_name": "ProgressStyleModel",
     "state": {
      "_model_module": "@jupyter-widgets/controls",
      "_model_module_version": "1.5.0",
      "_model_name": "ProgressStyleModel",
      "_view_count": null,
      "_view_module": "@jupyter-widgets/base",
      "_view_module_version": "1.2.0",
      "_view_name": "StyleView",
      "bar_color": null,
      "description_width": ""
     }
    },
    "c681cecd580146ed81bf20ea10776d0b": {
     "model_module": "@jupyter-widgets/controls",
     "model_module_version": "1.5.0",
     "model_name": "DescriptionStyleModel",
     "state": {
      "_model_module": "@jupyter-widgets/controls",
      "_model_module_version": "1.5.0",
      "_model_name": "DescriptionStyleModel",
      "_view_count": null,
      "_view_module": "@jupyter-widgets/base",
      "_view_module_version": "1.2.0",
      "_view_name": "StyleView",
      "description_width": ""
     }
    },
    "cb4731f886a3431381752fd2873a7040": {
     "model_module": "@jupyter-widgets/base",
     "model_module_version": "1.2.0",
     "model_name": "LayoutModel",
     "state": {
      "_model_module": "@jupyter-widgets/base",
      "_model_module_version": "1.2.0",
      "_model_name": "LayoutModel",
      "_view_count": null,
      "_view_module": "@jupyter-widgets/base",
      "_view_module_version": "1.2.0",
      "_view_name": "LayoutView",
      "align_content": null,
      "align_items": null,
      "align_self": null,
      "border": null,
      "bottom": null,
      "display": null,
      "flex": null,
      "flex_flow": null,
      "grid_area": null,
      "grid_auto_columns": null,
      "grid_auto_flow": null,
      "grid_auto_rows": null,
      "grid_column": null,
      "grid_gap": null,
      "grid_row": null,
      "grid_template_areas": null,
      "grid_template_columns": null,
      "grid_template_rows": null,
      "height": null,
      "justify_content": null,
      "justify_items": null,
      "left": null,
      "margin": null,
      "max_height": null,
      "max_width": null,
      "min_height": null,
      "min_width": null,
      "object_fit": null,
      "object_position": null,
      "order": null,
      "overflow": null,
      "overflow_x": null,
      "overflow_y": null,
      "padding": null,
      "right": null,
      "top": null,
      "visibility": null,
      "width": null
     }
    },
    "cb99de53f41541e78c393017a099a922": {
     "model_module": "@jupyter-widgets/controls",
     "model_module_version": "1.5.0",
     "model_name": "ProgressStyleModel",
     "state": {
      "_model_module": "@jupyter-widgets/controls",
      "_model_module_version": "1.5.0",
      "_model_name": "ProgressStyleModel",
      "_view_count": null,
      "_view_module": "@jupyter-widgets/base",
      "_view_module_version": "1.2.0",
      "_view_name": "StyleView",
      "bar_color": null,
      "description_width": ""
     }
    },
    "ce7ca7ec7ff541a59f439211aa612896": {
     "model_module": "@jupyter-widgets/controls",
     "model_module_version": "1.5.0",
     "model_name": "ProgressStyleModel",
     "state": {
      "_model_module": "@jupyter-widgets/controls",
      "_model_module_version": "1.5.0",
      "_model_name": "ProgressStyleModel",
      "_view_count": null,
      "_view_module": "@jupyter-widgets/base",
      "_view_module_version": "1.2.0",
      "_view_name": "StyleView",
      "bar_color": null,
      "description_width": ""
     }
    },
    "ce7e6d44b8324436958b8f5dd466db1c": {
     "model_module": "@jupyter-widgets/base",
     "model_module_version": "1.2.0",
     "model_name": "LayoutModel",
     "state": {
      "_model_module": "@jupyter-widgets/base",
      "_model_module_version": "1.2.0",
      "_model_name": "LayoutModel",
      "_view_count": null,
      "_view_module": "@jupyter-widgets/base",
      "_view_module_version": "1.2.0",
      "_view_name": "LayoutView",
      "align_content": null,
      "align_items": null,
      "align_self": null,
      "border": null,
      "bottom": null,
      "display": null,
      "flex": null,
      "flex_flow": null,
      "grid_area": null,
      "grid_auto_columns": null,
      "grid_auto_flow": null,
      "grid_auto_rows": null,
      "grid_column": null,
      "grid_gap": null,
      "grid_row": null,
      "grid_template_areas": null,
      "grid_template_columns": null,
      "grid_template_rows": null,
      "height": null,
      "justify_content": null,
      "justify_items": null,
      "left": null,
      "margin": null,
      "max_height": null,
      "max_width": null,
      "min_height": null,
      "min_width": null,
      "object_fit": null,
      "object_position": null,
      "order": null,
      "overflow": null,
      "overflow_x": null,
      "overflow_y": null,
      "padding": null,
      "right": null,
      "top": null,
      "visibility": null,
      "width": null
     }
    },
    "d0162dc8da5b4d259080d1f3f6511a78": {
     "model_module": "@jupyter-widgets/controls",
     "model_module_version": "1.5.0",
     "model_name": "DescriptionStyleModel",
     "state": {
      "_model_module": "@jupyter-widgets/controls",
      "_model_module_version": "1.5.0",
      "_model_name": "DescriptionStyleModel",
      "_view_count": null,
      "_view_module": "@jupyter-widgets/base",
      "_view_module_version": "1.2.0",
      "_view_name": "StyleView",
      "description_width": ""
     }
    },
    "d182b59243d449f3b26693257136dba6": {
     "model_module": "@jupyter-widgets/controls",
     "model_module_version": "1.5.0",
     "model_name": "HTMLModel",
     "state": {
      "_dom_classes": [],
      "_model_module": "@jupyter-widgets/controls",
      "_model_module_version": "1.5.0",
      "_model_name": "HTMLModel",
      "_view_count": null,
      "_view_module": "@jupyter-widgets/controls",
      "_view_module_version": "1.5.0",
      "_view_name": "HTMLView",
      "description": "",
      "description_tooltip": null,
      "layout": "IPY_MODEL_a6479234793240b293e6562205a7f874",
      "placeholder": "​",
      "style": "IPY_MODEL_b9b67cc280e144cc98f5724f6aa970e4",
      "value": " 2/2 [00:00&lt;00:00, 65.20it/s]"
     }
    },
    "d4fc94970cab4fc3b2ec21bd56b5cf33": {
     "model_module": "@jupyter-widgets/base",
     "model_module_version": "1.2.0",
     "model_name": "LayoutModel",
     "state": {
      "_model_module": "@jupyter-widgets/base",
      "_model_module_version": "1.2.0",
      "_model_name": "LayoutModel",
      "_view_count": null,
      "_view_module": "@jupyter-widgets/base",
      "_view_module_version": "1.2.0",
      "_view_name": "LayoutView",
      "align_content": null,
      "align_items": null,
      "align_self": null,
      "border": null,
      "bottom": null,
      "display": null,
      "flex": null,
      "flex_flow": null,
      "grid_area": null,
      "grid_auto_columns": null,
      "grid_auto_flow": null,
      "grid_auto_rows": null,
      "grid_column": null,
      "grid_gap": null,
      "grid_row": null,
      "grid_template_areas": null,
      "grid_template_columns": null,
      "grid_template_rows": null,
      "height": null,
      "justify_content": null,
      "justify_items": null,
      "left": null,
      "margin": null,
      "max_height": null,
      "max_width": null,
      "min_height": null,
      "min_width": null,
      "object_fit": null,
      "object_position": null,
      "order": null,
      "overflow": null,
      "overflow_x": null,
      "overflow_y": null,
      "padding": null,
      "right": null,
      "top": null,
      "visibility": "hidden",
      "width": null
     }
    },
    "d7f3853d707549ac84bb50cc41f043a5": {
     "model_module": "@jupyter-widgets/controls",
     "model_module_version": "1.5.0",
     "model_name": "FloatProgressModel",
     "state": {
      "_dom_classes": [],
      "_model_module": "@jupyter-widgets/controls",
      "_model_module_version": "1.5.0",
      "_model_name": "FloatProgressModel",
      "_view_count": null,
      "_view_module": "@jupyter-widgets/controls",
      "_view_module_version": "1.5.0",
      "_view_name": "ProgressView",
      "bar_style": "success",
      "description": "",
      "description_tooltip": null,
      "layout": "IPY_MODEL_f8b0e6b98a704dd8b9cf9f773ec8b563",
      "max": 3141928084,
      "min": 0,
      "orientation": "horizontal",
      "style": "IPY_MODEL_2e81234369b547128e1b1522d87e3212",
      "value": 3141928084
     }
    },
    "d90d9336433948388f0b9d41dd624e01": {
     "model_module": "@jupyter-widgets/controls",
     "model_module_version": "1.5.0",
     "model_name": "HTMLModel",
     "state": {
      "_dom_classes": [],
      "_model_module": "@jupyter-widgets/controls",
      "_model_module_version": "1.5.0",
      "_model_name": "HTMLModel",
      "_view_count": null,
      "_view_module": "@jupyter-widgets/controls",
      "_view_module_version": "1.5.0",
      "_view_name": "HTMLView",
      "description": "",
      "description_tooltip": null,
      "layout": "IPY_MODEL_e9ba1c95ad6948459cef3e68d1a38c6c",
      "placeholder": "​",
      "style": "IPY_MODEL_2ed10b6c10db408fb8013bbc4af9f30d",
      "value": "Downloading (…)lve/main/config.json: 100%"
     }
    },
    "da3a6c71e21143f49e7ee364ccfffa2b": {
     "model_module": "@jupyter-widgets/controls",
     "model_module_version": "1.5.0",
     "model_name": "ProgressStyleModel",
     "state": {
      "_model_module": "@jupyter-widgets/controls",
      "_model_module_version": "1.5.0",
      "_model_name": "ProgressStyleModel",
      "_view_count": null,
      "_view_module": "@jupyter-widgets/base",
      "_view_module_version": "1.2.0",
      "_view_name": "StyleView",
      "bar_color": null,
      "description_width": ""
     }
    },
    "e9a6b86b208d4462aa9f6800cdd9c812": {
     "model_module": "@jupyter-widgets/base",
     "model_module_version": "1.2.0",
     "model_name": "LayoutModel",
     "state": {
      "_model_module": "@jupyter-widgets/base",
      "_model_module_version": "1.2.0",
      "_model_name": "LayoutModel",
      "_view_count": null,
      "_view_module": "@jupyter-widgets/base",
      "_view_module_version": "1.2.0",
      "_view_name": "LayoutView",
      "align_content": null,
      "align_items": null,
      "align_self": null,
      "border": null,
      "bottom": null,
      "display": null,
      "flex": null,
      "flex_flow": null,
      "grid_area": null,
      "grid_auto_columns": null,
      "grid_auto_flow": null,
      "grid_auto_rows": null,
      "grid_column": null,
      "grid_gap": null,
      "grid_row": null,
      "grid_template_areas": null,
      "grid_template_columns": null,
      "grid_template_rows": null,
      "height": null,
      "justify_content": null,
      "justify_items": null,
      "left": null,
      "margin": null,
      "max_height": null,
      "max_width": null,
      "min_height": null,
      "min_width": null,
      "object_fit": null,
      "object_position": null,
      "order": null,
      "overflow": null,
      "overflow_x": null,
      "overflow_y": null,
      "padding": null,
      "right": null,
      "top": null,
      "visibility": null,
      "width": null
     }
    },
    "e9ba1c95ad6948459cef3e68d1a38c6c": {
     "model_module": "@jupyter-widgets/base",
     "model_module_version": "1.2.0",
     "model_name": "LayoutModel",
     "state": {
      "_model_module": "@jupyter-widgets/base",
      "_model_module_version": "1.2.0",
      "_model_name": "LayoutModel",
      "_view_count": null,
      "_view_module": "@jupyter-widgets/base",
      "_view_module_version": "1.2.0",
      "_view_name": "LayoutView",
      "align_content": null,
      "align_items": null,
      "align_self": null,
      "border": null,
      "bottom": null,
      "display": null,
      "flex": null,
      "flex_flow": null,
      "grid_area": null,
      "grid_auto_columns": null,
      "grid_auto_flow": null,
      "grid_auto_rows": null,
      "grid_column": null,
      "grid_gap": null,
      "grid_row": null,
      "grid_template_areas": null,
      "grid_template_columns": null,
      "grid_template_rows": null,
      "height": null,
      "justify_content": null,
      "justify_items": null,
      "left": null,
      "margin": null,
      "max_height": null,
      "max_width": null,
      "min_height": null,
      "min_width": null,
      "object_fit": null,
      "object_position": null,
      "order": null,
      "overflow": null,
      "overflow_x": null,
      "overflow_y": null,
      "padding": null,
      "right": null,
      "top": null,
      "visibility": null,
      "width": null
     }
    },
    "eaf170a8c8414d96b10fe7361ceece24": {
     "model_module": "@jupyter-widgets/controls",
     "model_module_version": "1.5.0",
     "model_name": "HBoxModel",
     "state": {
      "_dom_classes": [],
      "_model_module": "@jupyter-widgets/controls",
      "_model_module_version": "1.5.0",
      "_model_name": "HBoxModel",
      "_view_count": null,
      "_view_module": "@jupyter-widgets/controls",
      "_view_module_version": "1.5.0",
      "_view_name": "HBoxView",
      "box_style": "",
      "children": [
       "IPY_MODEL_15c025acda8949c0a1efd4b4f608187d",
       "IPY_MODEL_046f527a014a4ce88aa64935d6ff2e49",
       "IPY_MODEL_911abb62b8224202a68b5c9bff9ed2b7"
      ],
      "layout": "IPY_MODEL_52955a36aaf54cd09c7a0d46638c376a"
     }
    },
    "ef66cbc6d72145a2ba5477ea79b1a79c": {
     "model_module": "@jupyter-widgets/base",
     "model_module_version": "1.2.0",
     "model_name": "LayoutModel",
     "state": {
      "_model_module": "@jupyter-widgets/base",
      "_model_module_version": "1.2.0",
      "_model_name": "LayoutModel",
      "_view_count": null,
      "_view_module": "@jupyter-widgets/base",
      "_view_module_version": "1.2.0",
      "_view_name": "LayoutView",
      "align_content": null,
      "align_items": null,
      "align_self": null,
      "border": null,
      "bottom": null,
      "display": null,
      "flex": null,
      "flex_flow": null,
      "grid_area": null,
      "grid_auto_columns": null,
      "grid_auto_flow": null,
      "grid_auto_rows": null,
      "grid_column": null,
      "grid_gap": null,
      "grid_row": null,
      "grid_template_areas": null,
      "grid_template_columns": null,
      "grid_template_rows": null,
      "height": null,
      "justify_content": null,
      "justify_items": null,
      "left": null,
      "margin": null,
      "max_height": null,
      "max_width": null,
      "min_height": null,
      "min_width": null,
      "object_fit": null,
      "object_position": null,
      "order": null,
      "overflow": null,
      "overflow_x": null,
      "overflow_y": null,
      "padding": null,
      "right": null,
      "top": null,
      "visibility": null,
      "width": null
     }
    },
    "f29b51f47eda4f0aac84de67d2958751": {
     "model_module": "@jupyter-widgets/base",
     "model_module_version": "1.2.0",
     "model_name": "LayoutModel",
     "state": {
      "_model_module": "@jupyter-widgets/base",
      "_model_module_version": "1.2.0",
      "_model_name": "LayoutModel",
      "_view_count": null,
      "_view_module": "@jupyter-widgets/base",
      "_view_module_version": "1.2.0",
      "_view_name": "LayoutView",
      "align_content": null,
      "align_items": null,
      "align_self": null,
      "border": null,
      "bottom": null,
      "display": null,
      "flex": null,
      "flex_flow": null,
      "grid_area": null,
      "grid_auto_columns": null,
      "grid_auto_flow": null,
      "grid_auto_rows": null,
      "grid_column": null,
      "grid_gap": null,
      "grid_row": null,
      "grid_template_areas": null,
      "grid_template_columns": null,
      "grid_template_rows": null,
      "height": null,
      "justify_content": null,
      "justify_items": null,
      "left": null,
      "margin": null,
      "max_height": null,
      "max_width": null,
      "min_height": null,
      "min_width": null,
      "object_fit": null,
      "object_position": null,
      "order": null,
      "overflow": null,
      "overflow_x": null,
      "overflow_y": null,
      "padding": null,
      "right": null,
      "top": null,
      "visibility": "hidden",
      "width": null
     }
    },
    "f2f2ada5fde54a7ea93eaf0ab98772f6": {
     "model_module": "@jupyter-widgets/controls",
     "model_module_version": "1.5.0",
     "model_name": "ProgressStyleModel",
     "state": {
      "_model_module": "@jupyter-widgets/controls",
      "_model_module_version": "1.5.0",
      "_model_name": "ProgressStyleModel",
      "_view_count": null,
      "_view_module": "@jupyter-widgets/base",
      "_view_module_version": "1.2.0",
      "_view_name": "StyleView",
      "bar_color": null,
      "description_width": ""
     }
    },
    "f3866ead31b3489b9ee72b602e7d9879": {
     "model_module": "@jupyter-widgets/controls",
     "model_module_version": "1.5.0",
     "model_name": "DescriptionStyleModel",
     "state": {
      "_model_module": "@jupyter-widgets/controls",
      "_model_module_version": "1.5.0",
      "_model_name": "DescriptionStyleModel",
      "_view_count": null,
      "_view_module": "@jupyter-widgets/base",
      "_view_module_version": "1.2.0",
      "_view_name": "StyleView",
      "description_width": ""
     }
    },
    "f49e007438d24858a0c3df80a4263e32": {
     "model_module": "@jupyter-widgets/base",
     "model_module_version": "1.2.0",
     "model_name": "LayoutModel",
     "state": {
      "_model_module": "@jupyter-widgets/base",
      "_model_module_version": "1.2.0",
      "_model_name": "LayoutModel",
      "_view_count": null,
      "_view_module": "@jupyter-widgets/base",
      "_view_module_version": "1.2.0",
      "_view_name": "LayoutView",
      "align_content": null,
      "align_items": null,
      "align_self": null,
      "border": null,
      "bottom": null,
      "display": null,
      "flex": null,
      "flex_flow": null,
      "grid_area": null,
      "grid_auto_columns": null,
      "grid_auto_flow": null,
      "grid_auto_rows": null,
      "grid_column": null,
      "grid_gap": null,
      "grid_row": null,
      "grid_template_areas": null,
      "grid_template_columns": null,
      "grid_template_rows": null,
      "height": null,
      "justify_content": null,
      "justify_items": null,
      "left": null,
      "margin": null,
      "max_height": null,
      "max_width": null,
      "min_height": null,
      "min_width": null,
      "object_fit": null,
      "object_position": null,
      "order": null,
      "overflow": null,
      "overflow_x": null,
      "overflow_y": null,
      "padding": null,
      "right": null,
      "top": null,
      "visibility": null,
      "width": null
     }
    },
    "f57ef26b14534e55984ba16b570c640d": {
     "model_module": "@jupyter-widgets/base",
     "model_module_version": "1.2.0",
     "model_name": "LayoutModel",
     "state": {
      "_model_module": "@jupyter-widgets/base",
      "_model_module_version": "1.2.0",
      "_model_name": "LayoutModel",
      "_view_count": null,
      "_view_module": "@jupyter-widgets/base",
      "_view_module_version": "1.2.0",
      "_view_name": "LayoutView",
      "align_content": null,
      "align_items": null,
      "align_self": null,
      "border": null,
      "bottom": null,
      "display": null,
      "flex": null,
      "flex_flow": null,
      "grid_area": null,
      "grid_auto_columns": null,
      "grid_auto_flow": null,
      "grid_auto_rows": null,
      "grid_column": null,
      "grid_gap": null,
      "grid_row": null,
      "grid_template_areas": null,
      "grid_template_columns": null,
      "grid_template_rows": null,
      "height": null,
      "justify_content": null,
      "justify_items": null,
      "left": null,
      "margin": null,
      "max_height": null,
      "max_width": null,
      "min_height": null,
      "min_width": null,
      "object_fit": null,
      "object_position": null,
      "order": null,
      "overflow": null,
      "overflow_x": null,
      "overflow_y": null,
      "padding": null,
      "right": null,
      "top": null,
      "visibility": null,
      "width": null
     }
    },
    "f740051dc1274d90b8fe7e7d84eaebd5": {
     "model_module": "@jupyter-widgets/base",
     "model_module_version": "1.2.0",
     "model_name": "LayoutModel",
     "state": {
      "_model_module": "@jupyter-widgets/base",
      "_model_module_version": "1.2.0",
      "_model_name": "LayoutModel",
      "_view_count": null,
      "_view_module": "@jupyter-widgets/base",
      "_view_module_version": "1.2.0",
      "_view_name": "LayoutView",
      "align_content": null,
      "align_items": null,
      "align_self": null,
      "border": null,
      "bottom": null,
      "display": null,
      "flex": null,
      "flex_flow": null,
      "grid_area": null,
      "grid_auto_columns": null,
      "grid_auto_flow": null,
      "grid_auto_rows": null,
      "grid_column": null,
      "grid_gap": null,
      "grid_row": null,
      "grid_template_areas": null,
      "grid_template_columns": null,
      "grid_template_rows": null,
      "height": null,
      "justify_content": null,
      "justify_items": null,
      "left": null,
      "margin": null,
      "max_height": null,
      "max_width": null,
      "min_height": null,
      "min_width": null,
      "object_fit": null,
      "object_position": null,
      "order": null,
      "overflow": null,
      "overflow_x": null,
      "overflow_y": null,
      "padding": null,
      "right": null,
      "top": null,
      "visibility": null,
      "width": null
     }
    },
    "f8b0e6b98a704dd8b9cf9f773ec8b563": {
     "model_module": "@jupyter-widgets/base",
     "model_module_version": "1.2.0",
     "model_name": "LayoutModel",
     "state": {
      "_model_module": "@jupyter-widgets/base",
      "_model_module_version": "1.2.0",
      "_model_name": "LayoutModel",
      "_view_count": null,
      "_view_module": "@jupyter-widgets/base",
      "_view_module_version": "1.2.0",
      "_view_name": "LayoutView",
      "align_content": null,
      "align_items": null,
      "align_self": null,
      "border": null,
      "bottom": null,
      "display": null,
      "flex": null,
      "flex_flow": null,
      "grid_area": null,
      "grid_auto_columns": null,
      "grid_auto_flow": null,
      "grid_auto_rows": null,
      "grid_column": null,
      "grid_gap": null,
      "grid_row": null,
      "grid_template_areas": null,
      "grid_template_columns": null,
      "grid_template_rows": null,
      "height": null,
      "justify_content": null,
      "justify_items": null,
      "left": null,
      "margin": null,
      "max_height": null,
      "max_width": null,
      "min_height": null,
      "min_width": null,
      "object_fit": null,
      "object_position": null,
      "order": null,
      "overflow": null,
      "overflow_x": null,
      "overflow_y": null,
      "padding": null,
      "right": null,
      "top": null,
      "visibility": null,
      "width": null
     }
    },
    "fe57afd5a0a241609837580db7e6dc8e": {
     "model_module": "@jupyter-widgets/controls",
     "model_module_version": "1.5.0",
     "model_name": "HTMLModel",
     "state": {
      "_dom_classes": [],
      "_model_module": "@jupyter-widgets/controls",
      "_model_module_version": "1.5.0",
      "_model_name": "HTMLModel",
      "_view_count": null,
      "_view_module": "@jupyter-widgets/controls",
      "_view_module_version": "1.5.0",
      "_view_name": "HTMLView",
      "description": "",
      "description_tooltip": null,
      "layout": "IPY_MODEL_833febd9093a4be5882fb3011962ba0b",
      "placeholder": "​",
      "style": "IPY_MODEL_d0162dc8da5b4d259080d1f3f6511a78",
      "value": "Downloading (…)olve/main/vocab.json: 100%"
     }
    }
   }
  }
 },
 "nbformat": 4,
 "nbformat_minor": 4
}
