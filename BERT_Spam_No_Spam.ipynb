{
 "cells": [
  {
   "cell_type": "code",
   "execution_count": null,
   "id": "d3a2ffce-5ee9-4e0b-9dd4-69d47c9ae8df",
   "metadata": {},
   "outputs": [],
   "source": []
  },
  {
   "cell_type": "code",
   "execution_count": 1,
   "id": "fd87b63a-ca8c-4cf9-badd-a19c0a7b9dcf",
   "metadata": {},
   "outputs": [],
   "source": [
    "!pip install transformers datasets bertviz -q"
   ]
  },
  {
   "cell_type": "code",
   "execution_count": 16,
   "id": "4d7a6353-4003-4974-8b1e-280ba62988a2",
   "metadata": {},
   "outputs": [
    {
     "data": {
      "text/html": [
       "<div>\n",
       "<style scoped>\n",
       "    .dataframe tbody tr th:only-of-type {\n",
       "        vertical-align: middle;\n",
       "    }\n",
       "\n",
       "    .dataframe tbody tr th {\n",
       "        vertical-align: top;\n",
       "    }\n",
       "\n",
       "    .dataframe thead th {\n",
       "        text-align: right;\n",
       "    }\n",
       "</style>\n",
       "<table border=\"1\" class=\"dataframe\">\n",
       "  <thead>\n",
       "    <tr style=\"text-align: right;\">\n",
       "      <th></th>\n",
       "      <th>text</th>\n",
       "      <th>label</th>\n",
       "    </tr>\n",
       "  </thead>\n",
       "  <tbody>\n",
       "    <tr>\n",
       "      <th>0</th>\n",
       "      <td>Davidkax   Телефон: 81918381482     Сообщение...</td>\n",
       "      <td>1</td>\n",
       "    </tr>\n",
       "    <tr>\n",
       "      <th>1</th>\n",
       "      <td>JosephRib   Телефон: 83995131172     Сообщени...</td>\n",
       "      <td>1</td>\n",
       "    </tr>\n",
       "    <tr>\n",
       "      <th>2</th>\n",
       "      <td>callievi11   Телефон: 82138886658     Сообщен...</td>\n",
       "      <td>1</td>\n",
       "    </tr>\n",
       "    <tr>\n",
       "      <th>3</th>\n",
       "      <td>Eddietet   Телефон: 83816596797     Сообщение...</td>\n",
       "      <td>1</td>\n",
       "    </tr>\n",
       "    <tr>\n",
       "      <th>4</th>\n",
       "      <td>vidly   Телефон: 81735583586     Сообщение: I...</td>\n",
       "      <td>1</td>\n",
       "    </tr>\n",
       "    <tr>\n",
       "      <th>...</th>\n",
       "      <td>...</td>\n",
       "      <td>...</td>\n",
       "    </tr>\n",
       "    <tr>\n",
       "      <th>215</th>\n",
       "      <td>Barrysip   Телефон: 81899623474     Сообщение...</td>\n",
       "      <td>1</td>\n",
       "    </tr>\n",
       "    <tr>\n",
       "      <th>216</th>\n",
       "      <td>debbiecd3   Телефон: 89939737931     Сообщени...</td>\n",
       "      <td>1</td>\n",
       "    </tr>\n",
       "    <tr>\n",
       "      <th>217</th>\n",
       "      <td>AlbertCew   Телефон: 89788629755     Сообщени...</td>\n",
       "      <td>1</td>\n",
       "    </tr>\n",
       "    <tr>\n",
       "      <th>218</th>\n",
       "      <td>Patrickkqv   Телефон: 87423696752     Сообщен...</td>\n",
       "      <td>1</td>\n",
       "    </tr>\n",
       "    <tr>\n",
       "      <th>219</th>\n",
       "      <td>Batteryibo   Телефон: 84277955355     Сообщен...</td>\n",
       "      <td>1</td>\n",
       "    </tr>\n",
       "  </tbody>\n",
       "</table>\n",
       "<p>220 rows × 2 columns</p>\n",
       "</div>"
      ],
      "text/plain": [
       "                                                  text  label\n",
       "0     Davidkax   Телефон: 81918381482     Сообщение...      1\n",
       "1     JosephRib   Телефон: 83995131172     Сообщени...      1\n",
       "2     callievi11   Телефон: 82138886658     Сообщен...      1\n",
       "3     Eddietet   Телефон: 83816596797     Сообщение...      1\n",
       "4     vidly   Телефон: 81735583586     Сообщение: I...      1\n",
       "..                                                 ...    ...\n",
       "215   Barrysip   Телефон: 81899623474     Сообщение...      1\n",
       "216   debbiecd3   Телефон: 89939737931     Сообщени...      1\n",
       "217   AlbertCew   Телефон: 89788629755     Сообщени...      1\n",
       "218   Patrickkqv   Телефон: 87423696752     Сообщен...      1\n",
       "219   Batteryibo   Телефон: 84277955355     Сообщен...      1\n",
       "\n",
       "[220 rows x 2 columns]"
      ]
     },
     "execution_count": 16,
     "metadata": {},
     "output_type": "execute_result"
    }
   ],
   "source": [
    "with open('data/spam.txt', encoding='cp1251') as f:\n",
    "    text = ' '.join(f.readlines())\n",
    "\n",
    "messages = []\n",
    "for message in text.split('От:'):\n",
    "    if 'Имя:' in message:\n",
    "        m = message.split('Имя:')[1]\n",
    "        messages.append(m.replace('\\n', ' '))\n",
    "\n",
    "import pandas as pd\n",
    "\n",
    "df = pd.DataFrame(messages, columns=['text'])\n",
    "df['label'] = 1\n",
    "df"
   ]
  },
  {
   "cell_type": "code",
   "execution_count": 17,
   "id": "7ab7ba59-05de-42fb-8fe2-205acf81b7d8",
   "metadata": {},
   "outputs": [],
   "source": [
    "with open('data/not-spam.txt', encoding='cp1251') as f:\n",
    "    text = ' '.join(f.readlines())\n",
    "\n",
    "messages = []\n",
    "for message in text.split('От:'):\n",
    "    if 'Имя:' in message:\n",
    "        m = message.split('Имя:')[1]\n",
    "        messages.append(m.replace('\\n', ' '))\n",
    "\n",
    "import pandas as pd\n",
    "\n",
    "df2 = pd.DataFrame(messages, columns=['text'])\n",
    "df2['label'] = 0"
   ]
  },
  {
   "cell_type": "code",
   "execution_count": 18,
   "id": "420c865a-c243-477e-bf82-9cd1e206fe75",
   "metadata": {},
   "outputs": [],
   "source": [
    "df = pd.concat([df, df2])"
   ]
  },
  {
   "cell_type": "code",
   "execution_count": 20,
   "id": "19a4611a-9ca7-428f-807a-44a0ab81f175",
   "metadata": {},
   "outputs": [
    {
     "data": {
      "text/plain": [
       "1    220\n",
       "0    112\n",
       "Name: label, dtype: int64"
      ]
     },
     "execution_count": 20,
     "metadata": {},
     "output_type": "execute_result"
    }
   ],
   "source": [
    "df['label'].value_counts()"
   ]
  },
  {
   "cell_type": "code",
   "execution_count": 21,
   "id": "34ad04ff-2492-4268-ac69-8c3f3ed9f402",
   "metadata": {},
   "outputs": [],
   "source": [
    "import pandas as pd\n",
    "import numpy as np\n",
    "import torch\n",
    "from tqdm.auto import tqdm, trange\n",
    "\n",
    "from transformers import AutoTokenizer, AutoModelForSequenceClassification\n",
    "from transformers import DataCollatorWithPadding\n",
    "from torch.utils.data import DataLoader\n",
    "from datasets import Dataset\n",
    "\n",
    "import matplotlib.pyplot as plt\n",
    "import pandas as pd\n",
    "from sklearn.model_selection import train_test_split"
   ]
  },
  {
   "cell_type": "code",
   "execution_count": 23,
   "id": "53863e8a-0829-471a-bbcc-cd1da66c8454",
   "metadata": {},
   "outputs": [],
   "source": [
    "data = Dataset.from_dict({'text': df['text'], 'label': df['label']}).train_test_split(test_size=0.2, seed=1)"
   ]
  },
  {
   "cell_type": "code",
   "execution_count": 24,
   "id": "dc198bb0-24d3-4c63-9a44-b2e1d6fd65f2",
   "metadata": {},
   "outputs": [
    {
     "data": {
      "text/plain": [
       "DatasetDict({\n",
       "    train: Dataset({\n",
       "        features: ['text', 'label'],\n",
       "        num_rows: 265\n",
       "    })\n",
       "    test: Dataset({\n",
       "        features: ['text', 'label'],\n",
       "        num_rows: 67\n",
       "    })\n",
       "})"
      ]
     },
     "execution_count": 24,
     "metadata": {},
     "output_type": "execute_result"
    }
   ],
   "source": [
    "data"
   ]
  },
  {
   "cell_type": "code",
   "execution_count": 25,
   "id": "e34d3407-13d2-4040-833b-8a0f6d500302",
   "metadata": {},
   "outputs": [],
   "source": [
    "base_model = 'DeepPavlov/rubert-base-cased-conversational'"
   ]
  },
  {
   "cell_type": "code",
   "execution_count": 26,
   "id": "94fab981-3229-49b8-85c8-5056e17d3ae2",
   "metadata": {},
   "outputs": [],
   "source": [
    "tokenizer = AutoTokenizer.from_pretrained(base_model)"
   ]
  },
  {
   "cell_type": "code",
   "execution_count": 27,
   "id": "9a502ec8-8486-48f9-8110-b5a99a0325d5",
   "metadata": {},
   "outputs": [
    {
     "data": {
      "application/vnd.jupyter.widget-view+json": {
       "model_id": "",
       "version_major": 2,
       "version_minor": 0
      },
      "text/plain": [
       "Map:   0%|          | 0/265 [00:00<?, ? examples/s]"
      ]
     },
     "metadata": {},
     "output_type": "display_data"
    },
    {
     "data": {
      "application/vnd.jupyter.widget-view+json": {
       "model_id": "",
       "version_major": 2,
       "version_minor": 0
      },
      "text/plain": [
       "Map:   0%|          | 0/67 [00:00<?, ? examples/s]"
      ]
     },
     "metadata": {},
     "output_type": "display_data"
    }
   ],
   "source": [
    "data_tokenized = data.map(lambda x: tokenizer(x['text'], truncation=True, max_length=512), batched=True, remove_columns=['text'])"
   ]
  },
  {
   "cell_type": "code",
   "execution_count": 28,
   "id": "529b8035-db58-44d7-b22c-d45925831b6a",
   "metadata": {},
   "outputs": [
    {
     "data": {
      "text/plain": [
       "DatasetDict({\n",
       "    train: Dataset({\n",
       "        features: ['label', 'input_ids', 'token_type_ids', 'attention_mask'],\n",
       "        num_rows: 265\n",
       "    })\n",
       "    test: Dataset({\n",
       "        features: ['label', 'input_ids', 'token_type_ids', 'attention_mask'],\n",
       "        num_rows: 67\n",
       "    })\n",
       "})"
      ]
     },
     "execution_count": 28,
     "metadata": {},
     "output_type": "execute_result"
    }
   ],
   "source": [
    "data_tokenized"
   ]
  },
  {
   "cell_type": "code",
   "execution_count": 32,
   "id": "ac13223b-ccff-4f3b-8b9c-9221c034e09b",
   "metadata": {},
   "outputs": [
    {
     "name": "stdout",
     "output_type": "stream",
     "text": [
      "{'label': 0, 'input_ids': [101, 43302, 3355, 359, 476, 130, 30561, 156, 2987, 1873, 2675, 168, 30561, 132, 7411, 16655, 156, 13154, 6308, 97191, 24610, 6299, 44211, 156, 7963, 106, 10788, 18548, 32939, 166, 1188, 886, 2101, 1792, 166, 102], 'token_type_ids': [0, 0, 0, 0, 0, 0, 0, 0, 0, 0, 0, 0, 0, 0, 0, 0, 0, 0, 0, 0, 0, 0, 0, 0, 0, 0, 0, 0, 0, 0, 0, 0, 0, 0, 0, 0], 'attention_mask': [1, 1, 1, 1, 1, 1, 1, 1, 1, 1, 1, 1, 1, 1, 1, 1, 1, 1, 1, 1, 1, 1, 1, 1, 1, 1, 1, 1, 1, 1, 1, 1, 1, 1, 1, 1]}\n"
     ]
    }
   ],
   "source": [
    "print(data_tokenized['train'][260])"
   ]
  },
  {
   "cell_type": "code",
   "execution_count": 33,
   "id": "f87e7b76-3986-4613-84bd-19294776092b",
   "metadata": {},
   "outputs": [],
   "source": [
    "collator = DataCollatorWithPadding(tokenizer=tokenizer)"
   ]
  },
  {
   "cell_type": "code",
   "execution_count": 54,
   "id": "7ee1c037-c063-4c25-94c2-8f26526aae57",
   "metadata": {},
   "outputs": [
    {
     "name": "stderr",
     "output_type": "stream",
     "text": [
      "Some weights of the model checkpoint at DeepPavlov/rubert-base-cased-conversational were not used when initializing BertForSequenceClassification: ['cls.seq_relationship.weight', 'cls.seq_relationship.bias', 'cls.predictions.bias', 'cls.predictions.transform.LayerNorm.bias', 'cls.predictions.decoder.bias', 'cls.predictions.transform.dense.weight', 'cls.predictions.transform.LayerNorm.weight', 'cls.predictions.decoder.weight', 'cls.predictions.transform.dense.bias']\n",
      "- This IS expected if you are initializing BertForSequenceClassification from the checkpoint of a model trained on another task or with another architecture (e.g. initializing a BertForSequenceClassification model from a BertForPreTraining model).\n",
      "- This IS NOT expected if you are initializing BertForSequenceClassification from the checkpoint of a model that you expect to be exactly identical (initializing a BertForSequenceClassification model from a BertForSequenceClassification model).\n",
      "Some weights of BertForSequenceClassification were not initialized from the model checkpoint at DeepPavlov/rubert-base-cased-conversational and are newly initialized: ['classifier.weight', 'classifier.bias']\n",
      "You should probably TRAIN this model on a down-stream task to be able to use it for predictions and inference.\n"
     ]
    }
   ],
   "source": [
    "train_dataloader = DataLoader(data_tokenized['train'], shuffle=True, batch_size=4, collate_fn=collator)\n",
    "val_dataloader = DataLoader(data_tokenized['test'], shuffle=False, batch_size=4, collate_fn=collator)\n",
    "from torch.optim import Adam\n",
    "model = AutoModelForSequenceClassification.from_pretrained(base_model, num_labels=2)"
   ]
  },
  {
   "cell_type": "code",
   "execution_count": 55,
   "id": "36996820-82a2-4324-8670-959e32bdc2cf",
   "metadata": {},
   "outputs": [],
   "source": [
    "import torch\n",
    "\n",
    "class BertClassifierSimple(torch.nn.Module):\n",
    "    def __init__(self, num_labels):\n",
    "        super(BertClassifierSimple, self).__init__()\n",
    "        self.bert = BertModel.from_pretrained('bert-base-uncased')\n",
    "        self.dropout = torch.nn.Dropout(self.bert.config.dropout)\n",
    "        self.out = torch.nn.Linear(self.bert.config.hidden_size, num_labels)\n",
    "\n",
    "    def forward(self, input_ids, attention_mask=None, token_type_ids=None):\n",
    "        bert_output = self.bert(input_ids, attention_mask=attention_mask, token_type_ids=token_type_ids)\n",
    "        output = self.out(self.dropout(bert_output[1]))  # output raw scores to be put into a softmax transformation\n",
    "        return output"
   ]
  },
  {
   "cell_type": "code",
   "execution_count": 56,
   "id": "aa4d58a9-2eb5-4e5b-8345-b0c638f0bd4f",
   "metadata": {},
   "outputs": [],
   "source": [
    "if torch.cuda.is_available():\n",
    "    model.cuda()"
   ]
  },
  {
   "cell_type": "code",
   "execution_count": 57,
   "id": "5a252339-f5ff-4802-b249-773750ea2caa",
   "metadata": {},
   "outputs": [],
   "source": [
    "# model.classifier.parameters()\n",
    "optimizer = Adam(model.parameters(), lr=1e-5)  # with tiny batches, LR should be very small as well"
   ]
  },
  {
   "cell_type": "code",
   "execution_count": 58,
   "id": "d2d132b5-51d9-46ea-b70e-17348da9dba2",
   "metadata": {},
   "outputs": [],
   "source": [
    "import gc\n",
    "gc.collect()\n",
    "torch.cuda.empty_cache()"
   ]
  },
  {
   "cell_type": "code",
   "execution_count": 59,
   "id": "777280b7-1630-4fc0-9f0d-60f8c21f6f64",
   "metadata": {},
   "outputs": [
    {
     "data": {
      "application/vnd.jupyter.widget-view+json": {
       "model_id": "0a4a6f2c0ee4469897d9d2fb8fe582bd",
       "version_major": 2,
       "version_minor": 0
      },
      "text/plain": [
       "  0%|          | 0/3 [00:00<?, ?it/s]"
      ]
     },
     "metadata": {},
     "output_type": "display_data"
    },
    {
     "data": {
      "application/vnd.jupyter.widget-view+json": {
       "model_id": "11ff6914613341e8a5a64e13f8664e11",
       "version_major": 2,
       "version_minor": 0
      },
      "text/plain": [
       "  0%|          | 0/67 [00:00<?, ?it/s]"
      ]
     },
     "metadata": {},
     "output_type": "display_data"
    },
    {
     "data": {
      "application/vnd.jupyter.widget-view+json": {
       "model_id": "42219d029e0840e5ab8b9e5ca1d1022c",
       "version_major": 2,
       "version_minor": 0
      },
      "text/plain": [
       "  0%|          | 0/17 [00:00<?, ?it/s]"
      ]
     },
     "metadata": {},
     "output_type": "display_data"
    },
    {
     "name": "stdout",
     "output_type": "stream",
     "text": [
      "recent train loss 0.24865837584235775 eval loss 0.08497256719890763 accuracy 0.9850746268656716\n"
     ]
    },
    {
     "data": {
      "application/vnd.jupyter.widget-view+json": {
       "model_id": "ac28370b08ba4ed193d1bfab612ab3bc",
       "version_major": 2,
       "version_minor": 0
      },
      "text/plain": [
       "  0%|          | 0/67 [00:00<?, ?it/s]"
      ]
     },
     "metadata": {},
     "output_type": "display_data"
    },
    {
     "data": {
      "application/vnd.jupyter.widget-view+json": {
       "model_id": "b0be6922ffe24d5e91403d9ef83ea894",
       "version_major": 2,
       "version_minor": 0
      },
      "text/plain": [
       "  0%|          | 0/17 [00:00<?, ?it/s]"
      ]
     },
     "metadata": {},
     "output_type": "display_data"
    },
    {
     "name": "stdout",
     "output_type": "stream",
     "text": [
      "recent train loss 0.05062259435653686 eval loss 0.09788846618988935 accuracy 0.9701492537313433\n"
     ]
    },
    {
     "data": {
      "application/vnd.jupyter.widget-view+json": {
       "model_id": "6de3c1ef3acb4e1389d203b6aeaf343a",
       "version_major": 2,
       "version_minor": 0
      },
      "text/plain": [
       "  0%|          | 0/67 [00:00<?, ?it/s]"
      ]
     },
     "metadata": {},
     "output_type": "display_data"
    },
    {
     "data": {
      "application/vnd.jupyter.widget-view+json": {
       "model_id": "2d086c0560544ae2a888e51e427ac10b",
       "version_major": 2,
       "version_minor": 0
      },
      "text/plain": [
       "  0%|          | 0/17 [00:00<?, ?it/s]"
      ]
     },
     "metadata": {},
     "output_type": "display_data"
    },
    {
     "name": "stdout",
     "output_type": "stream",
     "text": [
      "recent train loss 0.010068924026563763 eval loss 0.10251752298106165 accuracy 0.9701492537313433\n"
     ]
    }
   ],
   "source": [
    "losses = []\n",
    "for epoch in trange(3):\n",
    "    pbar = tqdm(train_dataloader)\n",
    "    model.train()\n",
    "    for i, batch in enumerate(pbar):\n",
    "        out = model(**batch.to(model.device))\n",
    "        out.loss.backward()\n",
    "        if i % 1 == 0:\n",
    "            optimizer.step()\n",
    "            optimizer.zero_grad()\n",
    "        losses.append(out.loss.item())\n",
    "        pbar.set_description(f'loss: {np.mean(losses[-100:]):2.2f}')\n",
    "    model.eval()\n",
    "    eval_losses = []\n",
    "    eval_preds = []\n",
    "    eval_targets = []\n",
    "    for batch in tqdm(val_dataloader):\n",
    "        with torch.no_grad():\n",
    "                out = model(**batch.to(model.device))\n",
    "        eval_losses.append(out.loss.item())\n",
    "        eval_preds.extend(out.logits.argmax(1).tolist())\n",
    "        eval_targets.extend(batch['labels'].tolist())\n",
    "    print('recent train loss', np.mean(losses[-100:]), 'eval loss', np.mean(eval_losses), 'accuracy', np.mean(np.array(eval_targets) == eval_preds))"
   ]
  },
  {
   "cell_type": "code",
   "execution_count": 60,
   "id": "ea9f18b1-5621-4414-9358-9330a012747c",
   "metadata": {},
   "outputs": [
    {
     "data": {
      "application/vnd.jupyter.widget-view+json": {
       "model_id": "51ad278a5e7c45f3b06bb7e9148567ce",
       "version_major": 2,
       "version_minor": 0
      },
      "text/plain": [
       "  0%|          | 0/17 [00:00<?, ?it/s]"
      ]
     },
     "metadata": {},
     "output_type": "display_data"
    },
    {
     "name": "stdout",
     "output_type": "stream",
     "text": [
      "recent train loss 0.010068924026563763 eval loss 0.10251752298106165 accuracy 0.9701492537313433\n"
     ]
    }
   ],
   "source": [
    "model.eval()\n",
    "eval_losses = []\n",
    "eval_preds = []\n",
    "eval_targets = []\n",
    "for batch in tqdm(val_dataloader):\n",
    "    with torch.no_grad():\n",
    "            out = model(**batch.to(model.device))\n",
    "    eval_losses.append(out.loss.item())\n",
    "    eval_preds.extend(out.logits.argmax(1).tolist())\n",
    "    eval_targets.extend(batch['labels'].tolist())\n",
    "print('recent train loss', np.mean(losses[-100:]), 'eval loss', np.mean(eval_losses), 'accuracy', np.mean(np.array(eval_targets) == eval_preds))"
   ]
  },
  {
   "cell_type": "code",
   "execution_count": 61,
   "id": "064bc332-8caf-465a-aac3-8f8ea6474863",
   "metadata": {},
   "outputs": [
    {
     "data": {
      "text/plain": [
       "array([[21,  1],\n",
       "       [ 1, 44]])"
      ]
     },
     "execution_count": 61,
     "metadata": {},
     "output_type": "execute_result"
    }
   ],
   "source": [
    "from sklearn.metrics import confusion_matrix\n",
    "\n",
    "confusion_matrix(eval_targets, eval_preds)"
   ]
  },
  {
   "cell_type": "code",
   "execution_count": 62,
   "id": "867594d2-7e9c-4278-a4b5-02ab7d21b1c1",
   "metadata": {},
   "outputs": [
    {
     "data": {
      "text/plain": [
       "('models/spam_classifier/tokenizer_config.json',\n",
       " 'models/spam_classifier/special_tokens_map.json',\n",
       " 'models/spam_classifier/vocab.txt',\n",
       " 'models/spam_classifier/added_tokens.json',\n",
       " 'models/spam_classifier/tokenizer.json')"
      ]
     },
     "execution_count": 62,
     "metadata": {},
     "output_type": "execute_result"
    }
   ],
   "source": [
    "model.save_pretrained('models/spam_classifier')\n",
    "tokenizer.save_pretrained('models/spam_classifier')"
   ]
  },
  {
   "cell_type": "code",
   "execution_count": 63,
   "id": "81caa1bc-8671-4190-8426-7f5ba7ae6e67",
   "metadata": {},
   "outputs": [],
   "source": [
    "model = AutoModelForSequenceClassification.from_pretrained('models/spam_classifier')\n",
    "tokenizer = AutoTokenizer.from_pretrained('models/spam_classifier')"
   ]
  },
  {
   "cell_type": "code",
   "execution_count": 64,
   "id": "652d2978-47f7-4508-9e6e-c90821e183c9",
   "metadata": {},
   "outputs": [],
   "source": [
    "def classify(text):\n",
    "    with torch.no_grad():\n",
    "        proba = torch.softmax(model(**tokenizer(text, return_tensors='pt', truncation=True, max_length=512).to(model.device)).logits, -1)\n",
    "    return proba.cpu().numpy()[0]"
   ]
  },
  {
   "cell_type": "code",
   "execution_count": 65,
   "id": "de6c3c44-fd38-4438-93a0-b7041e703e84",
   "metadata": {},
   "outputs": [
    {
     "data": {
      "text/plain": [
       "[' hotplayerMypog   Телефон: 86858628552     Сообщение: Популярный музыкальный портал предлагает послушать красивую, романтическую и нежную музыку, которая помогает взбодриться, улучшить настроение, развеяться в будний день после активной работы. Если и вы находитесь в поисках качественной музыки, которую можно не только поставить в машину, но и скачать на любое устройство для веселья, то скорей заходите на сайт https://hotplayer.ru (лезгинка терских казаков <https://hotplayer.ru/?s=лезгинка>  ) на котором собраны самые лирические треки современности. Их можно слушать без остановки, нон-стоп и получать от этого много удовольствия. Музыка уносит в удивительный, невероятный мир, в котором вам будет спокойно и гармонично.     Здесь представлены как давно полюбившиеся хиты прошлых лет, так и многообещающие новинки. Их выхода ждали давно и с особым нетерпением, а потому вы сможете начать прослушивать любимые треки и радоваться их качественному, необычному и интересному звучанию. И самое главное, что звук невероятно чистый, что особенно доставляет удовольствие. Этот портал радует разнообразной музыкой, а потому вы обязательно отыщите что-то, исходя из своих предпочтений, вкусов. Для этого необходимо воспользоваться комфортным поиском. Он поможет найти все, что необходимо. И даже песню определенного певца. Во время прослушивания отвлекитесь на минуту от забот. К важным преимуществам портала относят:     - огромный выбор музыкальных композиций;   - качественный звук;   - отечественные исполнители;   - бесплатное пользование ресурсом.     Важным достоинством данного портала является то, что на нем регулярно публикуются новинки, услышать которые необходимо и вам. При этом каждый певец старается захватить ваше внимание, чтобы очаровать своего слушателя. Наслаждаться приятными мелодиями вы сможете в любом месте, даже на прогулке с любимой собакой, на природе, во время уикенда или уборки. Здесь находится только отборная музыка, «свежачок», который обязательно произведет эффект.     Если нагрянули гости, то обязательно включите плейлист для того, чтобы получить море положительных эмоций. Этот плейлист отправит вас в увлекательное путешествие в музыкальный рай, которое вам точно понравится. Здесь находится комфортный и интуитивно понятный плеер, который поможет вам воспроизвести любую песню, сделать громче, включить другой трек или поставить его на паузу. Сайт максимально адаптирован под потребности пользователя, чтобы вам было комфортно находиться на этом портале.       ',\n",
       " ' zorovjedo   Телефон: 86295593619     Сообщение: Восстановление желудка  и иные знания в разделе о Здоровье  <https://ussr.website/здоровье.html>  . Это просто и эффективно просто и  стопроцентно.       ',\n",
       " ' gilbertjq11   Телефон: 85483735439     Сообщение: Hot photo galleries blogs and pictures  http://datingfreesites.freeanimeporn.relayblog.com/?post-fatima     vintae porn movies pembrokeshire porn pipe porn lesbian free billy and  danny porn sora x riku porn           ',\n",
       " ' JosephDig   Телефон: 85988691678     Сообщение: Est error molestiae in dolorem similique. Ipsum ipsa  architecto natus quod architecto dolorem ad est. Voluptas facilis sequi  pariatur eveniet.   omgomgomg5j4yrr4mjdv3h5c5xfvxtqqs2in7smi65mjps7wvkmqmtqd.onion   https://omg-na-dark.net   Sapiente voluptas et et et. Nulla in ratione ut eligendi quia sed quo.  Non in tempora distinctio natus odit aut. Dicta explicabo et qui  nesciunt.     Non quaerat praesentium quod. Esse dolor consectetur nisi. Odit  voluptas ut tenetur voluptatem aperiam nesciunt commodi. Temporibus  recusandae ex dolorum saepe et. Repudiandae architecto pariatur qui non  est. Hic ab dolorem consectetur rerum est quas dolor assumenda.     Aut dolor aut deserunt velit aperiam. Deserunt doloribus molestiae in  modi numquam. Voluptatum laboriosam quaerat vel autem eum. Asperiores  ipsam eum eos. Provident deserunt animi ab.     Et dolor repellendus porro aut inventore earum expedita. Blanditiis  sunt itaque modi repudiandae iure. Nihil recusandae qui qui quisquam  autem quia repellat dolorem. Deserunt laborum maiores voluptates  voluptas illum necessitatibus est. Hic est atque amet consequatur  sapiente ad ut tempore. Incidunt rerum minima tenetur eligendi ut.       ',\n",
       " ' JeroldPef   Телефон: 89113199118     Сообщение: Лжеюристы, кто они?   Гк защита граждан контакты   Гк защита граждан отзывы клиентов <https://gk-zashhita-grazhdan.ru/>    ГК Защита Граждан - обман и лжеюристы Главная   Один из способов мошенничества, при которых наживаются на слабостях и  проблемах людей, – это предоставление якобы юридических услуг, которые,  по факту, в итоге клиенту не оказываются. Количество «лжеюристов» и даже  целых юридических фирм, которые обещают решить любые ваши проблемы, с  каждым днем всё растет, и иногда отличить их от настоящих специалистов  может быть очень сложно. Вам даже могут составить необходимые документы,  а не прекратить все контакты, как это любят делать мошенники. Но, скорее  всего, это будет делать человек, у которого даже нет юридического  образования, а дело вы проиграете.         ']"
      ]
     },
     "execution_count": 65,
     "metadata": {},
     "output_type": "execute_result"
    }
   ],
   "source": [
    "with open('data/val-spam.txt', encoding='cp1251') as f:\n",
    "    text = ' '.join(f.readlines())\n",
    "\n",
    "messages = []\n",
    "for message in text.split('От:'):\n",
    "    if 'Имя:' in message:\n",
    "        m = message.split('Имя:')[1]\n",
    "        messages.append(m.replace('\\n', ' '))\n",
    "\n",
    "messages"
   ]
  },
  {
   "cell_type": "code",
   "execution_count": 69,
   "id": "059d53b3-7d20-43f0-86c3-719beab0aece",
   "metadata": {},
   "outputs": [
    {
     "name": "stdout",
     "output_type": "stream",
     "text": [
      " hotplayerMypog   Телефон: 86858628552     Сообщение: Популярный музыкальный портал предлагает послу prob= SPAM\n",
      " zorovjedo   Телефон: 86295593619     Сообщение: Восстановление желудка  и иные знания в разделе о З prob= SPAM\n",
      " gilbertjq11   Телефон: 85483735439     Сообщение: Hot photo galleries blogs and pictures  http://da prob= SPAM\n",
      " JosephDig   Телефон: 85988691678     Сообщение: Est error molestiae in dolorem similique. Ipsum ips prob= SPAM\n",
      " JeroldPef   Телефон: 89113199118     Сообщение: Лжеюристы, кто они?   Гк защита граждан контакты    prob= SPAM\n"
     ]
    }
   ],
   "source": [
    "for m in messages:\n",
    "    print(m[:100], 'prob=', 'SPAM' if classify(m)[1] > 0.5  else 'NOT-SPAM')"
   ]
  },
  {
   "cell_type": "code",
   "execution_count": 71,
   "id": "63b0da99-fd5c-45c5-abf5-5d71231370d0",
   "metadata": {},
   "outputs": [
    {
     "data": {
      "text/plain": [
       "array([0.9950984 , 0.00490153], dtype=float32)"
      ]
     },
     "execution_count": 71,
     "metadata": {},
     "output_type": "execute_result"
    }
   ],
   "source": [
    "classify('Елена   Телефон: 89101455516    Сообщение: Интересует занятие Читайка с мамами')"
   ]
  },
  {
   "cell_type": "code",
   "execution_count": null,
   "id": "61aa23db-9d2a-495b-b1d4-979e9d1ddbf0",
   "metadata": {},
   "outputs": [],
   "source": []
  }
 ],
 "metadata": {
  "kernelspec": {
   "display_name": "Python 3 (ipykernel)",
   "language": "python",
   "name": "python3"
  },
  "language_info": {
   "codemirror_mode": {
    "name": "ipython",
    "version": 3
   },
   "file_extension": ".py",
   "mimetype": "text/x-python",
   "name": "python",
   "nbconvert_exporter": "python",
   "pygments_lexer": "ipython3",
   "version": "3.7.12"
  }
 },
 "nbformat": 4,
 "nbformat_minor": 5
}
