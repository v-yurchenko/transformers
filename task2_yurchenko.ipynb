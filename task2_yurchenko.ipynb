{
 "cells": [
  {
   "cell_type": "markdown",
   "id": "536a24ef-e0e4-4b26-be4e-de932ff2d6bb",
   "metadata": {},
   "source": [
    "# 1. Information about the submission"
   ]
  },
  {
   "cell_type": "markdown",
   "id": "4c5fb52a-89f5-4f8d-9168-1fb7c76d17a0",
   "metadata": {},
   "source": [
    "## 1.1 Name and number of the assignment"
   ]
  },
  {
   "cell_type": "markdown",
   "id": "27de44fd-ea1c-42a2-a0c4-c5fcfdf7ea58",
   "metadata": {},
   "source": [
    "Task 2. Detoxification through ruPROMPTs and metric hacking"
   ]
  },
  {
   "cell_type": "markdown",
   "id": "14c9c15d-d01b-43d2-ade7-2569c914c438",
   "metadata": {},
   "source": [
    "## 1.2 Student name"
   ]
  },
  {
   "cell_type": "markdown",
   "id": "73ff4a0b-36b7-4e5c-a9a9-101655664454",
   "metadata": {},
   "source": [
    "Yurchenko Vladislav"
   ]
  },
  {
   "cell_type": "markdown",
   "id": "4ac0504c-451d-4263-a3b0-99c177a8f80d",
   "metadata": {
    "tags": []
   },
   "source": [
    "## 1.3 Codalab user ID"
   ]
  },
  {
   "cell_type": "markdown",
   "id": "1e020b64-e988-4377-b79f-6995a40f76bd",
   "metadata": {},
   "source": [
    "v-yurchenko"
   ]
  },
  {
   "cell_type": "markdown",
   "id": "df2a53e6-7462-405a-8eaf-9e55234dfc48",
   "metadata": {},
   "source": [
    "# 2. Technical Report"
   ]
  },
  {
   "cell_type": "markdown",
   "id": "6b9a8a37-cfb0-4c82-8924-4f9d5eaca218",
   "metadata": {},
   "source": [
    "## 2.1 Methodology "
   ]
  },
  {
   "cell_type": "markdown",
   "id": "297aef1b-3dee-4d83-aadf-5062aa3ada62",
   "metadata": {},
   "source": [
    "Использовались 2 подхода: \n",
    " - P-tuning LM модели с чекпоинта sberbank-ai/rugpt3large_based_on_gpt2 \n",
    " - Zero-shot learning модели OpenAI через открытое API\n",
    " \n",
    "В первом подходе мы дообучали модель LM на примерах из датасета.\n",
    "На inference производилась генерация 10 примеров, для каждого примера считались метрики и Joint Score.\n",
    "Результаты сортировались по максимальному Joint Score. \n",
    "Выбирался ответ с максимальным скором.\n",
    "\n",
    "Во втором подходе использовался zero-shot подход для ЯМ chatGPT. Предлагалось переформулировать текст через промпт.\n",
    "**Переформулируй текст без вульгарных выражений:**\n",
    "\n",
    "Выбирался первый ответ chatGPT."
   ]
  },
  {
   "cell_type": "markdown",
   "id": "55813cfe-eda3-4298-9269-9ce6978d57a3",
   "metadata": {},
   "source": [
    "## 2.2 Discussion of results"
   ]
  },
  {
   "cell_type": "markdown",
   "id": "5191215b-36d9-4682-bad4-fbe797e70b5b",
   "metadata": {},
   "source": [
    "Мои эксперименты:\n",
    "\n",
    "| Checkpoint | Additional info | Joint score | Leaderbord |\n",
    "| :- | :- | -: | -: |\n",
    "| baseline |  | - | 0.36  |\n",
    "| baseline (prev t5) |  | - | 0.45  |\n",
    "| ruPrompts | - | 0.7274969536 | 0.66 |\n",
    "| openAI zeroPrompt | - | 0.3600979288 | - |\n",
    "\n",
    "Первый подход я бы назвал \"metric hacking\". Мы дообучаем модель переформулировать текст. А далее улучшаем результаты генерации модели за счет того, что отбираем из Топ-10 результатов ответы с наилучшим скором.\n",
    "\n",
    "Второй подход показал себя хуже, так как без указания примеров модель ChatGPT начинала генерировать ответы достаточно в пространной манере, чем ухудшала метрики по стилю. Текст сгенерированный моделью был далек от исходного.\n",
    "\n",
    "Идеи по улучшению модели:\n",
    " - попробовать few-shot learning подход для модели chatGPT - формировать промпт, который укажет модели как стиль в котором лучше генерировать ответы\n",
    " - использовать метрику Joint Score для доранжирования результатов, \n",
    " - если ранжировщик Joint Score будет медленный для наших целей (а он такой и есть), то обучить дополнительный ранжировщик ответов \n"
   ]
  },
  {
   "cell_type": "markdown",
   "id": "120c741c-e1e8-4496-b489-906c9b767715",
   "metadata": {},
   "source": [
    "# 3. Code"
   ]
  },
  {
   "cell_type": "markdown",
   "id": "937112ba-27a8-4d75-adec-599e4a374db1",
   "metadata": {},
   "source": [
    "### 3.1 Requirements"
   ]
  },
  {
   "cell_type": "code",
   "execution_count": null,
   "id": "a9fe9414-ad69-46b2-89fd-d236efc28440",
   "metadata": {
    "scrolled": true,
    "tags": []
   },
   "outputs": [],
   "source": [
    "%pip install ruprompts datasets"
   ]
  },
  {
   "cell_type": "code",
   "execution_count": 2,
   "id": "47c4123e-3509-414b-869e-00dd539ce2d7",
   "metadata": {},
   "outputs": [
    {
     "name": "stdout",
     "output_type": "stream",
     "text": [
      "mkdir: cannot create directory ‘task2/’: File exists\n"
     ]
    }
   ],
   "source": [
    "!mkdir task2/"
   ]
  },
  {
   "cell_type": "code",
   "execution_count": 3,
   "id": "dfc8ea76-6ca8-4404-86fd-7305ff75faa0",
   "metadata": {
    "scrolled": true,
    "tags": []
   },
   "outputs": [
    {
     "name": "stdout",
     "output_type": "stream",
     "text": [
      "--2023-04-23 00:12:42--  https://raw.githubusercontent.com/skoltech-nlp/russe_detox_2022/main/data/input/train.tsv\n",
      "Resolving raw.githubusercontent.com (raw.githubusercontent.com)... 185.199.111.133, 185.199.110.133, 185.199.108.133, ...\n",
      "Connecting to raw.githubusercontent.com (raw.githubusercontent.com)|185.199.111.133|:443... connected.\n",
      "HTTP request sent, awaiting response... 200 OK\n",
      "Length: 1902888 (1.8M) [text/plain]\n",
      "Saving to: ‘task2/train.tsv’\n",
      "\n",
      "task2/train.tsv     100%[===================>]   1.81M  8.35MB/s    in 0.2s    \n",
      "\n",
      "2023-04-23 00:12:43 (8.35 MB/s) - ‘task2/train.tsv’ saved [1902888/1902888]\n",
      "\n",
      "--2023-04-23 00:12:43--  https://raw.githubusercontent.com/skoltech-nlp/russe_detox_2022/main/data/input/dev.tsv\n",
      "Resolving raw.githubusercontent.com (raw.githubusercontent.com)... 185.199.111.133, 185.199.110.133, 185.199.108.133, ...\n",
      "Connecting to raw.githubusercontent.com (raw.githubusercontent.com)|185.199.111.133|:443... connected.\n",
      "HTTP request sent, awaiting response... 200 OK\n",
      "Length: 200691 (196K) [text/plain]\n",
      "Saving to: ‘task2/dev.tsv’\n",
      "\n",
      "task2/dev.tsv       100%[===================>] 195.99K  --.-KB/s    in 0.1s    \n",
      "\n",
      "2023-04-23 00:12:44 (2.01 MB/s) - ‘task2/dev.tsv’ saved [200691/200691]\n",
      "\n",
      "--2023-04-23 00:12:44--  https://raw.githubusercontent.com/skoltech-nlp/russe_detox_2022/main/data/input/test.tsv\n",
      "Resolving raw.githubusercontent.com (raw.githubusercontent.com)... 185.199.111.133, 185.199.110.133, 185.199.108.133, ...\n",
      "Connecting to raw.githubusercontent.com (raw.githubusercontent.com)|185.199.111.133|:443... connected.\n",
      "HTTP request sent, awaiting response... 200 OK\n",
      "Length: 104462 (102K) [text/plain]\n",
      "Saving to: ‘task2/test.tsv’\n",
      "\n",
      "task2/test.tsv      100%[===================>] 102.01K  --.-KB/s    in 0.08s   \n",
      "\n",
      "2023-04-23 00:12:44 (1.18 MB/s) - ‘task2/test.tsv’ saved [104462/104462]\n",
      "\n"
     ]
    }
   ],
   "source": [
    "!wget -O task2/train.tsv https://raw.githubusercontent.com/skoltech-nlp/russe_detox_2022/main/data/input/train.tsv\n",
    "!wget -O task2/dev.tsv https://raw.githubusercontent.com/skoltech-nlp/russe_detox_2022/main/data/input/dev.tsv\n",
    "!wget -O task2/test.tsv https://raw.githubusercontent.com/skoltech-nlp/russe_detox_2022/main/data/input/test.tsv"
   ]
  },
  {
   "cell_type": "code",
   "execution_count": 16,
   "id": "918a84be-fd05-4776-a664-e14769513a6a",
   "metadata": {
    "scrolled": true,
    "tags": []
   },
   "outputs": [
    {
     "name": "stdout",
     "output_type": "stream",
     "text": [
      "huggingface/tokenizers: The current process just got forked, after parallelism has already been used. Disabling parallelism to avoid deadlocks...\n",
      "To disable this warning, you can either:\n",
      "\t- Avoid using `tokenizers` before the fork if possible\n",
      "\t- Explicitly set the environment variable TOKENIZERS_PARALLELISM=(true | false)\n",
      "--2023-04-23 16:29:38--  https://raw.githubusercontent.com/v-yurchenko/transformers/main/ru_detoxification_evaluation.py\n",
      "Resolving raw.githubusercontent.com (raw.githubusercontent.com)... 185.199.109.133, 185.199.111.133, 185.199.108.133, ...\n",
      "Connecting to raw.githubusercontent.com (raw.githubusercontent.com)|185.199.109.133|:443... connected.\n",
      "HTTP request sent, awaiting response... 200 OK\n",
      "Length: 3606 (3.5K) [text/plain]\n",
      "Saving to: ‘ru_detoxification_evaluation.py’\n",
      "\n",
      "ru_detoxification_e 100%[===================>]   3.52K  --.-KB/s    in 0s      \n",
      "\n",
      "2023-04-23 16:29:38 (47.9 MB/s) - ‘ru_detoxification_evaluation.py’ saved [3606/3606]\n",
      "\n",
      "huggingface/tokenizers: The current process just got forked, after parallelism has already been used. Disabling parallelism to avoid deadlocks...\n",
      "To disable this warning, you can either:\n",
      "\t- Avoid using `tokenizers` before the fork if possible\n",
      "\t- Explicitly set the environment variable TOKENIZERS_PARALLELISM=(true | false)\n",
      "--2023-04-23 16:29:38--  https://raw.githubusercontent.com/v-yurchenko/transformers/main/ru_detoxification_metrics.py\n",
      "Resolving raw.githubusercontent.com (raw.githubusercontent.com)... 185.199.109.133, 185.199.111.133, 185.199.108.133, ...\n",
      "Connecting to raw.githubusercontent.com (raw.githubusercontent.com)|185.199.109.133|:443... connected.\n",
      "HTTP request sent, awaiting response... 200 OK\n",
      "Length: 6968 (6.8K) [text/plain]\n",
      "Saving to: ‘ru_detoxification_metrics.py’\n",
      "\n",
      "ru_detoxification_m 100%[===================>]   6.80K  --.-KB/s    in 0s      \n",
      "\n",
      "2023-04-23 16:29:39 (58.9 MB/s) - ‘ru_detoxification_metrics.py’ saved [6968/6968]\n",
      "\n"
     ]
    }
   ],
   "source": [
    "!wget https://raw.githubusercontent.com/v-yurchenko/transformers/main/ru_detoxification_evaluation.py\n",
    "!wget https://raw.githubusercontent.com/v-yurchenko/transformers/main/ru_detoxification_metrics.py"
   ]
  },
  {
   "cell_type": "markdown",
   "id": "9ecca723-496a-41e4-ad20-4d67d49805e2",
   "metadata": {},
   "source": [
    "### 3.2 P-tuning"
   ]
  },
  {
   "cell_type": "code",
   "execution_count": 4,
   "id": "7985f784-cf22-4a0e-b92f-19e3deb780e0",
   "metadata": {},
   "outputs": [],
   "source": [
    "import pandas as pd\n",
    "\n",
    "df = pd.read_csv(\"task2/train.tsv\", sep=\"\\t\")\n",
    "df.drop([\"index\"], axis=1, inplace=True, errors='ignore')\n",
    "df.to_csv(\"task2/train.tsv\", index=False, sep=\"\\t\")"
   ]
  },
  {
   "cell_type": "code",
   "execution_count": 1,
   "id": "be680673-4d9f-403e-b2d9-9cadab4ff811",
   "metadata": {},
   "outputs": [],
   "source": [
    "import os\n",
    "os.environ[\"CUDA_VISIBLE_DEVICES\"] = \"0\""
   ]
  },
  {
   "cell_type": "code",
   "execution_count": 6,
   "id": "033b3c35-eaa4-43bd-942d-d36697966942",
   "metadata": {},
   "outputs": [
    {
     "name": "stderr",
     "output_type": "stream",
     "text": [
      "Found cached dataset csv (/home/jovyan/.cache/huggingface/datasets/csv/default-9360cce579f368c3/0.0.0/6954658bab30a358235fa864b05cf819af0e179325c740e4bc853bcc7ec513e1)\n"
     ]
    },
    {
     "data": {
      "application/vnd.jupyter.widget-view+json": {
       "model_id": "0b47e14cde2841a3819540d143cd8393",
       "version_major": 2,
       "version_minor": 0
      },
      "text/plain": [
       "  0%|          | 0/2 [00:00<?, ?it/s]"
      ]
     },
     "metadata": {},
     "output_type": "display_data"
    }
   ],
   "source": [
    "from datasets import load_dataset\n",
    "\n",
    "datasets = load_dataset(\"csv\", data_files={\n",
    "    \"train\": \"task2/train.tsv\", \n",
    "    \"validation\": \"task2/dev.tsv\",\n",
    "}, sep=\"\\t\")\n",
    "train_dataset = datasets[\"train\"]\n",
    "valid_dataset = datasets[\"validation\"]"
   ]
  },
  {
   "cell_type": "code",
   "execution_count": 7,
   "id": "f936ed4d-daf4-47d9-8dc3-7c07603f909c",
   "metadata": {},
   "outputs": [
    {
     "name": "stderr",
     "output_type": "stream",
     "text": [
      "Special tokens have been added in the vocabulary, make sure the associated word embeddings are fine-tuned or trained.\n"
     ]
    }
   ],
   "source": [
    "from transformers import GPT2LMHeadModel, AutoTokenizer\n",
    "\n",
    "backbone_id = \"sberbank-ai/rugpt3large_based_on_gpt2\"\n",
    "\n",
    "model = GPT2LMHeadModel.from_pretrained(backbone_id)\n",
    "tokenizer = AutoTokenizer.from_pretrained(backbone_id, pad_token=\"<pad>\", eos_token=\"<pad>\")"
   ]
  },
  {
   "cell_type": "code",
   "execution_count": 8,
   "id": "cd691a74-2099-427b-9afc-1c6529173281",
   "metadata": {},
   "outputs": [],
   "source": [
    "from ruprompts import PromptFormat\n",
    "\n",
    "prompt_format = PromptFormat(\"<P*100>{toxic_comment}<P*20>\")"
   ]
  },
  {
   "cell_type": "code",
   "execution_count": 9,
   "id": "29fe804a-2460-48dc-aac2-47816fdcccbb",
   "metadata": {},
   "outputs": [],
   "source": [
    "from ruprompts import TensorPromptProvider\n",
    "from transformers import set_seed\n",
    "\n",
    "set_seed(1)\n",
    "\n",
    "prompt_provider = TensorPromptProvider()"
   ]
  },
  {
   "cell_type": "code",
   "execution_count": 10,
   "id": "11353fc8-1eba-42e5-8cb9-f51b117e91b2",
   "metadata": {},
   "outputs": [],
   "source": [
    "from ruprompts import Prompt\n",
    "\n",
    "prompt = Prompt(prompt_format, prompt_provider)\n",
    "prompt.patch(model, tokenizer)"
   ]
  },
  {
   "cell_type": "code",
   "execution_count": 11,
   "id": "6f833cac-d435-4a84-b966-3c499856a524",
   "metadata": {},
   "outputs": [
    {
     "name": "stderr",
     "output_type": "stream",
     "text": [
      "Loading cached processed dataset at /home/jovyan/.cache/huggingface/datasets/csv/default-9360cce579f368c3/0.0.0/6954658bab30a358235fa864b05cf819af0e179325c740e4bc853bcc7ec513e1/cache-44d93aff7c544c41.arrow\n",
      "Loading cached processed dataset at /home/jovyan/.cache/huggingface/datasets/csv/default-9360cce579f368c3/0.0.0/6954658bab30a358235fa864b05cf819af0e179325c740e4bc853bcc7ec513e1/cache-af3df78b33fd78f1.arrow\n"
     ]
    }
   ],
   "source": [
    "from ruprompts import Text2TextPreprocessor\n",
    "\n",
    "preprocessor = Text2TextPreprocessor(\n",
    "    prompt_format=prompt_format,\n",
    "    tokenizer=tokenizer,\n",
    "    target_field=\"neutral_comment1\",\n",
    "    max_tokens=1792,\n",
    "    truncation_field=\"toxic_comment\",\n",
    ")\n",
    "\n",
    "train_dataset = train_dataset.map(preprocessor)\n",
    "valid_dataset = valid_dataset.map(preprocessor)"
   ]
  },
  {
   "cell_type": "code",
   "execution_count": 12,
   "id": "ac3eb3ec-e1fc-497b-95ec-a7d26e70ab74",
   "metadata": {},
   "outputs": [],
   "source": [
    "from transformers import TrainingArguments\n",
    "\n",
    "training_args = TrainingArguments(\n",
    "    output_dir=\".\",\n",
    "    per_device_train_batch_size=2,\n",
    "    per_device_eval_batch_size=2,\n",
    "    gradient_accumulation_steps=1,\n",
    "    eval_steps=1000,\n",
    "    save_steps=1000,\n",
    "    logging_steps=100,\n",
    "    evaluation_strategy=\"steps\",\n",
    "    save_strategy=\"steps\",\n",
    "    logging_strategy=\"steps\",\n",
    "    save_total_limit=2,\n",
    "    metric_for_best_model=\"eval_loss\",\n",
    "    learning_rate=0.1,\n",
    "    max_steps=100000,\n",
    "    report_to=\"tensorboard\",\n",
    "    # report_to=[\"tensorboard\", \"wandb\"],  # uncomment to log to WandB\n",
    "    logging_dir=\"logs\",\n",
    "    seed=1,\n",
    ")"
   ]
  },
  {
   "cell_type": "code",
   "execution_count": 13,
   "id": "61badbba-3411-4332-9420-19b1d14cc31a",
   "metadata": {},
   "outputs": [
    {
     "name": "stderr",
     "output_type": "stream",
     "text": [
      "/home/user/conda/lib/python3.7/site-packages/transformers/optimization.py:395: FutureWarning: This implementation of AdamW is deprecated and will be removed in a future version. Use the PyTorch implementation torch.optim.AdamW instead, or set `no_deprecation_warning=True` to disable this warning\n",
      "  FutureWarning,\n"
     ]
    }
   ],
   "source": [
    "from transformers.optimization import AdamW, get_linear_schedule_with_warmup\n",
    "\n",
    "optimizer = AdamW(prompt_provider.parameters(), lr=training_args.learning_rate)\n",
    "scheduler = get_linear_schedule_with_warmup(\n",
    "    optimizer,\n",
    "    num_warmup_steps=2000,\n",
    "    num_training_steps=training_args.max_steps,\n",
    ")"
   ]
  },
  {
   "cell_type": "code",
   "execution_count": null,
   "id": "95f81116-1d93-4e3f-826d-80e6fe12b3b4",
   "metadata": {},
   "outputs": [
    {
     "name": "stderr",
     "output_type": "stream",
     "text": [
      "You're using a GPT2TokenizerFast tokenizer. Please note that with a fast tokenizer, using the `__call__` method is faster than using a method to encode the text followed by a call to the `pad` method to get a padded encoding.\n"
     ]
    },
    {
     "data": {
      "text/html": [
       "\n",
       "    <div>\n",
       "      \n",
       "      <progress value='22131' max='100000' style='width:300px; height:20px; vertical-align: middle;'></progress>\n",
       "      [ 22131/100000 51:31 < 3:01:19, 7.16 it/s, Epoch 6.37/29]\n",
       "    </div>\n",
       "    <table border=\"1\" class=\"dataframe\">\n",
       "  <thead>\n",
       " <tr style=\"text-align: left;\">\n",
       "      <th>Step</th>\n",
       "      <th>Training Loss</th>\n",
       "      <th>Validation Loss</th>\n",
       "    </tr>\n",
       "  </thead>\n",
       "  <tbody>\n",
       "    <tr>\n",
       "      <td>1000</td>\n",
       "      <td>2.201700</td>\n",
       "      <td>1.911890</td>\n",
       "    </tr>\n",
       "    <tr>\n",
       "      <td>2000</td>\n",
       "      <td>1.692000</td>\n",
       "      <td>1.783948</td>\n",
       "    </tr>\n",
       "    <tr>\n",
       "      <td>3000</td>\n",
       "      <td>1.598500</td>\n",
       "      <td>1.709484</td>\n",
       "    </tr>\n",
       "    <tr>\n",
       "      <td>4000</td>\n",
       "      <td>1.633900</td>\n",
       "      <td>1.644775</td>\n",
       "    </tr>\n",
       "    <tr>\n",
       "      <td>5000</td>\n",
       "      <td>1.541400</td>\n",
       "      <td>1.598003</td>\n",
       "    </tr>\n",
       "    <tr>\n",
       "      <td>6000</td>\n",
       "      <td>1.516300</td>\n",
       "      <td>1.548342</td>\n",
       "    </tr>\n",
       "    <tr>\n",
       "      <td>7000</td>\n",
       "      <td>1.483300</td>\n",
       "      <td>1.600356</td>\n",
       "    </tr>\n",
       "    <tr>\n",
       "      <td>8000</td>\n",
       "      <td>1.574000</td>\n",
       "      <td>1.540647</td>\n",
       "    </tr>\n",
       "    <tr>\n",
       "      <td>9000</td>\n",
       "      <td>1.488500</td>\n",
       "      <td>1.475800</td>\n",
       "    </tr>\n",
       "    <tr>\n",
       "      <td>10000</td>\n",
       "      <td>1.447200</td>\n",
       "      <td>1.489802</td>\n",
       "    </tr>\n",
       "    <tr>\n",
       "      <td>11000</td>\n",
       "      <td>1.487300</td>\n",
       "      <td>1.451483</td>\n",
       "    </tr>\n",
       "    <tr>\n",
       "      <td>12000</td>\n",
       "      <td>1.412300</td>\n",
       "      <td>1.414320</td>\n",
       "    </tr>\n",
       "    <tr>\n",
       "      <td>13000</td>\n",
       "      <td>1.314400</td>\n",
       "      <td>1.413986</td>\n",
       "    </tr>\n",
       "    <tr>\n",
       "      <td>14000</td>\n",
       "      <td>1.390600</td>\n",
       "      <td>1.435008</td>\n",
       "    </tr>\n",
       "    <tr>\n",
       "      <td>15000</td>\n",
       "      <td>1.344100</td>\n",
       "      <td>1.465850</td>\n",
       "    </tr>\n",
       "    <tr>\n",
       "      <td>16000</td>\n",
       "      <td>1.366800</td>\n",
       "      <td>1.444302</td>\n",
       "    </tr>\n",
       "    <tr>\n",
       "      <td>17000</td>\n",
       "      <td>1.291100</td>\n",
       "      <td>1.493030</td>\n",
       "    </tr>\n",
       "    <tr>\n",
       "      <td>18000</td>\n",
       "      <td>1.433600</td>\n",
       "      <td>1.533775</td>\n",
       "    </tr>\n",
       "    <tr>\n",
       "      <td>19000</td>\n",
       "      <td>1.411800</td>\n",
       "      <td>1.417817</td>\n",
       "    </tr>\n",
       "    <tr>\n",
       "      <td>20000</td>\n",
       "      <td>1.320400</td>\n",
       "      <td>1.440792</td>\n",
       "    </tr>\n",
       "    <tr>\n",
       "      <td>21000</td>\n",
       "      <td>1.325700</td>\n",
       "      <td>1.363083</td>\n",
       "    </tr>\n",
       "    <tr>\n",
       "      <td>22000</td>\n",
       "      <td>1.320100</td>\n",
       "      <td>1.361983</td>\n",
       "    </tr>\n",
       "  </tbody>\n",
       "</table><p>"
      ],
      "text/plain": [
       "<IPython.core.display.HTML object>"
      ]
     },
     "metadata": {},
     "output_type": "display_data"
    }
   ],
   "source": [
    "from transformers import Trainer\n",
    "from ruprompts.callbacks import (\n",
    "    FreezeTransformerUnfreezePrompt,\n",
    "    ReduceCheckpoint,\n",
    "    SavePretrainedPrompt,\n",
    ")\n",
    "\n",
    "trainer = Trainer(\n",
    "    model=model,\n",
    "    args=training_args,\n",
    "    train_dataset=train_dataset,\n",
    "    eval_dataset=valid_dataset,\n",
    "    data_collator=preprocessor.collate_fn(),\n",
    "    optimizers=(optimizer, scheduler),\n",
    "    callbacks=[FreezeTransformerUnfreezePrompt(), ReduceCheckpoint(), SavePretrainedPrompt(prompt)],\n",
    ")\n",
    "\n",
    "trainer.train()"
   ]
  },
  {
   "cell_type": "markdown",
   "id": "edbb7e0d-067f-4b8a-9f0a-cba67e760d41",
   "metadata": {},
   "source": [
    "### 3.3 Inference"
   ]
  },
  {
   "cell_type": "code",
   "execution_count": 14,
   "id": "2170dbc8-5f9a-430a-82b8-1d059f559c0f",
   "metadata": {},
   "outputs": [],
   "source": [
    "from transformers import pipeline\n",
    "\n",
    "prompt = Prompt.from_pretrained(f\"./checkpoint-{training_args.max_steps}\")\n",
    "\n",
    "ppln = pipeline(\"text2text-generation-with-prompt\", prompt=prompt, model=model, tokenizer=tokenizer, device=0)"
   ]
  },
  {
   "cell_type": "code",
   "execution_count": 15,
   "id": "dcd5b56d-fa98-413d-a62f-376a0a8c1a9a",
   "metadata": {},
   "outputs": [
    {
     "name": "stderr",
     "output_type": "stream",
     "text": [
      "Setting `pad_token_id` to `eos_token_id`:0 for open-end generation.\n"
     ]
    },
    {
     "data": {
      "text/plain": [
       "[{'generated_text': 'А ну иди сюда'},\n",
       " {'generated_text': 'а ну иди сюда'},\n",
       " {'generated_text': 'Ну иди сюда'},\n",
       " {'generated_text': 'Плохой человек, а ну иди сюда'},\n",
       " {'generated_text': 'Ну, иди сюда'},\n",
       " {'generated_text': 'Уходи'},\n",
       " {'generated_text': 'Отстань от меня'},\n",
       " {'generated_text': 'Отстань'},\n",
       " {'generated_text': 'А ну давай сюда'},\n",
       " {'generated_text': 'А ну, иди сюда'}]"
      ]
     },
     "execution_count": 15,
     "metadata": {},
     "output_type": "execute_result"
    }
   ],
   "source": [
    "query = \"Ублюдок, мать твою, а ну иди сюда\"\n",
    "options = ppln({\"toxic_comment\": query}, \n",
    "            do_sample=False,           \n",
    "            num_beams=10,\n",
    "            num_return_sequences=10\n",
    "              )\n",
    "options"
   ]
  },
  {
   "cell_type": "markdown",
   "id": "6c2e1d1e-66f4-40b8-b862-25bdb2b33a53",
   "metadata": {},
   "source": [
    "### 3.4 Metric hacking"
   ]
  },
  {
   "cell_type": "code",
   "execution_count": 17,
   "id": "1013f3b3-5853-49d6-8dcc-a70ec8d9722c",
   "metadata": {},
   "outputs": [
    {
     "data": {
      "application/vnd.jupyter.widget-view+json": {
       "model_id": "8aaf43076f674d8bbcf89e70377d11a5",
       "version_major": 2,
       "version_minor": 0
      },
      "text/plain": [
       "  0%|          | 0/1 [00:00<?, ?it/s]"
      ]
     },
     "metadata": {},
     "output_type": "display_data"
    },
    {
     "data": {
      "text/plain": [
       "array([0.10729373], dtype=float32)"
      ]
     },
     "execution_count": 17,
     "metadata": {},
     "output_type": "execute_result"
    }
   ],
   "source": [
    "# используем метрики для соревнования и попробуем посчитать скор для нашей пары - запрос / ответ\n",
    "use_cuda = True\n",
    "\n",
    "from ru_detoxification_evaluation import load_model\n",
    "from ru_detoxification_metrics import evaluate_style\n",
    "\n",
    "from transformers import AutoTokenizer, AutoModelForSequenceClassification, AutoModel\n",
    "from ru_detoxification_metrics import evaluate_cosine_similarity\n",
    "from ru_detoxification_metrics import evaluate_cola_relative\n",
    "\n",
    "style_model, style_tokenizer = load_model('SkolkovoInstitute/russian_toxicity_classifier', use_cuda=use_cuda)\n",
    "\n",
    "accuracy = evaluate_style(\n",
    "    model = style_model,\n",
    "    tokenizer = style_tokenizer,\n",
    "    texts = [query],\n",
    "    target_label=0,  # 1 is toxic, 0 is neutral\n",
    "    batch_size=32, \n",
    "    verbose=True\n",
    ")\n",
    "accuracy"
   ]
  },
  {
   "cell_type": "code",
   "execution_count": 18,
   "id": "63c316a3-181a-4e1c-9342-7bddab64fccc",
   "metadata": {},
   "outputs": [
    {
     "name": "stderr",
     "output_type": "stream",
     "text": [
      "Some weights of the model checkpoint at cointegrated/LaBSE-en-ru were not used when initializing BertModel: ['cls.seq_relationship.weight', 'cls.predictions.decoder.bias', 'cls.predictions.bias', 'cls.predictions.transform.dense.weight', 'cls.predictions.transform.LayerNorm.weight', 'cls.seq_relationship.bias', 'cls.predictions.transform.LayerNorm.bias', 'cls.predictions.transform.dense.bias', 'cls.predictions.decoder.weight']\n",
      "- This IS expected if you are initializing BertModel from the checkpoint of a model trained on another task or with another architecture (e.g. initializing a BertForSequenceClassification model from a BertForPreTraining model).\n",
      "- This IS NOT expected if you are initializing BertModel from the checkpoint of a model that you expect to be exactly identical (initializing a BertForSequenceClassification model from a BertForSequenceClassification model).\n"
     ]
    },
    {
     "data": {
      "application/vnd.jupyter.widget-view+json": {
       "model_id": "73d31e1215b04c6bbad069e29130c7fa",
       "version_major": 2,
       "version_minor": 0
      },
      "text/plain": [
       "  0%|          | 0/1 [00:00<?, ?it/s]"
      ]
     },
     "metadata": {},
     "output_type": "display_data"
    },
    {
     "data": {
      "application/vnd.jupyter.widget-view+json": {
       "model_id": "bbac77d11f12417fbbe74f87add5452f",
       "version_major": 2,
       "version_minor": 0
      },
      "text/plain": [
       "  0%|          | 0/1 [00:00<?, ?it/s]"
      ]
     },
     "metadata": {},
     "output_type": "display_data"
    },
    {
     "data": {
      "text/plain": [
       "array([0.42332578], dtype=float32)"
      ]
     },
     "execution_count": 18,
     "metadata": {},
     "output_type": "execute_result"
    }
   ],
   "source": [
    "meaning_model, meaning_tokenizer = load_model('cointegrated/LaBSE-en-ru', use_cuda=use_cuda, model_class=AutoModel)\n",
    "similarity = evaluate_cosine_similarity(\n",
    "    model = meaning_model,\n",
    "    tokenizer = meaning_tokenizer,\n",
    "    original_texts = [query],\n",
    "    rewritten_texts = [options[0]['generated_text']],\n",
    "    batch_size=32,\n",
    "    verbose=True,\n",
    "    )\n",
    "similarity"
   ]
  },
  {
   "cell_type": "code",
   "execution_count": 19,
   "id": "d6de4fbe-e72f-4bbc-afa5-5b01c7ee1867",
   "metadata": {},
   "outputs": [
    {
     "data": {
      "application/vnd.jupyter.widget-view+json": {
       "model_id": "11b06b2d109147a19424609f8e38fd4f",
       "version_major": 2,
       "version_minor": 0
      },
      "text/plain": [
       "  0%|          | 0/1 [00:00<?, ?it/s]"
      ]
     },
     "metadata": {},
     "output_type": "display_data"
    },
    {
     "data": {
      "application/vnd.jupyter.widget-view+json": {
       "model_id": "a6576faaa7b4424d9850db6f3662a159",
       "version_major": 2,
       "version_minor": 0
      },
      "text/plain": [
       "  0%|          | 0/1 [00:00<?, ?it/s]"
      ]
     },
     "metadata": {},
     "output_type": "display_data"
    },
    {
     "data": {
      "text/plain": [
       "array([0.9671553], dtype=float32)"
      ]
     },
     "execution_count": 19,
     "metadata": {},
     "output_type": "execute_result"
    }
   ],
   "source": [
    "cola_model, cola_tolenizer = load_model('SkolkovoInstitute/rubert-base-corruption-detector', use_cuda=use_cuda)\n",
    "fluency = evaluate_cola_relative(\n",
    "    model = cola_model,\n",
    "    tokenizer = cola_tolenizer,\n",
    "    original_texts = [query],\n",
    "    rewritten_texts = [options[0]['generated_text']],\n",
    "    target_label=1,\n",
    "    batch_size=32,\n",
    "    verbose=True\n",
    ")\n",
    "fluency"
   ]
  },
  {
   "cell_type": "code",
   "execution_count": 20,
   "id": "f7abfb16-62ee-4dc8-82b5-62f6ad153475",
   "metadata": {},
   "outputs": [
    {
     "data": {
      "text/plain": [
       "array([0.04392838], dtype=float32)"
      ]
     },
     "execution_count": 20,
     "metadata": {},
     "output_type": "execute_result"
    }
   ],
   "source": [
    "joint = accuracy * similarity * fluency\n",
    "joint"
   ]
  },
  {
   "cell_type": "code",
   "execution_count": 22,
   "id": "e742e636-2562-46d2-913f-9587aab8366b",
   "metadata": {},
   "outputs": [
    {
     "data": {
      "application/vnd.jupyter.widget-view+json": {
       "model_id": "5a8b6a89128e4b6e857b00943ff11594",
       "version_major": 2,
       "version_minor": 0
      },
      "text/plain": [
       "  0%|          | 0/1 [00:00<?, ?it/s]"
      ]
     },
     "metadata": {},
     "output_type": "display_data"
    },
    {
     "data": {
      "application/vnd.jupyter.widget-view+json": {
       "model_id": "a7d4117883164f0fb4f3e8f60d17dd75",
       "version_major": 2,
       "version_minor": 0
      },
      "text/plain": [
       "  0%|          | 0/1 [00:00<?, ?it/s]"
      ]
     },
     "metadata": {},
     "output_type": "display_data"
    },
    {
     "data": {
      "application/vnd.jupyter.widget-view+json": {
       "model_id": "4aeef885a48d455ba01febd8444d1726",
       "version_major": 2,
       "version_minor": 0
      },
      "text/plain": [
       "  0%|          | 0/1 [00:00<?, ?it/s]"
      ]
     },
     "metadata": {},
     "output_type": "display_data"
    },
    {
     "data": {
      "application/vnd.jupyter.widget-view+json": {
       "model_id": "584a33209b264497bc8a195903f7513c",
       "version_major": 2,
       "version_minor": 0
      },
      "text/plain": [
       "  0%|          | 0/1 [00:00<?, ?it/s]"
      ]
     },
     "metadata": {},
     "output_type": "display_data"
    },
    {
     "data": {
      "application/vnd.jupyter.widget-view+json": {
       "model_id": "43ef6b76ae79433dacabb48da7f5b98b",
       "version_major": 2,
       "version_minor": 0
      },
      "text/plain": [
       "  0%|          | 0/1 [00:00<?, ?it/s]"
      ]
     },
     "metadata": {},
     "output_type": "display_data"
    },
    {
     "data": {
      "text/plain": [
       "array([0.07616657], dtype=float32)"
      ]
     },
     "execution_count": 22,
     "metadata": {},
     "output_type": "execute_result"
    }
   ],
   "source": [
    "from nltk.translate.chrf_score import corpus_chrf\n",
    "\n",
    "def calc_score(toxic_text, prediction):\n",
    "    accuracy = evaluate_style(\n",
    "    model = style_model,\n",
    "    tokenizer = style_tokenizer,\n",
    "    texts = [prediction],\n",
    "    target_label=0,  # 1 is toxic, 0 is neutral\n",
    "    batch_size=32, \n",
    "    verbose=True\n",
    "    )\n",
    "    \n",
    "    similarity = evaluate_cosine_similarity(\n",
    "    model = meaning_model,\n",
    "    tokenizer = meaning_tokenizer,\n",
    "    original_texts = [toxic_text],\n",
    "    rewritten_texts = [prediction],\n",
    "    batch_size=32,\n",
    "    verbose=True,\n",
    "    )\n",
    "    \n",
    "    fluency = evaluate_cola_relative(\n",
    "    model = cola_model,\n",
    "    tokenizer = cola_tolenizer,\n",
    "    original_texts = [toxic_text],\n",
    "    rewritten_texts = [prediction],\n",
    "    target_label=1,\n",
    "    batch_size=32,\n",
    "    verbose=True\n",
    "    )\n",
    "    \n",
    "    return accuracy * similarity * fluency\n",
    "    \n",
    "calc_score(query, options[3]['generated_text'])\n",
    "\n",
    "# а это хитрое расстояние от нейтрального текста (в тестовой выборке) к переписанному, как его тут учесть?\n",
    "# corpus_chrf(neutral_references, rewritten)"
   ]
  },
  {
   "cell_type": "markdown",
   "id": "b87b3ea2-6aaa-4148-9a1e-cbdccaed0135",
   "metadata": {},
   "source": [
    "### 3.5. RUN INFERENCE"
   ]
  },
  {
   "cell_type": "code",
   "execution_count": null,
   "id": "c985967b-eb88-4e32-8fb0-9f492fbba2d2",
   "metadata": {},
   "outputs": [],
   "source": [
    "from tqdm import tqdm\n",
    "import transformers\n",
    "import numpy as np\n",
    "\n",
    "# будем скорить таким образом:\n",
    "#  - генерируем 10 кандидатов с помощью модели\n",
    "#  - скорим их по нашей метрике Joint Score\n",
    "#  - выбираем кандидата с максимальным скором\n",
    "transformers.logging.set_verbosity_error()\n",
    "\n",
    "beam_count = 10 \n",
    "\n",
    "predictions = []\n",
    "\n",
    "with open(\"task2/test.tsv\", \"r\") as test_f:\n",
    "    with open(\"task2/test_submission.txt\", \"w\") as f:\n",
    "        for line in test_f:\n",
    "            query = line.strip(\"\\r\\n\")\n",
    "            options = ppln(\n",
    "                {\"toxic_comment\": query},\n",
    "                do_sample=False,\n",
    "                num_beams=beam_count,\n",
    "                num_return_sequences=beam_count,\n",
    "            )\n",
    "\n",
    "            options = [opt[\"generated_text\"].replace(\"<pad>\", \"\") for opt in options]\n",
    "            scores  = [calc_score(query, opt) for opt in options]\n",
    "            answer = options[np.argmax(scores)]\n",
    "            predictions.append(answer)\n",
    "            f.write(answer.replace(\"\\n\", \"\") + \"\\n\")"
   ]
  },
  {
   "cell_type": "code",
   "execution_count": null,
   "id": "3fb897ac-d83d-4391-997a-1d2e83de62d9",
   "metadata": {},
   "outputs": [],
   "source": []
  },
  {
   "cell_type": "markdown",
   "id": "bc9f4531-6606-4316-b2b3-22d0bfc86b81",
   "metadata": {},
   "source": [
    "### 3.6. OpenAI interface"
   ]
  },
  {
   "cell_type": "code",
   "execution_count": null,
   "id": "870ff99f-72f1-49f0-9591-f6e422aeed55",
   "metadata": {},
   "outputs": [],
   "source": [
    "!pip install openai"
   ]
  },
  {
   "cell_type": "code",
   "execution_count": null,
   "id": "843e8503-359b-4687-bc40-727fc345ea91",
   "metadata": {},
   "outputs": [],
   "source": [
    "# ключ к API не дам, он у меня лимитированный на другую команду :))\n",
    "import os\n",
    "import openai\n",
    "openai.api_key = \"XXX\""
   ]
  },
  {
   "cell_type": "code",
   "execution_count": null,
   "id": "e22592e5-7b88-4ffe-bdaf-3250c2d16c1e",
   "metadata": {},
   "outputs": [],
   "source": [
    "def rewrite_open_ai(text):\n",
    "    query = f\"Переформулируй текст без вульгарных выражений: {text}\"\n",
    "    response = openai.ChatCompletion.create(\n",
    "      model=\"gpt-3.5-turbo\",\n",
    "        messages=[\n",
    "        {\"role\": \"user\", \"content\": query}\n",
    "      ] ,\n",
    "      # prompt=query,\n",
    "      temperature=0,\n",
    "      max_tokens=500,\n",
    "      top_p=1.0,\n",
    "      frequency_penalty=0.0,\n",
    "      presence_penalty=0.0,\n",
    "      stop=[\"\\n\"]\n",
    "    )\n",
    "    return response['choices'][0]['message']['content']\n",
    "\n",
    "rewrite_open_ai(\"какой дебил эту придумывает \")"
   ]
  },
  {
   "cell_type": "code",
   "execution_count": null,
   "id": "5d8fac87-3051-4d6c-be41-e9275a52ff61",
   "metadata": {},
   "outputs": [],
   "source": [
    "import time\n",
    "time.sleep(0.5)"
   ]
  },
  {
   "cell_type": "code",
   "execution_count": null,
   "id": "5584ebbb-bd71-4e4b-be84-eae59c555dab",
   "metadata": {},
   "outputs": [],
   "source": [
    "with open(\"task2/test.tsv\", \"r\") as test_f:\n",
    "    with open(\"task2/test_open_ai_submission.txt\", \"w\") as f:\n",
    "        for idx, line in enumerate(test_f):\n",
    "            # ядро периодически почему-то падает, поэтому приходилось перезапускать скоринг \n",
    "            # и выполнять с какой-то строчки\n",
    "            if idx < 718:\n",
    "                continue\n",
    "            answer = rewrite_open_ai(line.strip(\"\\r\\n\"))\n",
    "            time.sleep(0.5)\n",
    "            print(idx, '-> ', line.strip(\"\\r\\n\"), ' -> ', answer)\n",
    "            f.write(answer.replace(\"\\n\", \"\") + \"\\n\")"
   ]
  }
 ],
 "metadata": {
  "kernelspec": {
   "display_name": "Python 3 (ipykernel)",
   "language": "python",
   "name": "python3"
  },
  "language_info": {
   "codemirror_mode": {
    "name": "ipython",
    "version": 3
   },
   "file_extension": ".py",
   "mimetype": "text/x-python",
   "name": "python",
   "nbconvert_exporter": "python",
   "pygments_lexer": "ipython3",
   "version": "3.7.12"
  }
 },
 "nbformat": 4,
 "nbformat_minor": 5
}
