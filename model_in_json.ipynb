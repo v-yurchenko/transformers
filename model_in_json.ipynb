{
 "cells": [
  {
   "cell_type": "code",
   "execution_count": 67,
   "id": "0b12cfa5-8d33-4861-abf3-a3a7dfe92f45",
   "metadata": {},
   "outputs": [],
   "source": [
    "import torch\n",
    "import torch.nn as nn\n",
    "import torch.optim as optim\n",
    "import torch.nn.functional as F"
   ]
  },
  {
   "cell_type": "code",
   "execution_count": 69,
   "id": "9359632b-25a8-4768-8dee-84b24050d8a4",
   "metadata": {},
   "outputs": [
    {
     "name": "stdout",
     "output_type": "stream",
     "text": [
      "Model's state_dict:\n",
      "conv1.weight \t torch.Size([6, 3, 5, 5])\n",
      "conv1.bias \t torch.Size([6])\n",
      "conv2.weight \t torch.Size([16, 6, 5, 5])\n",
      "conv2.bias \t torch.Size([16])\n",
      "fc1.weight \t torch.Size([120, 400])\n",
      "fc1.bias \t torch.Size([120])\n",
      "fc2.weight \t torch.Size([84, 120])\n",
      "fc2.bias \t torch.Size([84])\n",
      "fc3.weight \t torch.Size([10, 84])\n",
      "fc3.bias \t torch.Size([10])\n",
      "Optimizer's state_dict:\n",
      "state \t {}\n",
      "param_groups \t [{'lr': 0.001, 'momentum': 0.9, 'dampening': 0, 'weight_decay': 0, 'nesterov': False, 'params': [0, 1, 2, 3, 4, 5, 6, 7, 8, 9]}]\n"
     ]
    }
   ],
   "source": [
    "# Define model\n",
    "class TheModelClass(nn.Module):\n",
    "    def __init__(self):\n",
    "        super(TheModelClass, self).__init__()\n",
    "        self.conv1 = nn.Conv2d(3, 6, 5)\n",
    "        self.pool = nn.MaxPool2d(2, 2)\n",
    "        self.conv2 = nn.Conv2d(6, 16, 5)\n",
    "        self.fc1 = nn.Linear(16 * 5 * 5, 120)\n",
    "        self.fc2 = nn.Linear(120, 84)\n",
    "        self.fc3 = nn.Linear(84, 10)\n",
    "\n",
    "    def forward(self, x):\n",
    "        x = self.pool(F.relu(self.conv1(x)))\n",
    "        x = self.pool(F.relu(self.conv2(x)))\n",
    "        x = x.view(-1, 16 * 5 * 5)\n",
    "        x = F.relu(self.fc1(x))\n",
    "        x = F.relu(self.fc2(x))\n",
    "        x = self.fc3(x)\n",
    "        return x\n",
    "\n",
    "# Initialize model\n",
    "model = TheModelClass()\n",
    "\n",
    "# Initialize optimizer\n",
    "optimizer = optim.SGD(model.parameters(), lr=0.001, momentum=0.9)\n",
    "\n",
    "# Print model's state_dict\n",
    "print(\"Model's state_dict:\")\n",
    "for param_tensor in model.state_dict():\n",
    "    print(param_tensor, \"\\t\", model.state_dict()[param_tensor].size())\n",
    "\n",
    "# Print optimizer's state_dict\n",
    "print(\"Optimizer's state_dict:\")\n",
    "for var_name in optimizer.state_dict():\n",
    "    print(var_name, \"\\t\", optimizer.state_dict()[var_name])"
   ]
  },
  {
   "cell_type": "code",
   "execution_count": 60,
   "id": "6fbd5ff2-a5cd-4239-8af2-dc16f438ba43",
   "metadata": {},
   "outputs": [],
   "source": [
    "import torch\n",
    "from torch.utils.data import Dataset\n",
    "\n",
    "from json import JSONEncoder\n",
    "import json\n",
    "\n",
    "# Сохраняем словарь с весами в файл c именем fn (формат json) веса модели \n",
    "def save_model_json(fn, model):\n",
    "    class EncodeTensor(JSONEncoder,Dataset):\n",
    "        def default(self, obj):\n",
    "            if isinstance(obj, torch.Tensor):\n",
    "                return obj.cpu().detach().numpy().tolist()\n",
    "            return super(NpEncoder, self).default(obj)\n",
    "\n",
    "    with open(fn, 'w') as json_file:\n",
    "        json.dump(model.state_dict(), json_file, cls=EncodeTensor)\n",
    "\n",
    "# Загружаем из json файла с именем fn веса модели         \n",
    "def load_model_json(fn):\n",
    "    with open(fn, 'r') as json_file:\n",
    "        state_dict = json.load(json_file)\n",
    "    for layer in state_dict:\n",
    "        state_dict[layer] = torch.Tensor(state_dict[layer])\n",
    "    return state_dict"
   ]
  },
  {
   "cell_type": "code",
   "execution_count": 80,
   "id": "b43afc8f-c17d-4d98-9635-ba63cbfe1b2b",
   "metadata": {},
   "outputs": [],
   "source": [
    "save_model_json('torch_w.json', model)"
   ]
  },
  {
   "cell_type": "code",
   "execution_count": 81,
   "id": "c4221cda-d5a2-41a7-a47d-64601ecd36f6",
   "metadata": {},
   "outputs": [
    {
     "data": {
      "text/plain": [
       "<All keys matched successfully>"
      ]
     },
     "execution_count": 81,
     "metadata": {},
     "output_type": "execute_result"
    }
   ],
   "source": [
    "model.load_state_dict(load_model_json('torch_w.json')) "
   ]
  },
  {
   "cell_type": "code",
   "execution_count": null,
   "id": "2eb7bd9c-82ca-44b1-8e7d-fc9e97031823",
   "metadata": {},
   "outputs": [],
   "source": [
    "model.to('cuda:0')"
   ]
  },
  {
   "cell_type": "code",
   "execution_count": null,
   "id": "f448bee6-2d7b-4a08-8432-421beab07397",
   "metadata": {},
   "outputs": [],
   "source": [
    "t = torch.rand(100, 3, 32, 32)\n",
    "t[1]"
   ]
  },
  {
   "cell_type": "code",
   "execution_count": null,
   "id": "84dbd3cf-b7cd-40b9-b1f4-9e82ec685b77",
   "metadata": {},
   "outputs": [],
   "source": [
    "model(t)"
   ]
  },
  {
   "cell_type": "code",
   "execution_count": null,
   "id": "00436e56-4899-4e6e-a10c-ea311e0ce451",
   "metadata": {},
   "outputs": [],
   "source": []
  }
 ],
 "metadata": {
  "kernelspec": {
   "display_name": "Python 3 (ipykernel)",
   "language": "python",
   "name": "python3"
  },
  "language_info": {
   "codemirror_mode": {
    "name": "ipython",
    "version": 3
   },
   "file_extension": ".py",
   "mimetype": "text/x-python",
   "name": "python",
   "nbconvert_exporter": "python",
   "pygments_lexer": "ipython3",
   "version": "3.7.12"
  }
 },
 "nbformat": 4,
 "nbformat_minor": 5
}
